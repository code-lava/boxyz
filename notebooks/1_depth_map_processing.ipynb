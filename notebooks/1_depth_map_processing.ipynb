{
 "cells": [
  {
   "cell_type": "markdown",
   "id": "2d195bf7",
   "metadata": {},
   "source": [
    "# BoXYZ - Depth Map Processing\n",
    "\n",
    "Process the depth map to create a 3D point cloud and visualize it using Open3D\n"
   ]
  },
  {
   "cell_type": "code",
   "execution_count": 1,
   "id": "c5ae8ddc3744a6ed",
   "metadata": {
    "ExecuteTime": {
     "end_time": "2025-05-02T07:21:26.944902Z",
     "start_time": "2025-05-02T07:21:26.943052Z"
    }
   },
   "outputs": [
    {
     "name": "stdout",
     "output_type": "stream",
     "text": [
      "\n",
      "\u001B[1m[\u001B[0m\u001B[34;49mnotice\u001B[0m\u001B[1;39;49m]\u001B[0m\u001B[39;49m A new release of pip is available: \u001B[0m\u001B[31;49m24.3.1\u001B[0m\u001B[39;49m -> \u001B[0m\u001B[32;49m25.1\u001B[0m\n",
      "\u001B[1m[\u001B[0m\u001B[34;49mnotice\u001B[0m\u001B[1;39;49m]\u001B[0m\u001B[39;49m To update, run: \u001B[0m\u001B[32;49mpip install --upgrade pip\u001B[0m\n",
      "Jupyter environment detected. Enabling Open3D WebVisualizer.\n",
      "[Open3D INFO] WebRTC GUI backend enabled.\n",
      "[Open3D INFO] WebRTCWindowSystem: HTTP handshake server disabled.\n"
     ]
    }
   ],
   "source": [
    "!pip install --quiet numpy matplotlib open3d\n",
    "\n",
    "import os\n",
    "\n",
    "import numpy as np\n",
    "import open3d as o3d\n",
    "import matplotlib.pyplot as plt\n",
    "from IPython.display import display"
   ]
  },
  {
   "cell_type": "code",
   "execution_count": 2,
   "id": "d52d197c5b1ecd74",
   "metadata": {},
   "outputs": [
    {
     "name": "stdout",
     "output_type": "stream",
     "text": [
      "Depth map shape (1544, 2064)\n"
     ]
    }
   ],
   "source": [
    "# get pcb from depth map\n",
    "intrinsics_filename = os.path.join('..', 'assets', 'intrinsics.npy')\n",
    "K = np.load(intrinsics_filename)\n",
    "\n",
    "depth_filename = os.path.join('..', 'assets', 'one-box.depth.npdata.npy')\n",
    "xyz = np.load(depth_filename)\n",
    "print('Depth map shape', xyz.shape)\n",
    "\n",
    "h, w = xyz.shape\n",
    "v, u = np.mgrid[0:h, 0:w]\n",
    "\n",
    "u = u.flatten()\n",
    "v = v.flatten()\n",
    "z = xyz.flatten()\n",
    "valid = z > 0\n",
    "u = u[valid]\n",
    "v = v[valid]\n",
    "z = z[valid]\n",
    "\n",
    "fx, fy = K[0, 0], K[1, 1]\n",
    "cx, cy = K[0, 2], K[1, 2]\n",
    "x = (u - cx) * z / fx\n",
    "y = (v - cy) * z / fy\n",
    "\n",
    "xyz = np.column_stack([x, y, z])\n",
    "        \n",
    "pcb = o3d.geometry.PointCloud()\n",
    "pcb.points = o3d.utility.Vector3dVector(xyz)"
   ]
  },
  {
   "cell_type": "code",
   "execution_count": 3,
   "id": "b73216c5",
   "metadata": {},
   "outputs": [
    {
     "name": "stdout",
     "output_type": "stream",
     "text": [
      "Color data shape (1544, 2064)\n"
     ]
    }
   ],
   "source": [
    "# add colors to pcb\n",
    "color_filename = os.path.join('..', 'assets', 'one-box.color.npdata.npy')\n",
    "pcb_col = np.load(color_filename)\n",
    "print('Color data shape', pcb_col.shape)\n",
    "\n",
    "colors = pcb_col.reshape(-1, 3)\n",
    "colors = colors / 255.0\n",
    "pcb.colors = o3d.utility.Vector3dVector(colors)"
   ]
  },
  {
   "cell_type": "code",
   "execution_count": 4,
   "id": "e5492ab9",
   "metadata": {},
   "outputs": [],
   "source": [
    "# is this necessary? leave it for now\n",
    "# pcb.estimate_normals(search_param=o3d.geometry.KDTreeSearchParamHybrid(radius=0.1, max_nn=30))\n",
    "# pcb.orient_normals_towards_camera_location(camera_location=np.array([0., 0., 0.]))\n"
   ]
  },
  {
   "cell_type": "code",
   "execution_count": null,
   "id": "6360de8f",
   "metadata": {},
   "outputs": [],
   "source": [
    "# visualize the pcb\n",
    "def visualize_pcb_with_snapshots(pcb):\n",
    "    o3d.io.write_point_cloud(os.path.join('..', 'assets', 'one-box.pcb.ply'), pcb)\n",
    "    \n",
    "    vis = o3d.visualization.Visualizer()\n",
    "    vis.create_window(window_name='Point Cloud Visualization', visible=False)\n",
    "    vis.add_geometry(pcb)\n",
    "    \n",
    "    # add camera coordinate frame\n",
    "    camera_frame = o3d.geometry.TriangleMesh.create_coordinate_frame(size=0.3, origin=[0, 0, 0])\n",
    "    vis.add_geometry(camera_frame)\n",
    "    \n",
    "    opt = vis.get_render_option()\n",
    "    opt.background_color = np.array([0.1, 0.1, 0.1])\n",
    "    opt.point_size = 2.0\n",
    "    \n",
    "    # setup camera views for snapshots\n",
    "    snapshots = []\n",
    "    view_names = [\"Fronte view\", \"Side view\", \"Back view\", \"Diag view\"]\n",
    "    view_angles = [\n",
    "        (np.pi, np.pi, np.pi),\n",
    "        (0, np.pi/2, 0),\n",
    "        (0, np.pi, 0),\n",
    "        (np.pi/4, np.pi/4, 0)\n",
    "    ]\n",
    "    \n",
    "    # capture snapshots from different angles\n",
    "    for i, (pitch, yaw, roll) in enumerate(view_angles):\n",
    "        ctr = vis.get_view_control()\n",
    "        ctr.change_field_of_view(step=60)\n",
    "        ctr.set_front([np.sin(yaw) * np.cos(pitch), np.sin(pitch), np.cos(yaw) * np.cos(pitch)])\n",
    "        ctr.set_lookat([0, 0, 0])\n",
    "        ctr.set_up([0, 1, 0])\n",
    "        vis.poll_events()\n",
    "        vis.update_renderer()\n",
    "        img = vis.capture_screen_float_buffer(do_render=True)\n",
    "        snapshots.append(np.asarray(img))\n",
    "        \n",
    "    vis.destroy_window()\n",
    "    \n",
    "    vis = o3d.visualization.Visualizer()\n",
    "    vis.create_window(window_name='Point Cloud Visualization')\n",
    "    vis.add_geometry(pcb)\n",
    "    vis.add_geometry(camera_frame)\n",
    "    opt = vis.get_render_option()\n",
    "    opt.background_color = np.array([0.1, 0.1, 0.1])\n",
    "    opt.point_size = 2.0\n",
    "    vis.run()\n",
    "    vis.destroy_window()\n",
    "    \n",
    "    # display snapshots\n",
    "    fig, axes = plt.subplots(2, 2, figsize=(12, 10))\n",
    "    axes = axes.flatten()\n",
    "    \n",
    "    for i, (img, view_name) in enumerate(zip(snapshots, view_names)):\n",
    "        axes[i].imshow(img)\n",
    "        axes[i].set_title(f'{view_name}')\n",
    "        axes[i].axis('off')\n",
    "    \n",
    "    plt.tight_layout()\n",
    "    plt.show()\n",
    "    \n",
    "visualize_pcb_with_snapshots(pcb)"
   ]
  },
  {
   "cell_type": "code",
   "execution_count": null,
   "id": "e53107c3",
   "metadata": {},
   "outputs": [],
   "source": []
  }
 ],
 "metadata": {
  "kernelspec": {
   "display_name": "Python 3",
   "language": "python",
   "name": "python3"
  },
  "language_info": {
   "codemirror_mode": {
    "name": "ipython",
    "version": 3
   },
   "file_extension": ".py",
   "mimetype": "text/x-python",
   "name": "python",
   "nbconvert_exporter": "python",
   "pygments_lexer": "ipython3",
   "version": "3.10.14"
  }
 },
 "nbformat": 4,
 "nbformat_minor": 5
}
