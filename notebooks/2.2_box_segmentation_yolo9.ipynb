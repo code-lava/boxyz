{
 "cells": [
  {
   "cell_type": "markdown",
   "id": "4ae0a220",
   "metadata": {
    "jupyter": {
     "is_executing": true
    }
   },
   "source": [
    "# BoXYZ - Ultralytics Segment YOLO Box\n",
    "\n",
    "⚠️⚠️⚠️ WARNING ⚠️⚠️⚠️ **MAKE SURE YOU DOWNLOADED AND PROCESSED THE SCD CARTON DATASET BY [RUNNING NOTEBOOK 2.1](./2.1_download_preprocess_datasets.ipynb)**"
   ]
  },
  {
   "cell_type": "code",
   "execution_count": 1,
   "id": "60aecd0d57822702",
   "metadata": {},
   "outputs": [
    {
     "name": "stdout",
     "output_type": "stream",
     "text": [
      "Collecting ultralytics\n",
      "  Downloading ultralytics-8.3.123-py3-none-any.whl.metadata (37 kB)\n",
      "Requirement already satisfied: numpy>=1.23.0 in /mnt/7A80B36880B32991/swap/micromamba/envs/lerobot/lib/python3.10/site-packages (from ultralytics) (2.2.5)\n",
      "Requirement already satisfied: matplotlib>=3.3.0 in /mnt/7A80B36880B32991/swap/micromamba/envs/lerobot/lib/python3.10/site-packages (from ultralytics) (3.8.4)\n",
      "Requirement already satisfied: opencv-python>=4.6.0 in /mnt/7A80B36880B32991/swap/micromamba/envs/lerobot/lib/python3.10/site-packages (from ultralytics) (4.9.0.80)\n",
      "Requirement already satisfied: pillow>=7.1.2 in /mnt/7A80B36880B32991/swap/micromamba/envs/lerobot/lib/python3.10/site-packages (from ultralytics) (10.3.0)\n",
      "Requirement already satisfied: pyyaml>=5.3.1 in /mnt/7A80B36880B32991/swap/micromamba/envs/lerobot/lib/python3.10/site-packages (from ultralytics) (6.0.2)\n",
      "Requirement already satisfied: requests>=2.23.0 in /home/abawi/.local/lib/python3.10/site-packages (from ultralytics) (2.31.0)\n",
      "Requirement already satisfied: scipy>=1.4.1 in /mnt/7A80B36880B32991/swap/micromamba/envs/lerobot/lib/python3.10/site-packages (from ultralytics) (1.13.0)\n",
      "Requirement already satisfied: torch>=1.8.0 in /mnt/7A80B36880B32991/swap/micromamba/envs/lerobot/lib/python3.10/site-packages (from ultralytics) (2.6.0)\n",
      "Requirement already satisfied: torchvision>=0.9.0 in /mnt/7A80B36880B32991/swap/micromamba/envs/lerobot/lib/python3.10/site-packages (from ultralytics) (0.21.0)\n",
      "Requirement already satisfied: tqdm>=4.64.0 in /mnt/7A80B36880B32991/swap/micromamba/envs/lerobot/lib/python3.10/site-packages (from ultralytics) (4.66.4)\n",
      "Requirement already satisfied: psutil in /mnt/7A80B36880B32991/swap/micromamba/envs/lerobot/lib/python3.10/site-packages (from ultralytics) (5.9.8)\n",
      "Collecting py-cpuinfo (from ultralytics)\n",
      "  Downloading py_cpuinfo-9.0.0-py3-none-any.whl.metadata (794 bytes)\n",
      "Requirement already satisfied: pandas>=1.1.4 in /mnt/7A80B36880B32991/swap/micromamba/envs/lerobot/lib/python3.10/site-packages (from ultralytics) (2.2.3)\n",
      "Collecting seaborn>=0.11.0 (from ultralytics)\n",
      "  Downloading seaborn-0.13.2-py3-none-any.whl.metadata (5.4 kB)\n",
      "Collecting ultralytics-thop>=2.0.0 (from ultralytics)\n",
      "  Downloading ultralytics_thop-2.0.14-py3-none-any.whl.metadata (9.4 kB)\n",
      "Requirement already satisfied: contourpy>=1.0.1 in /mnt/7A80B36880B32991/swap/micromamba/envs/lerobot/lib/python3.10/site-packages (from matplotlib>=3.3.0->ultralytics) (1.2.1)\n",
      "Requirement already satisfied: cycler>=0.10 in /mnt/7A80B36880B32991/swap/micromamba/envs/lerobot/lib/python3.10/site-packages (from matplotlib>=3.3.0->ultralytics) (0.12.1)\n",
      "Requirement already satisfied: fonttools>=4.22.0 in /mnt/7A80B36880B32991/swap/micromamba/envs/lerobot/lib/python3.10/site-packages (from matplotlib>=3.3.0->ultralytics) (4.51.0)\n",
      "Requirement already satisfied: kiwisolver>=1.3.1 in /mnt/7A80B36880B32991/swap/micromamba/envs/lerobot/lib/python3.10/site-packages (from matplotlib>=3.3.0->ultralytics) (1.4.5)\n",
      "Requirement already satisfied: packaging>=20.0 in /mnt/7A80B36880B32991/swap/micromamba/envs/lerobot/lib/python3.10/site-packages (from matplotlib>=3.3.0->ultralytics) (24.1)\n",
      "Requirement already satisfied: pyparsing>=2.3.1 in /mnt/7A80B36880B32991/swap/micromamba/envs/lerobot/lib/python3.10/site-packages (from matplotlib>=3.3.0->ultralytics) (3.1.2)\n",
      "Requirement already satisfied: python-dateutil>=2.7 in /mnt/7A80B36880B32991/swap/micromamba/envs/lerobot/lib/python3.10/site-packages (from matplotlib>=3.3.0->ultralytics) (2.9.0.post0)\n",
      "Requirement already satisfied: pytz>=2020.1 in /mnt/7A80B36880B32991/swap/micromamba/envs/lerobot/lib/python3.10/site-packages (from pandas>=1.1.4->ultralytics) (2024.1)\n",
      "Requirement already satisfied: tzdata>=2022.7 in /mnt/7A80B36880B32991/swap/micromamba/envs/lerobot/lib/python3.10/site-packages (from pandas>=1.1.4->ultralytics) (2024.1)\n",
      "Requirement already satisfied: charset-normalizer<4,>=2 in /mnt/7A80B36880B32991/swap/micromamba/envs/lerobot/lib/python3.10/site-packages (from requests>=2.23.0->ultralytics) (2.1.1)\n",
      "Requirement already satisfied: idna<4,>=2.5 in /mnt/7A80B36880B32991/swap/micromamba/envs/lerobot/lib/python3.10/site-packages (from requests>=2.23.0->ultralytics) (3.3)\n",
      "Requirement already satisfied: urllib3<3,>=1.21.1 in /mnt/7A80B36880B32991/swap/micromamba/envs/lerobot/lib/python3.10/site-packages (from requests>=2.23.0->ultralytics) (1.26.13)\n",
      "Requirement already satisfied: certifi>=2017.4.17 in /mnt/7A80B36880B32991/swap/micromamba/envs/lerobot/lib/python3.10/site-packages (from requests>=2.23.0->ultralytics) (2022.12.7)\n",
      "Requirement already satisfied: filelock in /mnt/7A80B36880B32991/swap/micromamba/envs/lerobot/lib/python3.10/site-packages (from torch>=1.8.0->ultralytics) (3.13.1)\n",
      "Requirement already satisfied: typing-extensions>=4.10.0 in /mnt/7A80B36880B32991/swap/micromamba/envs/lerobot/lib/python3.10/site-packages (from torch>=1.8.0->ultralytics) (4.12.2)\n",
      "Requirement already satisfied: networkx in /mnt/7A80B36880B32991/swap/micromamba/envs/lerobot/lib/python3.10/site-packages (from torch>=1.8.0->ultralytics) (3.2.1)\n",
      "Requirement already satisfied: jinja2 in /mnt/7A80B36880B32991/swap/micromamba/envs/lerobot/lib/python3.10/site-packages (from torch>=1.8.0->ultralytics) (3.1.5)\n",
      "Requirement already satisfied: fsspec in /mnt/7A80B36880B32991/swap/micromamba/envs/lerobot/lib/python3.10/site-packages (from torch>=1.8.0->ultralytics) (2024.3.1)\n",
      "Requirement already satisfied: nvidia-cuda-nvrtc-cu12==12.4.127 in /mnt/7A80B36880B32991/swap/micromamba/envs/lerobot/lib/python3.10/site-packages (from torch>=1.8.0->ultralytics) (12.4.127)\n",
      "Requirement already satisfied: nvidia-cuda-runtime-cu12==12.4.127 in /mnt/7A80B36880B32991/swap/micromamba/envs/lerobot/lib/python3.10/site-packages (from torch>=1.8.0->ultralytics) (12.4.127)\n",
      "Requirement already satisfied: nvidia-cuda-cupti-cu12==12.4.127 in /mnt/7A80B36880B32991/swap/micromamba/envs/lerobot/lib/python3.10/site-packages (from torch>=1.8.0->ultralytics) (12.4.127)\n",
      "Requirement already satisfied: nvidia-cudnn-cu12==9.1.0.70 in /mnt/7A80B36880B32991/swap/micromamba/envs/lerobot/lib/python3.10/site-packages (from torch>=1.8.0->ultralytics) (9.1.0.70)\n",
      "Requirement already satisfied: nvidia-cublas-cu12==12.4.5.8 in /mnt/7A80B36880B32991/swap/micromamba/envs/lerobot/lib/python3.10/site-packages (from torch>=1.8.0->ultralytics) (12.4.5.8)\n",
      "Requirement already satisfied: nvidia-cufft-cu12==11.2.1.3 in /mnt/7A80B36880B32991/swap/micromamba/envs/lerobot/lib/python3.10/site-packages (from torch>=1.8.0->ultralytics) (11.2.1.3)\n",
      "Requirement already satisfied: nvidia-curand-cu12==10.3.5.147 in /mnt/7A80B36880B32991/swap/micromamba/envs/lerobot/lib/python3.10/site-packages (from torch>=1.8.0->ultralytics) (10.3.5.147)\n",
      "Requirement already satisfied: nvidia-cusolver-cu12==11.6.1.9 in /mnt/7A80B36880B32991/swap/micromamba/envs/lerobot/lib/python3.10/site-packages (from torch>=1.8.0->ultralytics) (11.6.1.9)\n",
      "Requirement already satisfied: nvidia-cusparse-cu12==12.3.1.170 in /mnt/7A80B36880B32991/swap/micromamba/envs/lerobot/lib/python3.10/site-packages (from torch>=1.8.0->ultralytics) (12.3.1.170)\n",
      "Requirement already satisfied: nvidia-cusparselt-cu12==0.6.2 in /mnt/7A80B36880B32991/swap/micromamba/envs/lerobot/lib/python3.10/site-packages (from torch>=1.8.0->ultralytics) (0.6.2)\n",
      "Requirement already satisfied: nvidia-nccl-cu12==2.21.5 in /mnt/7A80B36880B32991/swap/micromamba/envs/lerobot/lib/python3.10/site-packages (from torch>=1.8.0->ultralytics) (2.21.5)\n",
      "Requirement already satisfied: nvidia-nvtx-cu12==12.4.127 in /mnt/7A80B36880B32991/swap/micromamba/envs/lerobot/lib/python3.10/site-packages (from torch>=1.8.0->ultralytics) (12.4.127)\n",
      "Requirement already satisfied: nvidia-nvjitlink-cu12==12.4.127 in /mnt/7A80B36880B32991/swap/micromamba/envs/lerobot/lib/python3.10/site-packages (from torch>=1.8.0->ultralytics) (12.4.127)\n",
      "Requirement already satisfied: triton==3.2.0 in /mnt/7A80B36880B32991/swap/micromamba/envs/lerobot/lib/python3.10/site-packages (from torch>=1.8.0->ultralytics) (3.2.0)\n",
      "Requirement already satisfied: sympy==1.13.1 in /mnt/7A80B36880B32991/swap/micromamba/envs/lerobot/lib/python3.10/site-packages (from torch>=1.8.0->ultralytics) (1.13.1)\n",
      "Requirement already satisfied: mpmath<1.4,>=1.1.0 in /mnt/7A80B36880B32991/swap/micromamba/envs/lerobot/lib/python3.10/site-packages (from sympy==1.13.1->torch>=1.8.0->ultralytics) (1.3.0)\n"
     ]
    },
    {
     "name": "stdout",
     "output_type": "stream",
     "text": [
      "Requirement already satisfied: six>=1.5 in /mnt/7A80B36880B32991/swap/micromamba/envs/lerobot/lib/python3.10/site-packages (from python-dateutil>=2.7->matplotlib>=3.3.0->ultralytics) (1.16.0)\n",
      "Requirement already satisfied: MarkupSafe>=2.0 in /mnt/7A80B36880B32991/swap/micromamba/envs/lerobot/lib/python3.10/site-packages (from jinja2->torch>=1.8.0->ultralytics) (3.0.2)\n",
      "Downloading ultralytics-8.3.123-py3-none-any.whl (1.0 MB)\n",
      "\u001B[2K   \u001B[38;2;114;156;31m━━━━━━━━━━━━━━━━━━━━━━━━━━━━━━━━━━━━━━━━\u001B[0m \u001B[32m1.0/1.0 MB\u001B[0m \u001B[31m1.7 MB/s\u001B[0m eta \u001B[36m0:00:00\u001B[0m MB/s\u001B[0m eta \u001B[36m0:00:01\u001B[0m\n",
      "\u001B[?25hDownloading seaborn-0.13.2-py3-none-any.whl (294 kB)\n",
      "Downloading ultralytics_thop-2.0.14-py3-none-any.whl (26 kB)\n",
      "Downloading py_cpuinfo-9.0.0-py3-none-any.whl (22 kB)\n",
      "Installing collected packages: py-cpuinfo, seaborn, ultralytics-thop, ultralytics\n",
      "Successfully installed py-cpuinfo-9.0.0 seaborn-0.13.2 ultralytics-8.3.123 ultralytics-thop-2.0.14\n",
      "\n",
      "\u001B[1m[\u001B[0m\u001B[34;49mnotice\u001B[0m\u001B[1;39;49m]\u001B[0m\u001B[39;49m A new release of pip is available: \u001B[0m\u001B[31;49m24.3.1\u001B[0m\u001B[39;49m -> \u001B[0m\u001B[32;49m25.1\u001B[0m\n",
      "\u001B[1m[\u001B[0m\u001B[34;49mnotice\u001B[0m\u001B[1;39;49m]\u001B[0m\u001B[39;49m To update, run: \u001B[0m\u001B[32;49mpip install --upgrade pip\u001B[0m\n"
     ]
    }
   ],
   "source": [
    "!pip install ultralytics"
   ]
  },
  {
   "cell_type": "code",
   "execution_count": 2,
   "id": "028e552b",
   "metadata": {},
   "outputs": [
    {
     "name": "stdout",
     "output_type": "stream",
     "text": [
      "Creating new Ultralytics Settings v0.0.6 file ✅ \n",
      "View Ultralytics Settings with 'yolo settings' or at '/home/abawi/.config/Ultralytics/settings.json'\n",
      "Update Settings with 'yolo settings key=value', i.e. 'yolo settings runs_dir=path/to/dir'. For help see https://docs.ultralytics.com/quickstart/#ultralytics-settings.\n"
     ]
    }
   ],
   "source": [
    "from ultralytics import YOLO\n",
    "\n",
    "DS_LOCATION = \"/media/abawi/e38fddf9-a92e-4c73-b905-995771f8fc3a/datasets/segmentation\""
   ]
  },
  {
   "cell_type": "markdown",
   "id": "6318ef74",
   "metadata": {},
   "source": "## Pretrain YOLOv9c segmentation on OSCD\n"
  },
  {
   "cell_type": "code",
   "execution_count": 9,
   "id": "2dec886a",
   "metadata": {},
   "outputs": [
    {
     "name": "stdout",
     "output_type": "stream",
     "text": [
      "New https://pypi.org/project/ultralytics/8.3.124 available 😃 Update with 'pip install -U ultralytics'\n",
      "Ultralytics 8.3.123 🚀 Python-3.10.14 torch-2.6.0+cu124 CUDA:0 (NVIDIA GeForce RTX 3080 Ti, 12030MiB)\n",
      "\u001B[34m\u001B[1mengine/trainer: \u001B[0mtask=segment, mode=train, model=yolov9c-seg.pt, data=/media/abawi/e38fddf9-a92e-4c73-b905-995771f8fc3a/datasets/segmentation/yolo_style_fourclass/data.yaml, epochs=100, time=None, patience=100, batch=8, imgsz=640, save=True, save_period=-1, cache=False, device=None, workers=0, project=None, name=train4, exist_ok=False, pretrained=True, optimizer=auto, verbose=True, seed=0, deterministic=True, single_cls=False, rect=False, cos_lr=False, close_mosaic=10, resume=False, amp=True, fraction=1.0, profile=False, freeze=10, multi_scale=False, overlap_mask=True, mask_ratio=4, dropout=0.0, val=True, split=val, save_json=False, conf=None, iou=0.7, max_det=300, half=False, dnn=False, plots=True, source=None, vid_stride=1, stream_buffer=False, visualize=False, augment=False, agnostic_nms=False, classes=None, retina_masks=False, embed=None, show=False, save_frames=False, save_txt=False, save_conf=False, save_crop=False, show_labels=True, show_conf=True, show_boxes=True, line_width=None, format=torchscript, keras=False, optimize=False, int8=False, dynamic=False, simplify=True, opset=None, workspace=None, nms=False, lr0=0.001, lrf=0.01, momentum=0.937, weight_decay=0.0005, warmup_epochs=3.0, warmup_momentum=0.8, warmup_bias_lr=0.1, box=7.5, cls=0.5, dfl=1.5, pose=12.0, kobj=1.0, nbs=64, hsv_h=0.015, hsv_s=0.7, hsv_v=0.4, degrees=0.0, translate=0.1, scale=0.5, shear=0.0, perspective=0.0, flipud=0.0, fliplr=0.5, bgr=0.0, mosaic=1.0, mixup=0.0, cutmix=0.0, copy_paste=0.0, copy_paste_mode=flip, auto_augment=randaugment, erasing=0.4, cfg=None, tracker=botsort.yaml, save_dir=runs/segment/train4\n",
      "Overriding model.yaml nc=80 with nc=4\n",
      "\n",
      "                   from  n    params  module                                       arguments                     \n",
      "  0                  -1  1      1856  ultralytics.nn.modules.conv.Conv             [3, 64, 3, 2]                 \n",
      "  1                  -1  1     73984  ultralytics.nn.modules.conv.Conv             [64, 128, 3, 2]               \n",
      "  2                  -1  1    212864  ultralytics.nn.modules.block.RepNCSPELAN4    [128, 256, 128, 64, 1]        \n",
      "  3                  -1  1    164352  ultralytics.nn.modules.block.ADown           [256, 256]                    \n",
      "  4                  -1  1    847616  ultralytics.nn.modules.block.RepNCSPELAN4    [256, 512, 256, 128, 1]       \n",
      "  5                  -1  1    656384  ultralytics.nn.modules.block.ADown           [512, 512]                    \n",
      "  6                  -1  1   2857472  ultralytics.nn.modules.block.RepNCSPELAN4    [512, 512, 512, 256, 1]       \n",
      "  7                  -1  1    656384  ultralytics.nn.modules.block.ADown           [512, 512]                    \n",
      "  8                  -1  1   2857472  ultralytics.nn.modules.block.RepNCSPELAN4    [512, 512, 512, 256, 1]       \n",
      "  9                  -1  1    656896  ultralytics.nn.modules.block.SPPELAN         [512, 512, 256]               \n",
      " 10                  -1  1         0  torch.nn.modules.upsampling.Upsample         [None, 2, 'nearest']          \n",
      " 11             [-1, 6]  1         0  ultralytics.nn.modules.conv.Concat           [1]                           \n",
      " 12                  -1  1   3119616  ultralytics.nn.modules.block.RepNCSPELAN4    [1024, 512, 512, 256, 1]      \n",
      " 13                  -1  1         0  torch.nn.modules.upsampling.Upsample         [None, 2, 'nearest']          \n",
      " 14             [-1, 4]  1         0  ultralytics.nn.modules.conv.Concat           [1]                           \n",
      " 15                  -1  1    912640  ultralytics.nn.modules.block.RepNCSPELAN4    [1024, 256, 256, 128, 1]      \n",
      " 16                  -1  1    164352  ultralytics.nn.modules.block.ADown           [256, 256]                    \n",
      " 17            [-1, 12]  1         0  ultralytics.nn.modules.conv.Concat           [1]                           \n",
      " 18                  -1  1   2988544  ultralytics.nn.modules.block.RepNCSPELAN4    [768, 512, 512, 256, 1]       \n",
      " 19                  -1  1    656384  ultralytics.nn.modules.block.ADown           [512, 512]                    \n",
      " 20             [-1, 9]  1         0  ultralytics.nn.modules.conv.Concat           [1]                           \n",
      " 21                  -1  1   3119616  ultralytics.nn.modules.block.RepNCSPELAN4    [1024, 512, 512, 256, 1]      \n",
      " 22        [15, 18, 21]  1   7892092  ultralytics.nn.modules.head.Segment          [4, 32, 256, [256, 512, 512]] \n",
      "YOLOv9c-seg summary: 380 layers, 27,838,524 parameters, 27,838,508 gradients, 159.1 GFLOPs\n",
      "\n",
      "Transferred 993/999 items from pretrained weights\n",
      "Freezing layer 'model.0.conv.weight'\n",
      "Freezing layer 'model.0.bn.weight'\n",
      "Freezing layer 'model.0.bn.bias'\n",
      "Freezing layer 'model.1.conv.weight'\n",
      "Freezing layer 'model.1.bn.weight'\n",
      "Freezing layer 'model.1.bn.bias'\n",
      "Freezing layer 'model.2.cv1.conv.weight'\n",
      "Freezing layer 'model.2.cv1.bn.weight'\n",
      "Freezing layer 'model.2.cv1.bn.bias'\n",
      "Freezing layer 'model.2.cv2.0.cv1.conv.weight'\n",
      "Freezing layer 'model.2.cv2.0.cv1.bn.weight'\n",
      "Freezing layer 'model.2.cv2.0.cv1.bn.bias'\n",
      "Freezing layer 'model.2.cv2.0.cv2.conv.weight'\n",
      "Freezing layer 'model.2.cv2.0.cv2.bn.weight'\n",
      "Freezing layer 'model.2.cv2.0.cv2.bn.bias'\n",
      "Freezing layer 'model.2.cv2.0.cv3.conv.weight'\n",
      "Freezing layer 'model.2.cv2.0.cv3.bn.weight'\n",
      "Freezing layer 'model.2.cv2.0.cv3.bn.bias'\n",
      "Freezing layer 'model.2.cv2.0.m.0.cv1.conv1.conv.weight'\n",
      "Freezing layer 'model.2.cv2.0.m.0.cv1.conv1.bn.weight'\n",
      "Freezing layer 'model.2.cv2.0.m.0.cv1.conv1.bn.bias'\n",
      "Freezing layer 'model.2.cv2.0.m.0.cv1.conv2.conv.weight'\n",
      "Freezing layer 'model.2.cv2.0.m.0.cv1.conv2.bn.weight'\n",
      "Freezing layer 'model.2.cv2.0.m.0.cv1.conv2.bn.bias'\n",
      "Freezing layer 'model.2.cv2.0.m.0.cv2.conv.weight'\n",
      "Freezing layer 'model.2.cv2.0.m.0.cv2.bn.weight'\n",
      "Freezing layer 'model.2.cv2.0.m.0.cv2.bn.bias'\n",
      "Freezing layer 'model.2.cv2.1.conv.weight'\n",
      "Freezing layer 'model.2.cv2.1.bn.weight'\n",
      "Freezing layer 'model.2.cv2.1.bn.bias'\n",
      "Freezing layer 'model.2.cv3.0.cv1.conv.weight'\n",
      "Freezing layer 'model.2.cv3.0.cv1.bn.weight'\n",
      "Freezing layer 'model.2.cv3.0.cv1.bn.bias'\n",
      "Freezing layer 'model.2.cv3.0.cv2.conv.weight'\n",
      "Freezing layer 'model.2.cv3.0.cv2.bn.weight'\n",
      "Freezing layer 'model.2.cv3.0.cv2.bn.bias'\n",
      "Freezing layer 'model.2.cv3.0.cv3.conv.weight'\n",
      "Freezing layer 'model.2.cv3.0.cv3.bn.weight'\n",
      "Freezing layer 'model.2.cv3.0.cv3.bn.bias'\n",
      "Freezing layer 'model.2.cv3.0.m.0.cv1.conv1.conv.weight'\n",
      "Freezing layer 'model.2.cv3.0.m.0.cv1.conv1.bn.weight'\n",
      "Freezing layer 'model.2.cv3.0.m.0.cv1.conv1.bn.bias'\n",
      "Freezing layer 'model.2.cv3.0.m.0.cv1.conv2.conv.weight'\n",
      "Freezing layer 'model.2.cv3.0.m.0.cv1.conv2.bn.weight'\n",
      "Freezing layer 'model.2.cv3.0.m.0.cv1.conv2.bn.bias'\n",
      "Freezing layer 'model.2.cv3.0.m.0.cv2.conv.weight'\n",
      "Freezing layer 'model.2.cv3.0.m.0.cv2.bn.weight'\n",
      "Freezing layer 'model.2.cv3.0.m.0.cv2.bn.bias'\n",
      "Freezing layer 'model.2.cv3.1.conv.weight'\n",
      "Freezing layer 'model.2.cv3.1.bn.weight'\n",
      "Freezing layer 'model.2.cv3.1.bn.bias'\n",
      "Freezing layer 'model.2.cv4.conv.weight'\n",
      "Freezing layer 'model.2.cv4.bn.weight'\n",
      "Freezing layer 'model.2.cv4.bn.bias'\n",
      "Freezing layer 'model.3.cv1.conv.weight'\n",
      "Freezing layer 'model.3.cv1.bn.weight'\n",
      "Freezing layer 'model.3.cv1.bn.bias'\n",
      "Freezing layer 'model.3.cv2.conv.weight'\n",
      "Freezing layer 'model.3.cv2.bn.weight'\n",
      "Freezing layer 'model.3.cv2.bn.bias'\n",
      "Freezing layer 'model.4.cv1.conv.weight'\n",
      "Freezing layer 'model.4.cv1.bn.weight'\n",
      "Freezing layer 'model.4.cv1.bn.bias'\n",
      "Freezing layer 'model.4.cv2.0.cv1.conv.weight'\n",
      "Freezing layer 'model.4.cv2.0.cv1.bn.weight'\n",
      "Freezing layer 'model.4.cv2.0.cv1.bn.bias'\n",
      "Freezing layer 'model.4.cv2.0.cv2.conv.weight'\n",
      "Freezing layer 'model.4.cv2.0.cv2.bn.weight'\n",
      "Freezing layer 'model.4.cv2.0.cv2.bn.bias'\n",
      "Freezing layer 'model.4.cv2.0.cv3.conv.weight'\n",
      "Freezing layer 'model.4.cv2.0.cv3.bn.weight'\n",
      "Freezing layer 'model.4.cv2.0.cv3.bn.bias'\n",
      "Freezing layer 'model.4.cv2.0.m.0.cv1.conv1.conv.weight'\n",
      "Freezing layer 'model.4.cv2.0.m.0.cv1.conv1.bn.weight'\n",
      "Freezing layer 'model.4.cv2.0.m.0.cv1.conv1.bn.bias'\n",
      "Freezing layer 'model.4.cv2.0.m.0.cv1.conv2.conv.weight'\n",
      "Freezing layer 'model.4.cv2.0.m.0.cv1.conv2.bn.weight'\n"
     ]
    },
    {
     "name": "stdout",
     "output_type": "stream",
     "text": [
      "Freezing layer 'model.4.cv2.0.m.0.cv1.conv2.bn.bias'\n",
      "Freezing layer 'model.4.cv2.0.m.0.cv2.conv.weight'\n",
      "Freezing layer 'model.4.cv2.0.m.0.cv2.bn.weight'\n",
      "Freezing layer 'model.4.cv2.0.m.0.cv2.bn.bias'\n",
      "Freezing layer 'model.4.cv2.1.conv.weight'\n",
      "Freezing layer 'model.4.cv2.1.bn.weight'\n",
      "Freezing layer 'model.4.cv2.1.bn.bias'\n",
      "Freezing layer 'model.4.cv3.0.cv1.conv.weight'\n",
      "Freezing layer 'model.4.cv3.0.cv1.bn.weight'\n",
      "Freezing layer 'model.4.cv3.0.cv1.bn.bias'\n",
      "Freezing layer 'model.4.cv3.0.cv2.conv.weight'\n",
      "Freezing layer 'model.4.cv3.0.cv2.bn.weight'\n",
      "Freezing layer 'model.4.cv3.0.cv2.bn.bias'\n",
      "Freezing layer 'model.4.cv3.0.cv3.conv.weight'\n",
      "Freezing layer 'model.4.cv3.0.cv3.bn.weight'\n",
      "Freezing layer 'model.4.cv3.0.cv3.bn.bias'\n",
      "Freezing layer 'model.4.cv3.0.m.0.cv1.conv1.conv.weight'\n",
      "Freezing layer 'model.4.cv3.0.m.0.cv1.conv1.bn.weight'\n",
      "Freezing layer 'model.4.cv3.0.m.0.cv1.conv1.bn.bias'\n",
      "Freezing layer 'model.4.cv3.0.m.0.cv1.conv2.conv.weight'\n",
      "Freezing layer 'model.4.cv3.0.m.0.cv1.conv2.bn.weight'\n",
      "Freezing layer 'model.4.cv3.0.m.0.cv1.conv2.bn.bias'\n",
      "Freezing layer 'model.4.cv3.0.m.0.cv2.conv.weight'\n",
      "Freezing layer 'model.4.cv3.0.m.0.cv2.bn.weight'\n",
      "Freezing layer 'model.4.cv3.0.m.0.cv2.bn.bias'\n",
      "Freezing layer 'model.4.cv3.1.conv.weight'\n",
      "Freezing layer 'model.4.cv3.1.bn.weight'\n",
      "Freezing layer 'model.4.cv3.1.bn.bias'\n",
      "Freezing layer 'model.4.cv4.conv.weight'\n",
      "Freezing layer 'model.4.cv4.bn.weight'\n",
      "Freezing layer 'model.4.cv4.bn.bias'\n",
      "Freezing layer 'model.5.cv1.conv.weight'\n",
      "Freezing layer 'model.5.cv1.bn.weight'\n",
      "Freezing layer 'model.5.cv1.bn.bias'\n",
      "Freezing layer 'model.5.cv2.conv.weight'\n",
      "Freezing layer 'model.5.cv2.bn.weight'\n",
      "Freezing layer 'model.5.cv2.bn.bias'\n",
      "Freezing layer 'model.6.cv1.conv.weight'\n",
      "Freezing layer 'model.6.cv1.bn.weight'\n",
      "Freezing layer 'model.6.cv1.bn.bias'\n",
      "Freezing layer 'model.6.cv2.0.cv1.conv.weight'\n",
      "Freezing layer 'model.6.cv2.0.cv1.bn.weight'\n",
      "Freezing layer 'model.6.cv2.0.cv1.bn.bias'\n",
      "Freezing layer 'model.6.cv2.0.cv2.conv.weight'\n",
      "Freezing layer 'model.6.cv2.0.cv2.bn.weight'\n",
      "Freezing layer 'model.6.cv2.0.cv2.bn.bias'\n",
      "Freezing layer 'model.6.cv2.0.cv3.conv.weight'\n",
      "Freezing layer 'model.6.cv2.0.cv3.bn.weight'\n",
      "Freezing layer 'model.6.cv2.0.cv3.bn.bias'\n",
      "Freezing layer 'model.6.cv2.0.m.0.cv1.conv1.conv.weight'\n",
      "Freezing layer 'model.6.cv2.0.m.0.cv1.conv1.bn.weight'\n",
      "Freezing layer 'model.6.cv2.0.m.0.cv1.conv1.bn.bias'\n",
      "Freezing layer 'model.6.cv2.0.m.0.cv1.conv2.conv.weight'\n",
      "Freezing layer 'model.6.cv2.0.m.0.cv1.conv2.bn.weight'\n",
      "Freezing layer 'model.6.cv2.0.m.0.cv1.conv2.bn.bias'\n",
      "Freezing layer 'model.6.cv2.0.m.0.cv2.conv.weight'\n",
      "Freezing layer 'model.6.cv2.0.m.0.cv2.bn.weight'\n",
      "Freezing layer 'model.6.cv2.0.m.0.cv2.bn.bias'\n",
      "Freezing layer 'model.6.cv2.1.conv.weight'\n",
      "Freezing layer 'model.6.cv2.1.bn.weight'\n",
      "Freezing layer 'model.6.cv2.1.bn.bias'\n",
      "Freezing layer 'model.6.cv3.0.cv1.conv.weight'\n",
      "Freezing layer 'model.6.cv3.0.cv1.bn.weight'\n",
      "Freezing layer 'model.6.cv3.0.cv1.bn.bias'\n",
      "Freezing layer 'model.6.cv3.0.cv2.conv.weight'\n",
      "Freezing layer 'model.6.cv3.0.cv2.bn.weight'\n",
      "Freezing layer 'model.6.cv3.0.cv2.bn.bias'\n",
      "Freezing layer 'model.6.cv3.0.cv3.conv.weight'\n",
      "Freezing layer 'model.6.cv3.0.cv3.bn.weight'\n",
      "Freezing layer 'model.6.cv3.0.cv3.bn.bias'\n",
      "Freezing layer 'model.6.cv3.0.m.0.cv1.conv1.conv.weight'\n",
      "Freezing layer 'model.6.cv3.0.m.0.cv1.conv1.bn.weight'\n",
      "Freezing layer 'model.6.cv3.0.m.0.cv1.conv1.bn.bias'\n",
      "Freezing layer 'model.6.cv3.0.m.0.cv1.conv2.conv.weight'\n",
      "Freezing layer 'model.6.cv3.0.m.0.cv1.conv2.bn.weight'\n",
      "Freezing layer 'model.6.cv3.0.m.0.cv1.conv2.bn.bias'\n",
      "Freezing layer 'model.6.cv3.0.m.0.cv2.conv.weight'\n",
      "Freezing layer 'model.6.cv3.0.m.0.cv2.bn.weight'\n",
      "Freezing layer 'model.6.cv3.0.m.0.cv2.bn.bias'\n",
      "Freezing layer 'model.6.cv3.1.conv.weight'\n",
      "Freezing layer 'model.6.cv3.1.bn.weight'\n",
      "Freezing layer 'model.6.cv3.1.bn.bias'\n",
      "Freezing layer 'model.6.cv4.conv.weight'\n",
      "Freezing layer 'model.6.cv4.bn.weight'\n",
      "Freezing layer 'model.6.cv4.bn.bias'\n",
      "Freezing layer 'model.7.cv1.conv.weight'\n",
      "Freezing layer 'model.7.cv1.bn.weight'\n",
      "Freezing layer 'model.7.cv1.bn.bias'\n",
      "Freezing layer 'model.7.cv2.conv.weight'\n",
      "Freezing layer 'model.7.cv2.bn.weight'\n",
      "Freezing layer 'model.7.cv2.bn.bias'\n",
      "Freezing layer 'model.8.cv1.conv.weight'\n",
      "Freezing layer 'model.8.cv1.bn.weight'\n",
      "Freezing layer 'model.8.cv1.bn.bias'\n",
      "Freezing layer 'model.8.cv2.0.cv1.conv.weight'\n",
      "Freezing layer 'model.8.cv2.0.cv1.bn.weight'\n",
      "Freezing layer 'model.8.cv2.0.cv1.bn.bias'\n",
      "Freezing layer 'model.8.cv2.0.cv2.conv.weight'\n",
      "Freezing layer 'model.8.cv2.0.cv2.bn.weight'\n",
      "Freezing layer 'model.8.cv2.0.cv2.bn.bias'\n",
      "Freezing layer 'model.8.cv2.0.cv3.conv.weight'\n",
      "Freezing layer 'model.8.cv2.0.cv3.bn.weight'\n",
      "Freezing layer 'model.8.cv2.0.cv3.bn.bias'\n",
      "Freezing layer 'model.8.cv2.0.m.0.cv1.conv1.conv.weight'\n",
      "Freezing layer 'model.8.cv2.0.m.0.cv1.conv1.bn.weight'\n",
      "Freezing layer 'model.8.cv2.0.m.0.cv1.conv1.bn.bias'\n",
      "Freezing layer 'model.8.cv2.0.m.0.cv1.conv2.conv.weight'\n",
      "Freezing layer 'model.8.cv2.0.m.0.cv1.conv2.bn.weight'\n",
      "Freezing layer 'model.8.cv2.0.m.0.cv1.conv2.bn.bias'\n",
      "Freezing layer 'model.8.cv2.0.m.0.cv2.conv.weight'\n",
      "Freezing layer 'model.8.cv2.0.m.0.cv2.bn.weight'\n",
      "Freezing layer 'model.8.cv2.0.m.0.cv2.bn.bias'\n",
      "Freezing layer 'model.8.cv2.1.conv.weight'\n",
      "Freezing layer 'model.8.cv2.1.bn.weight'\n",
      "Freezing layer 'model.8.cv2.1.bn.bias'\n",
      "Freezing layer 'model.8.cv3.0.cv1.conv.weight'\n",
      "Freezing layer 'model.8.cv3.0.cv1.bn.weight'\n",
      "Freezing layer 'model.8.cv3.0.cv1.bn.bias'\n",
      "Freezing layer 'model.8.cv3.0.cv2.conv.weight'\n",
      "Freezing layer 'model.8.cv3.0.cv2.bn.weight'\n",
      "Freezing layer 'model.8.cv3.0.cv2.bn.bias'\n",
      "Freezing layer 'model.8.cv3.0.cv3.conv.weight'\n",
      "Freezing layer 'model.8.cv3.0.cv3.bn.weight'\n",
      "Freezing layer 'model.8.cv3.0.cv3.bn.bias'\n",
      "Freezing layer 'model.8.cv3.0.m.0.cv1.conv1.conv.weight'\n",
      "Freezing layer 'model.8.cv3.0.m.0.cv1.conv1.bn.weight'\n",
      "Freezing layer 'model.8.cv3.0.m.0.cv1.conv1.bn.bias'\n",
      "Freezing layer 'model.8.cv3.0.m.0.cv1.conv2.conv.weight'\n",
      "Freezing layer 'model.8.cv3.0.m.0.cv1.conv2.bn.weight'\n",
      "Freezing layer 'model.8.cv3.0.m.0.cv1.conv2.bn.bias'\n",
      "Freezing layer 'model.8.cv3.0.m.0.cv2.conv.weight'\n",
      "Freezing layer 'model.8.cv3.0.m.0.cv2.bn.weight'\n",
      "Freezing layer 'model.8.cv3.0.m.0.cv2.bn.bias'\n",
      "Freezing layer 'model.8.cv3.1.conv.weight'\n",
      "Freezing layer 'model.8.cv3.1.bn.weight'\n",
      "Freezing layer 'model.8.cv3.1.bn.bias'\n",
      "Freezing layer 'model.8.cv4.conv.weight'\n",
      "Freezing layer 'model.8.cv4.bn.weight'\n",
      "Freezing layer 'model.8.cv4.bn.bias'\n",
      "Freezing layer 'model.9.cv1.conv.weight'\n",
      "Freezing layer 'model.9.cv1.bn.weight'\n",
      "Freezing layer 'model.9.cv1.bn.bias'\n",
      "Freezing layer 'model.9.cv5.conv.weight'\n",
      "Freezing layer 'model.9.cv5.bn.weight'\n",
      "Freezing layer 'model.9.cv5.bn.bias'\n",
      "Freezing layer 'model.22.dfl.conv.weight'\n",
      "\u001B[34m\u001B[1mAMP: \u001B[0mrunning Automatic Mixed Precision (AMP) checks...\n",
      "\u001B[34m\u001B[1mAMP: \u001B[0mchecks passed ✅\n",
      "\u001B[34m\u001B[1mtrain: \u001B[0mFast image access ✅ (ping: 0.0±0.0 ms, read: 99.7±177.1 MB/s, size: 2499.3 KB)\n"
     ]
    },
    {
     "name": "stderr",
     "output_type": "stream",
     "text": [
      "\u001B[34m\u001B[1mtrain: \u001B[0mScanning /media/abawi/e38fddf9-a92e-4c73-b905-995771f8fc3a/datasets/segmentation/yolo_style_fourclass/train/labels... 6732 images, 2 backgrounds, 1 corrupt: 100%|██████████| 6735/6735 [02:20<00:00, 48.07it/s] "
     ]
    },
    {
     "name": "stdout",
     "output_type": "stream",
     "text": [
      "\u001B[34m\u001B[1mtrain: \u001B[0m/media/abawi/e38fddf9-a92e-4c73-b905-995771f8fc3a/datasets/segmentation/yolo_style_fourclass/train/images/1 (1).jpg: corrupt JPEG restored and saved\n",
      "\u001B[34m\u001B[1mtrain: \u001B[0m/media/abawi/e38fddf9-a92e-4c73-b905-995771f8fc3a/datasets/segmentation/yolo_style_fourclass/train/images/1 (10).jpg: corrupt JPEG restored and saved\n",
      "\u001B[34m\u001B[1mtrain: \u001B[0m/media/abawi/e38fddf9-a92e-4c73-b905-995771f8fc3a/datasets/segmentation/yolo_style_fourclass/train/images/1 (100).jpg: corrupt JPEG restored and saved\n",
      "\u001B[34m\u001B[1mtrain: \u001B[0m/media/abawi/e38fddf9-a92e-4c73-b905-995771f8fc3a/datasets/segmentation/yolo_style_fourclass/train/images/1 (101).jpg: corrupt JPEG restored and saved\n",
      "\u001B[34m\u001B[1mtrain: \u001B[0m/media/abawi/e38fddf9-a92e-4c73-b905-995771f8fc3a/datasets/segmentation/yolo_style_fourclass/train/images/1 (102).jpg: corrupt JPEG restored and saved\n",
      "\u001B[34m\u001B[1mtrain: \u001B[0m/media/abawi/e38fddf9-a92e-4c73-b905-995771f8fc3a/datasets/segmentation/yolo_style_fourclass/train/images/1 (103).jpg: corrupt JPEG restored and saved\n",
      "\u001B[34m\u001B[1mtrain: \u001B[0m/media/abawi/e38fddf9-a92e-4c73-b905-995771f8fc3a/datasets/segmentation/yolo_style_fourclass/train/images/1 (104).jpg: corrupt JPEG restored and saved\n",
      "\u001B[34m\u001B[1mtrain: \u001B[0m/media/abawi/e38fddf9-a92e-4c73-b905-995771f8fc3a/datasets/segmentation/yolo_style_fourclass/train/images/1 (105).jpg: corrupt JPEG restored and saved\n",
      "\u001B[34m\u001B[1mtrain: \u001B[0m/media/abawi/e38fddf9-a92e-4c73-b905-995771f8fc3a/datasets/segmentation/yolo_style_fourclass/train/images/1 (106).jpg: corrupt JPEG restored and saved\n",
      "\u001B[34m\u001B[1mtrain: \u001B[0m/media/abawi/e38fddf9-a92e-4c73-b905-995771f8fc3a/datasets/segmentation/yolo_style_fourclass/train/images/1 (107).jpg: corrupt JPEG restored and saved\n",
      "\u001B[34m\u001B[1mtrain: \u001B[0m/media/abawi/e38fddf9-a92e-4c73-b905-995771f8fc3a/datasets/segmentation/yolo_style_fourclass/train/images/1 (108).jpg: corrupt JPEG restored and saved\n",
      "\u001B[34m\u001B[1mtrain: \u001B[0m/media/abawi/e38fddf9-a92e-4c73-b905-995771f8fc3a/datasets/segmentation/yolo_style_fourclass/train/images/1 (11).jpg: corrupt JPEG restored and saved\n",
      "\u001B[34m\u001B[1mtrain: \u001B[0m/media/abawi/e38fddf9-a92e-4c73-b905-995771f8fc3a/datasets/segmentation/yolo_style_fourclass/train/images/1 (110).jpg: corrupt JPEG restored and saved\n",
      "\u001B[34m\u001B[1mtrain: \u001B[0m/media/abawi/e38fddf9-a92e-4c73-b905-995771f8fc3a/datasets/segmentation/yolo_style_fourclass/train/images/1 (111).jpg: corrupt JPEG restored and saved\n",
      "\u001B[34m\u001B[1mtrain: \u001B[0m/media/abawi/e38fddf9-a92e-4c73-b905-995771f8fc3a/datasets/segmentation/yolo_style_fourclass/train/images/1 (114).jpg: corrupt JPEG restored and saved\n",
      "\u001B[34m\u001B[1mtrain: \u001B[0m/media/abawi/e38fddf9-a92e-4c73-b905-995771f8fc3a/datasets/segmentation/yolo_style_fourclass/train/images/1 (115).jpg: corrupt JPEG restored and saved\n",
      "\u001B[34m\u001B[1mtrain: \u001B[0m/media/abawi/e38fddf9-a92e-4c73-b905-995771f8fc3a/datasets/segmentation/yolo_style_fourclass/train/images/1 (117).jpg: corrupt JPEG restored and saved\n",
      "\u001B[34m\u001B[1mtrain: \u001B[0m/media/abawi/e38fddf9-a92e-4c73-b905-995771f8fc3a/datasets/segmentation/yolo_style_fourclass/train/images/1 (118).jpg: corrupt JPEG restored and saved\n",
      "\u001B[34m\u001B[1mtrain: \u001B[0m/media/abawi/e38fddf9-a92e-4c73-b905-995771f8fc3a/datasets/segmentation/yolo_style_fourclass/train/images/1 (119).jpg: corrupt JPEG restored and saved\n",
      "\u001B[34m\u001B[1mtrain: \u001B[0m/media/abawi/e38fddf9-a92e-4c73-b905-995771f8fc3a/datasets/segmentation/yolo_style_fourclass/train/images/1 (12).jpg: corrupt JPEG restored and saved\n",
      "\u001B[34m\u001B[1mtrain: \u001B[0m/media/abawi/e38fddf9-a92e-4c73-b905-995771f8fc3a/datasets/segmentation/yolo_style_fourclass/train/images/1 (121).jpg: corrupt JPEG restored and saved\n",
      "\u001B[34m\u001B[1mtrain: \u001B[0m/media/abawi/e38fddf9-a92e-4c73-b905-995771f8fc3a/datasets/segmentation/yolo_style_fourclass/train/images/1 (122).jpg: corrupt JPEG restored and saved\n",
      "\u001B[34m\u001B[1mtrain: \u001B[0m/media/abawi/e38fddf9-a92e-4c73-b905-995771f8fc3a/datasets/segmentation/yolo_style_fourclass/train/images/1 (123).jpg: corrupt JPEG restored and saved\n",
      "\u001B[34m\u001B[1mtrain: \u001B[0m/media/abawi/e38fddf9-a92e-4c73-b905-995771f8fc3a/datasets/segmentation/yolo_style_fourclass/train/images/1 (124).jpg: corrupt JPEG restored and saved\n",
      "\u001B[34m\u001B[1mtrain: \u001B[0m/media/abawi/e38fddf9-a92e-4c73-b905-995771f8fc3a/datasets/segmentation/yolo_style_fourclass/train/images/1 (125).jpg: corrupt JPEG restored and saved\n",
      "\u001B[34m\u001B[1mtrain: \u001B[0m/media/abawi/e38fddf9-a92e-4c73-b905-995771f8fc3a/datasets/segmentation/yolo_style_fourclass/train/images/1 (126).jpg: corrupt JPEG restored and saved\n",
      "\u001B[34m\u001B[1mtrain: \u001B[0m/media/abawi/e38fddf9-a92e-4c73-b905-995771f8fc3a/datasets/segmentation/yolo_style_fourclass/train/images/1 (127).jpg: corrupt JPEG restored and saved\n",
      "\u001B[34m\u001B[1mtrain: \u001B[0m/media/abawi/e38fddf9-a92e-4c73-b905-995771f8fc3a/datasets/segmentation/yolo_style_fourclass/train/images/1 (128).jpg: corrupt JPEG restored and saved\n",
      "\u001B[34m\u001B[1mtrain: \u001B[0m/media/abawi/e38fddf9-a92e-4c73-b905-995771f8fc3a/datasets/segmentation/yolo_style_fourclass/train/images/1 (13).jpg: corrupt JPEG restored and saved\n",
      "\u001B[34m\u001B[1mtrain: \u001B[0m/media/abawi/e38fddf9-a92e-4c73-b905-995771f8fc3a/datasets/segmentation/yolo_style_fourclass/train/images/1 (130).jpg: corrupt JPEG restored and saved\n",
      "\u001B[34m\u001B[1mtrain: \u001B[0m/media/abawi/e38fddf9-a92e-4c73-b905-995771f8fc3a/datasets/segmentation/yolo_style_fourclass/train/images/1 (131).jpg: corrupt JPEG restored and saved\n",
      "\u001B[34m\u001B[1mtrain: \u001B[0m/media/abawi/e38fddf9-a92e-4c73-b905-995771f8fc3a/datasets/segmentation/yolo_style_fourclass/train/images/1 (132).jpg: corrupt JPEG restored and saved\n",
      "\u001B[34m\u001B[1mtrain: \u001B[0m/media/abawi/e38fddf9-a92e-4c73-b905-995771f8fc3a/datasets/segmentation/yolo_style_fourclass/train/images/1 (133).jpg: corrupt JPEG restored and saved\n",
      "\u001B[34m\u001B[1mtrain: \u001B[0m/media/abawi/e38fddf9-a92e-4c73-b905-995771f8fc3a/datasets/segmentation/yolo_style_fourclass/train/images/1 (134).jpg: corrupt JPEG restored and saved\n",
      "\u001B[34m\u001B[1mtrain: \u001B[0m/media/abawi/e38fddf9-a92e-4c73-b905-995771f8fc3a/datasets/segmentation/yolo_style_fourclass/train/images/1 (137).jpg: corrupt JPEG restored and saved\n",
      "\u001B[34m\u001B[1mtrain: \u001B[0m/media/abawi/e38fddf9-a92e-4c73-b905-995771f8fc3a/datasets/segmentation/yolo_style_fourclass/train/images/1 (139).jpg: corrupt JPEG restored and saved\n",
      "\u001B[34m\u001B[1mtrain: \u001B[0m/media/abawi/e38fddf9-a92e-4c73-b905-995771f8fc3a/datasets/segmentation/yolo_style_fourclass/train/images/1 (14).jpg: corrupt JPEG restored and saved\n",
      "\u001B[34m\u001B[1mtrain: \u001B[0m/media/abawi/e38fddf9-a92e-4c73-b905-995771f8fc3a/datasets/segmentation/yolo_style_fourclass/train/images/1 (142).jpg: corrupt JPEG restored and saved\n",
      "\u001B[34m\u001B[1mtrain: \u001B[0m/media/abawi/e38fddf9-a92e-4c73-b905-995771f8fc3a/datasets/segmentation/yolo_style_fourclass/train/images/1 (144).jpg: corrupt JPEG restored and saved\n",
      "\u001B[34m\u001B[1mtrain: \u001B[0m/media/abawi/e38fddf9-a92e-4c73-b905-995771f8fc3a/datasets/segmentation/yolo_style_fourclass/train/images/1 (148).jpg: corrupt JPEG restored and saved\n",
      "\u001B[34m\u001B[1mtrain: \u001B[0m/media/abawi/e38fddf9-a92e-4c73-b905-995771f8fc3a/datasets/segmentation/yolo_style_fourclass/train/images/1 (149).jpg: corrupt JPEG restored and saved\n",
      "\u001B[34m\u001B[1mtrain: \u001B[0m/media/abawi/e38fddf9-a92e-4c73-b905-995771f8fc3a/datasets/segmentation/yolo_style_fourclass/train/images/1 (15).jpg: corrupt JPEG restored and saved\n",
      "\u001B[34m\u001B[1mtrain: \u001B[0m/media/abawi/e38fddf9-a92e-4c73-b905-995771f8fc3a/datasets/segmentation/yolo_style_fourclass/train/images/1 (150).jpg: corrupt JPEG restored and saved\n",
      "\u001B[34m\u001B[1mtrain: \u001B[0m/media/abawi/e38fddf9-a92e-4c73-b905-995771f8fc3a/datasets/segmentation/yolo_style_fourclass/train/images/1 (151).jpg: corrupt JPEG restored and saved\n",
      "\u001B[34m\u001B[1mtrain: \u001B[0m/media/abawi/e38fddf9-a92e-4c73-b905-995771f8fc3a/datasets/segmentation/yolo_style_fourclass/train/images/1 (152).jpg: corrupt JPEG restored and saved\n",
      "\u001B[34m\u001B[1mtrain: \u001B[0m/media/abawi/e38fddf9-a92e-4c73-b905-995771f8fc3a/datasets/segmentation/yolo_style_fourclass/train/images/1 (155).jpg: corrupt JPEG restored and saved\n",
      "\u001B[34m\u001B[1mtrain: \u001B[0m/media/abawi/e38fddf9-a92e-4c73-b905-995771f8fc3a/datasets/segmentation/yolo_style_fourclass/train/images/1 (156).jpg: corrupt JPEG restored and saved\n",
      "\u001B[34m\u001B[1mtrain: \u001B[0m/media/abawi/e38fddf9-a92e-4c73-b905-995771f8fc3a/datasets/segmentation/yolo_style_fourclass/train/images/1 (157).jpg: corrupt JPEG restored and saved\n",
      "\u001B[34m\u001B[1mtrain: \u001B[0m/media/abawi/e38fddf9-a92e-4c73-b905-995771f8fc3a/datasets/segmentation/yolo_style_fourclass/train/images/1 (158).jpg: corrupt JPEG restored and saved\n",
      "\u001B[34m\u001B[1mtrain: \u001B[0m/media/abawi/e38fddf9-a92e-4c73-b905-995771f8fc3a/datasets/segmentation/yolo_style_fourclass/train/images/1 (160).jpg: corrupt JPEG restored and saved\n",
      "\u001B[34m\u001B[1mtrain: \u001B[0m/media/abawi/e38fddf9-a92e-4c73-b905-995771f8fc3a/datasets/segmentation/yolo_style_fourclass/train/images/1 (161).jpg: corrupt JPEG restored and saved\n",
      "\u001B[34m\u001B[1mtrain: \u001B[0m/media/abawi/e38fddf9-a92e-4c73-b905-995771f8fc3a/datasets/segmentation/yolo_style_fourclass/train/images/1 (162).jpg: corrupt JPEG restored and saved\n",
      "\u001B[34m\u001B[1mtrain: \u001B[0m/media/abawi/e38fddf9-a92e-4c73-b905-995771f8fc3a/datasets/segmentation/yolo_style_fourclass/train/images/1 (164).jpg: corrupt JPEG restored and saved\n",
      "\u001B[34m\u001B[1mtrain: \u001B[0m/media/abawi/e38fddf9-a92e-4c73-b905-995771f8fc3a/datasets/segmentation/yolo_style_fourclass/train/images/1 (165).jpg: corrupt JPEG restored and saved\n",
      "\u001B[34m\u001B[1mtrain: \u001B[0m/media/abawi/e38fddf9-a92e-4c73-b905-995771f8fc3a/datasets/segmentation/yolo_style_fourclass/train/images/1 (166).jpg: corrupt JPEG restored and saved\n",
      "\u001B[34m\u001B[1mtrain: \u001B[0m/media/abawi/e38fddf9-a92e-4c73-b905-995771f8fc3a/datasets/segmentation/yolo_style_fourclass/train/images/1 (167).jpg: corrupt JPEG restored and saved\n",
      "\u001B[34m\u001B[1mtrain: \u001B[0m/media/abawi/e38fddf9-a92e-4c73-b905-995771f8fc3a/datasets/segmentation/yolo_style_fourclass/train/images/1 (168).jpg: corrupt JPEG restored and saved\n",
      "\u001B[34m\u001B[1mtrain: \u001B[0m/media/abawi/e38fddf9-a92e-4c73-b905-995771f8fc3a/datasets/segmentation/yolo_style_fourclass/train/images/1 (169).jpg: corrupt JPEG restored and saved\n",
      "\u001B[34m\u001B[1mtrain: \u001B[0m/media/abawi/e38fddf9-a92e-4c73-b905-995771f8fc3a/datasets/segmentation/yolo_style_fourclass/train/images/1 (17).jpg: corrupt JPEG restored and saved\n",
      "\u001B[34m\u001B[1mtrain: \u001B[0m/media/abawi/e38fddf9-a92e-4c73-b905-995771f8fc3a/datasets/segmentation/yolo_style_fourclass/train/images/1 (172).jpg: corrupt JPEG restored and saved\n",
      "\u001B[34m\u001B[1mtrain: \u001B[0m/media/abawi/e38fddf9-a92e-4c73-b905-995771f8fc3a/datasets/segmentation/yolo_style_fourclass/train/images/1 (173).jpg: corrupt JPEG restored and saved\n",
      "\u001B[34m\u001B[1mtrain: \u001B[0m/media/abawi/e38fddf9-a92e-4c73-b905-995771f8fc3a/datasets/segmentation/yolo_style_fourclass/train/images/1 (174).jpg: corrupt JPEG restored and saved\n",
      "\u001B[34m\u001B[1mtrain: \u001B[0m/media/abawi/e38fddf9-a92e-4c73-b905-995771f8fc3a/datasets/segmentation/yolo_style_fourclass/train/images/1 (175).jpg: corrupt JPEG restored and saved\n",
      "\u001B[34m\u001B[1mtrain: \u001B[0m/media/abawi/e38fddf9-a92e-4c73-b905-995771f8fc3a/datasets/segmentation/yolo_style_fourclass/train/images/1 (176).jpg: corrupt JPEG restored and saved\n",
      "\u001B[34m\u001B[1mtrain: \u001B[0m/media/abawi/e38fddf9-a92e-4c73-b905-995771f8fc3a/datasets/segmentation/yolo_style_fourclass/train/images/1 (177).jpg: corrupt JPEG restored and saved\n",
      "\u001B[34m\u001B[1mtrain: \u001B[0m/media/abawi/e38fddf9-a92e-4c73-b905-995771f8fc3a/datasets/segmentation/yolo_style_fourclass/train/images/1 (18).jpg: corrupt JPEG restored and saved\n",
      "\u001B[34m\u001B[1mtrain: \u001B[0m/media/abawi/e38fddf9-a92e-4c73-b905-995771f8fc3a/datasets/segmentation/yolo_style_fourclass/train/images/1 (182).jpg: corrupt JPEG restored and saved\n",
      "\u001B[34m\u001B[1mtrain: \u001B[0m/media/abawi/e38fddf9-a92e-4c73-b905-995771f8fc3a/datasets/segmentation/yolo_style_fourclass/train/images/1 (183).jpg: corrupt JPEG restored and saved\n",
      "\u001B[34m\u001B[1mtrain: \u001B[0m/media/abawi/e38fddf9-a92e-4c73-b905-995771f8fc3a/datasets/segmentation/yolo_style_fourclass/train/images/1 (184).jpg: corrupt JPEG restored and saved\n",
      "\u001B[34m\u001B[1mtrain: \u001B[0m/media/abawi/e38fddf9-a92e-4c73-b905-995771f8fc3a/datasets/segmentation/yolo_style_fourclass/train/images/1 (185).jpg: corrupt JPEG restored and saved\n",
      "\u001B[34m\u001B[1mtrain: \u001B[0m/media/abawi/e38fddf9-a92e-4c73-b905-995771f8fc3a/datasets/segmentation/yolo_style_fourclass/train/images/1 (186).jpg: corrupt JPEG restored and saved\n",
      "\u001B[34m\u001B[1mtrain: \u001B[0m/media/abawi/e38fddf9-a92e-4c73-b905-995771f8fc3a/datasets/segmentation/yolo_style_fourclass/train/images/1 (187).jpg: corrupt JPEG restored and saved\n",
      "\u001B[34m\u001B[1mtrain: \u001B[0m/media/abawi/e38fddf9-a92e-4c73-b905-995771f8fc3a/datasets/segmentation/yolo_style_fourclass/train/images/1 (189).jpg: corrupt JPEG restored and saved\n",
      "\u001B[34m\u001B[1mtrain: \u001B[0m/media/abawi/e38fddf9-a92e-4c73-b905-995771f8fc3a/datasets/segmentation/yolo_style_fourclass/train/images/1 (19).jpg: corrupt JPEG restored and saved\n",
      "\u001B[34m\u001B[1mtrain: \u001B[0m/media/abawi/e38fddf9-a92e-4c73-b905-995771f8fc3a/datasets/segmentation/yolo_style_fourclass/train/images/1 (191).jpg: corrupt JPEG restored and saved\n",
      "\u001B[34m\u001B[1mtrain: \u001B[0m/media/abawi/e38fddf9-a92e-4c73-b905-995771f8fc3a/datasets/segmentation/yolo_style_fourclass/train/images/1 (192).jpg: corrupt JPEG restored and saved\n",
      "\u001B[34m\u001B[1mtrain: \u001B[0m/media/abawi/e38fddf9-a92e-4c73-b905-995771f8fc3a/datasets/segmentation/yolo_style_fourclass/train/images/1 (193).jpg: corrupt JPEG restored and saved\n",
      "\u001B[34m\u001B[1mtrain: \u001B[0m/media/abawi/e38fddf9-a92e-4c73-b905-995771f8fc3a/datasets/segmentation/yolo_style_fourclass/train/images/1 (194).jpg: corrupt JPEG restored and saved\n",
      "\u001B[34m\u001B[1mtrain: \u001B[0m/media/abawi/e38fddf9-a92e-4c73-b905-995771f8fc3a/datasets/segmentation/yolo_style_fourclass/train/images/1 (195).jpg: corrupt JPEG restored and saved\n",
      "\u001B[34m\u001B[1mtrain: \u001B[0m/media/abawi/e38fddf9-a92e-4c73-b905-995771f8fc3a/datasets/segmentation/yolo_style_fourclass/train/images/1 (196).jpg: corrupt JPEG restored and saved\n",
      "\u001B[34m\u001B[1mtrain: \u001B[0m/media/abawi/e38fddf9-a92e-4c73-b905-995771f8fc3a/datasets/segmentation/yolo_style_fourclass/train/images/1 (197).jpg: corrupt JPEG restored and saved\n",
      "\u001B[34m\u001B[1mtrain: \u001B[0m/media/abawi/e38fddf9-a92e-4c73-b905-995771f8fc3a/datasets/segmentation/yolo_style_fourclass/train/images/1 (199).jpg: corrupt JPEG restored and saved\n",
      "\u001B[34m\u001B[1mtrain: \u001B[0m/media/abawi/e38fddf9-a92e-4c73-b905-995771f8fc3a/datasets/segmentation/yolo_style_fourclass/train/images/1 (2).jpg: corrupt JPEG restored and saved\n",
      "\u001B[34m\u001B[1mtrain: \u001B[0m/media/abawi/e38fddf9-a92e-4c73-b905-995771f8fc3a/datasets/segmentation/yolo_style_fourclass/train/images/1 (20).jpg: corrupt JPEG restored and saved\n",
      "\u001B[34m\u001B[1mtrain: \u001B[0m/media/abawi/e38fddf9-a92e-4c73-b905-995771f8fc3a/datasets/segmentation/yolo_style_fourclass/train/images/1 (200).jpg: corrupt JPEG restored and saved\n",
      "\u001B[34m\u001B[1mtrain: \u001B[0m/media/abawi/e38fddf9-a92e-4c73-b905-995771f8fc3a/datasets/segmentation/yolo_style_fourclass/train/images/1 (201).jpg: corrupt JPEG restored and saved\n",
      "\u001B[34m\u001B[1mtrain: \u001B[0m/media/abawi/e38fddf9-a92e-4c73-b905-995771f8fc3a/datasets/segmentation/yolo_style_fourclass/train/images/1 (202).jpg: corrupt JPEG restored and saved\n",
      "\u001B[34m\u001B[1mtrain: \u001B[0m/media/abawi/e38fddf9-a92e-4c73-b905-995771f8fc3a/datasets/segmentation/yolo_style_fourclass/train/images/1 (203).jpg: corrupt JPEG restored and saved\n",
      "\u001B[34m\u001B[1mtrain: \u001B[0m/media/abawi/e38fddf9-a92e-4c73-b905-995771f8fc3a/datasets/segmentation/yolo_style_fourclass/train/images/1 (205).jpg: corrupt JPEG restored and saved\n",
      "\u001B[34m\u001B[1mtrain: \u001B[0m/media/abawi/e38fddf9-a92e-4c73-b905-995771f8fc3a/datasets/segmentation/yolo_style_fourclass/train/images/1 (208).jpg: corrupt JPEG restored and saved\n",
      "\u001B[34m\u001B[1mtrain: \u001B[0m/media/abawi/e38fddf9-a92e-4c73-b905-995771f8fc3a/datasets/segmentation/yolo_style_fourclass/train/images/1 (209).jpg: corrupt JPEG restored and saved\n",
      "\u001B[34m\u001B[1mtrain: \u001B[0m/media/abawi/e38fddf9-a92e-4c73-b905-995771f8fc3a/datasets/segmentation/yolo_style_fourclass/train/images/1 (210).jpg: corrupt JPEG restored and saved\n",
      "\u001B[34m\u001B[1mtrain: \u001B[0m/media/abawi/e38fddf9-a92e-4c73-b905-995771f8fc3a/datasets/segmentation/yolo_style_fourclass/train/images/1 (211).jpg: corrupt JPEG restored and saved\n",
      "\u001B[34m\u001B[1mtrain: \u001B[0m/media/abawi/e38fddf9-a92e-4c73-b905-995771f8fc3a/datasets/segmentation/yolo_style_fourclass/train/images/1 (212).jpg: corrupt JPEG restored and saved\n",
      "\u001B[34m\u001B[1mtrain: \u001B[0m/media/abawi/e38fddf9-a92e-4c73-b905-995771f8fc3a/datasets/segmentation/yolo_style_fourclass/train/images/1 (213).jpg: corrupt JPEG restored and saved\n",
      "\u001B[34m\u001B[1mtrain: \u001B[0m/media/abawi/e38fddf9-a92e-4c73-b905-995771f8fc3a/datasets/segmentation/yolo_style_fourclass/train/images/1 (215).jpg: corrupt JPEG restored and saved\n",
      "\u001B[34m\u001B[1mtrain: \u001B[0m/media/abawi/e38fddf9-a92e-4c73-b905-995771f8fc3a/datasets/segmentation/yolo_style_fourclass/train/images/1 (216).jpg: corrupt JPEG restored and saved\n",
      "\u001B[34m\u001B[1mtrain: \u001B[0m/media/abawi/e38fddf9-a92e-4c73-b905-995771f8fc3a/datasets/segmentation/yolo_style_fourclass/train/images/1 (217).jpg: corrupt JPEG restored and saved\n",
      "\u001B[34m\u001B[1mtrain: \u001B[0m/media/abawi/e38fddf9-a92e-4c73-b905-995771f8fc3a/datasets/segmentation/yolo_style_fourclass/train/images/1 (218).jpg: corrupt JPEG restored and saved\n",
      "\u001B[34m\u001B[1mtrain: \u001B[0m/media/abawi/e38fddf9-a92e-4c73-b905-995771f8fc3a/datasets/segmentation/yolo_style_fourclass/train/images/1 (219).jpg: corrupt JPEG restored and saved\n",
      "\u001B[34m\u001B[1mtrain: \u001B[0m/media/abawi/e38fddf9-a92e-4c73-b905-995771f8fc3a/datasets/segmentation/yolo_style_fourclass/train/images/1 (22).jpg: corrupt JPEG restored and saved\n",
      "\u001B[34m\u001B[1mtrain: \u001B[0m/media/abawi/e38fddf9-a92e-4c73-b905-995771f8fc3a/datasets/segmentation/yolo_style_fourclass/train/images/1 (220).jpg: corrupt JPEG restored and saved\n",
      "\u001B[34m\u001B[1mtrain: \u001B[0m/media/abawi/e38fddf9-a92e-4c73-b905-995771f8fc3a/datasets/segmentation/yolo_style_fourclass/train/images/1 (222).jpg: corrupt JPEG restored and saved\n",
      "\u001B[34m\u001B[1mtrain: \u001B[0m/media/abawi/e38fddf9-a92e-4c73-b905-995771f8fc3a/datasets/segmentation/yolo_style_fourclass/train/images/1 (223).jpg: corrupt JPEG restored and saved\n",
      "\u001B[34m\u001B[1mtrain: \u001B[0m/media/abawi/e38fddf9-a92e-4c73-b905-995771f8fc3a/datasets/segmentation/yolo_style_fourclass/train/images/1 (224).jpg: corrupt JPEG restored and saved\n",
      "\u001B[34m\u001B[1mtrain: \u001B[0m/media/abawi/e38fddf9-a92e-4c73-b905-995771f8fc3a/datasets/segmentation/yolo_style_fourclass/train/images/1 (225).jpg: corrupt JPEG restored and saved\n",
      "\u001B[34m\u001B[1mtrain: \u001B[0m/media/abawi/e38fddf9-a92e-4c73-b905-995771f8fc3a/datasets/segmentation/yolo_style_fourclass/train/images/1 (227).jpg: corrupt JPEG restored and saved\n",
      "\u001B[34m\u001B[1mtrain: \u001B[0m/media/abawi/e38fddf9-a92e-4c73-b905-995771f8fc3a/datasets/segmentation/yolo_style_fourclass/train/images/1 (228).jpg: corrupt JPEG restored and saved\n",
      "\u001B[34m\u001B[1mtrain: \u001B[0m/media/abawi/e38fddf9-a92e-4c73-b905-995771f8fc3a/datasets/segmentation/yolo_style_fourclass/train/images/1 (229).jpg: corrupt JPEG restored and saved\n",
      "\u001B[34m\u001B[1mtrain: \u001B[0m/media/abawi/e38fddf9-a92e-4c73-b905-995771f8fc3a/datasets/segmentation/yolo_style_fourclass/train/images/1 (23).jpg: corrupt JPEG restored and saved\n",
      "\u001B[34m\u001B[1mtrain: \u001B[0m/media/abawi/e38fddf9-a92e-4c73-b905-995771f8fc3a/datasets/segmentation/yolo_style_fourclass/train/images/1 (231).jpg: corrupt JPEG restored and saved\n",
      "\u001B[34m\u001B[1mtrain: \u001B[0m/media/abawi/e38fddf9-a92e-4c73-b905-995771f8fc3a/datasets/segmentation/yolo_style_fourclass/train/images/1 (232).jpg: corrupt JPEG restored and saved\n",
      "\u001B[34m\u001B[1mtrain: \u001B[0m/media/abawi/e38fddf9-a92e-4c73-b905-995771f8fc3a/datasets/segmentation/yolo_style_fourclass/train/images/1 (233).jpg: corrupt JPEG restored and saved\n",
      "\u001B[34m\u001B[1mtrain: \u001B[0m/media/abawi/e38fddf9-a92e-4c73-b905-995771f8fc3a/datasets/segmentation/yolo_style_fourclass/train/images/1 (235).jpg: corrupt JPEG restored and saved\n",
      "\u001B[34m\u001B[1mtrain: \u001B[0m/media/abawi/e38fddf9-a92e-4c73-b905-995771f8fc3a/datasets/segmentation/yolo_style_fourclass/train/images/1 (236).jpg: corrupt JPEG restored and saved\n",
      "\u001B[34m\u001B[1mtrain: \u001B[0m/media/abawi/e38fddf9-a92e-4c73-b905-995771f8fc3a/datasets/segmentation/yolo_style_fourclass/train/images/1 (237).jpg: corrupt JPEG restored and saved\n",
      "\u001B[34m\u001B[1mtrain: \u001B[0m/media/abawi/e38fddf9-a92e-4c73-b905-995771f8fc3a/datasets/segmentation/yolo_style_fourclass/train/images/1 (238).jpg: corrupt JPEG restored and saved\n",
      "\u001B[34m\u001B[1mtrain: \u001B[0m/media/abawi/e38fddf9-a92e-4c73-b905-995771f8fc3a/datasets/segmentation/yolo_style_fourclass/train/images/1 (239).jpg: corrupt JPEG restored and saved\n",
      "\u001B[34m\u001B[1mtrain: \u001B[0m/media/abawi/e38fddf9-a92e-4c73-b905-995771f8fc3a/datasets/segmentation/yolo_style_fourclass/train/images/1 (24).jpg: corrupt JPEG restored and saved\n",
      "\u001B[34m\u001B[1mtrain: \u001B[0m/media/abawi/e38fddf9-a92e-4c73-b905-995771f8fc3a/datasets/segmentation/yolo_style_fourclass/train/images/1 (240).jpg: corrupt JPEG restored and saved\n",
      "\u001B[34m\u001B[1mtrain: \u001B[0m/media/abawi/e38fddf9-a92e-4c73-b905-995771f8fc3a/datasets/segmentation/yolo_style_fourclass/train/images/1 (241).jpg: corrupt JPEG restored and saved\n",
      "\u001B[34m\u001B[1mtrain: \u001B[0m/media/abawi/e38fddf9-a92e-4c73-b905-995771f8fc3a/datasets/segmentation/yolo_style_fourclass/train/images/1 (242).jpg: corrupt JPEG restored and saved\n",
      "\u001B[34m\u001B[1mtrain: \u001B[0m/media/abawi/e38fddf9-a92e-4c73-b905-995771f8fc3a/datasets/segmentation/yolo_style_fourclass/train/images/1 (244).jpg: corrupt JPEG restored and saved\n",
      "\u001B[34m\u001B[1mtrain: \u001B[0m/media/abawi/e38fddf9-a92e-4c73-b905-995771f8fc3a/datasets/segmentation/yolo_style_fourclass/train/images/1 (245).jpg: corrupt JPEG restored and saved\n",
      "\u001B[34m\u001B[1mtrain: \u001B[0m/media/abawi/e38fddf9-a92e-4c73-b905-995771f8fc3a/datasets/segmentation/yolo_style_fourclass/train/images/1 (246).jpg: corrupt JPEG restored and saved\n",
      "\u001B[34m\u001B[1mtrain: \u001B[0m/media/abawi/e38fddf9-a92e-4c73-b905-995771f8fc3a/datasets/segmentation/yolo_style_fourclass/train/images/1 (247).jpg: corrupt JPEG restored and saved\n",
      "\u001B[34m\u001B[1mtrain: \u001B[0m/media/abawi/e38fddf9-a92e-4c73-b905-995771f8fc3a/datasets/segmentation/yolo_style_fourclass/train/images/1 (248).jpg: corrupt JPEG restored and saved\n",
      "\u001B[34m\u001B[1mtrain: \u001B[0m/media/abawi/e38fddf9-a92e-4c73-b905-995771f8fc3a/datasets/segmentation/yolo_style_fourclass/train/images/1 (249).jpg: corrupt JPEG restored and saved\n",
      "\u001B[34m\u001B[1mtrain: \u001B[0m/media/abawi/e38fddf9-a92e-4c73-b905-995771f8fc3a/datasets/segmentation/yolo_style_fourclass/train/images/1 (25).jpg: corrupt JPEG restored and saved\n",
      "\u001B[34m\u001B[1mtrain: \u001B[0m/media/abawi/e38fddf9-a92e-4c73-b905-995771f8fc3a/datasets/segmentation/yolo_style_fourclass/train/images/1 (250).jpg: corrupt JPEG restored and saved\n",
      "\u001B[34m\u001B[1mtrain: \u001B[0m/media/abawi/e38fddf9-a92e-4c73-b905-995771f8fc3a/datasets/segmentation/yolo_style_fourclass/train/images/1 (252).jpg: corrupt JPEG restored and saved\n",
      "\u001B[34m\u001B[1mtrain: \u001B[0m/media/abawi/e38fddf9-a92e-4c73-b905-995771f8fc3a/datasets/segmentation/yolo_style_fourclass/train/images/1 (253).jpg: corrupt JPEG restored and saved\n",
      "\u001B[34m\u001B[1mtrain: \u001B[0m/media/abawi/e38fddf9-a92e-4c73-b905-995771f8fc3a/datasets/segmentation/yolo_style_fourclass/train/images/1 (254).jpg: corrupt JPEG restored and saved\n",
      "\u001B[34m\u001B[1mtrain: \u001B[0m/media/abawi/e38fddf9-a92e-4c73-b905-995771f8fc3a/datasets/segmentation/yolo_style_fourclass/train/images/1 (255).jpg: corrupt JPEG restored and saved\n",
      "\u001B[34m\u001B[1mtrain: \u001B[0m/media/abawi/e38fddf9-a92e-4c73-b905-995771f8fc3a/datasets/segmentation/yolo_style_fourclass/train/images/1 (256).jpg: corrupt JPEG restored and saved\n",
      "\u001B[34m\u001B[1mtrain: \u001B[0m/media/abawi/e38fddf9-a92e-4c73-b905-995771f8fc3a/datasets/segmentation/yolo_style_fourclass/train/images/1 (257).jpg: corrupt JPEG restored and saved\n",
      "\u001B[34m\u001B[1mtrain: \u001B[0m/media/abawi/e38fddf9-a92e-4c73-b905-995771f8fc3a/datasets/segmentation/yolo_style_fourclass/train/images/1 (258).jpg: corrupt JPEG restored and saved\n",
      "\u001B[34m\u001B[1mtrain: \u001B[0m/media/abawi/e38fddf9-a92e-4c73-b905-995771f8fc3a/datasets/segmentation/yolo_style_fourclass/train/images/1 (259).jpg: corrupt JPEG restored and saved\n",
      "\u001B[34m\u001B[1mtrain: \u001B[0m/media/abawi/e38fddf9-a92e-4c73-b905-995771f8fc3a/datasets/segmentation/yolo_style_fourclass/train/images/1 (26).jpg: corrupt JPEG restored and saved\n",
      "\u001B[34m\u001B[1mtrain: \u001B[0m/media/abawi/e38fddf9-a92e-4c73-b905-995771f8fc3a/datasets/segmentation/yolo_style_fourclass/train/images/1 (260).jpg: corrupt JPEG restored and saved\n",
      "\u001B[34m\u001B[1mtrain: \u001B[0m/media/abawi/e38fddf9-a92e-4c73-b905-995771f8fc3a/datasets/segmentation/yolo_style_fourclass/train/images/1 (261).jpg: corrupt JPEG restored and saved\n",
      "\u001B[34m\u001B[1mtrain: \u001B[0m/media/abawi/e38fddf9-a92e-4c73-b905-995771f8fc3a/datasets/segmentation/yolo_style_fourclass/train/images/1 (262).jpg: corrupt JPEG restored and saved\n",
      "\u001B[34m\u001B[1mtrain: \u001B[0m/media/abawi/e38fddf9-a92e-4c73-b905-995771f8fc3a/datasets/segmentation/yolo_style_fourclass/train/images/1 (263).jpg: corrupt JPEG restored and saved\n",
      "\u001B[34m\u001B[1mtrain: \u001B[0m/media/abawi/e38fddf9-a92e-4c73-b905-995771f8fc3a/datasets/segmentation/yolo_style_fourclass/train/images/1 (264).jpg: corrupt JPEG restored and saved\n",
      "\u001B[34m\u001B[1mtrain: \u001B[0m/media/abawi/e38fddf9-a92e-4c73-b905-995771f8fc3a/datasets/segmentation/yolo_style_fourclass/train/images/1 (265).jpg: corrupt JPEG restored and saved\n",
      "\u001B[34m\u001B[1mtrain: \u001B[0m/media/abawi/e38fddf9-a92e-4c73-b905-995771f8fc3a/datasets/segmentation/yolo_style_fourclass/train/images/1 (267).jpg: corrupt JPEG restored and saved\n",
      "\u001B[34m\u001B[1mtrain: \u001B[0m/media/abawi/e38fddf9-a92e-4c73-b905-995771f8fc3a/datasets/segmentation/yolo_style_fourclass/train/images/1 (268).jpg: corrupt JPEG restored and saved\n",
      "\u001B[34m\u001B[1mtrain: \u001B[0m/media/abawi/e38fddf9-a92e-4c73-b905-995771f8fc3a/datasets/segmentation/yolo_style_fourclass/train/images/1 (269).jpg: corrupt JPEG restored and saved\n",
      "\u001B[34m\u001B[1mtrain: \u001B[0m/media/abawi/e38fddf9-a92e-4c73-b905-995771f8fc3a/datasets/segmentation/yolo_style_fourclass/train/images/1 (27).jpg: corrupt JPEG restored and saved\n",
      "\u001B[34m\u001B[1mtrain: \u001B[0m/media/abawi/e38fddf9-a92e-4c73-b905-995771f8fc3a/datasets/segmentation/yolo_style_fourclass/train/images/1 (270).jpg: corrupt JPEG restored and saved\n",
      "\u001B[34m\u001B[1mtrain: \u001B[0m/media/abawi/e38fddf9-a92e-4c73-b905-995771f8fc3a/datasets/segmentation/yolo_style_fourclass/train/images/1 (271).jpg: corrupt JPEG restored and saved\n",
      "\u001B[34m\u001B[1mtrain: \u001B[0m/media/abawi/e38fddf9-a92e-4c73-b905-995771f8fc3a/datasets/segmentation/yolo_style_fourclass/train/images/1 (272).jpg: corrupt JPEG restored and saved\n",
      "\u001B[34m\u001B[1mtrain: \u001B[0m/media/abawi/e38fddf9-a92e-4c73-b905-995771f8fc3a/datasets/segmentation/yolo_style_fourclass/train/images/1 (274).jpg: corrupt JPEG restored and saved\n",
      "\u001B[34m\u001B[1mtrain: \u001B[0m/media/abawi/e38fddf9-a92e-4c73-b905-995771f8fc3a/datasets/segmentation/yolo_style_fourclass/train/images/1 (275).jpg: corrupt JPEG restored and saved\n",
      "\u001B[34m\u001B[1mtrain: \u001B[0m/media/abawi/e38fddf9-a92e-4c73-b905-995771f8fc3a/datasets/segmentation/yolo_style_fourclass/train/images/1 (276).jpg: corrupt JPEG restored and saved\n",
      "\u001B[34m\u001B[1mtrain: \u001B[0m/media/abawi/e38fddf9-a92e-4c73-b905-995771f8fc3a/datasets/segmentation/yolo_style_fourclass/train/images/1 (277).jpg: corrupt JPEG restored and saved\n",
      "\u001B[34m\u001B[1mtrain: \u001B[0m/media/abawi/e38fddf9-a92e-4c73-b905-995771f8fc3a/datasets/segmentation/yolo_style_fourclass/train/images/1 (278).jpg: corrupt JPEG restored and saved\n",
      "\u001B[34m\u001B[1mtrain: \u001B[0m/media/abawi/e38fddf9-a92e-4c73-b905-995771f8fc3a/datasets/segmentation/yolo_style_fourclass/train/images/1 (279).jpg: corrupt JPEG restored and saved\n",
      "\u001B[34m\u001B[1mtrain: \u001B[0m/media/abawi/e38fddf9-a92e-4c73-b905-995771f8fc3a/datasets/segmentation/yolo_style_fourclass/train/images/1 (28).jpg: corrupt JPEG restored and saved\n",
      "\u001B[34m\u001B[1mtrain: \u001B[0m/media/abawi/e38fddf9-a92e-4c73-b905-995771f8fc3a/datasets/segmentation/yolo_style_fourclass/train/images/1 (280).jpg: corrupt JPEG restored and saved\n",
      "\u001B[34m\u001B[1mtrain: \u001B[0m/media/abawi/e38fddf9-a92e-4c73-b905-995771f8fc3a/datasets/segmentation/yolo_style_fourclass/train/images/1 (281).jpg: corrupt JPEG restored and saved\n",
      "\u001B[34m\u001B[1mtrain: \u001B[0m/media/abawi/e38fddf9-a92e-4c73-b905-995771f8fc3a/datasets/segmentation/yolo_style_fourclass/train/images/1 (282).jpg: corrupt JPEG restored and saved\n",
      "\u001B[34m\u001B[1mtrain: \u001B[0m/media/abawi/e38fddf9-a92e-4c73-b905-995771f8fc3a/datasets/segmentation/yolo_style_fourclass/train/images/1 (283).jpg: corrupt JPEG restored and saved\n",
      "\u001B[34m\u001B[1mtrain: \u001B[0m/media/abawi/e38fddf9-a92e-4c73-b905-995771f8fc3a/datasets/segmentation/yolo_style_fourclass/train/images/1 (284).jpg: corrupt JPEG restored and saved\n",
      "\u001B[34m\u001B[1mtrain: \u001B[0m/media/abawi/e38fddf9-a92e-4c73-b905-995771f8fc3a/datasets/segmentation/yolo_style_fourclass/train/images/1 (285).jpg: corrupt JPEG restored and saved\n",
      "\u001B[34m\u001B[1mtrain: \u001B[0m/media/abawi/e38fddf9-a92e-4c73-b905-995771f8fc3a/datasets/segmentation/yolo_style_fourclass/train/images/1 (286).jpg: corrupt JPEG restored and saved\n",
      "\u001B[34m\u001B[1mtrain: \u001B[0m/media/abawi/e38fddf9-a92e-4c73-b905-995771f8fc3a/datasets/segmentation/yolo_style_fourclass/train/images/1 (288).jpg: corrupt JPEG restored and saved\n",
      "\u001B[34m\u001B[1mtrain: \u001B[0m/media/abawi/e38fddf9-a92e-4c73-b905-995771f8fc3a/datasets/segmentation/yolo_style_fourclass/train/images/1 (289).jpg: corrupt JPEG restored and saved\n",
      "\u001B[34m\u001B[1mtrain: \u001B[0m/media/abawi/e38fddf9-a92e-4c73-b905-995771f8fc3a/datasets/segmentation/yolo_style_fourclass/train/images/1 (290).jpg: corrupt JPEG restored and saved\n",
      "\u001B[34m\u001B[1mtrain: \u001B[0m/media/abawi/e38fddf9-a92e-4c73-b905-995771f8fc3a/datasets/segmentation/yolo_style_fourclass/train/images/1 (291).jpg: corrupt JPEG restored and saved\n",
      "\u001B[34m\u001B[1mtrain: \u001B[0m/media/abawi/e38fddf9-a92e-4c73-b905-995771f8fc3a/datasets/segmentation/yolo_style_fourclass/train/images/1 (292).jpg: corrupt JPEG restored and saved\n",
      "\u001B[34m\u001B[1mtrain: \u001B[0m/media/abawi/e38fddf9-a92e-4c73-b905-995771f8fc3a/datasets/segmentation/yolo_style_fourclass/train/images/1 (293).jpg: corrupt JPEG restored and saved\n",
      "\u001B[34m\u001B[1mtrain: \u001B[0m/media/abawi/e38fddf9-a92e-4c73-b905-995771f8fc3a/datasets/segmentation/yolo_style_fourclass/train/images/1 (294).jpg: corrupt JPEG restored and saved\n",
      "\u001B[34m\u001B[1mtrain: \u001B[0m/media/abawi/e38fddf9-a92e-4c73-b905-995771f8fc3a/datasets/segmentation/yolo_style_fourclass/train/images/1 (295).jpg: corrupt JPEG restored and saved\n",
      "\u001B[34m\u001B[1mtrain: \u001B[0m/media/abawi/e38fddf9-a92e-4c73-b905-995771f8fc3a/datasets/segmentation/yolo_style_fourclass/train/images/1 (297).jpg: corrupt JPEG restored and saved\n",
      "\u001B[34m\u001B[1mtrain: \u001B[0m/media/abawi/e38fddf9-a92e-4c73-b905-995771f8fc3a/datasets/segmentation/yolo_style_fourclass/train/images/1 (298).jpg: corrupt JPEG restored and saved\n",
      "\u001B[34m\u001B[1mtrain: \u001B[0m/media/abawi/e38fddf9-a92e-4c73-b905-995771f8fc3a/datasets/segmentation/yolo_style_fourclass/train/images/1 (299).jpg: corrupt JPEG restored and saved\n",
      "\u001B[34m\u001B[1mtrain: \u001B[0m/media/abawi/e38fddf9-a92e-4c73-b905-995771f8fc3a/datasets/segmentation/yolo_style_fourclass/train/images/1 (3).jpg: corrupt JPEG restored and saved\n",
      "\u001B[34m\u001B[1mtrain: \u001B[0m/media/abawi/e38fddf9-a92e-4c73-b905-995771f8fc3a/datasets/segmentation/yolo_style_fourclass/train/images/1 (30).jpg: corrupt JPEG restored and saved\n",
      "\u001B[34m\u001B[1mtrain: \u001B[0m/media/abawi/e38fddf9-a92e-4c73-b905-995771f8fc3a/datasets/segmentation/yolo_style_fourclass/train/images/1 (300).jpg: corrupt JPEG restored and saved\n",
      "\u001B[34m\u001B[1mtrain: \u001B[0m/media/abawi/e38fddf9-a92e-4c73-b905-995771f8fc3a/datasets/segmentation/yolo_style_fourclass/train/images/1 (301).jpg: corrupt JPEG restored and saved\n",
      "\u001B[34m\u001B[1mtrain: \u001B[0m/media/abawi/e38fddf9-a92e-4c73-b905-995771f8fc3a/datasets/segmentation/yolo_style_fourclass/train/images/1 (302).jpg: corrupt JPEG restored and saved\n",
      "\u001B[34m\u001B[1mtrain: \u001B[0m/media/abawi/e38fddf9-a92e-4c73-b905-995771f8fc3a/datasets/segmentation/yolo_style_fourclass/train/images/1 (303).jpg: corrupt JPEG restored and saved\n",
      "\u001B[34m\u001B[1mtrain: \u001B[0m/media/abawi/e38fddf9-a92e-4c73-b905-995771f8fc3a/datasets/segmentation/yolo_style_fourclass/train/images/1 (304).jpg: corrupt JPEG restored and saved\n",
      "\u001B[34m\u001B[1mtrain: \u001B[0m/media/abawi/e38fddf9-a92e-4c73-b905-995771f8fc3a/datasets/segmentation/yolo_style_fourclass/train/images/1 (305).jpg: corrupt JPEG restored and saved\n",
      "\u001B[34m\u001B[1mtrain: \u001B[0m/media/abawi/e38fddf9-a92e-4c73-b905-995771f8fc3a/datasets/segmentation/yolo_style_fourclass/train/images/1 (306).jpg: corrupt JPEG restored and saved\n",
      "\u001B[34m\u001B[1mtrain: \u001B[0m/media/abawi/e38fddf9-a92e-4c73-b905-995771f8fc3a/datasets/segmentation/yolo_style_fourclass/train/images/1 (307).jpg: corrupt JPEG restored and saved\n",
      "\u001B[34m\u001B[1mtrain: \u001B[0m/media/abawi/e38fddf9-a92e-4c73-b905-995771f8fc3a/datasets/segmentation/yolo_style_fourclass/train/images/1 (308).jpg: corrupt JPEG restored and saved\n",
      "\u001B[34m\u001B[1mtrain: \u001B[0m/media/abawi/e38fddf9-a92e-4c73-b905-995771f8fc3a/datasets/segmentation/yolo_style_fourclass/train/images/1 (31).jpg: corrupt JPEG restored and saved\n",
      "\u001B[34m\u001B[1mtrain: \u001B[0m/media/abawi/e38fddf9-a92e-4c73-b905-995771f8fc3a/datasets/segmentation/yolo_style_fourclass/train/images/1 (310).jpg: corrupt JPEG restored and saved\n",
      "\u001B[34m\u001B[1mtrain: \u001B[0m/media/abawi/e38fddf9-a92e-4c73-b905-995771f8fc3a/datasets/segmentation/yolo_style_fourclass/train/images/1 (311).jpg: corrupt JPEG restored and saved\n",
      "\u001B[34m\u001B[1mtrain: \u001B[0m/media/abawi/e38fddf9-a92e-4c73-b905-995771f8fc3a/datasets/segmentation/yolo_style_fourclass/train/images/1 (313).jpg: corrupt JPEG restored and saved\n",
      "\u001B[34m\u001B[1mtrain: \u001B[0m/media/abawi/e38fddf9-a92e-4c73-b905-995771f8fc3a/datasets/segmentation/yolo_style_fourclass/train/images/1 (314).jpg: corrupt JPEG restored and saved\n",
      "\u001B[34m\u001B[1mtrain: \u001B[0m/media/abawi/e38fddf9-a92e-4c73-b905-995771f8fc3a/datasets/segmentation/yolo_style_fourclass/train/images/1 (315).jpg: corrupt JPEG restored and saved\n",
      "\u001B[34m\u001B[1mtrain: \u001B[0m/media/abawi/e38fddf9-a92e-4c73-b905-995771f8fc3a/datasets/segmentation/yolo_style_fourclass/train/images/1 (316).jpg: corrupt JPEG restored and saved\n",
      "\u001B[34m\u001B[1mtrain: \u001B[0m/media/abawi/e38fddf9-a92e-4c73-b905-995771f8fc3a/datasets/segmentation/yolo_style_fourclass/train/images/1 (317).jpg: corrupt JPEG restored and saved\n",
      "\u001B[34m\u001B[1mtrain: \u001B[0m/media/abawi/e38fddf9-a92e-4c73-b905-995771f8fc3a/datasets/segmentation/yolo_style_fourclass/train/images/1 (319).jpg: corrupt JPEG restored and saved\n",
      "\u001B[34m\u001B[1mtrain: \u001B[0m/media/abawi/e38fddf9-a92e-4c73-b905-995771f8fc3a/datasets/segmentation/yolo_style_fourclass/train/images/1 (32).jpg: corrupt JPEG restored and saved\n",
      "\u001B[34m\u001B[1mtrain: \u001B[0m/media/abawi/e38fddf9-a92e-4c73-b905-995771f8fc3a/datasets/segmentation/yolo_style_fourclass/train/images/1 (320).jpg: corrupt JPEG restored and saved\n",
      "\u001B[34m\u001B[1mtrain: \u001B[0m/media/abawi/e38fddf9-a92e-4c73-b905-995771f8fc3a/datasets/segmentation/yolo_style_fourclass/train/images/1 (321).jpg: corrupt JPEG restored and saved\n",
      "\u001B[34m\u001B[1mtrain: \u001B[0m/media/abawi/e38fddf9-a92e-4c73-b905-995771f8fc3a/datasets/segmentation/yolo_style_fourclass/train/images/1 (322).jpg: corrupt JPEG restored and saved\n",
      "\u001B[34m\u001B[1mtrain: \u001B[0m/media/abawi/e38fddf9-a92e-4c73-b905-995771f8fc3a/datasets/segmentation/yolo_style_fourclass/train/images/1 (323).jpg: corrupt JPEG restored and saved\n",
      "\u001B[34m\u001B[1mtrain: \u001B[0m/media/abawi/e38fddf9-a92e-4c73-b905-995771f8fc3a/datasets/segmentation/yolo_style_fourclass/train/images/1 (324).jpg: corrupt JPEG restored and saved\n",
      "\u001B[34m\u001B[1mtrain: \u001B[0m/media/abawi/e38fddf9-a92e-4c73-b905-995771f8fc3a/datasets/segmentation/yolo_style_fourclass/train/images/1 (325).jpg: corrupt JPEG restored and saved\n",
      "\u001B[34m\u001B[1mtrain: \u001B[0m/media/abawi/e38fddf9-a92e-4c73-b905-995771f8fc3a/datasets/segmentation/yolo_style_fourclass/train/images/1 (326).jpg: corrupt JPEG restored and saved\n",
      "\u001B[34m\u001B[1mtrain: \u001B[0m/media/abawi/e38fddf9-a92e-4c73-b905-995771f8fc3a/datasets/segmentation/yolo_style_fourclass/train/images/1 (327).jpg: corrupt JPEG restored and saved\n",
      "\u001B[34m\u001B[1mtrain: \u001B[0m/media/abawi/e38fddf9-a92e-4c73-b905-995771f8fc3a/datasets/segmentation/yolo_style_fourclass/train/images/1 (328).jpg: corrupt JPEG restored and saved\n",
      "\u001B[34m\u001B[1mtrain: \u001B[0m/media/abawi/e38fddf9-a92e-4c73-b905-995771f8fc3a/datasets/segmentation/yolo_style_fourclass/train/images/1 (329).jpg: corrupt JPEG restored and saved\n",
      "\u001B[34m\u001B[1mtrain: \u001B[0m/media/abawi/e38fddf9-a92e-4c73-b905-995771f8fc3a/datasets/segmentation/yolo_style_fourclass/train/images/1 (33).jpg: corrupt JPEG restored and saved\n",
      "\u001B[34m\u001B[1mtrain: \u001B[0m/media/abawi/e38fddf9-a92e-4c73-b905-995771f8fc3a/datasets/segmentation/yolo_style_fourclass/train/images/1 (330).jpg: corrupt JPEG restored and saved\n",
      "\u001B[34m\u001B[1mtrain: \u001B[0m/media/abawi/e38fddf9-a92e-4c73-b905-995771f8fc3a/datasets/segmentation/yolo_style_fourclass/train/images/1 (332).jpg: corrupt JPEG restored and saved\n",
      "\u001B[34m\u001B[1mtrain: \u001B[0m/media/abawi/e38fddf9-a92e-4c73-b905-995771f8fc3a/datasets/segmentation/yolo_style_fourclass/train/images/1 (333).jpg: corrupt JPEG restored and saved\n",
      "\u001B[34m\u001B[1mtrain: \u001B[0m/media/abawi/e38fddf9-a92e-4c73-b905-995771f8fc3a/datasets/segmentation/yolo_style_fourclass/train/images/1 (334).jpg: corrupt JPEG restored and saved\n",
      "\u001B[34m\u001B[1mtrain: \u001B[0m/media/abawi/e38fddf9-a92e-4c73-b905-995771f8fc3a/datasets/segmentation/yolo_style_fourclass/train/images/1 (335).jpg: corrupt JPEG restored and saved\n",
      "\u001B[34m\u001B[1mtrain: \u001B[0m/media/abawi/e38fddf9-a92e-4c73-b905-995771f8fc3a/datasets/segmentation/yolo_style_fourclass/train/images/1 (336).jpg: corrupt JPEG restored and saved\n",
      "\u001B[34m\u001B[1mtrain: \u001B[0m/media/abawi/e38fddf9-a92e-4c73-b905-995771f8fc3a/datasets/segmentation/yolo_style_fourclass/train/images/1 (337).jpg: corrupt JPEG restored and saved\n",
      "\u001B[34m\u001B[1mtrain: \u001B[0m/media/abawi/e38fddf9-a92e-4c73-b905-995771f8fc3a/datasets/segmentation/yolo_style_fourclass/train/images/1 (339).jpg: corrupt JPEG restored and saved\n",
      "\u001B[34m\u001B[1mtrain: \u001B[0m/media/abawi/e38fddf9-a92e-4c73-b905-995771f8fc3a/datasets/segmentation/yolo_style_fourclass/train/images/1 (340).jpg: corrupt JPEG restored and saved\n",
      "\u001B[34m\u001B[1mtrain: \u001B[0m/media/abawi/e38fddf9-a92e-4c73-b905-995771f8fc3a/datasets/segmentation/yolo_style_fourclass/train/images/1 (341).jpg: corrupt JPEG restored and saved\n",
      "\u001B[34m\u001B[1mtrain: \u001B[0m/media/abawi/e38fddf9-a92e-4c73-b905-995771f8fc3a/datasets/segmentation/yolo_style_fourclass/train/images/1 (343).jpg: corrupt JPEG restored and saved\n",
      "\u001B[34m\u001B[1mtrain: \u001B[0m/media/abawi/e38fddf9-a92e-4c73-b905-995771f8fc3a/datasets/segmentation/yolo_style_fourclass/train/images/1 (344).jpg: corrupt JPEG restored and saved\n",
      "\u001B[34m\u001B[1mtrain: \u001B[0m/media/abawi/e38fddf9-a92e-4c73-b905-995771f8fc3a/datasets/segmentation/yolo_style_fourclass/train/images/1 (345).jpg: corrupt JPEG restored and saved\n",
      "\u001B[34m\u001B[1mtrain: \u001B[0m/media/abawi/e38fddf9-a92e-4c73-b905-995771f8fc3a/datasets/segmentation/yolo_style_fourclass/train/images/1 (346).jpg: corrupt JPEG restored and saved\n",
      "\u001B[34m\u001B[1mtrain: \u001B[0m/media/abawi/e38fddf9-a92e-4c73-b905-995771f8fc3a/datasets/segmentation/yolo_style_fourclass/train/images/1 (348).jpg: corrupt JPEG restored and saved\n",
      "\u001B[34m\u001B[1mtrain: \u001B[0m/media/abawi/e38fddf9-a92e-4c73-b905-995771f8fc3a/datasets/segmentation/yolo_style_fourclass/train/images/1 (349).jpg: corrupt JPEG restored and saved\n",
      "\u001B[34m\u001B[1mtrain: \u001B[0m/media/abawi/e38fddf9-a92e-4c73-b905-995771f8fc3a/datasets/segmentation/yolo_style_fourclass/train/images/1 (350).jpg: corrupt JPEG restored and saved\n",
      "\u001B[34m\u001B[1mtrain: \u001B[0m/media/abawi/e38fddf9-a92e-4c73-b905-995771f8fc3a/datasets/segmentation/yolo_style_fourclass/train/images/1 (351).jpg: corrupt JPEG restored and saved\n",
      "\u001B[34m\u001B[1mtrain: \u001B[0m/media/abawi/e38fddf9-a92e-4c73-b905-995771f8fc3a/datasets/segmentation/yolo_style_fourclass/train/images/1 (352).jpg: corrupt JPEG restored and saved\n",
      "\u001B[34m\u001B[1mtrain: \u001B[0m/media/abawi/e38fddf9-a92e-4c73-b905-995771f8fc3a/datasets/segmentation/yolo_style_fourclass/train/images/1 (354).jpg: corrupt JPEG restored and saved\n",
      "\u001B[34m\u001B[1mtrain: \u001B[0m/media/abawi/e38fddf9-a92e-4c73-b905-995771f8fc3a/datasets/segmentation/yolo_style_fourclass/train/images/1 (355).jpg: corrupt JPEG restored and saved\n",
      "\u001B[34m\u001B[1mtrain: \u001B[0m/media/abawi/e38fddf9-a92e-4c73-b905-995771f8fc3a/datasets/segmentation/yolo_style_fourclass/train/images/1 (357).jpg: corrupt JPEG restored and saved\n",
      "\u001B[34m\u001B[1mtrain: \u001B[0m/media/abawi/e38fddf9-a92e-4c73-b905-995771f8fc3a/datasets/segmentation/yolo_style_fourclass/train/images/1 (358).jpg: corrupt JPEG restored and saved\n",
      "\u001B[34m\u001B[1mtrain: \u001B[0m/media/abawi/e38fddf9-a92e-4c73-b905-995771f8fc3a/datasets/segmentation/yolo_style_fourclass/train/images/1 (359).jpg: corrupt JPEG restored and saved\n",
      "\u001B[34m\u001B[1mtrain: \u001B[0m/media/abawi/e38fddf9-a92e-4c73-b905-995771f8fc3a/datasets/segmentation/yolo_style_fourclass/train/images/1 (36).jpg: corrupt JPEG restored and saved\n",
      "\u001B[34m\u001B[1mtrain: \u001B[0m/media/abawi/e38fddf9-a92e-4c73-b905-995771f8fc3a/datasets/segmentation/yolo_style_fourclass/train/images/1 (361).jpg: corrupt JPEG restored and saved\n",
      "\u001B[34m\u001B[1mtrain: \u001B[0m/media/abawi/e38fddf9-a92e-4c73-b905-995771f8fc3a/datasets/segmentation/yolo_style_fourclass/train/images/1 (362).jpg: corrupt JPEG restored and saved\n",
      "\u001B[34m\u001B[1mtrain: \u001B[0m/media/abawi/e38fddf9-a92e-4c73-b905-995771f8fc3a/datasets/segmentation/yolo_style_fourclass/train/images/1 (363).jpg: corrupt JPEG restored and saved\n",
      "\u001B[34m\u001B[1mtrain: \u001B[0m/media/abawi/e38fddf9-a92e-4c73-b905-995771f8fc3a/datasets/segmentation/yolo_style_fourclass/train/images/1 (364).jpg: corrupt JPEG restored and saved\n",
      "\u001B[34m\u001B[1mtrain: \u001B[0m/media/abawi/e38fddf9-a92e-4c73-b905-995771f8fc3a/datasets/segmentation/yolo_style_fourclass/train/images/1 (365).jpg: corrupt JPEG restored and saved\n",
      "\u001B[34m\u001B[1mtrain: \u001B[0m/media/abawi/e38fddf9-a92e-4c73-b905-995771f8fc3a/datasets/segmentation/yolo_style_fourclass/train/images/1 (366).jpg: corrupt JPEG restored and saved\n",
      "\u001B[34m\u001B[1mtrain: \u001B[0m/media/abawi/e38fddf9-a92e-4c73-b905-995771f8fc3a/datasets/segmentation/yolo_style_fourclass/train/images/1 (368).jpg: corrupt JPEG restored and saved\n",
      "\u001B[34m\u001B[1mtrain: \u001B[0m/media/abawi/e38fddf9-a92e-4c73-b905-995771f8fc3a/datasets/segmentation/yolo_style_fourclass/train/images/1 (369).jpg: corrupt JPEG restored and saved\n",
      "\u001B[34m\u001B[1mtrain: \u001B[0m/media/abawi/e38fddf9-a92e-4c73-b905-995771f8fc3a/datasets/segmentation/yolo_style_fourclass/train/images/1 (37).jpg: corrupt JPEG restored and saved\n",
      "\u001B[34m\u001B[1mtrain: \u001B[0m/media/abawi/e38fddf9-a92e-4c73-b905-995771f8fc3a/datasets/segmentation/yolo_style_fourclass/train/images/1 (371).jpg: corrupt JPEG restored and saved\n",
      "\u001B[34m\u001B[1mtrain: \u001B[0m/media/abawi/e38fddf9-a92e-4c73-b905-995771f8fc3a/datasets/segmentation/yolo_style_fourclass/train/images/1 (373).jpg: corrupt JPEG restored and saved\n",
      "\u001B[34m\u001B[1mtrain: \u001B[0m/media/abawi/e38fddf9-a92e-4c73-b905-995771f8fc3a/datasets/segmentation/yolo_style_fourclass/train/images/1 (375).jpg: corrupt JPEG restored and saved\n",
      "\u001B[34m\u001B[1mtrain: \u001B[0m/media/abawi/e38fddf9-a92e-4c73-b905-995771f8fc3a/datasets/segmentation/yolo_style_fourclass/train/images/1 (376).jpg: corrupt JPEG restored and saved\n",
      "\u001B[34m\u001B[1mtrain: \u001B[0m/media/abawi/e38fddf9-a92e-4c73-b905-995771f8fc3a/datasets/segmentation/yolo_style_fourclass/train/images/1 (377).jpg: corrupt JPEG restored and saved\n",
      "\u001B[34m\u001B[1mtrain: \u001B[0m/media/abawi/e38fddf9-a92e-4c73-b905-995771f8fc3a/datasets/segmentation/yolo_style_fourclass/train/images/1 (378).jpg: corrupt JPEG restored and saved\n",
      "\u001B[34m\u001B[1mtrain: \u001B[0m/media/abawi/e38fddf9-a92e-4c73-b905-995771f8fc3a/datasets/segmentation/yolo_style_fourclass/train/images/1 (38).jpg: corrupt JPEG restored and saved\n",
      "\u001B[34m\u001B[1mtrain: \u001B[0m/media/abawi/e38fddf9-a92e-4c73-b905-995771f8fc3a/datasets/segmentation/yolo_style_fourclass/train/images/1 (380).jpg: corrupt JPEG restored and saved\n",
      "\u001B[34m\u001B[1mtrain: \u001B[0m/media/abawi/e38fddf9-a92e-4c73-b905-995771f8fc3a/datasets/segmentation/yolo_style_fourclass/train/images/1 (381).jpg: corrupt JPEG restored and saved\n",
      "\u001B[34m\u001B[1mtrain: \u001B[0m/media/abawi/e38fddf9-a92e-4c73-b905-995771f8fc3a/datasets/segmentation/yolo_style_fourclass/train/images/1 (382).jpg: corrupt JPEG restored and saved\n",
      "\u001B[34m\u001B[1mtrain: \u001B[0m/media/abawi/e38fddf9-a92e-4c73-b905-995771f8fc3a/datasets/segmentation/yolo_style_fourclass/train/images/1 (383).jpg: corrupt JPEG restored and saved\n",
      "\u001B[34m\u001B[1mtrain: \u001B[0m/media/abawi/e38fddf9-a92e-4c73-b905-995771f8fc3a/datasets/segmentation/yolo_style_fourclass/train/images/1 (384).jpg: corrupt JPEG restored and saved\n",
      "\u001B[34m\u001B[1mtrain: \u001B[0m/media/abawi/e38fddf9-a92e-4c73-b905-995771f8fc3a/datasets/segmentation/yolo_style_fourclass/train/images/1 (385).jpg: corrupt JPEG restored and saved\n",
      "\u001B[34m\u001B[1mtrain: \u001B[0m/media/abawi/e38fddf9-a92e-4c73-b905-995771f8fc3a/datasets/segmentation/yolo_style_fourclass/train/images/1 (386).jpg: corrupt JPEG restored and saved\n",
      "\u001B[34m\u001B[1mtrain: \u001B[0m/media/abawi/e38fddf9-a92e-4c73-b905-995771f8fc3a/datasets/segmentation/yolo_style_fourclass/train/images/1 (387).jpg: corrupt JPEG restored and saved\n",
      "\u001B[34m\u001B[1mtrain: \u001B[0m/media/abawi/e38fddf9-a92e-4c73-b905-995771f8fc3a/datasets/segmentation/yolo_style_fourclass/train/images/1 (388).jpg: corrupt JPEG restored and saved\n",
      "\u001B[34m\u001B[1mtrain: \u001B[0m/media/abawi/e38fddf9-a92e-4c73-b905-995771f8fc3a/datasets/segmentation/yolo_style_fourclass/train/images/1 (389).jpg: corrupt JPEG restored and saved\n",
      "\u001B[34m\u001B[1mtrain: \u001B[0m/media/abawi/e38fddf9-a92e-4c73-b905-995771f8fc3a/datasets/segmentation/yolo_style_fourclass/train/images/1 (39).jpg: corrupt JPEG restored and saved\n",
      "\u001B[34m\u001B[1mtrain: \u001B[0m/media/abawi/e38fddf9-a92e-4c73-b905-995771f8fc3a/datasets/segmentation/yolo_style_fourclass/train/images/1 (390).jpg: corrupt JPEG restored and saved\n",
      "\u001B[34m\u001B[1mtrain: \u001B[0m/media/abawi/e38fddf9-a92e-4c73-b905-995771f8fc3a/datasets/segmentation/yolo_style_fourclass/train/images/1 (391).jpg: corrupt JPEG restored and saved\n",
      "\u001B[34m\u001B[1mtrain: \u001B[0m/media/abawi/e38fddf9-a92e-4c73-b905-995771f8fc3a/datasets/segmentation/yolo_style_fourclass/train/images/1 (392).jpg: corrupt JPEG restored and saved\n",
      "\u001B[34m\u001B[1mtrain: \u001B[0m/media/abawi/e38fddf9-a92e-4c73-b905-995771f8fc3a/datasets/segmentation/yolo_style_fourclass/train/images/1 (393).jpg: corrupt JPEG restored and saved\n",
      "\u001B[34m\u001B[1mtrain: \u001B[0m/media/abawi/e38fddf9-a92e-4c73-b905-995771f8fc3a/datasets/segmentation/yolo_style_fourclass/train/images/1 (394).jpg: corrupt JPEG restored and saved\n",
      "\u001B[34m\u001B[1mtrain: \u001B[0m/media/abawi/e38fddf9-a92e-4c73-b905-995771f8fc3a/datasets/segmentation/yolo_style_fourclass/train/images/1 (395).jpg: corrupt JPEG restored and saved\n",
      "\u001B[34m\u001B[1mtrain: \u001B[0m/media/abawi/e38fddf9-a92e-4c73-b905-995771f8fc3a/datasets/segmentation/yolo_style_fourclass/train/images/1 (396).jpg: corrupt JPEG restored and saved\n",
      "\u001B[34m\u001B[1mtrain: \u001B[0m/media/abawi/e38fddf9-a92e-4c73-b905-995771f8fc3a/datasets/segmentation/yolo_style_fourclass/train/images/1 (397).jpg: corrupt JPEG restored and saved\n",
      "\u001B[34m\u001B[1mtrain: \u001B[0m/media/abawi/e38fddf9-a92e-4c73-b905-995771f8fc3a/datasets/segmentation/yolo_style_fourclass/train/images/1 (399).jpg: corrupt JPEG restored and saved\n",
      "\u001B[34m\u001B[1mtrain: \u001B[0m/media/abawi/e38fddf9-a92e-4c73-b905-995771f8fc3a/datasets/segmentation/yolo_style_fourclass/train/images/1 (4).jpg: corrupt JPEG restored and saved\n",
      "\u001B[34m\u001B[1mtrain: \u001B[0m/media/abawi/e38fddf9-a92e-4c73-b905-995771f8fc3a/datasets/segmentation/yolo_style_fourclass/train/images/1 (40).jpg: corrupt JPEG restored and saved\n",
      "\u001B[34m\u001B[1mtrain: \u001B[0m/media/abawi/e38fddf9-a92e-4c73-b905-995771f8fc3a/datasets/segmentation/yolo_style_fourclass/train/images/1 (400).jpg: corrupt JPEG restored and saved\n",
      "\u001B[34m\u001B[1mtrain: \u001B[0m/media/abawi/e38fddf9-a92e-4c73-b905-995771f8fc3a/datasets/segmentation/yolo_style_fourclass/train/images/1 (401).jpg: corrupt JPEG restored and saved\n",
      "\u001B[34m\u001B[1mtrain: \u001B[0m/media/abawi/e38fddf9-a92e-4c73-b905-995771f8fc3a/datasets/segmentation/yolo_style_fourclass/train/images/1 (402).jpg: corrupt JPEG restored and saved\n",
      "\u001B[34m\u001B[1mtrain: \u001B[0m/media/abawi/e38fddf9-a92e-4c73-b905-995771f8fc3a/datasets/segmentation/yolo_style_fourclass/train/images/1 (404).jpg: corrupt JPEG restored and saved\n",
      "\u001B[34m\u001B[1mtrain: \u001B[0m/media/abawi/e38fddf9-a92e-4c73-b905-995771f8fc3a/datasets/segmentation/yolo_style_fourclass/train/images/1 (405).jpg: corrupt JPEG restored and saved\n",
      "\u001B[34m\u001B[1mtrain: \u001B[0m/media/abawi/e38fddf9-a92e-4c73-b905-995771f8fc3a/datasets/segmentation/yolo_style_fourclass/train/images/1 (407).jpg: corrupt JPEG restored and saved\n",
      "\u001B[34m\u001B[1mtrain: \u001B[0m/media/abawi/e38fddf9-a92e-4c73-b905-995771f8fc3a/datasets/segmentation/yolo_style_fourclass/train/images/1 (408).jpg: corrupt JPEG restored and saved\n",
      "\u001B[34m\u001B[1mtrain: \u001B[0m/media/abawi/e38fddf9-a92e-4c73-b905-995771f8fc3a/datasets/segmentation/yolo_style_fourclass/train/images/1 (41).jpg: corrupt JPEG restored and saved\n",
      "\u001B[34m\u001B[1mtrain: \u001B[0m/media/abawi/e38fddf9-a92e-4c73-b905-995771f8fc3a/datasets/segmentation/yolo_style_fourclass/train/images/1 (410).jpg: corrupt JPEG restored and saved\n",
      "\u001B[34m\u001B[1mtrain: \u001B[0m/media/abawi/e38fddf9-a92e-4c73-b905-995771f8fc3a/datasets/segmentation/yolo_style_fourclass/train/images/1 (411).jpg: corrupt JPEG restored and saved\n",
      "\u001B[34m\u001B[1mtrain: \u001B[0m/media/abawi/e38fddf9-a92e-4c73-b905-995771f8fc3a/datasets/segmentation/yolo_style_fourclass/train/images/1 (412).jpg: corrupt JPEG restored and saved\n",
      "\u001B[34m\u001B[1mtrain: \u001B[0m/media/abawi/e38fddf9-a92e-4c73-b905-995771f8fc3a/datasets/segmentation/yolo_style_fourclass/train/images/1 (413).jpg: corrupt JPEG restored and saved\n",
      "\u001B[34m\u001B[1mtrain: \u001B[0m/media/abawi/e38fddf9-a92e-4c73-b905-995771f8fc3a/datasets/segmentation/yolo_style_fourclass/train/images/1 (414).jpg: corrupt JPEG restored and saved\n",
      "\u001B[34m\u001B[1mtrain: \u001B[0m/media/abawi/e38fddf9-a92e-4c73-b905-995771f8fc3a/datasets/segmentation/yolo_style_fourclass/train/images/1 (415).jpg: corrupt JPEG restored and saved\n",
      "\u001B[34m\u001B[1mtrain: \u001B[0m/media/abawi/e38fddf9-a92e-4c73-b905-995771f8fc3a/datasets/segmentation/yolo_style_fourclass/train/images/1 (416).jpg: corrupt JPEG restored and saved\n",
      "\u001B[34m\u001B[1mtrain: \u001B[0m/media/abawi/e38fddf9-a92e-4c73-b905-995771f8fc3a/datasets/segmentation/yolo_style_fourclass/train/images/1 (417).jpg: corrupt JPEG restored and saved\n",
      "\u001B[34m\u001B[1mtrain: \u001B[0m/media/abawi/e38fddf9-a92e-4c73-b905-995771f8fc3a/datasets/segmentation/yolo_style_fourclass/train/images/1 (418).jpg: corrupt JPEG restored and saved\n",
      "\u001B[34m\u001B[1mtrain: \u001B[0m/media/abawi/e38fddf9-a92e-4c73-b905-995771f8fc3a/datasets/segmentation/yolo_style_fourclass/train/images/1 (419).jpg: corrupt JPEG restored and saved\n",
      "\u001B[34m\u001B[1mtrain: \u001B[0m/media/abawi/e38fddf9-a92e-4c73-b905-995771f8fc3a/datasets/segmentation/yolo_style_fourclass/train/images/1 (42).jpg: corrupt JPEG restored and saved\n",
      "\u001B[34m\u001B[1mtrain: \u001B[0m/media/abawi/e38fddf9-a92e-4c73-b905-995771f8fc3a/datasets/segmentation/yolo_style_fourclass/train/images/1 (420).jpg: corrupt JPEG restored and saved\n",
      "\u001B[34m\u001B[1mtrain: \u001B[0m/media/abawi/e38fddf9-a92e-4c73-b905-995771f8fc3a/datasets/segmentation/yolo_style_fourclass/train/images/1 (421).jpg: corrupt JPEG restored and saved\n",
      "\u001B[34m\u001B[1mtrain: \u001B[0m/media/abawi/e38fddf9-a92e-4c73-b905-995771f8fc3a/datasets/segmentation/yolo_style_fourclass/train/images/1 (422).jpg: corrupt JPEG restored and saved\n",
      "\u001B[34m\u001B[1mtrain: \u001B[0m/media/abawi/e38fddf9-a92e-4c73-b905-995771f8fc3a/datasets/segmentation/yolo_style_fourclass/train/images/1 (423).jpg: corrupt JPEG restored and saved\n",
      "\u001B[34m\u001B[1mtrain: \u001B[0m/media/abawi/e38fddf9-a92e-4c73-b905-995771f8fc3a/datasets/segmentation/yolo_style_fourclass/train/images/1 (424).jpg: corrupt JPEG restored and saved\n",
      "\u001B[34m\u001B[1mtrain: \u001B[0m/media/abawi/e38fddf9-a92e-4c73-b905-995771f8fc3a/datasets/segmentation/yolo_style_fourclass/train/images/1 (425).jpg: corrupt JPEG restored and saved\n",
      "\u001B[34m\u001B[1mtrain: \u001B[0m/media/abawi/e38fddf9-a92e-4c73-b905-995771f8fc3a/datasets/segmentation/yolo_style_fourclass/train/images/1 (426).jpg: corrupt JPEG restored and saved\n",
      "\u001B[34m\u001B[1mtrain: \u001B[0m/media/abawi/e38fddf9-a92e-4c73-b905-995771f8fc3a/datasets/segmentation/yolo_style_fourclass/train/images/1 (427).jpg: corrupt JPEG restored and saved\n",
      "\u001B[34m\u001B[1mtrain: \u001B[0m/media/abawi/e38fddf9-a92e-4c73-b905-995771f8fc3a/datasets/segmentation/yolo_style_fourclass/train/images/1 (428).jpg: corrupt JPEG restored and saved\n",
      "\u001B[34m\u001B[1mtrain: \u001B[0m/media/abawi/e38fddf9-a92e-4c73-b905-995771f8fc3a/datasets/segmentation/yolo_style_fourclass/train/images/1 (429).jpg: corrupt JPEG restored and saved\n",
      "\u001B[34m\u001B[1mtrain: \u001B[0m/media/abawi/e38fddf9-a92e-4c73-b905-995771f8fc3a/datasets/segmentation/yolo_style_fourclass/train/images/1 (43).jpg: corrupt JPEG restored and saved\n",
      "\u001B[34m\u001B[1mtrain: \u001B[0m/media/abawi/e38fddf9-a92e-4c73-b905-995771f8fc3a/datasets/segmentation/yolo_style_fourclass/train/images/1 (44).jpg: corrupt JPEG restored and saved\n",
      "\u001B[34m\u001B[1mtrain: \u001B[0m/media/abawi/e38fddf9-a92e-4c73-b905-995771f8fc3a/datasets/segmentation/yolo_style_fourclass/train/images/1 (45).jpg: corrupt JPEG restored and saved\n",
      "\u001B[34m\u001B[1mtrain: \u001B[0m/media/abawi/e38fddf9-a92e-4c73-b905-995771f8fc3a/datasets/segmentation/yolo_style_fourclass/train/images/1 (46).jpg: corrupt JPEG restored and saved\n",
      "\u001B[34m\u001B[1mtrain: \u001B[0m/media/abawi/e38fddf9-a92e-4c73-b905-995771f8fc3a/datasets/segmentation/yolo_style_fourclass/train/images/1 (47).jpg: corrupt JPEG restored and saved\n",
      "\u001B[34m\u001B[1mtrain: \u001B[0m/media/abawi/e38fddf9-a92e-4c73-b905-995771f8fc3a/datasets/segmentation/yolo_style_fourclass/train/images/1 (48).jpg: corrupt JPEG restored and saved\n",
      "\u001B[34m\u001B[1mtrain: \u001B[0m/media/abawi/e38fddf9-a92e-4c73-b905-995771f8fc3a/datasets/segmentation/yolo_style_fourclass/train/images/1 (49).jpg: corrupt JPEG restored and saved\n",
      "\u001B[34m\u001B[1mtrain: \u001B[0m/media/abawi/e38fddf9-a92e-4c73-b905-995771f8fc3a/datasets/segmentation/yolo_style_fourclass/train/images/1 (52).jpg: corrupt JPEG restored and saved\n",
      "\u001B[34m\u001B[1mtrain: \u001B[0m/media/abawi/e38fddf9-a92e-4c73-b905-995771f8fc3a/datasets/segmentation/yolo_style_fourclass/train/images/1 (53).jpg: corrupt JPEG restored and saved\n",
      "\u001B[34m\u001B[1mtrain: \u001B[0m/media/abawi/e38fddf9-a92e-4c73-b905-995771f8fc3a/datasets/segmentation/yolo_style_fourclass/train/images/1 (54).jpg: corrupt JPEG restored and saved\n",
      "\u001B[34m\u001B[1mtrain: \u001B[0m/media/abawi/e38fddf9-a92e-4c73-b905-995771f8fc3a/datasets/segmentation/yolo_style_fourclass/train/images/1 (55).jpg: corrupt JPEG restored and saved\n",
      "\u001B[34m\u001B[1mtrain: \u001B[0m/media/abawi/e38fddf9-a92e-4c73-b905-995771f8fc3a/datasets/segmentation/yolo_style_fourclass/train/images/1 (56).jpg: corrupt JPEG restored and saved\n",
      "\u001B[34m\u001B[1mtrain: \u001B[0m/media/abawi/e38fddf9-a92e-4c73-b905-995771f8fc3a/datasets/segmentation/yolo_style_fourclass/train/images/1 (57).jpg: corrupt JPEG restored and saved\n",
      "\u001B[34m\u001B[1mtrain: \u001B[0m/media/abawi/e38fddf9-a92e-4c73-b905-995771f8fc3a/datasets/segmentation/yolo_style_fourclass/train/images/1 (58).jpg: corrupt JPEG restored and saved\n",
      "\u001B[34m\u001B[1mtrain: \u001B[0m/media/abawi/e38fddf9-a92e-4c73-b905-995771f8fc3a/datasets/segmentation/yolo_style_fourclass/train/images/1 (6).jpg: corrupt JPEG restored and saved\n",
      "\u001B[34m\u001B[1mtrain: \u001B[0m/media/abawi/e38fddf9-a92e-4c73-b905-995771f8fc3a/datasets/segmentation/yolo_style_fourclass/train/images/1 (60).jpg: corrupt JPEG restored and saved\n",
      "\u001B[34m\u001B[1mtrain: \u001B[0m/media/abawi/e38fddf9-a92e-4c73-b905-995771f8fc3a/datasets/segmentation/yolo_style_fourclass/train/images/1 (61).jpg: corrupt JPEG restored and saved\n",
      "\u001B[34m\u001B[1mtrain: \u001B[0m/media/abawi/e38fddf9-a92e-4c73-b905-995771f8fc3a/datasets/segmentation/yolo_style_fourclass/train/images/1 (63).jpg: corrupt JPEG restored and saved\n",
      "\u001B[34m\u001B[1mtrain: \u001B[0m/media/abawi/e38fddf9-a92e-4c73-b905-995771f8fc3a/datasets/segmentation/yolo_style_fourclass/train/images/1 (64).jpg: corrupt JPEG restored and saved\n",
      "\u001B[34m\u001B[1mtrain: \u001B[0m/media/abawi/e38fddf9-a92e-4c73-b905-995771f8fc3a/datasets/segmentation/yolo_style_fourclass/train/images/1 (65).jpg: corrupt JPEG restored and saved\n",
      "\u001B[34m\u001B[1mtrain: \u001B[0m/media/abawi/e38fddf9-a92e-4c73-b905-995771f8fc3a/datasets/segmentation/yolo_style_fourclass/train/images/1 (66).jpg: corrupt JPEG restored and saved\n",
      "\u001B[34m\u001B[1mtrain: \u001B[0m/media/abawi/e38fddf9-a92e-4c73-b905-995771f8fc3a/datasets/segmentation/yolo_style_fourclass/train/images/1 (67).jpg: corrupt JPEG restored and saved\n",
      "\u001B[34m\u001B[1mtrain: \u001B[0m/media/abawi/e38fddf9-a92e-4c73-b905-995771f8fc3a/datasets/segmentation/yolo_style_fourclass/train/images/1 (68).jpg: corrupt JPEG restored and saved\n",
      "\u001B[34m\u001B[1mtrain: \u001B[0m/media/abawi/e38fddf9-a92e-4c73-b905-995771f8fc3a/datasets/segmentation/yolo_style_fourclass/train/images/1 (69).jpg: corrupt JPEG restored and saved\n",
      "\u001B[34m\u001B[1mtrain: \u001B[0m/media/abawi/e38fddf9-a92e-4c73-b905-995771f8fc3a/datasets/segmentation/yolo_style_fourclass/train/images/1 (70).jpg: corrupt JPEG restored and saved\n",
      "\u001B[34m\u001B[1mtrain: \u001B[0m/media/abawi/e38fddf9-a92e-4c73-b905-995771f8fc3a/datasets/segmentation/yolo_style_fourclass/train/images/1 (71).jpg: corrupt JPEG restored and saved\n",
      "\u001B[34m\u001B[1mtrain: \u001B[0m/media/abawi/e38fddf9-a92e-4c73-b905-995771f8fc3a/datasets/segmentation/yolo_style_fourclass/train/images/1 (72).jpg: corrupt JPEG restored and saved\n",
      "\u001B[34m\u001B[1mtrain: \u001B[0m/media/abawi/e38fddf9-a92e-4c73-b905-995771f8fc3a/datasets/segmentation/yolo_style_fourclass/train/images/1 (73).jpg: corrupt JPEG restored and saved\n",
      "\u001B[34m\u001B[1mtrain: \u001B[0m/media/abawi/e38fddf9-a92e-4c73-b905-995771f8fc3a/datasets/segmentation/yolo_style_fourclass/train/images/1 (74).jpg: corrupt JPEG restored and saved\n",
      "\u001B[34m\u001B[1mtrain: \u001B[0m/media/abawi/e38fddf9-a92e-4c73-b905-995771f8fc3a/datasets/segmentation/yolo_style_fourclass/train/images/1 (77).jpg: corrupt JPEG restored and saved\n",
      "\u001B[34m\u001B[1mtrain: \u001B[0m/media/abawi/e38fddf9-a92e-4c73-b905-995771f8fc3a/datasets/segmentation/yolo_style_fourclass/train/images/1 (78).jpg: corrupt JPEG restored and saved\n",
      "\u001B[34m\u001B[1mtrain: \u001B[0m/media/abawi/e38fddf9-a92e-4c73-b905-995771f8fc3a/datasets/segmentation/yolo_style_fourclass/train/images/1 (80).jpg: corrupt JPEG restored and saved\n",
      "\u001B[34m\u001B[1mtrain: \u001B[0m/media/abawi/e38fddf9-a92e-4c73-b905-995771f8fc3a/datasets/segmentation/yolo_style_fourclass/train/images/1 (81).jpg: corrupt JPEG restored and saved\n",
      "\u001B[34m\u001B[1mtrain: \u001B[0m/media/abawi/e38fddf9-a92e-4c73-b905-995771f8fc3a/datasets/segmentation/yolo_style_fourclass/train/images/1 (82).jpg: corrupt JPEG restored and saved\n",
      "\u001B[34m\u001B[1mtrain: \u001B[0m/media/abawi/e38fddf9-a92e-4c73-b905-995771f8fc3a/datasets/segmentation/yolo_style_fourclass/train/images/1 (83).jpg: corrupt JPEG restored and saved\n",
      "\u001B[34m\u001B[1mtrain: \u001B[0m/media/abawi/e38fddf9-a92e-4c73-b905-995771f8fc3a/datasets/segmentation/yolo_style_fourclass/train/images/1 (84).jpg: corrupt JPEG restored and saved\n",
      "\u001B[34m\u001B[1mtrain: \u001B[0m/media/abawi/e38fddf9-a92e-4c73-b905-995771f8fc3a/datasets/segmentation/yolo_style_fourclass/train/images/1 (85).jpg: corrupt JPEG restored and saved\n",
      "\u001B[34m\u001B[1mtrain: \u001B[0m/media/abawi/e38fddf9-a92e-4c73-b905-995771f8fc3a/datasets/segmentation/yolo_style_fourclass/train/images/1 (86).jpg: corrupt JPEG restored and saved\n",
      "\u001B[34m\u001B[1mtrain: \u001B[0m/media/abawi/e38fddf9-a92e-4c73-b905-995771f8fc3a/datasets/segmentation/yolo_style_fourclass/train/images/1 (87).jpg: corrupt JPEG restored and saved\n",
      "\u001B[34m\u001B[1mtrain: \u001B[0m/media/abawi/e38fddf9-a92e-4c73-b905-995771f8fc3a/datasets/segmentation/yolo_style_fourclass/train/images/1 (88).jpg: corrupt JPEG restored and saved\n",
      "\u001B[34m\u001B[1mtrain: \u001B[0m/media/abawi/e38fddf9-a92e-4c73-b905-995771f8fc3a/datasets/segmentation/yolo_style_fourclass/train/images/1 (90).jpg: corrupt JPEG restored and saved\n",
      "\u001B[34m\u001B[1mtrain: \u001B[0m/media/abawi/e38fddf9-a92e-4c73-b905-995771f8fc3a/datasets/segmentation/yolo_style_fourclass/train/images/1 (91).jpg: corrupt JPEG restored and saved\n",
      "\u001B[34m\u001B[1mtrain: \u001B[0m/media/abawi/e38fddf9-a92e-4c73-b905-995771f8fc3a/datasets/segmentation/yolo_style_fourclass/train/images/1 (92).jpg: corrupt JPEG restored and saved\n",
      "\u001B[34m\u001B[1mtrain: \u001B[0m/media/abawi/e38fddf9-a92e-4c73-b905-995771f8fc3a/datasets/segmentation/yolo_style_fourclass/train/images/1 (93).jpg: corrupt JPEG restored and saved\n",
      "\u001B[34m\u001B[1mtrain: \u001B[0m/media/abawi/e38fddf9-a92e-4c73-b905-995771f8fc3a/datasets/segmentation/yolo_style_fourclass/train/images/1 (95).jpg: corrupt JPEG restored and saved\n",
      "\u001B[34m\u001B[1mtrain: \u001B[0m/media/abawi/e38fddf9-a92e-4c73-b905-995771f8fc3a/datasets/segmentation/yolo_style_fourclass/train/images/1 (96).jpg: corrupt JPEG restored and saved\n",
      "\u001B[34m\u001B[1mtrain: \u001B[0m/media/abawi/e38fddf9-a92e-4c73-b905-995771f8fc3a/datasets/segmentation/yolo_style_fourclass/train/images/1 (97).jpg: corrupt JPEG restored and saved\n",
      "\u001B[34m\u001B[1mtrain: \u001B[0m/media/abawi/e38fddf9-a92e-4c73-b905-995771f8fc3a/datasets/segmentation/yolo_style_fourclass/train/images/1 (98).jpg: corrupt JPEG restored and saved\n",
      "\u001B[34m\u001B[1mtrain: \u001B[0m/media/abawi/e38fddf9-a92e-4c73-b905-995771f8fc3a/datasets/segmentation/yolo_style_fourclass/train/images/1 (99).jpg: corrupt JPEG restored and saved\n",
      "\u001B[34m\u001B[1mtrain: \u001B[0m/media/abawi/e38fddf9-a92e-4c73-b905-995771f8fc3a/datasets/segmentation/yolo_style_fourclass/train/images/1007.jpg: corrupt JPEG restored and saved\n",
      "\u001B[34m\u001B[1mtrain: \u001B[0m/media/abawi/e38fddf9-a92e-4c73-b905-995771f8fc3a/datasets/segmentation/yolo_style_fourclass/train/images/1011.jpg: corrupt JPEG restored and saved\n",
      "\u001B[34m\u001B[1mtrain: \u001B[0m/media/abawi/e38fddf9-a92e-4c73-b905-995771f8fc3a/datasets/segmentation/yolo_style_fourclass/train/images/1013.jpg: corrupt JPEG restored and saved\n",
      "\u001B[34m\u001B[1mtrain: \u001B[0m/media/abawi/e38fddf9-a92e-4c73-b905-995771f8fc3a/datasets/segmentation/yolo_style_fourclass/train/images/102.jpg: corrupt JPEG restored and saved\n",
      "\u001B[34m\u001B[1mtrain: \u001B[0m/media/abawi/e38fddf9-a92e-4c73-b905-995771f8fc3a/datasets/segmentation/yolo_style_fourclass/train/images/1022.jpg: corrupt JPEG restored and saved\n",
      "\u001B[34m\u001B[1mtrain: \u001B[0m/media/abawi/e38fddf9-a92e-4c73-b905-995771f8fc3a/datasets/segmentation/yolo_style_fourclass/train/images/1040.jpg: corrupt JPEG restored and saved\n",
      "\u001B[34m\u001B[1mtrain: \u001B[0m/media/abawi/e38fddf9-a92e-4c73-b905-995771f8fc3a/datasets/segmentation/yolo_style_fourclass/train/images/1050.jpg: corrupt JPEG restored and saved\n",
      "\u001B[34m\u001B[1mtrain: \u001B[0m/media/abawi/e38fddf9-a92e-4c73-b905-995771f8fc3a/datasets/segmentation/yolo_style_fourclass/train/images/1059.jpg: corrupt JPEG restored and saved\n",
      "\u001B[34m\u001B[1mtrain: \u001B[0m/media/abawi/e38fddf9-a92e-4c73-b905-995771f8fc3a/datasets/segmentation/yolo_style_fourclass/train/images/1068.jpg: corrupt JPEG restored and saved\n",
      "\u001B[34m\u001B[1mtrain: \u001B[0m/media/abawi/e38fddf9-a92e-4c73-b905-995771f8fc3a/datasets/segmentation/yolo_style_fourclass/train/images/1069.jpg: corrupt JPEG restored and saved\n",
      "\u001B[34m\u001B[1mtrain: \u001B[0m/media/abawi/e38fddf9-a92e-4c73-b905-995771f8fc3a/datasets/segmentation/yolo_style_fourclass/train/images/1081.jpg: corrupt JPEG restored and saved\n",
      "\u001B[34m\u001B[1mtrain: \u001B[0m/media/abawi/e38fddf9-a92e-4c73-b905-995771f8fc3a/datasets/segmentation/yolo_style_fourclass/train/images/1097.jpg: corrupt JPEG restored and saved\n",
      "\u001B[34m\u001B[1mtrain: \u001B[0m/media/abawi/e38fddf9-a92e-4c73-b905-995771f8fc3a/datasets/segmentation/yolo_style_fourclass/train/images/1106.jpg: corrupt JPEG restored and saved\n",
      "\u001B[34m\u001B[1mtrain: \u001B[0m/media/abawi/e38fddf9-a92e-4c73-b905-995771f8fc3a/datasets/segmentation/yolo_style_fourclass/train/images/1109.jpg: corrupt JPEG restored and saved\n",
      "\u001B[34m\u001B[1mtrain: \u001B[0m/media/abawi/e38fddf9-a92e-4c73-b905-995771f8fc3a/datasets/segmentation/yolo_style_fourclass/train/images/1110.jpg: corrupt JPEG restored and saved\n",
      "\u001B[34m\u001B[1mtrain: \u001B[0m/media/abawi/e38fddf9-a92e-4c73-b905-995771f8fc3a/datasets/segmentation/yolo_style_fourclass/train/images/1112.jpg: corrupt JPEG restored and saved\n",
      "\u001B[34m\u001B[1mtrain: \u001B[0m/media/abawi/e38fddf9-a92e-4c73-b905-995771f8fc3a/datasets/segmentation/yolo_style_fourclass/train/images/113.jpg: corrupt JPEG restored and saved\n",
      "\u001B[34m\u001B[1mtrain: \u001B[0m/media/abawi/e38fddf9-a92e-4c73-b905-995771f8fc3a/datasets/segmentation/yolo_style_fourclass/train/images/1136.jpg: corrupt JPEG restored and saved\n",
      "\u001B[34m\u001B[1mtrain: \u001B[0m/media/abawi/e38fddf9-a92e-4c73-b905-995771f8fc3a/datasets/segmentation/yolo_style_fourclass/train/images/1153.jpg: corrupt JPEG restored and saved\n",
      "\u001B[34m\u001B[1mtrain: \u001B[0m/media/abawi/e38fddf9-a92e-4c73-b905-995771f8fc3a/datasets/segmentation/yolo_style_fourclass/train/images/117.jpg: corrupt JPEG restored and saved\n",
      "\u001B[34m\u001B[1mtrain: \u001B[0m/media/abawi/e38fddf9-a92e-4c73-b905-995771f8fc3a/datasets/segmentation/yolo_style_fourclass/train/images/1194.jpg: corrupt JPEG restored and saved\n",
      "\u001B[34m\u001B[1mtrain: \u001B[0m/media/abawi/e38fddf9-a92e-4c73-b905-995771f8fc3a/datasets/segmentation/yolo_style_fourclass/train/images/1232.jpg: corrupt JPEG restored and saved\n",
      "\u001B[34m\u001B[1mtrain: \u001B[0m/media/abawi/e38fddf9-a92e-4c73-b905-995771f8fc3a/datasets/segmentation/yolo_style_fourclass/train/images/1244.jpg: corrupt JPEG restored and saved\n",
      "\u001B[34m\u001B[1mtrain: \u001B[0m/media/abawi/e38fddf9-a92e-4c73-b905-995771f8fc3a/datasets/segmentation/yolo_style_fourclass/train/images/1249.jpg: corrupt JPEG restored and saved\n",
      "\u001B[34m\u001B[1mtrain: \u001B[0m/media/abawi/e38fddf9-a92e-4c73-b905-995771f8fc3a/datasets/segmentation/yolo_style_fourclass/train/images/1260.jpg: corrupt JPEG restored and saved\n",
      "\u001B[34m\u001B[1mtrain: \u001B[0m/media/abawi/e38fddf9-a92e-4c73-b905-995771f8fc3a/datasets/segmentation/yolo_style_fourclass/train/images/1266.jpg: corrupt JPEG restored and saved\n",
      "\u001B[34m\u001B[1mtrain: \u001B[0m/media/abawi/e38fddf9-a92e-4c73-b905-995771f8fc3a/datasets/segmentation/yolo_style_fourclass/train/images/1315.jpg: corrupt JPEG restored and saved\n",
      "\u001B[34m\u001B[1mtrain: \u001B[0m/media/abawi/e38fddf9-a92e-4c73-b905-995771f8fc3a/datasets/segmentation/yolo_style_fourclass/train/images/132.jpg: corrupt JPEG restored and saved\n",
      "\u001B[34m\u001B[1mtrain: \u001B[0m/media/abawi/e38fddf9-a92e-4c73-b905-995771f8fc3a/datasets/segmentation/yolo_style_fourclass/train/images/1343.jpg: corrupt JPEG restored and saved\n",
      "\u001B[34m\u001B[1mtrain: \u001B[0m/media/abawi/e38fddf9-a92e-4c73-b905-995771f8fc3a/datasets/segmentation/yolo_style_fourclass/train/images/1373.jpg: corrupt JPEG restored and saved\n",
      "\u001B[34m\u001B[1mtrain: \u001B[0m/media/abawi/e38fddf9-a92e-4c73-b905-995771f8fc3a/datasets/segmentation/yolo_style_fourclass/train/images/1374.jpg: corrupt JPEG restored and saved\n",
      "\u001B[34m\u001B[1mtrain: \u001B[0m/media/abawi/e38fddf9-a92e-4c73-b905-995771f8fc3a/datasets/segmentation/yolo_style_fourclass/train/images/1381.jpg: corrupt JPEG restored and saved\n",
      "\u001B[34m\u001B[1mtrain: \u001B[0m/media/abawi/e38fddf9-a92e-4c73-b905-995771f8fc3a/datasets/segmentation/yolo_style_fourclass/train/images/1392.jpg: corrupt JPEG restored and saved\n",
      "\u001B[34m\u001B[1mtrain: \u001B[0m/media/abawi/e38fddf9-a92e-4c73-b905-995771f8fc3a/datasets/segmentation/yolo_style_fourclass/train/images/1403.jpg: corrupt JPEG restored and saved\n",
      "\u001B[34m\u001B[1mtrain: \u001B[0m/media/abawi/e38fddf9-a92e-4c73-b905-995771f8fc3a/datasets/segmentation/yolo_style_fourclass/train/images/1438.jpg: corrupt JPEG restored and saved\n",
      "\u001B[34m\u001B[1mtrain: \u001B[0m/media/abawi/e38fddf9-a92e-4c73-b905-995771f8fc3a/datasets/segmentation/yolo_style_fourclass/train/images/1442.jpg: corrupt JPEG restored and saved\n",
      "\u001B[34m\u001B[1mtrain: \u001B[0m/media/abawi/e38fddf9-a92e-4c73-b905-995771f8fc3a/datasets/segmentation/yolo_style_fourclass/train/images/1445.jpg: corrupt JPEG restored and saved\n",
      "\u001B[34m\u001B[1mtrain: \u001B[0m/media/abawi/e38fddf9-a92e-4c73-b905-995771f8fc3a/datasets/segmentation/yolo_style_fourclass/train/images/1446.jpg: corrupt JPEG restored and saved\n",
      "\u001B[34m\u001B[1mtrain: \u001B[0m/media/abawi/e38fddf9-a92e-4c73-b905-995771f8fc3a/datasets/segmentation/yolo_style_fourclass/train/images/1464.jpg: corrupt JPEG restored and saved\n",
      "\u001B[34m\u001B[1mtrain: \u001B[0m/media/abawi/e38fddf9-a92e-4c73-b905-995771f8fc3a/datasets/segmentation/yolo_style_fourclass/train/images/1466.jpg: corrupt JPEG restored and saved\n",
      "\u001B[34m\u001B[1mtrain: \u001B[0m/media/abawi/e38fddf9-a92e-4c73-b905-995771f8fc3a/datasets/segmentation/yolo_style_fourclass/train/images/1475.jpg: corrupt JPEG restored and saved\n",
      "\u001B[34m\u001B[1mtrain: \u001B[0m/media/abawi/e38fddf9-a92e-4c73-b905-995771f8fc3a/datasets/segmentation/yolo_style_fourclass/train/images/1478.jpg: corrupt JPEG restored and saved\n",
      "\u001B[34m\u001B[1mtrain: \u001B[0m/media/abawi/e38fddf9-a92e-4c73-b905-995771f8fc3a/datasets/segmentation/yolo_style_fourclass/train/images/1505.jpg: corrupt JPEG restored and saved\n",
      "\u001B[34m\u001B[1mtrain: \u001B[0m/media/abawi/e38fddf9-a92e-4c73-b905-995771f8fc3a/datasets/segmentation/yolo_style_fourclass/train/images/1537.jpg: corrupt JPEG restored and saved\n",
      "\u001B[34m\u001B[1mtrain: \u001B[0m/media/abawi/e38fddf9-a92e-4c73-b905-995771f8fc3a/datasets/segmentation/yolo_style_fourclass/train/images/155.jpg: corrupt JPEG restored and saved\n",
      "\u001B[34m\u001B[1mtrain: \u001B[0m/media/abawi/e38fddf9-a92e-4c73-b905-995771f8fc3a/datasets/segmentation/yolo_style_fourclass/train/images/1564.jpg: corrupt JPEG restored and saved\n",
      "\u001B[34m\u001B[1mtrain: \u001B[0m/media/abawi/e38fddf9-a92e-4c73-b905-995771f8fc3a/datasets/segmentation/yolo_style_fourclass/train/images/1566.jpg: corrupt JPEG restored and saved\n",
      "\u001B[34m\u001B[1mtrain: \u001B[0m/media/abawi/e38fddf9-a92e-4c73-b905-995771f8fc3a/datasets/segmentation/yolo_style_fourclass/train/images/1583.jpg: corrupt JPEG restored and saved\n",
      "\u001B[34m\u001B[1mtrain: \u001B[0m/media/abawi/e38fddf9-a92e-4c73-b905-995771f8fc3a/datasets/segmentation/yolo_style_fourclass/train/images/1586.jpg: corrupt JPEG restored and saved\n",
      "\u001B[34m\u001B[1mtrain: \u001B[0m/media/abawi/e38fddf9-a92e-4c73-b905-995771f8fc3a/datasets/segmentation/yolo_style_fourclass/train/images/1629.jpg: corrupt JPEG restored and saved\n",
      "\u001B[34m\u001B[1mtrain: \u001B[0m/media/abawi/e38fddf9-a92e-4c73-b905-995771f8fc3a/datasets/segmentation/yolo_style_fourclass/train/images/1633.jpg: corrupt JPEG restored and saved\n",
      "\u001B[34m\u001B[1mtrain: \u001B[0m/media/abawi/e38fddf9-a92e-4c73-b905-995771f8fc3a/datasets/segmentation/yolo_style_fourclass/train/images/1668.jpg: corrupt JPEG restored and saved\n",
      "\u001B[34m\u001B[1mtrain: \u001B[0m/media/abawi/e38fddf9-a92e-4c73-b905-995771f8fc3a/datasets/segmentation/yolo_style_fourclass/train/images/1677.jpg: corrupt JPEG restored and saved\n",
      "\u001B[34m\u001B[1mtrain: \u001B[0m/media/abawi/e38fddf9-a92e-4c73-b905-995771f8fc3a/datasets/segmentation/yolo_style_fourclass/train/images/1687.jpg: corrupt JPEG restored and saved\n",
      "\u001B[34m\u001B[1mtrain: \u001B[0m/media/abawi/e38fddf9-a92e-4c73-b905-995771f8fc3a/datasets/segmentation/yolo_style_fourclass/train/images/1689.jpg: corrupt JPEG restored and saved\n",
      "\u001B[34m\u001B[1mtrain: \u001B[0m/media/abawi/e38fddf9-a92e-4c73-b905-995771f8fc3a/datasets/segmentation/yolo_style_fourclass/train/images/1699.jpg: corrupt JPEG restored and saved\n",
      "\u001B[34m\u001B[1mtrain: \u001B[0m/media/abawi/e38fddf9-a92e-4c73-b905-995771f8fc3a/datasets/segmentation/yolo_style_fourclass/train/images/1710.jpg: corrupt JPEG restored and saved\n",
      "\u001B[34m\u001B[1mtrain: \u001B[0m/media/abawi/e38fddf9-a92e-4c73-b905-995771f8fc3a/datasets/segmentation/yolo_style_fourclass/train/images/1717.jpg: corrupt JPEG restored and saved\n",
      "\u001B[34m\u001B[1mtrain: \u001B[0m/media/abawi/e38fddf9-a92e-4c73-b905-995771f8fc3a/datasets/segmentation/yolo_style_fourclass/train/images/1722.jpg: corrupt JPEG restored and saved\n",
      "\u001B[34m\u001B[1mtrain: \u001B[0m/media/abawi/e38fddf9-a92e-4c73-b905-995771f8fc3a/datasets/segmentation/yolo_style_fourclass/train/images/1749.jpg: corrupt JPEG restored and saved\n",
      "\u001B[34m\u001B[1mtrain: \u001B[0m/media/abawi/e38fddf9-a92e-4c73-b905-995771f8fc3a/datasets/segmentation/yolo_style_fourclass/train/images/1751.jpg: corrupt JPEG restored and saved\n",
      "\u001B[34m\u001B[1mtrain: \u001B[0m/media/abawi/e38fddf9-a92e-4c73-b905-995771f8fc3a/datasets/segmentation/yolo_style_fourclass/train/images/1761.jpg: corrupt JPEG restored and saved\n",
      "\u001B[34m\u001B[1mtrain: \u001B[0m/media/abawi/e38fddf9-a92e-4c73-b905-995771f8fc3a/datasets/segmentation/yolo_style_fourclass/train/images/1764.jpg: corrupt JPEG restored and saved\n",
      "\u001B[34m\u001B[1mtrain: \u001B[0m/media/abawi/e38fddf9-a92e-4c73-b905-995771f8fc3a/datasets/segmentation/yolo_style_fourclass/train/images/1782.jpg: corrupt JPEG restored and saved\n",
      "\u001B[34m\u001B[1mtrain: \u001B[0m/media/abawi/e38fddf9-a92e-4c73-b905-995771f8fc3a/datasets/segmentation/yolo_style_fourclass/train/images/1783.jpg: corrupt JPEG restored and saved\n",
      "\u001B[34m\u001B[1mtrain: \u001B[0m/media/abawi/e38fddf9-a92e-4c73-b905-995771f8fc3a/datasets/segmentation/yolo_style_fourclass/train/images/1788.jpg: corrupt JPEG restored and saved\n",
      "\u001B[34m\u001B[1mtrain: \u001B[0m/media/abawi/e38fddf9-a92e-4c73-b905-995771f8fc3a/datasets/segmentation/yolo_style_fourclass/train/images/1797.jpg: corrupt JPEG restored and saved\n",
      "\u001B[34m\u001B[1mtrain: \u001B[0m/media/abawi/e38fddf9-a92e-4c73-b905-995771f8fc3a/datasets/segmentation/yolo_style_fourclass/train/images/18.jpg: corrupt JPEG restored and saved\n",
      "\u001B[34m\u001B[1mtrain: \u001B[0m/media/abawi/e38fddf9-a92e-4c73-b905-995771f8fc3a/datasets/segmentation/yolo_style_fourclass/train/images/1803.jpg: corrupt JPEG restored and saved\n",
      "\u001B[34m\u001B[1mtrain: \u001B[0m/media/abawi/e38fddf9-a92e-4c73-b905-995771f8fc3a/datasets/segmentation/yolo_style_fourclass/train/images/1819.jpg: corrupt JPEG restored and saved\n",
      "\u001B[34m\u001B[1mtrain: \u001B[0m/media/abawi/e38fddf9-a92e-4c73-b905-995771f8fc3a/datasets/segmentation/yolo_style_fourclass/train/images/1825.jpg: corrupt JPEG restored and saved\n",
      "\u001B[34m\u001B[1mtrain: \u001B[0m/media/abawi/e38fddf9-a92e-4c73-b905-995771f8fc3a/datasets/segmentation/yolo_style_fourclass/train/images/1833.jpg: corrupt JPEG restored and saved\n",
      "\u001B[34m\u001B[1mtrain: \u001B[0m/media/abawi/e38fddf9-a92e-4c73-b905-995771f8fc3a/datasets/segmentation/yolo_style_fourclass/train/images/1845.jpg: corrupt JPEG restored and saved\n",
      "\u001B[34m\u001B[1mtrain: \u001B[0m/media/abawi/e38fddf9-a92e-4c73-b905-995771f8fc3a/datasets/segmentation/yolo_style_fourclass/train/images/1869.jpg: corrupt JPEG restored and saved\n",
      "\u001B[34m\u001B[1mtrain: \u001B[0m/media/abawi/e38fddf9-a92e-4c73-b905-995771f8fc3a/datasets/segmentation/yolo_style_fourclass/train/images/1881.jpg: corrupt JPEG restored and saved\n",
      "\u001B[34m\u001B[1mtrain: \u001B[0m/media/abawi/e38fddf9-a92e-4c73-b905-995771f8fc3a/datasets/segmentation/yolo_style_fourclass/train/images/1906.jpg: corrupt JPEG restored and saved\n",
      "\u001B[34m\u001B[1mtrain: \u001B[0m/media/abawi/e38fddf9-a92e-4c73-b905-995771f8fc3a/datasets/segmentation/yolo_style_fourclass/train/images/1929.jpg: corrupt JPEG restored and saved\n",
      "\u001B[34m\u001B[1mtrain: \u001B[0m/media/abawi/e38fddf9-a92e-4c73-b905-995771f8fc3a/datasets/segmentation/yolo_style_fourclass/train/images/1957.jpg: corrupt JPEG restored and saved\n",
      "\u001B[34m\u001B[1mtrain: \u001B[0m/media/abawi/e38fddf9-a92e-4c73-b905-995771f8fc3a/datasets/segmentation/yolo_style_fourclass/train/images/1964.jpg: corrupt JPEG restored and saved\n",
      "\u001B[34m\u001B[1mtrain: \u001B[0m/media/abawi/e38fddf9-a92e-4c73-b905-995771f8fc3a/datasets/segmentation/yolo_style_fourclass/train/images/1974.jpg: corrupt JPEG restored and saved\n",
      "\u001B[34m\u001B[1mtrain: \u001B[0m/media/abawi/e38fddf9-a92e-4c73-b905-995771f8fc3a/datasets/segmentation/yolo_style_fourclass/train/images/2000.jpg: corrupt JPEG restored and saved\n",
      "\u001B[34m\u001B[1mtrain: \u001B[0m/media/abawi/e38fddf9-a92e-4c73-b905-995771f8fc3a/datasets/segmentation/yolo_style_fourclass/train/images/2011.jpg: corrupt JPEG restored and saved\n",
      "\u001B[34m\u001B[1mtrain: \u001B[0m/media/abawi/e38fddf9-a92e-4c73-b905-995771f8fc3a/datasets/segmentation/yolo_style_fourclass/train/images/2019.jpg: corrupt JPEG restored and saved\n",
      "\u001B[34m\u001B[1mtrain: \u001B[0m/media/abawi/e38fddf9-a92e-4c73-b905-995771f8fc3a/datasets/segmentation/yolo_style_fourclass/train/images/2033.jpg: corrupt JPEG restored and saved\n",
      "\u001B[34m\u001B[1mtrain: \u001B[0m/media/abawi/e38fddf9-a92e-4c73-b905-995771f8fc3a/datasets/segmentation/yolo_style_fourclass/train/images/2039.jpg: corrupt JPEG restored and saved\n",
      "\u001B[34m\u001B[1mtrain: \u001B[0m/media/abawi/e38fddf9-a92e-4c73-b905-995771f8fc3a/datasets/segmentation/yolo_style_fourclass/train/images/2045.jpg: corrupt JPEG restored and saved\n",
      "\u001B[34m\u001B[1mtrain: \u001B[0m/media/abawi/e38fddf9-a92e-4c73-b905-995771f8fc3a/datasets/segmentation/yolo_style_fourclass/train/images/2051.jpg: corrupt JPEG restored and saved\n",
      "\u001B[34m\u001B[1mtrain: \u001B[0m/media/abawi/e38fddf9-a92e-4c73-b905-995771f8fc3a/datasets/segmentation/yolo_style_fourclass/train/images/2053.jpg: corrupt JPEG restored and saved\n",
      "\u001B[34m\u001B[1mtrain: \u001B[0m/media/abawi/e38fddf9-a92e-4c73-b905-995771f8fc3a/datasets/segmentation/yolo_style_fourclass/train/images/2060.jpg: corrupt JPEG restored and saved\n",
      "\u001B[34m\u001B[1mtrain: \u001B[0m/media/abawi/e38fddf9-a92e-4c73-b905-995771f8fc3a/datasets/segmentation/yolo_style_fourclass/train/images/2064.jpg: corrupt JPEG restored and saved\n",
      "\u001B[34m\u001B[1mtrain: \u001B[0m/media/abawi/e38fddf9-a92e-4c73-b905-995771f8fc3a/datasets/segmentation/yolo_style_fourclass/train/images/2072.jpg: corrupt JPEG restored and saved\n",
      "\u001B[34m\u001B[1mtrain: \u001B[0m/media/abawi/e38fddf9-a92e-4c73-b905-995771f8fc3a/datasets/segmentation/yolo_style_fourclass/train/images/2076.jpg: corrupt JPEG restored and saved\n",
      "\u001B[34m\u001B[1mtrain: \u001B[0m/media/abawi/e38fddf9-a92e-4c73-b905-995771f8fc3a/datasets/segmentation/yolo_style_fourclass/train/images/2083.jpg: corrupt JPEG restored and saved\n",
      "\u001B[34m\u001B[1mtrain: \u001B[0m/media/abawi/e38fddf9-a92e-4c73-b905-995771f8fc3a/datasets/segmentation/yolo_style_fourclass/train/images/2087.jpg: corrupt JPEG restored and saved\n",
      "\u001B[34m\u001B[1mtrain: \u001B[0m/media/abawi/e38fddf9-a92e-4c73-b905-995771f8fc3a/datasets/segmentation/yolo_style_fourclass/train/images/2099.jpg: corrupt JPEG restored and saved\n",
      "\u001B[34m\u001B[1mtrain: \u001B[0m/media/abawi/e38fddf9-a92e-4c73-b905-995771f8fc3a/datasets/segmentation/yolo_style_fourclass/train/images/2101.jpg: corrupt JPEG restored and saved\n",
      "\u001B[34m\u001B[1mtrain: \u001B[0m/media/abawi/e38fddf9-a92e-4c73-b905-995771f8fc3a/datasets/segmentation/yolo_style_fourclass/train/images/2125.jpg: corrupt JPEG restored and saved\n",
      "\u001B[34m\u001B[1mtrain: \u001B[0m/media/abawi/e38fddf9-a92e-4c73-b905-995771f8fc3a/datasets/segmentation/yolo_style_fourclass/train/images/213.jpg: corrupt JPEG restored and saved\n",
      "\u001B[34m\u001B[1mtrain: \u001B[0m/media/abawi/e38fddf9-a92e-4c73-b905-995771f8fc3a/datasets/segmentation/yolo_style_fourclass/train/images/2137.jpg: corrupt JPEG restored and saved\n",
      "\u001B[34m\u001B[1mtrain: \u001B[0m/media/abawi/e38fddf9-a92e-4c73-b905-995771f8fc3a/datasets/segmentation/yolo_style_fourclass/train/images/2149.jpg: corrupt JPEG restored and saved\n",
      "\u001B[34m\u001B[1mtrain: \u001B[0m/media/abawi/e38fddf9-a92e-4c73-b905-995771f8fc3a/datasets/segmentation/yolo_style_fourclass/train/images/2167.jpg: corrupt JPEG restored and saved\n",
      "\u001B[34m\u001B[1mtrain: \u001B[0m/media/abawi/e38fddf9-a92e-4c73-b905-995771f8fc3a/datasets/segmentation/yolo_style_fourclass/train/images/2172.jpg: corrupt JPEG restored and saved\n",
      "\u001B[34m\u001B[1mtrain: \u001B[0m/media/abawi/e38fddf9-a92e-4c73-b905-995771f8fc3a/datasets/segmentation/yolo_style_fourclass/train/images/2178.jpg: corrupt JPEG restored and saved\n",
      "\u001B[34m\u001B[1mtrain: \u001B[0m/media/abawi/e38fddf9-a92e-4c73-b905-995771f8fc3a/datasets/segmentation/yolo_style_fourclass/train/images/2190.jpg: corrupt JPEG restored and saved\n",
      "\u001B[34m\u001B[1mtrain: \u001B[0m/media/abawi/e38fddf9-a92e-4c73-b905-995771f8fc3a/datasets/segmentation/yolo_style_fourclass/train/images/2201.jpg: corrupt JPEG restored and saved\n",
      "\u001B[34m\u001B[1mtrain: \u001B[0m/media/abawi/e38fddf9-a92e-4c73-b905-995771f8fc3a/datasets/segmentation/yolo_style_fourclass/train/images/2213.jpg: corrupt JPEG restored and saved\n",
      "\u001B[34m\u001B[1mtrain: \u001B[0m/media/abawi/e38fddf9-a92e-4c73-b905-995771f8fc3a/datasets/segmentation/yolo_style_fourclass/train/images/2232.jpg: corrupt JPEG restored and saved\n",
      "\u001B[34m\u001B[1mtrain: \u001B[0m/media/abawi/e38fddf9-a92e-4c73-b905-995771f8fc3a/datasets/segmentation/yolo_style_fourclass/train/images/228.jpg: corrupt JPEG restored and saved\n",
      "\u001B[34m\u001B[1mtrain: \u001B[0m/media/abawi/e38fddf9-a92e-4c73-b905-995771f8fc3a/datasets/segmentation/yolo_style_fourclass/train/images/2283.jpg: corrupt JPEG restored and saved\n",
      "\u001B[34m\u001B[1mtrain: \u001B[0m/media/abawi/e38fddf9-a92e-4c73-b905-995771f8fc3a/datasets/segmentation/yolo_style_fourclass/train/images/2295.jpg: corrupt JPEG restored and saved\n",
      "\u001B[34m\u001B[1mtrain: \u001B[0m/media/abawi/e38fddf9-a92e-4c73-b905-995771f8fc3a/datasets/segmentation/yolo_style_fourclass/train/images/2298.jpg: corrupt JPEG restored and saved\n",
      "\u001B[34m\u001B[1mtrain: \u001B[0m/media/abawi/e38fddf9-a92e-4c73-b905-995771f8fc3a/datasets/segmentation/yolo_style_fourclass/train/images/230.jpg: corrupt JPEG restored and saved\n",
      "\u001B[34m\u001B[1mtrain: \u001B[0m/media/abawi/e38fddf9-a92e-4c73-b905-995771f8fc3a/datasets/segmentation/yolo_style_fourclass/train/images/2304.jpg: corrupt JPEG restored and saved\n",
      "\u001B[34m\u001B[1mtrain: \u001B[0m/media/abawi/e38fddf9-a92e-4c73-b905-995771f8fc3a/datasets/segmentation/yolo_style_fourclass/train/images/2339.jpg: corrupt JPEG restored and saved\n",
      "\u001B[34m\u001B[1mtrain: \u001B[0m/media/abawi/e38fddf9-a92e-4c73-b905-995771f8fc3a/datasets/segmentation/yolo_style_fourclass/train/images/2365.jpg: corrupt JPEG restored and saved\n",
      "\u001B[34m\u001B[1mtrain: \u001B[0m/media/abawi/e38fddf9-a92e-4c73-b905-995771f8fc3a/datasets/segmentation/yolo_style_fourclass/train/images/2403.jpg: corrupt JPEG restored and saved\n",
      "\u001B[34m\u001B[1mtrain: \u001B[0m/media/abawi/e38fddf9-a92e-4c73-b905-995771f8fc3a/datasets/segmentation/yolo_style_fourclass/train/images/2415.jpg: corrupt JPEG restored and saved\n",
      "\u001B[34m\u001B[1mtrain: \u001B[0m/media/abawi/e38fddf9-a92e-4c73-b905-995771f8fc3a/datasets/segmentation/yolo_style_fourclass/train/images/2419.jpg: corrupt JPEG restored and saved\n",
      "\u001B[34m\u001B[1mtrain: \u001B[0m/media/abawi/e38fddf9-a92e-4c73-b905-995771f8fc3a/datasets/segmentation/yolo_style_fourclass/train/images/2423.jpg: corrupt JPEG restored and saved\n",
      "\u001B[34m\u001B[1mtrain: \u001B[0m/media/abawi/e38fddf9-a92e-4c73-b905-995771f8fc3a/datasets/segmentation/yolo_style_fourclass/train/images/2439.jpg: corrupt JPEG restored and saved\n",
      "\u001B[34m\u001B[1mtrain: \u001B[0m/media/abawi/e38fddf9-a92e-4c73-b905-995771f8fc3a/datasets/segmentation/yolo_style_fourclass/train/images/2441.jpg: corrupt JPEG restored and saved\n",
      "\u001B[34m\u001B[1mtrain: \u001B[0m/media/abawi/e38fddf9-a92e-4c73-b905-995771f8fc3a/datasets/segmentation/yolo_style_fourclass/train/images/2449.jpg: corrupt JPEG restored and saved\n",
      "\u001B[34m\u001B[1mtrain: \u001B[0m/media/abawi/e38fddf9-a92e-4c73-b905-995771f8fc3a/datasets/segmentation/yolo_style_fourclass/train/images/2466.jpg: corrupt JPEG restored and saved\n",
      "\u001B[34m\u001B[1mtrain: \u001B[0m/media/abawi/e38fddf9-a92e-4c73-b905-995771f8fc3a/datasets/segmentation/yolo_style_fourclass/train/images/2477.jpg: corrupt JPEG restored and saved\n",
      "\u001B[34m\u001B[1mtrain: \u001B[0m/media/abawi/e38fddf9-a92e-4c73-b905-995771f8fc3a/datasets/segmentation/yolo_style_fourclass/train/images/2495.jpg: corrupt JPEG restored and saved\n",
      "\u001B[34m\u001B[1mtrain: \u001B[0m/media/abawi/e38fddf9-a92e-4c73-b905-995771f8fc3a/datasets/segmentation/yolo_style_fourclass/train/images/2507.jpg: corrupt JPEG restored and saved\n",
      "\u001B[34m\u001B[1mtrain: \u001B[0m/media/abawi/e38fddf9-a92e-4c73-b905-995771f8fc3a/datasets/segmentation/yolo_style_fourclass/train/images/252.jpg: corrupt JPEG restored and saved\n",
      "\u001B[34m\u001B[1mtrain: \u001B[0m/media/abawi/e38fddf9-a92e-4c73-b905-995771f8fc3a/datasets/segmentation/yolo_style_fourclass/train/images/2545.jpg: corrupt JPEG restored and saved\n",
      "\u001B[34m\u001B[1mtrain: \u001B[0m/media/abawi/e38fddf9-a92e-4c73-b905-995771f8fc3a/datasets/segmentation/yolo_style_fourclass/train/images/2565.jpg: corrupt JPEG restored and saved\n",
      "\u001B[34m\u001B[1mtrain: \u001B[0m/media/abawi/e38fddf9-a92e-4c73-b905-995771f8fc3a/datasets/segmentation/yolo_style_fourclass/train/images/257.jpg: corrupt JPEG restored and saved\n",
      "\u001B[34m\u001B[1mtrain: \u001B[0m/media/abawi/e38fddf9-a92e-4c73-b905-995771f8fc3a/datasets/segmentation/yolo_style_fourclass/train/images/2585.jpg: corrupt JPEG restored and saved\n",
      "\u001B[34m\u001B[1mtrain: \u001B[0m/media/abawi/e38fddf9-a92e-4c73-b905-995771f8fc3a/datasets/segmentation/yolo_style_fourclass/train/images/2588.jpg: corrupt JPEG restored and saved\n",
      "\u001B[34m\u001B[1mtrain: \u001B[0m/media/abawi/e38fddf9-a92e-4c73-b905-995771f8fc3a/datasets/segmentation/yolo_style_fourclass/train/images/2597.jpg: corrupt JPEG restored and saved\n",
      "\u001B[34m\u001B[1mtrain: \u001B[0m/media/abawi/e38fddf9-a92e-4c73-b905-995771f8fc3a/datasets/segmentation/yolo_style_fourclass/train/images/2604.jpg: corrupt JPEG restored and saved\n",
      "\u001B[34m\u001B[1mtrain: \u001B[0m/media/abawi/e38fddf9-a92e-4c73-b905-995771f8fc3a/datasets/segmentation/yolo_style_fourclass/train/images/2607.jpg: corrupt JPEG restored and saved\n",
      "\u001B[34m\u001B[1mtrain: \u001B[0m/media/abawi/e38fddf9-a92e-4c73-b905-995771f8fc3a/datasets/segmentation/yolo_style_fourclass/train/images/261.jpg: corrupt JPEG restored and saved\n",
      "\u001B[34m\u001B[1mtrain: \u001B[0m/media/abawi/e38fddf9-a92e-4c73-b905-995771f8fc3a/datasets/segmentation/yolo_style_fourclass/train/images/2617.jpg: corrupt JPEG restored and saved\n",
      "\u001B[34m\u001B[1mtrain: \u001B[0m/media/abawi/e38fddf9-a92e-4c73-b905-995771f8fc3a/datasets/segmentation/yolo_style_fourclass/train/images/2631.jpg: corrupt JPEG restored and saved\n",
      "\u001B[34m\u001B[1mtrain: \u001B[0m/media/abawi/e38fddf9-a92e-4c73-b905-995771f8fc3a/datasets/segmentation/yolo_style_fourclass/train/images/2678.jpg: corrupt JPEG restored and saved\n",
      "\u001B[34m\u001B[1mtrain: \u001B[0m/media/abawi/e38fddf9-a92e-4c73-b905-995771f8fc3a/datasets/segmentation/yolo_style_fourclass/train/images/2682.jpg: corrupt JPEG restored and saved\n",
      "\u001B[34m\u001B[1mtrain: \u001B[0m/media/abawi/e38fddf9-a92e-4c73-b905-995771f8fc3a/datasets/segmentation/yolo_style_fourclass/train/images/2693.jpg: corrupt JPEG restored and saved\n",
      "\u001B[34m\u001B[1mtrain: \u001B[0m/media/abawi/e38fddf9-a92e-4c73-b905-995771f8fc3a/datasets/segmentation/yolo_style_fourclass/train/images/271.jpg: corrupt JPEG restored and saved\n",
      "\u001B[34m\u001B[1mtrain: \u001B[0m/media/abawi/e38fddf9-a92e-4c73-b905-995771f8fc3a/datasets/segmentation/yolo_style_fourclass/train/images/2862.jpg: corrupt JPEG restored and saved\n",
      "\u001B[34m\u001B[1mtrain: \u001B[0m/media/abawi/e38fddf9-a92e-4c73-b905-995771f8fc3a/datasets/segmentation/yolo_style_fourclass/train/images/2863.jpg: corrupt JPEG restored and saved\n",
      "\u001B[34m\u001B[1mtrain: \u001B[0m/media/abawi/e38fddf9-a92e-4c73-b905-995771f8fc3a/datasets/segmentation/yolo_style_fourclass/train/images/2868.jpg: corrupt JPEG restored and saved\n",
      "\u001B[34m\u001B[1mtrain: \u001B[0m/media/abawi/e38fddf9-a92e-4c73-b905-995771f8fc3a/datasets/segmentation/yolo_style_fourclass/train/images/2887.jpg: corrupt JPEG restored and saved\n",
      "\u001B[34m\u001B[1mtrain: \u001B[0m/media/abawi/e38fddf9-a92e-4c73-b905-995771f8fc3a/datasets/segmentation/yolo_style_fourclass/train/images/2897.jpg: corrupt JPEG restored and saved\n",
      "\u001B[34m\u001B[1mtrain: \u001B[0m/media/abawi/e38fddf9-a92e-4c73-b905-995771f8fc3a/datasets/segmentation/yolo_style_fourclass/train/images/2910.jpg: corrupt JPEG restored and saved\n",
      "\u001B[34m\u001B[1mtrain: \u001B[0m/media/abawi/e38fddf9-a92e-4c73-b905-995771f8fc3a/datasets/segmentation/yolo_style_fourclass/train/images/2940.jpg: corrupt JPEG restored and saved\n",
      "\u001B[34m\u001B[1mtrain: \u001B[0m/media/abawi/e38fddf9-a92e-4c73-b905-995771f8fc3a/datasets/segmentation/yolo_style_fourclass/train/images/2952.jpg: corrupt JPEG restored and saved\n",
      "\u001B[34m\u001B[1mtrain: \u001B[0m/media/abawi/e38fddf9-a92e-4c73-b905-995771f8fc3a/datasets/segmentation/yolo_style_fourclass/train/images/297.jpg: corrupt JPEG restored and saved\n",
      "\u001B[34m\u001B[1mtrain: \u001B[0m/media/abawi/e38fddf9-a92e-4c73-b905-995771f8fc3a/datasets/segmentation/yolo_style_fourclass/train/images/2977.jpg: corrupt JPEG restored and saved\n",
      "\u001B[34m\u001B[1mtrain: \u001B[0m/media/abawi/e38fddf9-a92e-4c73-b905-995771f8fc3a/datasets/segmentation/yolo_style_fourclass/train/images/2982.jpg: corrupt JPEG restored and saved\n",
      "\u001B[34m\u001B[1mtrain: \u001B[0m/media/abawi/e38fddf9-a92e-4c73-b905-995771f8fc3a/datasets/segmentation/yolo_style_fourclass/train/images/2987.jpg: corrupt JPEG restored and saved\n",
      "\u001B[34m\u001B[1mtrain: \u001B[0m/media/abawi/e38fddf9-a92e-4c73-b905-995771f8fc3a/datasets/segmentation/yolo_style_fourclass/train/images/3 (102).jpg: corrupt JPEG restored and saved\n",
      "\u001B[34m\u001B[1mtrain: \u001B[0m/media/abawi/e38fddf9-a92e-4c73-b905-995771f8fc3a/datasets/segmentation/yolo_style_fourclass/train/images/3 (103).jpg: corrupt JPEG restored and saved\n",
      "\u001B[34m\u001B[1mtrain: \u001B[0m/media/abawi/e38fddf9-a92e-4c73-b905-995771f8fc3a/datasets/segmentation/yolo_style_fourclass/train/images/3 (105).jpg: corrupt JPEG restored and saved\n",
      "\u001B[34m\u001B[1mtrain: \u001B[0m/media/abawi/e38fddf9-a92e-4c73-b905-995771f8fc3a/datasets/segmentation/yolo_style_fourclass/train/images/3 (107).jpg: corrupt JPEG restored and saved\n",
      "\u001B[34m\u001B[1mtrain: \u001B[0m/media/abawi/e38fddf9-a92e-4c73-b905-995771f8fc3a/datasets/segmentation/yolo_style_fourclass/train/images/3 (108).jpg: corrupt JPEG restored and saved\n",
      "\u001B[34m\u001B[1mtrain: \u001B[0m/media/abawi/e38fddf9-a92e-4c73-b905-995771f8fc3a/datasets/segmentation/yolo_style_fourclass/train/images/3 (11).jpg: corrupt JPEG restored and saved\n",
      "\u001B[34m\u001B[1mtrain: \u001B[0m/media/abawi/e38fddf9-a92e-4c73-b905-995771f8fc3a/datasets/segmentation/yolo_style_fourclass/train/images/3 (111).jpg: corrupt JPEG restored and saved\n",
      "\u001B[34m\u001B[1mtrain: \u001B[0m/media/abawi/e38fddf9-a92e-4c73-b905-995771f8fc3a/datasets/segmentation/yolo_style_fourclass/train/images/3 (112).jpg: corrupt JPEG restored and saved\n",
      "\u001B[34m\u001B[1mtrain: \u001B[0m/media/abawi/e38fddf9-a92e-4c73-b905-995771f8fc3a/datasets/segmentation/yolo_style_fourclass/train/images/3 (113).jpg: corrupt JPEG restored and saved\n",
      "\u001B[34m\u001B[1mtrain: \u001B[0m/media/abawi/e38fddf9-a92e-4c73-b905-995771f8fc3a/datasets/segmentation/yolo_style_fourclass/train/images/3 (115).jpg: corrupt JPEG restored and saved\n",
      "\u001B[34m\u001B[1mtrain: \u001B[0m/media/abawi/e38fddf9-a92e-4c73-b905-995771f8fc3a/datasets/segmentation/yolo_style_fourclass/train/images/3 (116).jpg: corrupt JPEG restored and saved\n",
      "\u001B[34m\u001B[1mtrain: \u001B[0m/media/abawi/e38fddf9-a92e-4c73-b905-995771f8fc3a/datasets/segmentation/yolo_style_fourclass/train/images/3 (117).jpg: corrupt JPEG restored and saved\n",
      "\u001B[34m\u001B[1mtrain: \u001B[0m/media/abawi/e38fddf9-a92e-4c73-b905-995771f8fc3a/datasets/segmentation/yolo_style_fourclass/train/images/3 (118).jpg: corrupt JPEG restored and saved\n",
      "\u001B[34m\u001B[1mtrain: \u001B[0m/media/abawi/e38fddf9-a92e-4c73-b905-995771f8fc3a/datasets/segmentation/yolo_style_fourclass/train/images/3 (119).jpg: corrupt JPEG restored and saved\n",
      "\u001B[34m\u001B[1mtrain: \u001B[0m/media/abawi/e38fddf9-a92e-4c73-b905-995771f8fc3a/datasets/segmentation/yolo_style_fourclass/train/images/3 (120).jpg: corrupt JPEG restored and saved\n",
      "\u001B[34m\u001B[1mtrain: \u001B[0m/media/abawi/e38fddf9-a92e-4c73-b905-995771f8fc3a/datasets/segmentation/yolo_style_fourclass/train/images/3 (123).jpg: corrupt JPEG restored and saved\n",
      "\u001B[34m\u001B[1mtrain: \u001B[0m/media/abawi/e38fddf9-a92e-4c73-b905-995771f8fc3a/datasets/segmentation/yolo_style_fourclass/train/images/3 (125).jpg: corrupt JPEG restored and saved\n",
      "\u001B[34m\u001B[1mtrain: \u001B[0m/media/abawi/e38fddf9-a92e-4c73-b905-995771f8fc3a/datasets/segmentation/yolo_style_fourclass/train/images/3 (126).jpg: corrupt JPEG restored and saved\n",
      "\u001B[34m\u001B[1mtrain: \u001B[0m/media/abawi/e38fddf9-a92e-4c73-b905-995771f8fc3a/datasets/segmentation/yolo_style_fourclass/train/images/3 (127).jpg: corrupt JPEG restored and saved\n",
      "\u001B[34m\u001B[1mtrain: \u001B[0m/media/abawi/e38fddf9-a92e-4c73-b905-995771f8fc3a/datasets/segmentation/yolo_style_fourclass/train/images/3 (129).jpg: corrupt JPEG restored and saved\n",
      "\u001B[34m\u001B[1mtrain: \u001B[0m/media/abawi/e38fddf9-a92e-4c73-b905-995771f8fc3a/datasets/segmentation/yolo_style_fourclass/train/images/3 (130).jpg: corrupt JPEG restored and saved\n",
      "\u001B[34m\u001B[1mtrain: \u001B[0m/media/abawi/e38fddf9-a92e-4c73-b905-995771f8fc3a/datasets/segmentation/yolo_style_fourclass/train/images/3 (131).jpg: corrupt JPEG restored and saved\n",
      "\u001B[34m\u001B[1mtrain: \u001B[0m/media/abawi/e38fddf9-a92e-4c73-b905-995771f8fc3a/datasets/segmentation/yolo_style_fourclass/train/images/3 (132).jpg: corrupt JPEG restored and saved\n",
      "\u001B[34m\u001B[1mtrain: \u001B[0m/media/abawi/e38fddf9-a92e-4c73-b905-995771f8fc3a/datasets/segmentation/yolo_style_fourclass/train/images/3 (135).jpg: corrupt JPEG restored and saved\n",
      "\u001B[34m\u001B[1mtrain: \u001B[0m/media/abawi/e38fddf9-a92e-4c73-b905-995771f8fc3a/datasets/segmentation/yolo_style_fourclass/train/images/3 (136).jpg: corrupt JPEG restored and saved\n",
      "\u001B[34m\u001B[1mtrain: \u001B[0m/media/abawi/e38fddf9-a92e-4c73-b905-995771f8fc3a/datasets/segmentation/yolo_style_fourclass/train/images/3 (137).jpg: corrupt JPEG restored and saved\n",
      "\u001B[34m\u001B[1mtrain: \u001B[0m/media/abawi/e38fddf9-a92e-4c73-b905-995771f8fc3a/datasets/segmentation/yolo_style_fourclass/train/images/3 (139).jpg: corrupt JPEG restored and saved\n",
      "\u001B[34m\u001B[1mtrain: \u001B[0m/media/abawi/e38fddf9-a92e-4c73-b905-995771f8fc3a/datasets/segmentation/yolo_style_fourclass/train/images/3 (140).jpg: corrupt JPEG restored and saved\n",
      "\u001B[34m\u001B[1mtrain: \u001B[0m/media/abawi/e38fddf9-a92e-4c73-b905-995771f8fc3a/datasets/segmentation/yolo_style_fourclass/train/images/3 (141).jpg: corrupt JPEG restored and saved\n",
      "\u001B[34m\u001B[1mtrain: \u001B[0m/media/abawi/e38fddf9-a92e-4c73-b905-995771f8fc3a/datasets/segmentation/yolo_style_fourclass/train/images/3 (142).jpg: corrupt JPEG restored and saved\n",
      "\u001B[34m\u001B[1mtrain: \u001B[0m/media/abawi/e38fddf9-a92e-4c73-b905-995771f8fc3a/datasets/segmentation/yolo_style_fourclass/train/images/3 (145).jpg: corrupt JPEG restored and saved\n",
      "\u001B[34m\u001B[1mtrain: \u001B[0m/media/abawi/e38fddf9-a92e-4c73-b905-995771f8fc3a/datasets/segmentation/yolo_style_fourclass/train/images/3 (146).jpg: corrupt JPEG restored and saved\n",
      "\u001B[34m\u001B[1mtrain: \u001B[0m/media/abawi/e38fddf9-a92e-4c73-b905-995771f8fc3a/datasets/segmentation/yolo_style_fourclass/train/images/3 (147).jpg: corrupt JPEG restored and saved\n",
      "\u001B[34m\u001B[1mtrain: \u001B[0m/media/abawi/e38fddf9-a92e-4c73-b905-995771f8fc3a/datasets/segmentation/yolo_style_fourclass/train/images/3 (148).jpg: corrupt JPEG restored and saved\n",
      "\u001B[34m\u001B[1mtrain: \u001B[0m/media/abawi/e38fddf9-a92e-4c73-b905-995771f8fc3a/datasets/segmentation/yolo_style_fourclass/train/images/3 (151).jpg: corrupt JPEG restored and saved\n",
      "\u001B[34m\u001B[1mtrain: \u001B[0m/media/abawi/e38fddf9-a92e-4c73-b905-995771f8fc3a/datasets/segmentation/yolo_style_fourclass/train/images/3 (152).jpg: corrupt JPEG restored and saved\n",
      "\u001B[34m\u001B[1mtrain: \u001B[0m/media/abawi/e38fddf9-a92e-4c73-b905-995771f8fc3a/datasets/segmentation/yolo_style_fourclass/train/images/3 (153).jpg: corrupt JPEG restored and saved\n",
      "\u001B[34m\u001B[1mtrain: \u001B[0m/media/abawi/e38fddf9-a92e-4c73-b905-995771f8fc3a/datasets/segmentation/yolo_style_fourclass/train/images/3 (155).jpg: corrupt JPEG restored and saved\n",
      "\u001B[34m\u001B[1mtrain: \u001B[0m/media/abawi/e38fddf9-a92e-4c73-b905-995771f8fc3a/datasets/segmentation/yolo_style_fourclass/train/images/3 (160).jpg: corrupt JPEG restored and saved\n",
      "\u001B[34m\u001B[1mtrain: \u001B[0m/media/abawi/e38fddf9-a92e-4c73-b905-995771f8fc3a/datasets/segmentation/yolo_style_fourclass/train/images/3 (161).jpg: corrupt JPEG restored and saved\n",
      "\u001B[34m\u001B[1mtrain: \u001B[0m/media/abawi/e38fddf9-a92e-4c73-b905-995771f8fc3a/datasets/segmentation/yolo_style_fourclass/train/images/3 (163).jpg: corrupt JPEG restored and saved\n",
      "\u001B[34m\u001B[1mtrain: \u001B[0m/media/abawi/e38fddf9-a92e-4c73-b905-995771f8fc3a/datasets/segmentation/yolo_style_fourclass/train/images/3 (164).jpg: corrupt JPEG restored and saved\n",
      "\u001B[34m\u001B[1mtrain: \u001B[0m/media/abawi/e38fddf9-a92e-4c73-b905-995771f8fc3a/datasets/segmentation/yolo_style_fourclass/train/images/3 (165).jpg: corrupt JPEG restored and saved\n",
      "\u001B[34m\u001B[1mtrain: \u001B[0m/media/abawi/e38fddf9-a92e-4c73-b905-995771f8fc3a/datasets/segmentation/yolo_style_fourclass/train/images/3 (167).jpg: corrupt JPEG restored and saved\n",
      "\u001B[34m\u001B[1mtrain: \u001B[0m/media/abawi/e38fddf9-a92e-4c73-b905-995771f8fc3a/datasets/segmentation/yolo_style_fourclass/train/images/3 (169).jpg: corrupt JPEG restored and saved\n",
      "\u001B[34m\u001B[1mtrain: \u001B[0m/media/abawi/e38fddf9-a92e-4c73-b905-995771f8fc3a/datasets/segmentation/yolo_style_fourclass/train/images/3 (17).jpg: corrupt JPEG restored and saved\n",
      "\u001B[34m\u001B[1mtrain: \u001B[0m/media/abawi/e38fddf9-a92e-4c73-b905-995771f8fc3a/datasets/segmentation/yolo_style_fourclass/train/images/3 (170).jpg: corrupt JPEG restored and saved\n",
      "\u001B[34m\u001B[1mtrain: \u001B[0m/media/abawi/e38fddf9-a92e-4c73-b905-995771f8fc3a/datasets/segmentation/yolo_style_fourclass/train/images/3 (176).jpg: corrupt JPEG restored and saved\n",
      "\u001B[34m\u001B[1mtrain: \u001B[0m/media/abawi/e38fddf9-a92e-4c73-b905-995771f8fc3a/datasets/segmentation/yolo_style_fourclass/train/images/3 (18).jpg: corrupt JPEG restored and saved\n",
      "\u001B[34m\u001B[1mtrain: \u001B[0m/media/abawi/e38fddf9-a92e-4c73-b905-995771f8fc3a/datasets/segmentation/yolo_style_fourclass/train/images/3 (180).jpg: corrupt JPEG restored and saved\n",
      "\u001B[34m\u001B[1mtrain: \u001B[0m/media/abawi/e38fddf9-a92e-4c73-b905-995771f8fc3a/datasets/segmentation/yolo_style_fourclass/train/images/3 (184).jpg: corrupt JPEG restored and saved\n",
      "\u001B[34m\u001B[1mtrain: \u001B[0m/media/abawi/e38fddf9-a92e-4c73-b905-995771f8fc3a/datasets/segmentation/yolo_style_fourclass/train/images/3 (185).jpg: corrupt JPEG restored and saved\n",
      "\u001B[34m\u001B[1mtrain: \u001B[0m/media/abawi/e38fddf9-a92e-4c73-b905-995771f8fc3a/datasets/segmentation/yolo_style_fourclass/train/images/3 (187).jpg: corrupt JPEG restored and saved\n",
      "\u001B[34m\u001B[1mtrain: \u001B[0m/media/abawi/e38fddf9-a92e-4c73-b905-995771f8fc3a/datasets/segmentation/yolo_style_fourclass/train/images/3 (188).jpg: corrupt JPEG restored and saved\n",
      "\u001B[34m\u001B[1mtrain: \u001B[0m/media/abawi/e38fddf9-a92e-4c73-b905-995771f8fc3a/datasets/segmentation/yolo_style_fourclass/train/images/3 (19).jpg: corrupt JPEG restored and saved\n",
      "\u001B[34m\u001B[1mtrain: \u001B[0m/media/abawi/e38fddf9-a92e-4c73-b905-995771f8fc3a/datasets/segmentation/yolo_style_fourclass/train/images/3 (190).jpg: corrupt JPEG restored and saved\n",
      "\u001B[34m\u001B[1mtrain: \u001B[0m/media/abawi/e38fddf9-a92e-4c73-b905-995771f8fc3a/datasets/segmentation/yolo_style_fourclass/train/images/3 (193).jpg: corrupt JPEG restored and saved\n",
      "\u001B[34m\u001B[1mtrain: \u001B[0m/media/abawi/e38fddf9-a92e-4c73-b905-995771f8fc3a/datasets/segmentation/yolo_style_fourclass/train/images/3 (194).jpg: corrupt JPEG restored and saved\n",
      "\u001B[34m\u001B[1mtrain: \u001B[0m/media/abawi/e38fddf9-a92e-4c73-b905-995771f8fc3a/datasets/segmentation/yolo_style_fourclass/train/images/3 (198).jpg: corrupt JPEG restored and saved\n",
      "\u001B[34m\u001B[1mtrain: \u001B[0m/media/abawi/e38fddf9-a92e-4c73-b905-995771f8fc3a/datasets/segmentation/yolo_style_fourclass/train/images/3 (20).jpg: corrupt JPEG restored and saved\n",
      "\u001B[34m\u001B[1mtrain: \u001B[0m/media/abawi/e38fddf9-a92e-4c73-b905-995771f8fc3a/datasets/segmentation/yolo_style_fourclass/train/images/3 (200).jpg: corrupt JPEG restored and saved\n",
      "\u001B[34m\u001B[1mtrain: \u001B[0m/media/abawi/e38fddf9-a92e-4c73-b905-995771f8fc3a/datasets/segmentation/yolo_style_fourclass/train/images/3 (204).jpg: corrupt JPEG restored and saved\n",
      "\u001B[34m\u001B[1mtrain: \u001B[0m/media/abawi/e38fddf9-a92e-4c73-b905-995771f8fc3a/datasets/segmentation/yolo_style_fourclass/train/images/3 (205).jpg: corrupt JPEG restored and saved\n",
      "\u001B[34m\u001B[1mtrain: \u001B[0m/media/abawi/e38fddf9-a92e-4c73-b905-995771f8fc3a/datasets/segmentation/yolo_style_fourclass/train/images/3 (21).jpg: corrupt JPEG restored and saved\n",
      "\u001B[34m\u001B[1mtrain: \u001B[0m/media/abawi/e38fddf9-a92e-4c73-b905-995771f8fc3a/datasets/segmentation/yolo_style_fourclass/train/images/3 (210).jpg: corrupt JPEG restored and saved\n",
      "\u001B[34m\u001B[1mtrain: \u001B[0m/media/abawi/e38fddf9-a92e-4c73-b905-995771f8fc3a/datasets/segmentation/yolo_style_fourclass/train/images/3 (216).jpg: corrupt JPEG restored and saved\n",
      "\u001B[34m\u001B[1mtrain: \u001B[0m/media/abawi/e38fddf9-a92e-4c73-b905-995771f8fc3a/datasets/segmentation/yolo_style_fourclass/train/images/3 (22).jpg: corrupt JPEG restored and saved\n",
      "\u001B[34m\u001B[1mtrain: \u001B[0m/media/abawi/e38fddf9-a92e-4c73-b905-995771f8fc3a/datasets/segmentation/yolo_style_fourclass/train/images/3 (221).jpg: corrupt JPEG restored and saved\n",
      "\u001B[34m\u001B[1mtrain: \u001B[0m/media/abawi/e38fddf9-a92e-4c73-b905-995771f8fc3a/datasets/segmentation/yolo_style_fourclass/train/images/3 (224).jpg: corrupt JPEG restored and saved\n",
      "\u001B[34m\u001B[1mtrain: \u001B[0m/media/abawi/e38fddf9-a92e-4c73-b905-995771f8fc3a/datasets/segmentation/yolo_style_fourclass/train/images/3 (226).jpg: corrupt JPEG restored and saved\n",
      "\u001B[34m\u001B[1mtrain: \u001B[0m/media/abawi/e38fddf9-a92e-4c73-b905-995771f8fc3a/datasets/segmentation/yolo_style_fourclass/train/images/3 (229).jpg: corrupt JPEG restored and saved\n",
      "\u001B[34m\u001B[1mtrain: \u001B[0m/media/abawi/e38fddf9-a92e-4c73-b905-995771f8fc3a/datasets/segmentation/yolo_style_fourclass/train/images/3 (231).jpg: corrupt JPEG restored and saved\n",
      "\u001B[34m\u001B[1mtrain: \u001B[0m/media/abawi/e38fddf9-a92e-4c73-b905-995771f8fc3a/datasets/segmentation/yolo_style_fourclass/train/images/3 (232).jpg: corrupt JPEG restored and saved\n",
      "\u001B[34m\u001B[1mtrain: \u001B[0m/media/abawi/e38fddf9-a92e-4c73-b905-995771f8fc3a/datasets/segmentation/yolo_style_fourclass/train/images/3 (234).jpg: corrupt JPEG restored and saved\n",
      "\u001B[34m\u001B[1mtrain: \u001B[0m/media/abawi/e38fddf9-a92e-4c73-b905-995771f8fc3a/datasets/segmentation/yolo_style_fourclass/train/images/3 (237).jpg: corrupt JPEG restored and saved\n",
      "\u001B[34m\u001B[1mtrain: \u001B[0m/media/abawi/e38fddf9-a92e-4c73-b905-995771f8fc3a/datasets/segmentation/yolo_style_fourclass/train/images/3 (238).jpg: corrupt JPEG restored and saved\n",
      "\u001B[34m\u001B[1mtrain: \u001B[0m/media/abawi/e38fddf9-a92e-4c73-b905-995771f8fc3a/datasets/segmentation/yolo_style_fourclass/train/images/3 (246).jpg: corrupt JPEG restored and saved\n",
      "\u001B[34m\u001B[1mtrain: \u001B[0m/media/abawi/e38fddf9-a92e-4c73-b905-995771f8fc3a/datasets/segmentation/yolo_style_fourclass/train/images/3 (247).jpg: corrupt JPEG restored and saved\n",
      "\u001B[34m\u001B[1mtrain: \u001B[0m/media/abawi/e38fddf9-a92e-4c73-b905-995771f8fc3a/datasets/segmentation/yolo_style_fourclass/train/images/3 (249).jpg: corrupt JPEG restored and saved\n",
      "\u001B[34m\u001B[1mtrain: \u001B[0m/media/abawi/e38fddf9-a92e-4c73-b905-995771f8fc3a/datasets/segmentation/yolo_style_fourclass/train/images/3 (25).jpg: corrupt JPEG restored and saved\n",
      "\u001B[34m\u001B[1mtrain: \u001B[0m/media/abawi/e38fddf9-a92e-4c73-b905-995771f8fc3a/datasets/segmentation/yolo_style_fourclass/train/images/3 (251).jpg: corrupt JPEG restored and saved\n",
      "\u001B[34m\u001B[1mtrain: \u001B[0m/media/abawi/e38fddf9-a92e-4c73-b905-995771f8fc3a/datasets/segmentation/yolo_style_fourclass/train/images/3 (252).jpg: corrupt JPEG restored and saved\n",
      "\u001B[34m\u001B[1mtrain: \u001B[0m/media/abawi/e38fddf9-a92e-4c73-b905-995771f8fc3a/datasets/segmentation/yolo_style_fourclass/train/images/3 (255).jpg: corrupt JPEG restored and saved\n",
      "\u001B[34m\u001B[1mtrain: \u001B[0m/media/abawi/e38fddf9-a92e-4c73-b905-995771f8fc3a/datasets/segmentation/yolo_style_fourclass/train/images/3 (257).jpg: corrupt JPEG restored and saved\n",
      "\u001B[34m\u001B[1mtrain: \u001B[0m/media/abawi/e38fddf9-a92e-4c73-b905-995771f8fc3a/datasets/segmentation/yolo_style_fourclass/train/images/3 (269).jpg: corrupt JPEG restored and saved\n",
      "\u001B[34m\u001B[1mtrain: \u001B[0m/media/abawi/e38fddf9-a92e-4c73-b905-995771f8fc3a/datasets/segmentation/yolo_style_fourclass/train/images/3 (271).jpg: corrupt JPEG restored and saved\n",
      "\u001B[34m\u001B[1mtrain: \u001B[0m/media/abawi/e38fddf9-a92e-4c73-b905-995771f8fc3a/datasets/segmentation/yolo_style_fourclass/train/images/3 (279).jpg: corrupt JPEG restored and saved\n",
      "\u001B[34m\u001B[1mtrain: \u001B[0m/media/abawi/e38fddf9-a92e-4c73-b905-995771f8fc3a/datasets/segmentation/yolo_style_fourclass/train/images/3 (28).jpg: corrupt JPEG restored and saved\n",
      "\u001B[34m\u001B[1mtrain: \u001B[0m/media/abawi/e38fddf9-a92e-4c73-b905-995771f8fc3a/datasets/segmentation/yolo_style_fourclass/train/images/3 (282).jpg: corrupt JPEG restored and saved\n",
      "\u001B[34m\u001B[1mtrain: \u001B[0m/media/abawi/e38fddf9-a92e-4c73-b905-995771f8fc3a/datasets/segmentation/yolo_style_fourclass/train/images/3 (297).jpg: corrupt JPEG restored and saved\n",
      "\u001B[34m\u001B[1mtrain: \u001B[0m/media/abawi/e38fddf9-a92e-4c73-b905-995771f8fc3a/datasets/segmentation/yolo_style_fourclass/train/images/3 (303).jpg: corrupt JPEG restored and saved\n",
      "\u001B[34m\u001B[1mtrain: \u001B[0m/media/abawi/e38fddf9-a92e-4c73-b905-995771f8fc3a/datasets/segmentation/yolo_style_fourclass/train/images/3 (304).jpg: corrupt JPEG restored and saved\n",
      "\u001B[34m\u001B[1mtrain: \u001B[0m/media/abawi/e38fddf9-a92e-4c73-b905-995771f8fc3a/datasets/segmentation/yolo_style_fourclass/train/images/3 (312).jpg: corrupt JPEG restored and saved\n",
      "\u001B[34m\u001B[1mtrain: \u001B[0m/media/abawi/e38fddf9-a92e-4c73-b905-995771f8fc3a/datasets/segmentation/yolo_style_fourclass/train/images/3 (318).jpg: corrupt JPEG restored and saved\n",
      "\u001B[34m\u001B[1mtrain: \u001B[0m/media/abawi/e38fddf9-a92e-4c73-b905-995771f8fc3a/datasets/segmentation/yolo_style_fourclass/train/images/3 (323).jpg: corrupt JPEG restored and saved\n",
      "\u001B[34m\u001B[1mtrain: \u001B[0m/media/abawi/e38fddf9-a92e-4c73-b905-995771f8fc3a/datasets/segmentation/yolo_style_fourclass/train/images/3 (333).jpg: corrupt JPEG restored and saved\n",
      "\u001B[34m\u001B[1mtrain: \u001B[0m/media/abawi/e38fddf9-a92e-4c73-b905-995771f8fc3a/datasets/segmentation/yolo_style_fourclass/train/images/3 (335).jpg: corrupt JPEG restored and saved\n",
      "\u001B[34m\u001B[1mtrain: \u001B[0m/media/abawi/e38fddf9-a92e-4c73-b905-995771f8fc3a/datasets/segmentation/yolo_style_fourclass/train/images/3 (337).jpg: corrupt JPEG restored and saved\n",
      "\u001B[34m\u001B[1mtrain: \u001B[0m/media/abawi/e38fddf9-a92e-4c73-b905-995771f8fc3a/datasets/segmentation/yolo_style_fourclass/train/images/3 (34).jpg: corrupt JPEG restored and saved\n",
      "\u001B[34m\u001B[1mtrain: \u001B[0m/media/abawi/e38fddf9-a92e-4c73-b905-995771f8fc3a/datasets/segmentation/yolo_style_fourclass/train/images/3 (340).jpg: corrupt JPEG restored and saved\n",
      "\u001B[34m\u001B[1mtrain: \u001B[0m/media/abawi/e38fddf9-a92e-4c73-b905-995771f8fc3a/datasets/segmentation/yolo_style_fourclass/train/images/3 (341).jpg: corrupt JPEG restored and saved\n",
      "\u001B[34m\u001B[1mtrain: \u001B[0m/media/abawi/e38fddf9-a92e-4c73-b905-995771f8fc3a/datasets/segmentation/yolo_style_fourclass/train/images/3 (342).jpg: corrupt JPEG restored and saved\n",
      "\u001B[34m\u001B[1mtrain: \u001B[0m/media/abawi/e38fddf9-a92e-4c73-b905-995771f8fc3a/datasets/segmentation/yolo_style_fourclass/train/images/3 (343).jpg: corrupt JPEG restored and saved\n",
      "\u001B[34m\u001B[1mtrain: \u001B[0m/media/abawi/e38fddf9-a92e-4c73-b905-995771f8fc3a/datasets/segmentation/yolo_style_fourclass/train/images/3 (344).jpg: corrupt JPEG restored and saved\n",
      "\u001B[34m\u001B[1mtrain: \u001B[0m/media/abawi/e38fddf9-a92e-4c73-b905-995771f8fc3a/datasets/segmentation/yolo_style_fourclass/train/images/3 (346).jpg: corrupt JPEG restored and saved\n",
      "\u001B[34m\u001B[1mtrain: \u001B[0m/media/abawi/e38fddf9-a92e-4c73-b905-995771f8fc3a/datasets/segmentation/yolo_style_fourclass/train/images/3 (347).jpg: corrupt JPEG restored and saved\n",
      "\u001B[34m\u001B[1mtrain: \u001B[0m/media/abawi/e38fddf9-a92e-4c73-b905-995771f8fc3a/datasets/segmentation/yolo_style_fourclass/train/images/3 (349).jpg: corrupt JPEG restored and saved\n",
      "\u001B[34m\u001B[1mtrain: \u001B[0m/media/abawi/e38fddf9-a92e-4c73-b905-995771f8fc3a/datasets/segmentation/yolo_style_fourclass/train/images/3 (350).jpg: corrupt JPEG restored and saved\n",
      "\u001B[34m\u001B[1mtrain: \u001B[0m/media/abawi/e38fddf9-a92e-4c73-b905-995771f8fc3a/datasets/segmentation/yolo_style_fourclass/train/images/3 (351).jpg: corrupt JPEG restored and saved\n",
      "\u001B[34m\u001B[1mtrain: \u001B[0m/media/abawi/e38fddf9-a92e-4c73-b905-995771f8fc3a/datasets/segmentation/yolo_style_fourclass/train/images/3 (352).jpg: corrupt JPEG restored and saved\n",
      "\u001B[34m\u001B[1mtrain: \u001B[0m/media/abawi/e38fddf9-a92e-4c73-b905-995771f8fc3a/datasets/segmentation/yolo_style_fourclass/train/images/3 (353).jpg: corrupt JPEG restored and saved\n",
      "\u001B[34m\u001B[1mtrain: \u001B[0m/media/abawi/e38fddf9-a92e-4c73-b905-995771f8fc3a/datasets/segmentation/yolo_style_fourclass/train/images/3 (354).jpg: corrupt JPEG restored and saved\n",
      "\u001B[34m\u001B[1mtrain: \u001B[0m/media/abawi/e38fddf9-a92e-4c73-b905-995771f8fc3a/datasets/segmentation/yolo_style_fourclass/train/images/3 (356).jpg: corrupt JPEG restored and saved\n",
      "\u001B[34m\u001B[1mtrain: \u001B[0m/media/abawi/e38fddf9-a92e-4c73-b905-995771f8fc3a/datasets/segmentation/yolo_style_fourclass/train/images/3 (357).jpg: corrupt JPEG restored and saved\n",
      "\u001B[34m\u001B[1mtrain: \u001B[0m/media/abawi/e38fddf9-a92e-4c73-b905-995771f8fc3a/datasets/segmentation/yolo_style_fourclass/train/images/3 (358).jpg: corrupt JPEG restored and saved\n",
      "\u001B[34m\u001B[1mtrain: \u001B[0m/media/abawi/e38fddf9-a92e-4c73-b905-995771f8fc3a/datasets/segmentation/yolo_style_fourclass/train/images/3 (359).jpg: corrupt JPEG restored and saved\n",
      "\u001B[34m\u001B[1mtrain: \u001B[0m/media/abawi/e38fddf9-a92e-4c73-b905-995771f8fc3a/datasets/segmentation/yolo_style_fourclass/train/images/3 (36).jpg: corrupt JPEG restored and saved\n",
      "\u001B[34m\u001B[1mtrain: \u001B[0m/media/abawi/e38fddf9-a92e-4c73-b905-995771f8fc3a/datasets/segmentation/yolo_style_fourclass/train/images/3 (361).jpg: corrupt JPEG restored and saved\n",
      "\u001B[34m\u001B[1mtrain: \u001B[0m/media/abawi/e38fddf9-a92e-4c73-b905-995771f8fc3a/datasets/segmentation/yolo_style_fourclass/train/images/3 (381).jpg: corrupt JPEG restored and saved\n",
      "\u001B[34m\u001B[1mtrain: \u001B[0m/media/abawi/e38fddf9-a92e-4c73-b905-995771f8fc3a/datasets/segmentation/yolo_style_fourclass/train/images/3 (384).jpg: corrupt JPEG restored and saved\n",
      "\u001B[34m\u001B[1mtrain: \u001B[0m/media/abawi/e38fddf9-a92e-4c73-b905-995771f8fc3a/datasets/segmentation/yolo_style_fourclass/train/images/3 (386).jpg: corrupt JPEG restored and saved\n",
      "\u001B[34m\u001B[1mtrain: \u001B[0m/media/abawi/e38fddf9-a92e-4c73-b905-995771f8fc3a/datasets/segmentation/yolo_style_fourclass/train/images/3 (389).jpg: corrupt JPEG restored and saved\n",
      "\u001B[34m\u001B[1mtrain: \u001B[0m/media/abawi/e38fddf9-a92e-4c73-b905-995771f8fc3a/datasets/segmentation/yolo_style_fourclass/train/images/3 (397).jpg: corrupt JPEG restored and saved\n",
      "\u001B[34m\u001B[1mtrain: \u001B[0m/media/abawi/e38fddf9-a92e-4c73-b905-995771f8fc3a/datasets/segmentation/yolo_style_fourclass/train/images/3 (399).jpg: corrupt JPEG restored and saved\n",
      "\u001B[34m\u001B[1mtrain: \u001B[0m/media/abawi/e38fddf9-a92e-4c73-b905-995771f8fc3a/datasets/segmentation/yolo_style_fourclass/train/images/3 (40).jpg: corrupt JPEG restored and saved\n",
      "\u001B[34m\u001B[1mtrain: \u001B[0m/media/abawi/e38fddf9-a92e-4c73-b905-995771f8fc3a/datasets/segmentation/yolo_style_fourclass/train/images/3 (404).jpg: corrupt JPEG restored and saved\n",
      "\u001B[34m\u001B[1mtrain: \u001B[0m/media/abawi/e38fddf9-a92e-4c73-b905-995771f8fc3a/datasets/segmentation/yolo_style_fourclass/train/images/3 (406).jpg: corrupt JPEG restored and saved\n",
      "\u001B[34m\u001B[1mtrain: \u001B[0m/media/abawi/e38fddf9-a92e-4c73-b905-995771f8fc3a/datasets/segmentation/yolo_style_fourclass/train/images/3 (407).jpg: corrupt JPEG restored and saved\n",
      "\u001B[34m\u001B[1mtrain: \u001B[0m/media/abawi/e38fddf9-a92e-4c73-b905-995771f8fc3a/datasets/segmentation/yolo_style_fourclass/train/images/3 (408).jpg: corrupt JPEG restored and saved\n",
      "\u001B[34m\u001B[1mtrain: \u001B[0m/media/abawi/e38fddf9-a92e-4c73-b905-995771f8fc3a/datasets/segmentation/yolo_style_fourclass/train/images/3 (409).jpg: corrupt JPEG restored and saved\n",
      "\u001B[34m\u001B[1mtrain: \u001B[0m/media/abawi/e38fddf9-a92e-4c73-b905-995771f8fc3a/datasets/segmentation/yolo_style_fourclass/train/images/3 (41).jpg: corrupt JPEG restored and saved\n",
      "\u001B[34m\u001B[1mtrain: \u001B[0m/media/abawi/e38fddf9-a92e-4c73-b905-995771f8fc3a/datasets/segmentation/yolo_style_fourclass/train/images/3 (415).jpg: corrupt JPEG restored and saved\n",
      "\u001B[34m\u001B[1mtrain: \u001B[0m/media/abawi/e38fddf9-a92e-4c73-b905-995771f8fc3a/datasets/segmentation/yolo_style_fourclass/train/images/3 (42).jpg: corrupt JPEG restored and saved\n",
      "\u001B[34m\u001B[1mtrain: \u001B[0m/media/abawi/e38fddf9-a92e-4c73-b905-995771f8fc3a/datasets/segmentation/yolo_style_fourclass/train/images/3 (426).jpg: corrupt JPEG restored and saved\n",
      "\u001B[34m\u001B[1mtrain: \u001B[0m/media/abawi/e38fddf9-a92e-4c73-b905-995771f8fc3a/datasets/segmentation/yolo_style_fourclass/train/images/3 (428).jpg: corrupt JPEG restored and saved\n",
      "\u001B[34m\u001B[1mtrain: \u001B[0m/media/abawi/e38fddf9-a92e-4c73-b905-995771f8fc3a/datasets/segmentation/yolo_style_fourclass/train/images/3 (431).jpg: corrupt JPEG restored and saved\n",
      "\u001B[34m\u001B[1mtrain: \u001B[0m/media/abawi/e38fddf9-a92e-4c73-b905-995771f8fc3a/datasets/segmentation/yolo_style_fourclass/train/images/3 (433).jpg: corrupt JPEG restored and saved\n",
      "\u001B[34m\u001B[1mtrain: \u001B[0m/media/abawi/e38fddf9-a92e-4c73-b905-995771f8fc3a/datasets/segmentation/yolo_style_fourclass/train/images/3 (434).jpg: corrupt JPEG restored and saved\n",
      "\u001B[34m\u001B[1mtrain: \u001B[0m/media/abawi/e38fddf9-a92e-4c73-b905-995771f8fc3a/datasets/segmentation/yolo_style_fourclass/train/images/3 (437).jpg: corrupt JPEG restored and saved\n",
      "\u001B[34m\u001B[1mtrain: \u001B[0m/media/abawi/e38fddf9-a92e-4c73-b905-995771f8fc3a/datasets/segmentation/yolo_style_fourclass/train/images/3 (438).jpg: corrupt JPEG restored and saved\n",
      "\u001B[34m\u001B[1mtrain: \u001B[0m/media/abawi/e38fddf9-a92e-4c73-b905-995771f8fc3a/datasets/segmentation/yolo_style_fourclass/train/images/3 (44).jpg: corrupt JPEG restored and saved\n",
      "\u001B[34m\u001B[1mtrain: \u001B[0m/media/abawi/e38fddf9-a92e-4c73-b905-995771f8fc3a/datasets/segmentation/yolo_style_fourclass/train/images/3 (45).jpg: corrupt JPEG restored and saved\n",
      "\u001B[34m\u001B[1mtrain: \u001B[0m/media/abawi/e38fddf9-a92e-4c73-b905-995771f8fc3a/datasets/segmentation/yolo_style_fourclass/train/images/3 (47).jpg: corrupt JPEG restored and saved\n",
      "\u001B[34m\u001B[1mtrain: \u001B[0m/media/abawi/e38fddf9-a92e-4c73-b905-995771f8fc3a/datasets/segmentation/yolo_style_fourclass/train/images/3 (488).jpg: corrupt JPEG restored and saved\n",
      "\u001B[34m\u001B[1mtrain: \u001B[0m/media/abawi/e38fddf9-a92e-4c73-b905-995771f8fc3a/datasets/segmentation/yolo_style_fourclass/train/images/3 (49).jpg: corrupt JPEG restored and saved\n",
      "\u001B[34m\u001B[1mtrain: \u001B[0m/media/abawi/e38fddf9-a92e-4c73-b905-995771f8fc3a/datasets/segmentation/yolo_style_fourclass/train/images/3 (498).jpg: corrupt JPEG restored and saved\n",
      "\u001B[34m\u001B[1mtrain: \u001B[0m/media/abawi/e38fddf9-a92e-4c73-b905-995771f8fc3a/datasets/segmentation/yolo_style_fourclass/train/images/3 (500).jpg: corrupt JPEG restored and saved\n",
      "\u001B[34m\u001B[1mtrain: \u001B[0m/media/abawi/e38fddf9-a92e-4c73-b905-995771f8fc3a/datasets/segmentation/yolo_style_fourclass/train/images/3 (504).jpg: corrupt JPEG restored and saved\n",
      "\u001B[34m\u001B[1mtrain: \u001B[0m/media/abawi/e38fddf9-a92e-4c73-b905-995771f8fc3a/datasets/segmentation/yolo_style_fourclass/train/images/3 (507).jpg: corrupt JPEG restored and saved\n",
      "\u001B[34m\u001B[1mtrain: \u001B[0m/media/abawi/e38fddf9-a92e-4c73-b905-995771f8fc3a/datasets/segmentation/yolo_style_fourclass/train/images/3 (509).jpg: corrupt JPEG restored and saved\n",
      "\u001B[34m\u001B[1mtrain: \u001B[0m/media/abawi/e38fddf9-a92e-4c73-b905-995771f8fc3a/datasets/segmentation/yolo_style_fourclass/train/images/3 (510).jpg: corrupt JPEG restored and saved\n",
      "\u001B[34m\u001B[1mtrain: \u001B[0m/media/abawi/e38fddf9-a92e-4c73-b905-995771f8fc3a/datasets/segmentation/yolo_style_fourclass/train/images/3 (511).jpg: corrupt JPEG restored and saved\n",
      "\u001B[34m\u001B[1mtrain: \u001B[0m/media/abawi/e38fddf9-a92e-4c73-b905-995771f8fc3a/datasets/segmentation/yolo_style_fourclass/train/images/3 (515).jpg: corrupt JPEG restored and saved\n",
      "\u001B[34m\u001B[1mtrain: \u001B[0m/media/abawi/e38fddf9-a92e-4c73-b905-995771f8fc3a/datasets/segmentation/yolo_style_fourclass/train/images/3 (522).jpg: corrupt JPEG restored and saved\n",
      "\u001B[34m\u001B[1mtrain: \u001B[0m/media/abawi/e38fddf9-a92e-4c73-b905-995771f8fc3a/datasets/segmentation/yolo_style_fourclass/train/images/3 (524).jpg: corrupt JPEG restored and saved\n",
      "\u001B[34m\u001B[1mtrain: \u001B[0m/media/abawi/e38fddf9-a92e-4c73-b905-995771f8fc3a/datasets/segmentation/yolo_style_fourclass/train/images/3 (529).jpg: corrupt JPEG restored and saved\n",
      "\u001B[34m\u001B[1mtrain: \u001B[0m/media/abawi/e38fddf9-a92e-4c73-b905-995771f8fc3a/datasets/segmentation/yolo_style_fourclass/train/images/3 (532).jpg: corrupt JPEG restored and saved\n",
      "\u001B[34m\u001B[1mtrain: \u001B[0m/media/abawi/e38fddf9-a92e-4c73-b905-995771f8fc3a/datasets/segmentation/yolo_style_fourclass/train/images/3 (534).jpg: corrupt JPEG restored and saved\n",
      "\u001B[34m\u001B[1mtrain: \u001B[0m/media/abawi/e38fddf9-a92e-4c73-b905-995771f8fc3a/datasets/segmentation/yolo_style_fourclass/train/images/3 (535).jpg: corrupt JPEG restored and saved\n",
      "\u001B[34m\u001B[1mtrain: \u001B[0m/media/abawi/e38fddf9-a92e-4c73-b905-995771f8fc3a/datasets/segmentation/yolo_style_fourclass/train/images/3 (545).jpg: corrupt JPEG restored and saved\n",
      "\u001B[34m\u001B[1mtrain: \u001B[0m/media/abawi/e38fddf9-a92e-4c73-b905-995771f8fc3a/datasets/segmentation/yolo_style_fourclass/train/images/3 (549).jpg: corrupt JPEG restored and saved\n",
      "\u001B[34m\u001B[1mtrain: \u001B[0m/media/abawi/e38fddf9-a92e-4c73-b905-995771f8fc3a/datasets/segmentation/yolo_style_fourclass/train/images/3 (551).jpg: corrupt JPEG restored and saved\n",
      "\u001B[34m\u001B[1mtrain: \u001B[0m/media/abawi/e38fddf9-a92e-4c73-b905-995771f8fc3a/datasets/segmentation/yolo_style_fourclass/train/images/3 (552).jpg: corrupt JPEG restored and saved\n",
      "\u001B[34m\u001B[1mtrain: \u001B[0m/media/abawi/e38fddf9-a92e-4c73-b905-995771f8fc3a/datasets/segmentation/yolo_style_fourclass/train/images/3 (57).jpg: corrupt JPEG restored and saved\n",
      "\u001B[34m\u001B[1mtrain: \u001B[0m/media/abawi/e38fddf9-a92e-4c73-b905-995771f8fc3a/datasets/segmentation/yolo_style_fourclass/train/images/3 (67).jpg: corrupt JPEG restored and saved\n",
      "\u001B[34m\u001B[1mtrain: \u001B[0m/media/abawi/e38fddf9-a92e-4c73-b905-995771f8fc3a/datasets/segmentation/yolo_style_fourclass/train/images/3 (68).jpg: corrupt JPEG restored and saved\n",
      "\u001B[34m\u001B[1mtrain: \u001B[0m/media/abawi/e38fddf9-a92e-4c73-b905-995771f8fc3a/datasets/segmentation/yolo_style_fourclass/train/images/3 (69).jpg: corrupt JPEG restored and saved\n",
      "\u001B[34m\u001B[1mtrain: \u001B[0m/media/abawi/e38fddf9-a92e-4c73-b905-995771f8fc3a/datasets/segmentation/yolo_style_fourclass/train/images/3 (70).jpg: corrupt JPEG restored and saved\n",
      "\u001B[34m\u001B[1mtrain: \u001B[0m/media/abawi/e38fddf9-a92e-4c73-b905-995771f8fc3a/datasets/segmentation/yolo_style_fourclass/train/images/3 (71).jpg: corrupt JPEG restored and saved\n",
      "\u001B[34m\u001B[1mtrain: \u001B[0m/media/abawi/e38fddf9-a92e-4c73-b905-995771f8fc3a/datasets/segmentation/yolo_style_fourclass/train/images/3 (75).jpg: corrupt JPEG restored and saved\n",
      "\u001B[34m\u001B[1mtrain: \u001B[0m/media/abawi/e38fddf9-a92e-4c73-b905-995771f8fc3a/datasets/segmentation/yolo_style_fourclass/train/images/3 (76).jpg: corrupt JPEG restored and saved\n",
      "\u001B[34m\u001B[1mtrain: \u001B[0m/media/abawi/e38fddf9-a92e-4c73-b905-995771f8fc3a/datasets/segmentation/yolo_style_fourclass/train/images/3 (77).jpg: corrupt JPEG restored and saved\n",
      "\u001B[34m\u001B[1mtrain: \u001B[0m/media/abawi/e38fddf9-a92e-4c73-b905-995771f8fc3a/datasets/segmentation/yolo_style_fourclass/train/images/3 (79).jpg: corrupt JPEG restored and saved\n",
      "\u001B[34m\u001B[1mtrain: \u001B[0m/media/abawi/e38fddf9-a92e-4c73-b905-995771f8fc3a/datasets/segmentation/yolo_style_fourclass/train/images/3 (81).jpg: corrupt JPEG restored and saved\n",
      "\u001B[34m\u001B[1mtrain: \u001B[0m/media/abawi/e38fddf9-a92e-4c73-b905-995771f8fc3a/datasets/segmentation/yolo_style_fourclass/train/images/3 (82).jpg: corrupt JPEG restored and saved\n",
      "\u001B[34m\u001B[1mtrain: \u001B[0m/media/abawi/e38fddf9-a92e-4c73-b905-995771f8fc3a/datasets/segmentation/yolo_style_fourclass/train/images/3 (83).jpg: corrupt JPEG restored and saved\n",
      "\u001B[34m\u001B[1mtrain: \u001B[0m/media/abawi/e38fddf9-a92e-4c73-b905-995771f8fc3a/datasets/segmentation/yolo_style_fourclass/train/images/3 (84).jpg: corrupt JPEG restored and saved\n",
      "\u001B[34m\u001B[1mtrain: \u001B[0m/media/abawi/e38fddf9-a92e-4c73-b905-995771f8fc3a/datasets/segmentation/yolo_style_fourclass/train/images/3 (86).jpg: corrupt JPEG restored and saved\n",
      "\u001B[34m\u001B[1mtrain: \u001B[0m/media/abawi/e38fddf9-a92e-4c73-b905-995771f8fc3a/datasets/segmentation/yolo_style_fourclass/train/images/3 (87).jpg: corrupt JPEG restored and saved\n",
      "\u001B[34m\u001B[1mtrain: \u001B[0m/media/abawi/e38fddf9-a92e-4c73-b905-995771f8fc3a/datasets/segmentation/yolo_style_fourclass/train/images/3 (88).jpg: corrupt JPEG restored and saved\n",
      "\u001B[34m\u001B[1mtrain: \u001B[0m/media/abawi/e38fddf9-a92e-4c73-b905-995771f8fc3a/datasets/segmentation/yolo_style_fourclass/train/images/3 (92).jpg: corrupt JPEG restored and saved\n",
      "\u001B[34m\u001B[1mtrain: \u001B[0m/media/abawi/e38fddf9-a92e-4c73-b905-995771f8fc3a/datasets/segmentation/yolo_style_fourclass/train/images/3 (93).jpg: corrupt JPEG restored and saved\n",
      "\u001B[34m\u001B[1mtrain: \u001B[0m/media/abawi/e38fddf9-a92e-4c73-b905-995771f8fc3a/datasets/segmentation/yolo_style_fourclass/train/images/3 (94).jpg: corrupt JPEG restored and saved\n",
      "\u001B[34m\u001B[1mtrain: \u001B[0m/media/abawi/e38fddf9-a92e-4c73-b905-995771f8fc3a/datasets/segmentation/yolo_style_fourclass/train/images/3 (97).jpg: corrupt JPEG restored and saved\n",
      "\u001B[34m\u001B[1mtrain: \u001B[0m/media/abawi/e38fddf9-a92e-4c73-b905-995771f8fc3a/datasets/segmentation/yolo_style_fourclass/train/images/3 (99).jpg: corrupt JPEG restored and saved\n",
      "\u001B[34m\u001B[1mtrain: \u001B[0m/media/abawi/e38fddf9-a92e-4c73-b905-995771f8fc3a/datasets/segmentation/yolo_style_fourclass/train/images/3009.jpg: corrupt JPEG restored and saved\n",
      "\u001B[34m\u001B[1mtrain: \u001B[0m/media/abawi/e38fddf9-a92e-4c73-b905-995771f8fc3a/datasets/segmentation/yolo_style_fourclass/train/images/3019.jpg: corrupt JPEG restored and saved\n",
      "\u001B[34m\u001B[1mtrain: \u001B[0m/media/abawi/e38fddf9-a92e-4c73-b905-995771f8fc3a/datasets/segmentation/yolo_style_fourclass/train/images/3039.jpg: corrupt JPEG restored and saved\n",
      "\u001B[34m\u001B[1mtrain: \u001B[0m/media/abawi/e38fddf9-a92e-4c73-b905-995771f8fc3a/datasets/segmentation/yolo_style_fourclass/train/images/3041.jpg: corrupt JPEG restored and saved\n",
      "\u001B[34m\u001B[1mtrain: \u001B[0m/media/abawi/e38fddf9-a92e-4c73-b905-995771f8fc3a/datasets/segmentation/yolo_style_fourclass/train/images/3044.jpg: corrupt JPEG restored and saved\n",
      "\u001B[34m\u001B[1mtrain: \u001B[0m/media/abawi/e38fddf9-a92e-4c73-b905-995771f8fc3a/datasets/segmentation/yolo_style_fourclass/train/images/3060.jpg: corrupt JPEG restored and saved\n",
      "\u001B[34m\u001B[1mtrain: \u001B[0m/media/abawi/e38fddf9-a92e-4c73-b905-995771f8fc3a/datasets/segmentation/yolo_style_fourclass/train/images/3069.jpg: corrupt JPEG restored and saved\n",
      "\u001B[34m\u001B[1mtrain: \u001B[0m/media/abawi/e38fddf9-a92e-4c73-b905-995771f8fc3a/datasets/segmentation/yolo_style_fourclass/train/images/3105.jpg: corrupt JPEG restored and saved\n",
      "\u001B[34m\u001B[1mtrain: \u001B[0m/media/abawi/e38fddf9-a92e-4c73-b905-995771f8fc3a/datasets/segmentation/yolo_style_fourclass/train/images/3108.jpg: corrupt JPEG restored and saved\n",
      "\u001B[34m\u001B[1mtrain: \u001B[0m/media/abawi/e38fddf9-a92e-4c73-b905-995771f8fc3a/datasets/segmentation/yolo_style_fourclass/train/images/3109.jpg: corrupt JPEG restored and saved\n",
      "\u001B[34m\u001B[1mtrain: \u001B[0m/media/abawi/e38fddf9-a92e-4c73-b905-995771f8fc3a/datasets/segmentation/yolo_style_fourclass/train/images/3113.jpg: corrupt JPEG restored and saved\n",
      "\u001B[34m\u001B[1mtrain: \u001B[0m/media/abawi/e38fddf9-a92e-4c73-b905-995771f8fc3a/datasets/segmentation/yolo_style_fourclass/train/images/3125.jpg: corrupt JPEG restored and saved\n",
      "\u001B[34m\u001B[1mtrain: \u001B[0m/media/abawi/e38fddf9-a92e-4c73-b905-995771f8fc3a/datasets/segmentation/yolo_style_fourclass/train/images/3137.jpg: corrupt JPEG restored and saved\n",
      "\u001B[34m\u001B[1mtrain: \u001B[0m/media/abawi/e38fddf9-a92e-4c73-b905-995771f8fc3a/datasets/segmentation/yolo_style_fourclass/train/images/3147.jpg: corrupt JPEG restored and saved\n",
      "\u001B[34m\u001B[1mtrain: \u001B[0m/media/abawi/e38fddf9-a92e-4c73-b905-995771f8fc3a/datasets/segmentation/yolo_style_fourclass/train/images/3156.jpg: corrupt JPEG restored and saved\n",
      "\u001B[34m\u001B[1mtrain: \u001B[0m/media/abawi/e38fddf9-a92e-4c73-b905-995771f8fc3a/datasets/segmentation/yolo_style_fourclass/train/images/3163.jpg: corrupt JPEG restored and saved\n",
      "\u001B[34m\u001B[1mtrain: \u001B[0m/media/abawi/e38fddf9-a92e-4c73-b905-995771f8fc3a/datasets/segmentation/yolo_style_fourclass/train/images/3171.jpg: corrupt JPEG restored and saved\n",
      "\u001B[34m\u001B[1mtrain: \u001B[0m/media/abawi/e38fddf9-a92e-4c73-b905-995771f8fc3a/datasets/segmentation/yolo_style_fourclass/train/images/3173.jpg: corrupt JPEG restored and saved\n",
      "\u001B[34m\u001B[1mtrain: \u001B[0m/media/abawi/e38fddf9-a92e-4c73-b905-995771f8fc3a/datasets/segmentation/yolo_style_fourclass/train/images/3193.jpg: corrupt JPEG restored and saved\n",
      "\u001B[34m\u001B[1mtrain: \u001B[0m/media/abawi/e38fddf9-a92e-4c73-b905-995771f8fc3a/datasets/segmentation/yolo_style_fourclass/train/images/3206.jpg: corrupt JPEG restored and saved\n",
      "\u001B[34m\u001B[1mtrain: \u001B[0m/media/abawi/e38fddf9-a92e-4c73-b905-995771f8fc3a/datasets/segmentation/yolo_style_fourclass/train/images/3209.jpg: corrupt JPEG restored and saved\n",
      "\u001B[34m\u001B[1mtrain: \u001B[0m/media/abawi/e38fddf9-a92e-4c73-b905-995771f8fc3a/datasets/segmentation/yolo_style_fourclass/train/images/3210.jpg: corrupt JPEG restored and saved\n",
      "\u001B[34m\u001B[1mtrain: \u001B[0m/media/abawi/e38fddf9-a92e-4c73-b905-995771f8fc3a/datasets/segmentation/yolo_style_fourclass/train/images/3211.jpg: corrupt JPEG restored and saved\n",
      "\u001B[34m\u001B[1mtrain: \u001B[0m/media/abawi/e38fddf9-a92e-4c73-b905-995771f8fc3a/datasets/segmentation/yolo_style_fourclass/train/images/3216.jpg: corrupt JPEG restored and saved\n",
      "\u001B[34m\u001B[1mtrain: \u001B[0m/media/abawi/e38fddf9-a92e-4c73-b905-995771f8fc3a/datasets/segmentation/yolo_style_fourclass/train/images/3217.jpg: corrupt JPEG restored and saved\n",
      "\u001B[34m\u001B[1mtrain: \u001B[0m/media/abawi/e38fddf9-a92e-4c73-b905-995771f8fc3a/datasets/segmentation/yolo_style_fourclass/train/images/3231.jpg: corrupt JPEG restored and saved\n",
      "\u001B[34m\u001B[1mtrain: \u001B[0m/media/abawi/e38fddf9-a92e-4c73-b905-995771f8fc3a/datasets/segmentation/yolo_style_fourclass/train/images/3240.jpg: corrupt JPEG restored and saved\n",
      "\u001B[34m\u001B[1mtrain: \u001B[0m/media/abawi/e38fddf9-a92e-4c73-b905-995771f8fc3a/datasets/segmentation/yolo_style_fourclass/train/images/3258.jpg: corrupt JPEG restored and saved\n",
      "\u001B[34m\u001B[1mtrain: \u001B[0m/media/abawi/e38fddf9-a92e-4c73-b905-995771f8fc3a/datasets/segmentation/yolo_style_fourclass/train/images/3283.jpg: corrupt JPEG restored and saved\n",
      "\u001B[34m\u001B[1mtrain: \u001B[0m/media/abawi/e38fddf9-a92e-4c73-b905-995771f8fc3a/datasets/segmentation/yolo_style_fourclass/train/images/3296.jpg: corrupt JPEG restored and saved\n",
      "\u001B[34m\u001B[1mtrain: \u001B[0m/media/abawi/e38fddf9-a92e-4c73-b905-995771f8fc3a/datasets/segmentation/yolo_style_fourclass/train/images/330.jpg: corrupt JPEG restored and saved\n",
      "\u001B[34m\u001B[1mtrain: \u001B[0m/media/abawi/e38fddf9-a92e-4c73-b905-995771f8fc3a/datasets/segmentation/yolo_style_fourclass/train/images/3301.jpg: corrupt JPEG restored and saved\n",
      "\u001B[34m\u001B[1mtrain: \u001B[0m/media/abawi/e38fddf9-a92e-4c73-b905-995771f8fc3a/datasets/segmentation/yolo_style_fourclass/train/images/3305.jpg: corrupt JPEG restored and saved\n",
      "\u001B[34m\u001B[1mtrain: \u001B[0m/media/abawi/e38fddf9-a92e-4c73-b905-995771f8fc3a/datasets/segmentation/yolo_style_fourclass/train/images/3354.jpg: corrupt JPEG restored and saved\n",
      "\u001B[34m\u001B[1mtrain: \u001B[0m/media/abawi/e38fddf9-a92e-4c73-b905-995771f8fc3a/datasets/segmentation/yolo_style_fourclass/train/images/3360.jpg: corrupt JPEG restored and saved\n",
      "\u001B[34m\u001B[1mtrain: \u001B[0m/media/abawi/e38fddf9-a92e-4c73-b905-995771f8fc3a/datasets/segmentation/yolo_style_fourclass/train/images/3390.jpg: corrupt JPEG restored and saved\n",
      "\u001B[34m\u001B[1mtrain: \u001B[0m/media/abawi/e38fddf9-a92e-4c73-b905-995771f8fc3a/datasets/segmentation/yolo_style_fourclass/train/images/3393.jpg: corrupt JPEG restored and saved\n",
      "\u001B[34m\u001B[1mtrain: \u001B[0m/media/abawi/e38fddf9-a92e-4c73-b905-995771f8fc3a/datasets/segmentation/yolo_style_fourclass/train/images/3413.jpg: corrupt JPEG restored and saved\n",
      "\u001B[34m\u001B[1mtrain: \u001B[0m/media/abawi/e38fddf9-a92e-4c73-b905-995771f8fc3a/datasets/segmentation/yolo_style_fourclass/train/images/3416.jpg: corrupt JPEG restored and saved\n",
      "\u001B[34m\u001B[1mtrain: \u001B[0m/media/abawi/e38fddf9-a92e-4c73-b905-995771f8fc3a/datasets/segmentation/yolo_style_fourclass/train/images/3458.jpg: corrupt JPEG restored and saved\n",
      "\u001B[34m\u001B[1mtrain: \u001B[0m/media/abawi/e38fddf9-a92e-4c73-b905-995771f8fc3a/datasets/segmentation/yolo_style_fourclass/train/images/3461.jpg: corrupt JPEG restored and saved\n",
      "\u001B[34m\u001B[1mtrain: \u001B[0m/media/abawi/e38fddf9-a92e-4c73-b905-995771f8fc3a/datasets/segmentation/yolo_style_fourclass/train/images/3480.jpg: corrupt JPEG restored and saved\n",
      "\u001B[34m\u001B[1mtrain: \u001B[0m/media/abawi/e38fddf9-a92e-4c73-b905-995771f8fc3a/datasets/segmentation/yolo_style_fourclass/train/images/3491.jpg: corrupt JPEG restored and saved\n",
      "\u001B[34m\u001B[1mtrain: \u001B[0m/media/abawi/e38fddf9-a92e-4c73-b905-995771f8fc3a/datasets/segmentation/yolo_style_fourclass/train/images/3497.jpg: corrupt JPEG restored and saved\n",
      "\u001B[34m\u001B[1mtrain: \u001B[0m/media/abawi/e38fddf9-a92e-4c73-b905-995771f8fc3a/datasets/segmentation/yolo_style_fourclass/train/images/3555.jpg: corrupt JPEG restored and saved\n",
      "\u001B[34m\u001B[1mtrain: \u001B[0m/media/abawi/e38fddf9-a92e-4c73-b905-995771f8fc3a/datasets/segmentation/yolo_style_fourclass/train/images/3563.jpg: corrupt JPEG restored and saved\n",
      "\u001B[34m\u001B[1mtrain: \u001B[0m/media/abawi/e38fddf9-a92e-4c73-b905-995771f8fc3a/datasets/segmentation/yolo_style_fourclass/train/images/3570.jpg: corrupt JPEG restored and saved\n",
      "\u001B[34m\u001B[1mtrain: \u001B[0m/media/abawi/e38fddf9-a92e-4c73-b905-995771f8fc3a/datasets/segmentation/yolo_style_fourclass/train/images/359.jpg: corrupt JPEG restored and saved\n",
      "\u001B[34m\u001B[1mtrain: \u001B[0m/media/abawi/e38fddf9-a92e-4c73-b905-995771f8fc3a/datasets/segmentation/yolo_style_fourclass/train/images/3594.jpg: corrupt JPEG restored and saved\n",
      "\u001B[34m\u001B[1mtrain: \u001B[0m/media/abawi/e38fddf9-a92e-4c73-b905-995771f8fc3a/datasets/segmentation/yolo_style_fourclass/train/images/3620.jpg: corrupt JPEG restored and saved\n",
      "\u001B[34m\u001B[1mtrain: \u001B[0m/media/abawi/e38fddf9-a92e-4c73-b905-995771f8fc3a/datasets/segmentation/yolo_style_fourclass/train/images/3637.jpg: corrupt JPEG restored and saved\n",
      "\u001B[34m\u001B[1mtrain: \u001B[0m/media/abawi/e38fddf9-a92e-4c73-b905-995771f8fc3a/datasets/segmentation/yolo_style_fourclass/train/images/3641.jpg: corrupt JPEG restored and saved\n",
      "\u001B[34m\u001B[1mtrain: \u001B[0m/media/abawi/e38fddf9-a92e-4c73-b905-995771f8fc3a/datasets/segmentation/yolo_style_fourclass/train/images/3642.jpg: corrupt JPEG restored and saved\n",
      "\u001B[34m\u001B[1mtrain: \u001B[0m/media/abawi/e38fddf9-a92e-4c73-b905-995771f8fc3a/datasets/segmentation/yolo_style_fourclass/train/images/3645.jpg: corrupt JPEG restored and saved\n",
      "\u001B[34m\u001B[1mtrain: \u001B[0m/media/abawi/e38fddf9-a92e-4c73-b905-995771f8fc3a/datasets/segmentation/yolo_style_fourclass/train/images/3654.jpg: corrupt JPEG restored and saved\n",
      "\u001B[34m\u001B[1mtrain: \u001B[0m/media/abawi/e38fddf9-a92e-4c73-b905-995771f8fc3a/datasets/segmentation/yolo_style_fourclass/train/images/3655.jpg: corrupt JPEG restored and saved\n",
      "\u001B[34m\u001B[1mtrain: \u001B[0m/media/abawi/e38fddf9-a92e-4c73-b905-995771f8fc3a/datasets/segmentation/yolo_style_fourclass/train/images/366.jpg: corrupt JPEG restored and saved\n",
      "\u001B[34m\u001B[1mtrain: \u001B[0m/media/abawi/e38fddf9-a92e-4c73-b905-995771f8fc3a/datasets/segmentation/yolo_style_fourclass/train/images/3665.jpg: corrupt JPEG restored and saved\n",
      "\u001B[34m\u001B[1mtrain: \u001B[0m/media/abawi/e38fddf9-a92e-4c73-b905-995771f8fc3a/datasets/segmentation/yolo_style_fourclass/train/images/3669.jpg: corrupt JPEG restored and saved\n",
      "\u001B[34m\u001B[1mtrain: \u001B[0m/media/abawi/e38fddf9-a92e-4c73-b905-995771f8fc3a/datasets/segmentation/yolo_style_fourclass/train/images/367.jpg: corrupt JPEG restored and saved\n",
      "\u001B[34m\u001B[1mtrain: \u001B[0m/media/abawi/e38fddf9-a92e-4c73-b905-995771f8fc3a/datasets/segmentation/yolo_style_fourclass/train/images/368.jpg: corrupt JPEG restored and saved\n",
      "\u001B[34m\u001B[1mtrain: \u001B[0m/media/abawi/e38fddf9-a92e-4c73-b905-995771f8fc3a/datasets/segmentation/yolo_style_fourclass/train/images/3737.jpg: corrupt JPEG restored and saved\n",
      "\u001B[34m\u001B[1mtrain: \u001B[0m/media/abawi/e38fddf9-a92e-4c73-b905-995771f8fc3a/datasets/segmentation/yolo_style_fourclass/train/images/3738.jpg: corrupt JPEG restored and saved\n",
      "\u001B[34m\u001B[1mtrain: \u001B[0m/media/abawi/e38fddf9-a92e-4c73-b905-995771f8fc3a/datasets/segmentation/yolo_style_fourclass/train/images/3774.jpg: corrupt JPEG restored and saved\n",
      "\u001B[34m\u001B[1mtrain: \u001B[0m/media/abawi/e38fddf9-a92e-4c73-b905-995771f8fc3a/datasets/segmentation/yolo_style_fourclass/train/images/3775.jpg: corrupt JPEG restored and saved\n",
      "\u001B[34m\u001B[1mtrain: \u001B[0m/media/abawi/e38fddf9-a92e-4c73-b905-995771f8fc3a/datasets/segmentation/yolo_style_fourclass/train/images/3779.jpg: corrupt JPEG restored and saved\n",
      "\u001B[34m\u001B[1mtrain: \u001B[0m/media/abawi/e38fddf9-a92e-4c73-b905-995771f8fc3a/datasets/segmentation/yolo_style_fourclass/train/images/3787.jpg: corrupt JPEG restored and saved\n",
      "\u001B[34m\u001B[1mtrain: \u001B[0m/media/abawi/e38fddf9-a92e-4c73-b905-995771f8fc3a/datasets/segmentation/yolo_style_fourclass/train/images/4 (1).jpg: corrupt JPEG restored and saved\n",
      "\u001B[34m\u001B[1mtrain: \u001B[0m/media/abawi/e38fddf9-a92e-4c73-b905-995771f8fc3a/datasets/segmentation/yolo_style_fourclass/train/images/4 (10).jpg: corrupt JPEG restored and saved\n",
      "\u001B[34m\u001B[1mtrain: \u001B[0m/media/abawi/e38fddf9-a92e-4c73-b905-995771f8fc3a/datasets/segmentation/yolo_style_fourclass/train/images/4 (100).jpg: corrupt JPEG restored and saved\n",
      "\u001B[34m\u001B[1mtrain: \u001B[0m/media/abawi/e38fddf9-a92e-4c73-b905-995771f8fc3a/datasets/segmentation/yolo_style_fourclass/train/images/4 (109).jpg: corrupt JPEG restored and saved\n",
      "\u001B[34m\u001B[1mtrain: \u001B[0m/media/abawi/e38fddf9-a92e-4c73-b905-995771f8fc3a/datasets/segmentation/yolo_style_fourclass/train/images/4 (11).jpg: corrupt JPEG restored and saved\n",
      "\u001B[34m\u001B[1mtrain: \u001B[0m/media/abawi/e38fddf9-a92e-4c73-b905-995771f8fc3a/datasets/segmentation/yolo_style_fourclass/train/images/4 (110).jpg: corrupt JPEG restored and saved\n",
      "\u001B[34m\u001B[1mtrain: \u001B[0m/media/abawi/e38fddf9-a92e-4c73-b905-995771f8fc3a/datasets/segmentation/yolo_style_fourclass/train/images/4 (111).jpg: corrupt JPEG restored and saved\n",
      "\u001B[34m\u001B[1mtrain: \u001B[0m/media/abawi/e38fddf9-a92e-4c73-b905-995771f8fc3a/datasets/segmentation/yolo_style_fourclass/train/images/4 (117).jpg: corrupt JPEG restored and saved\n",
      "\u001B[34m\u001B[1mtrain: \u001B[0m/media/abawi/e38fddf9-a92e-4c73-b905-995771f8fc3a/datasets/segmentation/yolo_style_fourclass/train/images/4 (118).jpg: corrupt JPEG restored and saved\n",
      "\u001B[34m\u001B[1mtrain: \u001B[0m/media/abawi/e38fddf9-a92e-4c73-b905-995771f8fc3a/datasets/segmentation/yolo_style_fourclass/train/images/4 (12).jpg: corrupt JPEG restored and saved\n",
      "\u001B[34m\u001B[1mtrain: \u001B[0m/media/abawi/e38fddf9-a92e-4c73-b905-995771f8fc3a/datasets/segmentation/yolo_style_fourclass/train/images/4 (122).jpg: corrupt JPEG restored and saved\n",
      "\u001B[34m\u001B[1mtrain: \u001B[0m/media/abawi/e38fddf9-a92e-4c73-b905-995771f8fc3a/datasets/segmentation/yolo_style_fourclass/train/images/4 (123).jpg: corrupt JPEG restored and saved\n",
      "\u001B[34m\u001B[1mtrain: \u001B[0m/media/abawi/e38fddf9-a92e-4c73-b905-995771f8fc3a/datasets/segmentation/yolo_style_fourclass/train/images/4 (125).jpg: corrupt JPEG restored and saved\n",
      "\u001B[34m\u001B[1mtrain: \u001B[0m/media/abawi/e38fddf9-a92e-4c73-b905-995771f8fc3a/datasets/segmentation/yolo_style_fourclass/train/images/4 (126).jpg: corrupt JPEG restored and saved\n",
      "\u001B[34m\u001B[1mtrain: \u001B[0m/media/abawi/e38fddf9-a92e-4c73-b905-995771f8fc3a/datasets/segmentation/yolo_style_fourclass/train/images/4 (13).jpg: corrupt JPEG restored and saved\n",
      "\u001B[34m\u001B[1mtrain: \u001B[0m/media/abawi/e38fddf9-a92e-4c73-b905-995771f8fc3a/datasets/segmentation/yolo_style_fourclass/train/images/4 (133).jpg: corrupt JPEG restored and saved\n",
      "\u001B[34m\u001B[1mtrain: \u001B[0m/media/abawi/e38fddf9-a92e-4c73-b905-995771f8fc3a/datasets/segmentation/yolo_style_fourclass/train/images/4 (134).jpg: corrupt JPEG restored and saved\n",
      "\u001B[34m\u001B[1mtrain: \u001B[0m/media/abawi/e38fddf9-a92e-4c73-b905-995771f8fc3a/datasets/segmentation/yolo_style_fourclass/train/images/4 (136).jpg: corrupt JPEG restored and saved\n",
      "\u001B[34m\u001B[1mtrain: \u001B[0m/media/abawi/e38fddf9-a92e-4c73-b905-995771f8fc3a/datasets/segmentation/yolo_style_fourclass/train/images/4 (137).jpg: corrupt JPEG restored and saved\n",
      "\u001B[34m\u001B[1mtrain: \u001B[0m/media/abawi/e38fddf9-a92e-4c73-b905-995771f8fc3a/datasets/segmentation/yolo_style_fourclass/train/images/4 (14).jpg: corrupt JPEG restored and saved\n",
      "\u001B[34m\u001B[1mtrain: \u001B[0m/media/abawi/e38fddf9-a92e-4c73-b905-995771f8fc3a/datasets/segmentation/yolo_style_fourclass/train/images/4 (141).jpg: corrupt JPEG restored and saved\n",
      "\u001B[34m\u001B[1mtrain: \u001B[0m/media/abawi/e38fddf9-a92e-4c73-b905-995771f8fc3a/datasets/segmentation/yolo_style_fourclass/train/images/4 (146).jpg: corrupt JPEG restored and saved\n",
      "\u001B[34m\u001B[1mtrain: \u001B[0m/media/abawi/e38fddf9-a92e-4c73-b905-995771f8fc3a/datasets/segmentation/yolo_style_fourclass/train/images/4 (147).jpg: corrupt JPEG restored and saved\n",
      "\u001B[34m\u001B[1mtrain: \u001B[0m/media/abawi/e38fddf9-a92e-4c73-b905-995771f8fc3a/datasets/segmentation/yolo_style_fourclass/train/images/4 (148).jpg: corrupt JPEG restored and saved\n",
      "\u001B[34m\u001B[1mtrain: \u001B[0m/media/abawi/e38fddf9-a92e-4c73-b905-995771f8fc3a/datasets/segmentation/yolo_style_fourclass/train/images/4 (149).jpg: corrupt JPEG restored and saved\n",
      "\u001B[34m\u001B[1mtrain: \u001B[0m/media/abawi/e38fddf9-a92e-4c73-b905-995771f8fc3a/datasets/segmentation/yolo_style_fourclass/train/images/4 (15).jpg: corrupt JPEG restored and saved\n",
      "\u001B[34m\u001B[1mtrain: \u001B[0m/media/abawi/e38fddf9-a92e-4c73-b905-995771f8fc3a/datasets/segmentation/yolo_style_fourclass/train/images/4 (150).jpg: corrupt JPEG restored and saved\n",
      "\u001B[34m\u001B[1mtrain: \u001B[0m/media/abawi/e38fddf9-a92e-4c73-b905-995771f8fc3a/datasets/segmentation/yolo_style_fourclass/train/images/4 (152).jpg: corrupt JPEG restored and saved\n",
      "\u001B[34m\u001B[1mtrain: \u001B[0m/media/abawi/e38fddf9-a92e-4c73-b905-995771f8fc3a/datasets/segmentation/yolo_style_fourclass/train/images/4 (153).jpg: corrupt JPEG restored and saved\n",
      "\u001B[34m\u001B[1mtrain: \u001B[0m/media/abawi/e38fddf9-a92e-4c73-b905-995771f8fc3a/datasets/segmentation/yolo_style_fourclass/train/images/4 (154).jpg: corrupt JPEG restored and saved\n",
      "\u001B[34m\u001B[1mtrain: \u001B[0m/media/abawi/e38fddf9-a92e-4c73-b905-995771f8fc3a/datasets/segmentation/yolo_style_fourclass/train/images/4 (155).jpg: corrupt JPEG restored and saved\n",
      "\u001B[34m\u001B[1mtrain: \u001B[0m/media/abawi/e38fddf9-a92e-4c73-b905-995771f8fc3a/datasets/segmentation/yolo_style_fourclass/train/images/4 (156).jpg: corrupt JPEG restored and saved\n",
      "\u001B[34m\u001B[1mtrain: \u001B[0m/media/abawi/e38fddf9-a92e-4c73-b905-995771f8fc3a/datasets/segmentation/yolo_style_fourclass/train/images/4 (157).jpg: corrupt JPEG restored and saved\n",
      "\u001B[34m\u001B[1mtrain: \u001B[0m/media/abawi/e38fddf9-a92e-4c73-b905-995771f8fc3a/datasets/segmentation/yolo_style_fourclass/train/images/4 (16).jpg: corrupt JPEG restored and saved\n",
      "\u001B[34m\u001B[1mtrain: \u001B[0m/media/abawi/e38fddf9-a92e-4c73-b905-995771f8fc3a/datasets/segmentation/yolo_style_fourclass/train/images/4 (161).jpg: corrupt JPEG restored and saved\n",
      "\u001B[34m\u001B[1mtrain: \u001B[0m/media/abawi/e38fddf9-a92e-4c73-b905-995771f8fc3a/datasets/segmentation/yolo_style_fourclass/train/images/4 (162).jpg: corrupt JPEG restored and saved\n",
      "\u001B[34m\u001B[1mtrain: \u001B[0m/media/abawi/e38fddf9-a92e-4c73-b905-995771f8fc3a/datasets/segmentation/yolo_style_fourclass/train/images/4 (164).jpg: corrupt JPEG restored and saved\n",
      "\u001B[34m\u001B[1mtrain: \u001B[0m/media/abawi/e38fddf9-a92e-4c73-b905-995771f8fc3a/datasets/segmentation/yolo_style_fourclass/train/images/4 (165).jpg: corrupt JPEG restored and saved\n",
      "\u001B[34m\u001B[1mtrain: \u001B[0m/media/abawi/e38fddf9-a92e-4c73-b905-995771f8fc3a/datasets/segmentation/yolo_style_fourclass/train/images/4 (166).jpg: corrupt JPEG restored and saved\n",
      "\u001B[34m\u001B[1mtrain: \u001B[0m/media/abawi/e38fddf9-a92e-4c73-b905-995771f8fc3a/datasets/segmentation/yolo_style_fourclass/train/images/4 (167).jpg: corrupt JPEG restored and saved\n",
      "\u001B[34m\u001B[1mtrain: \u001B[0m/media/abawi/e38fddf9-a92e-4c73-b905-995771f8fc3a/datasets/segmentation/yolo_style_fourclass/train/images/4 (170).jpg: corrupt JPEG restored and saved\n",
      "\u001B[34m\u001B[1mtrain: \u001B[0m/media/abawi/e38fddf9-a92e-4c73-b905-995771f8fc3a/datasets/segmentation/yolo_style_fourclass/train/images/4 (171).jpg: corrupt JPEG restored and saved\n",
      "\u001B[34m\u001B[1mtrain: \u001B[0m/media/abawi/e38fddf9-a92e-4c73-b905-995771f8fc3a/datasets/segmentation/yolo_style_fourclass/train/images/4 (172).jpg: corrupt JPEG restored and saved\n",
      "\u001B[34m\u001B[1mtrain: \u001B[0m/media/abawi/e38fddf9-a92e-4c73-b905-995771f8fc3a/datasets/segmentation/yolo_style_fourclass/train/images/4 (175).jpg: corrupt JPEG restored and saved\n",
      "\u001B[34m\u001B[1mtrain: \u001B[0m/media/abawi/e38fddf9-a92e-4c73-b905-995771f8fc3a/datasets/segmentation/yolo_style_fourclass/train/images/4 (177).jpg: corrupt JPEG restored and saved\n",
      "\u001B[34m\u001B[1mtrain: \u001B[0m/media/abawi/e38fddf9-a92e-4c73-b905-995771f8fc3a/datasets/segmentation/yolo_style_fourclass/train/images/4 (178).jpg: corrupt JPEG restored and saved\n",
      "\u001B[34m\u001B[1mtrain: \u001B[0m/media/abawi/e38fddf9-a92e-4c73-b905-995771f8fc3a/datasets/segmentation/yolo_style_fourclass/train/images/4 (179).jpg: corrupt JPEG restored and saved\n",
      "\u001B[34m\u001B[1mtrain: \u001B[0m/media/abawi/e38fddf9-a92e-4c73-b905-995771f8fc3a/datasets/segmentation/yolo_style_fourclass/train/images/4 (181).jpg: corrupt JPEG restored and saved\n",
      "\u001B[34m\u001B[1mtrain: \u001B[0m/media/abawi/e38fddf9-a92e-4c73-b905-995771f8fc3a/datasets/segmentation/yolo_style_fourclass/train/images/4 (182).jpg: corrupt JPEG restored and saved\n",
      "\u001B[34m\u001B[1mtrain: \u001B[0m/media/abawi/e38fddf9-a92e-4c73-b905-995771f8fc3a/datasets/segmentation/yolo_style_fourclass/train/images/4 (183).jpg: corrupt JPEG restored and saved\n",
      "\u001B[34m\u001B[1mtrain: \u001B[0m/media/abawi/e38fddf9-a92e-4c73-b905-995771f8fc3a/datasets/segmentation/yolo_style_fourclass/train/images/4 (184).jpg: corrupt JPEG restored and saved\n",
      "\u001B[34m\u001B[1mtrain: \u001B[0m/media/abawi/e38fddf9-a92e-4c73-b905-995771f8fc3a/datasets/segmentation/yolo_style_fourclass/train/images/4 (185).jpg: corrupt JPEG restored and saved\n",
      "\u001B[34m\u001B[1mtrain: \u001B[0m/media/abawi/e38fddf9-a92e-4c73-b905-995771f8fc3a/datasets/segmentation/yolo_style_fourclass/train/images/4 (186).jpg: corrupt JPEG restored and saved\n",
      "\u001B[34m\u001B[1mtrain: \u001B[0m/media/abawi/e38fddf9-a92e-4c73-b905-995771f8fc3a/datasets/segmentation/yolo_style_fourclass/train/images/4 (187).jpg: corrupt JPEG restored and saved\n",
      "\u001B[34m\u001B[1mtrain: \u001B[0m/media/abawi/e38fddf9-a92e-4c73-b905-995771f8fc3a/datasets/segmentation/yolo_style_fourclass/train/images/4 (188).jpg: corrupt JPEG restored and saved\n",
      "\u001B[34m\u001B[1mtrain: \u001B[0m/media/abawi/e38fddf9-a92e-4c73-b905-995771f8fc3a/datasets/segmentation/yolo_style_fourclass/train/images/4 (189).jpg: corrupt JPEG restored and saved\n",
      "\u001B[34m\u001B[1mtrain: \u001B[0m/media/abawi/e38fddf9-a92e-4c73-b905-995771f8fc3a/datasets/segmentation/yolo_style_fourclass/train/images/4 (190).jpg: corrupt JPEG restored and saved\n",
      "\u001B[34m\u001B[1mtrain: \u001B[0m/media/abawi/e38fddf9-a92e-4c73-b905-995771f8fc3a/datasets/segmentation/yolo_style_fourclass/train/images/4 (191).jpg: corrupt JPEG restored and saved\n",
      "\u001B[34m\u001B[1mtrain: \u001B[0m/media/abawi/e38fddf9-a92e-4c73-b905-995771f8fc3a/datasets/segmentation/yolo_style_fourclass/train/images/4 (192).jpg: corrupt JPEG restored and saved\n",
      "\u001B[34m\u001B[1mtrain: \u001B[0m/media/abawi/e38fddf9-a92e-4c73-b905-995771f8fc3a/datasets/segmentation/yolo_style_fourclass/train/images/4 (193).jpg: corrupt JPEG restored and saved\n",
      "\u001B[34m\u001B[1mtrain: \u001B[0m/media/abawi/e38fddf9-a92e-4c73-b905-995771f8fc3a/datasets/segmentation/yolo_style_fourclass/train/images/4 (194).jpg: corrupt JPEG restored and saved\n",
      "\u001B[34m\u001B[1mtrain: \u001B[0m/media/abawi/e38fddf9-a92e-4c73-b905-995771f8fc3a/datasets/segmentation/yolo_style_fourclass/train/images/4 (196).jpg: corrupt JPEG restored and saved\n",
      "\u001B[34m\u001B[1mtrain: \u001B[0m/media/abawi/e38fddf9-a92e-4c73-b905-995771f8fc3a/datasets/segmentation/yolo_style_fourclass/train/images/4 (198).jpg: corrupt JPEG restored and saved\n",
      "\u001B[34m\u001B[1mtrain: \u001B[0m/media/abawi/e38fddf9-a92e-4c73-b905-995771f8fc3a/datasets/segmentation/yolo_style_fourclass/train/images/4 (199).jpg: corrupt JPEG restored and saved\n",
      "\u001B[34m\u001B[1mtrain: \u001B[0m/media/abawi/e38fddf9-a92e-4c73-b905-995771f8fc3a/datasets/segmentation/yolo_style_fourclass/train/images/4 (200).jpg: corrupt JPEG restored and saved\n",
      "\u001B[34m\u001B[1mtrain: \u001B[0m/media/abawi/e38fddf9-a92e-4c73-b905-995771f8fc3a/datasets/segmentation/yolo_style_fourclass/train/images/4 (205).jpg: corrupt JPEG restored and saved\n",
      "\u001B[34m\u001B[1mtrain: \u001B[0m/media/abawi/e38fddf9-a92e-4c73-b905-995771f8fc3a/datasets/segmentation/yolo_style_fourclass/train/images/4 (207).jpg: corrupt JPEG restored and saved\n",
      "\u001B[34m\u001B[1mtrain: \u001B[0m/media/abawi/e38fddf9-a92e-4c73-b905-995771f8fc3a/datasets/segmentation/yolo_style_fourclass/train/images/4 (209).jpg: corrupt JPEG restored and saved\n",
      "\u001B[34m\u001B[1mtrain: \u001B[0m/media/abawi/e38fddf9-a92e-4c73-b905-995771f8fc3a/datasets/segmentation/yolo_style_fourclass/train/images/4 (210).jpg: corrupt JPEG restored and saved\n",
      "\u001B[34m\u001B[1mtrain: \u001B[0m/media/abawi/e38fddf9-a92e-4c73-b905-995771f8fc3a/datasets/segmentation/yolo_style_fourclass/train/images/4 (213).jpg: corrupt JPEG restored and saved\n",
      "\u001B[34m\u001B[1mtrain: \u001B[0m/media/abawi/e38fddf9-a92e-4c73-b905-995771f8fc3a/datasets/segmentation/yolo_style_fourclass/train/images/4 (214).jpg: corrupt JPEG restored and saved\n",
      "\u001B[34m\u001B[1mtrain: \u001B[0m/media/abawi/e38fddf9-a92e-4c73-b905-995771f8fc3a/datasets/segmentation/yolo_style_fourclass/train/images/4 (215).jpg: corrupt JPEG restored and saved\n",
      "\u001B[34m\u001B[1mtrain: \u001B[0m/media/abawi/e38fddf9-a92e-4c73-b905-995771f8fc3a/datasets/segmentation/yolo_style_fourclass/train/images/4 (217).jpg: corrupt JPEG restored and saved\n",
      "\u001B[34m\u001B[1mtrain: \u001B[0m/media/abawi/e38fddf9-a92e-4c73-b905-995771f8fc3a/datasets/segmentation/yolo_style_fourclass/train/images/4 (219).jpg: corrupt JPEG restored and saved\n",
      "\u001B[34m\u001B[1mtrain: \u001B[0m/media/abawi/e38fddf9-a92e-4c73-b905-995771f8fc3a/datasets/segmentation/yolo_style_fourclass/train/images/4 (22).jpg: corrupt JPEG restored and saved\n",
      "\u001B[34m\u001B[1mtrain: \u001B[0m/media/abawi/e38fddf9-a92e-4c73-b905-995771f8fc3a/datasets/segmentation/yolo_style_fourclass/train/images/4 (221).jpg: corrupt JPEG restored and saved\n",
      "\u001B[34m\u001B[1mtrain: \u001B[0m/media/abawi/e38fddf9-a92e-4c73-b905-995771f8fc3a/datasets/segmentation/yolo_style_fourclass/train/images/4 (222).jpg: corrupt JPEG restored and saved\n",
      "\u001B[34m\u001B[1mtrain: \u001B[0m/media/abawi/e38fddf9-a92e-4c73-b905-995771f8fc3a/datasets/segmentation/yolo_style_fourclass/train/images/4 (223).jpg: corrupt JPEG restored and saved\n",
      "\u001B[34m\u001B[1mtrain: \u001B[0m/media/abawi/e38fddf9-a92e-4c73-b905-995771f8fc3a/datasets/segmentation/yolo_style_fourclass/train/images/4 (226).jpg: corrupt JPEG restored and saved\n",
      "\u001B[34m\u001B[1mtrain: \u001B[0m/media/abawi/e38fddf9-a92e-4c73-b905-995771f8fc3a/datasets/segmentation/yolo_style_fourclass/train/images/4 (227).jpg: corrupt JPEG restored and saved\n",
      "\u001B[34m\u001B[1mtrain: \u001B[0m/media/abawi/e38fddf9-a92e-4c73-b905-995771f8fc3a/datasets/segmentation/yolo_style_fourclass/train/images/4 (228).jpg: corrupt JPEG restored and saved\n",
      "\u001B[34m\u001B[1mtrain: \u001B[0m/media/abawi/e38fddf9-a92e-4c73-b905-995771f8fc3a/datasets/segmentation/yolo_style_fourclass/train/images/4 (229).jpg: corrupt JPEG restored and saved\n",
      "\u001B[34m\u001B[1mtrain: \u001B[0m/media/abawi/e38fddf9-a92e-4c73-b905-995771f8fc3a/datasets/segmentation/yolo_style_fourclass/train/images/4 (231).jpg: corrupt JPEG restored and saved\n",
      "\u001B[34m\u001B[1mtrain: \u001B[0m/media/abawi/e38fddf9-a92e-4c73-b905-995771f8fc3a/datasets/segmentation/yolo_style_fourclass/train/images/4 (232).jpg: corrupt JPEG restored and saved\n",
      "\u001B[34m\u001B[1mtrain: \u001B[0m/media/abawi/e38fddf9-a92e-4c73-b905-995771f8fc3a/datasets/segmentation/yolo_style_fourclass/train/images/4 (233).jpg: corrupt JPEG restored and saved\n",
      "\u001B[34m\u001B[1mtrain: \u001B[0m/media/abawi/e38fddf9-a92e-4c73-b905-995771f8fc3a/datasets/segmentation/yolo_style_fourclass/train/images/4 (234).jpg: corrupt JPEG restored and saved\n",
      "\u001B[34m\u001B[1mtrain: \u001B[0m/media/abawi/e38fddf9-a92e-4c73-b905-995771f8fc3a/datasets/segmentation/yolo_style_fourclass/train/images/4 (235).jpg: corrupt JPEG restored and saved\n",
      "\u001B[34m\u001B[1mtrain: \u001B[0m/media/abawi/e38fddf9-a92e-4c73-b905-995771f8fc3a/datasets/segmentation/yolo_style_fourclass/train/images/4 (236).jpg: corrupt JPEG restored and saved\n",
      "\u001B[34m\u001B[1mtrain: \u001B[0m/media/abawi/e38fddf9-a92e-4c73-b905-995771f8fc3a/datasets/segmentation/yolo_style_fourclass/train/images/4 (237).jpg: corrupt JPEG restored and saved\n",
      "\u001B[34m\u001B[1mtrain: \u001B[0m/media/abawi/e38fddf9-a92e-4c73-b905-995771f8fc3a/datasets/segmentation/yolo_style_fourclass/train/images/4 (24).jpg: corrupt JPEG restored and saved\n",
      "\u001B[34m\u001B[1mtrain: \u001B[0m/media/abawi/e38fddf9-a92e-4c73-b905-995771f8fc3a/datasets/segmentation/yolo_style_fourclass/train/images/4 (244).jpg: corrupt JPEG restored and saved\n",
      "\u001B[34m\u001B[1mtrain: \u001B[0m/media/abawi/e38fddf9-a92e-4c73-b905-995771f8fc3a/datasets/segmentation/yolo_style_fourclass/train/images/4 (249).jpg: corrupt JPEG restored and saved\n",
      "\u001B[34m\u001B[1mtrain: \u001B[0m/media/abawi/e38fddf9-a92e-4c73-b905-995771f8fc3a/datasets/segmentation/yolo_style_fourclass/train/images/4 (25).jpg: corrupt JPEG restored and saved\n",
      "\u001B[34m\u001B[1mtrain: \u001B[0m/media/abawi/e38fddf9-a92e-4c73-b905-995771f8fc3a/datasets/segmentation/yolo_style_fourclass/train/images/4 (250).jpg: corrupt JPEG restored and saved\n",
      "\u001B[34m\u001B[1mtrain: \u001B[0m/media/abawi/e38fddf9-a92e-4c73-b905-995771f8fc3a/datasets/segmentation/yolo_style_fourclass/train/images/4 (252).jpg: corrupt JPEG restored and saved\n",
      "\u001B[34m\u001B[1mtrain: \u001B[0m/media/abawi/e38fddf9-a92e-4c73-b905-995771f8fc3a/datasets/segmentation/yolo_style_fourclass/train/images/4 (253).jpg: corrupt JPEG restored and saved\n",
      "\u001B[34m\u001B[1mtrain: \u001B[0m/media/abawi/e38fddf9-a92e-4c73-b905-995771f8fc3a/datasets/segmentation/yolo_style_fourclass/train/images/4 (254).jpg: corrupt JPEG restored and saved\n",
      "\u001B[34m\u001B[1mtrain: \u001B[0m/media/abawi/e38fddf9-a92e-4c73-b905-995771f8fc3a/datasets/segmentation/yolo_style_fourclass/train/images/4 (260).jpg: corrupt JPEG restored and saved\n",
      "\u001B[34m\u001B[1mtrain: \u001B[0m/media/abawi/e38fddf9-a92e-4c73-b905-995771f8fc3a/datasets/segmentation/yolo_style_fourclass/train/images/4 (261).jpg: corrupt JPEG restored and saved\n",
      "\u001B[34m\u001B[1mtrain: \u001B[0m/media/abawi/e38fddf9-a92e-4c73-b905-995771f8fc3a/datasets/segmentation/yolo_style_fourclass/train/images/4 (262).jpg: corrupt JPEG restored and saved\n",
      "\u001B[34m\u001B[1mtrain: \u001B[0m/media/abawi/e38fddf9-a92e-4c73-b905-995771f8fc3a/datasets/segmentation/yolo_style_fourclass/train/images/4 (263).jpg: corrupt JPEG restored and saved\n",
      "\u001B[34m\u001B[1mtrain: \u001B[0m/media/abawi/e38fddf9-a92e-4c73-b905-995771f8fc3a/datasets/segmentation/yolo_style_fourclass/train/images/4 (264).jpg: corrupt JPEG restored and saved\n",
      "\u001B[34m\u001B[1mtrain: \u001B[0m/media/abawi/e38fddf9-a92e-4c73-b905-995771f8fc3a/datasets/segmentation/yolo_style_fourclass/train/images/4 (265).jpg: corrupt JPEG restored and saved\n",
      "\u001B[34m\u001B[1mtrain: \u001B[0m/media/abawi/e38fddf9-a92e-4c73-b905-995771f8fc3a/datasets/segmentation/yolo_style_fourclass/train/images/4 (268).jpg: corrupt JPEG restored and saved\n",
      "\u001B[34m\u001B[1mtrain: \u001B[0m/media/abawi/e38fddf9-a92e-4c73-b905-995771f8fc3a/datasets/segmentation/yolo_style_fourclass/train/images/4 (270).jpg: corrupt JPEG restored and saved\n",
      "\u001B[34m\u001B[1mtrain: \u001B[0m/media/abawi/e38fddf9-a92e-4c73-b905-995771f8fc3a/datasets/segmentation/yolo_style_fourclass/train/images/4 (271).jpg: corrupt JPEG restored and saved\n",
      "\u001B[34m\u001B[1mtrain: \u001B[0m/media/abawi/e38fddf9-a92e-4c73-b905-995771f8fc3a/datasets/segmentation/yolo_style_fourclass/train/images/4 (272).jpg: corrupt JPEG restored and saved\n",
      "\u001B[34m\u001B[1mtrain: \u001B[0m/media/abawi/e38fddf9-a92e-4c73-b905-995771f8fc3a/datasets/segmentation/yolo_style_fourclass/train/images/4 (273).jpg: corrupt JPEG restored and saved\n",
      "\u001B[34m\u001B[1mtrain: \u001B[0m/media/abawi/e38fddf9-a92e-4c73-b905-995771f8fc3a/datasets/segmentation/yolo_style_fourclass/train/images/4 (274).jpg: corrupt JPEG restored and saved\n",
      "\u001B[34m\u001B[1mtrain: \u001B[0m/media/abawi/e38fddf9-a92e-4c73-b905-995771f8fc3a/datasets/segmentation/yolo_style_fourclass/train/images/4 (275).jpg: corrupt JPEG restored and saved\n",
      "\u001B[34m\u001B[1mtrain: \u001B[0m/media/abawi/e38fddf9-a92e-4c73-b905-995771f8fc3a/datasets/segmentation/yolo_style_fourclass/train/images/4 (276).jpg: corrupt JPEG restored and saved\n",
      "\u001B[34m\u001B[1mtrain: \u001B[0m/media/abawi/e38fddf9-a92e-4c73-b905-995771f8fc3a/datasets/segmentation/yolo_style_fourclass/train/images/4 (277).jpg: corrupt JPEG restored and saved\n",
      "\u001B[34m\u001B[1mtrain: \u001B[0m/media/abawi/e38fddf9-a92e-4c73-b905-995771f8fc3a/datasets/segmentation/yolo_style_fourclass/train/images/4 (278).jpg: corrupt JPEG restored and saved\n",
      "\u001B[34m\u001B[1mtrain: \u001B[0m/media/abawi/e38fddf9-a92e-4c73-b905-995771f8fc3a/datasets/segmentation/yolo_style_fourclass/train/images/4 (279).jpg: corrupt JPEG restored and saved\n",
      "\u001B[34m\u001B[1mtrain: \u001B[0m/media/abawi/e38fddf9-a92e-4c73-b905-995771f8fc3a/datasets/segmentation/yolo_style_fourclass/train/images/4 (28).jpg: corrupt JPEG restored and saved\n",
      "\u001B[34m\u001B[1mtrain: \u001B[0m/media/abawi/e38fddf9-a92e-4c73-b905-995771f8fc3a/datasets/segmentation/yolo_style_fourclass/train/images/4 (280).jpg: corrupt JPEG restored and saved\n",
      "\u001B[34m\u001B[1mtrain: \u001B[0m/media/abawi/e38fddf9-a92e-4c73-b905-995771f8fc3a/datasets/segmentation/yolo_style_fourclass/train/images/4 (282).jpg: corrupt JPEG restored and saved\n",
      "\u001B[34m\u001B[1mtrain: \u001B[0m/media/abawi/e38fddf9-a92e-4c73-b905-995771f8fc3a/datasets/segmentation/yolo_style_fourclass/train/images/4 (284).jpg: corrupt JPEG restored and saved\n",
      "\u001B[34m\u001B[1mtrain: \u001B[0m/media/abawi/e38fddf9-a92e-4c73-b905-995771f8fc3a/datasets/segmentation/yolo_style_fourclass/train/images/4 (285).jpg: corrupt JPEG restored and saved\n",
      "\u001B[34m\u001B[1mtrain: \u001B[0m/media/abawi/e38fddf9-a92e-4c73-b905-995771f8fc3a/datasets/segmentation/yolo_style_fourclass/train/images/4 (286).jpg: corrupt JPEG restored and saved\n",
      "\u001B[34m\u001B[1mtrain: \u001B[0m/media/abawi/e38fddf9-a92e-4c73-b905-995771f8fc3a/datasets/segmentation/yolo_style_fourclass/train/images/4 (288).jpg: corrupt JPEG restored and saved\n",
      "\u001B[34m\u001B[1mtrain: \u001B[0m/media/abawi/e38fddf9-a92e-4c73-b905-995771f8fc3a/datasets/segmentation/yolo_style_fourclass/train/images/4 (289).jpg: corrupt JPEG restored and saved\n",
      "\u001B[34m\u001B[1mtrain: \u001B[0m/media/abawi/e38fddf9-a92e-4c73-b905-995771f8fc3a/datasets/segmentation/yolo_style_fourclass/train/images/4 (29).jpg: corrupt JPEG restored and saved\n",
      "\u001B[34m\u001B[1mtrain: \u001B[0m/media/abawi/e38fddf9-a92e-4c73-b905-995771f8fc3a/datasets/segmentation/yolo_style_fourclass/train/images/4 (291).jpg: corrupt JPEG restored and saved\n",
      "\u001B[34m\u001B[1mtrain: \u001B[0m/media/abawi/e38fddf9-a92e-4c73-b905-995771f8fc3a/datasets/segmentation/yolo_style_fourclass/train/images/4 (292).jpg: corrupt JPEG restored and saved\n",
      "\u001B[34m\u001B[1mtrain: \u001B[0m/media/abawi/e38fddf9-a92e-4c73-b905-995771f8fc3a/datasets/segmentation/yolo_style_fourclass/train/images/4 (294).jpg: corrupt JPEG restored and saved\n",
      "\u001B[34m\u001B[1mtrain: \u001B[0m/media/abawi/e38fddf9-a92e-4c73-b905-995771f8fc3a/datasets/segmentation/yolo_style_fourclass/train/images/4 (295).jpg: corrupt JPEG restored and saved\n",
      "\u001B[34m\u001B[1mtrain: \u001B[0m/media/abawi/e38fddf9-a92e-4c73-b905-995771f8fc3a/datasets/segmentation/yolo_style_fourclass/train/images/4 (297).jpg: corrupt JPEG restored and saved\n",
      "\u001B[34m\u001B[1mtrain: \u001B[0m/media/abawi/e38fddf9-a92e-4c73-b905-995771f8fc3a/datasets/segmentation/yolo_style_fourclass/train/images/4 (300).jpg: corrupt JPEG restored and saved\n",
      "\u001B[34m\u001B[1mtrain: \u001B[0m/media/abawi/e38fddf9-a92e-4c73-b905-995771f8fc3a/datasets/segmentation/yolo_style_fourclass/train/images/4 (301).jpg: corrupt JPEG restored and saved\n",
      "\u001B[34m\u001B[1mtrain: \u001B[0m/media/abawi/e38fddf9-a92e-4c73-b905-995771f8fc3a/datasets/segmentation/yolo_style_fourclass/train/images/4 (303).jpg: corrupt JPEG restored and saved\n",
      "\u001B[34m\u001B[1mtrain: \u001B[0m/media/abawi/e38fddf9-a92e-4c73-b905-995771f8fc3a/datasets/segmentation/yolo_style_fourclass/train/images/4 (305).jpg: corrupt JPEG restored and saved\n",
      "\u001B[34m\u001B[1mtrain: \u001B[0m/media/abawi/e38fddf9-a92e-4c73-b905-995771f8fc3a/datasets/segmentation/yolo_style_fourclass/train/images/4 (310).jpg: corrupt JPEG restored and saved\n",
      "\u001B[34m\u001B[1mtrain: \u001B[0m/media/abawi/e38fddf9-a92e-4c73-b905-995771f8fc3a/datasets/segmentation/yolo_style_fourclass/train/images/4 (311).jpg: corrupt JPEG restored and saved\n",
      "\u001B[34m\u001B[1mtrain: \u001B[0m/media/abawi/e38fddf9-a92e-4c73-b905-995771f8fc3a/datasets/segmentation/yolo_style_fourclass/train/images/4 (312).jpg: corrupt JPEG restored and saved\n",
      "\u001B[34m\u001B[1mtrain: \u001B[0m/media/abawi/e38fddf9-a92e-4c73-b905-995771f8fc3a/datasets/segmentation/yolo_style_fourclass/train/images/4 (314).jpg: corrupt JPEG restored and saved\n",
      "\u001B[34m\u001B[1mtrain: \u001B[0m/media/abawi/e38fddf9-a92e-4c73-b905-995771f8fc3a/datasets/segmentation/yolo_style_fourclass/train/images/4 (316).jpg: corrupt JPEG restored and saved\n",
      "\u001B[34m\u001B[1mtrain: \u001B[0m/media/abawi/e38fddf9-a92e-4c73-b905-995771f8fc3a/datasets/segmentation/yolo_style_fourclass/train/images/4 (317).jpg: corrupt JPEG restored and saved\n",
      "\u001B[34m\u001B[1mtrain: \u001B[0m/media/abawi/e38fddf9-a92e-4c73-b905-995771f8fc3a/datasets/segmentation/yolo_style_fourclass/train/images/4 (319).jpg: corrupt JPEG restored and saved\n",
      "\u001B[34m\u001B[1mtrain: \u001B[0m/media/abawi/e38fddf9-a92e-4c73-b905-995771f8fc3a/datasets/segmentation/yolo_style_fourclass/train/images/4 (32).jpg: corrupt JPEG restored and saved\n",
      "\u001B[34m\u001B[1mtrain: \u001B[0m/media/abawi/e38fddf9-a92e-4c73-b905-995771f8fc3a/datasets/segmentation/yolo_style_fourclass/train/images/4 (320).jpg: corrupt JPEG restored and saved\n",
      "\u001B[34m\u001B[1mtrain: \u001B[0m/media/abawi/e38fddf9-a92e-4c73-b905-995771f8fc3a/datasets/segmentation/yolo_style_fourclass/train/images/4 (328).jpg: corrupt JPEG restored and saved\n",
      "\u001B[34m\u001B[1mtrain: \u001B[0m/media/abawi/e38fddf9-a92e-4c73-b905-995771f8fc3a/datasets/segmentation/yolo_style_fourclass/train/images/4 (33).jpg: corrupt JPEG restored and saved\n",
      "\u001B[34m\u001B[1mtrain: \u001B[0m/media/abawi/e38fddf9-a92e-4c73-b905-995771f8fc3a/datasets/segmentation/yolo_style_fourclass/train/images/4 (332).jpg: corrupt JPEG restored and saved\n",
      "\u001B[34m\u001B[1mtrain: \u001B[0m/media/abawi/e38fddf9-a92e-4c73-b905-995771f8fc3a/datasets/segmentation/yolo_style_fourclass/train/images/4 (333).jpg: corrupt JPEG restored and saved\n",
      "\u001B[34m\u001B[1mtrain: \u001B[0m/media/abawi/e38fddf9-a92e-4c73-b905-995771f8fc3a/datasets/segmentation/yolo_style_fourclass/train/images/4 (334).jpg: corrupt JPEG restored and saved\n",
      "\u001B[34m\u001B[1mtrain: \u001B[0m/media/abawi/e38fddf9-a92e-4c73-b905-995771f8fc3a/datasets/segmentation/yolo_style_fourclass/train/images/4 (335).jpg: corrupt JPEG restored and saved\n",
      "\u001B[34m\u001B[1mtrain: \u001B[0m/media/abawi/e38fddf9-a92e-4c73-b905-995771f8fc3a/datasets/segmentation/yolo_style_fourclass/train/images/4 (336).jpg: corrupt JPEG restored and saved\n",
      "\u001B[34m\u001B[1mtrain: \u001B[0m/media/abawi/e38fddf9-a92e-4c73-b905-995771f8fc3a/datasets/segmentation/yolo_style_fourclass/train/images/4 (337).jpg: corrupt JPEG restored and saved\n",
      "\u001B[34m\u001B[1mtrain: \u001B[0m/media/abawi/e38fddf9-a92e-4c73-b905-995771f8fc3a/datasets/segmentation/yolo_style_fourclass/train/images/4 (338).jpg: corrupt JPEG restored and saved\n",
      "\u001B[34m\u001B[1mtrain: \u001B[0m/media/abawi/e38fddf9-a92e-4c73-b905-995771f8fc3a/datasets/segmentation/yolo_style_fourclass/train/images/4 (339).jpg: corrupt JPEG restored and saved\n",
      "\u001B[34m\u001B[1mtrain: \u001B[0m/media/abawi/e38fddf9-a92e-4c73-b905-995771f8fc3a/datasets/segmentation/yolo_style_fourclass/train/images/4 (34).jpg: corrupt JPEG restored and saved\n",
      "\u001B[34m\u001B[1mtrain: \u001B[0m/media/abawi/e38fddf9-a92e-4c73-b905-995771f8fc3a/datasets/segmentation/yolo_style_fourclass/train/images/4 (340).jpg: corrupt JPEG restored and saved\n",
      "\u001B[34m\u001B[1mtrain: \u001B[0m/media/abawi/e38fddf9-a92e-4c73-b905-995771f8fc3a/datasets/segmentation/yolo_style_fourclass/train/images/4 (341).jpg: corrupt JPEG restored and saved\n",
      "\u001B[34m\u001B[1mtrain: \u001B[0m/media/abawi/e38fddf9-a92e-4c73-b905-995771f8fc3a/datasets/segmentation/yolo_style_fourclass/train/images/4 (342).jpg: corrupt JPEG restored and saved\n",
      "\u001B[34m\u001B[1mtrain: \u001B[0m/media/abawi/e38fddf9-a92e-4c73-b905-995771f8fc3a/datasets/segmentation/yolo_style_fourclass/train/images/4 (343).jpg: corrupt JPEG restored and saved\n",
      "\u001B[34m\u001B[1mtrain: \u001B[0m/media/abawi/e38fddf9-a92e-4c73-b905-995771f8fc3a/datasets/segmentation/yolo_style_fourclass/train/images/4 (345).jpg: corrupt JPEG restored and saved\n",
      "\u001B[34m\u001B[1mtrain: \u001B[0m/media/abawi/e38fddf9-a92e-4c73-b905-995771f8fc3a/datasets/segmentation/yolo_style_fourclass/train/images/4 (347).jpg: corrupt JPEG restored and saved\n",
      "\u001B[34m\u001B[1mtrain: \u001B[0m/media/abawi/e38fddf9-a92e-4c73-b905-995771f8fc3a/datasets/segmentation/yolo_style_fourclass/train/images/4 (350).jpg: corrupt JPEG restored and saved\n",
      "\u001B[34m\u001B[1mtrain: \u001B[0m/media/abawi/e38fddf9-a92e-4c73-b905-995771f8fc3a/datasets/segmentation/yolo_style_fourclass/train/images/4 (352).jpg: corrupt JPEG restored and saved\n",
      "\u001B[34m\u001B[1mtrain: \u001B[0m/media/abawi/e38fddf9-a92e-4c73-b905-995771f8fc3a/datasets/segmentation/yolo_style_fourclass/train/images/4 (354).jpg: corrupt JPEG restored and saved\n",
      "\u001B[34m\u001B[1mtrain: \u001B[0m/media/abawi/e38fddf9-a92e-4c73-b905-995771f8fc3a/datasets/segmentation/yolo_style_fourclass/train/images/4 (358).jpg: corrupt JPEG restored and saved\n",
      "\u001B[34m\u001B[1mtrain: \u001B[0m/media/abawi/e38fddf9-a92e-4c73-b905-995771f8fc3a/datasets/segmentation/yolo_style_fourclass/train/images/4 (359).jpg: corrupt JPEG restored and saved\n",
      "\u001B[34m\u001B[1mtrain: \u001B[0m/media/abawi/e38fddf9-a92e-4c73-b905-995771f8fc3a/datasets/segmentation/yolo_style_fourclass/train/images/4 (360).jpg: corrupt JPEG restored and saved\n",
      "\u001B[34m\u001B[1mtrain: \u001B[0m/media/abawi/e38fddf9-a92e-4c73-b905-995771f8fc3a/datasets/segmentation/yolo_style_fourclass/train/images/4 (361).jpg: corrupt JPEG restored and saved\n",
      "\u001B[34m\u001B[1mtrain: \u001B[0m/media/abawi/e38fddf9-a92e-4c73-b905-995771f8fc3a/datasets/segmentation/yolo_style_fourclass/train/images/4 (362).jpg: corrupt JPEG restored and saved\n",
      "\u001B[34m\u001B[1mtrain: \u001B[0m/media/abawi/e38fddf9-a92e-4c73-b905-995771f8fc3a/datasets/segmentation/yolo_style_fourclass/train/images/4 (363).jpg: corrupt JPEG restored and saved\n",
      "\u001B[34m\u001B[1mtrain: \u001B[0m/media/abawi/e38fddf9-a92e-4c73-b905-995771f8fc3a/datasets/segmentation/yolo_style_fourclass/train/images/4 (364).jpg: corrupt JPEG restored and saved\n",
      "\u001B[34m\u001B[1mtrain: \u001B[0m/media/abawi/e38fddf9-a92e-4c73-b905-995771f8fc3a/datasets/segmentation/yolo_style_fourclass/train/images/4 (365).jpg: corrupt JPEG restored and saved\n",
      "\u001B[34m\u001B[1mtrain: \u001B[0m/media/abawi/e38fddf9-a92e-4c73-b905-995771f8fc3a/datasets/segmentation/yolo_style_fourclass/train/images/4 (366).jpg: corrupt JPEG restored and saved\n",
      "\u001B[34m\u001B[1mtrain: \u001B[0m/media/abawi/e38fddf9-a92e-4c73-b905-995771f8fc3a/datasets/segmentation/yolo_style_fourclass/train/images/4 (367).jpg: corrupt JPEG restored and saved\n",
      "\u001B[34m\u001B[1mtrain: \u001B[0m/media/abawi/e38fddf9-a92e-4c73-b905-995771f8fc3a/datasets/segmentation/yolo_style_fourclass/train/images/4 (368).jpg: corrupt JPEG restored and saved\n",
      "\u001B[34m\u001B[1mtrain: \u001B[0m/media/abawi/e38fddf9-a92e-4c73-b905-995771f8fc3a/datasets/segmentation/yolo_style_fourclass/train/images/4 (37).jpg: corrupt JPEG restored and saved\n",
      "\u001B[34m\u001B[1mtrain: \u001B[0m/media/abawi/e38fddf9-a92e-4c73-b905-995771f8fc3a/datasets/segmentation/yolo_style_fourclass/train/images/4 (370).jpg: corrupt JPEG restored and saved\n",
      "\u001B[34m\u001B[1mtrain: \u001B[0m/media/abawi/e38fddf9-a92e-4c73-b905-995771f8fc3a/datasets/segmentation/yolo_style_fourclass/train/images/4 (372).jpg: corrupt JPEG restored and saved\n",
      "\u001B[34m\u001B[1mtrain: \u001B[0m/media/abawi/e38fddf9-a92e-4c73-b905-995771f8fc3a/datasets/segmentation/yolo_style_fourclass/train/images/4 (373).jpg: corrupt JPEG restored and saved\n",
      "\u001B[34m\u001B[1mtrain: \u001B[0m/media/abawi/e38fddf9-a92e-4c73-b905-995771f8fc3a/datasets/segmentation/yolo_style_fourclass/train/images/4 (374).jpg: corrupt JPEG restored and saved\n",
      "\u001B[34m\u001B[1mtrain: \u001B[0m/media/abawi/e38fddf9-a92e-4c73-b905-995771f8fc3a/datasets/segmentation/yolo_style_fourclass/train/images/4 (375).jpg: corrupt JPEG restored and saved\n",
      "\u001B[34m\u001B[1mtrain: \u001B[0m/media/abawi/e38fddf9-a92e-4c73-b905-995771f8fc3a/datasets/segmentation/yolo_style_fourclass/train/images/4 (376).jpg: corrupt JPEG restored and saved\n",
      "\u001B[34m\u001B[1mtrain: \u001B[0m/media/abawi/e38fddf9-a92e-4c73-b905-995771f8fc3a/datasets/segmentation/yolo_style_fourclass/train/images/4 (377).jpg: corrupt JPEG restored and saved\n",
      "\u001B[34m\u001B[1mtrain: \u001B[0m/media/abawi/e38fddf9-a92e-4c73-b905-995771f8fc3a/datasets/segmentation/yolo_style_fourclass/train/images/4 (378).jpg: corrupt JPEG restored and saved\n",
      "\u001B[34m\u001B[1mtrain: \u001B[0m/media/abawi/e38fddf9-a92e-4c73-b905-995771f8fc3a/datasets/segmentation/yolo_style_fourclass/train/images/4 (379).jpg: corrupt JPEG restored and saved\n",
      "\u001B[34m\u001B[1mtrain: \u001B[0m/media/abawi/e38fddf9-a92e-4c73-b905-995771f8fc3a/datasets/segmentation/yolo_style_fourclass/train/images/4 (38).jpg: corrupt JPEG restored and saved\n",
      "\u001B[34m\u001B[1mtrain: \u001B[0m/media/abawi/e38fddf9-a92e-4c73-b905-995771f8fc3a/datasets/segmentation/yolo_style_fourclass/train/images/4 (380).jpg: corrupt JPEG restored and saved\n",
      "\u001B[34m\u001B[1mtrain: \u001B[0m/media/abawi/e38fddf9-a92e-4c73-b905-995771f8fc3a/datasets/segmentation/yolo_style_fourclass/train/images/4 (381).jpg: corrupt JPEG restored and saved\n",
      "\u001B[34m\u001B[1mtrain: \u001B[0m/media/abawi/e38fddf9-a92e-4c73-b905-995771f8fc3a/datasets/segmentation/yolo_style_fourclass/train/images/4 (390).jpg: corrupt JPEG restored and saved\n",
      "\u001B[34m\u001B[1mtrain: \u001B[0m/media/abawi/e38fddf9-a92e-4c73-b905-995771f8fc3a/datasets/segmentation/yolo_style_fourclass/train/images/4 (392).jpg: corrupt JPEG restored and saved\n",
      "\u001B[34m\u001B[1mtrain: \u001B[0m/media/abawi/e38fddf9-a92e-4c73-b905-995771f8fc3a/datasets/segmentation/yolo_style_fourclass/train/images/4 (395).jpg: corrupt JPEG restored and saved\n",
      "\u001B[34m\u001B[1mtrain: \u001B[0m/media/abawi/e38fddf9-a92e-4c73-b905-995771f8fc3a/datasets/segmentation/yolo_style_fourclass/train/images/4 (396).jpg: corrupt JPEG restored and saved\n",
      "\u001B[34m\u001B[1mtrain: \u001B[0m/media/abawi/e38fddf9-a92e-4c73-b905-995771f8fc3a/datasets/segmentation/yolo_style_fourclass/train/images/4 (399).jpg: corrupt JPEG restored and saved\n",
      "\u001B[34m\u001B[1mtrain: \u001B[0m/media/abawi/e38fddf9-a92e-4c73-b905-995771f8fc3a/datasets/segmentation/yolo_style_fourclass/train/images/4 (4).jpg: corrupt JPEG restored and saved\n",
      "\u001B[34m\u001B[1mtrain: \u001B[0m/media/abawi/e38fddf9-a92e-4c73-b905-995771f8fc3a/datasets/segmentation/yolo_style_fourclass/train/images/4 (419).jpg: corrupt JPEG restored and saved\n",
      "\u001B[34m\u001B[1mtrain: \u001B[0m/media/abawi/e38fddf9-a92e-4c73-b905-995771f8fc3a/datasets/segmentation/yolo_style_fourclass/train/images/4 (42).jpg: corrupt JPEG restored and saved\n",
      "\u001B[34m\u001B[1mtrain: \u001B[0m/media/abawi/e38fddf9-a92e-4c73-b905-995771f8fc3a/datasets/segmentation/yolo_style_fourclass/train/images/4 (420).jpg: corrupt JPEG restored and saved\n",
      "\u001B[34m\u001B[1mtrain: \u001B[0m/media/abawi/e38fddf9-a92e-4c73-b905-995771f8fc3a/datasets/segmentation/yolo_style_fourclass/train/images/4 (421).jpg: corrupt JPEG restored and saved\n",
      "\u001B[34m\u001B[1mtrain: \u001B[0m/media/abawi/e38fddf9-a92e-4c73-b905-995771f8fc3a/datasets/segmentation/yolo_style_fourclass/train/images/4 (422).jpg: corrupt JPEG restored and saved\n",
      "\u001B[34m\u001B[1mtrain: \u001B[0m/media/abawi/e38fddf9-a92e-4c73-b905-995771f8fc3a/datasets/segmentation/yolo_style_fourclass/train/images/4 (423).jpg: corrupt JPEG restored and saved\n",
      "\u001B[34m\u001B[1mtrain: \u001B[0m/media/abawi/e38fddf9-a92e-4c73-b905-995771f8fc3a/datasets/segmentation/yolo_style_fourclass/train/images/4 (424).jpg: corrupt JPEG restored and saved\n",
      "\u001B[34m\u001B[1mtrain: \u001B[0m/media/abawi/e38fddf9-a92e-4c73-b905-995771f8fc3a/datasets/segmentation/yolo_style_fourclass/train/images/4 (425).jpg: corrupt JPEG restored and saved\n",
      "\u001B[34m\u001B[1mtrain: \u001B[0m/media/abawi/e38fddf9-a92e-4c73-b905-995771f8fc3a/datasets/segmentation/yolo_style_fourclass/train/images/4 (427).jpg: corrupt JPEG restored and saved\n",
      "\u001B[34m\u001B[1mtrain: \u001B[0m/media/abawi/e38fddf9-a92e-4c73-b905-995771f8fc3a/datasets/segmentation/yolo_style_fourclass/train/images/4 (428).jpg: corrupt JPEG restored and saved\n",
      "\u001B[34m\u001B[1mtrain: \u001B[0m/media/abawi/e38fddf9-a92e-4c73-b905-995771f8fc3a/datasets/segmentation/yolo_style_fourclass/train/images/4 (429).jpg: corrupt JPEG restored and saved\n",
      "\u001B[34m\u001B[1mtrain: \u001B[0m/media/abawi/e38fddf9-a92e-4c73-b905-995771f8fc3a/datasets/segmentation/yolo_style_fourclass/train/images/4 (43).jpg: corrupt JPEG restored and saved\n",
      "\u001B[34m\u001B[1mtrain: \u001B[0m/media/abawi/e38fddf9-a92e-4c73-b905-995771f8fc3a/datasets/segmentation/yolo_style_fourclass/train/images/4 (430).jpg: corrupt JPEG restored and saved\n",
      "\u001B[34m\u001B[1mtrain: \u001B[0m/media/abawi/e38fddf9-a92e-4c73-b905-995771f8fc3a/datasets/segmentation/yolo_style_fourclass/train/images/4 (431).jpg: corrupt JPEG restored and saved\n",
      "\u001B[34m\u001B[1mtrain: \u001B[0m/media/abawi/e38fddf9-a92e-4c73-b905-995771f8fc3a/datasets/segmentation/yolo_style_fourclass/train/images/4 (432).jpg: corrupt JPEG restored and saved\n",
      "\u001B[34m\u001B[1mtrain: \u001B[0m/media/abawi/e38fddf9-a92e-4c73-b905-995771f8fc3a/datasets/segmentation/yolo_style_fourclass/train/images/4 (433).jpg: corrupt JPEG restored and saved\n",
      "\u001B[34m\u001B[1mtrain: \u001B[0m/media/abawi/e38fddf9-a92e-4c73-b905-995771f8fc3a/datasets/segmentation/yolo_style_fourclass/train/images/4 (434).jpg: corrupt JPEG restored and saved\n",
      "\u001B[34m\u001B[1mtrain: \u001B[0m/media/abawi/e38fddf9-a92e-4c73-b905-995771f8fc3a/datasets/segmentation/yolo_style_fourclass/train/images/4 (435).jpg: corrupt JPEG restored and saved\n",
      "\u001B[34m\u001B[1mtrain: \u001B[0m/media/abawi/e38fddf9-a92e-4c73-b905-995771f8fc3a/datasets/segmentation/yolo_style_fourclass/train/images/4 (436).jpg: corrupt JPEG restored and saved\n",
      "\u001B[34m\u001B[1mtrain: \u001B[0m/media/abawi/e38fddf9-a92e-4c73-b905-995771f8fc3a/datasets/segmentation/yolo_style_fourclass/train/images/4 (437).jpg: corrupt JPEG restored and saved\n",
      "\u001B[34m\u001B[1mtrain: \u001B[0m/media/abawi/e38fddf9-a92e-4c73-b905-995771f8fc3a/datasets/segmentation/yolo_style_fourclass/train/images/4 (439).jpg: corrupt JPEG restored and saved\n",
      "\u001B[34m\u001B[1mtrain: \u001B[0m/media/abawi/e38fddf9-a92e-4c73-b905-995771f8fc3a/datasets/segmentation/yolo_style_fourclass/train/images/4 (440).jpg: corrupt JPEG restored and saved\n",
      "\u001B[34m\u001B[1mtrain: \u001B[0m/media/abawi/e38fddf9-a92e-4c73-b905-995771f8fc3a/datasets/segmentation/yolo_style_fourclass/train/images/4 (441).jpg: corrupt JPEG restored and saved\n",
      "\u001B[34m\u001B[1mtrain: \u001B[0m/media/abawi/e38fddf9-a92e-4c73-b905-995771f8fc3a/datasets/segmentation/yolo_style_fourclass/train/images/4 (442).jpg: corrupt JPEG restored and saved\n",
      "\u001B[34m\u001B[1mtrain: \u001B[0m/media/abawi/e38fddf9-a92e-4c73-b905-995771f8fc3a/datasets/segmentation/yolo_style_fourclass/train/images/4 (447).jpg: corrupt JPEG restored and saved\n",
      "\u001B[34m\u001B[1mtrain: \u001B[0m/media/abawi/e38fddf9-a92e-4c73-b905-995771f8fc3a/datasets/segmentation/yolo_style_fourclass/train/images/4 (448).jpg: corrupt JPEG restored and saved\n",
      "\u001B[34m\u001B[1mtrain: \u001B[0m/media/abawi/e38fddf9-a92e-4c73-b905-995771f8fc3a/datasets/segmentation/yolo_style_fourclass/train/images/4 (449).jpg: corrupt JPEG restored and saved\n",
      "\u001B[34m\u001B[1mtrain: \u001B[0m/media/abawi/e38fddf9-a92e-4c73-b905-995771f8fc3a/datasets/segmentation/yolo_style_fourclass/train/images/4 (45).jpg: corrupt JPEG restored and saved\n",
      "\u001B[34m\u001B[1mtrain: \u001B[0m/media/abawi/e38fddf9-a92e-4c73-b905-995771f8fc3a/datasets/segmentation/yolo_style_fourclass/train/images/4 (451).jpg: corrupt JPEG restored and saved\n",
      "\u001B[34m\u001B[1mtrain: \u001B[0m/media/abawi/e38fddf9-a92e-4c73-b905-995771f8fc3a/datasets/segmentation/yolo_style_fourclass/train/images/4 (452).jpg: corrupt JPEG restored and saved\n",
      "\u001B[34m\u001B[1mtrain: \u001B[0m/media/abawi/e38fddf9-a92e-4c73-b905-995771f8fc3a/datasets/segmentation/yolo_style_fourclass/train/images/4 (453).jpg: corrupt JPEG restored and saved\n",
      "\u001B[34m\u001B[1mtrain: \u001B[0m/media/abawi/e38fddf9-a92e-4c73-b905-995771f8fc3a/datasets/segmentation/yolo_style_fourclass/train/images/4 (455).jpg: corrupt JPEG restored and saved\n",
      "\u001B[34m\u001B[1mtrain: \u001B[0m/media/abawi/e38fddf9-a92e-4c73-b905-995771f8fc3a/datasets/segmentation/yolo_style_fourclass/train/images/4 (456).jpg: corrupt JPEG restored and saved\n",
      "\u001B[34m\u001B[1mtrain: \u001B[0m/media/abawi/e38fddf9-a92e-4c73-b905-995771f8fc3a/datasets/segmentation/yolo_style_fourclass/train/images/4 (458).jpg: corrupt JPEG restored and saved\n",
      "\u001B[34m\u001B[1mtrain: \u001B[0m/media/abawi/e38fddf9-a92e-4c73-b905-995771f8fc3a/datasets/segmentation/yolo_style_fourclass/train/images/4 (459).jpg: corrupt JPEG restored and saved\n",
      "\u001B[34m\u001B[1mtrain: \u001B[0m/media/abawi/e38fddf9-a92e-4c73-b905-995771f8fc3a/datasets/segmentation/yolo_style_fourclass/train/images/4 (462).jpg: corrupt JPEG restored and saved\n",
      "\u001B[34m\u001B[1mtrain: \u001B[0m/media/abawi/e38fddf9-a92e-4c73-b905-995771f8fc3a/datasets/segmentation/yolo_style_fourclass/train/images/4 (464).jpg: corrupt JPEG restored and saved\n",
      "\u001B[34m\u001B[1mtrain: \u001B[0m/media/abawi/e38fddf9-a92e-4c73-b905-995771f8fc3a/datasets/segmentation/yolo_style_fourclass/train/images/4 (467).jpg: corrupt JPEG restored and saved\n",
      "\u001B[34m\u001B[1mtrain: \u001B[0m/media/abawi/e38fddf9-a92e-4c73-b905-995771f8fc3a/datasets/segmentation/yolo_style_fourclass/train/images/4 (468).jpg: corrupt JPEG restored and saved\n",
      "\u001B[34m\u001B[1mtrain: \u001B[0m/media/abawi/e38fddf9-a92e-4c73-b905-995771f8fc3a/datasets/segmentation/yolo_style_fourclass/train/images/4 (469).jpg: corrupt JPEG restored and saved\n",
      "\u001B[34m\u001B[1mtrain: \u001B[0m/media/abawi/e38fddf9-a92e-4c73-b905-995771f8fc3a/datasets/segmentation/yolo_style_fourclass/train/images/4 (470).jpg: corrupt JPEG restored and saved\n",
      "\u001B[34m\u001B[1mtrain: \u001B[0m/media/abawi/e38fddf9-a92e-4c73-b905-995771f8fc3a/datasets/segmentation/yolo_style_fourclass/train/images/4 (471).jpg: corrupt JPEG restored and saved\n",
      "\u001B[34m\u001B[1mtrain: \u001B[0m/media/abawi/e38fddf9-a92e-4c73-b905-995771f8fc3a/datasets/segmentation/yolo_style_fourclass/train/images/4 (473).jpg: corrupt JPEG restored and saved\n",
      "\u001B[34m\u001B[1mtrain: \u001B[0m/media/abawi/e38fddf9-a92e-4c73-b905-995771f8fc3a/datasets/segmentation/yolo_style_fourclass/train/images/4 (476).jpg: corrupt JPEG restored and saved\n",
      "\u001B[34m\u001B[1mtrain: \u001B[0m/media/abawi/e38fddf9-a92e-4c73-b905-995771f8fc3a/datasets/segmentation/yolo_style_fourclass/train/images/4 (477).jpg: corrupt JPEG restored and saved\n",
      "\u001B[34m\u001B[1mtrain: \u001B[0m/media/abawi/e38fddf9-a92e-4c73-b905-995771f8fc3a/datasets/segmentation/yolo_style_fourclass/train/images/4 (478).jpg: corrupt JPEG restored and saved\n",
      "\u001B[34m\u001B[1mtrain: \u001B[0m/media/abawi/e38fddf9-a92e-4c73-b905-995771f8fc3a/datasets/segmentation/yolo_style_fourclass/train/images/4 (479).jpg: corrupt JPEG restored and saved\n",
      "\u001B[34m\u001B[1mtrain: \u001B[0m/media/abawi/e38fddf9-a92e-4c73-b905-995771f8fc3a/datasets/segmentation/yolo_style_fourclass/train/images/4 (480).jpg: corrupt JPEG restored and saved\n",
      "\u001B[34m\u001B[1mtrain: \u001B[0m/media/abawi/e38fddf9-a92e-4c73-b905-995771f8fc3a/datasets/segmentation/yolo_style_fourclass/train/images/4 (481).jpg: corrupt JPEG restored and saved\n",
      "\u001B[34m\u001B[1mtrain: \u001B[0m/media/abawi/e38fddf9-a92e-4c73-b905-995771f8fc3a/datasets/segmentation/yolo_style_fourclass/train/images/4 (485).jpg: corrupt JPEG restored and saved\n",
      "\u001B[34m\u001B[1mtrain: \u001B[0m/media/abawi/e38fddf9-a92e-4c73-b905-995771f8fc3a/datasets/segmentation/yolo_style_fourclass/train/images/4 (486).jpg: corrupt JPEG restored and saved\n",
      "\u001B[34m\u001B[1mtrain: \u001B[0m/media/abawi/e38fddf9-a92e-4c73-b905-995771f8fc3a/datasets/segmentation/yolo_style_fourclass/train/images/4 (487).jpg: corrupt JPEG restored and saved\n",
      "\u001B[34m\u001B[1mtrain: \u001B[0m/media/abawi/e38fddf9-a92e-4c73-b905-995771f8fc3a/datasets/segmentation/yolo_style_fourclass/train/images/4 (488).jpg: corrupt JPEG restored and saved\n",
      "\u001B[34m\u001B[1mtrain: \u001B[0m/media/abawi/e38fddf9-a92e-4c73-b905-995771f8fc3a/datasets/segmentation/yolo_style_fourclass/train/images/4 (489).jpg: corrupt JPEG restored and saved\n",
      "\u001B[34m\u001B[1mtrain: \u001B[0m/media/abawi/e38fddf9-a92e-4c73-b905-995771f8fc3a/datasets/segmentation/yolo_style_fourclass/train/images/4 (49).jpg: corrupt JPEG restored and saved\n",
      "\u001B[34m\u001B[1mtrain: \u001B[0m/media/abawi/e38fddf9-a92e-4c73-b905-995771f8fc3a/datasets/segmentation/yolo_style_fourclass/train/images/4 (490).jpg: corrupt JPEG restored and saved\n",
      "\u001B[34m\u001B[1mtrain: \u001B[0m/media/abawi/e38fddf9-a92e-4c73-b905-995771f8fc3a/datasets/segmentation/yolo_style_fourclass/train/images/4 (491).jpg: corrupt JPEG restored and saved\n",
      "\u001B[34m\u001B[1mtrain: \u001B[0m/media/abawi/e38fddf9-a92e-4c73-b905-995771f8fc3a/datasets/segmentation/yolo_style_fourclass/train/images/4 (493).jpg: corrupt JPEG restored and saved\n",
      "\u001B[34m\u001B[1mtrain: \u001B[0m/media/abawi/e38fddf9-a92e-4c73-b905-995771f8fc3a/datasets/segmentation/yolo_style_fourclass/train/images/4 (494).jpg: corrupt JPEG restored and saved\n",
      "\u001B[34m\u001B[1mtrain: \u001B[0m/media/abawi/e38fddf9-a92e-4c73-b905-995771f8fc3a/datasets/segmentation/yolo_style_fourclass/train/images/4 (495).jpg: corrupt JPEG restored and saved\n",
      "\u001B[34m\u001B[1mtrain: \u001B[0m/media/abawi/e38fddf9-a92e-4c73-b905-995771f8fc3a/datasets/segmentation/yolo_style_fourclass/train/images/4 (496).jpg: corrupt JPEG restored and saved\n",
      "\u001B[34m\u001B[1mtrain: \u001B[0m/media/abawi/e38fddf9-a92e-4c73-b905-995771f8fc3a/datasets/segmentation/yolo_style_fourclass/train/images/4 (497).jpg: corrupt JPEG restored and saved\n",
      "\u001B[34m\u001B[1mtrain: \u001B[0m/media/abawi/e38fddf9-a92e-4c73-b905-995771f8fc3a/datasets/segmentation/yolo_style_fourclass/train/images/4 (498).jpg: corrupt JPEG restored and saved\n",
      "\u001B[34m\u001B[1mtrain: \u001B[0m/media/abawi/e38fddf9-a92e-4c73-b905-995771f8fc3a/datasets/segmentation/yolo_style_fourclass/train/images/4 (499).jpg: corrupt JPEG restored and saved\n",
      "\u001B[34m\u001B[1mtrain: \u001B[0m/media/abawi/e38fddf9-a92e-4c73-b905-995771f8fc3a/datasets/segmentation/yolo_style_fourclass/train/images/4 (5).jpg: corrupt JPEG restored and saved\n",
      "\u001B[34m\u001B[1mtrain: \u001B[0m/media/abawi/e38fddf9-a92e-4c73-b905-995771f8fc3a/datasets/segmentation/yolo_style_fourclass/train/images/4 (500).jpg: corrupt JPEG restored and saved\n",
      "\u001B[34m\u001B[1mtrain: \u001B[0m/media/abawi/e38fddf9-a92e-4c73-b905-995771f8fc3a/datasets/segmentation/yolo_style_fourclass/train/images/4 (501).jpg: corrupt JPEG restored and saved\n",
      "\u001B[34m\u001B[1mtrain: \u001B[0m/media/abawi/e38fddf9-a92e-4c73-b905-995771f8fc3a/datasets/segmentation/yolo_style_fourclass/train/images/4 (502).jpg: corrupt JPEG restored and saved\n",
      "\u001B[34m\u001B[1mtrain: \u001B[0m/media/abawi/e38fddf9-a92e-4c73-b905-995771f8fc3a/datasets/segmentation/yolo_style_fourclass/train/images/4 (51).jpg: corrupt JPEG restored and saved\n",
      "\u001B[34m\u001B[1mtrain: \u001B[0m/media/abawi/e38fddf9-a92e-4c73-b905-995771f8fc3a/datasets/segmentation/yolo_style_fourclass/train/images/4 (53).jpg: corrupt JPEG restored and saved\n",
      "\u001B[34m\u001B[1mtrain: \u001B[0m/media/abawi/e38fddf9-a92e-4c73-b905-995771f8fc3a/datasets/segmentation/yolo_style_fourclass/train/images/4 (6).jpg: corrupt JPEG restored and saved\n",
      "\u001B[34m\u001B[1mtrain: \u001B[0m/media/abawi/e38fddf9-a92e-4c73-b905-995771f8fc3a/datasets/segmentation/yolo_style_fourclass/train/images/4 (60).jpg: corrupt JPEG restored and saved\n",
      "\u001B[34m\u001B[1mtrain: \u001B[0m/media/abawi/e38fddf9-a92e-4c73-b905-995771f8fc3a/datasets/segmentation/yolo_style_fourclass/train/images/4 (61).jpg: corrupt JPEG restored and saved\n",
      "\u001B[34m\u001B[1mtrain: \u001B[0m/media/abawi/e38fddf9-a92e-4c73-b905-995771f8fc3a/datasets/segmentation/yolo_style_fourclass/train/images/4 (67).jpg: corrupt JPEG restored and saved\n",
      "\u001B[34m\u001B[1mtrain: \u001B[0m/media/abawi/e38fddf9-a92e-4c73-b905-995771f8fc3a/datasets/segmentation/yolo_style_fourclass/train/images/4 (69).jpg: corrupt JPEG restored and saved\n",
      "\u001B[34m\u001B[1mtrain: \u001B[0m/media/abawi/e38fddf9-a92e-4c73-b905-995771f8fc3a/datasets/segmentation/yolo_style_fourclass/train/images/4 (7).jpg: corrupt JPEG restored and saved\n",
      "\u001B[34m\u001B[1mtrain: \u001B[0m/media/abawi/e38fddf9-a92e-4c73-b905-995771f8fc3a/datasets/segmentation/yolo_style_fourclass/train/images/4 (70).jpg: corrupt JPEG restored and saved\n",
      "\u001B[34m\u001B[1mtrain: \u001B[0m/media/abawi/e38fddf9-a92e-4c73-b905-995771f8fc3a/datasets/segmentation/yolo_style_fourclass/train/images/4 (71).jpg: corrupt JPEG restored and saved\n",
      "\u001B[34m\u001B[1mtrain: \u001B[0m/media/abawi/e38fddf9-a92e-4c73-b905-995771f8fc3a/datasets/segmentation/yolo_style_fourclass/train/images/4 (74).jpg: corrupt JPEG restored and saved\n",
      "\u001B[34m\u001B[1mtrain: \u001B[0m/media/abawi/e38fddf9-a92e-4c73-b905-995771f8fc3a/datasets/segmentation/yolo_style_fourclass/train/images/4 (75).jpg: corrupt JPEG restored and saved\n",
      "\u001B[34m\u001B[1mtrain: \u001B[0m/media/abawi/e38fddf9-a92e-4c73-b905-995771f8fc3a/datasets/segmentation/yolo_style_fourclass/train/images/4 (78).jpg: corrupt JPEG restored and saved\n",
      "\u001B[34m\u001B[1mtrain: \u001B[0m/media/abawi/e38fddf9-a92e-4c73-b905-995771f8fc3a/datasets/segmentation/yolo_style_fourclass/train/images/4 (79).jpg: corrupt JPEG restored and saved\n",
      "\u001B[34m\u001B[1mtrain: \u001B[0m/media/abawi/e38fddf9-a92e-4c73-b905-995771f8fc3a/datasets/segmentation/yolo_style_fourclass/train/images/4 (80).jpg: corrupt JPEG restored and saved\n",
      "\u001B[34m\u001B[1mtrain: \u001B[0m/media/abawi/e38fddf9-a92e-4c73-b905-995771f8fc3a/datasets/segmentation/yolo_style_fourclass/train/images/4 (81).jpg: corrupt JPEG restored and saved\n",
      "\u001B[34m\u001B[1mtrain: \u001B[0m/media/abawi/e38fddf9-a92e-4c73-b905-995771f8fc3a/datasets/segmentation/yolo_style_fourclass/train/images/4 (82).jpg: corrupt JPEG restored and saved\n",
      "\u001B[34m\u001B[1mtrain: \u001B[0m/media/abawi/e38fddf9-a92e-4c73-b905-995771f8fc3a/datasets/segmentation/yolo_style_fourclass/train/images/4 (84).jpg: corrupt JPEG restored and saved\n",
      "\u001B[34m\u001B[1mtrain: \u001B[0m/media/abawi/e38fddf9-a92e-4c73-b905-995771f8fc3a/datasets/segmentation/yolo_style_fourclass/train/images/4 (86).jpg: corrupt JPEG restored and saved\n",
      "\u001B[34m\u001B[1mtrain: \u001B[0m/media/abawi/e38fddf9-a92e-4c73-b905-995771f8fc3a/datasets/segmentation/yolo_style_fourclass/train/images/4 (89).jpg: corrupt JPEG restored and saved\n",
      "\u001B[34m\u001B[1mtrain: \u001B[0m/media/abawi/e38fddf9-a92e-4c73-b905-995771f8fc3a/datasets/segmentation/yolo_style_fourclass/train/images/402.jpg: corrupt JPEG restored and saved\n",
      "\u001B[34m\u001B[1mtrain: \u001B[0m/media/abawi/e38fddf9-a92e-4c73-b905-995771f8fc3a/datasets/segmentation/yolo_style_fourclass/train/images/405.jpg: corrupt JPEG restored and saved\n",
      "\u001B[34m\u001B[1mtrain: \u001B[0m/media/abawi/e38fddf9-a92e-4c73-b905-995771f8fc3a/datasets/segmentation/yolo_style_fourclass/train/images/407.jpg: corrupt JPEG restored and saved\n",
      "\u001B[34m\u001B[1mtrain: \u001B[0m/media/abawi/e38fddf9-a92e-4c73-b905-995771f8fc3a/datasets/segmentation/yolo_style_fourclass/train/images/408.jpg: corrupt JPEG restored and saved\n",
      "\u001B[34m\u001B[1mtrain: \u001B[0m/media/abawi/e38fddf9-a92e-4c73-b905-995771f8fc3a/datasets/segmentation/yolo_style_fourclass/train/images/414.jpg: corrupt JPEG restored and saved\n",
      "\u001B[34m\u001B[1mtrain: \u001B[0m/media/abawi/e38fddf9-a92e-4c73-b905-995771f8fc3a/datasets/segmentation/yolo_style_fourclass/train/images/435.jpg: corrupt JPEG restored and saved\n",
      "\u001B[34m\u001B[1mtrain: \u001B[0m/media/abawi/e38fddf9-a92e-4c73-b905-995771f8fc3a/datasets/segmentation/yolo_style_fourclass/train/images/456.jpg: corrupt JPEG restored and saved\n",
      "\u001B[34m\u001B[1mtrain: \u001B[0m/media/abawi/e38fddf9-a92e-4c73-b905-995771f8fc3a/datasets/segmentation/yolo_style_fourclass/train/images/48.jpg: corrupt JPEG restored and saved\n",
      "\u001B[34m\u001B[1mtrain: \u001B[0m/media/abawi/e38fddf9-a92e-4c73-b905-995771f8fc3a/datasets/segmentation/yolo_style_fourclass/train/images/481.jpg: corrupt JPEG restored and saved\n",
      "\u001B[34m\u001B[1mtrain: \u001B[0m/media/abawi/e38fddf9-a92e-4c73-b905-995771f8fc3a/datasets/segmentation/yolo_style_fourclass/train/images/5 (37).jpg: corrupt JPEG restored and saved\n",
      "\u001B[34m\u001B[1mtrain: \u001B[0m/media/abawi/e38fddf9-a92e-4c73-b905-995771f8fc3a/datasets/segmentation/yolo_style_fourclass/train/images/5 (38).jpg: corrupt JPEG restored and saved\n",
      "\u001B[34m\u001B[1mtrain: \u001B[0m/media/abawi/e38fddf9-a92e-4c73-b905-995771f8fc3a/datasets/segmentation/yolo_style_fourclass/train/images/5 (40).jpg: corrupt JPEG restored and saved\n",
      "\u001B[34m\u001B[1mtrain: \u001B[0m/media/abawi/e38fddf9-a92e-4c73-b905-995771f8fc3a/datasets/segmentation/yolo_style_fourclass/train/images/5 (41).jpg: corrupt JPEG restored and saved\n",
      "\u001B[34m\u001B[1mtrain: \u001B[0m/media/abawi/e38fddf9-a92e-4c73-b905-995771f8fc3a/datasets/segmentation/yolo_style_fourclass/train/images/5 (43).jpg: corrupt JPEG restored and saved\n",
      "\u001B[34m\u001B[1mtrain: \u001B[0m/media/abawi/e38fddf9-a92e-4c73-b905-995771f8fc3a/datasets/segmentation/yolo_style_fourclass/train/images/5 (44).jpg: corrupt JPEG restored and saved\n",
      "\u001B[34m\u001B[1mtrain: \u001B[0m/media/abawi/e38fddf9-a92e-4c73-b905-995771f8fc3a/datasets/segmentation/yolo_style_fourclass/train/images/5 (45).jpg: corrupt JPEG restored and saved\n",
      "\u001B[34m\u001B[1mtrain: \u001B[0m/media/abawi/e38fddf9-a92e-4c73-b905-995771f8fc3a/datasets/segmentation/yolo_style_fourclass/train/images/5 (46).jpg: corrupt JPEG restored and saved\n",
      "\u001B[34m\u001B[1mtrain: \u001B[0m/media/abawi/e38fddf9-a92e-4c73-b905-995771f8fc3a/datasets/segmentation/yolo_style_fourclass/train/images/5 (49).jpg: corrupt JPEG restored and saved\n",
      "\u001B[34m\u001B[1mtrain: \u001B[0m/media/abawi/e38fddf9-a92e-4c73-b905-995771f8fc3a/datasets/segmentation/yolo_style_fourclass/train/images/5 (5).jpg: corrupt JPEG restored and saved\n",
      "\u001B[34m\u001B[1mtrain: \u001B[0m/media/abawi/e38fddf9-a92e-4c73-b905-995771f8fc3a/datasets/segmentation/yolo_style_fourclass/train/images/5 (50).jpg: corrupt JPEG restored and saved\n",
      "\u001B[34m\u001B[1mtrain: \u001B[0m/media/abawi/e38fddf9-a92e-4c73-b905-995771f8fc3a/datasets/segmentation/yolo_style_fourclass/train/images/5 (6).jpg: corrupt JPEG restored and saved\n",
      "\u001B[34m\u001B[1mtrain: \u001B[0m/media/abawi/e38fddf9-a92e-4c73-b905-995771f8fc3a/datasets/segmentation/yolo_style_fourclass/train/images/5 (60).jpg: corrupt JPEG restored and saved\n",
      "\u001B[34m\u001B[1mtrain: \u001B[0m/media/abawi/e38fddf9-a92e-4c73-b905-995771f8fc3a/datasets/segmentation/yolo_style_fourclass/train/images/5 (61).jpg: corrupt JPEG restored and saved\n",
      "\u001B[34m\u001B[1mtrain: \u001B[0m/media/abawi/e38fddf9-a92e-4c73-b905-995771f8fc3a/datasets/segmentation/yolo_style_fourclass/train/images/5 (62).jpg: corrupt JPEG restored and saved\n",
      "\u001B[34m\u001B[1mtrain: \u001B[0m/media/abawi/e38fddf9-a92e-4c73-b905-995771f8fc3a/datasets/segmentation/yolo_style_fourclass/train/images/5 (65).jpg: corrupt JPEG restored and saved\n",
      "\u001B[34m\u001B[1mtrain: \u001B[0m/media/abawi/e38fddf9-a92e-4c73-b905-995771f8fc3a/datasets/segmentation/yolo_style_fourclass/train/images/5 (70).jpg: corrupt JPEG restored and saved\n",
      "\u001B[34m\u001B[1mtrain: \u001B[0m/media/abawi/e38fddf9-a92e-4c73-b905-995771f8fc3a/datasets/segmentation/yolo_style_fourclass/train/images/5 (72).jpg: corrupt JPEG restored and saved\n",
      "\u001B[34m\u001B[1mtrain: \u001B[0m/media/abawi/e38fddf9-a92e-4c73-b905-995771f8fc3a/datasets/segmentation/yolo_style_fourclass/train/images/5 (74).jpg: corrupt JPEG restored and saved\n",
      "\u001B[34m\u001B[1mtrain: \u001B[0m/media/abawi/e38fddf9-a92e-4c73-b905-995771f8fc3a/datasets/segmentation/yolo_style_fourclass/train/images/5 (76).jpg: corrupt JPEG restored and saved\n",
      "\u001B[34m\u001B[1mtrain: \u001B[0m/media/abawi/e38fddf9-a92e-4c73-b905-995771f8fc3a/datasets/segmentation/yolo_style_fourclass/train/images/5 (77).jpg: corrupt JPEG restored and saved\n",
      "\u001B[34m\u001B[1mtrain: \u001B[0m/media/abawi/e38fddf9-a92e-4c73-b905-995771f8fc3a/datasets/segmentation/yolo_style_fourclass/train/images/5 (78).jpg: corrupt JPEG restored and saved\n",
      "\u001B[34m\u001B[1mtrain: \u001B[0m/media/abawi/e38fddf9-a92e-4c73-b905-995771f8fc3a/datasets/segmentation/yolo_style_fourclass/train/images/5 (79).jpg: corrupt JPEG restored and saved\n",
      "\u001B[34m\u001B[1mtrain: \u001B[0m/media/abawi/e38fddf9-a92e-4c73-b905-995771f8fc3a/datasets/segmentation/yolo_style_fourclass/train/images/5 (8).jpg: corrupt JPEG restored and saved\n",
      "\u001B[34m\u001B[1mtrain: \u001B[0m/media/abawi/e38fddf9-a92e-4c73-b905-995771f8fc3a/datasets/segmentation/yolo_style_fourclass/train/images/5 (80).jpg: corrupt JPEG restored and saved\n",
      "\u001B[34m\u001B[1mtrain: \u001B[0m/media/abawi/e38fddf9-a92e-4c73-b905-995771f8fc3a/datasets/segmentation/yolo_style_fourclass/train/images/5 (84).jpg: corrupt JPEG restored and saved\n",
      "\u001B[34m\u001B[1mtrain: \u001B[0m/media/abawi/e38fddf9-a92e-4c73-b905-995771f8fc3a/datasets/segmentation/yolo_style_fourclass/train/images/5 (85).jpg: corrupt JPEG restored and saved\n",
      "\u001B[34m\u001B[1mtrain: \u001B[0m/media/abawi/e38fddf9-a92e-4c73-b905-995771f8fc3a/datasets/segmentation/yolo_style_fourclass/train/images/5 (88).jpg: corrupt JPEG restored and saved\n",
      "\u001B[34m\u001B[1mtrain: \u001B[0m/media/abawi/e38fddf9-a92e-4c73-b905-995771f8fc3a/datasets/segmentation/yolo_style_fourclass/train/images/5 (89).jpg: corrupt JPEG restored and saved\n",
      "\u001B[34m\u001B[1mtrain: \u001B[0m/media/abawi/e38fddf9-a92e-4c73-b905-995771f8fc3a/datasets/segmentation/yolo_style_fourclass/train/images/5 (9).jpg: corrupt JPEG restored and saved\n",
      "\u001B[34m\u001B[1mtrain: \u001B[0m/media/abawi/e38fddf9-a92e-4c73-b905-995771f8fc3a/datasets/segmentation/yolo_style_fourclass/train/images/5 (94).jpg: corrupt JPEG restored and saved\n",
      "\u001B[34m\u001B[1mtrain: \u001B[0m/media/abawi/e38fddf9-a92e-4c73-b905-995771f8fc3a/datasets/segmentation/yolo_style_fourclass/train/images/5 (95).jpg: corrupt JPEG restored and saved\n",
      "\u001B[34m\u001B[1mtrain: \u001B[0m/media/abawi/e38fddf9-a92e-4c73-b905-995771f8fc3a/datasets/segmentation/yolo_style_fourclass/train/images/5 (96).jpg: corrupt JPEG restored and saved\n",
      "\u001B[34m\u001B[1mtrain: \u001B[0m/media/abawi/e38fddf9-a92e-4c73-b905-995771f8fc3a/datasets/segmentation/yolo_style_fourclass/train/images/5 (97).jpg: corrupt JPEG restored and saved\n",
      "\u001B[34m\u001B[1mtrain: \u001B[0m/media/abawi/e38fddf9-a92e-4c73-b905-995771f8fc3a/datasets/segmentation/yolo_style_fourclass/train/images/5 (98).jpg: corrupt JPEG restored and saved\n",
      "\u001B[34m\u001B[1mtrain: \u001B[0m/media/abawi/e38fddf9-a92e-4c73-b905-995771f8fc3a/datasets/segmentation/yolo_style_fourclass/train/images/5 (99).jpg: corrupt JPEG restored and saved\n",
      "\u001B[34m\u001B[1mtrain: \u001B[0m/media/abawi/e38fddf9-a92e-4c73-b905-995771f8fc3a/datasets/segmentation/yolo_style_fourclass/train/images/517.jpg: corrupt JPEG restored and saved\n",
      "\u001B[34m\u001B[1mtrain: \u001B[0m/media/abawi/e38fddf9-a92e-4c73-b905-995771f8fc3a/datasets/segmentation/yolo_style_fourclass/train/images/518.jpg: corrupt JPEG restored and saved\n",
      "\u001B[34m\u001B[1mtrain: \u001B[0m/media/abawi/e38fddf9-a92e-4c73-b905-995771f8fc3a/datasets/segmentation/yolo_style_fourclass/train/images/551.jpg: corrupt JPEG restored and saved\n",
      "\u001B[34m\u001B[1mtrain: \u001B[0m/media/abawi/e38fddf9-a92e-4c73-b905-995771f8fc3a/datasets/segmentation/yolo_style_fourclass/train/images/559.jpg: corrupt JPEG restored and saved\n",
      "\u001B[34m\u001B[1mtrain: \u001B[0m/media/abawi/e38fddf9-a92e-4c73-b905-995771f8fc3a/datasets/segmentation/yolo_style_fourclass/train/images/569.jpg: corrupt JPEG restored and saved\n",
      "\u001B[34m\u001B[1mtrain: \u001B[0m/media/abawi/e38fddf9-a92e-4c73-b905-995771f8fc3a/datasets/segmentation/yolo_style_fourclass/train/images/578.jpg: corrupt JPEG restored and saved\n",
      "\u001B[34m\u001B[1mtrain: \u001B[0m/media/abawi/e38fddf9-a92e-4c73-b905-995771f8fc3a/datasets/segmentation/yolo_style_fourclass/train/images/591.jpg: corrupt JPEG restored and saved\n",
      "\u001B[34m\u001B[1mtrain: \u001B[0m/media/abawi/e38fddf9-a92e-4c73-b905-995771f8fc3a/datasets/segmentation/yolo_style_fourclass/train/images/6 (10).jpg: corrupt JPEG restored and saved\n",
      "\u001B[34m\u001B[1mtrain: \u001B[0m/media/abawi/e38fddf9-a92e-4c73-b905-995771f8fc3a/datasets/segmentation/yolo_style_fourclass/train/images/6 (100).jpg: corrupt JPEG restored and saved\n",
      "\u001B[34m\u001B[1mtrain: \u001B[0m/media/abawi/e38fddf9-a92e-4c73-b905-995771f8fc3a/datasets/segmentation/yolo_style_fourclass/train/images/6 (101).jpg: corrupt JPEG restored and saved\n",
      "\u001B[34m\u001B[1mtrain: \u001B[0m/media/abawi/e38fddf9-a92e-4c73-b905-995771f8fc3a/datasets/segmentation/yolo_style_fourclass/train/images/6 (102).jpg: corrupt JPEG restored and saved\n",
      "\u001B[34m\u001B[1mtrain: \u001B[0m/media/abawi/e38fddf9-a92e-4c73-b905-995771f8fc3a/datasets/segmentation/yolo_style_fourclass/train/images/6 (104).jpg: corrupt JPEG restored and saved\n",
      "\u001B[34m\u001B[1mtrain: \u001B[0m/media/abawi/e38fddf9-a92e-4c73-b905-995771f8fc3a/datasets/segmentation/yolo_style_fourclass/train/images/6 (106).jpg: corrupt JPEG restored and saved\n",
      "\u001B[34m\u001B[1mtrain: \u001B[0m/media/abawi/e38fddf9-a92e-4c73-b905-995771f8fc3a/datasets/segmentation/yolo_style_fourclass/train/images/6 (107).jpg: corrupt JPEG restored and saved\n",
      "\u001B[34m\u001B[1mtrain: \u001B[0m/media/abawi/e38fddf9-a92e-4c73-b905-995771f8fc3a/datasets/segmentation/yolo_style_fourclass/train/images/6 (108).jpg: corrupt JPEG restored and saved\n",
      "\u001B[34m\u001B[1mtrain: \u001B[0m/media/abawi/e38fddf9-a92e-4c73-b905-995771f8fc3a/datasets/segmentation/yolo_style_fourclass/train/images/6 (11).jpg: corrupt JPEG restored and saved\n",
      "\u001B[34m\u001B[1mtrain: \u001B[0m/media/abawi/e38fddf9-a92e-4c73-b905-995771f8fc3a/datasets/segmentation/yolo_style_fourclass/train/images/6 (110).jpg: corrupt JPEG restored and saved\n",
      "\u001B[34m\u001B[1mtrain: \u001B[0m/media/abawi/e38fddf9-a92e-4c73-b905-995771f8fc3a/datasets/segmentation/yolo_style_fourclass/train/images/6 (111).jpg: corrupt JPEG restored and saved\n",
      "\u001B[34m\u001B[1mtrain: \u001B[0m/media/abawi/e38fddf9-a92e-4c73-b905-995771f8fc3a/datasets/segmentation/yolo_style_fourclass/train/images/6 (112).jpg: corrupt JPEG restored and saved\n",
      "\u001B[34m\u001B[1mtrain: \u001B[0m/media/abawi/e38fddf9-a92e-4c73-b905-995771f8fc3a/datasets/segmentation/yolo_style_fourclass/train/images/6 (114).jpg: corrupt JPEG restored and saved\n",
      "\u001B[34m\u001B[1mtrain: \u001B[0m/media/abawi/e38fddf9-a92e-4c73-b905-995771f8fc3a/datasets/segmentation/yolo_style_fourclass/train/images/6 (115).jpg: corrupt JPEG restored and saved\n",
      "\u001B[34m\u001B[1mtrain: \u001B[0m/media/abawi/e38fddf9-a92e-4c73-b905-995771f8fc3a/datasets/segmentation/yolo_style_fourclass/train/images/6 (117).jpg: corrupt JPEG restored and saved\n",
      "\u001B[34m\u001B[1mtrain: \u001B[0m/media/abawi/e38fddf9-a92e-4c73-b905-995771f8fc3a/datasets/segmentation/yolo_style_fourclass/train/images/6 (118).jpg: corrupt JPEG restored and saved\n",
      "\u001B[34m\u001B[1mtrain: \u001B[0m/media/abawi/e38fddf9-a92e-4c73-b905-995771f8fc3a/datasets/segmentation/yolo_style_fourclass/train/images/6 (119).jpg: corrupt JPEG restored and saved\n",
      "\u001B[34m\u001B[1mtrain: \u001B[0m/media/abawi/e38fddf9-a92e-4c73-b905-995771f8fc3a/datasets/segmentation/yolo_style_fourclass/train/images/6 (120).jpg: corrupt JPEG restored and saved\n",
      "\u001B[34m\u001B[1mtrain: \u001B[0m/media/abawi/e38fddf9-a92e-4c73-b905-995771f8fc3a/datasets/segmentation/yolo_style_fourclass/train/images/6 (121).jpg: corrupt JPEG restored and saved\n",
      "\u001B[34m\u001B[1mtrain: \u001B[0m/media/abawi/e38fddf9-a92e-4c73-b905-995771f8fc3a/datasets/segmentation/yolo_style_fourclass/train/images/6 (122).jpg: corrupt JPEG restored and saved\n",
      "\u001B[34m\u001B[1mtrain: \u001B[0m/media/abawi/e38fddf9-a92e-4c73-b905-995771f8fc3a/datasets/segmentation/yolo_style_fourclass/train/images/6 (123).jpg: corrupt JPEG restored and saved\n",
      "\u001B[34m\u001B[1mtrain: \u001B[0m/media/abawi/e38fddf9-a92e-4c73-b905-995771f8fc3a/datasets/segmentation/yolo_style_fourclass/train/images/6 (125).jpg: corrupt JPEG restored and saved\n",
      "\u001B[34m\u001B[1mtrain: \u001B[0m/media/abawi/e38fddf9-a92e-4c73-b905-995771f8fc3a/datasets/segmentation/yolo_style_fourclass/train/images/6 (126).jpg: corrupt JPEG restored and saved\n",
      "\u001B[34m\u001B[1mtrain: \u001B[0m/media/abawi/e38fddf9-a92e-4c73-b905-995771f8fc3a/datasets/segmentation/yolo_style_fourclass/train/images/6 (127).jpg: corrupt JPEG restored and saved\n",
      "\u001B[34m\u001B[1mtrain: \u001B[0m/media/abawi/e38fddf9-a92e-4c73-b905-995771f8fc3a/datasets/segmentation/yolo_style_fourclass/train/images/6 (128).jpg: corrupt JPEG restored and saved\n",
      "\u001B[34m\u001B[1mtrain: \u001B[0m/media/abawi/e38fddf9-a92e-4c73-b905-995771f8fc3a/datasets/segmentation/yolo_style_fourclass/train/images/6 (129).jpg: corrupt JPEG restored and saved\n",
      "\u001B[34m\u001B[1mtrain: \u001B[0m/media/abawi/e38fddf9-a92e-4c73-b905-995771f8fc3a/datasets/segmentation/yolo_style_fourclass/train/images/6 (13).jpg: corrupt JPEG restored and saved\n",
      "\u001B[34m\u001B[1mtrain: \u001B[0m/media/abawi/e38fddf9-a92e-4c73-b905-995771f8fc3a/datasets/segmentation/yolo_style_fourclass/train/images/6 (130).jpg: corrupt JPEG restored and saved\n",
      "\u001B[34m\u001B[1mtrain: \u001B[0m/media/abawi/e38fddf9-a92e-4c73-b905-995771f8fc3a/datasets/segmentation/yolo_style_fourclass/train/images/6 (132).jpg: corrupt JPEG restored and saved\n",
      "\u001B[34m\u001B[1mtrain: \u001B[0m/media/abawi/e38fddf9-a92e-4c73-b905-995771f8fc3a/datasets/segmentation/yolo_style_fourclass/train/images/6 (133).jpg: corrupt JPEG restored and saved\n",
      "\u001B[34m\u001B[1mtrain: \u001B[0m/media/abawi/e38fddf9-a92e-4c73-b905-995771f8fc3a/datasets/segmentation/yolo_style_fourclass/train/images/6 (135).jpg: corrupt JPEG restored and saved\n",
      "\u001B[34m\u001B[1mtrain: \u001B[0m/media/abawi/e38fddf9-a92e-4c73-b905-995771f8fc3a/datasets/segmentation/yolo_style_fourclass/train/images/6 (136).jpg: corrupt JPEG restored and saved\n",
      "\u001B[34m\u001B[1mtrain: \u001B[0m/media/abawi/e38fddf9-a92e-4c73-b905-995771f8fc3a/datasets/segmentation/yolo_style_fourclass/train/images/6 (137).jpg: corrupt JPEG restored and saved\n",
      "\u001B[34m\u001B[1mtrain: \u001B[0m/media/abawi/e38fddf9-a92e-4c73-b905-995771f8fc3a/datasets/segmentation/yolo_style_fourclass/train/images/6 (138).jpg: corrupt JPEG restored and saved\n",
      "\u001B[34m\u001B[1mtrain: \u001B[0m/media/abawi/e38fddf9-a92e-4c73-b905-995771f8fc3a/datasets/segmentation/yolo_style_fourclass/train/images/6 (139).jpg: corrupt JPEG restored and saved\n",
      "\u001B[34m\u001B[1mtrain: \u001B[0m/media/abawi/e38fddf9-a92e-4c73-b905-995771f8fc3a/datasets/segmentation/yolo_style_fourclass/train/images/6 (14).jpg: corrupt JPEG restored and saved\n",
      "\u001B[34m\u001B[1mtrain: \u001B[0m/media/abawi/e38fddf9-a92e-4c73-b905-995771f8fc3a/datasets/segmentation/yolo_style_fourclass/train/images/6 (140).jpg: corrupt JPEG restored and saved\n",
      "\u001B[34m\u001B[1mtrain: \u001B[0m/media/abawi/e38fddf9-a92e-4c73-b905-995771f8fc3a/datasets/segmentation/yolo_style_fourclass/train/images/6 (141).jpg: corrupt JPEG restored and saved\n",
      "\u001B[34m\u001B[1mtrain: \u001B[0m/media/abawi/e38fddf9-a92e-4c73-b905-995771f8fc3a/datasets/segmentation/yolo_style_fourclass/train/images/6 (142).jpg: corrupt JPEG restored and saved\n",
      "\u001B[34m\u001B[1mtrain: \u001B[0m/media/abawi/e38fddf9-a92e-4c73-b905-995771f8fc3a/datasets/segmentation/yolo_style_fourclass/train/images/6 (143).jpg: corrupt JPEG restored and saved\n",
      "\u001B[34m\u001B[1mtrain: \u001B[0m/media/abawi/e38fddf9-a92e-4c73-b905-995771f8fc3a/datasets/segmentation/yolo_style_fourclass/train/images/6 (144).jpg: corrupt JPEG restored and saved\n",
      "\u001B[34m\u001B[1mtrain: \u001B[0m/media/abawi/e38fddf9-a92e-4c73-b905-995771f8fc3a/datasets/segmentation/yolo_style_fourclass/train/images/6 (145).jpg: corrupt JPEG restored and saved\n",
      "\u001B[34m\u001B[1mtrain: \u001B[0m/media/abawi/e38fddf9-a92e-4c73-b905-995771f8fc3a/datasets/segmentation/yolo_style_fourclass/train/images/6 (146).jpg: corrupt JPEG restored and saved\n",
      "\u001B[34m\u001B[1mtrain: \u001B[0m/media/abawi/e38fddf9-a92e-4c73-b905-995771f8fc3a/datasets/segmentation/yolo_style_fourclass/train/images/6 (147).jpg: corrupt JPEG restored and saved\n",
      "\u001B[34m\u001B[1mtrain: \u001B[0m/media/abawi/e38fddf9-a92e-4c73-b905-995771f8fc3a/datasets/segmentation/yolo_style_fourclass/train/images/6 (149).jpg: corrupt JPEG restored and saved\n",
      "\u001B[34m\u001B[1mtrain: \u001B[0m/media/abawi/e38fddf9-a92e-4c73-b905-995771f8fc3a/datasets/segmentation/yolo_style_fourclass/train/images/6 (15).jpg: corrupt JPEG restored and saved\n",
      "\u001B[34m\u001B[1mtrain: \u001B[0m/media/abawi/e38fddf9-a92e-4c73-b905-995771f8fc3a/datasets/segmentation/yolo_style_fourclass/train/images/6 (150).jpg: corrupt JPEG restored and saved\n",
      "\u001B[34m\u001B[1mtrain: \u001B[0m/media/abawi/e38fddf9-a92e-4c73-b905-995771f8fc3a/datasets/segmentation/yolo_style_fourclass/train/images/6 (151).jpg: corrupt JPEG restored and saved\n",
      "\u001B[34m\u001B[1mtrain: \u001B[0m/media/abawi/e38fddf9-a92e-4c73-b905-995771f8fc3a/datasets/segmentation/yolo_style_fourclass/train/images/6 (152).jpg: corrupt JPEG restored and saved\n",
      "\u001B[34m\u001B[1mtrain: \u001B[0m/media/abawi/e38fddf9-a92e-4c73-b905-995771f8fc3a/datasets/segmentation/yolo_style_fourclass/train/images/6 (154).jpg: corrupt JPEG restored and saved\n",
      "\u001B[34m\u001B[1mtrain: \u001B[0m/media/abawi/e38fddf9-a92e-4c73-b905-995771f8fc3a/datasets/segmentation/yolo_style_fourclass/train/images/6 (156).jpg: corrupt JPEG restored and saved\n",
      "\u001B[34m\u001B[1mtrain: \u001B[0m/media/abawi/e38fddf9-a92e-4c73-b905-995771f8fc3a/datasets/segmentation/yolo_style_fourclass/train/images/6 (157).jpg: corrupt JPEG restored and saved\n",
      "\u001B[34m\u001B[1mtrain: \u001B[0m/media/abawi/e38fddf9-a92e-4c73-b905-995771f8fc3a/datasets/segmentation/yolo_style_fourclass/train/images/6 (159).jpg: corrupt JPEG restored and saved\n",
      "\u001B[34m\u001B[1mtrain: \u001B[0m/media/abawi/e38fddf9-a92e-4c73-b905-995771f8fc3a/datasets/segmentation/yolo_style_fourclass/train/images/6 (16).jpg: corrupt JPEG restored and saved\n",
      "\u001B[34m\u001B[1mtrain: \u001B[0m/media/abawi/e38fddf9-a92e-4c73-b905-995771f8fc3a/datasets/segmentation/yolo_style_fourclass/train/images/6 (160).jpg: corrupt JPEG restored and saved\n",
      "\u001B[34m\u001B[1mtrain: \u001B[0m/media/abawi/e38fddf9-a92e-4c73-b905-995771f8fc3a/datasets/segmentation/yolo_style_fourclass/train/images/6 (161).jpg: corrupt JPEG restored and saved\n",
      "\u001B[34m\u001B[1mtrain: \u001B[0m/media/abawi/e38fddf9-a92e-4c73-b905-995771f8fc3a/datasets/segmentation/yolo_style_fourclass/train/images/6 (162).jpg: corrupt JPEG restored and saved\n",
      "\u001B[34m\u001B[1mtrain: \u001B[0m/media/abawi/e38fddf9-a92e-4c73-b905-995771f8fc3a/datasets/segmentation/yolo_style_fourclass/train/images/6 (163).jpg: corrupt JPEG restored and saved\n",
      "\u001B[34m\u001B[1mtrain: \u001B[0m/media/abawi/e38fddf9-a92e-4c73-b905-995771f8fc3a/datasets/segmentation/yolo_style_fourclass/train/images/6 (166).jpg: corrupt JPEG restored and saved\n",
      "\u001B[34m\u001B[1mtrain: \u001B[0m/media/abawi/e38fddf9-a92e-4c73-b905-995771f8fc3a/datasets/segmentation/yolo_style_fourclass/train/images/6 (167).jpg: corrupt JPEG restored and saved\n",
      "\u001B[34m\u001B[1mtrain: \u001B[0m/media/abawi/e38fddf9-a92e-4c73-b905-995771f8fc3a/datasets/segmentation/yolo_style_fourclass/train/images/6 (168).jpg: corrupt JPEG restored and saved\n",
      "\u001B[34m\u001B[1mtrain: \u001B[0m/media/abawi/e38fddf9-a92e-4c73-b905-995771f8fc3a/datasets/segmentation/yolo_style_fourclass/train/images/6 (169).jpg: corrupt JPEG restored and saved\n",
      "\u001B[34m\u001B[1mtrain: \u001B[0m/media/abawi/e38fddf9-a92e-4c73-b905-995771f8fc3a/datasets/segmentation/yolo_style_fourclass/train/images/6 (170).jpg: corrupt JPEG restored and saved\n",
      "\u001B[34m\u001B[1mtrain: \u001B[0m/media/abawi/e38fddf9-a92e-4c73-b905-995771f8fc3a/datasets/segmentation/yolo_style_fourclass/train/images/6 (171).jpg: corrupt JPEG restored and saved\n",
      "\u001B[34m\u001B[1mtrain: \u001B[0m/media/abawi/e38fddf9-a92e-4c73-b905-995771f8fc3a/datasets/segmentation/yolo_style_fourclass/train/images/6 (172).jpg: corrupt JPEG restored and saved\n",
      "\u001B[34m\u001B[1mtrain: \u001B[0m/media/abawi/e38fddf9-a92e-4c73-b905-995771f8fc3a/datasets/segmentation/yolo_style_fourclass/train/images/6 (173).jpg: corrupt JPEG restored and saved\n",
      "\u001B[34m\u001B[1mtrain: \u001B[0m/media/abawi/e38fddf9-a92e-4c73-b905-995771f8fc3a/datasets/segmentation/yolo_style_fourclass/train/images/6 (174).jpg: corrupt JPEG restored and saved\n",
      "\u001B[34m\u001B[1mtrain: \u001B[0m/media/abawi/e38fddf9-a92e-4c73-b905-995771f8fc3a/datasets/segmentation/yolo_style_fourclass/train/images/6 (176).jpg: corrupt JPEG restored and saved\n",
      "\u001B[34m\u001B[1mtrain: \u001B[0m/media/abawi/e38fddf9-a92e-4c73-b905-995771f8fc3a/datasets/segmentation/yolo_style_fourclass/train/images/6 (178).jpg: corrupt JPEG restored and saved\n",
      "\u001B[34m\u001B[1mtrain: \u001B[0m/media/abawi/e38fddf9-a92e-4c73-b905-995771f8fc3a/datasets/segmentation/yolo_style_fourclass/train/images/6 (179).jpg: corrupt JPEG restored and saved\n",
      "\u001B[34m\u001B[1mtrain: \u001B[0m/media/abawi/e38fddf9-a92e-4c73-b905-995771f8fc3a/datasets/segmentation/yolo_style_fourclass/train/images/6 (18).jpg: corrupt JPEG restored and saved\n",
      "\u001B[34m\u001B[1mtrain: \u001B[0m/media/abawi/e38fddf9-a92e-4c73-b905-995771f8fc3a/datasets/segmentation/yolo_style_fourclass/train/images/6 (180).jpg: corrupt JPEG restored and saved\n",
      "\u001B[34m\u001B[1mtrain: \u001B[0m/media/abawi/e38fddf9-a92e-4c73-b905-995771f8fc3a/datasets/segmentation/yolo_style_fourclass/train/images/6 (181).jpg: corrupt JPEG restored and saved\n",
      "\u001B[34m\u001B[1mtrain: \u001B[0m/media/abawi/e38fddf9-a92e-4c73-b905-995771f8fc3a/datasets/segmentation/yolo_style_fourclass/train/images/6 (182).jpg: corrupt JPEG restored and saved\n",
      "\u001B[34m\u001B[1mtrain: \u001B[0m/media/abawi/e38fddf9-a92e-4c73-b905-995771f8fc3a/datasets/segmentation/yolo_style_fourclass/train/images/6 (183).jpg: corrupt JPEG restored and saved\n",
      "\u001B[34m\u001B[1mtrain: \u001B[0m/media/abawi/e38fddf9-a92e-4c73-b905-995771f8fc3a/datasets/segmentation/yolo_style_fourclass/train/images/6 (184).jpg: corrupt JPEG restored and saved\n",
      "\u001B[34m\u001B[1mtrain: \u001B[0m/media/abawi/e38fddf9-a92e-4c73-b905-995771f8fc3a/datasets/segmentation/yolo_style_fourclass/train/images/6 (185).jpg: corrupt JPEG restored and saved\n",
      "\u001B[34m\u001B[1mtrain: \u001B[0m/media/abawi/e38fddf9-a92e-4c73-b905-995771f8fc3a/datasets/segmentation/yolo_style_fourclass/train/images/6 (186).jpg: corrupt JPEG restored and saved\n",
      "\u001B[34m\u001B[1mtrain: \u001B[0m/media/abawi/e38fddf9-a92e-4c73-b905-995771f8fc3a/datasets/segmentation/yolo_style_fourclass/train/images/6 (187).jpg: corrupt JPEG restored and saved\n",
      "\u001B[34m\u001B[1mtrain: \u001B[0m/media/abawi/e38fddf9-a92e-4c73-b905-995771f8fc3a/datasets/segmentation/yolo_style_fourclass/train/images/6 (188).jpg: corrupt JPEG restored and saved\n",
      "\u001B[34m\u001B[1mtrain: \u001B[0m/media/abawi/e38fddf9-a92e-4c73-b905-995771f8fc3a/datasets/segmentation/yolo_style_fourclass/train/images/6 (189).jpg: corrupt JPEG restored and saved\n",
      "\u001B[34m\u001B[1mtrain: \u001B[0m/media/abawi/e38fddf9-a92e-4c73-b905-995771f8fc3a/datasets/segmentation/yolo_style_fourclass/train/images/6 (19).jpg: corrupt JPEG restored and saved\n",
      "\u001B[34m\u001B[1mtrain: \u001B[0m/media/abawi/e38fddf9-a92e-4c73-b905-995771f8fc3a/datasets/segmentation/yolo_style_fourclass/train/images/6 (191).jpg: corrupt JPEG restored and saved\n",
      "\u001B[34m\u001B[1mtrain: \u001B[0m/media/abawi/e38fddf9-a92e-4c73-b905-995771f8fc3a/datasets/segmentation/yolo_style_fourclass/train/images/6 (192).jpg: corrupt JPEG restored and saved\n",
      "\u001B[34m\u001B[1mtrain: \u001B[0m/media/abawi/e38fddf9-a92e-4c73-b905-995771f8fc3a/datasets/segmentation/yolo_style_fourclass/train/images/6 (193).jpg: corrupt JPEG restored and saved\n",
      "\u001B[34m\u001B[1mtrain: \u001B[0m/media/abawi/e38fddf9-a92e-4c73-b905-995771f8fc3a/datasets/segmentation/yolo_style_fourclass/train/images/6 (194).jpg: corrupt JPEG restored and saved\n",
      "\u001B[34m\u001B[1mtrain: \u001B[0m/media/abawi/e38fddf9-a92e-4c73-b905-995771f8fc3a/datasets/segmentation/yolo_style_fourclass/train/images/6 (195).jpg: corrupt JPEG restored and saved\n",
      "\u001B[34m\u001B[1mtrain: \u001B[0m/media/abawi/e38fddf9-a92e-4c73-b905-995771f8fc3a/datasets/segmentation/yolo_style_fourclass/train/images/6 (196).jpg: corrupt JPEG restored and saved\n",
      "\u001B[34m\u001B[1mtrain: \u001B[0m/media/abawi/e38fddf9-a92e-4c73-b905-995771f8fc3a/datasets/segmentation/yolo_style_fourclass/train/images/6 (197).jpg: corrupt JPEG restored and saved\n",
      "\u001B[34m\u001B[1mtrain: \u001B[0m/media/abawi/e38fddf9-a92e-4c73-b905-995771f8fc3a/datasets/segmentation/yolo_style_fourclass/train/images/6 (198).jpg: corrupt JPEG restored and saved\n",
      "\u001B[34m\u001B[1mtrain: \u001B[0m/media/abawi/e38fddf9-a92e-4c73-b905-995771f8fc3a/datasets/segmentation/yolo_style_fourclass/train/images/6 (199).jpg: corrupt JPEG restored and saved\n",
      "\u001B[34m\u001B[1mtrain: \u001B[0m/media/abawi/e38fddf9-a92e-4c73-b905-995771f8fc3a/datasets/segmentation/yolo_style_fourclass/train/images/6 (2).jpg: corrupt JPEG restored and saved\n",
      "\u001B[34m\u001B[1mtrain: \u001B[0m/media/abawi/e38fddf9-a92e-4c73-b905-995771f8fc3a/datasets/segmentation/yolo_style_fourclass/train/images/6 (20).jpg: corrupt JPEG restored and saved\n",
      "\u001B[34m\u001B[1mtrain: \u001B[0m/media/abawi/e38fddf9-a92e-4c73-b905-995771f8fc3a/datasets/segmentation/yolo_style_fourclass/train/images/6 (200).jpg: corrupt JPEG restored and saved\n",
      "\u001B[34m\u001B[1mtrain: \u001B[0m/media/abawi/e38fddf9-a92e-4c73-b905-995771f8fc3a/datasets/segmentation/yolo_style_fourclass/train/images/6 (201).jpg: corrupt JPEG restored and saved\n",
      "\u001B[34m\u001B[1mtrain: \u001B[0m/media/abawi/e38fddf9-a92e-4c73-b905-995771f8fc3a/datasets/segmentation/yolo_style_fourclass/train/images/6 (202).jpg: corrupt JPEG restored and saved\n",
      "\u001B[34m\u001B[1mtrain: \u001B[0m/media/abawi/e38fddf9-a92e-4c73-b905-995771f8fc3a/datasets/segmentation/yolo_style_fourclass/train/images/6 (203).jpg: corrupt JPEG restored and saved\n",
      "\u001B[34m\u001B[1mtrain: \u001B[0m/media/abawi/e38fddf9-a92e-4c73-b905-995771f8fc3a/datasets/segmentation/yolo_style_fourclass/train/images/6 (204).jpg: corrupt JPEG restored and saved\n",
      "\u001B[34m\u001B[1mtrain: \u001B[0m/media/abawi/e38fddf9-a92e-4c73-b905-995771f8fc3a/datasets/segmentation/yolo_style_fourclass/train/images/6 (205).jpg: corrupt JPEG restored and saved\n",
      "\u001B[34m\u001B[1mtrain: \u001B[0m/media/abawi/e38fddf9-a92e-4c73-b905-995771f8fc3a/datasets/segmentation/yolo_style_fourclass/train/images/6 (206).jpg: corrupt JPEG restored and saved\n",
      "\u001B[34m\u001B[1mtrain: \u001B[0m/media/abawi/e38fddf9-a92e-4c73-b905-995771f8fc3a/datasets/segmentation/yolo_style_fourclass/train/images/6 (207).jpg: corrupt JPEG restored and saved\n",
      "\u001B[34m\u001B[1mtrain: \u001B[0m/media/abawi/e38fddf9-a92e-4c73-b905-995771f8fc3a/datasets/segmentation/yolo_style_fourclass/train/images/6 (208).jpg: corrupt JPEG restored and saved\n",
      "\u001B[34m\u001B[1mtrain: \u001B[0m/media/abawi/e38fddf9-a92e-4c73-b905-995771f8fc3a/datasets/segmentation/yolo_style_fourclass/train/images/6 (209).jpg: corrupt JPEG restored and saved\n",
      "\u001B[34m\u001B[1mtrain: \u001B[0m/media/abawi/e38fddf9-a92e-4c73-b905-995771f8fc3a/datasets/segmentation/yolo_style_fourclass/train/images/6 (21).jpg: corrupt JPEG restored and saved\n",
      "\u001B[34m\u001B[1mtrain: \u001B[0m/media/abawi/e38fddf9-a92e-4c73-b905-995771f8fc3a/datasets/segmentation/yolo_style_fourclass/train/images/6 (210).jpg: corrupt JPEG restored and saved\n",
      "\u001B[34m\u001B[1mtrain: \u001B[0m/media/abawi/e38fddf9-a92e-4c73-b905-995771f8fc3a/datasets/segmentation/yolo_style_fourclass/train/images/6 (211).jpg: corrupt JPEG restored and saved\n",
      "\u001B[34m\u001B[1mtrain: \u001B[0m/media/abawi/e38fddf9-a92e-4c73-b905-995771f8fc3a/datasets/segmentation/yolo_style_fourclass/train/images/6 (212).jpg: corrupt JPEG restored and saved\n",
      "\u001B[34m\u001B[1mtrain: \u001B[0m/media/abawi/e38fddf9-a92e-4c73-b905-995771f8fc3a/datasets/segmentation/yolo_style_fourclass/train/images/6 (213).jpg: corrupt JPEG restored and saved\n",
      "\u001B[34m\u001B[1mtrain: \u001B[0m/media/abawi/e38fddf9-a92e-4c73-b905-995771f8fc3a/datasets/segmentation/yolo_style_fourclass/train/images/6 (214).jpg: corrupt JPEG restored and saved\n",
      "\u001B[34m\u001B[1mtrain: \u001B[0m/media/abawi/e38fddf9-a92e-4c73-b905-995771f8fc3a/datasets/segmentation/yolo_style_fourclass/train/images/6 (215).jpg: corrupt JPEG restored and saved\n",
      "\u001B[34m\u001B[1mtrain: \u001B[0m/media/abawi/e38fddf9-a92e-4c73-b905-995771f8fc3a/datasets/segmentation/yolo_style_fourclass/train/images/6 (216).jpg: corrupt JPEG restored and saved\n",
      "\u001B[34m\u001B[1mtrain: \u001B[0m/media/abawi/e38fddf9-a92e-4c73-b905-995771f8fc3a/datasets/segmentation/yolo_style_fourclass/train/images/6 (217).jpg: corrupt JPEG restored and saved\n",
      "\u001B[34m\u001B[1mtrain: \u001B[0m/media/abawi/e38fddf9-a92e-4c73-b905-995771f8fc3a/datasets/segmentation/yolo_style_fourclass/train/images/6 (218).jpg: corrupt JPEG restored and saved\n",
      "\u001B[34m\u001B[1mtrain: \u001B[0m/media/abawi/e38fddf9-a92e-4c73-b905-995771f8fc3a/datasets/segmentation/yolo_style_fourclass/train/images/6 (219).jpg: corrupt JPEG restored and saved\n",
      "\u001B[34m\u001B[1mtrain: \u001B[0m/media/abawi/e38fddf9-a92e-4c73-b905-995771f8fc3a/datasets/segmentation/yolo_style_fourclass/train/images/6 (22).jpg: corrupt JPEG restored and saved\n",
      "\u001B[34m\u001B[1mtrain: \u001B[0m/media/abawi/e38fddf9-a92e-4c73-b905-995771f8fc3a/datasets/segmentation/yolo_style_fourclass/train/images/6 (220).jpg: corrupt JPEG restored and saved\n",
      "\u001B[34m\u001B[1mtrain: \u001B[0m/media/abawi/e38fddf9-a92e-4c73-b905-995771f8fc3a/datasets/segmentation/yolo_style_fourclass/train/images/6 (221).jpg: corrupt JPEG restored and saved\n",
      "\u001B[34m\u001B[1mtrain: \u001B[0m/media/abawi/e38fddf9-a92e-4c73-b905-995771f8fc3a/datasets/segmentation/yolo_style_fourclass/train/images/6 (222).jpg: corrupt JPEG restored and saved\n",
      "\u001B[34m\u001B[1mtrain: \u001B[0m/media/abawi/e38fddf9-a92e-4c73-b905-995771f8fc3a/datasets/segmentation/yolo_style_fourclass/train/images/6 (223).jpg: corrupt JPEG restored and saved\n",
      "\u001B[34m\u001B[1mtrain: \u001B[0m/media/abawi/e38fddf9-a92e-4c73-b905-995771f8fc3a/datasets/segmentation/yolo_style_fourclass/train/images/6 (224).jpg: corrupt JPEG restored and saved\n",
      "\u001B[34m\u001B[1mtrain: \u001B[0m/media/abawi/e38fddf9-a92e-4c73-b905-995771f8fc3a/datasets/segmentation/yolo_style_fourclass/train/images/6 (225).jpg: corrupt JPEG restored and saved\n",
      "\u001B[34m\u001B[1mtrain: \u001B[0m/media/abawi/e38fddf9-a92e-4c73-b905-995771f8fc3a/datasets/segmentation/yolo_style_fourclass/train/images/6 (226).jpg: corrupt JPEG restored and saved\n",
      "\u001B[34m\u001B[1mtrain: \u001B[0m/media/abawi/e38fddf9-a92e-4c73-b905-995771f8fc3a/datasets/segmentation/yolo_style_fourclass/train/images/6 (228).jpg: corrupt JPEG restored and saved\n",
      "\u001B[34m\u001B[1mtrain: \u001B[0m/media/abawi/e38fddf9-a92e-4c73-b905-995771f8fc3a/datasets/segmentation/yolo_style_fourclass/train/images/6 (229).jpg: corrupt JPEG restored and saved\n",
      "\u001B[34m\u001B[1mtrain: \u001B[0m/media/abawi/e38fddf9-a92e-4c73-b905-995771f8fc3a/datasets/segmentation/yolo_style_fourclass/train/images/6 (23).jpg: corrupt JPEG restored and saved\n",
      "\u001B[34m\u001B[1mtrain: \u001B[0m/media/abawi/e38fddf9-a92e-4c73-b905-995771f8fc3a/datasets/segmentation/yolo_style_fourclass/train/images/6 (230).jpg: corrupt JPEG restored and saved\n",
      "\u001B[34m\u001B[1mtrain: \u001B[0m/media/abawi/e38fddf9-a92e-4c73-b905-995771f8fc3a/datasets/segmentation/yolo_style_fourclass/train/images/6 (231).jpg: corrupt JPEG restored and saved\n",
      "\u001B[34m\u001B[1mtrain: \u001B[0m/media/abawi/e38fddf9-a92e-4c73-b905-995771f8fc3a/datasets/segmentation/yolo_style_fourclass/train/images/6 (232).jpg: corrupt JPEG restored and saved\n",
      "\u001B[34m\u001B[1mtrain: \u001B[0m/media/abawi/e38fddf9-a92e-4c73-b905-995771f8fc3a/datasets/segmentation/yolo_style_fourclass/train/images/6 (233).jpg: corrupt JPEG restored and saved\n",
      "\u001B[34m\u001B[1mtrain: \u001B[0m/media/abawi/e38fddf9-a92e-4c73-b905-995771f8fc3a/datasets/segmentation/yolo_style_fourclass/train/images/6 (234).jpg: corrupt JPEG restored and saved\n",
      "\u001B[34m\u001B[1mtrain: \u001B[0m/media/abawi/e38fddf9-a92e-4c73-b905-995771f8fc3a/datasets/segmentation/yolo_style_fourclass/train/images/6 (235).jpg: corrupt JPEG restored and saved\n",
      "\u001B[34m\u001B[1mtrain: \u001B[0m/media/abawi/e38fddf9-a92e-4c73-b905-995771f8fc3a/datasets/segmentation/yolo_style_fourclass/train/images/6 (236).jpg: corrupt JPEG restored and saved\n",
      "\u001B[34m\u001B[1mtrain: \u001B[0m/media/abawi/e38fddf9-a92e-4c73-b905-995771f8fc3a/datasets/segmentation/yolo_style_fourclass/train/images/6 (238).jpg: corrupt JPEG restored and saved\n",
      "\u001B[34m\u001B[1mtrain: \u001B[0m/media/abawi/e38fddf9-a92e-4c73-b905-995771f8fc3a/datasets/segmentation/yolo_style_fourclass/train/images/6 (239).jpg: corrupt JPEG restored and saved\n",
      "\u001B[34m\u001B[1mtrain: \u001B[0m/media/abawi/e38fddf9-a92e-4c73-b905-995771f8fc3a/datasets/segmentation/yolo_style_fourclass/train/images/6 (24).jpg: corrupt JPEG restored and saved\n",
      "\u001B[34m\u001B[1mtrain: \u001B[0m/media/abawi/e38fddf9-a92e-4c73-b905-995771f8fc3a/datasets/segmentation/yolo_style_fourclass/train/images/6 (240).jpg: corrupt JPEG restored and saved\n",
      "\u001B[34m\u001B[1mtrain: \u001B[0m/media/abawi/e38fddf9-a92e-4c73-b905-995771f8fc3a/datasets/segmentation/yolo_style_fourclass/train/images/6 (242).jpg: corrupt JPEG restored and saved\n",
      "\u001B[34m\u001B[1mtrain: \u001B[0m/media/abawi/e38fddf9-a92e-4c73-b905-995771f8fc3a/datasets/segmentation/yolo_style_fourclass/train/images/6 (245).jpg: corrupt JPEG restored and saved\n",
      "\u001B[34m\u001B[1mtrain: \u001B[0m/media/abawi/e38fddf9-a92e-4c73-b905-995771f8fc3a/datasets/segmentation/yolo_style_fourclass/train/images/6 (246).jpg: corrupt JPEG restored and saved\n",
      "\u001B[34m\u001B[1mtrain: \u001B[0m/media/abawi/e38fddf9-a92e-4c73-b905-995771f8fc3a/datasets/segmentation/yolo_style_fourclass/train/images/6 (247).jpg: corrupt JPEG restored and saved\n",
      "\u001B[34m\u001B[1mtrain: \u001B[0m/media/abawi/e38fddf9-a92e-4c73-b905-995771f8fc3a/datasets/segmentation/yolo_style_fourclass/train/images/6 (248).jpg: corrupt JPEG restored and saved\n",
      "\u001B[34m\u001B[1mtrain: \u001B[0m/media/abawi/e38fddf9-a92e-4c73-b905-995771f8fc3a/datasets/segmentation/yolo_style_fourclass/train/images/6 (25).jpg: corrupt JPEG restored and saved\n",
      "\u001B[34m\u001B[1mtrain: \u001B[0m/media/abawi/e38fddf9-a92e-4c73-b905-995771f8fc3a/datasets/segmentation/yolo_style_fourclass/train/images/6 (26).jpg: corrupt JPEG restored and saved\n",
      "\u001B[34m\u001B[1mtrain: \u001B[0m/media/abawi/e38fddf9-a92e-4c73-b905-995771f8fc3a/datasets/segmentation/yolo_style_fourclass/train/images/6 (27).jpg: corrupt JPEG restored and saved\n",
      "\u001B[34m\u001B[1mtrain: \u001B[0m/media/abawi/e38fddf9-a92e-4c73-b905-995771f8fc3a/datasets/segmentation/yolo_style_fourclass/train/images/6 (28).jpg: corrupt JPEG restored and saved\n",
      "\u001B[34m\u001B[1mtrain: \u001B[0m/media/abawi/e38fddf9-a92e-4c73-b905-995771f8fc3a/datasets/segmentation/yolo_style_fourclass/train/images/6 (29).jpg: corrupt JPEG restored and saved\n",
      "\u001B[34m\u001B[1mtrain: \u001B[0m/media/abawi/e38fddf9-a92e-4c73-b905-995771f8fc3a/datasets/segmentation/yolo_style_fourclass/train/images/6 (3).jpg: corrupt JPEG restored and saved\n",
      "\u001B[34m\u001B[1mtrain: \u001B[0m/media/abawi/e38fddf9-a92e-4c73-b905-995771f8fc3a/datasets/segmentation/yolo_style_fourclass/train/images/6 (30).jpg: corrupt JPEG restored and saved\n",
      "\u001B[34m\u001B[1mtrain: \u001B[0m/media/abawi/e38fddf9-a92e-4c73-b905-995771f8fc3a/datasets/segmentation/yolo_style_fourclass/train/images/6 (31).jpg: corrupt JPEG restored and saved\n",
      "\u001B[34m\u001B[1mtrain: \u001B[0m/media/abawi/e38fddf9-a92e-4c73-b905-995771f8fc3a/datasets/segmentation/yolo_style_fourclass/train/images/6 (32).jpg: corrupt JPEG restored and saved\n",
      "\u001B[34m\u001B[1mtrain: \u001B[0m/media/abawi/e38fddf9-a92e-4c73-b905-995771f8fc3a/datasets/segmentation/yolo_style_fourclass/train/images/6 (33).jpg: corrupt JPEG restored and saved\n",
      "\u001B[34m\u001B[1mtrain: \u001B[0m/media/abawi/e38fddf9-a92e-4c73-b905-995771f8fc3a/datasets/segmentation/yolo_style_fourclass/train/images/6 (34).jpg: corrupt JPEG restored and saved\n",
      "\u001B[34m\u001B[1mtrain: \u001B[0m/media/abawi/e38fddf9-a92e-4c73-b905-995771f8fc3a/datasets/segmentation/yolo_style_fourclass/train/images/6 (35).jpg: corrupt JPEG restored and saved\n",
      "\u001B[34m\u001B[1mtrain: \u001B[0m/media/abawi/e38fddf9-a92e-4c73-b905-995771f8fc3a/datasets/segmentation/yolo_style_fourclass/train/images/6 (36).jpg: corrupt JPEG restored and saved\n",
      "\u001B[34m\u001B[1mtrain: \u001B[0m/media/abawi/e38fddf9-a92e-4c73-b905-995771f8fc3a/datasets/segmentation/yolo_style_fourclass/train/images/6 (37).jpg: corrupt JPEG restored and saved\n",
      "\u001B[34m\u001B[1mtrain: \u001B[0m/media/abawi/e38fddf9-a92e-4c73-b905-995771f8fc3a/datasets/segmentation/yolo_style_fourclass/train/images/6 (38).jpg: corrupt JPEG restored and saved\n",
      "\u001B[34m\u001B[1mtrain: \u001B[0m/media/abawi/e38fddf9-a92e-4c73-b905-995771f8fc3a/datasets/segmentation/yolo_style_fourclass/train/images/6 (39).jpg: corrupt JPEG restored and saved\n",
      "\u001B[34m\u001B[1mtrain: \u001B[0m/media/abawi/e38fddf9-a92e-4c73-b905-995771f8fc3a/datasets/segmentation/yolo_style_fourclass/train/images/6 (4).jpg: corrupt JPEG restored and saved\n",
      "\u001B[34m\u001B[1mtrain: \u001B[0m/media/abawi/e38fddf9-a92e-4c73-b905-995771f8fc3a/datasets/segmentation/yolo_style_fourclass/train/images/6 (40).jpg: corrupt JPEG restored and saved\n",
      "\u001B[34m\u001B[1mtrain: \u001B[0m/media/abawi/e38fddf9-a92e-4c73-b905-995771f8fc3a/datasets/segmentation/yolo_style_fourclass/train/images/6 (41).jpg: corrupt JPEG restored and saved\n",
      "\u001B[34m\u001B[1mtrain: \u001B[0m/media/abawi/e38fddf9-a92e-4c73-b905-995771f8fc3a/datasets/segmentation/yolo_style_fourclass/train/images/6 (42).jpg: corrupt JPEG restored and saved\n",
      "\u001B[34m\u001B[1mtrain: \u001B[0m/media/abawi/e38fddf9-a92e-4c73-b905-995771f8fc3a/datasets/segmentation/yolo_style_fourclass/train/images/6 (43).jpg: corrupt JPEG restored and saved\n",
      "\u001B[34m\u001B[1mtrain: \u001B[0m/media/abawi/e38fddf9-a92e-4c73-b905-995771f8fc3a/datasets/segmentation/yolo_style_fourclass/train/images/6 (44).jpg: corrupt JPEG restored and saved\n",
      "\u001B[34m\u001B[1mtrain: \u001B[0m/media/abawi/e38fddf9-a92e-4c73-b905-995771f8fc3a/datasets/segmentation/yolo_style_fourclass/train/images/6 (45).jpg: corrupt JPEG restored and saved\n",
      "\u001B[34m\u001B[1mtrain: \u001B[0m/media/abawi/e38fddf9-a92e-4c73-b905-995771f8fc3a/datasets/segmentation/yolo_style_fourclass/train/images/6 (46).jpg: corrupt JPEG restored and saved\n",
      "\u001B[34m\u001B[1mtrain: \u001B[0m/media/abawi/e38fddf9-a92e-4c73-b905-995771f8fc3a/datasets/segmentation/yolo_style_fourclass/train/images/6 (47).jpg: corrupt JPEG restored and saved\n",
      "\u001B[34m\u001B[1mtrain: \u001B[0m/media/abawi/e38fddf9-a92e-4c73-b905-995771f8fc3a/datasets/segmentation/yolo_style_fourclass/train/images/6 (48).jpg: corrupt JPEG restored and saved\n",
      "\u001B[34m\u001B[1mtrain: \u001B[0m/media/abawi/e38fddf9-a92e-4c73-b905-995771f8fc3a/datasets/segmentation/yolo_style_fourclass/train/images/6 (49).jpg: corrupt JPEG restored and saved\n",
      "\u001B[34m\u001B[1mtrain: \u001B[0m/media/abawi/e38fddf9-a92e-4c73-b905-995771f8fc3a/datasets/segmentation/yolo_style_fourclass/train/images/6 (5).jpg: corrupt JPEG restored and saved\n",
      "\u001B[34m\u001B[1mtrain: \u001B[0m/media/abawi/e38fddf9-a92e-4c73-b905-995771f8fc3a/datasets/segmentation/yolo_style_fourclass/train/images/6 (50).jpg: corrupt JPEG restored and saved\n",
      "\u001B[34m\u001B[1mtrain: \u001B[0m/media/abawi/e38fddf9-a92e-4c73-b905-995771f8fc3a/datasets/segmentation/yolo_style_fourclass/train/images/6 (51).jpg: corrupt JPEG restored and saved\n",
      "\u001B[34m\u001B[1mtrain: \u001B[0m/media/abawi/e38fddf9-a92e-4c73-b905-995771f8fc3a/datasets/segmentation/yolo_style_fourclass/train/images/6 (52).jpg: corrupt JPEG restored and saved\n",
      "\u001B[34m\u001B[1mtrain: \u001B[0m/media/abawi/e38fddf9-a92e-4c73-b905-995771f8fc3a/datasets/segmentation/yolo_style_fourclass/train/images/6 (54).jpg: corrupt JPEG restored and saved\n",
      "\u001B[34m\u001B[1mtrain: \u001B[0m/media/abawi/e38fddf9-a92e-4c73-b905-995771f8fc3a/datasets/segmentation/yolo_style_fourclass/train/images/6 (55).jpg: corrupt JPEG restored and saved\n",
      "\u001B[34m\u001B[1mtrain: \u001B[0m/media/abawi/e38fddf9-a92e-4c73-b905-995771f8fc3a/datasets/segmentation/yolo_style_fourclass/train/images/6 (56).jpg: corrupt JPEG restored and saved\n",
      "\u001B[34m\u001B[1mtrain: \u001B[0m/media/abawi/e38fddf9-a92e-4c73-b905-995771f8fc3a/datasets/segmentation/yolo_style_fourclass/train/images/6 (57).jpg: corrupt JPEG restored and saved\n",
      "\u001B[34m\u001B[1mtrain: \u001B[0m/media/abawi/e38fddf9-a92e-4c73-b905-995771f8fc3a/datasets/segmentation/yolo_style_fourclass/train/images/6 (58).jpg: corrupt JPEG restored and saved\n",
      "\u001B[34m\u001B[1mtrain: \u001B[0m/media/abawi/e38fddf9-a92e-4c73-b905-995771f8fc3a/datasets/segmentation/yolo_style_fourclass/train/images/6 (59).jpg: corrupt JPEG restored and saved\n",
      "\u001B[34m\u001B[1mtrain: \u001B[0m/media/abawi/e38fddf9-a92e-4c73-b905-995771f8fc3a/datasets/segmentation/yolo_style_fourclass/train/images/6 (61).jpg: corrupt JPEG restored and saved\n",
      "\u001B[34m\u001B[1mtrain: \u001B[0m/media/abawi/e38fddf9-a92e-4c73-b905-995771f8fc3a/datasets/segmentation/yolo_style_fourclass/train/images/6 (62).jpg: corrupt JPEG restored and saved\n",
      "\u001B[34m\u001B[1mtrain: \u001B[0m/media/abawi/e38fddf9-a92e-4c73-b905-995771f8fc3a/datasets/segmentation/yolo_style_fourclass/train/images/6 (64).jpg: corrupt JPEG restored and saved\n",
      "\u001B[34m\u001B[1mtrain: \u001B[0m/media/abawi/e38fddf9-a92e-4c73-b905-995771f8fc3a/datasets/segmentation/yolo_style_fourclass/train/images/6 (65).jpg: corrupt JPEG restored and saved\n",
      "\u001B[34m\u001B[1mtrain: \u001B[0m/media/abawi/e38fddf9-a92e-4c73-b905-995771f8fc3a/datasets/segmentation/yolo_style_fourclass/train/images/6 (66).jpg: corrupt JPEG restored and saved\n",
      "\u001B[34m\u001B[1mtrain: \u001B[0m/media/abawi/e38fddf9-a92e-4c73-b905-995771f8fc3a/datasets/segmentation/yolo_style_fourclass/train/images/6 (67).jpg: corrupt JPEG restored and saved\n",
      "\u001B[34m\u001B[1mtrain: \u001B[0m/media/abawi/e38fddf9-a92e-4c73-b905-995771f8fc3a/datasets/segmentation/yolo_style_fourclass/train/images/6 (69).jpg: corrupt JPEG restored and saved\n",
      "\u001B[34m\u001B[1mtrain: \u001B[0m/media/abawi/e38fddf9-a92e-4c73-b905-995771f8fc3a/datasets/segmentation/yolo_style_fourclass/train/images/6 (7).jpg: corrupt JPEG restored and saved\n",
      "\u001B[34m\u001B[1mtrain: \u001B[0m/media/abawi/e38fddf9-a92e-4c73-b905-995771f8fc3a/datasets/segmentation/yolo_style_fourclass/train/images/6 (70).jpg: corrupt JPEG restored and saved\n",
      "\u001B[34m\u001B[1mtrain: \u001B[0m/media/abawi/e38fddf9-a92e-4c73-b905-995771f8fc3a/datasets/segmentation/yolo_style_fourclass/train/images/6 (71).jpg: corrupt JPEG restored and saved\n",
      "\u001B[34m\u001B[1mtrain: \u001B[0m/media/abawi/e38fddf9-a92e-4c73-b905-995771f8fc3a/datasets/segmentation/yolo_style_fourclass/train/images/6 (72).jpg: corrupt JPEG restored and saved\n",
      "\u001B[34m\u001B[1mtrain: \u001B[0m/media/abawi/e38fddf9-a92e-4c73-b905-995771f8fc3a/datasets/segmentation/yolo_style_fourclass/train/images/6 (73).jpg: corrupt JPEG restored and saved\n",
      "\u001B[34m\u001B[1mtrain: \u001B[0m/media/abawi/e38fddf9-a92e-4c73-b905-995771f8fc3a/datasets/segmentation/yolo_style_fourclass/train/images/6 (74).jpg: corrupt JPEG restored and saved\n",
      "\u001B[34m\u001B[1mtrain: \u001B[0m/media/abawi/e38fddf9-a92e-4c73-b905-995771f8fc3a/datasets/segmentation/yolo_style_fourclass/train/images/6 (75).jpg: corrupt JPEG restored and saved\n",
      "\u001B[34m\u001B[1mtrain: \u001B[0m/media/abawi/e38fddf9-a92e-4c73-b905-995771f8fc3a/datasets/segmentation/yolo_style_fourclass/train/images/6 (76).jpg: corrupt JPEG restored and saved\n",
      "\u001B[34m\u001B[1mtrain: \u001B[0m/media/abawi/e38fddf9-a92e-4c73-b905-995771f8fc3a/datasets/segmentation/yolo_style_fourclass/train/images/6 (77).jpg: corrupt JPEG restored and saved\n",
      "\u001B[34m\u001B[1mtrain: \u001B[0m/media/abawi/e38fddf9-a92e-4c73-b905-995771f8fc3a/datasets/segmentation/yolo_style_fourclass/train/images/6 (8).jpg: corrupt JPEG restored and saved\n",
      "\u001B[34m\u001B[1mtrain: \u001B[0m/media/abawi/e38fddf9-a92e-4c73-b905-995771f8fc3a/datasets/segmentation/yolo_style_fourclass/train/images/6 (80).jpg: corrupt JPEG restored and saved\n",
      "\u001B[34m\u001B[1mtrain: \u001B[0m/media/abawi/e38fddf9-a92e-4c73-b905-995771f8fc3a/datasets/segmentation/yolo_style_fourclass/train/images/6 (81).jpg: corrupt JPEG restored and saved\n",
      "\u001B[34m\u001B[1mtrain: \u001B[0m/media/abawi/e38fddf9-a92e-4c73-b905-995771f8fc3a/datasets/segmentation/yolo_style_fourclass/train/images/6 (82).jpg: corrupt JPEG restored and saved\n",
      "\u001B[34m\u001B[1mtrain: \u001B[0m/media/abawi/e38fddf9-a92e-4c73-b905-995771f8fc3a/datasets/segmentation/yolo_style_fourclass/train/images/6 (83).jpg: corrupt JPEG restored and saved\n",
      "\u001B[34m\u001B[1mtrain: \u001B[0m/media/abawi/e38fddf9-a92e-4c73-b905-995771f8fc3a/datasets/segmentation/yolo_style_fourclass/train/images/6 (84).jpg: corrupt JPEG restored and saved\n",
      "\u001B[34m\u001B[1mtrain: \u001B[0m/media/abawi/e38fddf9-a92e-4c73-b905-995771f8fc3a/datasets/segmentation/yolo_style_fourclass/train/images/6 (85).jpg: corrupt JPEG restored and saved\n",
      "\u001B[34m\u001B[1mtrain: \u001B[0m/media/abawi/e38fddf9-a92e-4c73-b905-995771f8fc3a/datasets/segmentation/yolo_style_fourclass/train/images/6 (86).jpg: corrupt JPEG restored and saved\n",
      "\u001B[34m\u001B[1mtrain: \u001B[0m/media/abawi/e38fddf9-a92e-4c73-b905-995771f8fc3a/datasets/segmentation/yolo_style_fourclass/train/images/6 (87).jpg: corrupt JPEG restored and saved\n",
      "\u001B[34m\u001B[1mtrain: \u001B[0m/media/abawi/e38fddf9-a92e-4c73-b905-995771f8fc3a/datasets/segmentation/yolo_style_fourclass/train/images/6 (88).jpg: corrupt JPEG restored and saved\n",
      "\u001B[34m\u001B[1mtrain: \u001B[0m/media/abawi/e38fddf9-a92e-4c73-b905-995771f8fc3a/datasets/segmentation/yolo_style_fourclass/train/images/6 (89).jpg: corrupt JPEG restored and saved\n",
      "\u001B[34m\u001B[1mtrain: \u001B[0m/media/abawi/e38fddf9-a92e-4c73-b905-995771f8fc3a/datasets/segmentation/yolo_style_fourclass/train/images/6 (9).jpg: corrupt JPEG restored and saved\n",
      "\u001B[34m\u001B[1mtrain: \u001B[0m/media/abawi/e38fddf9-a92e-4c73-b905-995771f8fc3a/datasets/segmentation/yolo_style_fourclass/train/images/6 (90).jpg: corrupt JPEG restored and saved\n",
      "\u001B[34m\u001B[1mtrain: \u001B[0m/media/abawi/e38fddf9-a92e-4c73-b905-995771f8fc3a/datasets/segmentation/yolo_style_fourclass/train/images/6 (91).jpg: corrupt JPEG restored and saved\n",
      "\u001B[34m\u001B[1mtrain: \u001B[0m/media/abawi/e38fddf9-a92e-4c73-b905-995771f8fc3a/datasets/segmentation/yolo_style_fourclass/train/images/6 (92).jpg: corrupt JPEG restored and saved\n",
      "\u001B[34m\u001B[1mtrain: \u001B[0m/media/abawi/e38fddf9-a92e-4c73-b905-995771f8fc3a/datasets/segmentation/yolo_style_fourclass/train/images/6 (94).jpg: corrupt JPEG restored and saved\n",
      "\u001B[34m\u001B[1mtrain: \u001B[0m/media/abawi/e38fddf9-a92e-4c73-b905-995771f8fc3a/datasets/segmentation/yolo_style_fourclass/train/images/6 (96).jpg: corrupt JPEG restored and saved\n",
      "\u001B[34m\u001B[1mtrain: \u001B[0m/media/abawi/e38fddf9-a92e-4c73-b905-995771f8fc3a/datasets/segmentation/yolo_style_fourclass/train/images/6 (97).jpg: corrupt JPEG restored and saved\n",
      "\u001B[34m\u001B[1mtrain: \u001B[0m/media/abawi/e38fddf9-a92e-4c73-b905-995771f8fc3a/datasets/segmentation/yolo_style_fourclass/train/images/6 (98).jpg: corrupt JPEG restored and saved\n",
      "\u001B[34m\u001B[1mtrain: \u001B[0m/media/abawi/e38fddf9-a92e-4c73-b905-995771f8fc3a/datasets/segmentation/yolo_style_fourclass/train/images/6 (99).jpg: corrupt JPEG restored and saved\n",
      "\u001B[34m\u001B[1mtrain: \u001B[0m/media/abawi/e38fddf9-a92e-4c73-b905-995771f8fc3a/datasets/segmentation/yolo_style_fourclass/train/images/612.jpg: corrupt JPEG restored and saved\n",
      "\u001B[34m\u001B[1mtrain: \u001B[0m/media/abawi/e38fddf9-a92e-4c73-b905-995771f8fc3a/datasets/segmentation/yolo_style_fourclass/train/images/63.jpg: corrupt JPEG restored and saved\n",
      "\u001B[34m\u001B[1mtrain: \u001B[0m/media/abawi/e38fddf9-a92e-4c73-b905-995771f8fc3a/datasets/segmentation/yolo_style_fourclass/train/images/64.jpg: corrupt JPEG restored and saved\n",
      "\u001B[34m\u001B[1mtrain: \u001B[0m/media/abawi/e38fddf9-a92e-4c73-b905-995771f8fc3a/datasets/segmentation/yolo_style_fourclass/train/images/642.jpg: corrupt JPEG restored and saved\n",
      "\u001B[34m\u001B[1mtrain: \u001B[0m/media/abawi/e38fddf9-a92e-4c73-b905-995771f8fc3a/datasets/segmentation/yolo_style_fourclass/train/images/647.jpg: corrupt JPEG restored and saved\n",
      "\u001B[34m\u001B[1mtrain: \u001B[0m/media/abawi/e38fddf9-a92e-4c73-b905-995771f8fc3a/datasets/segmentation/yolo_style_fourclass/train/images/648.jpg: corrupt JPEG restored and saved\n",
      "\u001B[34m\u001B[1mtrain: \u001B[0m/media/abawi/e38fddf9-a92e-4c73-b905-995771f8fc3a/datasets/segmentation/yolo_style_fourclass/train/images/649.jpg: corrupt JPEG restored and saved\n",
      "\u001B[34m\u001B[1mtrain: \u001B[0m/media/abawi/e38fddf9-a92e-4c73-b905-995771f8fc3a/datasets/segmentation/yolo_style_fourclass/train/images/656.jpg: corrupt JPEG restored and saved\n",
      "\u001B[34m\u001B[1mtrain: \u001B[0m/media/abawi/e38fddf9-a92e-4c73-b905-995771f8fc3a/datasets/segmentation/yolo_style_fourclass/train/images/67.jpg: corrupt JPEG restored and saved\n",
      "\u001B[34m\u001B[1mtrain: \u001B[0m/media/abawi/e38fddf9-a92e-4c73-b905-995771f8fc3a/datasets/segmentation/yolo_style_fourclass/train/images/672.jpg: corrupt JPEG restored and saved\n",
      "\u001B[34m\u001B[1mtrain: \u001B[0m/media/abawi/e38fddf9-a92e-4c73-b905-995771f8fc3a/datasets/segmentation/yolo_style_fourclass/train/images/673.jpg: corrupt JPEG restored and saved\n",
      "\u001B[34m\u001B[1mtrain: \u001B[0m/media/abawi/e38fddf9-a92e-4c73-b905-995771f8fc3a/datasets/segmentation/yolo_style_fourclass/train/images/684.jpg: corrupt JPEG restored and saved\n",
      "\u001B[34m\u001B[1mtrain: \u001B[0m/media/abawi/e38fddf9-a92e-4c73-b905-995771f8fc3a/datasets/segmentation/yolo_style_fourclass/train/images/7.jpg: corrupt JPEG restored and saved\n",
      "\u001B[34m\u001B[1mtrain: \u001B[0m/media/abawi/e38fddf9-a92e-4c73-b905-995771f8fc3a/datasets/segmentation/yolo_style_fourclass/train/images/717.jpg: corrupt JPEG restored and saved\n",
      "\u001B[34m\u001B[1mtrain: \u001B[0m/media/abawi/e38fddf9-a92e-4c73-b905-995771f8fc3a/datasets/segmentation/yolo_style_fourclass/train/images/741.jpg: corrupt JPEG restored and saved\n",
      "\u001B[34m\u001B[1mtrain: \u001B[0m/media/abawi/e38fddf9-a92e-4c73-b905-995771f8fc3a/datasets/segmentation/yolo_style_fourclass/train/images/766.jpg: corrupt JPEG restored and saved\n",
      "\u001B[34m\u001B[1mtrain: \u001B[0m/media/abawi/e38fddf9-a92e-4c73-b905-995771f8fc3a/datasets/segmentation/yolo_style_fourclass/train/images/792.jpg: corrupt JPEG restored and saved\n",
      "\u001B[34m\u001B[1mtrain: \u001B[0m/media/abawi/e38fddf9-a92e-4c73-b905-995771f8fc3a/datasets/segmentation/yolo_style_fourclass/train/images/82.jpg: ignoring corrupt image/label: broken data stream when reading image file\n",
      "\u001B[34m\u001B[1mtrain: \u001B[0m/media/abawi/e38fddf9-a92e-4c73-b905-995771f8fc3a/datasets/segmentation/yolo_style_fourclass/train/images/830.jpg: corrupt JPEG restored and saved\n",
      "\u001B[34m\u001B[1mtrain: \u001B[0m/media/abawi/e38fddf9-a92e-4c73-b905-995771f8fc3a/datasets/segmentation/yolo_style_fourclass/train/images/846.jpg: corrupt JPEG restored and saved\n",
      "\u001B[34m\u001B[1mtrain: \u001B[0m/media/abawi/e38fddf9-a92e-4c73-b905-995771f8fc3a/datasets/segmentation/yolo_style_fourclass/train/images/847.jpg: corrupt JPEG restored and saved\n",
      "\u001B[34m\u001B[1mtrain: \u001B[0m/media/abawi/e38fddf9-a92e-4c73-b905-995771f8fc3a/datasets/segmentation/yolo_style_fourclass/train/images/88.jpg: corrupt JPEG restored and saved\n",
      "\u001B[34m\u001B[1mtrain: \u001B[0m/media/abawi/e38fddf9-a92e-4c73-b905-995771f8fc3a/datasets/segmentation/yolo_style_fourclass/train/images/883.jpg: corrupt JPEG restored and saved\n",
      "\u001B[34m\u001B[1mtrain: \u001B[0m/media/abawi/e38fddf9-a92e-4c73-b905-995771f8fc3a/datasets/segmentation/yolo_style_fourclass/train/images/894.jpg: corrupt JPEG restored and saved\n",
      "\u001B[34m\u001B[1mtrain: \u001B[0m/media/abawi/e38fddf9-a92e-4c73-b905-995771f8fc3a/datasets/segmentation/yolo_style_fourclass/train/images/91.jpg: corrupt JPEG restored and saved\n",
      "\u001B[34m\u001B[1mtrain: \u001B[0m/media/abawi/e38fddf9-a92e-4c73-b905-995771f8fc3a/datasets/segmentation/yolo_style_fourclass/train/images/917.jpg: corrupt JPEG restored and saved\n",
      "\u001B[34m\u001B[1mtrain: \u001B[0m/media/abawi/e38fddf9-a92e-4c73-b905-995771f8fc3a/datasets/segmentation/yolo_style_fourclass/train/images/918.jpg: corrupt JPEG restored and saved\n",
      "\u001B[34m\u001B[1mtrain: \u001B[0m/media/abawi/e38fddf9-a92e-4c73-b905-995771f8fc3a/datasets/segmentation/yolo_style_fourclass/train/images/919.jpg: corrupt JPEG restored and saved\n",
      "\u001B[34m\u001B[1mtrain: \u001B[0m/media/abawi/e38fddf9-a92e-4c73-b905-995771f8fc3a/datasets/segmentation/yolo_style_fourclass/train/images/943.jpg: corrupt JPEG restored and saved\n",
      "\u001B[34m\u001B[1mtrain: \u001B[0m/media/abawi/e38fddf9-a92e-4c73-b905-995771f8fc3a/datasets/segmentation/yolo_style_fourclass/train/images/962.jpg: corrupt JPEG restored and saved\n",
      "\u001B[34m\u001B[1mtrain: \u001B[0m/media/abawi/e38fddf9-a92e-4c73-b905-995771f8fc3a/datasets/segmentation/yolo_style_fourclass/train/images/973.jpg: corrupt JPEG restored and saved\n",
      "\u001B[34m\u001B[1mtrain: \u001B[0m/media/abawi/e38fddf9-a92e-4c73-b905-995771f8fc3a/datasets/segmentation/yolo_style_fourclass/train/images/983.jpg: corrupt JPEG restored and saved\n",
      "\u001B[34m\u001B[1mtrain: \u001B[0m/media/abawi/e38fddf9-a92e-4c73-b905-995771f8fc3a/datasets/segmentation/yolo_style_fourclass/train/images/IMG_20191125_125327.jpg: corrupt JPEG restored and saved\n",
      "\u001B[34m\u001B[1mtrain: \u001B[0m/media/abawi/e38fddf9-a92e-4c73-b905-995771f8fc3a/datasets/segmentation/yolo_style_fourclass/train/images/IMG_20191125_125451.jpg: corrupt JPEG restored and saved\n",
      "\u001B[34m\u001B[1mtrain: \u001B[0m/media/abawi/e38fddf9-a92e-4c73-b905-995771f8fc3a/datasets/segmentation/yolo_style_fourclass/train/images/IMG_20191125_125702.jpg: corrupt JPEG restored and saved\n",
      "\u001B[34m\u001B[1mtrain: \u001B[0m/media/abawi/e38fddf9-a92e-4c73-b905-995771f8fc3a/datasets/segmentation/yolo_style_fourclass/train/images/IMG_20191125_125720.jpg: corrupt JPEG restored and saved\n",
      "\u001B[34m\u001B[1mtrain: \u001B[0m/media/abawi/e38fddf9-a92e-4c73-b905-995771f8fc3a/datasets/segmentation/yolo_style_fourclass/train/images/IMG_20191125_130802.jpg: corrupt JPEG restored and saved\n",
      "\u001B[34m\u001B[1mtrain: \u001B[0m/media/abawi/e38fddf9-a92e-4c73-b905-995771f8fc3a/datasets/segmentation/yolo_style_fourclass/train/images/IMG_20191125_131614.jpg: corrupt JPEG restored and saved\n",
      "\u001B[34m\u001B[1mtrain: \u001B[0m/media/abawi/e38fddf9-a92e-4c73-b905-995771f8fc3a/datasets/segmentation/yolo_style_fourclass/train/images/IMG_20191125_132442.jpg: corrupt JPEG restored and saved\n",
      "\u001B[34m\u001B[1mtrain: \u001B[0m/media/abawi/e38fddf9-a92e-4c73-b905-995771f8fc3a/datasets/segmentation/yolo_style_fourclass/train/images/IMG_20191125_135254.jpg: corrupt JPEG restored and saved\n",
      "\u001B[34m\u001B[1mtrain: \u001B[0m/media/abawi/e38fddf9-a92e-4c73-b905-995771f8fc3a/datasets/segmentation/yolo_style_fourclass/train/images/IMG_20191125_135302.jpg: corrupt JPEG restored and saved\n",
      "\u001B[34m\u001B[1mtrain: \u001B[0m/media/abawi/e38fddf9-a92e-4c73-b905-995771f8fc3a/datasets/segmentation/yolo_style_fourclass/train/images/IMG_20191125_135312.jpg: corrupt JPEG restored and saved\n",
      "\u001B[34m\u001B[1mtrain: \u001B[0m/media/abawi/e38fddf9-a92e-4c73-b905-995771f8fc3a/datasets/segmentation/yolo_style_fourclass/train/images/IMG_20191125_150945.jpg: corrupt JPEG restored and saved\n",
      "\u001B[34m\u001B[1mtrain: \u001B[0m/media/abawi/e38fddf9-a92e-4c73-b905-995771f8fc3a/datasets/segmentation/yolo_style_fourclass/train/images/IMG_20191125_151043.jpg: corrupt JPEG restored and saved\n",
      "\u001B[34m\u001B[1mtrain: \u001B[0m/media/abawi/e38fddf9-a92e-4c73-b905-995771f8fc3a/datasets/segmentation/yolo_style_fourclass/train/images/IMG_20191125_151121.jpg: corrupt JPEG restored and saved\n",
      "\u001B[34m\u001B[1mtrain: \u001B[0m/media/abawi/e38fddf9-a92e-4c73-b905-995771f8fc3a/datasets/segmentation/yolo_style_fourclass/train/images/IMG_20200917_085942.jpg: corrupt JPEG restored and saved\n",
      "\u001B[34m\u001B[1mtrain: \u001B[0m/media/abawi/e38fddf9-a92e-4c73-b905-995771f8fc3a/datasets/segmentation/yolo_style_fourclass/train/images/IMG_20200917_090002.jpg: corrupt JPEG restored and saved\n",
      "\u001B[34m\u001B[1mtrain: \u001B[0m/media/abawi/e38fddf9-a92e-4c73-b905-995771f8fc3a/datasets/segmentation/yolo_style_fourclass/train/images/IMG_20200917_090710.jpg: corrupt JPEG restored and saved\n",
      "\u001B[34m\u001B[1mtrain: \u001B[0m/media/abawi/e38fddf9-a92e-4c73-b905-995771f8fc3a/datasets/segmentation/yolo_style_fourclass/train/images/IMG_20200917_090722.jpg: corrupt JPEG restored and saved\n",
      "\u001B[34m\u001B[1mtrain: \u001B[0m/media/abawi/e38fddf9-a92e-4c73-b905-995771f8fc3a/datasets/segmentation/yolo_style_fourclass/train/images/IMG_20200917_090730.jpg: corrupt JPEG restored and saved\n",
      "\u001B[34m\u001B[1mtrain: \u001B[0m/media/abawi/e38fddf9-a92e-4c73-b905-995771f8fc3a/datasets/segmentation/yolo_style_fourclass/train/images/IMG_20200917_090821.jpg: corrupt JPEG restored and saved\n",
      "\u001B[34m\u001B[1mtrain: \u001B[0m/media/abawi/e38fddf9-a92e-4c73-b905-995771f8fc3a/datasets/segmentation/yolo_style_fourclass/train/images/IMG_20200917_090928.jpg: corrupt JPEG restored and saved\n",
      "\u001B[34m\u001B[1mtrain: \u001B[0m/media/abawi/e38fddf9-a92e-4c73-b905-995771f8fc3a/datasets/segmentation/yolo_style_fourclass/train/images/IMG_20200917_090957.jpg: corrupt JPEG restored and saved\n",
      "\u001B[34m\u001B[1mtrain: \u001B[0m/media/abawi/e38fddf9-a92e-4c73-b905-995771f8fc3a/datasets/segmentation/yolo_style_fourclass/train/images/IMG_20200917_091006.jpg: corrupt JPEG restored and saved\n",
      "\u001B[34m\u001B[1mtrain: \u001B[0m/media/abawi/e38fddf9-a92e-4c73-b905-995771f8fc3a/datasets/segmentation/yolo_style_fourclass/train/images/IMG_20200917_091145.jpg: corrupt JPEG restored and saved\n",
      "\u001B[34m\u001B[1mtrain: \u001B[0m/media/abawi/e38fddf9-a92e-4c73-b905-995771f8fc3a/datasets/segmentation/yolo_style_fourclass/train/images/IMG_20200917_091207.jpg: corrupt JPEG restored and saved\n",
      "\u001B[34m\u001B[1mtrain: \u001B[0m/media/abawi/e38fddf9-a92e-4c73-b905-995771f8fc3a/datasets/segmentation/yolo_style_fourclass/train/images/IMG_20200917_091215.jpg: corrupt JPEG restored and saved\n",
      "\u001B[34m\u001B[1mtrain: \u001B[0m/media/abawi/e38fddf9-a92e-4c73-b905-995771f8fc3a/datasets/segmentation/yolo_style_fourclass/train/images/IMG_20200917_091226.jpg: corrupt JPEG restored and saved\n",
      "\u001B[34m\u001B[1mtrain: \u001B[0m/media/abawi/e38fddf9-a92e-4c73-b905-995771f8fc3a/datasets/segmentation/yolo_style_fourclass/train/images/IMG_20200917_091238.jpg: corrupt JPEG restored and saved\n",
      "\u001B[34m\u001B[1mtrain: \u001B[0m/media/abawi/e38fddf9-a92e-4c73-b905-995771f8fc3a/datasets/segmentation/yolo_style_fourclass/train/images/IMG_20200917_091323.jpg: corrupt JPEG restored and saved\n",
      "\u001B[34m\u001B[1mtrain: \u001B[0m/media/abawi/e38fddf9-a92e-4c73-b905-995771f8fc3a/datasets/segmentation/yolo_style_fourclass/train/images/IMG_20200917_091412.jpg: corrupt JPEG restored and saved\n",
      "\u001B[34m\u001B[1mtrain: \u001B[0m/media/abawi/e38fddf9-a92e-4c73-b905-995771f8fc3a/datasets/segmentation/yolo_style_fourclass/train/images/IMG_20200917_091729.jpg: corrupt JPEG restored and saved\n",
      "\u001B[34m\u001B[1mtrain: \u001B[0m/media/abawi/e38fddf9-a92e-4c73-b905-995771f8fc3a/datasets/segmentation/yolo_style_fourclass/train/images/IMG_20200917_091811.jpg: corrupt JPEG restored and saved\n",
      "\u001B[34m\u001B[1mtrain: \u001B[0m/media/abawi/e38fddf9-a92e-4c73-b905-995771f8fc3a/datasets/segmentation/yolo_style_fourclass/train/images/IMG_20200917_091920.jpg: corrupt JPEG restored and saved\n",
      "\u001B[34m\u001B[1mtrain: \u001B[0m/media/abawi/e38fddf9-a92e-4c73-b905-995771f8fc3a/datasets/segmentation/yolo_style_fourclass/train/images/IMG_20200917_092348.jpg: corrupt JPEG restored and saved\n",
      "\u001B[34m\u001B[1mtrain: \u001B[0m/media/abawi/e38fddf9-a92e-4c73-b905-995771f8fc3a/datasets/segmentation/yolo_style_fourclass/train/images/IMG_20200917_092438.jpg: corrupt JPEG restored and saved\n",
      "\u001B[34m\u001B[1mtrain: \u001B[0m/media/abawi/e38fddf9-a92e-4c73-b905-995771f8fc3a/datasets/segmentation/yolo_style_fourclass/train/images/IMG_20200917_092458.jpg: corrupt JPEG restored and saved\n",
      "\u001B[34m\u001B[1mtrain: \u001B[0m/media/abawi/e38fddf9-a92e-4c73-b905-995771f8fc3a/datasets/segmentation/yolo_style_fourclass/train/images/IMG_20200917_092548.jpg: corrupt JPEG restored and saved\n",
      "\u001B[34m\u001B[1mtrain: \u001B[0m/media/abawi/e38fddf9-a92e-4c73-b905-995771f8fc3a/datasets/segmentation/yolo_style_fourclass/train/images/IMG_20200917_092620.jpg: corrupt JPEG restored and saved\n",
      "\u001B[34m\u001B[1mtrain: \u001B[0m/media/abawi/e38fddf9-a92e-4c73-b905-995771f8fc3a/datasets/segmentation/yolo_style_fourclass/train/images/IMG_20200917_092648.jpg: corrupt JPEG restored and saved\n",
      "\u001B[34m\u001B[1mtrain: \u001B[0m/media/abawi/e38fddf9-a92e-4c73-b905-995771f8fc3a/datasets/segmentation/yolo_style_fourclass/train/images/IMG_20200917_092705.jpg: corrupt JPEG restored and saved\n",
      "\u001B[34m\u001B[1mtrain: \u001B[0m/media/abawi/e38fddf9-a92e-4c73-b905-995771f8fc3a/datasets/segmentation/yolo_style_fourclass/train/images/IMG_20200917_092717.jpg: corrupt JPEG restored and saved\n",
      "\u001B[34m\u001B[1mtrain: \u001B[0m/media/abawi/e38fddf9-a92e-4c73-b905-995771f8fc3a/datasets/segmentation/yolo_style_fourclass/train/images/IMG_20200917_092729.jpg: corrupt JPEG restored and saved\n",
      "\u001B[34m\u001B[1mtrain: \u001B[0m/media/abawi/e38fddf9-a92e-4c73-b905-995771f8fc3a/datasets/segmentation/yolo_style_fourclass/train/images/IMG_20200917_092806.jpg: corrupt JPEG restored and saved\n",
      "\u001B[34m\u001B[1mtrain: \u001B[0m/media/abawi/e38fddf9-a92e-4c73-b905-995771f8fc3a/datasets/segmentation/yolo_style_fourclass/train/images/IMG_20200917_092833.jpg: corrupt JPEG restored and saved\n",
      "\u001B[34m\u001B[1mtrain: \u001B[0m/media/abawi/e38fddf9-a92e-4c73-b905-995771f8fc3a/datasets/segmentation/yolo_style_fourclass/train/images/IMG_20200917_092952.jpg: corrupt JPEG restored and saved\n",
      "\u001B[34m\u001B[1mtrain: \u001B[0m/media/abawi/e38fddf9-a92e-4c73-b905-995771f8fc3a/datasets/segmentation/yolo_style_fourclass/train/images/IMG_20200917_093003.jpg: corrupt JPEG restored and saved\n",
      "\u001B[34m\u001B[1mtrain: \u001B[0m/media/abawi/e38fddf9-a92e-4c73-b905-995771f8fc3a/datasets/segmentation/yolo_style_fourclass/train/images/IMG_20200917_093014.jpg: corrupt JPEG restored and saved\n",
      "\u001B[34m\u001B[1mtrain: \u001B[0m/media/abawi/e38fddf9-a92e-4c73-b905-995771f8fc3a/datasets/segmentation/yolo_style_fourclass/train/images/IMG_20200917_093032.jpg: corrupt JPEG restored and saved\n",
      "\u001B[34m\u001B[1mtrain: \u001B[0m/media/abawi/e38fddf9-a92e-4c73-b905-995771f8fc3a/datasets/segmentation/yolo_style_fourclass/train/images/IMG_20200917_093241.jpg: corrupt JPEG restored and saved\n",
      "\u001B[34m\u001B[1mtrain: \u001B[0m/media/abawi/e38fddf9-a92e-4c73-b905-995771f8fc3a/datasets/segmentation/yolo_style_fourclass/train/images/IMG_20200917_093256.jpg: corrupt JPEG restored and saved\n",
      "\u001B[34m\u001B[1mtrain: \u001B[0m/media/abawi/e38fddf9-a92e-4c73-b905-995771f8fc3a/datasets/segmentation/yolo_style_fourclass/train/images/IMG_20200917_093304.jpg: corrupt JPEG restored and saved\n",
      "\u001B[34m\u001B[1mtrain: \u001B[0m/media/abawi/e38fddf9-a92e-4c73-b905-995771f8fc3a/datasets/segmentation/yolo_style_fourclass/train/images/IMG_20200917_093311.jpg: corrupt JPEG restored and saved\n",
      "\u001B[34m\u001B[1mtrain: \u001B[0m/media/abawi/e38fddf9-a92e-4c73-b905-995771f8fc3a/datasets/segmentation/yolo_style_fourclass/train/images/IMG_20200917_093325.jpg: corrupt JPEG restored and saved\n",
      "\u001B[34m\u001B[1mtrain: \u001B[0m/media/abawi/e38fddf9-a92e-4c73-b905-995771f8fc3a/datasets/segmentation/yolo_style_fourclass/train/images/IMG_20200917_093348.jpg: corrupt JPEG restored and saved\n",
      "\u001B[34m\u001B[1mtrain: \u001B[0m/media/abawi/e38fddf9-a92e-4c73-b905-995771f8fc3a/datasets/segmentation/yolo_style_fourclass/train/images/IMG_20200917_093356.jpg: corrupt JPEG restored and saved\n",
      "\u001B[34m\u001B[1mtrain: \u001B[0m/media/abawi/e38fddf9-a92e-4c73-b905-995771f8fc3a/datasets/segmentation/yolo_style_fourclass/train/images/IMG_20200917_094146.jpg: corrupt JPEG restored and saved\n",
      "\u001B[34m\u001B[1mtrain: \u001B[0m/media/abawi/e38fddf9-a92e-4c73-b905-995771f8fc3a/datasets/segmentation/yolo_style_fourclass/train/images/IMG_20200917_094317.jpg: corrupt JPEG restored and saved\n",
      "\u001B[34m\u001B[1mtrain: \u001B[0m/media/abawi/e38fddf9-a92e-4c73-b905-995771f8fc3a/datasets/segmentation/yolo_style_fourclass/train/images/IMG_20200917_094504.jpg: corrupt JPEG restored and saved\n",
      "\u001B[34m\u001B[1mtrain: \u001B[0m/media/abawi/e38fddf9-a92e-4c73-b905-995771f8fc3a/datasets/segmentation/yolo_style_fourclass/train/images/IMG_20200917_094512.jpg: corrupt JPEG restored and saved\n",
      "\u001B[34m\u001B[1mtrain: \u001B[0m/media/abawi/e38fddf9-a92e-4c73-b905-995771f8fc3a/datasets/segmentation/yolo_style_fourclass/train/images/IMG_20200917_094553.jpg: corrupt JPEG restored and saved\n",
      "\u001B[34m\u001B[1mtrain: \u001B[0m/media/abawi/e38fddf9-a92e-4c73-b905-995771f8fc3a/datasets/segmentation/yolo_style_fourclass/train/images/IMG_20200917_094631.jpg: corrupt JPEG restored and saved\n",
      "\u001B[34m\u001B[1mtrain: \u001B[0m/media/abawi/e38fddf9-a92e-4c73-b905-995771f8fc3a/datasets/segmentation/yolo_style_fourclass/train/images/IMG_20200917_094710.jpg: corrupt JPEG restored and saved\n",
      "\u001B[34m\u001B[1mtrain: \u001B[0m/media/abawi/e38fddf9-a92e-4c73-b905-995771f8fc3a/datasets/segmentation/yolo_style_fourclass/train/images/IMG_20200917_094726.jpg: corrupt JPEG restored and saved\n",
      "\u001B[34m\u001B[1mtrain: \u001B[0m/media/abawi/e38fddf9-a92e-4c73-b905-995771f8fc3a/datasets/segmentation/yolo_style_fourclass/train/images/IMG_20200917_094734.jpg: corrupt JPEG restored and saved\n",
      "\u001B[34m\u001B[1mtrain: \u001B[0m/media/abawi/e38fddf9-a92e-4c73-b905-995771f8fc3a/datasets/segmentation/yolo_style_fourclass/train/images/IMG_20200917_094919.jpg: corrupt JPEG restored and saved\n",
      "\u001B[34m\u001B[1mtrain: \u001B[0m/media/abawi/e38fddf9-a92e-4c73-b905-995771f8fc3a/datasets/segmentation/yolo_style_fourclass/train/images/IMG_20200917_094945.jpg: corrupt JPEG restored and saved\n",
      "\u001B[34m\u001B[1mtrain: \u001B[0m/media/abawi/e38fddf9-a92e-4c73-b905-995771f8fc3a/datasets/segmentation/yolo_style_fourclass/train/images/IMG_20200917_094953.jpg: corrupt JPEG restored and saved\n",
      "\u001B[34m\u001B[1mtrain: \u001B[0m/media/abawi/e38fddf9-a92e-4c73-b905-995771f8fc3a/datasets/segmentation/yolo_style_fourclass/train/images/IMG_20200917_095035.jpg: corrupt JPEG restored and saved\n",
      "\u001B[34m\u001B[1mtrain: \u001B[0m/media/abawi/e38fddf9-a92e-4c73-b905-995771f8fc3a/datasets/segmentation/yolo_style_fourclass/train/images/IMG_20200917_095117.jpg: corrupt JPEG restored and saved\n",
      "\u001B[34m\u001B[1mtrain: \u001B[0m/media/abawi/e38fddf9-a92e-4c73-b905-995771f8fc3a/datasets/segmentation/yolo_style_fourclass/train/images/IMG_20200917_095126.jpg: corrupt JPEG restored and saved\n",
      "\u001B[34m\u001B[1mtrain: \u001B[0m/media/abawi/e38fddf9-a92e-4c73-b905-995771f8fc3a/datasets/segmentation/yolo_style_fourclass/train/images/IMG_20200917_095231.jpg: corrupt JPEG restored and saved\n",
      "\u001B[34m\u001B[1mtrain: \u001B[0m/media/abawi/e38fddf9-a92e-4c73-b905-995771f8fc3a/datasets/segmentation/yolo_style_fourclass/train/images/IMG_20200917_095256.jpg: corrupt JPEG restored and saved\n",
      "\u001B[34m\u001B[1mtrain: \u001B[0m/media/abawi/e38fddf9-a92e-4c73-b905-995771f8fc3a/datasets/segmentation/yolo_style_fourclass/train/images/IMG_20200917_095307.jpg: corrupt JPEG restored and saved\n",
      "\u001B[34m\u001B[1mtrain: \u001B[0m/media/abawi/e38fddf9-a92e-4c73-b905-995771f8fc3a/datasets/segmentation/yolo_style_fourclass/train/images/IMG_20200917_095336.jpg: corrupt JPEG restored and saved\n",
      "\u001B[34m\u001B[1mtrain: \u001B[0m/media/abawi/e38fddf9-a92e-4c73-b905-995771f8fc3a/datasets/segmentation/yolo_style_fourclass/train/images/IMG_20200917_114459.jpg: corrupt JPEG restored and saved\n",
      "\u001B[34m\u001B[1mtrain: \u001B[0m/media/abawi/e38fddf9-a92e-4c73-b905-995771f8fc3a/datasets/segmentation/yolo_style_fourclass/train/images/IMG_20200917_114538.jpg: corrupt JPEG restored and saved\n",
      "\u001B[34m\u001B[1mtrain: \u001B[0m/media/abawi/e38fddf9-a92e-4c73-b905-995771f8fc3a/datasets/segmentation/yolo_style_fourclass/train/images/IMG_20200917_114546.jpg: corrupt JPEG restored and saved\n",
      "\u001B[34m\u001B[1mtrain: \u001B[0m/media/abawi/e38fddf9-a92e-4c73-b905-995771f8fc3a/datasets/segmentation/yolo_style_fourclass/train/images/IMG_20200917_114618.jpg: corrupt JPEG restored and saved\n",
      "\u001B[34m\u001B[1mtrain: \u001B[0m/media/abawi/e38fddf9-a92e-4c73-b905-995771f8fc3a/datasets/segmentation/yolo_style_fourclass/train/images/IMG_20200917_114642.jpg: corrupt JPEG restored and saved\n",
      "\u001B[34m\u001B[1mtrain: \u001B[0m/media/abawi/e38fddf9-a92e-4c73-b905-995771f8fc3a/datasets/segmentation/yolo_style_fourclass/train/images/IMG_20200917_115551.jpg: corrupt JPEG restored and saved\n",
      "\u001B[34m\u001B[1mtrain: \u001B[0m/media/abawi/e38fddf9-a92e-4c73-b905-995771f8fc3a/datasets/segmentation/yolo_style_fourclass/train/images/IMG_20200917_115700.jpg: corrupt JPEG restored and saved\n",
      "\u001B[34m\u001B[1mtrain: \u001B[0m/media/abawi/e38fddf9-a92e-4c73-b905-995771f8fc3a/datasets/segmentation/yolo_style_fourclass/train/images/IMG_20200917_120002.jpg: corrupt JPEG restored and saved\n",
      "\u001B[34m\u001B[1mtrain: \u001B[0m/media/abawi/e38fddf9-a92e-4c73-b905-995771f8fc3a/datasets/segmentation/yolo_style_fourclass/train/images/IMG_20200917_120015.jpg: corrupt JPEG restored and saved\n",
      "\u001B[34m\u001B[1mtrain: \u001B[0m/media/abawi/e38fddf9-a92e-4c73-b905-995771f8fc3a/datasets/segmentation/yolo_style_fourclass/train/images/IMG_20200917_120518.jpg: corrupt JPEG restored and saved\n",
      "\u001B[34m\u001B[1mtrain: \u001B[0m/media/abawi/e38fddf9-a92e-4c73-b905-995771f8fc3a/datasets/segmentation/yolo_style_fourclass/train/images/IMG_20200917_120533.jpg: corrupt JPEG restored and saved\n",
      "\u001B[34m\u001B[1mtrain: \u001B[0m/media/abawi/e38fddf9-a92e-4c73-b905-995771f8fc3a/datasets/segmentation/yolo_style_fourclass/train/images/IMG_20200917_120603.jpg: corrupt JPEG restored and saved\n",
      "\u001B[34m\u001B[1mtrain: \u001B[0m/media/abawi/e38fddf9-a92e-4c73-b905-995771f8fc3a/datasets/segmentation/yolo_style_fourclass/train/images/IMG_20200917_120623.jpg: corrupt JPEG restored and saved\n",
      "\u001B[34m\u001B[1mtrain: \u001B[0m/media/abawi/e38fddf9-a92e-4c73-b905-995771f8fc3a/datasets/segmentation/yolo_style_fourclass/train/images/IMG_20200917_120728.jpg: corrupt JPEG restored and saved\n",
      "\u001B[34m\u001B[1mtrain: \u001B[0m/media/abawi/e38fddf9-a92e-4c73-b905-995771f8fc3a/datasets/segmentation/yolo_style_fourclass/train/images/IMG_20200917_120836.jpg: corrupt JPEG restored and saved\n",
      "\u001B[34m\u001B[1mtrain: \u001B[0m/media/abawi/e38fddf9-a92e-4c73-b905-995771f8fc3a/datasets/segmentation/yolo_style_fourclass/train/images/IMG_20200917_120902.jpg: corrupt JPEG restored and saved\n",
      "\u001B[34m\u001B[1mtrain: \u001B[0m/media/abawi/e38fddf9-a92e-4c73-b905-995771f8fc3a/datasets/segmentation/yolo_style_fourclass/train/images/IMG_20200917_120911.jpg: corrupt JPEG restored and saved\n",
      "\u001B[34m\u001B[1mtrain: \u001B[0m/media/abawi/e38fddf9-a92e-4c73-b905-995771f8fc3a/datasets/segmentation/yolo_style_fourclass/train/images/IMG_20200917_121001.jpg: corrupt JPEG restored and saved\n",
      "\u001B[34m\u001B[1mtrain: \u001B[0m/media/abawi/e38fddf9-a92e-4c73-b905-995771f8fc3a/datasets/segmentation/yolo_style_fourclass/train/images/IMG_20200917_121037.jpg: corrupt JPEG restored and saved\n",
      "\u001B[34m\u001B[1mtrain: \u001B[0m/media/abawi/e38fddf9-a92e-4c73-b905-995771f8fc3a/datasets/segmentation/yolo_style_fourclass/train/images/IMG_20200917_121048.jpg: corrupt JPEG restored and saved\n",
      "\u001B[34m\u001B[1mtrain: \u001B[0m/media/abawi/e38fddf9-a92e-4c73-b905-995771f8fc3a/datasets/segmentation/yolo_style_fourclass/train/images/IMG_20200917_121059.jpg: corrupt JPEG restored and saved\n",
      "\u001B[34m\u001B[1mtrain: \u001B[0m/media/abawi/e38fddf9-a92e-4c73-b905-995771f8fc3a/datasets/segmentation/yolo_style_fourclass/train/images/IMG_20200917_121111.jpg: corrupt JPEG restored and saved\n",
      "\u001B[34m\u001B[1mtrain: \u001B[0m/media/abawi/e38fddf9-a92e-4c73-b905-995771f8fc3a/datasets/segmentation/yolo_style_fourclass/train/images/IMG_20200917_121122.jpg: corrupt JPEG restored and saved\n",
      "\u001B[34m\u001B[1mtrain: \u001B[0m/media/abawi/e38fddf9-a92e-4c73-b905-995771f8fc3a/datasets/segmentation/yolo_style_fourclass/train/images/IMG_20200917_121150.jpg: corrupt JPEG restored and saved\n",
      "\u001B[34m\u001B[1mtrain: \u001B[0m/media/abawi/e38fddf9-a92e-4c73-b905-995771f8fc3a/datasets/segmentation/yolo_style_fourclass/train/images/IMG_20200917_121244.jpg: corrupt JPEG restored and saved\n",
      "\u001B[34m\u001B[1mtrain: \u001B[0m/media/abawi/e38fddf9-a92e-4c73-b905-995771f8fc3a/datasets/segmentation/yolo_style_fourclass/train/images/IMG_20200917_121301.jpg: corrupt JPEG restored and saved\n",
      "\u001B[34m\u001B[1mtrain: \u001B[0m/media/abawi/e38fddf9-a92e-4c73-b905-995771f8fc3a/datasets/segmentation/yolo_style_fourclass/train/images/IMG_20200917_121441.jpg: corrupt JPEG restored and saved\n",
      "\u001B[34m\u001B[1mtrain: \u001B[0m/media/abawi/e38fddf9-a92e-4c73-b905-995771f8fc3a/datasets/segmentation/yolo_style_fourclass/train/images/IMG_20200917_121504.jpg: corrupt JPEG restored and saved\n",
      "\u001B[34m\u001B[1mtrain: \u001B[0m/media/abawi/e38fddf9-a92e-4c73-b905-995771f8fc3a/datasets/segmentation/yolo_style_fourclass/train/images/IMG_20200917_121551.jpg: corrupt JPEG restored and saved\n",
      "\u001B[34m\u001B[1mtrain: \u001B[0m/media/abawi/e38fddf9-a92e-4c73-b905-995771f8fc3a/datasets/segmentation/yolo_style_fourclass/train/images/IMG_20200917_121607.jpg: corrupt JPEG restored and saved\n",
      "\u001B[34m\u001B[1mtrain: \u001B[0m/media/abawi/e38fddf9-a92e-4c73-b905-995771f8fc3a/datasets/segmentation/yolo_style_fourclass/train/images/IMG_20200917_121626.jpg: corrupt JPEG restored and saved\n",
      "\u001B[34m\u001B[1mtrain: \u001B[0m/media/abawi/e38fddf9-a92e-4c73-b905-995771f8fc3a/datasets/segmentation/yolo_style_fourclass/train/images/IMG_20200917_121811.jpg: corrupt JPEG restored and saved\n",
      "\u001B[34m\u001B[1mtrain: \u001B[0m/media/abawi/e38fddf9-a92e-4c73-b905-995771f8fc3a/datasets/segmentation/yolo_style_fourclass/train/images/IMG_20200917_121830.jpg: corrupt JPEG restored and saved\n",
      "\u001B[34m\u001B[1mtrain: \u001B[0m/media/abawi/e38fddf9-a92e-4c73-b905-995771f8fc3a/datasets/segmentation/yolo_style_fourclass/train/images/IMG_20200917_121847.jpg: corrupt JPEG restored and saved\n",
      "\u001B[34m\u001B[1mtrain: \u001B[0m/media/abawi/e38fddf9-a92e-4c73-b905-995771f8fc3a/datasets/segmentation/yolo_style_fourclass/train/images/IMG_20200917_121856.jpg: corrupt JPEG restored and saved\n",
      "\u001B[34m\u001B[1mtrain: \u001B[0m/media/abawi/e38fddf9-a92e-4c73-b905-995771f8fc3a/datasets/segmentation/yolo_style_fourclass/train/images/IMG_20200917_121921.jpg: corrupt JPEG restored and saved\n",
      "\u001B[34m\u001B[1mtrain: \u001B[0m/media/abawi/e38fddf9-a92e-4c73-b905-995771f8fc3a/datasets/segmentation/yolo_style_fourclass/train/images/IMG_20200917_122029.jpg: corrupt JPEG restored and saved\n",
      "\u001B[34m\u001B[1mtrain: \u001B[0m/media/abawi/e38fddf9-a92e-4c73-b905-995771f8fc3a/datasets/segmentation/yolo_style_fourclass/train/images/IMG_20200917_122058.jpg: corrupt JPEG restored and saved\n",
      "\u001B[34m\u001B[1mtrain: \u001B[0m/media/abawi/e38fddf9-a92e-4c73-b905-995771f8fc3a/datasets/segmentation/yolo_style_fourclass/train/images/IMG_20200917_122108.jpg: corrupt JPEG restored and saved\n",
      "\u001B[34m\u001B[1mtrain: \u001B[0m/media/abawi/e38fddf9-a92e-4c73-b905-995771f8fc3a/datasets/segmentation/yolo_style_fourclass/train/images/IMG_20200917_122121.jpg: corrupt JPEG restored and saved\n",
      "\u001B[34m\u001B[1mtrain: \u001B[0m/media/abawi/e38fddf9-a92e-4c73-b905-995771f8fc3a/datasets/segmentation/yolo_style_fourclass/train/images/IMG_20200917_122140.jpg: corrupt JPEG restored and saved\n",
      "\u001B[34m\u001B[1mtrain: \u001B[0m/media/abawi/e38fddf9-a92e-4c73-b905-995771f8fc3a/datasets/segmentation/yolo_style_fourclass/train/images/IMG_20200917_122152.jpg: corrupt JPEG restored and saved\n",
      "\u001B[34m\u001B[1mtrain: \u001B[0m/media/abawi/e38fddf9-a92e-4c73-b905-995771f8fc3a/datasets/segmentation/yolo_style_fourclass/train/images/IMG_20200917_122210.jpg: corrupt JPEG restored and saved\n",
      "\u001B[34m\u001B[1mtrain: \u001B[0m/media/abawi/e38fddf9-a92e-4c73-b905-995771f8fc3a/datasets/segmentation/yolo_style_fourclass/train/images/IMG_20200917_122340.jpg: corrupt JPEG restored and saved\n",
      "\u001B[34m\u001B[1mtrain: \u001B[0m/media/abawi/e38fddf9-a92e-4c73-b905-995771f8fc3a/datasets/segmentation/yolo_style_fourclass/train/images/IMG_20200917_122434.jpg: corrupt JPEG restored and saved\n",
      "\u001B[34m\u001B[1mtrain: \u001B[0m/media/abawi/e38fddf9-a92e-4c73-b905-995771f8fc3a/datasets/segmentation/yolo_style_fourclass/train/images/IMG_20200917_122452.jpg: corrupt JPEG restored and saved\n",
      "\u001B[34m\u001B[1mtrain: \u001B[0m/media/abawi/e38fddf9-a92e-4c73-b905-995771f8fc3a/datasets/segmentation/yolo_style_fourclass/train/images/IMG_20200917_132910.jpg: corrupt JPEG restored and saved\n",
      "\u001B[34m\u001B[1mtrain: \u001B[0m/media/abawi/e38fddf9-a92e-4c73-b905-995771f8fc3a/datasets/segmentation/yolo_style_fourclass/train/images/IMG_20200917_132922.jpg: corrupt JPEG restored and saved\n",
      "\u001B[34m\u001B[1mtrain: \u001B[0m/media/abawi/e38fddf9-a92e-4c73-b905-995771f8fc3a/datasets/segmentation/yolo_style_fourclass/train/images/IMG_20200917_142030.jpg: corrupt JPEG restored and saved\n",
      "\u001B[34m\u001B[1mtrain: \u001B[0m/media/abawi/e38fddf9-a92e-4c73-b905-995771f8fc3a/datasets/segmentation/yolo_style_fourclass/train/images/IMG_20200917_142048.jpg: corrupt JPEG restored and saved\n",
      "\u001B[34m\u001B[1mtrain: \u001B[0m/media/abawi/e38fddf9-a92e-4c73-b905-995771f8fc3a/datasets/segmentation/yolo_style_fourclass/train/images/IMG_20200917_142059.jpg: corrupt JPEG restored and saved\n",
      "\u001B[34m\u001B[1mtrain: \u001B[0m/media/abawi/e38fddf9-a92e-4c73-b905-995771f8fc3a/datasets/segmentation/yolo_style_fourclass/train/images/IMG_20200917_142110.jpg: corrupt JPEG restored and saved\n",
      "\u001B[34m\u001B[1mtrain: \u001B[0m/media/abawi/e38fddf9-a92e-4c73-b905-995771f8fc3a/datasets/segmentation/yolo_style_fourclass/train/images/IMG_20200917_142119.jpg: corrupt JPEG restored and saved\n",
      "\u001B[34m\u001B[1mtrain: \u001B[0m/media/abawi/e38fddf9-a92e-4c73-b905-995771f8fc3a/datasets/segmentation/yolo_style_fourclass/train/images/IMG_20200917_142148.jpg: corrupt JPEG restored and saved\n",
      "\u001B[34m\u001B[1mtrain: \u001B[0m/media/abawi/e38fddf9-a92e-4c73-b905-995771f8fc3a/datasets/segmentation/yolo_style_fourclass/train/images/IMG_20200917_142156.jpg: corrupt JPEG restored and saved\n",
      "\u001B[34m\u001B[1mtrain: \u001B[0m/media/abawi/e38fddf9-a92e-4c73-b905-995771f8fc3a/datasets/segmentation/yolo_style_fourclass/train/images/IMG_20200917_142204.jpg: corrupt JPEG restored and saved\n",
      "\u001B[34m\u001B[1mtrain: \u001B[0m/media/abawi/e38fddf9-a92e-4c73-b905-995771f8fc3a/datasets/segmentation/yolo_style_fourclass/train/images/IMG_20200917_142426.jpg: corrupt JPEG restored and saved\n",
      "\u001B[34m\u001B[1mtrain: \u001B[0m/media/abawi/e38fddf9-a92e-4c73-b905-995771f8fc3a/datasets/segmentation/yolo_style_fourclass/train/images/IMG_20200917_142451.jpg: corrupt JPEG restored and saved\n",
      "\u001B[34m\u001B[1mtrain: \u001B[0m/media/abawi/e38fddf9-a92e-4c73-b905-995771f8fc3a/datasets/segmentation/yolo_style_fourclass/train/images/IMG_20200917_142501.jpg: corrupt JPEG restored and saved\n",
      "\u001B[34m\u001B[1mtrain: \u001B[0m/media/abawi/e38fddf9-a92e-4c73-b905-995771f8fc3a/datasets/segmentation/yolo_style_fourclass/train/images/IMG_20200917_142647.jpg: corrupt JPEG restored and saved\n",
      "\u001B[34m\u001B[1mtrain: \u001B[0m/media/abawi/e38fddf9-a92e-4c73-b905-995771f8fc3a/datasets/segmentation/yolo_style_fourclass/train/images/IMG_20200917_142701.jpg: corrupt JPEG restored and saved\n",
      "\u001B[34m\u001B[1mtrain: \u001B[0m/media/abawi/e38fddf9-a92e-4c73-b905-995771f8fc3a/datasets/segmentation/yolo_style_fourclass/train/images/IMG_20200917_142751.jpg: corrupt JPEG restored and saved\n",
      "\u001B[34m\u001B[1mtrain: \u001B[0m/media/abawi/e38fddf9-a92e-4c73-b905-995771f8fc3a/datasets/segmentation/yolo_style_fourclass/train/images/IMG_20200917_142835.jpg: corrupt JPEG restored and saved\n",
      "\u001B[34m\u001B[1mtrain: \u001B[0m/media/abawi/e38fddf9-a92e-4c73-b905-995771f8fc3a/datasets/segmentation/yolo_style_fourclass/train/images/IMG_20200917_143320.jpg: corrupt JPEG restored and saved\n",
      "\u001B[34m\u001B[1mtrain: \u001B[0m/media/abawi/e38fddf9-a92e-4c73-b905-995771f8fc3a/datasets/segmentation/yolo_style_fourclass/train/images/IMG_20200917_143347.jpg: corrupt JPEG restored and saved\n",
      "\u001B[34m\u001B[1mtrain: \u001B[0m/media/abawi/e38fddf9-a92e-4c73-b905-995771f8fc3a/datasets/segmentation/yolo_style_fourclass/train/images/IMG_20200917_143427.jpg: corrupt JPEG restored and saved\n",
      "\u001B[34m\u001B[1mtrain: \u001B[0m/media/abawi/e38fddf9-a92e-4c73-b905-995771f8fc3a/datasets/segmentation/yolo_style_fourclass/train/images/IMG_20200917_143659.jpg: corrupt JPEG restored and saved\n",
      "\u001B[34m\u001B[1mtrain: \u001B[0m/media/abawi/e38fddf9-a92e-4c73-b905-995771f8fc3a/datasets/segmentation/yolo_style_fourclass/train/images/IMG_20200917_143723.jpg: corrupt JPEG restored and saved\n",
      "\u001B[34m\u001B[1mtrain: \u001B[0m/media/abawi/e38fddf9-a92e-4c73-b905-995771f8fc3a/datasets/segmentation/yolo_style_fourclass/train/images/IMG_20200917_143739.jpg: corrupt JPEG restored and saved\n",
      "\u001B[34m\u001B[1mtrain: \u001B[0m/media/abawi/e38fddf9-a92e-4c73-b905-995771f8fc3a/datasets/segmentation/yolo_style_fourclass/train/images/IMG_20200917_143827.jpg: corrupt JPEG restored and saved\n",
      "\u001B[34m\u001B[1mtrain: \u001B[0m/media/abawi/e38fddf9-a92e-4c73-b905-995771f8fc3a/datasets/segmentation/yolo_style_fourclass/train/images/IMG_20200917_143838.jpg: corrupt JPEG restored and saved\n",
      "\u001B[34m\u001B[1mtrain: \u001B[0m/media/abawi/e38fddf9-a92e-4c73-b905-995771f8fc3a/datasets/segmentation/yolo_style_fourclass/train/images/IMG_20200917_143959.jpg: corrupt JPEG restored and saved\n",
      "\u001B[34m\u001B[1mtrain: \u001B[0m/media/abawi/e38fddf9-a92e-4c73-b905-995771f8fc3a/datasets/segmentation/yolo_style_fourclass/train/images/IMG_20200917_144020.jpg: corrupt JPEG restored and saved\n",
      "\u001B[34m\u001B[1mtrain: \u001B[0m/media/abawi/e38fddf9-a92e-4c73-b905-995771f8fc3a/datasets/segmentation/yolo_style_fourclass/train/images/IMG_20200917_144113.jpg: corrupt JPEG restored and saved\n",
      "\u001B[34m\u001B[1mtrain: \u001B[0m/media/abawi/e38fddf9-a92e-4c73-b905-995771f8fc3a/datasets/segmentation/yolo_style_fourclass/train/images/IMG_20200917_144136.jpg: corrupt JPEG restored and saved\n",
      "\u001B[34m\u001B[1mtrain: \u001B[0m/media/abawi/e38fddf9-a92e-4c73-b905-995771f8fc3a/datasets/segmentation/yolo_style_fourclass/train/images/IMG_20200917_144623.jpg: corrupt JPEG restored and saved\n",
      "\u001B[34m\u001B[1mtrain: \u001B[0m/media/abawi/e38fddf9-a92e-4c73-b905-995771f8fc3a/datasets/segmentation/yolo_style_fourclass/train/images/g1 (1).jpg: corrupt JPEG restored and saved\n",
      "\u001B[34m\u001B[1mtrain: \u001B[0m/media/abawi/e38fddf9-a92e-4c73-b905-995771f8fc3a/datasets/segmentation/yolo_style_fourclass/train/images/g1 (2).jpg: corrupt JPEG restored and saved\n",
      "\u001B[34m\u001B[1mtrain: \u001B[0m/media/abawi/e38fddf9-a92e-4c73-b905-995771f8fc3a/datasets/segmentation/yolo_style_fourclass/train/images/g1 (3).jpg: corrupt JPEG restored and saved\n",
      "\u001B[34m\u001B[1mtrain: \u001B[0m/media/abawi/e38fddf9-a92e-4c73-b905-995771f8fc3a/datasets/segmentation/yolo_style_fourclass/train/images/g1 (4).jpg: corrupt JPEG restored and saved\n",
      "\u001B[34m\u001B[1mtrain: \u001B[0m/media/abawi/e38fddf9-a92e-4c73-b905-995771f8fc3a/datasets/segmentation/yolo_style_fourclass/train/images/g1 (5).jpg: corrupt JPEG restored and saved\n",
      "\u001B[34m\u001B[1mtrain: \u001B[0m/media/abawi/e38fddf9-a92e-4c73-b905-995771f8fc3a/datasets/segmentation/yolo_style_fourclass/train/images/g1 (6).jpg: corrupt JPEG restored and saved\n",
      "\u001B[34m\u001B[1mtrain: \u001B[0m/media/abawi/e38fddf9-a92e-4c73-b905-995771f8fc3a/datasets/segmentation/yolo_style_fourclass/train/images/g2 (1).jpg: corrupt JPEG restored and saved\n",
      "\u001B[34m\u001B[1mtrain: \u001B[0m/media/abawi/e38fddf9-a92e-4c73-b905-995771f8fc3a/datasets/segmentation/yolo_style_fourclass/train/images/g2 (10).jpg: corrupt JPEG restored and saved\n",
      "\u001B[34m\u001B[1mtrain: \u001B[0m/media/abawi/e38fddf9-a92e-4c73-b905-995771f8fc3a/datasets/segmentation/yolo_style_fourclass/train/images/g2 (11).jpg: corrupt JPEG restored and saved\n",
      "\u001B[34m\u001B[1mtrain: \u001B[0m/media/abawi/e38fddf9-a92e-4c73-b905-995771f8fc3a/datasets/segmentation/yolo_style_fourclass/train/images/g2 (12).jpg: corrupt JPEG restored and saved\n",
      "\u001B[34m\u001B[1mtrain: \u001B[0m/media/abawi/e38fddf9-a92e-4c73-b905-995771f8fc3a/datasets/segmentation/yolo_style_fourclass/train/images/g2 (13).jpg: corrupt JPEG restored and saved\n",
      "\u001B[34m\u001B[1mtrain: \u001B[0m/media/abawi/e38fddf9-a92e-4c73-b905-995771f8fc3a/datasets/segmentation/yolo_style_fourclass/train/images/g2 (14).jpg: corrupt JPEG restored and saved\n",
      "\u001B[34m\u001B[1mtrain: \u001B[0m/media/abawi/e38fddf9-a92e-4c73-b905-995771f8fc3a/datasets/segmentation/yolo_style_fourclass/train/images/g2 (15).jpg: corrupt JPEG restored and saved\n",
      "\u001B[34m\u001B[1mtrain: \u001B[0m/media/abawi/e38fddf9-a92e-4c73-b905-995771f8fc3a/datasets/segmentation/yolo_style_fourclass/train/images/g2 (16).jpg: corrupt JPEG restored and saved\n",
      "\u001B[34m\u001B[1mtrain: \u001B[0m/media/abawi/e38fddf9-a92e-4c73-b905-995771f8fc3a/datasets/segmentation/yolo_style_fourclass/train/images/g2 (17).jpg: corrupt JPEG restored and saved\n",
      "\u001B[34m\u001B[1mtrain: \u001B[0m/media/abawi/e38fddf9-a92e-4c73-b905-995771f8fc3a/datasets/segmentation/yolo_style_fourclass/train/images/g2 (18).jpg: corrupt JPEG restored and saved\n",
      "\u001B[34m\u001B[1mtrain: \u001B[0m/media/abawi/e38fddf9-a92e-4c73-b905-995771f8fc3a/datasets/segmentation/yolo_style_fourclass/train/images/g2 (19).jpg: corrupt JPEG restored and saved\n",
      "\u001B[34m\u001B[1mtrain: \u001B[0m/media/abawi/e38fddf9-a92e-4c73-b905-995771f8fc3a/datasets/segmentation/yolo_style_fourclass/train/images/g2 (2).jpg: corrupt JPEG restored and saved\n",
      "\u001B[34m\u001B[1mtrain: \u001B[0m/media/abawi/e38fddf9-a92e-4c73-b905-995771f8fc3a/datasets/segmentation/yolo_style_fourclass/train/images/g2 (20).jpg: corrupt JPEG restored and saved\n",
      "\u001B[34m\u001B[1mtrain: \u001B[0m/media/abawi/e38fddf9-a92e-4c73-b905-995771f8fc3a/datasets/segmentation/yolo_style_fourclass/train/images/g2 (21).jpg: corrupt JPEG restored and saved\n",
      "\u001B[34m\u001B[1mtrain: \u001B[0m/media/abawi/e38fddf9-a92e-4c73-b905-995771f8fc3a/datasets/segmentation/yolo_style_fourclass/train/images/g2 (22).jpg: corrupt JPEG restored and saved\n",
      "\u001B[34m\u001B[1mtrain: \u001B[0m/media/abawi/e38fddf9-a92e-4c73-b905-995771f8fc3a/datasets/segmentation/yolo_style_fourclass/train/images/g2 (23).jpg: corrupt JPEG restored and saved\n",
      "\u001B[34m\u001B[1mtrain: \u001B[0m/media/abawi/e38fddf9-a92e-4c73-b905-995771f8fc3a/datasets/segmentation/yolo_style_fourclass/train/images/g2 (24).jpg: corrupt JPEG restored and saved\n",
      "\u001B[34m\u001B[1mtrain: \u001B[0m/media/abawi/e38fddf9-a92e-4c73-b905-995771f8fc3a/datasets/segmentation/yolo_style_fourclass/train/images/g2 (25).jpg: corrupt JPEG restored and saved\n",
      "\u001B[34m\u001B[1mtrain: \u001B[0m/media/abawi/e38fddf9-a92e-4c73-b905-995771f8fc3a/datasets/segmentation/yolo_style_fourclass/train/images/g2 (26).jpg: corrupt JPEG restored and saved\n",
      "\u001B[34m\u001B[1mtrain: \u001B[0m/media/abawi/e38fddf9-a92e-4c73-b905-995771f8fc3a/datasets/segmentation/yolo_style_fourclass/train/images/g2 (27).jpg: corrupt JPEG restored and saved\n",
      "\u001B[34m\u001B[1mtrain: \u001B[0m/media/abawi/e38fddf9-a92e-4c73-b905-995771f8fc3a/datasets/segmentation/yolo_style_fourclass/train/images/g2 (28).jpg: corrupt JPEG restored and saved\n",
      "\u001B[34m\u001B[1mtrain: \u001B[0m/media/abawi/e38fddf9-a92e-4c73-b905-995771f8fc3a/datasets/segmentation/yolo_style_fourclass/train/images/g2 (3).jpg: corrupt JPEG restored and saved\n",
      "\u001B[34m\u001B[1mtrain: \u001B[0m/media/abawi/e38fddf9-a92e-4c73-b905-995771f8fc3a/datasets/segmentation/yolo_style_fourclass/train/images/g2 (31).jpg: corrupt JPEG restored and saved\n",
      "\u001B[34m\u001B[1mtrain: \u001B[0m/media/abawi/e38fddf9-a92e-4c73-b905-995771f8fc3a/datasets/segmentation/yolo_style_fourclass/train/images/g2 (32).jpg: corrupt JPEG restored and saved\n",
      "\u001B[34m\u001B[1mtrain: \u001B[0m/media/abawi/e38fddf9-a92e-4c73-b905-995771f8fc3a/datasets/segmentation/yolo_style_fourclass/train/images/g2 (33).jpg: corrupt JPEG restored and saved\n",
      "\u001B[34m\u001B[1mtrain: \u001B[0m/media/abawi/e38fddf9-a92e-4c73-b905-995771f8fc3a/datasets/segmentation/yolo_style_fourclass/train/images/g2 (34).jpg: corrupt JPEG restored and saved\n",
      "\u001B[34m\u001B[1mtrain: \u001B[0m/media/abawi/e38fddf9-a92e-4c73-b905-995771f8fc3a/datasets/segmentation/yolo_style_fourclass/train/images/g2 (35).jpg: corrupt JPEG restored and saved\n",
      "\u001B[34m\u001B[1mtrain: \u001B[0m/media/abawi/e38fddf9-a92e-4c73-b905-995771f8fc3a/datasets/segmentation/yolo_style_fourclass/train/images/g2 (36).jpg: corrupt JPEG restored and saved\n",
      "\u001B[34m\u001B[1mtrain: \u001B[0m/media/abawi/e38fddf9-a92e-4c73-b905-995771f8fc3a/datasets/segmentation/yolo_style_fourclass/train/images/g2 (38).jpg: corrupt JPEG restored and saved\n",
      "\u001B[34m\u001B[1mtrain: \u001B[0m/media/abawi/e38fddf9-a92e-4c73-b905-995771f8fc3a/datasets/segmentation/yolo_style_fourclass/train/images/g2 (39).jpg: corrupt JPEG restored and saved\n",
      "\u001B[34m\u001B[1mtrain: \u001B[0m/media/abawi/e38fddf9-a92e-4c73-b905-995771f8fc3a/datasets/segmentation/yolo_style_fourclass/train/images/g2 (4).jpg: corrupt JPEG restored and saved\n",
      "\u001B[34m\u001B[1mtrain: \u001B[0m/media/abawi/e38fddf9-a92e-4c73-b905-995771f8fc3a/datasets/segmentation/yolo_style_fourclass/train/images/g2 (41).jpg: corrupt JPEG restored and saved\n",
      "\u001B[34m\u001B[1mtrain: \u001B[0m/media/abawi/e38fddf9-a92e-4c73-b905-995771f8fc3a/datasets/segmentation/yolo_style_fourclass/train/images/g2 (42).jpg: corrupt JPEG restored and saved\n",
      "\u001B[34m\u001B[1mtrain: \u001B[0m/media/abawi/e38fddf9-a92e-4c73-b905-995771f8fc3a/datasets/segmentation/yolo_style_fourclass/train/images/g2 (43).jpg: corrupt JPEG restored and saved\n",
      "\u001B[34m\u001B[1mtrain: \u001B[0m/media/abawi/e38fddf9-a92e-4c73-b905-995771f8fc3a/datasets/segmentation/yolo_style_fourclass/train/images/g2 (44).jpg: corrupt JPEG restored and saved\n",
      "\u001B[34m\u001B[1mtrain: \u001B[0m/media/abawi/e38fddf9-a92e-4c73-b905-995771f8fc3a/datasets/segmentation/yolo_style_fourclass/train/images/g2 (45).jpg: corrupt JPEG restored and saved\n",
      "\u001B[34m\u001B[1mtrain: \u001B[0m/media/abawi/e38fddf9-a92e-4c73-b905-995771f8fc3a/datasets/segmentation/yolo_style_fourclass/train/images/g2 (46).jpg: corrupt JPEG restored and saved\n",
      "\u001B[34m\u001B[1mtrain: \u001B[0m/media/abawi/e38fddf9-a92e-4c73-b905-995771f8fc3a/datasets/segmentation/yolo_style_fourclass/train/images/g2 (47).jpg: corrupt JPEG restored and saved\n",
      "\u001B[34m\u001B[1mtrain: \u001B[0m/media/abawi/e38fddf9-a92e-4c73-b905-995771f8fc3a/datasets/segmentation/yolo_style_fourclass/train/images/g2 (48).jpg: corrupt JPEG restored and saved\n",
      "\u001B[34m\u001B[1mtrain: \u001B[0m/media/abawi/e38fddf9-a92e-4c73-b905-995771f8fc3a/datasets/segmentation/yolo_style_fourclass/train/images/g2 (49).jpg: corrupt JPEG restored and saved\n",
      "\u001B[34m\u001B[1mtrain: \u001B[0m/media/abawi/e38fddf9-a92e-4c73-b905-995771f8fc3a/datasets/segmentation/yolo_style_fourclass/train/images/g2 (5).jpg: corrupt JPEG restored and saved\n",
      "\u001B[34m\u001B[1mtrain: \u001B[0m/media/abawi/e38fddf9-a92e-4c73-b905-995771f8fc3a/datasets/segmentation/yolo_style_fourclass/train/images/g2 (50).jpg: corrupt JPEG restored and saved\n",
      "\u001B[34m\u001B[1mtrain: \u001B[0m/media/abawi/e38fddf9-a92e-4c73-b905-995771f8fc3a/datasets/segmentation/yolo_style_fourclass/train/images/g2 (6).jpg: corrupt JPEG restored and saved\n",
      "\u001B[34m\u001B[1mtrain: \u001B[0m/media/abawi/e38fddf9-a92e-4c73-b905-995771f8fc3a/datasets/segmentation/yolo_style_fourclass/train/images/g2 (7).jpg: corrupt JPEG restored and saved\n",
      "\u001B[34m\u001B[1mtrain: \u001B[0m/media/abawi/e38fddf9-a92e-4c73-b905-995771f8fc3a/datasets/segmentation/yolo_style_fourclass/train/images/g2 (8).jpg: corrupt JPEG restored and saved\n",
      "\u001B[34m\u001B[1mtrain: \u001B[0m/media/abawi/e38fddf9-a92e-4c73-b905-995771f8fc3a/datasets/segmentation/yolo_style_fourclass/train/images/g2 (9).jpg: corrupt JPEG restored and saved\n",
      "\u001B[34m\u001B[1mtrain: \u001B[0m/media/abawi/e38fddf9-a92e-4c73-b905-995771f8fc3a/datasets/segmentation/yolo_style_fourclass/train/images/g3 (1).jpg: corrupt JPEG restored and saved\n",
      "\u001B[34m\u001B[1mtrain: \u001B[0m/media/abawi/e38fddf9-a92e-4c73-b905-995771f8fc3a/datasets/segmentation/yolo_style_fourclass/train/images/g3 (10).jpg: corrupt JPEG restored and saved\n",
      "\u001B[34m\u001B[1mtrain: \u001B[0m/media/abawi/e38fddf9-a92e-4c73-b905-995771f8fc3a/datasets/segmentation/yolo_style_fourclass/train/images/g3 (100).jpg: corrupt JPEG restored and saved\n",
      "\u001B[34m\u001B[1mtrain: \u001B[0m/media/abawi/e38fddf9-a92e-4c73-b905-995771f8fc3a/datasets/segmentation/yolo_style_fourclass/train/images/g3 (101).jpg: corrupt JPEG restored and saved\n",
      "\u001B[34m\u001B[1mtrain: \u001B[0m/media/abawi/e38fddf9-a92e-4c73-b905-995771f8fc3a/datasets/segmentation/yolo_style_fourclass/train/images/g3 (102).jpg: corrupt JPEG restored and saved\n",
      "\u001B[34m\u001B[1mtrain: \u001B[0m/media/abawi/e38fddf9-a92e-4c73-b905-995771f8fc3a/datasets/segmentation/yolo_style_fourclass/train/images/g3 (104).jpg: corrupt JPEG restored and saved\n",
      "\u001B[34m\u001B[1mtrain: \u001B[0m/media/abawi/e38fddf9-a92e-4c73-b905-995771f8fc3a/datasets/segmentation/yolo_style_fourclass/train/images/g3 (105).jpg: corrupt JPEG restored and saved\n",
      "\u001B[34m\u001B[1mtrain: \u001B[0m/media/abawi/e38fddf9-a92e-4c73-b905-995771f8fc3a/datasets/segmentation/yolo_style_fourclass/train/images/g3 (106).jpg: corrupt JPEG restored and saved\n",
      "\u001B[34m\u001B[1mtrain: \u001B[0m/media/abawi/e38fddf9-a92e-4c73-b905-995771f8fc3a/datasets/segmentation/yolo_style_fourclass/train/images/g3 (107).jpg: corrupt JPEG restored and saved\n",
      "\u001B[34m\u001B[1mtrain: \u001B[0m/media/abawi/e38fddf9-a92e-4c73-b905-995771f8fc3a/datasets/segmentation/yolo_style_fourclass/train/images/g3 (108).jpg: corrupt JPEG restored and saved\n",
      "\u001B[34m\u001B[1mtrain: \u001B[0m/media/abawi/e38fddf9-a92e-4c73-b905-995771f8fc3a/datasets/segmentation/yolo_style_fourclass/train/images/g3 (109).jpg: corrupt JPEG restored and saved\n",
      "\u001B[34m\u001B[1mtrain: \u001B[0m/media/abawi/e38fddf9-a92e-4c73-b905-995771f8fc3a/datasets/segmentation/yolo_style_fourclass/train/images/g3 (11).jpg: corrupt JPEG restored and saved\n",
      "\u001B[34m\u001B[1mtrain: \u001B[0m/media/abawi/e38fddf9-a92e-4c73-b905-995771f8fc3a/datasets/segmentation/yolo_style_fourclass/train/images/g3 (110).jpg: corrupt JPEG restored and saved\n",
      "\u001B[34m\u001B[1mtrain: \u001B[0m/media/abawi/e38fddf9-a92e-4c73-b905-995771f8fc3a/datasets/segmentation/yolo_style_fourclass/train/images/g3 (111).jpg: corrupt JPEG restored and saved\n",
      "\u001B[34m\u001B[1mtrain: \u001B[0m/media/abawi/e38fddf9-a92e-4c73-b905-995771f8fc3a/datasets/segmentation/yolo_style_fourclass/train/images/g3 (112).jpg: corrupt JPEG restored and saved\n",
      "\u001B[34m\u001B[1mtrain: \u001B[0m/media/abawi/e38fddf9-a92e-4c73-b905-995771f8fc3a/datasets/segmentation/yolo_style_fourclass/train/images/g3 (113).jpg: corrupt JPEG restored and saved\n",
      "\u001B[34m\u001B[1mtrain: \u001B[0m/media/abawi/e38fddf9-a92e-4c73-b905-995771f8fc3a/datasets/segmentation/yolo_style_fourclass/train/images/g3 (114).jpg: corrupt JPEG restored and saved\n",
      "\u001B[34m\u001B[1mtrain: \u001B[0m/media/abawi/e38fddf9-a92e-4c73-b905-995771f8fc3a/datasets/segmentation/yolo_style_fourclass/train/images/g3 (115).jpg: corrupt JPEG restored and saved\n",
      "\u001B[34m\u001B[1mtrain: \u001B[0m/media/abawi/e38fddf9-a92e-4c73-b905-995771f8fc3a/datasets/segmentation/yolo_style_fourclass/train/images/g3 (116).jpg: corrupt JPEG restored and saved\n",
      "\u001B[34m\u001B[1mtrain: \u001B[0m/media/abawi/e38fddf9-a92e-4c73-b905-995771f8fc3a/datasets/segmentation/yolo_style_fourclass/train/images/g3 (117).jpg: corrupt JPEG restored and saved\n",
      "\u001B[34m\u001B[1mtrain: \u001B[0m/media/abawi/e38fddf9-a92e-4c73-b905-995771f8fc3a/datasets/segmentation/yolo_style_fourclass/train/images/g3 (119).jpg: corrupt JPEG restored and saved\n",
      "\u001B[34m\u001B[1mtrain: \u001B[0m/media/abawi/e38fddf9-a92e-4c73-b905-995771f8fc3a/datasets/segmentation/yolo_style_fourclass/train/images/g3 (12).jpg: corrupt JPEG restored and saved\n",
      "\u001B[34m\u001B[1mtrain: \u001B[0m/media/abawi/e38fddf9-a92e-4c73-b905-995771f8fc3a/datasets/segmentation/yolo_style_fourclass/train/images/g3 (120).jpg: corrupt JPEG restored and saved\n",
      "\u001B[34m\u001B[1mtrain: \u001B[0m/media/abawi/e38fddf9-a92e-4c73-b905-995771f8fc3a/datasets/segmentation/yolo_style_fourclass/train/images/g3 (121).jpg: corrupt JPEG restored and saved\n",
      "\u001B[34m\u001B[1mtrain: \u001B[0m/media/abawi/e38fddf9-a92e-4c73-b905-995771f8fc3a/datasets/segmentation/yolo_style_fourclass/train/images/g3 (122).jpg: corrupt JPEG restored and saved\n",
      "\u001B[34m\u001B[1mtrain: \u001B[0m/media/abawi/e38fddf9-a92e-4c73-b905-995771f8fc3a/datasets/segmentation/yolo_style_fourclass/train/images/g3 (123).jpg: corrupt JPEG restored and saved\n",
      "\u001B[34m\u001B[1mtrain: \u001B[0m/media/abawi/e38fddf9-a92e-4c73-b905-995771f8fc3a/datasets/segmentation/yolo_style_fourclass/train/images/g3 (124).jpg: corrupt JPEG restored and saved\n",
      "\u001B[34m\u001B[1mtrain: \u001B[0m/media/abawi/e38fddf9-a92e-4c73-b905-995771f8fc3a/datasets/segmentation/yolo_style_fourclass/train/images/g3 (125).jpg: corrupt JPEG restored and saved\n",
      "\u001B[34m\u001B[1mtrain: \u001B[0m/media/abawi/e38fddf9-a92e-4c73-b905-995771f8fc3a/datasets/segmentation/yolo_style_fourclass/train/images/g3 (13).jpg: corrupt JPEG restored and saved\n",
      "\u001B[34m\u001B[1mtrain: \u001B[0m/media/abawi/e38fddf9-a92e-4c73-b905-995771f8fc3a/datasets/segmentation/yolo_style_fourclass/train/images/g3 (15).jpg: corrupt JPEG restored and saved\n",
      "\u001B[34m\u001B[1mtrain: \u001B[0m/media/abawi/e38fddf9-a92e-4c73-b905-995771f8fc3a/datasets/segmentation/yolo_style_fourclass/train/images/g3 (16).jpg: corrupt JPEG restored and saved\n",
      "\u001B[34m\u001B[1mtrain: \u001B[0m/media/abawi/e38fddf9-a92e-4c73-b905-995771f8fc3a/datasets/segmentation/yolo_style_fourclass/train/images/g3 (17).jpg: corrupt JPEG restored and saved\n",
      "\u001B[34m\u001B[1mtrain: \u001B[0m/media/abawi/e38fddf9-a92e-4c73-b905-995771f8fc3a/datasets/segmentation/yolo_style_fourclass/train/images/g3 (18).jpg: corrupt JPEG restored and saved\n",
      "\u001B[34m\u001B[1mtrain: \u001B[0m/media/abawi/e38fddf9-a92e-4c73-b905-995771f8fc3a/datasets/segmentation/yolo_style_fourclass/train/images/g3 (2).jpg: corrupt JPEG restored and saved\n",
      "\u001B[34m\u001B[1mtrain: \u001B[0m/media/abawi/e38fddf9-a92e-4c73-b905-995771f8fc3a/datasets/segmentation/yolo_style_fourclass/train/images/g3 (20).jpg: corrupt JPEG restored and saved\n",
      "\u001B[34m\u001B[1mtrain: \u001B[0m/media/abawi/e38fddf9-a92e-4c73-b905-995771f8fc3a/datasets/segmentation/yolo_style_fourclass/train/images/g3 (21).jpg: corrupt JPEG restored and saved\n",
      "\u001B[34m\u001B[1mtrain: \u001B[0m/media/abawi/e38fddf9-a92e-4c73-b905-995771f8fc3a/datasets/segmentation/yolo_style_fourclass/train/images/g3 (23).jpg: corrupt JPEG restored and saved\n",
      "\u001B[34m\u001B[1mtrain: \u001B[0m/media/abawi/e38fddf9-a92e-4c73-b905-995771f8fc3a/datasets/segmentation/yolo_style_fourclass/train/images/g3 (24).jpg: corrupt JPEG restored and saved\n",
      "\u001B[34m\u001B[1mtrain: \u001B[0m/media/abawi/e38fddf9-a92e-4c73-b905-995771f8fc3a/datasets/segmentation/yolo_style_fourclass/train/images/g3 (25).jpg: corrupt JPEG restored and saved\n",
      "\u001B[34m\u001B[1mtrain: \u001B[0m/media/abawi/e38fddf9-a92e-4c73-b905-995771f8fc3a/datasets/segmentation/yolo_style_fourclass/train/images/g3 (26).jpg: corrupt JPEG restored and saved\n",
      "\u001B[34m\u001B[1mtrain: \u001B[0m/media/abawi/e38fddf9-a92e-4c73-b905-995771f8fc3a/datasets/segmentation/yolo_style_fourclass/train/images/g3 (27).jpg: corrupt JPEG restored and saved\n",
      "\u001B[34m\u001B[1mtrain: \u001B[0m/media/abawi/e38fddf9-a92e-4c73-b905-995771f8fc3a/datasets/segmentation/yolo_style_fourclass/train/images/g3 (28).jpg: corrupt JPEG restored and saved\n",
      "\u001B[34m\u001B[1mtrain: \u001B[0m/media/abawi/e38fddf9-a92e-4c73-b905-995771f8fc3a/datasets/segmentation/yolo_style_fourclass/train/images/g3 (29).jpg: corrupt JPEG restored and saved\n",
      "\u001B[34m\u001B[1mtrain: \u001B[0m/media/abawi/e38fddf9-a92e-4c73-b905-995771f8fc3a/datasets/segmentation/yolo_style_fourclass/train/images/g3 (3).jpg: corrupt JPEG restored and saved\n",
      "\u001B[34m\u001B[1mtrain: \u001B[0m/media/abawi/e38fddf9-a92e-4c73-b905-995771f8fc3a/datasets/segmentation/yolo_style_fourclass/train/images/g3 (30).jpg: corrupt JPEG restored and saved\n",
      "\u001B[34m\u001B[1mtrain: \u001B[0m/media/abawi/e38fddf9-a92e-4c73-b905-995771f8fc3a/datasets/segmentation/yolo_style_fourclass/train/images/g3 (31).jpg: corrupt JPEG restored and saved\n",
      "\u001B[34m\u001B[1mtrain: \u001B[0m/media/abawi/e38fddf9-a92e-4c73-b905-995771f8fc3a/datasets/segmentation/yolo_style_fourclass/train/images/g3 (32).jpg: corrupt JPEG restored and saved\n",
      "\u001B[34m\u001B[1mtrain: \u001B[0m/media/abawi/e38fddf9-a92e-4c73-b905-995771f8fc3a/datasets/segmentation/yolo_style_fourclass/train/images/g3 (33).jpg: corrupt JPEG restored and saved\n",
      "\u001B[34m\u001B[1mtrain: \u001B[0m/media/abawi/e38fddf9-a92e-4c73-b905-995771f8fc3a/datasets/segmentation/yolo_style_fourclass/train/images/g3 (34).jpg: corrupt JPEG restored and saved\n",
      "\u001B[34m\u001B[1mtrain: \u001B[0m/media/abawi/e38fddf9-a92e-4c73-b905-995771f8fc3a/datasets/segmentation/yolo_style_fourclass/train/images/g3 (35).jpg: corrupt JPEG restored and saved\n",
      "\u001B[34m\u001B[1mtrain: \u001B[0m/media/abawi/e38fddf9-a92e-4c73-b905-995771f8fc3a/datasets/segmentation/yolo_style_fourclass/train/images/g3 (37).jpg: corrupt JPEG restored and saved\n",
      "\u001B[34m\u001B[1mtrain: \u001B[0m/media/abawi/e38fddf9-a92e-4c73-b905-995771f8fc3a/datasets/segmentation/yolo_style_fourclass/train/images/g3 (38).jpg: corrupt JPEG restored and saved\n",
      "\u001B[34m\u001B[1mtrain: \u001B[0m/media/abawi/e38fddf9-a92e-4c73-b905-995771f8fc3a/datasets/segmentation/yolo_style_fourclass/train/images/g3 (39).jpg: corrupt JPEG restored and saved\n",
      "\u001B[34m\u001B[1mtrain: \u001B[0m/media/abawi/e38fddf9-a92e-4c73-b905-995771f8fc3a/datasets/segmentation/yolo_style_fourclass/train/images/g3 (40).jpg: corrupt JPEG restored and saved\n",
      "\u001B[34m\u001B[1mtrain: \u001B[0m/media/abawi/e38fddf9-a92e-4c73-b905-995771f8fc3a/datasets/segmentation/yolo_style_fourclass/train/images/g3 (41).jpg: corrupt JPEG restored and saved\n",
      "\u001B[34m\u001B[1mtrain: \u001B[0m/media/abawi/e38fddf9-a92e-4c73-b905-995771f8fc3a/datasets/segmentation/yolo_style_fourclass/train/images/g3 (42).jpg: corrupt JPEG restored and saved\n",
      "\u001B[34m\u001B[1mtrain: \u001B[0m/media/abawi/e38fddf9-a92e-4c73-b905-995771f8fc3a/datasets/segmentation/yolo_style_fourclass/train/images/g3 (43).jpg: corrupt JPEG restored and saved\n",
      "\u001B[34m\u001B[1mtrain: \u001B[0m/media/abawi/e38fddf9-a92e-4c73-b905-995771f8fc3a/datasets/segmentation/yolo_style_fourclass/train/images/g3 (45).jpg: corrupt JPEG restored and saved\n",
      "\u001B[34m\u001B[1mtrain: \u001B[0m/media/abawi/e38fddf9-a92e-4c73-b905-995771f8fc3a/datasets/segmentation/yolo_style_fourclass/train/images/g3 (46).jpg: corrupt JPEG restored and saved\n",
      "\u001B[34m\u001B[1mtrain: \u001B[0m/media/abawi/e38fddf9-a92e-4c73-b905-995771f8fc3a/datasets/segmentation/yolo_style_fourclass/train/images/g3 (47).jpg: corrupt JPEG restored and saved\n",
      "\u001B[34m\u001B[1mtrain: \u001B[0m/media/abawi/e38fddf9-a92e-4c73-b905-995771f8fc3a/datasets/segmentation/yolo_style_fourclass/train/images/g3 (48).jpg: corrupt JPEG restored and saved\n",
      "\u001B[34m\u001B[1mtrain: \u001B[0m/media/abawi/e38fddf9-a92e-4c73-b905-995771f8fc3a/datasets/segmentation/yolo_style_fourclass/train/images/g3 (49).jpg: corrupt JPEG restored and saved\n",
      "\u001B[34m\u001B[1mtrain: \u001B[0m/media/abawi/e38fddf9-a92e-4c73-b905-995771f8fc3a/datasets/segmentation/yolo_style_fourclass/train/images/g3 (5).jpg: corrupt JPEG restored and saved\n",
      "\u001B[34m\u001B[1mtrain: \u001B[0m/media/abawi/e38fddf9-a92e-4c73-b905-995771f8fc3a/datasets/segmentation/yolo_style_fourclass/train/images/g3 (50).jpg: corrupt JPEG restored and saved\n",
      "\u001B[34m\u001B[1mtrain: \u001B[0m/media/abawi/e38fddf9-a92e-4c73-b905-995771f8fc3a/datasets/segmentation/yolo_style_fourclass/train/images/g3 (51).jpg: corrupt JPEG restored and saved\n",
      "\u001B[34m\u001B[1mtrain: \u001B[0m/media/abawi/e38fddf9-a92e-4c73-b905-995771f8fc3a/datasets/segmentation/yolo_style_fourclass/train/images/g3 (52).jpg: corrupt JPEG restored and saved\n",
      "\u001B[34m\u001B[1mtrain: \u001B[0m/media/abawi/e38fddf9-a92e-4c73-b905-995771f8fc3a/datasets/segmentation/yolo_style_fourclass/train/images/g3 (53).jpg: corrupt JPEG restored and saved\n",
      "\u001B[34m\u001B[1mtrain: \u001B[0m/media/abawi/e38fddf9-a92e-4c73-b905-995771f8fc3a/datasets/segmentation/yolo_style_fourclass/train/images/g3 (54).jpg: corrupt JPEG restored and saved\n",
      "\u001B[34m\u001B[1mtrain: \u001B[0m/media/abawi/e38fddf9-a92e-4c73-b905-995771f8fc3a/datasets/segmentation/yolo_style_fourclass/train/images/g3 (56).jpg: corrupt JPEG restored and saved\n",
      "\u001B[34m\u001B[1mtrain: \u001B[0m/media/abawi/e38fddf9-a92e-4c73-b905-995771f8fc3a/datasets/segmentation/yolo_style_fourclass/train/images/g3 (57).jpg: corrupt JPEG restored and saved\n",
      "\u001B[34m\u001B[1mtrain: \u001B[0m/media/abawi/e38fddf9-a92e-4c73-b905-995771f8fc3a/datasets/segmentation/yolo_style_fourclass/train/images/g3 (58).jpg: corrupt JPEG restored and saved\n",
      "\u001B[34m\u001B[1mtrain: \u001B[0m/media/abawi/e38fddf9-a92e-4c73-b905-995771f8fc3a/datasets/segmentation/yolo_style_fourclass/train/images/g3 (59).jpg: corrupt JPEG restored and saved\n",
      "\u001B[34m\u001B[1mtrain: \u001B[0m/media/abawi/e38fddf9-a92e-4c73-b905-995771f8fc3a/datasets/segmentation/yolo_style_fourclass/train/images/g3 (6).jpg: corrupt JPEG restored and saved\n",
      "\u001B[34m\u001B[1mtrain: \u001B[0m/media/abawi/e38fddf9-a92e-4c73-b905-995771f8fc3a/datasets/segmentation/yolo_style_fourclass/train/images/g3 (60).jpg: corrupt JPEG restored and saved\n",
      "\u001B[34m\u001B[1mtrain: \u001B[0m/media/abawi/e38fddf9-a92e-4c73-b905-995771f8fc3a/datasets/segmentation/yolo_style_fourclass/train/images/g3 (61).jpg: corrupt JPEG restored and saved\n",
      "\u001B[34m\u001B[1mtrain: \u001B[0m/media/abawi/e38fddf9-a92e-4c73-b905-995771f8fc3a/datasets/segmentation/yolo_style_fourclass/train/images/g3 (62).jpg: corrupt JPEG restored and saved\n",
      "\u001B[34m\u001B[1mtrain: \u001B[0m/media/abawi/e38fddf9-a92e-4c73-b905-995771f8fc3a/datasets/segmentation/yolo_style_fourclass/train/images/g3 (63).jpg: corrupt JPEG restored and saved\n",
      "\u001B[34m\u001B[1mtrain: \u001B[0m/media/abawi/e38fddf9-a92e-4c73-b905-995771f8fc3a/datasets/segmentation/yolo_style_fourclass/train/images/g3 (64).jpg: corrupt JPEG restored and saved\n",
      "\u001B[34m\u001B[1mtrain: \u001B[0m/media/abawi/e38fddf9-a92e-4c73-b905-995771f8fc3a/datasets/segmentation/yolo_style_fourclass/train/images/g3 (65).jpg: corrupt JPEG restored and saved\n",
      "\u001B[34m\u001B[1mtrain: \u001B[0m/media/abawi/e38fddf9-a92e-4c73-b905-995771f8fc3a/datasets/segmentation/yolo_style_fourclass/train/images/g3 (66).jpg: corrupt JPEG restored and saved\n",
      "\u001B[34m\u001B[1mtrain: \u001B[0m/media/abawi/e38fddf9-a92e-4c73-b905-995771f8fc3a/datasets/segmentation/yolo_style_fourclass/train/images/g3 (67).jpg: corrupt JPEG restored and saved\n",
      "\u001B[34m\u001B[1mtrain: \u001B[0m/media/abawi/e38fddf9-a92e-4c73-b905-995771f8fc3a/datasets/segmentation/yolo_style_fourclass/train/images/g3 (68).jpg: corrupt JPEG restored and saved\n",
      "\u001B[34m\u001B[1mtrain: \u001B[0m/media/abawi/e38fddf9-a92e-4c73-b905-995771f8fc3a/datasets/segmentation/yolo_style_fourclass/train/images/g3 (70).jpg: corrupt JPEG restored and saved\n",
      "\u001B[34m\u001B[1mtrain: \u001B[0m/media/abawi/e38fddf9-a92e-4c73-b905-995771f8fc3a/datasets/segmentation/yolo_style_fourclass/train/images/g3 (71).jpg: corrupt JPEG restored and saved\n",
      "\u001B[34m\u001B[1mtrain: \u001B[0m/media/abawi/e38fddf9-a92e-4c73-b905-995771f8fc3a/datasets/segmentation/yolo_style_fourclass/train/images/g3 (72).jpg: corrupt JPEG restored and saved\n",
      "\u001B[34m\u001B[1mtrain: \u001B[0m/media/abawi/e38fddf9-a92e-4c73-b905-995771f8fc3a/datasets/segmentation/yolo_style_fourclass/train/images/g3 (74).jpg: corrupt JPEG restored and saved\n",
      "\u001B[34m\u001B[1mtrain: \u001B[0m/media/abawi/e38fddf9-a92e-4c73-b905-995771f8fc3a/datasets/segmentation/yolo_style_fourclass/train/images/g3 (75).jpg: corrupt JPEG restored and saved\n",
      "\u001B[34m\u001B[1mtrain: \u001B[0m/media/abawi/e38fddf9-a92e-4c73-b905-995771f8fc3a/datasets/segmentation/yolo_style_fourclass/train/images/g3 (76).jpg: corrupt JPEG restored and saved\n",
      "\u001B[34m\u001B[1mtrain: \u001B[0m/media/abawi/e38fddf9-a92e-4c73-b905-995771f8fc3a/datasets/segmentation/yolo_style_fourclass/train/images/g3 (77).jpg: corrupt JPEG restored and saved\n",
      "\u001B[34m\u001B[1mtrain: \u001B[0m/media/abawi/e38fddf9-a92e-4c73-b905-995771f8fc3a/datasets/segmentation/yolo_style_fourclass/train/images/g3 (79).jpg: corrupt JPEG restored and saved\n",
      "\u001B[34m\u001B[1mtrain: \u001B[0m/media/abawi/e38fddf9-a92e-4c73-b905-995771f8fc3a/datasets/segmentation/yolo_style_fourclass/train/images/g3 (8).jpg: corrupt JPEG restored and saved\n",
      "\u001B[34m\u001B[1mtrain: \u001B[0m/media/abawi/e38fddf9-a92e-4c73-b905-995771f8fc3a/datasets/segmentation/yolo_style_fourclass/train/images/g3 (80).jpg: corrupt JPEG restored and saved\n",
      "\u001B[34m\u001B[1mtrain: \u001B[0m/media/abawi/e38fddf9-a92e-4c73-b905-995771f8fc3a/datasets/segmentation/yolo_style_fourclass/train/images/g3 (81).jpg: corrupt JPEG restored and saved\n",
      "\u001B[34m\u001B[1mtrain: \u001B[0m/media/abawi/e38fddf9-a92e-4c73-b905-995771f8fc3a/datasets/segmentation/yolo_style_fourclass/train/images/g3 (82).jpg: corrupt JPEG restored and saved\n",
      "\u001B[34m\u001B[1mtrain: \u001B[0m/media/abawi/e38fddf9-a92e-4c73-b905-995771f8fc3a/datasets/segmentation/yolo_style_fourclass/train/images/g3 (83).jpg: corrupt JPEG restored and saved\n",
      "\u001B[34m\u001B[1mtrain: \u001B[0m/media/abawi/e38fddf9-a92e-4c73-b905-995771f8fc3a/datasets/segmentation/yolo_style_fourclass/train/images/g3 (84).jpg: corrupt JPEG restored and saved\n",
      "\u001B[34m\u001B[1mtrain: \u001B[0m/media/abawi/e38fddf9-a92e-4c73-b905-995771f8fc3a/datasets/segmentation/yolo_style_fourclass/train/images/g3 (85).jpg: corrupt JPEG restored and saved\n",
      "\u001B[34m\u001B[1mtrain: \u001B[0m/media/abawi/e38fddf9-a92e-4c73-b905-995771f8fc3a/datasets/segmentation/yolo_style_fourclass/train/images/g3 (86).jpg: corrupt JPEG restored and saved\n",
      "\u001B[34m\u001B[1mtrain: \u001B[0m/media/abawi/e38fddf9-a92e-4c73-b905-995771f8fc3a/datasets/segmentation/yolo_style_fourclass/train/images/g3 (87).jpg: corrupt JPEG restored and saved\n",
      "\u001B[34m\u001B[1mtrain: \u001B[0m/media/abawi/e38fddf9-a92e-4c73-b905-995771f8fc3a/datasets/segmentation/yolo_style_fourclass/train/images/g3 (88).jpg: corrupt JPEG restored and saved\n",
      "\u001B[34m\u001B[1mtrain: \u001B[0m/media/abawi/e38fddf9-a92e-4c73-b905-995771f8fc3a/datasets/segmentation/yolo_style_fourclass/train/images/g3 (89).jpg: corrupt JPEG restored and saved\n",
      "\u001B[34m\u001B[1mtrain: \u001B[0m/media/abawi/e38fddf9-a92e-4c73-b905-995771f8fc3a/datasets/segmentation/yolo_style_fourclass/train/images/g3 (9).jpg: corrupt JPEG restored and saved\n",
      "\u001B[34m\u001B[1mtrain: \u001B[0m/media/abawi/e38fddf9-a92e-4c73-b905-995771f8fc3a/datasets/segmentation/yolo_style_fourclass/train/images/g3 (90).jpg: corrupt JPEG restored and saved\n",
      "\u001B[34m\u001B[1mtrain: \u001B[0m/media/abawi/e38fddf9-a92e-4c73-b905-995771f8fc3a/datasets/segmentation/yolo_style_fourclass/train/images/g3 (91).jpg: corrupt JPEG restored and saved\n",
      "\u001B[34m\u001B[1mtrain: \u001B[0m/media/abawi/e38fddf9-a92e-4c73-b905-995771f8fc3a/datasets/segmentation/yolo_style_fourclass/train/images/g3 (92).jpg: corrupt JPEG restored and saved\n",
      "\u001B[34m\u001B[1mtrain: \u001B[0m/media/abawi/e38fddf9-a92e-4c73-b905-995771f8fc3a/datasets/segmentation/yolo_style_fourclass/train/images/g3 (93).jpg: corrupt JPEG restored and saved\n",
      "\u001B[34m\u001B[1mtrain: \u001B[0m/media/abawi/e38fddf9-a92e-4c73-b905-995771f8fc3a/datasets/segmentation/yolo_style_fourclass/train/images/g3 (94).jpg: corrupt JPEG restored and saved\n",
      "\u001B[34m\u001B[1mtrain: \u001B[0m/media/abawi/e38fddf9-a92e-4c73-b905-995771f8fc3a/datasets/segmentation/yolo_style_fourclass/train/images/g3 (95).jpg: corrupt JPEG restored and saved\n",
      "\u001B[34m\u001B[1mtrain: \u001B[0m/media/abawi/e38fddf9-a92e-4c73-b905-995771f8fc3a/datasets/segmentation/yolo_style_fourclass/train/images/g3 (96).jpg: corrupt JPEG restored and saved\n",
      "\u001B[34m\u001B[1mtrain: \u001B[0m/media/abawi/e38fddf9-a92e-4c73-b905-995771f8fc3a/datasets/segmentation/yolo_style_fourclass/train/images/g3 (97).jpg: corrupt JPEG restored and saved\n",
      "\u001B[34m\u001B[1mtrain: \u001B[0m/media/abawi/e38fddf9-a92e-4c73-b905-995771f8fc3a/datasets/segmentation/yolo_style_fourclass/train/images/g3 (98).jpg: corrupt JPEG restored and saved\n",
      "\u001B[34m\u001B[1mtrain: \u001B[0m/media/abawi/e38fddf9-a92e-4c73-b905-995771f8fc3a/datasets/segmentation/yolo_style_fourclass/train/images/l (1).jpg: corrupt JPEG restored and saved\n",
      "\u001B[34m\u001B[1mtrain: \u001B[0m/media/abawi/e38fddf9-a92e-4c73-b905-995771f8fc3a/datasets/segmentation/yolo_style_fourclass/train/images/l (10).jpg: corrupt JPEG restored and saved\n",
      "\u001B[34m\u001B[1mtrain: \u001B[0m/media/abawi/e38fddf9-a92e-4c73-b905-995771f8fc3a/datasets/segmentation/yolo_style_fourclass/train/images/l (100).jpg: corrupt JPEG restored and saved\n",
      "\u001B[34m\u001B[1mtrain: \u001B[0m/media/abawi/e38fddf9-a92e-4c73-b905-995771f8fc3a/datasets/segmentation/yolo_style_fourclass/train/images/l (102).jpg: corrupt JPEG restored and saved\n",
      "\u001B[34m\u001B[1mtrain: \u001B[0m/media/abawi/e38fddf9-a92e-4c73-b905-995771f8fc3a/datasets/segmentation/yolo_style_fourclass/train/images/l (104).jpg: corrupt JPEG restored and saved\n",
      "\u001B[34m\u001B[1mtrain: \u001B[0m/media/abawi/e38fddf9-a92e-4c73-b905-995771f8fc3a/datasets/segmentation/yolo_style_fourclass/train/images/l (105).jpg: corrupt JPEG restored and saved\n",
      "\u001B[34m\u001B[1mtrain: \u001B[0m/media/abawi/e38fddf9-a92e-4c73-b905-995771f8fc3a/datasets/segmentation/yolo_style_fourclass/train/images/l (106).jpg: corrupt JPEG restored and saved\n",
      "\u001B[34m\u001B[1mtrain: \u001B[0m/media/abawi/e38fddf9-a92e-4c73-b905-995771f8fc3a/datasets/segmentation/yolo_style_fourclass/train/images/l (107).jpg: corrupt JPEG restored and saved\n",
      "\u001B[34m\u001B[1mtrain: \u001B[0m/media/abawi/e38fddf9-a92e-4c73-b905-995771f8fc3a/datasets/segmentation/yolo_style_fourclass/train/images/l (108).jpg: corrupt JPEG restored and saved\n",
      "\u001B[34m\u001B[1mtrain: \u001B[0m/media/abawi/e38fddf9-a92e-4c73-b905-995771f8fc3a/datasets/segmentation/yolo_style_fourclass/train/images/l (11).jpg: corrupt JPEG restored and saved\n",
      "\u001B[34m\u001B[1mtrain: \u001B[0m/media/abawi/e38fddf9-a92e-4c73-b905-995771f8fc3a/datasets/segmentation/yolo_style_fourclass/train/images/l (111).jpg: corrupt JPEG restored and saved\n",
      "\u001B[34m\u001B[1mtrain: \u001B[0m/media/abawi/e38fddf9-a92e-4c73-b905-995771f8fc3a/datasets/segmentation/yolo_style_fourclass/train/images/l (113).jpg: corrupt JPEG restored and saved\n",
      "\u001B[34m\u001B[1mtrain: \u001B[0m/media/abawi/e38fddf9-a92e-4c73-b905-995771f8fc3a/datasets/segmentation/yolo_style_fourclass/train/images/l (115).jpg: corrupt JPEG restored and saved\n",
      "\u001B[34m\u001B[1mtrain: \u001B[0m/media/abawi/e38fddf9-a92e-4c73-b905-995771f8fc3a/datasets/segmentation/yolo_style_fourclass/train/images/l (12).jpg: corrupt JPEG restored and saved\n",
      "\u001B[34m\u001B[1mtrain: \u001B[0m/media/abawi/e38fddf9-a92e-4c73-b905-995771f8fc3a/datasets/segmentation/yolo_style_fourclass/train/images/l (120).jpg: corrupt JPEG restored and saved\n",
      "\u001B[34m\u001B[1mtrain: \u001B[0m/media/abawi/e38fddf9-a92e-4c73-b905-995771f8fc3a/datasets/segmentation/yolo_style_fourclass/train/images/l (121).jpg: corrupt JPEG restored and saved\n",
      "\u001B[34m\u001B[1mtrain: \u001B[0m/media/abawi/e38fddf9-a92e-4c73-b905-995771f8fc3a/datasets/segmentation/yolo_style_fourclass/train/images/l (122).jpg: corrupt JPEG restored and saved\n",
      "\u001B[34m\u001B[1mtrain: \u001B[0m/media/abawi/e38fddf9-a92e-4c73-b905-995771f8fc3a/datasets/segmentation/yolo_style_fourclass/train/images/l (123).jpg: corrupt JPEG restored and saved\n",
      "\u001B[34m\u001B[1mtrain: \u001B[0m/media/abawi/e38fddf9-a92e-4c73-b905-995771f8fc3a/datasets/segmentation/yolo_style_fourclass/train/images/l (124).jpg: corrupt JPEG restored and saved\n",
      "\u001B[34m\u001B[1mtrain: \u001B[0m/media/abawi/e38fddf9-a92e-4c73-b905-995771f8fc3a/datasets/segmentation/yolo_style_fourclass/train/images/l (125).jpg: corrupt JPEG restored and saved\n",
      "\u001B[34m\u001B[1mtrain: \u001B[0m/media/abawi/e38fddf9-a92e-4c73-b905-995771f8fc3a/datasets/segmentation/yolo_style_fourclass/train/images/l (126).jpg: corrupt JPEG restored and saved\n",
      "\u001B[34m\u001B[1mtrain: \u001B[0m/media/abawi/e38fddf9-a92e-4c73-b905-995771f8fc3a/datasets/segmentation/yolo_style_fourclass/train/images/l (127).jpg: corrupt JPEG restored and saved\n",
      "\u001B[34m\u001B[1mtrain: \u001B[0m/media/abawi/e38fddf9-a92e-4c73-b905-995771f8fc3a/datasets/segmentation/yolo_style_fourclass/train/images/l (13).jpg: corrupt JPEG restored and saved\n",
      "\u001B[34m\u001B[1mtrain: \u001B[0m/media/abawi/e38fddf9-a92e-4c73-b905-995771f8fc3a/datasets/segmentation/yolo_style_fourclass/train/images/l (132).jpg: corrupt JPEG restored and saved\n",
      "\u001B[34m\u001B[1mtrain: \u001B[0m/media/abawi/e38fddf9-a92e-4c73-b905-995771f8fc3a/datasets/segmentation/yolo_style_fourclass/train/images/l (137).jpg: corrupt JPEG restored and saved\n",
      "\u001B[34m\u001B[1mtrain: \u001B[0m/media/abawi/e38fddf9-a92e-4c73-b905-995771f8fc3a/datasets/segmentation/yolo_style_fourclass/train/images/l (138).jpg: corrupt JPEG restored and saved\n",
      "\u001B[34m\u001B[1mtrain: \u001B[0m/media/abawi/e38fddf9-a92e-4c73-b905-995771f8fc3a/datasets/segmentation/yolo_style_fourclass/train/images/l (14).jpg: corrupt JPEG restored and saved\n",
      "\u001B[34m\u001B[1mtrain: \u001B[0m/media/abawi/e38fddf9-a92e-4c73-b905-995771f8fc3a/datasets/segmentation/yolo_style_fourclass/train/images/l (142).jpg: corrupt JPEG restored and saved\n",
      "\u001B[34m\u001B[1mtrain: \u001B[0m/media/abawi/e38fddf9-a92e-4c73-b905-995771f8fc3a/datasets/segmentation/yolo_style_fourclass/train/images/l (143).jpg: corrupt JPEG restored and saved\n",
      "\u001B[34m\u001B[1mtrain: \u001B[0m/media/abawi/e38fddf9-a92e-4c73-b905-995771f8fc3a/datasets/segmentation/yolo_style_fourclass/train/images/l (144).jpg: corrupt JPEG restored and saved\n",
      "\u001B[34m\u001B[1mtrain: \u001B[0m/media/abawi/e38fddf9-a92e-4c73-b905-995771f8fc3a/datasets/segmentation/yolo_style_fourclass/train/images/l (145).jpg: corrupt JPEG restored and saved\n",
      "\u001B[34m\u001B[1mtrain: \u001B[0m/media/abawi/e38fddf9-a92e-4c73-b905-995771f8fc3a/datasets/segmentation/yolo_style_fourclass/train/images/l (147).jpg: corrupt JPEG restored and saved\n",
      "\u001B[34m\u001B[1mtrain: \u001B[0m/media/abawi/e38fddf9-a92e-4c73-b905-995771f8fc3a/datasets/segmentation/yolo_style_fourclass/train/images/l (148).jpg: corrupt JPEG restored and saved\n",
      "\u001B[34m\u001B[1mtrain: \u001B[0m/media/abawi/e38fddf9-a92e-4c73-b905-995771f8fc3a/datasets/segmentation/yolo_style_fourclass/train/images/l (152).jpg: corrupt JPEG restored and saved\n",
      "\u001B[34m\u001B[1mtrain: \u001B[0m/media/abawi/e38fddf9-a92e-4c73-b905-995771f8fc3a/datasets/segmentation/yolo_style_fourclass/train/images/l (153).jpg: corrupt JPEG restored and saved\n",
      "\u001B[34m\u001B[1mtrain: \u001B[0m/media/abawi/e38fddf9-a92e-4c73-b905-995771f8fc3a/datasets/segmentation/yolo_style_fourclass/train/images/l (154).jpg: corrupt JPEG restored and saved\n",
      "\u001B[34m\u001B[1mtrain: \u001B[0m/media/abawi/e38fddf9-a92e-4c73-b905-995771f8fc3a/datasets/segmentation/yolo_style_fourclass/train/images/l (155).jpg: corrupt JPEG restored and saved\n",
      "\u001B[34m\u001B[1mtrain: \u001B[0m/media/abawi/e38fddf9-a92e-4c73-b905-995771f8fc3a/datasets/segmentation/yolo_style_fourclass/train/images/l (156).jpg: corrupt JPEG restored and saved\n",
      "\u001B[34m\u001B[1mtrain: \u001B[0m/media/abawi/e38fddf9-a92e-4c73-b905-995771f8fc3a/datasets/segmentation/yolo_style_fourclass/train/images/l (158).jpg: corrupt JPEG restored and saved\n",
      "\u001B[34m\u001B[1mtrain: \u001B[0m/media/abawi/e38fddf9-a92e-4c73-b905-995771f8fc3a/datasets/segmentation/yolo_style_fourclass/train/images/l (160).jpg: corrupt JPEG restored and saved\n",
      "\u001B[34m\u001B[1mtrain: \u001B[0m/media/abawi/e38fddf9-a92e-4c73-b905-995771f8fc3a/datasets/segmentation/yolo_style_fourclass/train/images/l (163).jpg: corrupt JPEG restored and saved\n",
      "\u001B[34m\u001B[1mtrain: \u001B[0m/media/abawi/e38fddf9-a92e-4c73-b905-995771f8fc3a/datasets/segmentation/yolo_style_fourclass/train/images/l (165).jpg: corrupt JPEG restored and saved\n",
      "\u001B[34m\u001B[1mtrain: \u001B[0m/media/abawi/e38fddf9-a92e-4c73-b905-995771f8fc3a/datasets/segmentation/yolo_style_fourclass/train/images/l (167).jpg: corrupt JPEG restored and saved\n",
      "\u001B[34m\u001B[1mtrain: \u001B[0m/media/abawi/e38fddf9-a92e-4c73-b905-995771f8fc3a/datasets/segmentation/yolo_style_fourclass/train/images/l (169).jpg: corrupt JPEG restored and saved\n",
      "\u001B[34m\u001B[1mtrain: \u001B[0m/media/abawi/e38fddf9-a92e-4c73-b905-995771f8fc3a/datasets/segmentation/yolo_style_fourclass/train/images/l (17).jpg: corrupt JPEG restored and saved\n",
      "\u001B[34m\u001B[1mtrain: \u001B[0m/media/abawi/e38fddf9-a92e-4c73-b905-995771f8fc3a/datasets/segmentation/yolo_style_fourclass/train/images/l (172).jpg: corrupt JPEG restored and saved\n",
      "\u001B[34m\u001B[1mtrain: \u001B[0m/media/abawi/e38fddf9-a92e-4c73-b905-995771f8fc3a/datasets/segmentation/yolo_style_fourclass/train/images/l (173).jpg: corrupt JPEG restored and saved\n",
      "\u001B[34m\u001B[1mtrain: \u001B[0m/media/abawi/e38fddf9-a92e-4c73-b905-995771f8fc3a/datasets/segmentation/yolo_style_fourclass/train/images/l (174).jpg: corrupt JPEG restored and saved\n",
      "\u001B[34m\u001B[1mtrain: \u001B[0m/media/abawi/e38fddf9-a92e-4c73-b905-995771f8fc3a/datasets/segmentation/yolo_style_fourclass/train/images/l (175).jpg: corrupt JPEG restored and saved\n",
      "\u001B[34m\u001B[1mtrain: \u001B[0m/media/abawi/e38fddf9-a92e-4c73-b905-995771f8fc3a/datasets/segmentation/yolo_style_fourclass/train/images/l (176).jpg: corrupt JPEG restored and saved\n",
      "\u001B[34m\u001B[1mtrain: \u001B[0m/media/abawi/e38fddf9-a92e-4c73-b905-995771f8fc3a/datasets/segmentation/yolo_style_fourclass/train/images/l (177).jpg: corrupt JPEG restored and saved\n",
      "\u001B[34m\u001B[1mtrain: \u001B[0m/media/abawi/e38fddf9-a92e-4c73-b905-995771f8fc3a/datasets/segmentation/yolo_style_fourclass/train/images/l (180).jpg: corrupt JPEG restored and saved\n",
      "\u001B[34m\u001B[1mtrain: \u001B[0m/media/abawi/e38fddf9-a92e-4c73-b905-995771f8fc3a/datasets/segmentation/yolo_style_fourclass/train/images/l (181).jpg: corrupt JPEG restored and saved\n",
      "\u001B[34m\u001B[1mtrain: \u001B[0m/media/abawi/e38fddf9-a92e-4c73-b905-995771f8fc3a/datasets/segmentation/yolo_style_fourclass/train/images/l (182).jpg: corrupt JPEG restored and saved\n",
      "\u001B[34m\u001B[1mtrain: \u001B[0m/media/abawi/e38fddf9-a92e-4c73-b905-995771f8fc3a/datasets/segmentation/yolo_style_fourclass/train/images/l (184).jpg: corrupt JPEG restored and saved\n",
      "\u001B[34m\u001B[1mtrain: \u001B[0m/media/abawi/e38fddf9-a92e-4c73-b905-995771f8fc3a/datasets/segmentation/yolo_style_fourclass/train/images/l (185).jpg: corrupt JPEG restored and saved\n",
      "\u001B[34m\u001B[1mtrain: \u001B[0m/media/abawi/e38fddf9-a92e-4c73-b905-995771f8fc3a/datasets/segmentation/yolo_style_fourclass/train/images/l (186).jpg: corrupt JPEG restored and saved\n",
      "\u001B[34m\u001B[1mtrain: \u001B[0m/media/abawi/e38fddf9-a92e-4c73-b905-995771f8fc3a/datasets/segmentation/yolo_style_fourclass/train/images/l (188).jpg: corrupt JPEG restored and saved\n",
      "\u001B[34m\u001B[1mtrain: \u001B[0m/media/abawi/e38fddf9-a92e-4c73-b905-995771f8fc3a/datasets/segmentation/yolo_style_fourclass/train/images/l (19).jpg: corrupt JPEG restored and saved\n",
      "\u001B[34m\u001B[1mtrain: \u001B[0m/media/abawi/e38fddf9-a92e-4c73-b905-995771f8fc3a/datasets/segmentation/yolo_style_fourclass/train/images/l (190).jpg: corrupt JPEG restored and saved\n",
      "\u001B[34m\u001B[1mtrain: \u001B[0m/media/abawi/e38fddf9-a92e-4c73-b905-995771f8fc3a/datasets/segmentation/yolo_style_fourclass/train/images/l (198).jpg: corrupt JPEG restored and saved\n",
      "\u001B[34m\u001B[1mtrain: \u001B[0m/media/abawi/e38fddf9-a92e-4c73-b905-995771f8fc3a/datasets/segmentation/yolo_style_fourclass/train/images/l (199).jpg: corrupt JPEG restored and saved\n",
      "\u001B[34m\u001B[1mtrain: \u001B[0m/media/abawi/e38fddf9-a92e-4c73-b905-995771f8fc3a/datasets/segmentation/yolo_style_fourclass/train/images/l (20).jpg: corrupt JPEG restored and saved\n",
      "\u001B[34m\u001B[1mtrain: \u001B[0m/media/abawi/e38fddf9-a92e-4c73-b905-995771f8fc3a/datasets/segmentation/yolo_style_fourclass/train/images/l (201).jpg: corrupt JPEG restored and saved\n",
      "\u001B[34m\u001B[1mtrain: \u001B[0m/media/abawi/e38fddf9-a92e-4c73-b905-995771f8fc3a/datasets/segmentation/yolo_style_fourclass/train/images/l (205).jpg: corrupt JPEG restored and saved\n",
      "\u001B[34m\u001B[1mtrain: \u001B[0m/media/abawi/e38fddf9-a92e-4c73-b905-995771f8fc3a/datasets/segmentation/yolo_style_fourclass/train/images/l (207).jpg: corrupt JPEG restored and saved\n",
      "\u001B[34m\u001B[1mtrain: \u001B[0m/media/abawi/e38fddf9-a92e-4c73-b905-995771f8fc3a/datasets/segmentation/yolo_style_fourclass/train/images/l (209).jpg: corrupt JPEG restored and saved\n",
      "\u001B[34m\u001B[1mtrain: \u001B[0m/media/abawi/e38fddf9-a92e-4c73-b905-995771f8fc3a/datasets/segmentation/yolo_style_fourclass/train/images/l (21).jpg: corrupt JPEG restored and saved\n",
      "\u001B[34m\u001B[1mtrain: \u001B[0m/media/abawi/e38fddf9-a92e-4c73-b905-995771f8fc3a/datasets/segmentation/yolo_style_fourclass/train/images/l (213).jpg: corrupt JPEG restored and saved\n",
      "\u001B[34m\u001B[1mtrain: \u001B[0m/media/abawi/e38fddf9-a92e-4c73-b905-995771f8fc3a/datasets/segmentation/yolo_style_fourclass/train/images/l (214).jpg: corrupt JPEG restored and saved\n",
      "\u001B[34m\u001B[1mtrain: \u001B[0m/media/abawi/e38fddf9-a92e-4c73-b905-995771f8fc3a/datasets/segmentation/yolo_style_fourclass/train/images/l (215).jpg: corrupt JPEG restored and saved\n",
      "\u001B[34m\u001B[1mtrain: \u001B[0m/media/abawi/e38fddf9-a92e-4c73-b905-995771f8fc3a/datasets/segmentation/yolo_style_fourclass/train/images/l (216).jpg: corrupt JPEG restored and saved\n",
      "\u001B[34m\u001B[1mtrain: \u001B[0m/media/abawi/e38fddf9-a92e-4c73-b905-995771f8fc3a/datasets/segmentation/yolo_style_fourclass/train/images/l (218).jpg: corrupt JPEG restored and saved\n",
      "\u001B[34m\u001B[1mtrain: \u001B[0m/media/abawi/e38fddf9-a92e-4c73-b905-995771f8fc3a/datasets/segmentation/yolo_style_fourclass/train/images/l (22).jpg: corrupt JPEG restored and saved\n",
      "\u001B[34m\u001B[1mtrain: \u001B[0m/media/abawi/e38fddf9-a92e-4c73-b905-995771f8fc3a/datasets/segmentation/yolo_style_fourclass/train/images/l (222).jpg: corrupt JPEG restored and saved\n",
      "\u001B[34m\u001B[1mtrain: \u001B[0m/media/abawi/e38fddf9-a92e-4c73-b905-995771f8fc3a/datasets/segmentation/yolo_style_fourclass/train/images/l (223).jpg: corrupt JPEG restored and saved\n",
      "\u001B[34m\u001B[1mtrain: \u001B[0m/media/abawi/e38fddf9-a92e-4c73-b905-995771f8fc3a/datasets/segmentation/yolo_style_fourclass/train/images/l (224).jpg: corrupt JPEG restored and saved\n",
      "\u001B[34m\u001B[1mtrain: \u001B[0m/media/abawi/e38fddf9-a92e-4c73-b905-995771f8fc3a/datasets/segmentation/yolo_style_fourclass/train/images/l (23).jpg: corrupt JPEG restored and saved\n",
      "\u001B[34m\u001B[1mtrain: \u001B[0m/media/abawi/e38fddf9-a92e-4c73-b905-995771f8fc3a/datasets/segmentation/yolo_style_fourclass/train/images/l (234).jpg: corrupt JPEG restored and saved\n",
      "\u001B[34m\u001B[1mtrain: \u001B[0m/media/abawi/e38fddf9-a92e-4c73-b905-995771f8fc3a/datasets/segmentation/yolo_style_fourclass/train/images/l (235).jpg: corrupt JPEG restored and saved\n",
      "\u001B[34m\u001B[1mtrain: \u001B[0m/media/abawi/e38fddf9-a92e-4c73-b905-995771f8fc3a/datasets/segmentation/yolo_style_fourclass/train/images/l (236).jpg: corrupt JPEG restored and saved\n",
      "\u001B[34m\u001B[1mtrain: \u001B[0m/media/abawi/e38fddf9-a92e-4c73-b905-995771f8fc3a/datasets/segmentation/yolo_style_fourclass/train/images/l (237).jpg: corrupt JPEG restored and saved\n",
      "\u001B[34m\u001B[1mtrain: \u001B[0m/media/abawi/e38fddf9-a92e-4c73-b905-995771f8fc3a/datasets/segmentation/yolo_style_fourclass/train/images/l (238).jpg: corrupt JPEG restored and saved\n",
      "\u001B[34m\u001B[1mtrain: \u001B[0m/media/abawi/e38fddf9-a92e-4c73-b905-995771f8fc3a/datasets/segmentation/yolo_style_fourclass/train/images/l (239).jpg: corrupt JPEG restored and saved\n",
      "\u001B[34m\u001B[1mtrain: \u001B[0m/media/abawi/e38fddf9-a92e-4c73-b905-995771f8fc3a/datasets/segmentation/yolo_style_fourclass/train/images/l (24).jpg: corrupt JPEG restored and saved\n",
      "\u001B[34m\u001B[1mtrain: \u001B[0m/media/abawi/e38fddf9-a92e-4c73-b905-995771f8fc3a/datasets/segmentation/yolo_style_fourclass/train/images/l (241).jpg: corrupt JPEG restored and saved\n",
      "\u001B[34m\u001B[1mtrain: \u001B[0m/media/abawi/e38fddf9-a92e-4c73-b905-995771f8fc3a/datasets/segmentation/yolo_style_fourclass/train/images/l (243).jpg: corrupt JPEG restored and saved\n",
      "\u001B[34m\u001B[1mtrain: \u001B[0m/media/abawi/e38fddf9-a92e-4c73-b905-995771f8fc3a/datasets/segmentation/yolo_style_fourclass/train/images/l (244).jpg: corrupt JPEG restored and saved\n",
      "\u001B[34m\u001B[1mtrain: \u001B[0m/media/abawi/e38fddf9-a92e-4c73-b905-995771f8fc3a/datasets/segmentation/yolo_style_fourclass/train/images/l (246).jpg: corrupt JPEG restored and saved\n",
      "\u001B[34m\u001B[1mtrain: \u001B[0m/media/abawi/e38fddf9-a92e-4c73-b905-995771f8fc3a/datasets/segmentation/yolo_style_fourclass/train/images/l (248).jpg: corrupt JPEG restored and saved\n",
      "\u001B[34m\u001B[1mtrain: \u001B[0m/media/abawi/e38fddf9-a92e-4c73-b905-995771f8fc3a/datasets/segmentation/yolo_style_fourclass/train/images/l (249).jpg: corrupt JPEG restored and saved\n",
      "\u001B[34m\u001B[1mtrain: \u001B[0m/media/abawi/e38fddf9-a92e-4c73-b905-995771f8fc3a/datasets/segmentation/yolo_style_fourclass/train/images/l (253).jpg: corrupt JPEG restored and saved\n",
      "\u001B[34m\u001B[1mtrain: \u001B[0m/media/abawi/e38fddf9-a92e-4c73-b905-995771f8fc3a/datasets/segmentation/yolo_style_fourclass/train/images/l (256).jpg: corrupt JPEG restored and saved\n",
      "\u001B[34m\u001B[1mtrain: \u001B[0m/media/abawi/e38fddf9-a92e-4c73-b905-995771f8fc3a/datasets/segmentation/yolo_style_fourclass/train/images/l (257).jpg: corrupt JPEG restored and saved\n",
      "\u001B[34m\u001B[1mtrain: \u001B[0m/media/abawi/e38fddf9-a92e-4c73-b905-995771f8fc3a/datasets/segmentation/yolo_style_fourclass/train/images/l (258).jpg: corrupt JPEG restored and saved\n",
      "\u001B[34m\u001B[1mtrain: \u001B[0m/media/abawi/e38fddf9-a92e-4c73-b905-995771f8fc3a/datasets/segmentation/yolo_style_fourclass/train/images/l (259).jpg: corrupt JPEG restored and saved\n",
      "\u001B[34m\u001B[1mtrain: \u001B[0m/media/abawi/e38fddf9-a92e-4c73-b905-995771f8fc3a/datasets/segmentation/yolo_style_fourclass/train/images/l (26).jpg: corrupt JPEG restored and saved\n",
      "\u001B[34m\u001B[1mtrain: \u001B[0m/media/abawi/e38fddf9-a92e-4c73-b905-995771f8fc3a/datasets/segmentation/yolo_style_fourclass/train/images/l (260).jpg: corrupt JPEG restored and saved\n",
      "\u001B[34m\u001B[1mtrain: \u001B[0m/media/abawi/e38fddf9-a92e-4c73-b905-995771f8fc3a/datasets/segmentation/yolo_style_fourclass/train/images/l (263).jpg: corrupt JPEG restored and saved\n",
      "\u001B[34m\u001B[1mtrain: \u001B[0m/media/abawi/e38fddf9-a92e-4c73-b905-995771f8fc3a/datasets/segmentation/yolo_style_fourclass/train/images/l (269).jpg: corrupt JPEG restored and saved\n",
      "\u001B[34m\u001B[1mtrain: \u001B[0m/media/abawi/e38fddf9-a92e-4c73-b905-995771f8fc3a/datasets/segmentation/yolo_style_fourclass/train/images/l (27).jpg: corrupt JPEG restored and saved\n",
      "\u001B[34m\u001B[1mtrain: \u001B[0m/media/abawi/e38fddf9-a92e-4c73-b905-995771f8fc3a/datasets/segmentation/yolo_style_fourclass/train/images/l (270).jpg: corrupt JPEG restored and saved\n",
      "\u001B[34m\u001B[1mtrain: \u001B[0m/media/abawi/e38fddf9-a92e-4c73-b905-995771f8fc3a/datasets/segmentation/yolo_style_fourclass/train/images/l (271).jpg: corrupt JPEG restored and saved\n",
      "\u001B[34m\u001B[1mtrain: \u001B[0m/media/abawi/e38fddf9-a92e-4c73-b905-995771f8fc3a/datasets/segmentation/yolo_style_fourclass/train/images/l (272).jpg: corrupt JPEG restored and saved\n",
      "\u001B[34m\u001B[1mtrain: \u001B[0m/media/abawi/e38fddf9-a92e-4c73-b905-995771f8fc3a/datasets/segmentation/yolo_style_fourclass/train/images/l (273).jpg: corrupt JPEG restored and saved\n",
      "\u001B[34m\u001B[1mtrain: \u001B[0m/media/abawi/e38fddf9-a92e-4c73-b905-995771f8fc3a/datasets/segmentation/yolo_style_fourclass/train/images/l (276).jpg: corrupt JPEG restored and saved\n",
      "\u001B[34m\u001B[1mtrain: \u001B[0m/media/abawi/e38fddf9-a92e-4c73-b905-995771f8fc3a/datasets/segmentation/yolo_style_fourclass/train/images/l (278).jpg: corrupt JPEG restored and saved\n",
      "\u001B[34m\u001B[1mtrain: \u001B[0m/media/abawi/e38fddf9-a92e-4c73-b905-995771f8fc3a/datasets/segmentation/yolo_style_fourclass/train/images/l (279).jpg: corrupt JPEG restored and saved\n",
      "\u001B[34m\u001B[1mtrain: \u001B[0m/media/abawi/e38fddf9-a92e-4c73-b905-995771f8fc3a/datasets/segmentation/yolo_style_fourclass/train/images/l (282).jpg: corrupt JPEG restored and saved\n",
      "\u001B[34m\u001B[1mtrain: \u001B[0m/media/abawi/e38fddf9-a92e-4c73-b905-995771f8fc3a/datasets/segmentation/yolo_style_fourclass/train/images/l (283).jpg: corrupt JPEG restored and saved\n",
      "\u001B[34m\u001B[1mtrain: \u001B[0m/media/abawi/e38fddf9-a92e-4c73-b905-995771f8fc3a/datasets/segmentation/yolo_style_fourclass/train/images/l (286).jpg: corrupt JPEG restored and saved\n",
      "\u001B[34m\u001B[1mtrain: \u001B[0m/media/abawi/e38fddf9-a92e-4c73-b905-995771f8fc3a/datasets/segmentation/yolo_style_fourclass/train/images/l (287).jpg: corrupt JPEG restored and saved\n",
      "\u001B[34m\u001B[1mtrain: \u001B[0m/media/abawi/e38fddf9-a92e-4c73-b905-995771f8fc3a/datasets/segmentation/yolo_style_fourclass/train/images/l (288).jpg: corrupt JPEG restored and saved\n",
      "\u001B[34m\u001B[1mtrain: \u001B[0m/media/abawi/e38fddf9-a92e-4c73-b905-995771f8fc3a/datasets/segmentation/yolo_style_fourclass/train/images/l (289).jpg: corrupt JPEG restored and saved\n",
      "\u001B[34m\u001B[1mtrain: \u001B[0m/media/abawi/e38fddf9-a92e-4c73-b905-995771f8fc3a/datasets/segmentation/yolo_style_fourclass/train/images/l (29).jpg: corrupt JPEG restored and saved\n",
      "\u001B[34m\u001B[1mtrain: \u001B[0m/media/abawi/e38fddf9-a92e-4c73-b905-995771f8fc3a/datasets/segmentation/yolo_style_fourclass/train/images/l (290).jpg: corrupt JPEG restored and saved\n",
      "\u001B[34m\u001B[1mtrain: \u001B[0m/media/abawi/e38fddf9-a92e-4c73-b905-995771f8fc3a/datasets/segmentation/yolo_style_fourclass/train/images/l (30).jpg: corrupt JPEG restored and saved\n",
      "\u001B[34m\u001B[1mtrain: \u001B[0m/media/abawi/e38fddf9-a92e-4c73-b905-995771f8fc3a/datasets/segmentation/yolo_style_fourclass/train/images/l (302).jpg: corrupt JPEG restored and saved\n",
      "\u001B[34m\u001B[1mtrain: \u001B[0m/media/abawi/e38fddf9-a92e-4c73-b905-995771f8fc3a/datasets/segmentation/yolo_style_fourclass/train/images/l (303).jpg: corrupt JPEG restored and saved\n",
      "\u001B[34m\u001B[1mtrain: \u001B[0m/media/abawi/e38fddf9-a92e-4c73-b905-995771f8fc3a/datasets/segmentation/yolo_style_fourclass/train/images/l (304).jpg: corrupt JPEG restored and saved\n",
      "\u001B[34m\u001B[1mtrain: \u001B[0m/media/abawi/e38fddf9-a92e-4c73-b905-995771f8fc3a/datasets/segmentation/yolo_style_fourclass/train/images/l (306).jpg: corrupt JPEG restored and saved\n",
      "\u001B[34m\u001B[1mtrain: \u001B[0m/media/abawi/e38fddf9-a92e-4c73-b905-995771f8fc3a/datasets/segmentation/yolo_style_fourclass/train/images/l (313).jpg: corrupt JPEG restored and saved\n",
      "\u001B[34m\u001B[1mtrain: \u001B[0m/media/abawi/e38fddf9-a92e-4c73-b905-995771f8fc3a/datasets/segmentation/yolo_style_fourclass/train/images/l (319).jpg: corrupt JPEG restored and saved\n",
      "\u001B[34m\u001B[1mtrain: \u001B[0m/media/abawi/e38fddf9-a92e-4c73-b905-995771f8fc3a/datasets/segmentation/yolo_style_fourclass/train/images/l (322).jpg: corrupt JPEG restored and saved\n",
      "\u001B[34m\u001B[1mtrain: \u001B[0m/media/abawi/e38fddf9-a92e-4c73-b905-995771f8fc3a/datasets/segmentation/yolo_style_fourclass/train/images/l (327).jpg: corrupt JPEG restored and saved\n",
      "\u001B[34m\u001B[1mtrain: \u001B[0m/media/abawi/e38fddf9-a92e-4c73-b905-995771f8fc3a/datasets/segmentation/yolo_style_fourclass/train/images/l (33).jpg: corrupt JPEG restored and saved\n",
      "\u001B[34m\u001B[1mtrain: \u001B[0m/media/abawi/e38fddf9-a92e-4c73-b905-995771f8fc3a/datasets/segmentation/yolo_style_fourclass/train/images/l (330).jpg: corrupt JPEG restored and saved\n",
      "\u001B[34m\u001B[1mtrain: \u001B[0m/media/abawi/e38fddf9-a92e-4c73-b905-995771f8fc3a/datasets/segmentation/yolo_style_fourclass/train/images/l (331).jpg: corrupt JPEG restored and saved\n",
      "\u001B[34m\u001B[1mtrain: \u001B[0m/media/abawi/e38fddf9-a92e-4c73-b905-995771f8fc3a/datasets/segmentation/yolo_style_fourclass/train/images/l (335).jpg: corrupt JPEG restored and saved\n",
      "\u001B[34m\u001B[1mtrain: \u001B[0m/media/abawi/e38fddf9-a92e-4c73-b905-995771f8fc3a/datasets/segmentation/yolo_style_fourclass/train/images/l (34).jpg: corrupt JPEG restored and saved\n",
      "\u001B[34m\u001B[1mtrain: \u001B[0m/media/abawi/e38fddf9-a92e-4c73-b905-995771f8fc3a/datasets/segmentation/yolo_style_fourclass/train/images/l (342).jpg: corrupt JPEG restored and saved\n",
      "\u001B[34m\u001B[1mtrain: \u001B[0m/media/abawi/e38fddf9-a92e-4c73-b905-995771f8fc3a/datasets/segmentation/yolo_style_fourclass/train/images/l (343).jpg: corrupt JPEG restored and saved\n",
      "\u001B[34m\u001B[1mtrain: \u001B[0m/media/abawi/e38fddf9-a92e-4c73-b905-995771f8fc3a/datasets/segmentation/yolo_style_fourclass/train/images/l (344).jpg: corrupt JPEG restored and saved\n",
      "\u001B[34m\u001B[1mtrain: \u001B[0m/media/abawi/e38fddf9-a92e-4c73-b905-995771f8fc3a/datasets/segmentation/yolo_style_fourclass/train/images/l (346).jpg: corrupt JPEG restored and saved\n",
      "\u001B[34m\u001B[1mtrain: \u001B[0m/media/abawi/e38fddf9-a92e-4c73-b905-995771f8fc3a/datasets/segmentation/yolo_style_fourclass/train/images/l (348).jpg: corrupt JPEG restored and saved\n",
      "\u001B[34m\u001B[1mtrain: \u001B[0m/media/abawi/e38fddf9-a92e-4c73-b905-995771f8fc3a/datasets/segmentation/yolo_style_fourclass/train/images/l (35).jpg: corrupt JPEG restored and saved\n",
      "\u001B[34m\u001B[1mtrain: \u001B[0m/media/abawi/e38fddf9-a92e-4c73-b905-995771f8fc3a/datasets/segmentation/yolo_style_fourclass/train/images/l (350).jpg: corrupt JPEG restored and saved\n",
      "\u001B[34m\u001B[1mtrain: \u001B[0m/media/abawi/e38fddf9-a92e-4c73-b905-995771f8fc3a/datasets/segmentation/yolo_style_fourclass/train/images/l (353).jpg: corrupt JPEG restored and saved\n",
      "\u001B[34m\u001B[1mtrain: \u001B[0m/media/abawi/e38fddf9-a92e-4c73-b905-995771f8fc3a/datasets/segmentation/yolo_style_fourclass/train/images/l (354).jpg: corrupt JPEG restored and saved\n",
      "\u001B[34m\u001B[1mtrain: \u001B[0m/media/abawi/e38fddf9-a92e-4c73-b905-995771f8fc3a/datasets/segmentation/yolo_style_fourclass/train/images/l (357).jpg: corrupt JPEG restored and saved\n",
      "\u001B[34m\u001B[1mtrain: \u001B[0m/media/abawi/e38fddf9-a92e-4c73-b905-995771f8fc3a/datasets/segmentation/yolo_style_fourclass/train/images/l (358).jpg: corrupt JPEG restored and saved\n",
      "\u001B[34m\u001B[1mtrain: \u001B[0m/media/abawi/e38fddf9-a92e-4c73-b905-995771f8fc3a/datasets/segmentation/yolo_style_fourclass/train/images/l (359).jpg: corrupt JPEG restored and saved\n",
      "\u001B[34m\u001B[1mtrain: \u001B[0m/media/abawi/e38fddf9-a92e-4c73-b905-995771f8fc3a/datasets/segmentation/yolo_style_fourclass/train/images/l (36).jpg: corrupt JPEG restored and saved\n",
      "\u001B[34m\u001B[1mtrain: \u001B[0m/media/abawi/e38fddf9-a92e-4c73-b905-995771f8fc3a/datasets/segmentation/yolo_style_fourclass/train/images/l (360).jpg: corrupt JPEG restored and saved\n",
      "\u001B[34m\u001B[1mtrain: \u001B[0m/media/abawi/e38fddf9-a92e-4c73-b905-995771f8fc3a/datasets/segmentation/yolo_style_fourclass/train/images/l (361).jpg: corrupt JPEG restored and saved\n",
      "\u001B[34m\u001B[1mtrain: \u001B[0m/media/abawi/e38fddf9-a92e-4c73-b905-995771f8fc3a/datasets/segmentation/yolo_style_fourclass/train/images/l (362).jpg: corrupt JPEG restored and saved\n",
      "\u001B[34m\u001B[1mtrain: \u001B[0m/media/abawi/e38fddf9-a92e-4c73-b905-995771f8fc3a/datasets/segmentation/yolo_style_fourclass/train/images/l (364).jpg: corrupt JPEG restored and saved\n",
      "\u001B[34m\u001B[1mtrain: \u001B[0m/media/abawi/e38fddf9-a92e-4c73-b905-995771f8fc3a/datasets/segmentation/yolo_style_fourclass/train/images/l (366).jpg: corrupt JPEG restored and saved\n",
      "\u001B[34m\u001B[1mtrain: \u001B[0m/media/abawi/e38fddf9-a92e-4c73-b905-995771f8fc3a/datasets/segmentation/yolo_style_fourclass/train/images/l (367).jpg: corrupt JPEG restored and saved\n",
      "\u001B[34m\u001B[1mtrain: \u001B[0m/media/abawi/e38fddf9-a92e-4c73-b905-995771f8fc3a/datasets/segmentation/yolo_style_fourclass/train/images/l (368).jpg: corrupt JPEG restored and saved\n",
      "\u001B[34m\u001B[1mtrain: \u001B[0m/media/abawi/e38fddf9-a92e-4c73-b905-995771f8fc3a/datasets/segmentation/yolo_style_fourclass/train/images/l (371).jpg: corrupt JPEG restored and saved\n",
      "\u001B[34m\u001B[1mtrain: \u001B[0m/media/abawi/e38fddf9-a92e-4c73-b905-995771f8fc3a/datasets/segmentation/yolo_style_fourclass/train/images/l (38).jpg: corrupt JPEG restored and saved\n",
      "\u001B[34m\u001B[1mtrain: \u001B[0m/media/abawi/e38fddf9-a92e-4c73-b905-995771f8fc3a/datasets/segmentation/yolo_style_fourclass/train/images/l (383).jpg: corrupt JPEG restored and saved\n",
      "\u001B[34m\u001B[1mtrain: \u001B[0m/media/abawi/e38fddf9-a92e-4c73-b905-995771f8fc3a/datasets/segmentation/yolo_style_fourclass/train/images/l (384).jpg: corrupt JPEG restored and saved\n",
      "\u001B[34m\u001B[1mtrain: \u001B[0m/media/abawi/e38fddf9-a92e-4c73-b905-995771f8fc3a/datasets/segmentation/yolo_style_fourclass/train/images/l (387).jpg: corrupt JPEG restored and saved\n",
      "\u001B[34m\u001B[1mtrain: \u001B[0m/media/abawi/e38fddf9-a92e-4c73-b905-995771f8fc3a/datasets/segmentation/yolo_style_fourclass/train/images/l (388).jpg: corrupt JPEG restored and saved\n",
      "\u001B[34m\u001B[1mtrain: \u001B[0m/media/abawi/e38fddf9-a92e-4c73-b905-995771f8fc3a/datasets/segmentation/yolo_style_fourclass/train/images/l (392).jpg: corrupt JPEG restored and saved\n",
      "\u001B[34m\u001B[1mtrain: \u001B[0m/media/abawi/e38fddf9-a92e-4c73-b905-995771f8fc3a/datasets/segmentation/yolo_style_fourclass/train/images/l (393).jpg: corrupt JPEG restored and saved\n",
      "\u001B[34m\u001B[1mtrain: \u001B[0m/media/abawi/e38fddf9-a92e-4c73-b905-995771f8fc3a/datasets/segmentation/yolo_style_fourclass/train/images/l (396).jpg: corrupt JPEG restored and saved\n",
      "\u001B[34m\u001B[1mtrain: \u001B[0m/media/abawi/e38fddf9-a92e-4c73-b905-995771f8fc3a/datasets/segmentation/yolo_style_fourclass/train/images/l (399).jpg: corrupt JPEG restored and saved\n",
      "\u001B[34m\u001B[1mtrain: \u001B[0m/media/abawi/e38fddf9-a92e-4c73-b905-995771f8fc3a/datasets/segmentation/yolo_style_fourclass/train/images/l (4).jpg: corrupt JPEG restored and saved\n",
      "\u001B[34m\u001B[1mtrain: \u001B[0m/media/abawi/e38fddf9-a92e-4c73-b905-995771f8fc3a/datasets/segmentation/yolo_style_fourclass/train/images/l (400).jpg: corrupt JPEG restored and saved\n",
      "\u001B[34m\u001B[1mtrain: \u001B[0m/media/abawi/e38fddf9-a92e-4c73-b905-995771f8fc3a/datasets/segmentation/yolo_style_fourclass/train/images/l (41).jpg: corrupt JPEG restored and saved\n",
      "\u001B[34m\u001B[1mtrain: \u001B[0m/media/abawi/e38fddf9-a92e-4c73-b905-995771f8fc3a/datasets/segmentation/yolo_style_fourclass/train/images/l (42).jpg: corrupt JPEG restored and saved\n",
      "\u001B[34m\u001B[1mtrain: \u001B[0m/media/abawi/e38fddf9-a92e-4c73-b905-995771f8fc3a/datasets/segmentation/yolo_style_fourclass/train/images/l (43).jpg: corrupt JPEG restored and saved\n",
      "\u001B[34m\u001B[1mtrain: \u001B[0m/media/abawi/e38fddf9-a92e-4c73-b905-995771f8fc3a/datasets/segmentation/yolo_style_fourclass/train/images/l (46).jpg: corrupt JPEG restored and saved\n",
      "\u001B[34m\u001B[1mtrain: \u001B[0m/media/abawi/e38fddf9-a92e-4c73-b905-995771f8fc3a/datasets/segmentation/yolo_style_fourclass/train/images/l (57).jpg: corrupt JPEG restored and saved\n",
      "\u001B[34m\u001B[1mtrain: \u001B[0m/media/abawi/e38fddf9-a92e-4c73-b905-995771f8fc3a/datasets/segmentation/yolo_style_fourclass/train/images/l (58).jpg: corrupt JPEG restored and saved\n",
      "\u001B[34m\u001B[1mtrain: \u001B[0m/media/abawi/e38fddf9-a92e-4c73-b905-995771f8fc3a/datasets/segmentation/yolo_style_fourclass/train/images/l (59).jpg: corrupt JPEG restored and saved\n",
      "\u001B[34m\u001B[1mtrain: \u001B[0m/media/abawi/e38fddf9-a92e-4c73-b905-995771f8fc3a/datasets/segmentation/yolo_style_fourclass/train/images/l (60).jpg: corrupt JPEG restored and saved\n",
      "\u001B[34m\u001B[1mtrain: \u001B[0m/media/abawi/e38fddf9-a92e-4c73-b905-995771f8fc3a/datasets/segmentation/yolo_style_fourclass/train/images/l (64).jpg: corrupt JPEG restored and saved\n",
      "\u001B[34m\u001B[1mtrain: \u001B[0m/media/abawi/e38fddf9-a92e-4c73-b905-995771f8fc3a/datasets/segmentation/yolo_style_fourclass/train/images/l (65).jpg: corrupt JPEG restored and saved\n",
      "\u001B[34m\u001B[1mtrain: \u001B[0m/media/abawi/e38fddf9-a92e-4c73-b905-995771f8fc3a/datasets/segmentation/yolo_style_fourclass/train/images/l (68).jpg: corrupt JPEG restored and saved\n",
      "\u001B[34m\u001B[1mtrain: \u001B[0m/media/abawi/e38fddf9-a92e-4c73-b905-995771f8fc3a/datasets/segmentation/yolo_style_fourclass/train/images/l (7).jpg: corrupt JPEG restored and saved\n",
      "\u001B[34m\u001B[1mtrain: \u001B[0m/media/abawi/e38fddf9-a92e-4c73-b905-995771f8fc3a/datasets/segmentation/yolo_style_fourclass/train/images/l (73).jpg: corrupt JPEG restored and saved\n",
      "\u001B[34m\u001B[1mtrain: \u001B[0m/media/abawi/e38fddf9-a92e-4c73-b905-995771f8fc3a/datasets/segmentation/yolo_style_fourclass/train/images/l (74).jpg: corrupt JPEG restored and saved\n",
      "\u001B[34m\u001B[1mtrain: \u001B[0m/media/abawi/e38fddf9-a92e-4c73-b905-995771f8fc3a/datasets/segmentation/yolo_style_fourclass/train/images/l (75).jpg: corrupt JPEG restored and saved\n",
      "\u001B[34m\u001B[1mtrain: \u001B[0m/media/abawi/e38fddf9-a92e-4c73-b905-995771f8fc3a/datasets/segmentation/yolo_style_fourclass/train/images/l (76).jpg: corrupt JPEG restored and saved\n",
      "\u001B[34m\u001B[1mtrain: \u001B[0m/media/abawi/e38fddf9-a92e-4c73-b905-995771f8fc3a/datasets/segmentation/yolo_style_fourclass/train/images/l (77).jpg: corrupt JPEG restored and saved\n",
      "\u001B[34m\u001B[1mtrain: \u001B[0m/media/abawi/e38fddf9-a92e-4c73-b905-995771f8fc3a/datasets/segmentation/yolo_style_fourclass/train/images/l (78).jpg: corrupt JPEG restored and saved\n",
      "\u001B[34m\u001B[1mtrain: \u001B[0m/media/abawi/e38fddf9-a92e-4c73-b905-995771f8fc3a/datasets/segmentation/yolo_style_fourclass/train/images/l (80).jpg: corrupt JPEG restored and saved\n",
      "\u001B[34m\u001B[1mtrain: \u001B[0m/media/abawi/e38fddf9-a92e-4c73-b905-995771f8fc3a/datasets/segmentation/yolo_style_fourclass/train/images/l (81).jpg: corrupt JPEG restored and saved\n",
      "\u001B[34m\u001B[1mtrain: \u001B[0m/media/abawi/e38fddf9-a92e-4c73-b905-995771f8fc3a/datasets/segmentation/yolo_style_fourclass/train/images/l (82).jpg: corrupt JPEG restored and saved\n",
      "\u001B[34m\u001B[1mtrain: \u001B[0m/media/abawi/e38fddf9-a92e-4c73-b905-995771f8fc3a/datasets/segmentation/yolo_style_fourclass/train/images/l (84).jpg: corrupt JPEG restored and saved\n",
      "\u001B[34m\u001B[1mtrain: \u001B[0m/media/abawi/e38fddf9-a92e-4c73-b905-995771f8fc3a/datasets/segmentation/yolo_style_fourclass/train/images/l (85).jpg: corrupt JPEG restored and saved\n",
      "\u001B[34m\u001B[1mtrain: \u001B[0m/media/abawi/e38fddf9-a92e-4c73-b905-995771f8fc3a/datasets/segmentation/yolo_style_fourclass/train/images/l (86).jpg: corrupt JPEG restored and saved\n",
      "\u001B[34m\u001B[1mtrain: \u001B[0m/media/abawi/e38fddf9-a92e-4c73-b905-995771f8fc3a/datasets/segmentation/yolo_style_fourclass/train/images/l (87).jpg: corrupt JPEG restored and saved\n",
      "\u001B[34m\u001B[1mtrain: \u001B[0m/media/abawi/e38fddf9-a92e-4c73-b905-995771f8fc3a/datasets/segmentation/yolo_style_fourclass/train/images/l (89).jpg: corrupt JPEG restored and saved\n",
      "\u001B[34m\u001B[1mtrain: \u001B[0m/media/abawi/e38fddf9-a92e-4c73-b905-995771f8fc3a/datasets/segmentation/yolo_style_fourclass/train/images/l (9).jpg: corrupt JPEG restored and saved\n",
      "\u001B[34m\u001B[1mtrain: \u001B[0m/media/abawi/e38fddf9-a92e-4c73-b905-995771f8fc3a/datasets/segmentation/yolo_style_fourclass/train/images/l (90).jpg: corrupt JPEG restored and saved\n",
      "\u001B[34m\u001B[1mtrain: \u001B[0m/media/abawi/e38fddf9-a92e-4c73-b905-995771f8fc3a/datasets/segmentation/yolo_style_fourclass/train/images/l (96).jpg: corrupt JPEG restored and saved\n",
      "\u001B[34m\u001B[1mtrain: \u001B[0m/media/abawi/e38fddf9-a92e-4c73-b905-995771f8fc3a/datasets/segmentation/yolo_style_fourclass/train/images/l (97).jpg: corrupt JPEG restored and saved\n",
      "\u001B[34m\u001B[1mtrain: \u001B[0m/media/abawi/e38fddf9-a92e-4c73-b905-995771f8fc3a/datasets/segmentation/yolo_style_fourclass/train/images/l (98).jpg: corrupt JPEG restored and saved\n",
      "\u001B[34m\u001B[1mtrain: \u001B[0m/media/abawi/e38fddf9-a92e-4c73-b905-995771f8fc3a/datasets/segmentation/yolo_style_fourclass/train/images/l (99).jpg: corrupt JPEG restored and saved\n",
      "\u001B[34m\u001B[1mtrain: \u001B[0m/media/abawi/e38fddf9-a92e-4c73-b905-995771f8fc3a/datasets/segmentation/yolo_style_fourclass/train/images/w (1).jpg: corrupt JPEG restored and saved\n",
      "\u001B[34m\u001B[1mtrain: \u001B[0m/media/abawi/e38fddf9-a92e-4c73-b905-995771f8fc3a/datasets/segmentation/yolo_style_fourclass/train/images/w (10).jpg: corrupt JPEG restored and saved\n",
      "\u001B[34m\u001B[1mtrain: \u001B[0m/media/abawi/e38fddf9-a92e-4c73-b905-995771f8fc3a/datasets/segmentation/yolo_style_fourclass/train/images/w (100).jpg: corrupt JPEG restored and saved\n",
      "\u001B[34m\u001B[1mtrain: \u001B[0m/media/abawi/e38fddf9-a92e-4c73-b905-995771f8fc3a/datasets/segmentation/yolo_style_fourclass/train/images/w (101).jpg: corrupt JPEG restored and saved\n",
      "\u001B[34m\u001B[1mtrain: \u001B[0m/media/abawi/e38fddf9-a92e-4c73-b905-995771f8fc3a/datasets/segmentation/yolo_style_fourclass/train/images/w (103).jpg: corrupt JPEG restored and saved\n",
      "\u001B[34m\u001B[1mtrain: \u001B[0m/media/abawi/e38fddf9-a92e-4c73-b905-995771f8fc3a/datasets/segmentation/yolo_style_fourclass/train/images/w (104).jpg: corrupt JPEG restored and saved\n",
      "\u001B[34m\u001B[1mtrain: \u001B[0m/media/abawi/e38fddf9-a92e-4c73-b905-995771f8fc3a/datasets/segmentation/yolo_style_fourclass/train/images/w (105).jpg: corrupt JPEG restored and saved\n",
      "\u001B[34m\u001B[1mtrain: \u001B[0m/media/abawi/e38fddf9-a92e-4c73-b905-995771f8fc3a/datasets/segmentation/yolo_style_fourclass/train/images/w (106).jpg: corrupt JPEG restored and saved\n",
      "\u001B[34m\u001B[1mtrain: \u001B[0m/media/abawi/e38fddf9-a92e-4c73-b905-995771f8fc3a/datasets/segmentation/yolo_style_fourclass/train/images/w (107).jpg: corrupt JPEG restored and saved\n",
      "\u001B[34m\u001B[1mtrain: \u001B[0m/media/abawi/e38fddf9-a92e-4c73-b905-995771f8fc3a/datasets/segmentation/yolo_style_fourclass/train/images/w (108).jpg: corrupt JPEG restored and saved\n",
      "\u001B[34m\u001B[1mtrain: \u001B[0m/media/abawi/e38fddf9-a92e-4c73-b905-995771f8fc3a/datasets/segmentation/yolo_style_fourclass/train/images/w (109).jpg: corrupt JPEG restored and saved\n",
      "\u001B[34m\u001B[1mtrain: \u001B[0m/media/abawi/e38fddf9-a92e-4c73-b905-995771f8fc3a/datasets/segmentation/yolo_style_fourclass/train/images/w (110).jpg: corrupt JPEG restored and saved\n",
      "\u001B[34m\u001B[1mtrain: \u001B[0m/media/abawi/e38fddf9-a92e-4c73-b905-995771f8fc3a/datasets/segmentation/yolo_style_fourclass/train/images/w (111).jpg: corrupt JPEG restored and saved\n",
      "\u001B[34m\u001B[1mtrain: \u001B[0m/media/abawi/e38fddf9-a92e-4c73-b905-995771f8fc3a/datasets/segmentation/yolo_style_fourclass/train/images/w (112).jpg: corrupt JPEG restored and saved\n",
      "\u001B[34m\u001B[1mtrain: \u001B[0m/media/abawi/e38fddf9-a92e-4c73-b905-995771f8fc3a/datasets/segmentation/yolo_style_fourclass/train/images/w (113).jpg: corrupt JPEG restored and saved\n",
      "\u001B[34m\u001B[1mtrain: \u001B[0m/media/abawi/e38fddf9-a92e-4c73-b905-995771f8fc3a/datasets/segmentation/yolo_style_fourclass/train/images/w (114).jpg: corrupt JPEG restored and saved\n",
      "\u001B[34m\u001B[1mtrain: \u001B[0m/media/abawi/e38fddf9-a92e-4c73-b905-995771f8fc3a/datasets/segmentation/yolo_style_fourclass/train/images/w (115).jpg: corrupt JPEG restored and saved\n",
      "\u001B[34m\u001B[1mtrain: \u001B[0m/media/abawi/e38fddf9-a92e-4c73-b905-995771f8fc3a/datasets/segmentation/yolo_style_fourclass/train/images/w (116).jpg: corrupt JPEG restored and saved\n",
      "\u001B[34m\u001B[1mtrain: \u001B[0m/media/abawi/e38fddf9-a92e-4c73-b905-995771f8fc3a/datasets/segmentation/yolo_style_fourclass/train/images/w (117).jpg: corrupt JPEG restored and saved\n",
      "\u001B[34m\u001B[1mtrain: \u001B[0m/media/abawi/e38fddf9-a92e-4c73-b905-995771f8fc3a/datasets/segmentation/yolo_style_fourclass/train/images/w (118).jpg: corrupt JPEG restored and saved\n",
      "\u001B[34m\u001B[1mtrain: \u001B[0m/media/abawi/e38fddf9-a92e-4c73-b905-995771f8fc3a/datasets/segmentation/yolo_style_fourclass/train/images/w (119).jpg: corrupt JPEG restored and saved\n",
      "\u001B[34m\u001B[1mtrain: \u001B[0m/media/abawi/e38fddf9-a92e-4c73-b905-995771f8fc3a/datasets/segmentation/yolo_style_fourclass/train/images/w (12).jpg: corrupt JPEG restored and saved\n",
      "\u001B[34m\u001B[1mtrain: \u001B[0m/media/abawi/e38fddf9-a92e-4c73-b905-995771f8fc3a/datasets/segmentation/yolo_style_fourclass/train/images/w (121).jpg: corrupt JPEG restored and saved\n",
      "\u001B[34m\u001B[1mtrain: \u001B[0m/media/abawi/e38fddf9-a92e-4c73-b905-995771f8fc3a/datasets/segmentation/yolo_style_fourclass/train/images/w (122).jpg: corrupt JPEG restored and saved\n",
      "\u001B[34m\u001B[1mtrain: \u001B[0m/media/abawi/e38fddf9-a92e-4c73-b905-995771f8fc3a/datasets/segmentation/yolo_style_fourclass/train/images/w (124).jpg: corrupt JPEG restored and saved\n",
      "\u001B[34m\u001B[1mtrain: \u001B[0m/media/abawi/e38fddf9-a92e-4c73-b905-995771f8fc3a/datasets/segmentation/yolo_style_fourclass/train/images/w (125).jpg: corrupt JPEG restored and saved\n",
      "\u001B[34m\u001B[1mtrain: \u001B[0m/media/abawi/e38fddf9-a92e-4c73-b905-995771f8fc3a/datasets/segmentation/yolo_style_fourclass/train/images/w (126).jpg: corrupt JPEG restored and saved\n",
      "\u001B[34m\u001B[1mtrain: \u001B[0m/media/abawi/e38fddf9-a92e-4c73-b905-995771f8fc3a/datasets/segmentation/yolo_style_fourclass/train/images/w (127).jpg: corrupt JPEG restored and saved\n",
      "\u001B[34m\u001B[1mtrain: \u001B[0m/media/abawi/e38fddf9-a92e-4c73-b905-995771f8fc3a/datasets/segmentation/yolo_style_fourclass/train/images/w (128).jpg: corrupt JPEG restored and saved\n",
      "\u001B[34m\u001B[1mtrain: \u001B[0m/media/abawi/e38fddf9-a92e-4c73-b905-995771f8fc3a/datasets/segmentation/yolo_style_fourclass/train/images/w (129).jpg: corrupt JPEG restored and saved\n",
      "\u001B[34m\u001B[1mtrain: \u001B[0m/media/abawi/e38fddf9-a92e-4c73-b905-995771f8fc3a/datasets/segmentation/yolo_style_fourclass/train/images/w (130).jpg: corrupt JPEG restored and saved\n",
      "\u001B[34m\u001B[1mtrain: \u001B[0m/media/abawi/e38fddf9-a92e-4c73-b905-995771f8fc3a/datasets/segmentation/yolo_style_fourclass/train/images/w (131).jpg: corrupt JPEG restored and saved\n",
      "\u001B[34m\u001B[1mtrain: \u001B[0m/media/abawi/e38fddf9-a92e-4c73-b905-995771f8fc3a/datasets/segmentation/yolo_style_fourclass/train/images/w (132).jpg: corrupt JPEG restored and saved\n",
      "\u001B[34m\u001B[1mtrain: \u001B[0m/media/abawi/e38fddf9-a92e-4c73-b905-995771f8fc3a/datasets/segmentation/yolo_style_fourclass/train/images/w (137).jpg: corrupt JPEG restored and saved\n",
      "\u001B[34m\u001B[1mtrain: \u001B[0m/media/abawi/e38fddf9-a92e-4c73-b905-995771f8fc3a/datasets/segmentation/yolo_style_fourclass/train/images/w (138).jpg: corrupt JPEG restored and saved\n",
      "\u001B[34m\u001B[1mtrain: \u001B[0m/media/abawi/e38fddf9-a92e-4c73-b905-995771f8fc3a/datasets/segmentation/yolo_style_fourclass/train/images/w (139).jpg: corrupt JPEG restored and saved\n",
      "\u001B[34m\u001B[1mtrain: \u001B[0m/media/abawi/e38fddf9-a92e-4c73-b905-995771f8fc3a/datasets/segmentation/yolo_style_fourclass/train/images/w (14).jpg: corrupt JPEG restored and saved\n",
      "\u001B[34m\u001B[1mtrain: \u001B[0m/media/abawi/e38fddf9-a92e-4c73-b905-995771f8fc3a/datasets/segmentation/yolo_style_fourclass/train/images/w (142).jpg: corrupt JPEG restored and saved\n",
      "\u001B[34m\u001B[1mtrain: \u001B[0m/media/abawi/e38fddf9-a92e-4c73-b905-995771f8fc3a/datasets/segmentation/yolo_style_fourclass/train/images/w (143).jpg: corrupt JPEG restored and saved\n",
      "\u001B[34m\u001B[1mtrain: \u001B[0m/media/abawi/e38fddf9-a92e-4c73-b905-995771f8fc3a/datasets/segmentation/yolo_style_fourclass/train/images/w (145).jpg: corrupt JPEG restored and saved\n",
      "\u001B[34m\u001B[1mtrain: \u001B[0m/media/abawi/e38fddf9-a92e-4c73-b905-995771f8fc3a/datasets/segmentation/yolo_style_fourclass/train/images/w (146).jpg: corrupt JPEG restored and saved\n",
      "\u001B[34m\u001B[1mtrain: \u001B[0m/media/abawi/e38fddf9-a92e-4c73-b905-995771f8fc3a/datasets/segmentation/yolo_style_fourclass/train/images/w (147).jpg: corrupt JPEG restored and saved\n",
      "\u001B[34m\u001B[1mtrain: \u001B[0m/media/abawi/e38fddf9-a92e-4c73-b905-995771f8fc3a/datasets/segmentation/yolo_style_fourclass/train/images/w (148).jpg: corrupt JPEG restored and saved\n",
      "\u001B[34m\u001B[1mtrain: \u001B[0m/media/abawi/e38fddf9-a92e-4c73-b905-995771f8fc3a/datasets/segmentation/yolo_style_fourclass/train/images/w (149).jpg: corrupt JPEG restored and saved\n",
      "\u001B[34m\u001B[1mtrain: \u001B[0m/media/abawi/e38fddf9-a92e-4c73-b905-995771f8fc3a/datasets/segmentation/yolo_style_fourclass/train/images/w (150).jpg: corrupt JPEG restored and saved\n",
      "\u001B[34m\u001B[1mtrain: \u001B[0m/media/abawi/e38fddf9-a92e-4c73-b905-995771f8fc3a/datasets/segmentation/yolo_style_fourclass/train/images/w (151).jpg: corrupt JPEG restored and saved\n",
      "\u001B[34m\u001B[1mtrain: \u001B[0m/media/abawi/e38fddf9-a92e-4c73-b905-995771f8fc3a/datasets/segmentation/yolo_style_fourclass/train/images/w (152).jpg: corrupt JPEG restored and saved\n",
      "\u001B[34m\u001B[1mtrain: \u001B[0m/media/abawi/e38fddf9-a92e-4c73-b905-995771f8fc3a/datasets/segmentation/yolo_style_fourclass/train/images/w (153).jpg: corrupt JPEG restored and saved\n",
      "\u001B[34m\u001B[1mtrain: \u001B[0m/media/abawi/e38fddf9-a92e-4c73-b905-995771f8fc3a/datasets/segmentation/yolo_style_fourclass/train/images/w (154).jpg: corrupt JPEG restored and saved\n",
      "\u001B[34m\u001B[1mtrain: \u001B[0m/media/abawi/e38fddf9-a92e-4c73-b905-995771f8fc3a/datasets/segmentation/yolo_style_fourclass/train/images/w (155).jpg: corrupt JPEG restored and saved\n",
      "\u001B[34m\u001B[1mtrain: \u001B[0m/media/abawi/e38fddf9-a92e-4c73-b905-995771f8fc3a/datasets/segmentation/yolo_style_fourclass/train/images/w (156).jpg: corrupt JPEG restored and saved\n",
      "\u001B[34m\u001B[1mtrain: \u001B[0m/media/abawi/e38fddf9-a92e-4c73-b905-995771f8fc3a/datasets/segmentation/yolo_style_fourclass/train/images/w (157).jpg: corrupt JPEG restored and saved\n",
      "\u001B[34m\u001B[1mtrain: \u001B[0m/media/abawi/e38fddf9-a92e-4c73-b905-995771f8fc3a/datasets/segmentation/yolo_style_fourclass/train/images/w (158).jpg: corrupt JPEG restored and saved\n",
      "\u001B[34m\u001B[1mtrain: \u001B[0m/media/abawi/e38fddf9-a92e-4c73-b905-995771f8fc3a/datasets/segmentation/yolo_style_fourclass/train/images/w (159).jpg: corrupt JPEG restored and saved\n",
      "\u001B[34m\u001B[1mtrain: \u001B[0m/media/abawi/e38fddf9-a92e-4c73-b905-995771f8fc3a/datasets/segmentation/yolo_style_fourclass/train/images/w (16).jpg: corrupt JPEG restored and saved\n",
      "\u001B[34m\u001B[1mtrain: \u001B[0m/media/abawi/e38fddf9-a92e-4c73-b905-995771f8fc3a/datasets/segmentation/yolo_style_fourclass/train/images/w (160).jpg: corrupt JPEG restored and saved\n",
      "\u001B[34m\u001B[1mtrain: \u001B[0m/media/abawi/e38fddf9-a92e-4c73-b905-995771f8fc3a/datasets/segmentation/yolo_style_fourclass/train/images/w (161).jpg: corrupt JPEG restored and saved\n",
      "\u001B[34m\u001B[1mtrain: \u001B[0m/media/abawi/e38fddf9-a92e-4c73-b905-995771f8fc3a/datasets/segmentation/yolo_style_fourclass/train/images/w (162).jpg: corrupt JPEG restored and saved\n",
      "\u001B[34m\u001B[1mtrain: \u001B[0m/media/abawi/e38fddf9-a92e-4c73-b905-995771f8fc3a/datasets/segmentation/yolo_style_fourclass/train/images/w (163).jpg: corrupt JPEG restored and saved\n",
      "\u001B[34m\u001B[1mtrain: \u001B[0m/media/abawi/e38fddf9-a92e-4c73-b905-995771f8fc3a/datasets/segmentation/yolo_style_fourclass/train/images/w (164).jpg: corrupt JPEG restored and saved\n",
      "\u001B[34m\u001B[1mtrain: \u001B[0m/media/abawi/e38fddf9-a92e-4c73-b905-995771f8fc3a/datasets/segmentation/yolo_style_fourclass/train/images/w (165).jpg: corrupt JPEG restored and saved\n",
      "\u001B[34m\u001B[1mtrain: \u001B[0m/media/abawi/e38fddf9-a92e-4c73-b905-995771f8fc3a/datasets/segmentation/yolo_style_fourclass/train/images/w (166).jpg: corrupt JPEG restored and saved\n",
      "\u001B[34m\u001B[1mtrain: \u001B[0m/media/abawi/e38fddf9-a92e-4c73-b905-995771f8fc3a/datasets/segmentation/yolo_style_fourclass/train/images/w (167).jpg: corrupt JPEG restored and saved\n",
      "\u001B[34m\u001B[1mtrain: \u001B[0m/media/abawi/e38fddf9-a92e-4c73-b905-995771f8fc3a/datasets/segmentation/yolo_style_fourclass/train/images/w (168).jpg: corrupt JPEG restored and saved\n",
      "\u001B[34m\u001B[1mtrain: \u001B[0m/media/abawi/e38fddf9-a92e-4c73-b905-995771f8fc3a/datasets/segmentation/yolo_style_fourclass/train/images/w (169).jpg: corrupt JPEG restored and saved\n",
      "\u001B[34m\u001B[1mtrain: \u001B[0m/media/abawi/e38fddf9-a92e-4c73-b905-995771f8fc3a/datasets/segmentation/yolo_style_fourclass/train/images/w (170).jpg: corrupt JPEG restored and saved\n",
      "\u001B[34m\u001B[1mtrain: \u001B[0m/media/abawi/e38fddf9-a92e-4c73-b905-995771f8fc3a/datasets/segmentation/yolo_style_fourclass/train/images/w (171).jpg: corrupt JPEG restored and saved\n",
      "\u001B[34m\u001B[1mtrain: \u001B[0m/media/abawi/e38fddf9-a92e-4c73-b905-995771f8fc3a/datasets/segmentation/yolo_style_fourclass/train/images/w (172).jpg: corrupt JPEG restored and saved\n",
      "\u001B[34m\u001B[1mtrain: \u001B[0m/media/abawi/e38fddf9-a92e-4c73-b905-995771f8fc3a/datasets/segmentation/yolo_style_fourclass/train/images/w (173).jpg: corrupt JPEG restored and saved\n",
      "\u001B[34m\u001B[1mtrain: \u001B[0m/media/abawi/e38fddf9-a92e-4c73-b905-995771f8fc3a/datasets/segmentation/yolo_style_fourclass/train/images/w (174).jpg: corrupt JPEG restored and saved\n",
      "\u001B[34m\u001B[1mtrain: \u001B[0m/media/abawi/e38fddf9-a92e-4c73-b905-995771f8fc3a/datasets/segmentation/yolo_style_fourclass/train/images/w (175).jpg: corrupt JPEG restored and saved\n",
      "\u001B[34m\u001B[1mtrain: \u001B[0m/media/abawi/e38fddf9-a92e-4c73-b905-995771f8fc3a/datasets/segmentation/yolo_style_fourclass/train/images/w (176).jpg: corrupt JPEG restored and saved\n",
      "\u001B[34m\u001B[1mtrain: \u001B[0m/media/abawi/e38fddf9-a92e-4c73-b905-995771f8fc3a/datasets/segmentation/yolo_style_fourclass/train/images/w (178).jpg: corrupt JPEG restored and saved\n",
      "\u001B[34m\u001B[1mtrain: \u001B[0m/media/abawi/e38fddf9-a92e-4c73-b905-995771f8fc3a/datasets/segmentation/yolo_style_fourclass/train/images/w (179).jpg: corrupt JPEG restored and saved\n",
      "\u001B[34m\u001B[1mtrain: \u001B[0m/media/abawi/e38fddf9-a92e-4c73-b905-995771f8fc3a/datasets/segmentation/yolo_style_fourclass/train/images/w (180).jpg: corrupt JPEG restored and saved\n",
      "\u001B[34m\u001B[1mtrain: \u001B[0m/media/abawi/e38fddf9-a92e-4c73-b905-995771f8fc3a/datasets/segmentation/yolo_style_fourclass/train/images/w (181).jpg: corrupt JPEG restored and saved\n",
      "\u001B[34m\u001B[1mtrain: \u001B[0m/media/abawi/e38fddf9-a92e-4c73-b905-995771f8fc3a/datasets/segmentation/yolo_style_fourclass/train/images/w (182).jpg: corrupt JPEG restored and saved\n",
      "\u001B[34m\u001B[1mtrain: \u001B[0m/media/abawi/e38fddf9-a92e-4c73-b905-995771f8fc3a/datasets/segmentation/yolo_style_fourclass/train/images/w (183).jpg: corrupt JPEG restored and saved\n",
      "\u001B[34m\u001B[1mtrain: \u001B[0m/media/abawi/e38fddf9-a92e-4c73-b905-995771f8fc3a/datasets/segmentation/yolo_style_fourclass/train/images/w (184).jpg: corrupt JPEG restored and saved\n",
      "\u001B[34m\u001B[1mtrain: \u001B[0m/media/abawi/e38fddf9-a92e-4c73-b905-995771f8fc3a/datasets/segmentation/yolo_style_fourclass/train/images/w (185).jpg: corrupt JPEG restored and saved\n",
      "\u001B[34m\u001B[1mtrain: \u001B[0m/media/abawi/e38fddf9-a92e-4c73-b905-995771f8fc3a/datasets/segmentation/yolo_style_fourclass/train/images/w (186).jpg: corrupt JPEG restored and saved\n",
      "\u001B[34m\u001B[1mtrain: \u001B[0m/media/abawi/e38fddf9-a92e-4c73-b905-995771f8fc3a/datasets/segmentation/yolo_style_fourclass/train/images/w (187).jpg: corrupt JPEG restored and saved\n",
      "\u001B[34m\u001B[1mtrain: \u001B[0m/media/abawi/e38fddf9-a92e-4c73-b905-995771f8fc3a/datasets/segmentation/yolo_style_fourclass/train/images/w (188).jpg: corrupt JPEG restored and saved\n",
      "\u001B[34m\u001B[1mtrain: \u001B[0m/media/abawi/e38fddf9-a92e-4c73-b905-995771f8fc3a/datasets/segmentation/yolo_style_fourclass/train/images/w (19).jpg: corrupt JPEG restored and saved\n",
      "\u001B[34m\u001B[1mtrain: \u001B[0m/media/abawi/e38fddf9-a92e-4c73-b905-995771f8fc3a/datasets/segmentation/yolo_style_fourclass/train/images/w (190).jpg: corrupt JPEG restored and saved\n",
      "\u001B[34m\u001B[1mtrain: \u001B[0m/media/abawi/e38fddf9-a92e-4c73-b905-995771f8fc3a/datasets/segmentation/yolo_style_fourclass/train/images/w (191).jpg: corrupt JPEG restored and saved\n",
      "\u001B[34m\u001B[1mtrain: \u001B[0m/media/abawi/e38fddf9-a92e-4c73-b905-995771f8fc3a/datasets/segmentation/yolo_style_fourclass/train/images/w (192).jpg: corrupt JPEG restored and saved\n",
      "\u001B[34m\u001B[1mtrain: \u001B[0m/media/abawi/e38fddf9-a92e-4c73-b905-995771f8fc3a/datasets/segmentation/yolo_style_fourclass/train/images/w (193).jpg: corrupt JPEG restored and saved\n",
      "\u001B[34m\u001B[1mtrain: \u001B[0m/media/abawi/e38fddf9-a92e-4c73-b905-995771f8fc3a/datasets/segmentation/yolo_style_fourclass/train/images/w (194).jpg: corrupt JPEG restored and saved\n",
      "\u001B[34m\u001B[1mtrain: \u001B[0m/media/abawi/e38fddf9-a92e-4c73-b905-995771f8fc3a/datasets/segmentation/yolo_style_fourclass/train/images/w (195).jpg: corrupt JPEG restored and saved\n",
      "\u001B[34m\u001B[1mtrain: \u001B[0m/media/abawi/e38fddf9-a92e-4c73-b905-995771f8fc3a/datasets/segmentation/yolo_style_fourclass/train/images/w (196).jpg: corrupt JPEG restored and saved\n",
      "\u001B[34m\u001B[1mtrain: \u001B[0m/media/abawi/e38fddf9-a92e-4c73-b905-995771f8fc3a/datasets/segmentation/yolo_style_fourclass/train/images/w (197).jpg: corrupt JPEG restored and saved\n",
      "\u001B[34m\u001B[1mtrain: \u001B[0m/media/abawi/e38fddf9-a92e-4c73-b905-995771f8fc3a/datasets/segmentation/yolo_style_fourclass/train/images/w (198).jpg: corrupt JPEG restored and saved\n",
      "\u001B[34m\u001B[1mtrain: \u001B[0m/media/abawi/e38fddf9-a92e-4c73-b905-995771f8fc3a/datasets/segmentation/yolo_style_fourclass/train/images/w (199).jpg: corrupt JPEG restored and saved\n",
      "\u001B[34m\u001B[1mtrain: \u001B[0m/media/abawi/e38fddf9-a92e-4c73-b905-995771f8fc3a/datasets/segmentation/yolo_style_fourclass/train/images/w (2).jpg: corrupt JPEG restored and saved\n",
      "\u001B[34m\u001B[1mtrain: \u001B[0m/media/abawi/e38fddf9-a92e-4c73-b905-995771f8fc3a/datasets/segmentation/yolo_style_fourclass/train/images/w (20).jpg: corrupt JPEG restored and saved\n",
      "\u001B[34m\u001B[1mtrain: \u001B[0m/media/abawi/e38fddf9-a92e-4c73-b905-995771f8fc3a/datasets/segmentation/yolo_style_fourclass/train/images/w (200).jpg: corrupt JPEG restored and saved\n",
      "\u001B[34m\u001B[1mtrain: \u001B[0m/media/abawi/e38fddf9-a92e-4c73-b905-995771f8fc3a/datasets/segmentation/yolo_style_fourclass/train/images/w (201).jpg: corrupt JPEG restored and saved\n",
      "\u001B[34m\u001B[1mtrain: \u001B[0m/media/abawi/e38fddf9-a92e-4c73-b905-995771f8fc3a/datasets/segmentation/yolo_style_fourclass/train/images/w (202).jpg: corrupt JPEG restored and saved\n",
      "\u001B[34m\u001B[1mtrain: \u001B[0m/media/abawi/e38fddf9-a92e-4c73-b905-995771f8fc3a/datasets/segmentation/yolo_style_fourclass/train/images/w (203).jpg: corrupt JPEG restored and saved\n",
      "\u001B[34m\u001B[1mtrain: \u001B[0m/media/abawi/e38fddf9-a92e-4c73-b905-995771f8fc3a/datasets/segmentation/yolo_style_fourclass/train/images/w (204).jpg: corrupt JPEG restored and saved\n",
      "\u001B[34m\u001B[1mtrain: \u001B[0m/media/abawi/e38fddf9-a92e-4c73-b905-995771f8fc3a/datasets/segmentation/yolo_style_fourclass/train/images/w (206).jpg: corrupt JPEG restored and saved\n",
      "\u001B[34m\u001B[1mtrain: \u001B[0m/media/abawi/e38fddf9-a92e-4c73-b905-995771f8fc3a/datasets/segmentation/yolo_style_fourclass/train/images/w (208).jpg: corrupt JPEG restored and saved\n",
      "\u001B[34m\u001B[1mtrain: \u001B[0m/media/abawi/e38fddf9-a92e-4c73-b905-995771f8fc3a/datasets/segmentation/yolo_style_fourclass/train/images/w (209).jpg: corrupt JPEG restored and saved\n",
      "\u001B[34m\u001B[1mtrain: \u001B[0m/media/abawi/e38fddf9-a92e-4c73-b905-995771f8fc3a/datasets/segmentation/yolo_style_fourclass/train/images/w (21).jpg: corrupt JPEG restored and saved\n",
      "\u001B[34m\u001B[1mtrain: \u001B[0m/media/abawi/e38fddf9-a92e-4c73-b905-995771f8fc3a/datasets/segmentation/yolo_style_fourclass/train/images/w (210).jpg: corrupt JPEG restored and saved\n",
      "\u001B[34m\u001B[1mtrain: \u001B[0m/media/abawi/e38fddf9-a92e-4c73-b905-995771f8fc3a/datasets/segmentation/yolo_style_fourclass/train/images/w (211).jpg: corrupt JPEG restored and saved\n",
      "\u001B[34m\u001B[1mtrain: \u001B[0m/media/abawi/e38fddf9-a92e-4c73-b905-995771f8fc3a/datasets/segmentation/yolo_style_fourclass/train/images/w (212).jpg: corrupt JPEG restored and saved\n",
      "\u001B[34m\u001B[1mtrain: \u001B[0m/media/abawi/e38fddf9-a92e-4c73-b905-995771f8fc3a/datasets/segmentation/yolo_style_fourclass/train/images/w (213).jpg: corrupt JPEG restored and saved\n",
      "\u001B[34m\u001B[1mtrain: \u001B[0m/media/abawi/e38fddf9-a92e-4c73-b905-995771f8fc3a/datasets/segmentation/yolo_style_fourclass/train/images/w (214).jpg: corrupt JPEG restored and saved\n",
      "\u001B[34m\u001B[1mtrain: \u001B[0m/media/abawi/e38fddf9-a92e-4c73-b905-995771f8fc3a/datasets/segmentation/yolo_style_fourclass/train/images/w (215).jpg: corrupt JPEG restored and saved\n",
      "\u001B[34m\u001B[1mtrain: \u001B[0m/media/abawi/e38fddf9-a92e-4c73-b905-995771f8fc3a/datasets/segmentation/yolo_style_fourclass/train/images/w (216).jpg: corrupt JPEG restored and saved\n",
      "\u001B[34m\u001B[1mtrain: \u001B[0m/media/abawi/e38fddf9-a92e-4c73-b905-995771f8fc3a/datasets/segmentation/yolo_style_fourclass/train/images/w (217).jpg: corrupt JPEG restored and saved\n",
      "\u001B[34m\u001B[1mtrain: \u001B[0m/media/abawi/e38fddf9-a92e-4c73-b905-995771f8fc3a/datasets/segmentation/yolo_style_fourclass/train/images/w (218).jpg: corrupt JPEG restored and saved\n",
      "\u001B[34m\u001B[1mtrain: \u001B[0m/media/abawi/e38fddf9-a92e-4c73-b905-995771f8fc3a/datasets/segmentation/yolo_style_fourclass/train/images/w (219).jpg: corrupt JPEG restored and saved\n",
      "\u001B[34m\u001B[1mtrain: \u001B[0m/media/abawi/e38fddf9-a92e-4c73-b905-995771f8fc3a/datasets/segmentation/yolo_style_fourclass/train/images/w (220).jpg: corrupt JPEG restored and saved\n",
      "\u001B[34m\u001B[1mtrain: \u001B[0m/media/abawi/e38fddf9-a92e-4c73-b905-995771f8fc3a/datasets/segmentation/yolo_style_fourclass/train/images/w (221).jpg: corrupt JPEG restored and saved\n",
      "\u001B[34m\u001B[1mtrain: \u001B[0m/media/abawi/e38fddf9-a92e-4c73-b905-995771f8fc3a/datasets/segmentation/yolo_style_fourclass/train/images/w (222).jpg: corrupt JPEG restored and saved\n",
      "\u001B[34m\u001B[1mtrain: \u001B[0m/media/abawi/e38fddf9-a92e-4c73-b905-995771f8fc3a/datasets/segmentation/yolo_style_fourclass/train/images/w (223).jpg: corrupt JPEG restored and saved\n",
      "\u001B[34m\u001B[1mtrain: \u001B[0m/media/abawi/e38fddf9-a92e-4c73-b905-995771f8fc3a/datasets/segmentation/yolo_style_fourclass/train/images/w (224).jpg: corrupt JPEG restored and saved\n",
      "\u001B[34m\u001B[1mtrain: \u001B[0m/media/abawi/e38fddf9-a92e-4c73-b905-995771f8fc3a/datasets/segmentation/yolo_style_fourclass/train/images/w (225).jpg: corrupt JPEG restored and saved\n",
      "\u001B[34m\u001B[1mtrain: \u001B[0m/media/abawi/e38fddf9-a92e-4c73-b905-995771f8fc3a/datasets/segmentation/yolo_style_fourclass/train/images/w (226).jpg: corrupt JPEG restored and saved\n",
      "\u001B[34m\u001B[1mtrain: \u001B[0m/media/abawi/e38fddf9-a92e-4c73-b905-995771f8fc3a/datasets/segmentation/yolo_style_fourclass/train/images/w (227).jpg: corrupt JPEG restored and saved\n",
      "\u001B[34m\u001B[1mtrain: \u001B[0m/media/abawi/e38fddf9-a92e-4c73-b905-995771f8fc3a/datasets/segmentation/yolo_style_fourclass/train/images/w (228).jpg: corrupt JPEG restored and saved\n",
      "\u001B[34m\u001B[1mtrain: \u001B[0m/media/abawi/e38fddf9-a92e-4c73-b905-995771f8fc3a/datasets/segmentation/yolo_style_fourclass/train/images/w (229).jpg: corrupt JPEG restored and saved\n",
      "\u001B[34m\u001B[1mtrain: \u001B[0m/media/abawi/e38fddf9-a92e-4c73-b905-995771f8fc3a/datasets/segmentation/yolo_style_fourclass/train/images/w (23).jpg: corrupt JPEG restored and saved\n",
      "\u001B[34m\u001B[1mtrain: \u001B[0m/media/abawi/e38fddf9-a92e-4c73-b905-995771f8fc3a/datasets/segmentation/yolo_style_fourclass/train/images/w (230).jpg: corrupt JPEG restored and saved\n",
      "\u001B[34m\u001B[1mtrain: \u001B[0m/media/abawi/e38fddf9-a92e-4c73-b905-995771f8fc3a/datasets/segmentation/yolo_style_fourclass/train/images/w (231).jpg: corrupt JPEG restored and saved\n",
      "\u001B[34m\u001B[1mtrain: \u001B[0m/media/abawi/e38fddf9-a92e-4c73-b905-995771f8fc3a/datasets/segmentation/yolo_style_fourclass/train/images/w (233).jpg: corrupt JPEG restored and saved\n",
      "\u001B[34m\u001B[1mtrain: \u001B[0m/media/abawi/e38fddf9-a92e-4c73-b905-995771f8fc3a/datasets/segmentation/yolo_style_fourclass/train/images/w (234).jpg: corrupt JPEG restored and saved\n",
      "\u001B[34m\u001B[1mtrain: \u001B[0m/media/abawi/e38fddf9-a92e-4c73-b905-995771f8fc3a/datasets/segmentation/yolo_style_fourclass/train/images/w (235).jpg: corrupt JPEG restored and saved\n",
      "\u001B[34m\u001B[1mtrain: \u001B[0m/media/abawi/e38fddf9-a92e-4c73-b905-995771f8fc3a/datasets/segmentation/yolo_style_fourclass/train/images/w (237).jpg: corrupt JPEG restored and saved\n",
      "\u001B[34m\u001B[1mtrain: \u001B[0m/media/abawi/e38fddf9-a92e-4c73-b905-995771f8fc3a/datasets/segmentation/yolo_style_fourclass/train/images/w (238).jpg: corrupt JPEG restored and saved\n",
      "\u001B[34m\u001B[1mtrain: \u001B[0m/media/abawi/e38fddf9-a92e-4c73-b905-995771f8fc3a/datasets/segmentation/yolo_style_fourclass/train/images/w (24).jpg: corrupt JPEG restored and saved\n",
      "\u001B[34m\u001B[1mtrain: \u001B[0m/media/abawi/e38fddf9-a92e-4c73-b905-995771f8fc3a/datasets/segmentation/yolo_style_fourclass/train/images/w (243).jpg: corrupt JPEG restored and saved\n",
      "\u001B[34m\u001B[1mtrain: \u001B[0m/media/abawi/e38fddf9-a92e-4c73-b905-995771f8fc3a/datasets/segmentation/yolo_style_fourclass/train/images/w (244).jpg: corrupt JPEG restored and saved\n",
      "\u001B[34m\u001B[1mtrain: \u001B[0m/media/abawi/e38fddf9-a92e-4c73-b905-995771f8fc3a/datasets/segmentation/yolo_style_fourclass/train/images/w (245).jpg: corrupt JPEG restored and saved\n",
      "\u001B[34m\u001B[1mtrain: \u001B[0m/media/abawi/e38fddf9-a92e-4c73-b905-995771f8fc3a/datasets/segmentation/yolo_style_fourclass/train/images/w (246).jpg: corrupt JPEG restored and saved\n",
      "\u001B[34m\u001B[1mtrain: \u001B[0m/media/abawi/e38fddf9-a92e-4c73-b905-995771f8fc3a/datasets/segmentation/yolo_style_fourclass/train/images/w (247).jpg: corrupt JPEG restored and saved\n",
      "\u001B[34m\u001B[1mtrain: \u001B[0m/media/abawi/e38fddf9-a92e-4c73-b905-995771f8fc3a/datasets/segmentation/yolo_style_fourclass/train/images/w (248).jpg: corrupt JPEG restored and saved\n",
      "\u001B[34m\u001B[1mtrain: \u001B[0m/media/abawi/e38fddf9-a92e-4c73-b905-995771f8fc3a/datasets/segmentation/yolo_style_fourclass/train/images/w (249).jpg: corrupt JPEG restored and saved\n",
      "\u001B[34m\u001B[1mtrain: \u001B[0m/media/abawi/e38fddf9-a92e-4c73-b905-995771f8fc3a/datasets/segmentation/yolo_style_fourclass/train/images/w (250).jpg: corrupt JPEG restored and saved\n",
      "\u001B[34m\u001B[1mtrain: \u001B[0m/media/abawi/e38fddf9-a92e-4c73-b905-995771f8fc3a/datasets/segmentation/yolo_style_fourclass/train/images/w (253).jpg: corrupt JPEG restored and saved\n",
      "\u001B[34m\u001B[1mtrain: \u001B[0m/media/abawi/e38fddf9-a92e-4c73-b905-995771f8fc3a/datasets/segmentation/yolo_style_fourclass/train/images/w (258).jpg: corrupt JPEG restored and saved\n",
      "\u001B[34m\u001B[1mtrain: \u001B[0m/media/abawi/e38fddf9-a92e-4c73-b905-995771f8fc3a/datasets/segmentation/yolo_style_fourclass/train/images/w (26).jpg: corrupt JPEG restored and saved\n",
      "\u001B[34m\u001B[1mtrain: \u001B[0m/media/abawi/e38fddf9-a92e-4c73-b905-995771f8fc3a/datasets/segmentation/yolo_style_fourclass/train/images/w (267).jpg: corrupt JPEG restored and saved\n",
      "\u001B[34m\u001B[1mtrain: \u001B[0m/media/abawi/e38fddf9-a92e-4c73-b905-995771f8fc3a/datasets/segmentation/yolo_style_fourclass/train/images/w (268).jpg: corrupt JPEG restored and saved\n",
      "\u001B[34m\u001B[1mtrain: \u001B[0m/media/abawi/e38fddf9-a92e-4c73-b905-995771f8fc3a/datasets/segmentation/yolo_style_fourclass/train/images/w (270).jpg: corrupt JPEG restored and saved\n",
      "\u001B[34m\u001B[1mtrain: \u001B[0m/media/abawi/e38fddf9-a92e-4c73-b905-995771f8fc3a/datasets/segmentation/yolo_style_fourclass/train/images/w (271).jpg: corrupt JPEG restored and saved\n",
      "\u001B[34m\u001B[1mtrain: \u001B[0m/media/abawi/e38fddf9-a92e-4c73-b905-995771f8fc3a/datasets/segmentation/yolo_style_fourclass/train/images/w (272).jpg: corrupt JPEG restored and saved\n",
      "\u001B[34m\u001B[1mtrain: \u001B[0m/media/abawi/e38fddf9-a92e-4c73-b905-995771f8fc3a/datasets/segmentation/yolo_style_fourclass/train/images/w (273).jpg: corrupt JPEG restored and saved\n",
      "\u001B[34m\u001B[1mtrain: \u001B[0m/media/abawi/e38fddf9-a92e-4c73-b905-995771f8fc3a/datasets/segmentation/yolo_style_fourclass/train/images/w (274).jpg: corrupt JPEG restored and saved\n",
      "\u001B[34m\u001B[1mtrain: \u001B[0m/media/abawi/e38fddf9-a92e-4c73-b905-995771f8fc3a/datasets/segmentation/yolo_style_fourclass/train/images/w (275).jpg: corrupt JPEG restored and saved\n",
      "\u001B[34m\u001B[1mtrain: \u001B[0m/media/abawi/e38fddf9-a92e-4c73-b905-995771f8fc3a/datasets/segmentation/yolo_style_fourclass/train/images/w (28).jpg: corrupt JPEG restored and saved\n",
      "\u001B[34m\u001B[1mtrain: \u001B[0m/media/abawi/e38fddf9-a92e-4c73-b905-995771f8fc3a/datasets/segmentation/yolo_style_fourclass/train/images/w (281).jpg: corrupt JPEG restored and saved\n",
      "\u001B[34m\u001B[1mtrain: \u001B[0m/media/abawi/e38fddf9-a92e-4c73-b905-995771f8fc3a/datasets/segmentation/yolo_style_fourclass/train/images/w (282).jpg: corrupt JPEG restored and saved\n",
      "\u001B[34m\u001B[1mtrain: \u001B[0m/media/abawi/e38fddf9-a92e-4c73-b905-995771f8fc3a/datasets/segmentation/yolo_style_fourclass/train/images/w (288).jpg: corrupt JPEG restored and saved\n",
      "\u001B[34m\u001B[1mtrain: \u001B[0m/media/abawi/e38fddf9-a92e-4c73-b905-995771f8fc3a/datasets/segmentation/yolo_style_fourclass/train/images/w (289).jpg: corrupt JPEG restored and saved\n",
      "\u001B[34m\u001B[1mtrain: \u001B[0m/media/abawi/e38fddf9-a92e-4c73-b905-995771f8fc3a/datasets/segmentation/yolo_style_fourclass/train/images/w (29).jpg: corrupt JPEG restored and saved\n",
      "\u001B[34m\u001B[1mtrain: \u001B[0m/media/abawi/e38fddf9-a92e-4c73-b905-995771f8fc3a/datasets/segmentation/yolo_style_fourclass/train/images/w (291).jpg: corrupt JPEG restored and saved\n",
      "\u001B[34m\u001B[1mtrain: \u001B[0m/media/abawi/e38fddf9-a92e-4c73-b905-995771f8fc3a/datasets/segmentation/yolo_style_fourclass/train/images/w (292).jpg: corrupt JPEG restored and saved\n",
      "\u001B[34m\u001B[1mtrain: \u001B[0m/media/abawi/e38fddf9-a92e-4c73-b905-995771f8fc3a/datasets/segmentation/yolo_style_fourclass/train/images/w (293).jpg: corrupt JPEG restored and saved\n",
      "\u001B[34m\u001B[1mtrain: \u001B[0m/media/abawi/e38fddf9-a92e-4c73-b905-995771f8fc3a/datasets/segmentation/yolo_style_fourclass/train/images/w (294).jpg: corrupt JPEG restored and saved\n",
      "\u001B[34m\u001B[1mtrain: \u001B[0m/media/abawi/e38fddf9-a92e-4c73-b905-995771f8fc3a/datasets/segmentation/yolo_style_fourclass/train/images/w (298).jpg: corrupt JPEG restored and saved\n",
      "\u001B[34m\u001B[1mtrain: \u001B[0m/media/abawi/e38fddf9-a92e-4c73-b905-995771f8fc3a/datasets/segmentation/yolo_style_fourclass/train/images/w (299).jpg: corrupt JPEG restored and saved\n",
      "\u001B[34m\u001B[1mtrain: \u001B[0m/media/abawi/e38fddf9-a92e-4c73-b905-995771f8fc3a/datasets/segmentation/yolo_style_fourclass/train/images/w (3).jpg: corrupt JPEG restored and saved\n",
      "\u001B[34m\u001B[1mtrain: \u001B[0m/media/abawi/e38fddf9-a92e-4c73-b905-995771f8fc3a/datasets/segmentation/yolo_style_fourclass/train/images/w (30).jpg: corrupt JPEG restored and saved\n",
      "\u001B[34m\u001B[1mtrain: \u001B[0m/media/abawi/e38fddf9-a92e-4c73-b905-995771f8fc3a/datasets/segmentation/yolo_style_fourclass/train/images/w (303).jpg: corrupt JPEG restored and saved\n",
      "\u001B[34m\u001B[1mtrain: \u001B[0m/media/abawi/e38fddf9-a92e-4c73-b905-995771f8fc3a/datasets/segmentation/yolo_style_fourclass/train/images/w (304).jpg: corrupt JPEG restored and saved\n",
      "\u001B[34m\u001B[1mtrain: \u001B[0m/media/abawi/e38fddf9-a92e-4c73-b905-995771f8fc3a/datasets/segmentation/yolo_style_fourclass/train/images/w (305).jpg: corrupt JPEG restored and saved\n",
      "\u001B[34m\u001B[1mtrain: \u001B[0m/media/abawi/e38fddf9-a92e-4c73-b905-995771f8fc3a/datasets/segmentation/yolo_style_fourclass/train/images/w (306).jpg: corrupt JPEG restored and saved\n",
      "\u001B[34m\u001B[1mtrain: \u001B[0m/media/abawi/e38fddf9-a92e-4c73-b905-995771f8fc3a/datasets/segmentation/yolo_style_fourclass/train/images/w (307).jpg: corrupt JPEG restored and saved\n",
      "\u001B[34m\u001B[1mtrain: \u001B[0m/media/abawi/e38fddf9-a92e-4c73-b905-995771f8fc3a/datasets/segmentation/yolo_style_fourclass/train/images/w (33).jpg: corrupt JPEG restored and saved\n",
      "\u001B[34m\u001B[1mtrain: \u001B[0m/media/abawi/e38fddf9-a92e-4c73-b905-995771f8fc3a/datasets/segmentation/yolo_style_fourclass/train/images/w (34).jpg: corrupt JPEG restored and saved\n",
      "\u001B[34m\u001B[1mtrain: \u001B[0m/media/abawi/e38fddf9-a92e-4c73-b905-995771f8fc3a/datasets/segmentation/yolo_style_fourclass/train/images/w (35).jpg: corrupt JPEG restored and saved\n",
      "\u001B[34m\u001B[1mtrain: \u001B[0m/media/abawi/e38fddf9-a92e-4c73-b905-995771f8fc3a/datasets/segmentation/yolo_style_fourclass/train/images/w (37).jpg: corrupt JPEG restored and saved\n",
      "\u001B[34m\u001B[1mtrain: \u001B[0m/media/abawi/e38fddf9-a92e-4c73-b905-995771f8fc3a/datasets/segmentation/yolo_style_fourclass/train/images/w (38).jpg: corrupt JPEG restored and saved\n",
      "\u001B[34m\u001B[1mtrain: \u001B[0m/media/abawi/e38fddf9-a92e-4c73-b905-995771f8fc3a/datasets/segmentation/yolo_style_fourclass/train/images/w (39).jpg: corrupt JPEG restored and saved\n",
      "\u001B[34m\u001B[1mtrain: \u001B[0m/media/abawi/e38fddf9-a92e-4c73-b905-995771f8fc3a/datasets/segmentation/yolo_style_fourclass/train/images/w (4).jpg: corrupt JPEG restored and saved\n",
      "\u001B[34m\u001B[1mtrain: \u001B[0m/media/abawi/e38fddf9-a92e-4c73-b905-995771f8fc3a/datasets/segmentation/yolo_style_fourclass/train/images/w (41).jpg: corrupt JPEG restored and saved\n",
      "\u001B[34m\u001B[1mtrain: \u001B[0m/media/abawi/e38fddf9-a92e-4c73-b905-995771f8fc3a/datasets/segmentation/yolo_style_fourclass/train/images/w (42).jpg: corrupt JPEG restored and saved\n",
      "\u001B[34m\u001B[1mtrain: \u001B[0m/media/abawi/e38fddf9-a92e-4c73-b905-995771f8fc3a/datasets/segmentation/yolo_style_fourclass/train/images/w (43).jpg: corrupt JPEG restored and saved\n",
      "\u001B[34m\u001B[1mtrain: \u001B[0m/media/abawi/e38fddf9-a92e-4c73-b905-995771f8fc3a/datasets/segmentation/yolo_style_fourclass/train/images/w (44).jpg: corrupt JPEG restored and saved\n",
      "\u001B[34m\u001B[1mtrain: \u001B[0m/media/abawi/e38fddf9-a92e-4c73-b905-995771f8fc3a/datasets/segmentation/yolo_style_fourclass/train/images/w (45).jpg: corrupt JPEG restored and saved\n",
      "\u001B[34m\u001B[1mtrain: \u001B[0m/media/abawi/e38fddf9-a92e-4c73-b905-995771f8fc3a/datasets/segmentation/yolo_style_fourclass/train/images/w (46).jpg: corrupt JPEG restored and saved\n",
      "\u001B[34m\u001B[1mtrain: \u001B[0m/media/abawi/e38fddf9-a92e-4c73-b905-995771f8fc3a/datasets/segmentation/yolo_style_fourclass/train/images/w (48).jpg: corrupt JPEG restored and saved\n",
      "\u001B[34m\u001B[1mtrain: \u001B[0m/media/abawi/e38fddf9-a92e-4c73-b905-995771f8fc3a/datasets/segmentation/yolo_style_fourclass/train/images/w (5).jpg: corrupt JPEG restored and saved\n",
      "\u001B[34m\u001B[1mtrain: \u001B[0m/media/abawi/e38fddf9-a92e-4c73-b905-995771f8fc3a/datasets/segmentation/yolo_style_fourclass/train/images/w (50).jpg: corrupt JPEG restored and saved\n",
      "\u001B[34m\u001B[1mtrain: \u001B[0m/media/abawi/e38fddf9-a92e-4c73-b905-995771f8fc3a/datasets/segmentation/yolo_style_fourclass/train/images/w (53).jpg: corrupt JPEG restored and saved\n",
      "\u001B[34m\u001B[1mtrain: \u001B[0m/media/abawi/e38fddf9-a92e-4c73-b905-995771f8fc3a/datasets/segmentation/yolo_style_fourclass/train/images/w (54).jpg: corrupt JPEG restored and saved\n",
      "\u001B[34m\u001B[1mtrain: \u001B[0m/media/abawi/e38fddf9-a92e-4c73-b905-995771f8fc3a/datasets/segmentation/yolo_style_fourclass/train/images/w (55).jpg: corrupt JPEG restored and saved\n",
      "\u001B[34m\u001B[1mtrain: \u001B[0m/media/abawi/e38fddf9-a92e-4c73-b905-995771f8fc3a/datasets/segmentation/yolo_style_fourclass/train/images/w (59).jpg: corrupt JPEG restored and saved\n",
      "\u001B[34m\u001B[1mtrain: \u001B[0m/media/abawi/e38fddf9-a92e-4c73-b905-995771f8fc3a/datasets/segmentation/yolo_style_fourclass/train/images/w (60).jpg: corrupt JPEG restored and saved\n",
      "\u001B[34m\u001B[1mtrain: \u001B[0m/media/abawi/e38fddf9-a92e-4c73-b905-995771f8fc3a/datasets/segmentation/yolo_style_fourclass/train/images/w (61).jpg: corrupt JPEG restored and saved\n",
      "\u001B[34m\u001B[1mtrain: \u001B[0m/media/abawi/e38fddf9-a92e-4c73-b905-995771f8fc3a/datasets/segmentation/yolo_style_fourclass/train/images/w (62).jpg: corrupt JPEG restored and saved\n",
      "\u001B[34m\u001B[1mtrain: \u001B[0m/media/abawi/e38fddf9-a92e-4c73-b905-995771f8fc3a/datasets/segmentation/yolo_style_fourclass/train/images/w (63).jpg: corrupt JPEG restored and saved\n",
      "\u001B[34m\u001B[1mtrain: \u001B[0m/media/abawi/e38fddf9-a92e-4c73-b905-995771f8fc3a/datasets/segmentation/yolo_style_fourclass/train/images/w (65).jpg: corrupt JPEG restored and saved\n",
      "\u001B[34m\u001B[1mtrain: \u001B[0m/media/abawi/e38fddf9-a92e-4c73-b905-995771f8fc3a/datasets/segmentation/yolo_style_fourclass/train/images/w (66).jpg: corrupt JPEG restored and saved\n",
      "\u001B[34m\u001B[1mtrain: \u001B[0m/media/abawi/e38fddf9-a92e-4c73-b905-995771f8fc3a/datasets/segmentation/yolo_style_fourclass/train/images/w (67).jpg: corrupt JPEG restored and saved\n",
      "\u001B[34m\u001B[1mtrain: \u001B[0m/media/abawi/e38fddf9-a92e-4c73-b905-995771f8fc3a/datasets/segmentation/yolo_style_fourclass/train/images/w (68).jpg: corrupt JPEG restored and saved\n",
      "\u001B[34m\u001B[1mtrain: \u001B[0m/media/abawi/e38fddf9-a92e-4c73-b905-995771f8fc3a/datasets/segmentation/yolo_style_fourclass/train/images/w (69).jpg: corrupt JPEG restored and saved\n",
      "\u001B[34m\u001B[1mtrain: \u001B[0m/media/abawi/e38fddf9-a92e-4c73-b905-995771f8fc3a/datasets/segmentation/yolo_style_fourclass/train/images/w (70).jpg: corrupt JPEG restored and saved\n",
      "\u001B[34m\u001B[1mtrain: \u001B[0m/media/abawi/e38fddf9-a92e-4c73-b905-995771f8fc3a/datasets/segmentation/yolo_style_fourclass/train/images/w (71).jpg: corrupt JPEG restored and saved\n",
      "\u001B[34m\u001B[1mtrain: \u001B[0m/media/abawi/e38fddf9-a92e-4c73-b905-995771f8fc3a/datasets/segmentation/yolo_style_fourclass/train/images/w (75).jpg: corrupt JPEG restored and saved\n",
      "\u001B[34m\u001B[1mtrain: \u001B[0m/media/abawi/e38fddf9-a92e-4c73-b905-995771f8fc3a/datasets/segmentation/yolo_style_fourclass/train/images/w (76).jpg: corrupt JPEG restored and saved\n",
      "\u001B[34m\u001B[1mtrain: \u001B[0m/media/abawi/e38fddf9-a92e-4c73-b905-995771f8fc3a/datasets/segmentation/yolo_style_fourclass/train/images/w (77).jpg: corrupt JPEG restored and saved\n",
      "\u001B[34m\u001B[1mtrain: \u001B[0m/media/abawi/e38fddf9-a92e-4c73-b905-995771f8fc3a/datasets/segmentation/yolo_style_fourclass/train/images/w (78).jpg: corrupt JPEG restored and saved\n",
      "\u001B[34m\u001B[1mtrain: \u001B[0m/media/abawi/e38fddf9-a92e-4c73-b905-995771f8fc3a/datasets/segmentation/yolo_style_fourclass/train/images/w (79).jpg: corrupt JPEG restored and saved\n",
      "\u001B[34m\u001B[1mtrain: \u001B[0m/media/abawi/e38fddf9-a92e-4c73-b905-995771f8fc3a/datasets/segmentation/yolo_style_fourclass/train/images/w (8).jpg: corrupt JPEG restored and saved\n",
      "\u001B[34m\u001B[1mtrain: \u001B[0m/media/abawi/e38fddf9-a92e-4c73-b905-995771f8fc3a/datasets/segmentation/yolo_style_fourclass/train/images/w (80).jpg: corrupt JPEG restored and saved\n",
      "\u001B[34m\u001B[1mtrain: \u001B[0m/media/abawi/e38fddf9-a92e-4c73-b905-995771f8fc3a/datasets/segmentation/yolo_style_fourclass/train/images/w (82).jpg: corrupt JPEG restored and saved\n",
      "\u001B[34m\u001B[1mtrain: \u001B[0m/media/abawi/e38fddf9-a92e-4c73-b905-995771f8fc3a/datasets/segmentation/yolo_style_fourclass/train/images/w (83).jpg: corrupt JPEG restored and saved\n",
      "\u001B[34m\u001B[1mtrain: \u001B[0m/media/abawi/e38fddf9-a92e-4c73-b905-995771f8fc3a/datasets/segmentation/yolo_style_fourclass/train/images/w (87).jpg: corrupt JPEG restored and saved\n",
      "\u001B[34m\u001B[1mtrain: \u001B[0m/media/abawi/e38fddf9-a92e-4c73-b905-995771f8fc3a/datasets/segmentation/yolo_style_fourclass/train/images/w (89).jpg: corrupt JPEG restored and saved\n",
      "\u001B[34m\u001B[1mtrain: \u001B[0m/media/abawi/e38fddf9-a92e-4c73-b905-995771f8fc3a/datasets/segmentation/yolo_style_fourclass/train/images/w (90).jpg: corrupt JPEG restored and saved\n",
      "\u001B[34m\u001B[1mtrain: \u001B[0m/media/abawi/e38fddf9-a92e-4c73-b905-995771f8fc3a/datasets/segmentation/yolo_style_fourclass/train/images/w (91).jpg: corrupt JPEG restored and saved\n",
      "\u001B[34m\u001B[1mtrain: \u001B[0m/media/abawi/e38fddf9-a92e-4c73-b905-995771f8fc3a/datasets/segmentation/yolo_style_fourclass/train/images/w (92).jpg: corrupt JPEG restored and saved\n",
      "\u001B[34m\u001B[1mtrain: \u001B[0m/media/abawi/e38fddf9-a92e-4c73-b905-995771f8fc3a/datasets/segmentation/yolo_style_fourclass/train/images/w (93).jpg: corrupt JPEG restored and saved\n",
      "\u001B[34m\u001B[1mtrain: \u001B[0m/media/abawi/e38fddf9-a92e-4c73-b905-995771f8fc3a/datasets/segmentation/yolo_style_fourclass/train/images/w (94).jpg: corrupt JPEG restored and saved\n",
      "\u001B[34m\u001B[1mtrain: \u001B[0m/media/abawi/e38fddf9-a92e-4c73-b905-995771f8fc3a/datasets/segmentation/yolo_style_fourclass/train/images/w (95).jpg: corrupt JPEG restored and saved\n",
      "\u001B[34m\u001B[1mtrain: \u001B[0m/media/abawi/e38fddf9-a92e-4c73-b905-995771f8fc3a/datasets/segmentation/yolo_style_fourclass/train/images/w (96).jpg: corrupt JPEG restored and saved\n",
      "\u001B[34m\u001B[1mtrain: \u001B[0m/media/abawi/e38fddf9-a92e-4c73-b905-995771f8fc3a/datasets/segmentation/yolo_style_fourclass/train/images/w (97).jpg: corrupt JPEG restored and saved\n",
      "\u001B[34m\u001B[1mtrain: \u001B[0m/media/abawi/e38fddf9-a92e-4c73-b905-995771f8fc3a/datasets/segmentation/yolo_style_fourclass/train/images/w (98).jpg: corrupt JPEG restored and saved\n",
      "\u001B[34m\u001B[1mtrain: \u001B[0m/media/abawi/e38fddf9-a92e-4c73-b905-995771f8fc3a/datasets/segmentation/yolo_style_fourclass/train/images/w (99).jpg: corrupt JPEG restored and saved\n"
     ]
    },
    {
     "name": "stderr",
     "output_type": "stream",
     "text": [
      "\n"
     ]
    },
    {
     "name": "stdout",
     "output_type": "stream",
     "text": [
      "\u001B[34m\u001B[1mtrain: \u001B[0mNew cache created: /media/abawi/e38fddf9-a92e-4c73-b905-995771f8fc3a/datasets/segmentation/yolo_style_fourclass/train/labels.cache\n",
      "\u001B[34m\u001B[1malbumentations: \u001B[0mBlur(p=0.01, blur_limit=(3, 7)), MedianBlur(p=0.01, blur_limit=(3, 7)), ToGray(p=0.01, num_output_channels=3, method='weighted_average'), CLAHE(p=0.01, clip_limit=(1.0, 4.0), tile_grid_size=(8, 8))\n",
      "\u001B[34m\u001B[1mval: \u001B[0mFast image access ✅ (ping: 0.0±0.0 ms, read: 396.1±77.1 MB/s, size: 3471.0 KB)\n"
     ]
    },
    {
     "name": "stderr",
     "output_type": "stream",
     "text": [
      "\u001B[34m\u001B[1mval: \u001B[0mScanning /media/abawi/e38fddf9-a92e-4c73-b905-995771f8fc3a/datasets/segmentation/yolo_style_fourclass/valid/labels... 1000 images, 0 backgrounds, 1 corrupt: 100%|██████████| 1000/1000 [00:35<00:00, 28.42it/s]"
     ]
    },
    {
     "name": "stdout",
     "output_type": "stream",
     "text": [
      "\u001B[34m\u001B[1mval: \u001B[0m/media/abawi/e38fddf9-a92e-4c73-b905-995771f8fc3a/datasets/segmentation/yolo_style_fourclass/valid/images/1 (112).jpg: corrupt JPEG restored and saved\n",
      "\u001B[34m\u001B[1mval: \u001B[0m/media/abawi/e38fddf9-a92e-4c73-b905-995771f8fc3a/datasets/segmentation/yolo_style_fourclass/valid/images/1 (113).jpg: corrupt JPEG restored and saved\n",
      "\u001B[34m\u001B[1mval: \u001B[0m/media/abawi/e38fddf9-a92e-4c73-b905-995771f8fc3a/datasets/segmentation/yolo_style_fourclass/valid/images/1 (135).jpg: corrupt JPEG restored and saved\n",
      "\u001B[34m\u001B[1mval: \u001B[0m/media/abawi/e38fddf9-a92e-4c73-b905-995771f8fc3a/datasets/segmentation/yolo_style_fourclass/valid/images/1 (136).jpg: corrupt JPEG restored and saved\n",
      "\u001B[34m\u001B[1mval: \u001B[0m/media/abawi/e38fddf9-a92e-4c73-b905-995771f8fc3a/datasets/segmentation/yolo_style_fourclass/valid/images/1 (140).jpg: corrupt JPEG restored and saved\n",
      "\u001B[34m\u001B[1mval: \u001B[0m/media/abawi/e38fddf9-a92e-4c73-b905-995771f8fc3a/datasets/segmentation/yolo_style_fourclass/valid/images/1 (143).jpg: corrupt JPEG restored and saved\n",
      "\u001B[34m\u001B[1mval: \u001B[0m/media/abawi/e38fddf9-a92e-4c73-b905-995771f8fc3a/datasets/segmentation/yolo_style_fourclass/valid/images/1 (145).jpg: corrupt JPEG restored and saved\n",
      "\u001B[34m\u001B[1mval: \u001B[0m/media/abawi/e38fddf9-a92e-4c73-b905-995771f8fc3a/datasets/segmentation/yolo_style_fourclass/valid/images/1 (147).jpg: corrupt JPEG restored and saved\n",
      "\u001B[34m\u001B[1mval: \u001B[0m/media/abawi/e38fddf9-a92e-4c73-b905-995771f8fc3a/datasets/segmentation/yolo_style_fourclass/valid/images/1 (153).jpg: corrupt JPEG restored and saved\n",
      "\u001B[34m\u001B[1mval: \u001B[0m/media/abawi/e38fddf9-a92e-4c73-b905-995771f8fc3a/datasets/segmentation/yolo_style_fourclass/valid/images/1 (154).jpg: corrupt JPEG restored and saved\n",
      "\u001B[34m\u001B[1mval: \u001B[0m/media/abawi/e38fddf9-a92e-4c73-b905-995771f8fc3a/datasets/segmentation/yolo_style_fourclass/valid/images/1 (159).jpg: corrupt JPEG restored and saved\n",
      "\u001B[34m\u001B[1mval: \u001B[0m/media/abawi/e38fddf9-a92e-4c73-b905-995771f8fc3a/datasets/segmentation/yolo_style_fourclass/valid/images/1 (170).jpg: corrupt JPEG restored and saved\n",
      "\u001B[34m\u001B[1mval: \u001B[0m/media/abawi/e38fddf9-a92e-4c73-b905-995771f8fc3a/datasets/segmentation/yolo_style_fourclass/valid/images/1 (171).jpg: corrupt JPEG restored and saved\n",
      "\u001B[34m\u001B[1mval: \u001B[0m/media/abawi/e38fddf9-a92e-4c73-b905-995771f8fc3a/datasets/segmentation/yolo_style_fourclass/valid/images/1 (198).jpg: corrupt JPEG restored and saved\n",
      "\u001B[34m\u001B[1mval: \u001B[0m/media/abawi/e38fddf9-a92e-4c73-b905-995771f8fc3a/datasets/segmentation/yolo_style_fourclass/valid/images/1 (206).jpg: corrupt JPEG restored and saved\n",
      "\u001B[34m\u001B[1mval: \u001B[0m/media/abawi/e38fddf9-a92e-4c73-b905-995771f8fc3a/datasets/segmentation/yolo_style_fourclass/valid/images/1 (207).jpg: corrupt JPEG restored and saved\n",
      "\u001B[34m\u001B[1mval: \u001B[0m/media/abawi/e38fddf9-a92e-4c73-b905-995771f8fc3a/datasets/segmentation/yolo_style_fourclass/valid/images/1 (214).jpg: corrupt JPEG restored and saved\n",
      "\u001B[34m\u001B[1mval: \u001B[0m/media/abawi/e38fddf9-a92e-4c73-b905-995771f8fc3a/datasets/segmentation/yolo_style_fourclass/valid/images/1 (221).jpg: corrupt JPEG restored and saved\n",
      "\u001B[34m\u001B[1mval: \u001B[0m/media/abawi/e38fddf9-a92e-4c73-b905-995771f8fc3a/datasets/segmentation/yolo_style_fourclass/valid/images/1 (226).jpg: corrupt JPEG restored and saved\n",
      "\u001B[34m\u001B[1mval: \u001B[0m/media/abawi/e38fddf9-a92e-4c73-b905-995771f8fc3a/datasets/segmentation/yolo_style_fourclass/valid/images/1 (230).jpg: corrupt JPEG restored and saved\n",
      "\u001B[34m\u001B[1mval: \u001B[0m/media/abawi/e38fddf9-a92e-4c73-b905-995771f8fc3a/datasets/segmentation/yolo_style_fourclass/valid/images/1 (234).jpg: corrupt JPEG restored and saved\n",
      "\u001B[34m\u001B[1mval: \u001B[0m/media/abawi/e38fddf9-a92e-4c73-b905-995771f8fc3a/datasets/segmentation/yolo_style_fourclass/valid/images/1 (251).jpg: corrupt JPEG restored and saved\n",
      "\u001B[34m\u001B[1mval: \u001B[0m/media/abawi/e38fddf9-a92e-4c73-b905-995771f8fc3a/datasets/segmentation/yolo_style_fourclass/valid/images/1 (266).jpg: corrupt JPEG restored and saved\n",
      "\u001B[34m\u001B[1mval: \u001B[0m/media/abawi/e38fddf9-a92e-4c73-b905-995771f8fc3a/datasets/segmentation/yolo_style_fourclass/valid/images/1 (273).jpg: corrupt JPEG restored and saved\n",
      "\u001B[34m\u001B[1mval: \u001B[0m/media/abawi/e38fddf9-a92e-4c73-b905-995771f8fc3a/datasets/segmentation/yolo_style_fourclass/valid/images/1 (287).jpg: corrupt JPEG restored and saved\n",
      "\u001B[34m\u001B[1mval: \u001B[0m/media/abawi/e38fddf9-a92e-4c73-b905-995771f8fc3a/datasets/segmentation/yolo_style_fourclass/valid/images/1 (29).jpg: corrupt JPEG restored and saved\n",
      "\u001B[34m\u001B[1mval: \u001B[0m/media/abawi/e38fddf9-a92e-4c73-b905-995771f8fc3a/datasets/segmentation/yolo_style_fourclass/valid/images/1 (296).jpg: corrupt JPEG restored and saved\n",
      "\u001B[34m\u001B[1mval: \u001B[0m/media/abawi/e38fddf9-a92e-4c73-b905-995771f8fc3a/datasets/segmentation/yolo_style_fourclass/valid/images/1 (309).jpg: corrupt JPEG restored and saved\n",
      "\u001B[34m\u001B[1mval: \u001B[0m/media/abawi/e38fddf9-a92e-4c73-b905-995771f8fc3a/datasets/segmentation/yolo_style_fourclass/valid/images/1 (312).jpg: corrupt JPEG restored and saved\n",
      "\u001B[34m\u001B[1mval: \u001B[0m/media/abawi/e38fddf9-a92e-4c73-b905-995771f8fc3a/datasets/segmentation/yolo_style_fourclass/valid/images/1 (318).jpg: corrupt JPEG restored and saved\n",
      "\u001B[34m\u001B[1mval: \u001B[0m/media/abawi/e38fddf9-a92e-4c73-b905-995771f8fc3a/datasets/segmentation/yolo_style_fourclass/valid/images/1 (331).jpg: corrupt JPEG restored and saved\n",
      "\u001B[34m\u001B[1mval: \u001B[0m/media/abawi/e38fddf9-a92e-4c73-b905-995771f8fc3a/datasets/segmentation/yolo_style_fourclass/valid/images/1 (34).jpg: corrupt JPEG restored and saved\n",
      "\u001B[34m\u001B[1mval: \u001B[0m/media/abawi/e38fddf9-a92e-4c73-b905-995771f8fc3a/datasets/segmentation/yolo_style_fourclass/valid/images/1 (342).jpg: corrupt JPEG restored and saved\n",
      "\u001B[34m\u001B[1mval: \u001B[0m/media/abawi/e38fddf9-a92e-4c73-b905-995771f8fc3a/datasets/segmentation/yolo_style_fourclass/valid/images/1 (356).jpg: corrupt JPEG restored and saved\n",
      "\u001B[34m\u001B[1mval: \u001B[0m/media/abawi/e38fddf9-a92e-4c73-b905-995771f8fc3a/datasets/segmentation/yolo_style_fourclass/valid/images/1 (360).jpg: corrupt JPEG restored and saved\n",
      "\u001B[34m\u001B[1mval: \u001B[0m/media/abawi/e38fddf9-a92e-4c73-b905-995771f8fc3a/datasets/segmentation/yolo_style_fourclass/valid/images/1 (367).jpg: corrupt JPEG restored and saved\n",
      "\u001B[34m\u001B[1mval: \u001B[0m/media/abawi/e38fddf9-a92e-4c73-b905-995771f8fc3a/datasets/segmentation/yolo_style_fourclass/valid/images/1 (370).jpg: corrupt JPEG restored and saved\n",
      "\u001B[34m\u001B[1mval: \u001B[0m/media/abawi/e38fddf9-a92e-4c73-b905-995771f8fc3a/datasets/segmentation/yolo_style_fourclass/valid/images/1 (372).jpg: corrupt JPEG restored and saved\n",
      "\u001B[34m\u001B[1mval: \u001B[0m/media/abawi/e38fddf9-a92e-4c73-b905-995771f8fc3a/datasets/segmentation/yolo_style_fourclass/valid/images/1 (374).jpg: corrupt JPEG restored and saved\n",
      "\u001B[34m\u001B[1mval: \u001B[0m/media/abawi/e38fddf9-a92e-4c73-b905-995771f8fc3a/datasets/segmentation/yolo_style_fourclass/valid/images/1 (379).jpg: corrupt JPEG restored and saved\n",
      "\u001B[34m\u001B[1mval: \u001B[0m/media/abawi/e38fddf9-a92e-4c73-b905-995771f8fc3a/datasets/segmentation/yolo_style_fourclass/valid/images/1 (398).jpg: corrupt JPEG restored and saved\n",
      "\u001B[34m\u001B[1mval: \u001B[0m/media/abawi/e38fddf9-a92e-4c73-b905-995771f8fc3a/datasets/segmentation/yolo_style_fourclass/valid/images/1 (403).jpg: corrupt JPEG restored and saved\n",
      "\u001B[34m\u001B[1mval: \u001B[0m/media/abawi/e38fddf9-a92e-4c73-b905-995771f8fc3a/datasets/segmentation/yolo_style_fourclass/valid/images/1 (406).jpg: corrupt JPEG restored and saved\n",
      "\u001B[34m\u001B[1mval: \u001B[0m/media/abawi/e38fddf9-a92e-4c73-b905-995771f8fc3a/datasets/segmentation/yolo_style_fourclass/valid/images/1 (5).jpg: corrupt JPEG restored and saved\n",
      "\u001B[34m\u001B[1mval: \u001B[0m/media/abawi/e38fddf9-a92e-4c73-b905-995771f8fc3a/datasets/segmentation/yolo_style_fourclass/valid/images/1 (62).jpg: corrupt JPEG restored and saved\n",
      "\u001B[34m\u001B[1mval: \u001B[0m/media/abawi/e38fddf9-a92e-4c73-b905-995771f8fc3a/datasets/segmentation/yolo_style_fourclass/valid/images/1 (7).jpg: corrupt JPEG restored and saved\n",
      "\u001B[34m\u001B[1mval: \u001B[0m/media/abawi/e38fddf9-a92e-4c73-b905-995771f8fc3a/datasets/segmentation/yolo_style_fourclass/valid/images/1 (76).jpg: corrupt JPEG restored and saved\n",
      "\u001B[34m\u001B[1mval: \u001B[0m/media/abawi/e38fddf9-a92e-4c73-b905-995771f8fc3a/datasets/segmentation/yolo_style_fourclass/valid/images/1 (79).jpg: corrupt JPEG restored and saved\n",
      "\u001B[34m\u001B[1mval: \u001B[0m/media/abawi/e38fddf9-a92e-4c73-b905-995771f8fc3a/datasets/segmentation/yolo_style_fourclass/valid/images/1064.jpg: corrupt JPEG restored and saved\n",
      "\u001B[34m\u001B[1mval: \u001B[0m/media/abawi/e38fddf9-a92e-4c73-b905-995771f8fc3a/datasets/segmentation/yolo_style_fourclass/valid/images/1158.jpg: corrupt JPEG restored and saved\n",
      "\u001B[34m\u001B[1mval: \u001B[0m/media/abawi/e38fddf9-a92e-4c73-b905-995771f8fc3a/datasets/segmentation/yolo_style_fourclass/valid/images/119.jpg: corrupt JPEG restored and saved\n",
      "\u001B[34m\u001B[1mval: \u001B[0m/media/abawi/e38fddf9-a92e-4c73-b905-995771f8fc3a/datasets/segmentation/yolo_style_fourclass/valid/images/1240.jpg: corrupt JPEG restored and saved\n",
      "\u001B[34m\u001B[1mval: \u001B[0m/media/abawi/e38fddf9-a92e-4c73-b905-995771f8fc3a/datasets/segmentation/yolo_style_fourclass/valid/images/140.jpg: corrupt JPEG restored and saved\n",
      "\u001B[34m\u001B[1mval: \u001B[0m/media/abawi/e38fddf9-a92e-4c73-b905-995771f8fc3a/datasets/segmentation/yolo_style_fourclass/valid/images/1520.jpg: corrupt JPEG restored and saved\n",
      "\u001B[34m\u001B[1mval: \u001B[0m/media/abawi/e38fddf9-a92e-4c73-b905-995771f8fc3a/datasets/segmentation/yolo_style_fourclass/valid/images/1523.jpg: corrupt JPEG restored and saved\n",
      "\u001B[34m\u001B[1mval: \u001B[0m/media/abawi/e38fddf9-a92e-4c73-b905-995771f8fc3a/datasets/segmentation/yolo_style_fourclass/valid/images/1643.jpg: corrupt JPEG restored and saved\n",
      "\u001B[34m\u001B[1mval: \u001B[0m/media/abawi/e38fddf9-a92e-4c73-b905-995771f8fc3a/datasets/segmentation/yolo_style_fourclass/valid/images/183.jpg: corrupt JPEG restored and saved\n",
      "\u001B[34m\u001B[1mval: \u001B[0m/media/abawi/e38fddf9-a92e-4c73-b905-995771f8fc3a/datasets/segmentation/yolo_style_fourclass/valid/images/184.jpg: corrupt JPEG restored and saved\n",
      "\u001B[34m\u001B[1mval: \u001B[0m/media/abawi/e38fddf9-a92e-4c73-b905-995771f8fc3a/datasets/segmentation/yolo_style_fourclass/valid/images/1861.jpg: corrupt JPEG restored and saved\n",
      "\u001B[34m\u001B[1mval: \u001B[0m/media/abawi/e38fddf9-a92e-4c73-b905-995771f8fc3a/datasets/segmentation/yolo_style_fourclass/valid/images/1884.jpg: corrupt JPEG restored and saved\n",
      "\u001B[34m\u001B[1mval: \u001B[0m/media/abawi/e38fddf9-a92e-4c73-b905-995771f8fc3a/datasets/segmentation/yolo_style_fourclass/valid/images/1925.jpg: corrupt JPEG restored and saved\n",
      "\u001B[34m\u001B[1mval: \u001B[0m/media/abawi/e38fddf9-a92e-4c73-b905-995771f8fc3a/datasets/segmentation/yolo_style_fourclass/valid/images/1986.jpg: corrupt JPEG restored and saved\n",
      "\u001B[34m\u001B[1mval: \u001B[0m/media/abawi/e38fddf9-a92e-4c73-b905-995771f8fc3a/datasets/segmentation/yolo_style_fourclass/valid/images/2 (127).jpg: ignoring corrupt image/label: non-normalized or out of bounds coordinates [1.0000466]\n",
      "\u001B[34m\u001B[1mval: \u001B[0m/media/abawi/e38fddf9-a92e-4c73-b905-995771f8fc3a/datasets/segmentation/yolo_style_fourclass/valid/images/2022.jpg: corrupt JPEG restored and saved\n",
      "\u001B[34m\u001B[1mval: \u001B[0m/media/abawi/e38fddf9-a92e-4c73-b905-995771f8fc3a/datasets/segmentation/yolo_style_fourclass/valid/images/2093.jpg: corrupt JPEG restored and saved\n",
      "\u001B[34m\u001B[1mval: \u001B[0m/media/abawi/e38fddf9-a92e-4c73-b905-995771f8fc3a/datasets/segmentation/yolo_style_fourclass/valid/images/2143.jpg: corrupt JPEG restored and saved\n",
      "\u001B[34m\u001B[1mval: \u001B[0m/media/abawi/e38fddf9-a92e-4c73-b905-995771f8fc3a/datasets/segmentation/yolo_style_fourclass/valid/images/2175.jpg: corrupt JPEG restored and saved\n",
      "\u001B[34m\u001B[1mval: \u001B[0m/media/abawi/e38fddf9-a92e-4c73-b905-995771f8fc3a/datasets/segmentation/yolo_style_fourclass/valid/images/2223.jpg: corrupt JPEG restored and saved\n",
      "\u001B[34m\u001B[1mval: \u001B[0m/media/abawi/e38fddf9-a92e-4c73-b905-995771f8fc3a/datasets/segmentation/yolo_style_fourclass/valid/images/2231.jpg: corrupt JPEG restored and saved\n",
      "\u001B[34m\u001B[1mval: \u001B[0m/media/abawi/e38fddf9-a92e-4c73-b905-995771f8fc3a/datasets/segmentation/yolo_style_fourclass/valid/images/2244.jpg: corrupt JPEG restored and saved\n",
      "\u001B[34m\u001B[1mval: \u001B[0m/media/abawi/e38fddf9-a92e-4c73-b905-995771f8fc3a/datasets/segmentation/yolo_style_fourclass/valid/images/2315.jpg: corrupt JPEG restored and saved\n",
      "\u001B[34m\u001B[1mval: \u001B[0m/media/abawi/e38fddf9-a92e-4c73-b905-995771f8fc3a/datasets/segmentation/yolo_style_fourclass/valid/images/256.jpg: corrupt JPEG restored and saved\n",
      "\u001B[34m\u001B[1mval: \u001B[0m/media/abawi/e38fddf9-a92e-4c73-b905-995771f8fc3a/datasets/segmentation/yolo_style_fourclass/valid/images/2729.jpg: corrupt JPEG restored and saved\n",
      "\u001B[34m\u001B[1mval: \u001B[0m/media/abawi/e38fddf9-a92e-4c73-b905-995771f8fc3a/datasets/segmentation/yolo_style_fourclass/valid/images/2737.jpg: corrupt JPEG restored and saved\n",
      "\u001B[34m\u001B[1mval: \u001B[0m/media/abawi/e38fddf9-a92e-4c73-b905-995771f8fc3a/datasets/segmentation/yolo_style_fourclass/valid/images/2753.jpg: corrupt JPEG restored and saved\n",
      "\u001B[34m\u001B[1mval: \u001B[0m/media/abawi/e38fddf9-a92e-4c73-b905-995771f8fc3a/datasets/segmentation/yolo_style_fourclass/valid/images/2797.jpg: corrupt JPEG restored and saved\n",
      "\u001B[34m\u001B[1mval: \u001B[0m/media/abawi/e38fddf9-a92e-4c73-b905-995771f8fc3a/datasets/segmentation/yolo_style_fourclass/valid/images/3 (104).jpg: corrupt JPEG restored and saved\n",
      "\u001B[34m\u001B[1mval: \u001B[0m/media/abawi/e38fddf9-a92e-4c73-b905-995771f8fc3a/datasets/segmentation/yolo_style_fourclass/valid/images/3 (122).jpg: corrupt JPEG restored and saved\n",
      "\u001B[34m\u001B[1mval: \u001B[0m/media/abawi/e38fddf9-a92e-4c73-b905-995771f8fc3a/datasets/segmentation/yolo_style_fourclass/valid/images/3 (144).jpg: corrupt JPEG restored and saved\n",
      "\u001B[34m\u001B[1mval: \u001B[0m/media/abawi/e38fddf9-a92e-4c73-b905-995771f8fc3a/datasets/segmentation/yolo_style_fourclass/valid/images/3 (15).jpg: corrupt JPEG restored and saved\n",
      "\u001B[34m\u001B[1mval: \u001B[0m/media/abawi/e38fddf9-a92e-4c73-b905-995771f8fc3a/datasets/segmentation/yolo_style_fourclass/valid/images/3 (162).jpg: corrupt JPEG restored and saved\n",
      "\u001B[34m\u001B[1mval: \u001B[0m/media/abawi/e38fddf9-a92e-4c73-b905-995771f8fc3a/datasets/segmentation/yolo_style_fourclass/valid/images/3 (186).jpg: corrupt JPEG restored and saved\n",
      "\u001B[34m\u001B[1mval: \u001B[0m/media/abawi/e38fddf9-a92e-4c73-b905-995771f8fc3a/datasets/segmentation/yolo_style_fourclass/valid/images/3 (192).jpg: corrupt JPEG restored and saved\n",
      "\u001B[34m\u001B[1mval: \u001B[0m/media/abawi/e38fddf9-a92e-4c73-b905-995771f8fc3a/datasets/segmentation/yolo_style_fourclass/valid/images/3 (201).jpg: corrupt JPEG restored and saved\n",
      "\u001B[34m\u001B[1mval: \u001B[0m/media/abawi/e38fddf9-a92e-4c73-b905-995771f8fc3a/datasets/segmentation/yolo_style_fourclass/valid/images/3 (203).jpg: corrupt JPEG restored and saved\n",
      "\u001B[34m\u001B[1mval: \u001B[0m/media/abawi/e38fddf9-a92e-4c73-b905-995771f8fc3a/datasets/segmentation/yolo_style_fourclass/valid/images/3 (212).jpg: corrupt JPEG restored and saved\n",
      "\u001B[34m\u001B[1mval: \u001B[0m/media/abawi/e38fddf9-a92e-4c73-b905-995771f8fc3a/datasets/segmentation/yolo_style_fourclass/valid/images/3 (219).jpg: corrupt JPEG restored and saved\n",
      "\u001B[34m\u001B[1mval: \u001B[0m/media/abawi/e38fddf9-a92e-4c73-b905-995771f8fc3a/datasets/segmentation/yolo_style_fourclass/valid/images/3 (23).jpg: corrupt JPEG restored and saved\n",
      "\u001B[34m\u001B[1mval: \u001B[0m/media/abawi/e38fddf9-a92e-4c73-b905-995771f8fc3a/datasets/segmentation/yolo_style_fourclass/valid/images/3 (24).jpg: corrupt JPEG restored and saved\n",
      "\u001B[34m\u001B[1mval: \u001B[0m/media/abawi/e38fddf9-a92e-4c73-b905-995771f8fc3a/datasets/segmentation/yolo_style_fourclass/valid/images/3 (329).jpg: corrupt JPEG restored and saved\n",
      "\u001B[34m\u001B[1mval: \u001B[0m/media/abawi/e38fddf9-a92e-4c73-b905-995771f8fc3a/datasets/segmentation/yolo_style_fourclass/valid/images/3 (345).jpg: corrupt JPEG restored and saved\n",
      "\u001B[34m\u001B[1mval: \u001B[0m/media/abawi/e38fddf9-a92e-4c73-b905-995771f8fc3a/datasets/segmentation/yolo_style_fourclass/valid/images/3 (348).jpg: corrupt JPEG restored and saved\n",
      "\u001B[34m\u001B[1mval: \u001B[0m/media/abawi/e38fddf9-a92e-4c73-b905-995771f8fc3a/datasets/segmentation/yolo_style_fourclass/valid/images/3 (360).jpg: corrupt JPEG restored and saved\n",
      "\u001B[34m\u001B[1mval: \u001B[0m/media/abawi/e38fddf9-a92e-4c73-b905-995771f8fc3a/datasets/segmentation/yolo_style_fourclass/valid/images/3 (374).jpg: corrupt JPEG restored and saved\n",
      "\u001B[34m\u001B[1mval: \u001B[0m/media/abawi/e38fddf9-a92e-4c73-b905-995771f8fc3a/datasets/segmentation/yolo_style_fourclass/valid/images/3 (375).jpg: corrupt JPEG restored and saved\n",
      "\u001B[34m\u001B[1mval: \u001B[0m/media/abawi/e38fddf9-a92e-4c73-b905-995771f8fc3a/datasets/segmentation/yolo_style_fourclass/valid/images/3 (385).jpg: corrupt JPEG restored and saved\n",
      "\u001B[34m\u001B[1mval: \u001B[0m/media/abawi/e38fddf9-a92e-4c73-b905-995771f8fc3a/datasets/segmentation/yolo_style_fourclass/valid/images/3 (403).jpg: corrupt JPEG restored and saved\n",
      "\u001B[34m\u001B[1mval: \u001B[0m/media/abawi/e38fddf9-a92e-4c73-b905-995771f8fc3a/datasets/segmentation/yolo_style_fourclass/valid/images/3 (436).jpg: corrupt JPEG restored and saved\n",
      "\u001B[34m\u001B[1mval: \u001B[0m/media/abawi/e38fddf9-a92e-4c73-b905-995771f8fc3a/datasets/segmentation/yolo_style_fourclass/valid/images/3 (474).jpg: corrupt JPEG restored and saved\n",
      "\u001B[34m\u001B[1mval: \u001B[0m/media/abawi/e38fddf9-a92e-4c73-b905-995771f8fc3a/datasets/segmentation/yolo_style_fourclass/valid/images/3 (536).jpg: corrupt JPEG restored and saved\n",
      "\u001B[34m\u001B[1mval: \u001B[0m/media/abawi/e38fddf9-a92e-4c73-b905-995771f8fc3a/datasets/segmentation/yolo_style_fourclass/valid/images/3 (63).jpg: corrupt JPEG restored and saved\n",
      "\u001B[34m\u001B[1mval: \u001B[0m/media/abawi/e38fddf9-a92e-4c73-b905-995771f8fc3a/datasets/segmentation/yolo_style_fourclass/valid/images/3 (7).jpg: corrupt JPEG restored and saved\n",
      "\u001B[34m\u001B[1mval: \u001B[0m/media/abawi/e38fddf9-a92e-4c73-b905-995771f8fc3a/datasets/segmentation/yolo_style_fourclass/valid/images/3 (78).jpg: corrupt JPEG restored and saved\n",
      "\u001B[34m\u001B[1mval: \u001B[0m/media/abawi/e38fddf9-a92e-4c73-b905-995771f8fc3a/datasets/segmentation/yolo_style_fourclass/valid/images/3 (89).jpg: corrupt JPEG restored and saved\n",
      "\u001B[34m\u001B[1mval: \u001B[0m/media/abawi/e38fddf9-a92e-4c73-b905-995771f8fc3a/datasets/segmentation/yolo_style_fourclass/valid/images/3 (91).jpg: corrupt JPEG restored and saved\n",
      "\u001B[34m\u001B[1mval: \u001B[0m/media/abawi/e38fddf9-a92e-4c73-b905-995771f8fc3a/datasets/segmentation/yolo_style_fourclass/valid/images/3015.jpg: corrupt JPEG restored and saved\n",
      "\u001B[34m\u001B[1mval: \u001B[0m/media/abawi/e38fddf9-a92e-4c73-b905-995771f8fc3a/datasets/segmentation/yolo_style_fourclass/valid/images/3030.jpg: corrupt JPEG restored and saved\n",
      "\u001B[34m\u001B[1mval: \u001B[0m/media/abawi/e38fddf9-a92e-4c73-b905-995771f8fc3a/datasets/segmentation/yolo_style_fourclass/valid/images/3151.jpg: corrupt JPEG restored and saved\n",
      "\u001B[34m\u001B[1mval: \u001B[0m/media/abawi/e38fddf9-a92e-4c73-b905-995771f8fc3a/datasets/segmentation/yolo_style_fourclass/valid/images/3204.jpg: corrupt JPEG restored and saved\n",
      "\u001B[34m\u001B[1mval: \u001B[0m/media/abawi/e38fddf9-a92e-4c73-b905-995771f8fc3a/datasets/segmentation/yolo_style_fourclass/valid/images/3385.jpg: corrupt JPEG restored and saved\n",
      "\u001B[34m\u001B[1mval: \u001B[0m/media/abawi/e38fddf9-a92e-4c73-b905-995771f8fc3a/datasets/segmentation/yolo_style_fourclass/valid/images/3523.jpg: corrupt JPEG restored and saved\n",
      "\u001B[34m\u001B[1mval: \u001B[0m/media/abawi/e38fddf9-a92e-4c73-b905-995771f8fc3a/datasets/segmentation/yolo_style_fourclass/valid/images/3693.jpg: corrupt JPEG restored and saved\n",
      "\u001B[34m\u001B[1mval: \u001B[0m/media/abawi/e38fddf9-a92e-4c73-b905-995771f8fc3a/datasets/segmentation/yolo_style_fourclass/valid/images/371.jpg: corrupt JPEG restored and saved\n",
      "\u001B[34m\u001B[1mval: \u001B[0m/media/abawi/e38fddf9-a92e-4c73-b905-995771f8fc3a/datasets/segmentation/yolo_style_fourclass/valid/images/3713.jpg: corrupt JPEG restored and saved\n",
      "\u001B[34m\u001B[1mval: \u001B[0m/media/abawi/e38fddf9-a92e-4c73-b905-995771f8fc3a/datasets/segmentation/yolo_style_fourclass/valid/images/376.jpg: corrupt JPEG restored and saved\n",
      "\u001B[34m\u001B[1mval: \u001B[0m/media/abawi/e38fddf9-a92e-4c73-b905-995771f8fc3a/datasets/segmentation/yolo_style_fourclass/valid/images/391.jpg: corrupt JPEG restored and saved\n",
      "\u001B[34m\u001B[1mval: \u001B[0m/media/abawi/e38fddf9-a92e-4c73-b905-995771f8fc3a/datasets/segmentation/yolo_style_fourclass/valid/images/4 (104).jpg: corrupt JPEG restored and saved\n",
      "\u001B[34m\u001B[1mval: \u001B[0m/media/abawi/e38fddf9-a92e-4c73-b905-995771f8fc3a/datasets/segmentation/yolo_style_fourclass/valid/images/4 (135).jpg: corrupt JPEG restored and saved\n",
      "\u001B[34m\u001B[1mval: \u001B[0m/media/abawi/e38fddf9-a92e-4c73-b905-995771f8fc3a/datasets/segmentation/yolo_style_fourclass/valid/images/4 (143).jpg: corrupt JPEG restored and saved\n",
      "\u001B[34m\u001B[1mval: \u001B[0m/media/abawi/e38fddf9-a92e-4c73-b905-995771f8fc3a/datasets/segmentation/yolo_style_fourclass/valid/images/4 (160).jpg: corrupt JPEG restored and saved\n",
      "\u001B[34m\u001B[1mval: \u001B[0m/media/abawi/e38fddf9-a92e-4c73-b905-995771f8fc3a/datasets/segmentation/yolo_style_fourclass/valid/images/4 (163).jpg: corrupt JPEG restored and saved\n",
      "\u001B[34m\u001B[1mval: \u001B[0m/media/abawi/e38fddf9-a92e-4c73-b905-995771f8fc3a/datasets/segmentation/yolo_style_fourclass/valid/images/4 (195).jpg: corrupt JPEG restored and saved\n",
      "\u001B[34m\u001B[1mval: \u001B[0m/media/abawi/e38fddf9-a92e-4c73-b905-995771f8fc3a/datasets/segmentation/yolo_style_fourclass/valid/images/4 (201).jpg: corrupt JPEG restored and saved\n",
      "\u001B[34m\u001B[1mval: \u001B[0m/media/abawi/e38fddf9-a92e-4c73-b905-995771f8fc3a/datasets/segmentation/yolo_style_fourclass/valid/images/4 (202).jpg: corrupt JPEG restored and saved\n",
      "\u001B[34m\u001B[1mval: \u001B[0m/media/abawi/e38fddf9-a92e-4c73-b905-995771f8fc3a/datasets/segmentation/yolo_style_fourclass/valid/images/4 (203).jpg: corrupt JPEG restored and saved\n",
      "\u001B[34m\u001B[1mval: \u001B[0m/media/abawi/e38fddf9-a92e-4c73-b905-995771f8fc3a/datasets/segmentation/yolo_style_fourclass/valid/images/4 (206).jpg: corrupt JPEG restored and saved\n",
      "\u001B[34m\u001B[1mval: \u001B[0m/media/abawi/e38fddf9-a92e-4c73-b905-995771f8fc3a/datasets/segmentation/yolo_style_fourclass/valid/images/4 (208).jpg: corrupt JPEG restored and saved\n",
      "\u001B[34m\u001B[1mval: \u001B[0m/media/abawi/e38fddf9-a92e-4c73-b905-995771f8fc3a/datasets/segmentation/yolo_style_fourclass/valid/images/4 (211).jpg: corrupt JPEG restored and saved\n",
      "\u001B[34m\u001B[1mval: \u001B[0m/media/abawi/e38fddf9-a92e-4c73-b905-995771f8fc3a/datasets/segmentation/yolo_style_fourclass/valid/images/4 (212).jpg: corrupt JPEG restored and saved\n",
      "\u001B[34m\u001B[1mval: \u001B[0m/media/abawi/e38fddf9-a92e-4c73-b905-995771f8fc3a/datasets/segmentation/yolo_style_fourclass/valid/images/4 (216).jpg: corrupt JPEG restored and saved\n",
      "\u001B[34m\u001B[1mval: \u001B[0m/media/abawi/e38fddf9-a92e-4c73-b905-995771f8fc3a/datasets/segmentation/yolo_style_fourclass/valid/images/4 (218).jpg: corrupt JPEG restored and saved\n",
      "\u001B[34m\u001B[1mval: \u001B[0m/media/abawi/e38fddf9-a92e-4c73-b905-995771f8fc3a/datasets/segmentation/yolo_style_fourclass/valid/images/4 (225).jpg: corrupt JPEG restored and saved\n",
      "\u001B[34m\u001B[1mval: \u001B[0m/media/abawi/e38fddf9-a92e-4c73-b905-995771f8fc3a/datasets/segmentation/yolo_style_fourclass/valid/images/4 (230).jpg: corrupt JPEG restored and saved\n",
      "\u001B[34m\u001B[1mval: \u001B[0m/media/abawi/e38fddf9-a92e-4c73-b905-995771f8fc3a/datasets/segmentation/yolo_style_fourclass/valid/images/4 (248).jpg: corrupt JPEG restored and saved\n",
      "\u001B[34m\u001B[1mval: \u001B[0m/media/abawi/e38fddf9-a92e-4c73-b905-995771f8fc3a/datasets/segmentation/yolo_style_fourclass/valid/images/4 (251).jpg: corrupt JPEG restored and saved\n",
      "\u001B[34m\u001B[1mval: \u001B[0m/media/abawi/e38fddf9-a92e-4c73-b905-995771f8fc3a/datasets/segmentation/yolo_style_fourclass/valid/images/4 (296).jpg: corrupt JPEG restored and saved\n",
      "\u001B[34m\u001B[1mval: \u001B[0m/media/abawi/e38fddf9-a92e-4c73-b905-995771f8fc3a/datasets/segmentation/yolo_style_fourclass/valid/images/4 (304).jpg: corrupt JPEG restored and saved\n",
      "\u001B[34m\u001B[1mval: \u001B[0m/media/abawi/e38fddf9-a92e-4c73-b905-995771f8fc3a/datasets/segmentation/yolo_style_fourclass/valid/images/4 (308).jpg: corrupt JPEG restored and saved\n",
      "\u001B[34m\u001B[1mval: \u001B[0m/media/abawi/e38fddf9-a92e-4c73-b905-995771f8fc3a/datasets/segmentation/yolo_style_fourclass/valid/images/4 (31).jpg: corrupt JPEG restored and saved\n",
      "\u001B[34m\u001B[1mval: \u001B[0m/media/abawi/e38fddf9-a92e-4c73-b905-995771f8fc3a/datasets/segmentation/yolo_style_fourclass/valid/images/4 (323).jpg: corrupt JPEG restored and saved\n",
      "\u001B[34m\u001B[1mval: \u001B[0m/media/abawi/e38fddf9-a92e-4c73-b905-995771f8fc3a/datasets/segmentation/yolo_style_fourclass/valid/images/4 (344).jpg: corrupt JPEG restored and saved\n",
      "\u001B[34m\u001B[1mval: \u001B[0m/media/abawi/e38fddf9-a92e-4c73-b905-995771f8fc3a/datasets/segmentation/yolo_style_fourclass/valid/images/4 (351).jpg: corrupt JPEG restored and saved\n",
      "\u001B[34m\u001B[1mval: \u001B[0m/media/abawi/e38fddf9-a92e-4c73-b905-995771f8fc3a/datasets/segmentation/yolo_style_fourclass/valid/images/4 (353).jpg: corrupt JPEG restored and saved\n",
      "\u001B[34m\u001B[1mval: \u001B[0m/media/abawi/e38fddf9-a92e-4c73-b905-995771f8fc3a/datasets/segmentation/yolo_style_fourclass/valid/images/4 (355).jpg: corrupt JPEG restored and saved\n",
      "\u001B[34m\u001B[1mval: \u001B[0m/media/abawi/e38fddf9-a92e-4c73-b905-995771f8fc3a/datasets/segmentation/yolo_style_fourclass/valid/images/4 (356).jpg: corrupt JPEG restored and saved\n",
      "\u001B[34m\u001B[1mval: \u001B[0m/media/abawi/e38fddf9-a92e-4c73-b905-995771f8fc3a/datasets/segmentation/yolo_style_fourclass/valid/images/4 (357).jpg: corrupt JPEG restored and saved\n",
      "\u001B[34m\u001B[1mval: \u001B[0m/media/abawi/e38fddf9-a92e-4c73-b905-995771f8fc3a/datasets/segmentation/yolo_style_fourclass/valid/images/4 (41).jpg: corrupt JPEG restored and saved\n",
      "\u001B[34m\u001B[1mval: \u001B[0m/media/abawi/e38fddf9-a92e-4c73-b905-995771f8fc3a/datasets/segmentation/yolo_style_fourclass/valid/images/4 (426).jpg: corrupt JPEG restored and saved\n",
      "\u001B[34m\u001B[1mval: \u001B[0m/media/abawi/e38fddf9-a92e-4c73-b905-995771f8fc3a/datasets/segmentation/yolo_style_fourclass/valid/images/4 (44).jpg: corrupt JPEG restored and saved\n",
      "\u001B[34m\u001B[1mval: \u001B[0m/media/abawi/e38fddf9-a92e-4c73-b905-995771f8fc3a/datasets/segmentation/yolo_style_fourclass/valid/images/4 (450).jpg: corrupt JPEG restored and saved\n",
      "\u001B[34m\u001B[1mval: \u001B[0m/media/abawi/e38fddf9-a92e-4c73-b905-995771f8fc3a/datasets/segmentation/yolo_style_fourclass/valid/images/4 (460).jpg: corrupt JPEG restored and saved\n",
      "\u001B[34m\u001B[1mval: \u001B[0m/media/abawi/e38fddf9-a92e-4c73-b905-995771f8fc3a/datasets/segmentation/yolo_style_fourclass/valid/images/4 (465).jpg: corrupt JPEG restored and saved\n",
      "\u001B[34m\u001B[1mval: \u001B[0m/media/abawi/e38fddf9-a92e-4c73-b905-995771f8fc3a/datasets/segmentation/yolo_style_fourclass/valid/images/4 (472).jpg: corrupt JPEG restored and saved\n",
      "\u001B[34m\u001B[1mval: \u001B[0m/media/abawi/e38fddf9-a92e-4c73-b905-995771f8fc3a/datasets/segmentation/yolo_style_fourclass/valid/images/4 (48).jpg: corrupt JPEG restored and saved\n",
      "\u001B[34m\u001B[1mval: \u001B[0m/media/abawi/e38fddf9-a92e-4c73-b905-995771f8fc3a/datasets/segmentation/yolo_style_fourclass/valid/images/4 (484).jpg: corrupt JPEG restored and saved\n",
      "\u001B[34m\u001B[1mval: \u001B[0m/media/abawi/e38fddf9-a92e-4c73-b905-995771f8fc3a/datasets/segmentation/yolo_style_fourclass/valid/images/4 (492).jpg: corrupt JPEG restored and saved\n",
      "\u001B[34m\u001B[1mval: \u001B[0m/media/abawi/e38fddf9-a92e-4c73-b905-995771f8fc3a/datasets/segmentation/yolo_style_fourclass/valid/images/4 (504).jpg: corrupt JPEG restored and saved\n",
      "\u001B[34m\u001B[1mval: \u001B[0m/media/abawi/e38fddf9-a92e-4c73-b905-995771f8fc3a/datasets/segmentation/yolo_style_fourclass/valid/images/4 (66).jpg: corrupt JPEG restored and saved\n",
      "\u001B[34m\u001B[1mval: \u001B[0m/media/abawi/e38fddf9-a92e-4c73-b905-995771f8fc3a/datasets/segmentation/yolo_style_fourclass/valid/images/4 (83).jpg: corrupt JPEG restored and saved\n",
      "\u001B[34m\u001B[1mval: \u001B[0m/media/abawi/e38fddf9-a92e-4c73-b905-995771f8fc3a/datasets/segmentation/yolo_style_fourclass/valid/images/432.jpg: corrupt JPEG restored and saved\n",
      "\u001B[34m\u001B[1mval: \u001B[0m/media/abawi/e38fddf9-a92e-4c73-b905-995771f8fc3a/datasets/segmentation/yolo_style_fourclass/valid/images/5 (39).jpg: corrupt JPEG restored and saved\n",
      "\u001B[34m\u001B[1mval: \u001B[0m/media/abawi/e38fddf9-a92e-4c73-b905-995771f8fc3a/datasets/segmentation/yolo_style_fourclass/valid/images/5 (42).jpg: corrupt JPEG restored and saved\n",
      "\u001B[34m\u001B[1mval: \u001B[0m/media/abawi/e38fddf9-a92e-4c73-b905-995771f8fc3a/datasets/segmentation/yolo_style_fourclass/valid/images/5 (71).jpg: corrupt JPEG restored and saved\n",
      "\u001B[34m\u001B[1mval: \u001B[0m/media/abawi/e38fddf9-a92e-4c73-b905-995771f8fc3a/datasets/segmentation/yolo_style_fourclass/valid/images/5 (75).jpg: corrupt JPEG restored and saved\n",
      "\u001B[34m\u001B[1mval: \u001B[0m/media/abawi/e38fddf9-a92e-4c73-b905-995771f8fc3a/datasets/segmentation/yolo_style_fourclass/valid/images/5 (91).jpg: corrupt JPEG restored and saved\n",
      "\u001B[34m\u001B[1mval: \u001B[0m/media/abawi/e38fddf9-a92e-4c73-b905-995771f8fc3a/datasets/segmentation/yolo_style_fourclass/valid/images/528.jpg: corrupt JPEG restored and saved\n",
      "\u001B[34m\u001B[1mval: \u001B[0m/media/abawi/e38fddf9-a92e-4c73-b905-995771f8fc3a/datasets/segmentation/yolo_style_fourclass/valid/images/570.jpg: corrupt JPEG restored and saved\n",
      "\u001B[34m\u001B[1mval: \u001B[0m/media/abawi/e38fddf9-a92e-4c73-b905-995771f8fc3a/datasets/segmentation/yolo_style_fourclass/valid/images/6 (1).jpg: corrupt JPEG restored and saved\n",
      "\u001B[34m\u001B[1mval: \u001B[0m/media/abawi/e38fddf9-a92e-4c73-b905-995771f8fc3a/datasets/segmentation/yolo_style_fourclass/valid/images/6 (103).jpg: corrupt JPEG restored and saved\n",
      "\u001B[34m\u001B[1mval: \u001B[0m/media/abawi/e38fddf9-a92e-4c73-b905-995771f8fc3a/datasets/segmentation/yolo_style_fourclass/valid/images/6 (105).jpg: corrupt JPEG restored and saved\n",
      "\u001B[34m\u001B[1mval: \u001B[0m/media/abawi/e38fddf9-a92e-4c73-b905-995771f8fc3a/datasets/segmentation/yolo_style_fourclass/valid/images/6 (109).jpg: corrupt JPEG restored and saved\n",
      "\u001B[34m\u001B[1mval: \u001B[0m/media/abawi/e38fddf9-a92e-4c73-b905-995771f8fc3a/datasets/segmentation/yolo_style_fourclass/valid/images/6 (113).jpg: corrupt JPEG restored and saved\n",
      "\u001B[34m\u001B[1mval: \u001B[0m/media/abawi/e38fddf9-a92e-4c73-b905-995771f8fc3a/datasets/segmentation/yolo_style_fourclass/valid/images/6 (116).jpg: corrupt JPEG restored and saved\n",
      "\u001B[34m\u001B[1mval: \u001B[0m/media/abawi/e38fddf9-a92e-4c73-b905-995771f8fc3a/datasets/segmentation/yolo_style_fourclass/valid/images/6 (12).jpg: corrupt JPEG restored and saved\n",
      "\u001B[34m\u001B[1mval: \u001B[0m/media/abawi/e38fddf9-a92e-4c73-b905-995771f8fc3a/datasets/segmentation/yolo_style_fourclass/valid/images/6 (124).jpg: corrupt JPEG restored and saved\n",
      "\u001B[34m\u001B[1mval: \u001B[0m/media/abawi/e38fddf9-a92e-4c73-b905-995771f8fc3a/datasets/segmentation/yolo_style_fourclass/valid/images/6 (131).jpg: corrupt JPEG restored and saved\n",
      "\u001B[34m\u001B[1mval: \u001B[0m/media/abawi/e38fddf9-a92e-4c73-b905-995771f8fc3a/datasets/segmentation/yolo_style_fourclass/valid/images/6 (134).jpg: corrupt JPEG restored and saved\n",
      "\u001B[34m\u001B[1mval: \u001B[0m/media/abawi/e38fddf9-a92e-4c73-b905-995771f8fc3a/datasets/segmentation/yolo_style_fourclass/valid/images/6 (148).jpg: corrupt JPEG restored and saved\n",
      "\u001B[34m\u001B[1mval: \u001B[0m/media/abawi/e38fddf9-a92e-4c73-b905-995771f8fc3a/datasets/segmentation/yolo_style_fourclass/valid/images/6 (153).jpg: corrupt JPEG restored and saved\n",
      "\u001B[34m\u001B[1mval: \u001B[0m/media/abawi/e38fddf9-a92e-4c73-b905-995771f8fc3a/datasets/segmentation/yolo_style_fourclass/valid/images/6 (155).jpg: corrupt JPEG restored and saved\n",
      "\u001B[34m\u001B[1mval: \u001B[0m/media/abawi/e38fddf9-a92e-4c73-b905-995771f8fc3a/datasets/segmentation/yolo_style_fourclass/valid/images/6 (158).jpg: corrupt JPEG restored and saved\n",
      "\u001B[34m\u001B[1mval: \u001B[0m/media/abawi/e38fddf9-a92e-4c73-b905-995771f8fc3a/datasets/segmentation/yolo_style_fourclass/valid/images/6 (164).jpg: corrupt JPEG restored and saved\n",
      "\u001B[34m\u001B[1mval: \u001B[0m/media/abawi/e38fddf9-a92e-4c73-b905-995771f8fc3a/datasets/segmentation/yolo_style_fourclass/valid/images/6 (165).jpg: corrupt JPEG restored and saved\n",
      "\u001B[34m\u001B[1mval: \u001B[0m/media/abawi/e38fddf9-a92e-4c73-b905-995771f8fc3a/datasets/segmentation/yolo_style_fourclass/valid/images/6 (17).jpg: corrupt JPEG restored and saved\n",
      "\u001B[34m\u001B[1mval: \u001B[0m/media/abawi/e38fddf9-a92e-4c73-b905-995771f8fc3a/datasets/segmentation/yolo_style_fourclass/valid/images/6 (175).jpg: corrupt JPEG restored and saved\n",
      "\u001B[34m\u001B[1mval: \u001B[0m/media/abawi/e38fddf9-a92e-4c73-b905-995771f8fc3a/datasets/segmentation/yolo_style_fourclass/valid/images/6 (177).jpg: corrupt JPEG restored and saved\n",
      "\u001B[34m\u001B[1mval: \u001B[0m/media/abawi/e38fddf9-a92e-4c73-b905-995771f8fc3a/datasets/segmentation/yolo_style_fourclass/valid/images/6 (190).jpg: corrupt JPEG restored and saved\n",
      "\u001B[34m\u001B[1mval: \u001B[0m/media/abawi/e38fddf9-a92e-4c73-b905-995771f8fc3a/datasets/segmentation/yolo_style_fourclass/valid/images/6 (227).jpg: corrupt JPEG restored and saved\n",
      "\u001B[34m\u001B[1mval: \u001B[0m/media/abawi/e38fddf9-a92e-4c73-b905-995771f8fc3a/datasets/segmentation/yolo_style_fourclass/valid/images/6 (237).jpg: corrupt JPEG restored and saved\n",
      "\u001B[34m\u001B[1mval: \u001B[0m/media/abawi/e38fddf9-a92e-4c73-b905-995771f8fc3a/datasets/segmentation/yolo_style_fourclass/valid/images/6 (241).jpg: corrupt JPEG restored and saved\n",
      "\u001B[34m\u001B[1mval: \u001B[0m/media/abawi/e38fddf9-a92e-4c73-b905-995771f8fc3a/datasets/segmentation/yolo_style_fourclass/valid/images/6 (243).jpg: corrupt JPEG restored and saved\n",
      "\u001B[34m\u001B[1mval: \u001B[0m/media/abawi/e38fddf9-a92e-4c73-b905-995771f8fc3a/datasets/segmentation/yolo_style_fourclass/valid/images/6 (244).jpg: corrupt JPEG restored and saved\n",
      "\u001B[34m\u001B[1mval: \u001B[0m/media/abawi/e38fddf9-a92e-4c73-b905-995771f8fc3a/datasets/segmentation/yolo_style_fourclass/valid/images/6 (53).jpg: corrupt JPEG restored and saved\n",
      "\u001B[34m\u001B[1mval: \u001B[0m/media/abawi/e38fddf9-a92e-4c73-b905-995771f8fc3a/datasets/segmentation/yolo_style_fourclass/valid/images/6 (6).jpg: corrupt JPEG restored and saved\n",
      "\u001B[34m\u001B[1mval: \u001B[0m/media/abawi/e38fddf9-a92e-4c73-b905-995771f8fc3a/datasets/segmentation/yolo_style_fourclass/valid/images/6 (60).jpg: corrupt JPEG restored and saved\n",
      "\u001B[34m\u001B[1mval: \u001B[0m/media/abawi/e38fddf9-a92e-4c73-b905-995771f8fc3a/datasets/segmentation/yolo_style_fourclass/valid/images/6 (63).jpg: corrupt JPEG restored and saved\n",
      "\u001B[34m\u001B[1mval: \u001B[0m/media/abawi/e38fddf9-a92e-4c73-b905-995771f8fc3a/datasets/segmentation/yolo_style_fourclass/valid/images/6 (68).jpg: corrupt JPEG restored and saved\n",
      "\u001B[34m\u001B[1mval: \u001B[0m/media/abawi/e38fddf9-a92e-4c73-b905-995771f8fc3a/datasets/segmentation/yolo_style_fourclass/valid/images/6 (78).jpg: corrupt JPEG restored and saved\n",
      "\u001B[34m\u001B[1mval: \u001B[0m/media/abawi/e38fddf9-a92e-4c73-b905-995771f8fc3a/datasets/segmentation/yolo_style_fourclass/valid/images/6 (79).jpg: corrupt JPEG restored and saved\n",
      "\u001B[34m\u001B[1mval: \u001B[0m/media/abawi/e38fddf9-a92e-4c73-b905-995771f8fc3a/datasets/segmentation/yolo_style_fourclass/valid/images/6 (93).jpg: corrupt JPEG restored and saved\n",
      "\u001B[34m\u001B[1mval: \u001B[0m/media/abawi/e38fddf9-a92e-4c73-b905-995771f8fc3a/datasets/segmentation/yolo_style_fourclass/valid/images/6 (95).jpg: corrupt JPEG restored and saved\n",
      "\u001B[34m\u001B[1mval: \u001B[0m/media/abawi/e38fddf9-a92e-4c73-b905-995771f8fc3a/datasets/segmentation/yolo_style_fourclass/valid/images/645.jpg: corrupt JPEG restored and saved\n",
      "\u001B[34m\u001B[1mval: \u001B[0m/media/abawi/e38fddf9-a92e-4c73-b905-995771f8fc3a/datasets/segmentation/yolo_style_fourclass/valid/images/646.jpg: corrupt JPEG restored and saved\n",
      "\u001B[34m\u001B[1mval: \u001B[0m/media/abawi/e38fddf9-a92e-4c73-b905-995771f8fc3a/datasets/segmentation/yolo_style_fourclass/valid/images/781.jpg: corrupt JPEG restored and saved\n",
      "\u001B[34m\u001B[1mval: \u001B[0m/media/abawi/e38fddf9-a92e-4c73-b905-995771f8fc3a/datasets/segmentation/yolo_style_fourclass/valid/images/83.jpg: corrupt JPEG restored and saved\n",
      "\u001B[34m\u001B[1mval: \u001B[0m/media/abawi/e38fddf9-a92e-4c73-b905-995771f8fc3a/datasets/segmentation/yolo_style_fourclass/valid/images/839.jpg: corrupt JPEG restored and saved\n",
      "\u001B[34m\u001B[1mval: \u001B[0m/media/abawi/e38fddf9-a92e-4c73-b905-995771f8fc3a/datasets/segmentation/yolo_style_fourclass/valid/images/899.jpg: corrupt JPEG restored and saved\n",
      "\u001B[34m\u001B[1mval: \u001B[0m/media/abawi/e38fddf9-a92e-4c73-b905-995771f8fc3a/datasets/segmentation/yolo_style_fourclass/valid/images/993.jpg: corrupt JPEG restored and saved\n",
      "\u001B[34m\u001B[1mval: \u001B[0m/media/abawi/e38fddf9-a92e-4c73-b905-995771f8fc3a/datasets/segmentation/yolo_style_fourclass/valid/images/IMG_20191125_131704.jpg: corrupt JPEG restored and saved\n",
      "\u001B[34m\u001B[1mval: \u001B[0m/media/abawi/e38fddf9-a92e-4c73-b905-995771f8fc3a/datasets/segmentation/yolo_style_fourclass/valid/images/IMG_20200917_090809.jpg: corrupt JPEG restored and saved\n",
      "\u001B[34m\u001B[1mval: \u001B[0m/media/abawi/e38fddf9-a92e-4c73-b905-995771f8fc3a/datasets/segmentation/yolo_style_fourclass/valid/images/IMG_20200917_092339.jpg: corrupt JPEG restored and saved\n",
      "\u001B[34m\u001B[1mval: \u001B[0m/media/abawi/e38fddf9-a92e-4c73-b905-995771f8fc3a/datasets/segmentation/yolo_style_fourclass/valid/images/IMG_20200917_092413.jpg: corrupt JPEG restored and saved\n",
      "\u001B[34m\u001B[1mval: \u001B[0m/media/abawi/e38fddf9-a92e-4c73-b905-995771f8fc3a/datasets/segmentation/yolo_style_fourclass/valid/images/IMG_20200917_092514.jpg: corrupt JPEG restored and saved\n",
      "\u001B[34m\u001B[1mval: \u001B[0m/media/abawi/e38fddf9-a92e-4c73-b905-995771f8fc3a/datasets/segmentation/yolo_style_fourclass/valid/images/IMG_20200917_093407.jpg: corrupt JPEG restored and saved\n",
      "\u001B[34m\u001B[1mval: \u001B[0m/media/abawi/e38fddf9-a92e-4c73-b905-995771f8fc3a/datasets/segmentation/yolo_style_fourclass/valid/images/IMG_20200917_094603.jpg: corrupt JPEG restored and saved\n",
      "\u001B[34m\u001B[1mval: \u001B[0m/media/abawi/e38fddf9-a92e-4c73-b905-995771f8fc3a/datasets/segmentation/yolo_style_fourclass/valid/images/IMG_20200917_095134.jpg: corrupt JPEG restored and saved\n",
      "\u001B[34m\u001B[1mval: \u001B[0m/media/abawi/e38fddf9-a92e-4c73-b905-995771f8fc3a/datasets/segmentation/yolo_style_fourclass/valid/images/IMG_20200917_114709.jpg: corrupt JPEG restored and saved\n",
      "\u001B[34m\u001B[1mval: \u001B[0m/media/abawi/e38fddf9-a92e-4c73-b905-995771f8fc3a/datasets/segmentation/yolo_style_fourclass/valid/images/IMG_20200917_120848.jpg: corrupt JPEG restored and saved\n",
      "\u001B[34m\u001B[1mval: \u001B[0m/media/abawi/e38fddf9-a92e-4c73-b905-995771f8fc3a/datasets/segmentation/yolo_style_fourclass/valid/images/IMG_20200917_121024.jpg: corrupt JPEG restored and saved\n",
      "\u001B[34m\u001B[1mval: \u001B[0m/media/abawi/e38fddf9-a92e-4c73-b905-995771f8fc3a/datasets/segmentation/yolo_style_fourclass/valid/images/IMG_20200917_122019.jpg: corrupt JPEG restored and saved\n",
      "\u001B[34m\u001B[1mval: \u001B[0m/media/abawi/e38fddf9-a92e-4c73-b905-995771f8fc3a/datasets/segmentation/yolo_style_fourclass/valid/images/IMG_20200917_132859.jpg: corrupt JPEG restored and saved\n",
      "\u001B[34m\u001B[1mval: \u001B[0m/media/abawi/e38fddf9-a92e-4c73-b905-995771f8fc3a/datasets/segmentation/yolo_style_fourclass/valid/images/IMG_20200917_143313.jpg: corrupt JPEG restored and saved\n",
      "\u001B[34m\u001B[1mval: \u001B[0m/media/abawi/e38fddf9-a92e-4c73-b905-995771f8fc3a/datasets/segmentation/yolo_style_fourclass/valid/images/IMG_20200917_143747.jpg: corrupt JPEG restored and saved\n",
      "\u001B[34m\u001B[1mval: \u001B[0m/media/abawi/e38fddf9-a92e-4c73-b905-995771f8fc3a/datasets/segmentation/yolo_style_fourclass/valid/images/IMG_20200917_143856.jpg: corrupt JPEG restored and saved\n",
      "\u001B[34m\u001B[1mval: \u001B[0m/media/abawi/e38fddf9-a92e-4c73-b905-995771f8fc3a/datasets/segmentation/yolo_style_fourclass/valid/images/g2 (29).jpg: corrupt JPEG restored and saved\n",
      "\u001B[34m\u001B[1mval: \u001B[0m/media/abawi/e38fddf9-a92e-4c73-b905-995771f8fc3a/datasets/segmentation/yolo_style_fourclass/valid/images/g2 (30).jpg: corrupt JPEG restored and saved\n",
      "\u001B[34m\u001B[1mval: \u001B[0m/media/abawi/e38fddf9-a92e-4c73-b905-995771f8fc3a/datasets/segmentation/yolo_style_fourclass/valid/images/g2 (37).jpg: corrupt JPEG restored and saved\n",
      "\u001B[34m\u001B[1mval: \u001B[0m/media/abawi/e38fddf9-a92e-4c73-b905-995771f8fc3a/datasets/segmentation/yolo_style_fourclass/valid/images/g2 (40).jpg: corrupt JPEG restored and saved\n",
      "\u001B[34m\u001B[1mval: \u001B[0m/media/abawi/e38fddf9-a92e-4c73-b905-995771f8fc3a/datasets/segmentation/yolo_style_fourclass/valid/images/g3 (103).jpg: corrupt JPEG restored and saved\n",
      "\u001B[34m\u001B[1mval: \u001B[0m/media/abawi/e38fddf9-a92e-4c73-b905-995771f8fc3a/datasets/segmentation/yolo_style_fourclass/valid/images/g3 (126).jpg: corrupt JPEG restored and saved\n",
      "\u001B[34m\u001B[1mval: \u001B[0m/media/abawi/e38fddf9-a92e-4c73-b905-995771f8fc3a/datasets/segmentation/yolo_style_fourclass/valid/images/g3 (22).jpg: corrupt JPEG restored and saved\n",
      "\u001B[34m\u001B[1mval: \u001B[0m/media/abawi/e38fddf9-a92e-4c73-b905-995771f8fc3a/datasets/segmentation/yolo_style_fourclass/valid/images/g3 (36).jpg: corrupt JPEG restored and saved\n",
      "\u001B[34m\u001B[1mval: \u001B[0m/media/abawi/e38fddf9-a92e-4c73-b905-995771f8fc3a/datasets/segmentation/yolo_style_fourclass/valid/images/g3 (4).jpg: corrupt JPEG restored and saved\n",
      "\u001B[34m\u001B[1mval: \u001B[0m/media/abawi/e38fddf9-a92e-4c73-b905-995771f8fc3a/datasets/segmentation/yolo_style_fourclass/valid/images/g3 (44).jpg: corrupt JPEG restored and saved\n",
      "\u001B[34m\u001B[1mval: \u001B[0m/media/abawi/e38fddf9-a92e-4c73-b905-995771f8fc3a/datasets/segmentation/yolo_style_fourclass/valid/images/g3 (55).jpg: corrupt JPEG restored and saved\n",
      "\u001B[34m\u001B[1mval: \u001B[0m/media/abawi/e38fddf9-a92e-4c73-b905-995771f8fc3a/datasets/segmentation/yolo_style_fourclass/valid/images/g3 (69).jpg: corrupt JPEG restored and saved\n",
      "\u001B[34m\u001B[1mval: \u001B[0m/media/abawi/e38fddf9-a92e-4c73-b905-995771f8fc3a/datasets/segmentation/yolo_style_fourclass/valid/images/g3 (7).jpg: corrupt JPEG restored and saved\n",
      "\u001B[34m\u001B[1mval: \u001B[0m/media/abawi/e38fddf9-a92e-4c73-b905-995771f8fc3a/datasets/segmentation/yolo_style_fourclass/valid/images/g3 (73).jpg: corrupt JPEG restored and saved\n",
      "\u001B[34m\u001B[1mval: \u001B[0m/media/abawi/e38fddf9-a92e-4c73-b905-995771f8fc3a/datasets/segmentation/yolo_style_fourclass/valid/images/g3 (78).jpg: corrupt JPEG restored and saved\n",
      "\u001B[34m\u001B[1mval: \u001B[0m/media/abawi/e38fddf9-a92e-4c73-b905-995771f8fc3a/datasets/segmentation/yolo_style_fourclass/valid/images/g3 (99).jpg: corrupt JPEG restored and saved\n",
      "\u001B[34m\u001B[1mval: \u001B[0m/media/abawi/e38fddf9-a92e-4c73-b905-995771f8fc3a/datasets/segmentation/yolo_style_fourclass/valid/images/l (112).jpg: corrupt JPEG restored and saved\n",
      "\u001B[34m\u001B[1mval: \u001B[0m/media/abawi/e38fddf9-a92e-4c73-b905-995771f8fc3a/datasets/segmentation/yolo_style_fourclass/valid/images/l (135).jpg: corrupt JPEG restored and saved\n",
      "\u001B[34m\u001B[1mval: \u001B[0m/media/abawi/e38fddf9-a92e-4c73-b905-995771f8fc3a/datasets/segmentation/yolo_style_fourclass/valid/images/l (139).jpg: corrupt JPEG restored and saved\n",
      "\u001B[34m\u001B[1mval: \u001B[0m/media/abawi/e38fddf9-a92e-4c73-b905-995771f8fc3a/datasets/segmentation/yolo_style_fourclass/valid/images/l (140).jpg: corrupt JPEG restored and saved\n",
      "\u001B[34m\u001B[1mval: \u001B[0m/media/abawi/e38fddf9-a92e-4c73-b905-995771f8fc3a/datasets/segmentation/yolo_style_fourclass/valid/images/l (149).jpg: corrupt JPEG restored and saved\n",
      "\u001B[34m\u001B[1mval: \u001B[0m/media/abawi/e38fddf9-a92e-4c73-b905-995771f8fc3a/datasets/segmentation/yolo_style_fourclass/valid/images/l (15).jpg: corrupt JPEG restored and saved\n",
      "\u001B[34m\u001B[1mval: \u001B[0m/media/abawi/e38fddf9-a92e-4c73-b905-995771f8fc3a/datasets/segmentation/yolo_style_fourclass/valid/images/l (168).jpg: corrupt JPEG restored and saved\n",
      "\u001B[34m\u001B[1mval: \u001B[0m/media/abawi/e38fddf9-a92e-4c73-b905-995771f8fc3a/datasets/segmentation/yolo_style_fourclass/valid/images/l (170).jpg: corrupt JPEG restored and saved\n",
      "\u001B[34m\u001B[1mval: \u001B[0m/media/abawi/e38fddf9-a92e-4c73-b905-995771f8fc3a/datasets/segmentation/yolo_style_fourclass/valid/images/l (171).jpg: corrupt JPEG restored and saved\n",
      "\u001B[34m\u001B[1mval: \u001B[0m/media/abawi/e38fddf9-a92e-4c73-b905-995771f8fc3a/datasets/segmentation/yolo_style_fourclass/valid/images/l (179).jpg: corrupt JPEG restored and saved\n",
      "\u001B[34m\u001B[1mval: \u001B[0m/media/abawi/e38fddf9-a92e-4c73-b905-995771f8fc3a/datasets/segmentation/yolo_style_fourclass/valid/images/l (197).jpg: corrupt JPEG restored and saved\n",
      "\u001B[34m\u001B[1mval: \u001B[0m/media/abawi/e38fddf9-a92e-4c73-b905-995771f8fc3a/datasets/segmentation/yolo_style_fourclass/valid/images/l (206).jpg: corrupt JPEG restored and saved\n",
      "\u001B[34m\u001B[1mval: \u001B[0m/media/abawi/e38fddf9-a92e-4c73-b905-995771f8fc3a/datasets/segmentation/yolo_style_fourclass/valid/images/l (212).jpg: corrupt JPEG restored and saved\n",
      "\u001B[34m\u001B[1mval: \u001B[0m/media/abawi/e38fddf9-a92e-4c73-b905-995771f8fc3a/datasets/segmentation/yolo_style_fourclass/valid/images/l (217).jpg: corrupt JPEG restored and saved\n",
      "\u001B[34m\u001B[1mval: \u001B[0m/media/abawi/e38fddf9-a92e-4c73-b905-995771f8fc3a/datasets/segmentation/yolo_style_fourclass/valid/images/l (219).jpg: corrupt JPEG restored and saved\n",
      "\u001B[34m\u001B[1mval: \u001B[0m/media/abawi/e38fddf9-a92e-4c73-b905-995771f8fc3a/datasets/segmentation/yolo_style_fourclass/valid/images/l (240).jpg: corrupt JPEG restored and saved\n",
      "\u001B[34m\u001B[1mval: \u001B[0m/media/abawi/e38fddf9-a92e-4c73-b905-995771f8fc3a/datasets/segmentation/yolo_style_fourclass/valid/images/l (267).jpg: corrupt JPEG restored and saved\n",
      "\u001B[34m\u001B[1mval: \u001B[0m/media/abawi/e38fddf9-a92e-4c73-b905-995771f8fc3a/datasets/segmentation/yolo_style_fourclass/valid/images/l (268).jpg: corrupt JPEG restored and saved\n",
      "\u001B[34m\u001B[1mval: \u001B[0m/media/abawi/e38fddf9-a92e-4c73-b905-995771f8fc3a/datasets/segmentation/yolo_style_fourclass/valid/images/l (280).jpg: corrupt JPEG restored and saved\n",
      "\u001B[34m\u001B[1mval: \u001B[0m/media/abawi/e38fddf9-a92e-4c73-b905-995771f8fc3a/datasets/segmentation/yolo_style_fourclass/valid/images/l (281).jpg: corrupt JPEG restored and saved\n",
      "\u001B[34m\u001B[1mval: \u001B[0m/media/abawi/e38fddf9-a92e-4c73-b905-995771f8fc3a/datasets/segmentation/yolo_style_fourclass/valid/images/l (284).jpg: corrupt JPEG restored and saved\n",
      "\u001B[34m\u001B[1mval: \u001B[0m/media/abawi/e38fddf9-a92e-4c73-b905-995771f8fc3a/datasets/segmentation/yolo_style_fourclass/valid/images/l (297).jpg: corrupt JPEG restored and saved\n",
      "\u001B[34m\u001B[1mval: \u001B[0m/media/abawi/e38fddf9-a92e-4c73-b905-995771f8fc3a/datasets/segmentation/yolo_style_fourclass/valid/images/l (3).jpg: corrupt JPEG restored and saved\n",
      "\u001B[34m\u001B[1mval: \u001B[0m/media/abawi/e38fddf9-a92e-4c73-b905-995771f8fc3a/datasets/segmentation/yolo_style_fourclass/valid/images/l (300).jpg: corrupt JPEG restored and saved\n",
      "\u001B[34m\u001B[1mval: \u001B[0m/media/abawi/e38fddf9-a92e-4c73-b905-995771f8fc3a/datasets/segmentation/yolo_style_fourclass/valid/images/l (311).jpg: corrupt JPEG restored and saved\n",
      "\u001B[34m\u001B[1mval: \u001B[0m/media/abawi/e38fddf9-a92e-4c73-b905-995771f8fc3a/datasets/segmentation/yolo_style_fourclass/valid/images/l (312).jpg: corrupt JPEG restored and saved\n",
      "\u001B[34m\u001B[1mval: \u001B[0m/media/abawi/e38fddf9-a92e-4c73-b905-995771f8fc3a/datasets/segmentation/yolo_style_fourclass/valid/images/l (315).jpg: corrupt JPEG restored and saved\n",
      "\u001B[34m\u001B[1mval: \u001B[0m/media/abawi/e38fddf9-a92e-4c73-b905-995771f8fc3a/datasets/segmentation/yolo_style_fourclass/valid/images/l (32).jpg: corrupt JPEG restored and saved\n",
      "\u001B[34m\u001B[1mval: \u001B[0m/media/abawi/e38fddf9-a92e-4c73-b905-995771f8fc3a/datasets/segmentation/yolo_style_fourclass/valid/images/l (333).jpg: corrupt JPEG restored and saved\n",
      "\u001B[34m\u001B[1mval: \u001B[0m/media/abawi/e38fddf9-a92e-4c73-b905-995771f8fc3a/datasets/segmentation/yolo_style_fourclass/valid/images/l (341).jpg: corrupt JPEG restored and saved\n",
      "\u001B[34m\u001B[1mval: \u001B[0m/media/abawi/e38fddf9-a92e-4c73-b905-995771f8fc3a/datasets/segmentation/yolo_style_fourclass/valid/images/l (345).jpg: corrupt JPEG restored and saved\n",
      "\u001B[34m\u001B[1mval: \u001B[0m/media/abawi/e38fddf9-a92e-4c73-b905-995771f8fc3a/datasets/segmentation/yolo_style_fourclass/valid/images/l (45).jpg: corrupt JPEG restored and saved\n",
      "\u001B[34m\u001B[1mval: \u001B[0m/media/abawi/e38fddf9-a92e-4c73-b905-995771f8fc3a/datasets/segmentation/yolo_style_fourclass/valid/images/l (5).jpg: corrupt JPEG restored and saved\n",
      "\u001B[34m\u001B[1mval: \u001B[0m/media/abawi/e38fddf9-a92e-4c73-b905-995771f8fc3a/datasets/segmentation/yolo_style_fourclass/valid/images/l (8).jpg: corrupt JPEG restored and saved\n",
      "\u001B[34m\u001B[1mval: \u001B[0m/media/abawi/e38fddf9-a92e-4c73-b905-995771f8fc3a/datasets/segmentation/yolo_style_fourclass/valid/images/w (11).jpg: corrupt JPEG restored and saved\n",
      "\u001B[34m\u001B[1mval: \u001B[0m/media/abawi/e38fddf9-a92e-4c73-b905-995771f8fc3a/datasets/segmentation/yolo_style_fourclass/valid/images/w (120).jpg: corrupt JPEG restored and saved\n",
      "\u001B[34m\u001B[1mval: \u001B[0m/media/abawi/e38fddf9-a92e-4c73-b905-995771f8fc3a/datasets/segmentation/yolo_style_fourclass/valid/images/w (123).jpg: corrupt JPEG restored and saved\n",
      "\u001B[34m\u001B[1mval: \u001B[0m/media/abawi/e38fddf9-a92e-4c73-b905-995771f8fc3a/datasets/segmentation/yolo_style_fourclass/valid/images/w (13).jpg: corrupt JPEG restored and saved\n",
      "\u001B[34m\u001B[1mval: \u001B[0m/media/abawi/e38fddf9-a92e-4c73-b905-995771f8fc3a/datasets/segmentation/yolo_style_fourclass/valid/images/w (134).jpg: corrupt JPEG restored and saved\n",
      "\u001B[34m\u001B[1mval: \u001B[0m/media/abawi/e38fddf9-a92e-4c73-b905-995771f8fc3a/datasets/segmentation/yolo_style_fourclass/valid/images/w (135).jpg: corrupt JPEG restored and saved\n",
      "\u001B[34m\u001B[1mval: \u001B[0m/media/abawi/e38fddf9-a92e-4c73-b905-995771f8fc3a/datasets/segmentation/yolo_style_fourclass/valid/images/w (140).jpg: corrupt JPEG restored and saved\n",
      "\u001B[34m\u001B[1mval: \u001B[0m/media/abawi/e38fddf9-a92e-4c73-b905-995771f8fc3a/datasets/segmentation/yolo_style_fourclass/valid/images/w (17).jpg: corrupt JPEG restored and saved\n",
      "\u001B[34m\u001B[1mval: \u001B[0m/media/abawi/e38fddf9-a92e-4c73-b905-995771f8fc3a/datasets/segmentation/yolo_style_fourclass/valid/images/w (177).jpg: corrupt JPEG restored and saved\n",
      "\u001B[34m\u001B[1mval: \u001B[0m/media/abawi/e38fddf9-a92e-4c73-b905-995771f8fc3a/datasets/segmentation/yolo_style_fourclass/valid/images/w (207).jpg: corrupt JPEG restored and saved\n",
      "\u001B[34m\u001B[1mval: \u001B[0m/media/abawi/e38fddf9-a92e-4c73-b905-995771f8fc3a/datasets/segmentation/yolo_style_fourclass/valid/images/w (22).jpg: corrupt JPEG restored and saved\n",
      "\u001B[34m\u001B[1mval: \u001B[0m/media/abawi/e38fddf9-a92e-4c73-b905-995771f8fc3a/datasets/segmentation/yolo_style_fourclass/valid/images/w (232).jpg: corrupt JPEG restored and saved\n",
      "\u001B[34m\u001B[1mval: \u001B[0m/media/abawi/e38fddf9-a92e-4c73-b905-995771f8fc3a/datasets/segmentation/yolo_style_fourclass/valid/images/w (241).jpg: corrupt JPEG restored and saved\n",
      "\u001B[34m\u001B[1mval: \u001B[0m/media/abawi/e38fddf9-a92e-4c73-b905-995771f8fc3a/datasets/segmentation/yolo_style_fourclass/valid/images/w (242).jpg: corrupt JPEG restored and saved\n",
      "\u001B[34m\u001B[1mval: \u001B[0m/media/abawi/e38fddf9-a92e-4c73-b905-995771f8fc3a/datasets/segmentation/yolo_style_fourclass/valid/images/w (254).jpg: corrupt JPEG restored and saved\n",
      "\u001B[34m\u001B[1mval: \u001B[0m/media/abawi/e38fddf9-a92e-4c73-b905-995771f8fc3a/datasets/segmentation/yolo_style_fourclass/valid/images/w (280).jpg: corrupt JPEG restored and saved\n",
      "\u001B[34m\u001B[1mval: \u001B[0m/media/abawi/e38fddf9-a92e-4c73-b905-995771f8fc3a/datasets/segmentation/yolo_style_fourclass/valid/images/w (283).jpg: corrupt JPEG restored and saved\n",
      "\u001B[34m\u001B[1mval: \u001B[0m/media/abawi/e38fddf9-a92e-4c73-b905-995771f8fc3a/datasets/segmentation/yolo_style_fourclass/valid/images/w (290).jpg: corrupt JPEG restored and saved\n",
      "\u001B[34m\u001B[1mval: \u001B[0m/media/abawi/e38fddf9-a92e-4c73-b905-995771f8fc3a/datasets/segmentation/yolo_style_fourclass/valid/images/w (295).jpg: corrupt JPEG restored and saved\n",
      "\u001B[34m\u001B[1mval: \u001B[0m/media/abawi/e38fddf9-a92e-4c73-b905-995771f8fc3a/datasets/segmentation/yolo_style_fourclass/valid/images/w (309).jpg: corrupt JPEG restored and saved\n",
      "\u001B[34m\u001B[1mval: \u001B[0m/media/abawi/e38fddf9-a92e-4c73-b905-995771f8fc3a/datasets/segmentation/yolo_style_fourclass/valid/images/w (31).jpg: corrupt JPEG restored and saved\n",
      "\u001B[34m\u001B[1mval: \u001B[0m/media/abawi/e38fddf9-a92e-4c73-b905-995771f8fc3a/datasets/segmentation/yolo_style_fourclass/valid/images/w (40).jpg: corrupt JPEG restored and saved\n",
      "\u001B[34m\u001B[1mval: \u001B[0m/media/abawi/e38fddf9-a92e-4c73-b905-995771f8fc3a/datasets/segmentation/yolo_style_fourclass/valid/images/w (47).jpg: corrupt JPEG restored and saved\n",
      "\u001B[34m\u001B[1mval: \u001B[0m/media/abawi/e38fddf9-a92e-4c73-b905-995771f8fc3a/datasets/segmentation/yolo_style_fourclass/valid/images/w (49).jpg: corrupt JPEG restored and saved\n",
      "\u001B[34m\u001B[1mval: \u001B[0m/media/abawi/e38fddf9-a92e-4c73-b905-995771f8fc3a/datasets/segmentation/yolo_style_fourclass/valid/images/w (52).jpg: corrupt JPEG restored and saved\n",
      "\u001B[34m\u001B[1mval: \u001B[0m/media/abawi/e38fddf9-a92e-4c73-b905-995771f8fc3a/datasets/segmentation/yolo_style_fourclass/valid/images/w (56).jpg: corrupt JPEG restored and saved\n",
      "\u001B[34m\u001B[1mval: \u001B[0m/media/abawi/e38fddf9-a92e-4c73-b905-995771f8fc3a/datasets/segmentation/yolo_style_fourclass/valid/images/w (58).jpg: corrupt JPEG restored and saved\n",
      "\u001B[34m\u001B[1mval: \u001B[0m/media/abawi/e38fddf9-a92e-4c73-b905-995771f8fc3a/datasets/segmentation/yolo_style_fourclass/valid/images/w (6).jpg: corrupt JPEG restored and saved\n",
      "\u001B[34m\u001B[1mval: \u001B[0m/media/abawi/e38fddf9-a92e-4c73-b905-995771f8fc3a/datasets/segmentation/yolo_style_fourclass/valid/images/w (72).jpg: corrupt JPEG restored and saved\n",
      "\u001B[34m\u001B[1mval: \u001B[0m/media/abawi/e38fddf9-a92e-4c73-b905-995771f8fc3a/datasets/segmentation/yolo_style_fourclass/valid/images/w (73).jpg: corrupt JPEG restored and saved\n",
      "\u001B[34m\u001B[1mval: \u001B[0m/media/abawi/e38fddf9-a92e-4c73-b905-995771f8fc3a/datasets/segmentation/yolo_style_fourclass/valid/images/w (81).jpg: corrupt JPEG restored and saved\n",
      "\u001B[34m\u001B[1mval: \u001B[0m/media/abawi/e38fddf9-a92e-4c73-b905-995771f8fc3a/datasets/segmentation/yolo_style_fourclass/valid/images/w (84).jpg: corrupt JPEG restored and saved\n"
     ]
    },
    {
     "name": "stdout",
     "output_type": "stream",
     "text": [
      "\u001B[34m\u001B[1mval: \u001B[0mNew cache created: /media/abawi/e38fddf9-a92e-4c73-b905-995771f8fc3a/datasets/segmentation/yolo_style_fourclass/valid/labels.cache\n"
     ]
    },
    {
     "name": "stderr",
     "output_type": "stream",
     "text": [
      "\n"
     ]
    },
    {
     "name": "stdout",
     "output_type": "stream",
     "text": [
      "Plotting labels to runs/segment/train4/labels.jpg... \n",
      "\u001B[34m\u001B[1moptimizer:\u001B[0m 'optimizer=auto' found, ignoring 'lr0=0.001' and 'momentum=0.937' and determining best 'optimizer', 'lr0' and 'momentum' automatically... \n",
      "\u001B[34m\u001B[1moptimizer:\u001B[0m SGD(lr=0.01, momentum=0.9) with parameter groups 163 weight(decay=0.0), 174 weight(decay=0.0005), 173 bias(decay=0.0)\n",
      "Image sizes 640 train, 640 val\n",
      "Using 0 dataloader workers\n",
      "Logging results to \u001B[1mruns/segment/train4\u001B[0m\n",
      "Starting training for 100 epochs...\n",
      "\n",
      "      Epoch    GPU_mem   box_loss   seg_loss   cls_loss   dfl_loss  Instances       Size\n"
     ]
    },
    {
     "name": "stderr",
     "output_type": "stream",
     "text": [
      "      1/100       5.7G     0.5321     0.8654      1.262     0.9816        110        640: 100%|██████████| 842/842 [19:00<00:00,  1.35s/it]\n",
      "                 Class     Images  Instances      Box(P          R      mAP50  mAP50-95)     Mask(P          R      mAP50  mAP50-95): 100%|██████████| 63/63 [02:05<00:00,  1.99s/it]\n"
     ]
    },
    {
     "name": "stdout",
     "output_type": "stream",
     "text": [
      "                   all        999      10386      0.669      0.669      0.713      0.635      0.667      0.671      0.712      0.624\n",
      "\n",
      "      Epoch    GPU_mem   box_loss   seg_loss   cls_loss   dfl_loss  Instances       Size\n"
     ]
    },
    {
     "name": "stderr",
     "output_type": "stream",
     "text": [
      "      2/100      5.86G     0.5429     0.7081          1     0.9502        102        640: 100%|██████████| 842/842 [14:50<00:00,  1.06s/it]\n",
      "                 Class     Images  Instances      Box(P          R      mAP50  mAP50-95)     Mask(P          R      mAP50  mAP50-95): 100%|██████████| 63/63 [01:38<00:00,  1.57s/it]\n"
     ]
    },
    {
     "name": "stdout",
     "output_type": "stream",
     "text": [
      "                   all        999      10386      0.665      0.724      0.747      0.658      0.667      0.724      0.748      0.645\n",
      "\n",
      "      Epoch    GPU_mem   box_loss   seg_loss   cls_loss   dfl_loss  Instances       Size\n"
     ]
    },
    {
     "name": "stderr",
     "output_type": "stream",
     "text": [
      "      3/100      5.97G     0.5788     0.7213     0.9959     0.9658        142        640: 100%|██████████| 842/842 [14:26<00:00,  1.03s/it]\n",
      "                 Class     Images  Instances      Box(P          R      mAP50  mAP50-95)     Mask(P          R      mAP50  mAP50-95): 100%|██████████| 63/63 [01:43<00:00,  1.64s/it]\n"
     ]
    },
    {
     "name": "stdout",
     "output_type": "stream",
     "text": [
      "                   all        999      10386      0.687      0.698      0.739      0.647      0.686      0.698      0.738      0.631\n",
      "\n",
      "      Epoch    GPU_mem   box_loss   seg_loss   cls_loss   dfl_loss  Instances       Size\n"
     ]
    },
    {
     "name": "stderr",
     "output_type": "stream",
     "text": [
      "      4/100      3.91G     0.5743     0.7288     0.9769     0.9648        121        640: 100%|██████████| 842/842 [14:10<00:00,  1.01s/it]\n",
      "                 Class     Images  Instances      Box(P          R      mAP50  mAP50-95)     Mask(P          R      mAP50  mAP50-95): 100%|██████████| 63/63 [01:34<00:00,  1.50s/it]"
     ]
    },
    {
     "name": "stdout",
     "output_type": "stream",
     "text": [
      "                   all        999      10386       0.73      0.726      0.778      0.695      0.731      0.726      0.779      0.677\n"
     ]
    },
    {
     "name": "stderr",
     "output_type": "stream",
     "text": [
      "\n"
     ]
    },
    {
     "name": "stdout",
     "output_type": "stream",
     "text": [
      "\n",
      "      Epoch    GPU_mem   box_loss   seg_loss   cls_loss   dfl_loss  Instances       Size\n"
     ]
    },
    {
     "name": "stderr",
     "output_type": "stream",
     "text": [
      "      5/100      4.75G     0.5373     0.6842     0.9297     0.9507         78        640: 100%|██████████| 842/842 [14:08<00:00,  1.01s/it]\n",
      "                 Class     Images  Instances      Box(P          R      mAP50  mAP50-95)     Mask(P          R      mAP50  mAP50-95): 100%|██████████| 63/63 [01:32<00:00,  1.47s/it]"
     ]
    },
    {
     "name": "stdout",
     "output_type": "stream",
     "text": [
      "                   all        999      10386      0.703      0.726      0.772      0.686      0.702      0.728      0.773      0.675\n"
     ]
    },
    {
     "name": "stderr",
     "output_type": "stream",
     "text": [
      "\n"
     ]
    },
    {
     "name": "stdout",
     "output_type": "stream",
     "text": [
      "\n",
      "      Epoch    GPU_mem   box_loss   seg_loss   cls_loss   dfl_loss  Instances       Size\n"
     ]
    },
    {
     "name": "stderr",
     "output_type": "stream",
     "text": [
      "      6/100      4.75G     0.5156     0.6538     0.8969     0.9386        154        640: 100%|██████████| 842/842 [14:51<00:00,  1.06s/it]\n",
      "                 Class     Images  Instances      Box(P          R      mAP50  mAP50-95)     Mask(P          R      mAP50  mAP50-95): 100%|██████████| 63/63 [02:38<00:00,  2.52s/it]"
     ]
    },
    {
     "name": "stdout",
     "output_type": "stream",
     "text": [
      "                   all        999      10386      0.742      0.755      0.804      0.722      0.739      0.757      0.803      0.706\n"
     ]
    },
    {
     "name": "stderr",
     "output_type": "stream",
     "text": [
      "\n"
     ]
    },
    {
     "name": "stdout",
     "output_type": "stream",
     "text": [
      "\n",
      "      Epoch    GPU_mem   box_loss   seg_loss   cls_loss   dfl_loss  Instances       Size\n"
     ]
    },
    {
     "name": "stderr",
     "output_type": "stream",
     "text": [
      "      7/100      4.75G     0.4948     0.6347     0.8647     0.9301         93        640: 100%|██████████| 842/842 [13:29<00:00,  1.04it/s]\n",
      "                 Class     Images  Instances      Box(P          R      mAP50  mAP50-95)     Mask(P          R      mAP50  mAP50-95): 100%|██████████| 63/63 [01:31<00:00,  1.45s/it]"
     ]
    },
    {
     "name": "stdout",
     "output_type": "stream",
     "text": [
      "                   all        999      10386      0.741      0.763       0.81       0.73      0.742      0.762      0.809      0.712\n"
     ]
    },
    {
     "name": "stderr",
     "output_type": "stream",
     "text": [
      "\n"
     ]
    },
    {
     "name": "stdout",
     "output_type": "stream",
     "text": [
      "\n",
      "      Epoch    GPU_mem   box_loss   seg_loss   cls_loss   dfl_loss  Instances       Size\n"
     ]
    },
    {
     "name": "stderr",
     "output_type": "stream",
     "text": [
      "      8/100      4.75G      0.484     0.6241      0.843      0.925        104        640: 100%|██████████| 842/842 [13:26<00:00,  1.04it/s]\n",
      "                 Class     Images  Instances      Box(P          R      mAP50  mAP50-95)     Mask(P          R      mAP50  mAP50-95): 100%|██████████| 63/63 [01:32<00:00,  1.47s/it]"
     ]
    },
    {
     "name": "stdout",
     "output_type": "stream",
     "text": [
      "                   all        999      10386      0.731      0.767      0.806      0.729      0.734      0.763      0.805      0.712\n"
     ]
    },
    {
     "name": "stderr",
     "output_type": "stream",
     "text": [
      "\n"
     ]
    },
    {
     "name": "stdout",
     "output_type": "stream",
     "text": [
      "\n",
      "      Epoch    GPU_mem   box_loss   seg_loss   cls_loss   dfl_loss  Instances       Size\n"
     ]
    },
    {
     "name": "stderr",
     "output_type": "stream",
     "text": [
      "      9/100      4.75G     0.4742     0.6125     0.8354     0.9211        111        640: 100%|██████████| 842/842 [13:27<00:00,  1.04it/s]\n",
      "                 Class     Images  Instances      Box(P          R      mAP50  mAP50-95)     Mask(P          R      mAP50  mAP50-95): 100%|██████████| 63/63 [01:31<00:00,  1.45s/it]"
     ]
    },
    {
     "name": "stdout",
     "output_type": "stream",
     "text": [
      "                   all        999      10386      0.754      0.767      0.819      0.746      0.756      0.767       0.82      0.732\n"
     ]
    },
    {
     "name": "stderr",
     "output_type": "stream",
     "text": [
      "\n"
     ]
    },
    {
     "name": "stdout",
     "output_type": "stream",
     "text": [
      "\n",
      "      Epoch    GPU_mem   box_loss   seg_loss   cls_loss   dfl_loss  Instances       Size\n"
     ]
    },
    {
     "name": "stderr",
     "output_type": "stream",
     "text": [
      "     10/100      4.75G     0.4667     0.5982     0.8135     0.9159         89        640: 100%|██████████| 842/842 [13:34<00:00,  1.03it/s]\n",
      "                 Class     Images  Instances      Box(P          R      mAP50  mAP50-95)     Mask(P          R      mAP50  mAP50-95): 100%|██████████| 63/63 [01:30<00:00,  1.44s/it]"
     ]
    },
    {
     "name": "stdout",
     "output_type": "stream",
     "text": [
      "                   all        999      10386      0.748      0.768      0.822      0.748       0.75      0.767      0.822      0.731\n"
     ]
    },
    {
     "name": "stderr",
     "output_type": "stream",
     "text": [
      "\n"
     ]
    },
    {
     "name": "stdout",
     "output_type": "stream",
     "text": [
      "\n",
      "      Epoch    GPU_mem   box_loss   seg_loss   cls_loss   dfl_loss  Instances       Size\n"
     ]
    },
    {
     "name": "stderr",
     "output_type": "stream",
     "text": [
      "     11/100      4.79G     0.4575     0.5946     0.8028     0.9145        170        640: 100%|██████████| 842/842 [13:22<00:00,  1.05it/s]\n",
      "                 Class     Images  Instances      Box(P          R      mAP50  mAP50-95)     Mask(P          R      mAP50  mAP50-95): 100%|██████████| 63/63 [01:30<00:00,  1.44s/it]"
     ]
    },
    {
     "name": "stdout",
     "output_type": "stream",
     "text": [
      "                   all        999      10386      0.737      0.781      0.824      0.751      0.738      0.782      0.825      0.731\n"
     ]
    },
    {
     "name": "stderr",
     "output_type": "stream",
     "text": [
      "\n"
     ]
    },
    {
     "name": "stdout",
     "output_type": "stream",
     "text": [
      "\n",
      "      Epoch    GPU_mem   box_loss   seg_loss   cls_loss   dfl_loss  Instances       Size\n"
     ]
    },
    {
     "name": "stderr",
     "output_type": "stream",
     "text": [
      "     12/100      4.83G     0.4499       0.58     0.7863     0.9088         95        640: 100%|██████████| 842/842 [13:28<00:00,  1.04it/s]\n",
      "                 Class     Images  Instances      Box(P          R      mAP50  mAP50-95)     Mask(P          R      mAP50  mAP50-95): 100%|██████████| 63/63 [01:30<00:00,  1.44s/it]"
     ]
    },
    {
     "name": "stdout",
     "output_type": "stream",
     "text": [
      "                   all        999      10386      0.757      0.774      0.829      0.758      0.752       0.78      0.828      0.738\n"
     ]
    },
    {
     "name": "stderr",
     "output_type": "stream",
     "text": [
      "\n"
     ]
    },
    {
     "name": "stdout",
     "output_type": "stream",
     "text": [
      "\n",
      "      Epoch    GPU_mem   box_loss   seg_loss   cls_loss   dfl_loss  Instances       Size\n"
     ]
    },
    {
     "name": "stderr",
     "output_type": "stream",
     "text": [
      "     13/100      4.87G     0.4443     0.5677     0.7869     0.9066        147        640: 100%|██████████| 842/842 [13:21<00:00,  1.05it/s]\n",
      "                 Class     Images  Instances      Box(P          R      mAP50  mAP50-95)     Mask(P          R      mAP50  mAP50-95): 100%|██████████| 63/63 [01:33<00:00,  1.48s/it]"
     ]
    },
    {
     "name": "stdout",
     "output_type": "stream",
     "text": [
      "                   all        999      10386      0.766      0.779      0.834      0.763       0.77      0.777      0.834      0.749\n"
     ]
    },
    {
     "name": "stderr",
     "output_type": "stream",
     "text": [
      "\n"
     ]
    },
    {
     "name": "stdout",
     "output_type": "stream",
     "text": [
      "\n",
      "      Epoch    GPU_mem   box_loss   seg_loss   cls_loss   dfl_loss  Instances       Size\n"
     ]
    },
    {
     "name": "stderr",
     "output_type": "stream",
     "text": [
      "     14/100      4.92G       0.44     0.5661     0.7707     0.9044        146        640: 100%|██████████| 842/842 [13:32<00:00,  1.04it/s]\n",
      "                 Class     Images  Instances      Box(P          R      mAP50  mAP50-95)     Mask(P          R      mAP50  mAP50-95): 100%|██████████| 63/63 [01:31<00:00,  1.45s/it]"
     ]
    },
    {
     "name": "stdout",
     "output_type": "stream",
     "text": [
      "                   all        999      10386      0.769      0.778      0.832      0.763      0.772      0.777      0.832      0.741\n"
     ]
    },
    {
     "name": "stderr",
     "output_type": "stream",
     "text": [
      "\n"
     ]
    },
    {
     "name": "stdout",
     "output_type": "stream",
     "text": [
      "\n",
      "      Epoch    GPU_mem   box_loss   seg_loss   cls_loss   dfl_loss  Instances       Size\n"
     ]
    },
    {
     "name": "stderr",
     "output_type": "stream",
     "text": [
      "     15/100      4.96G     0.4345     0.5632     0.7645     0.9033        133        640: 100%|██████████| 842/842 [13:30<00:00,  1.04it/s]\n",
      "                 Class     Images  Instances      Box(P          R      mAP50  mAP50-95)     Mask(P          R      mAP50  mAP50-95): 100%|██████████| 63/63 [01:37<00:00,  1.54s/it]"
     ]
    },
    {
     "name": "stdout",
     "output_type": "stream",
     "text": [
      "                   all        999      10386      0.767      0.773       0.83       0.76      0.772      0.768      0.831      0.745\n"
     ]
    },
    {
     "name": "stderr",
     "output_type": "stream",
     "text": [
      "\n"
     ]
    },
    {
     "name": "stdout",
     "output_type": "stream",
     "text": [
      "\n",
      "      Epoch    GPU_mem   box_loss   seg_loss   cls_loss   dfl_loss  Instances       Size\n"
     ]
    },
    {
     "name": "stderr",
     "output_type": "stream",
     "text": [
      "     16/100         5G     0.4331     0.5541     0.7575     0.9002        104        640: 100%|██████████| 842/842 [13:40<00:00,  1.03it/s]\n",
      "                 Class     Images  Instances      Box(P          R      mAP50  mAP50-95)     Mask(P          R      mAP50  mAP50-95): 100%|██████████| 63/63 [01:30<00:00,  1.44s/it]"
     ]
    },
    {
     "name": "stdout",
     "output_type": "stream",
     "text": [
      "                   all        999      10386      0.766       0.79      0.836      0.768      0.767      0.789      0.836      0.746\n"
     ]
    },
    {
     "name": "stderr",
     "output_type": "stream",
     "text": [
      "\n"
     ]
    },
    {
     "name": "stdout",
     "output_type": "stream",
     "text": [
      "\n",
      "      Epoch    GPU_mem   box_loss   seg_loss   cls_loss   dfl_loss  Instances       Size\n"
     ]
    },
    {
     "name": "stderr",
     "output_type": "stream",
     "text": [
      "     17/100      5.05G     0.4251     0.5482     0.7435      0.898        131        640: 100%|██████████| 842/842 [13:27<00:00,  1.04it/s]\n",
      "                 Class     Images  Instances      Box(P          R      mAP50  mAP50-95)     Mask(P          R      mAP50  mAP50-95): 100%|██████████| 63/63 [01:32<00:00,  1.47s/it]"
     ]
    },
    {
     "name": "stdout",
     "output_type": "stream",
     "text": [
      "                   all        999      10386      0.761      0.778      0.834      0.767      0.763      0.778      0.835      0.748\n"
     ]
    },
    {
     "name": "stderr",
     "output_type": "stream",
     "text": [
      "\n"
     ]
    },
    {
     "name": "stdout",
     "output_type": "stream",
     "text": [
      "\n",
      "      Epoch    GPU_mem   box_loss   seg_loss   cls_loss   dfl_loss  Instances       Size\n"
     ]
    },
    {
     "name": "stderr",
     "output_type": "stream",
     "text": [
      "     18/100      5.09G     0.4267     0.5455     0.7432     0.8979        164        640: 100%|██████████| 842/842 [13:23<00:00,  1.05it/s]\n",
      "                 Class     Images  Instances      Box(P          R      mAP50  mAP50-95)     Mask(P          R      mAP50  mAP50-95): 100%|██████████| 63/63 [01:31<00:00,  1.45s/it]"
     ]
    },
    {
     "name": "stdout",
     "output_type": "stream",
     "text": [
      "                   all        999      10386      0.768      0.792      0.835      0.769      0.769      0.792      0.835      0.748\n"
     ]
    },
    {
     "name": "stderr",
     "output_type": "stream",
     "text": [
      "\n"
     ]
    },
    {
     "name": "stdout",
     "output_type": "stream",
     "text": [
      "\n",
      "      Epoch    GPU_mem   box_loss   seg_loss   cls_loss   dfl_loss  Instances       Size\n"
     ]
    },
    {
     "name": "stderr",
     "output_type": "stream",
     "text": [
      "     19/100      5.13G     0.4203     0.5373     0.7342     0.8938        111        640: 100%|██████████| 842/842 [13:21<00:00,  1.05it/s]\n",
      "                 Class     Images  Instances      Box(P          R      mAP50  mAP50-95)     Mask(P          R      mAP50  mAP50-95): 100%|██████████| 63/63 [01:31<00:00,  1.45s/it]"
     ]
    },
    {
     "name": "stdout",
     "output_type": "stream",
     "text": [
      "                   all        999      10386      0.767       0.78      0.839      0.773      0.762      0.787      0.839      0.753\n"
     ]
    },
    {
     "name": "stderr",
     "output_type": "stream",
     "text": [
      "\n"
     ]
    },
    {
     "name": "stdout",
     "output_type": "stream",
     "text": [
      "\n",
      "      Epoch    GPU_mem   box_loss   seg_loss   cls_loss   dfl_loss  Instances       Size\n"
     ]
    },
    {
     "name": "stderr",
     "output_type": "stream",
     "text": [
      "     20/100      5.18G     0.4176     0.5336     0.7292     0.8922        209        640: 100%|██████████| 842/842 [13:16<00:00,  1.06it/s]\n",
      "                 Class     Images  Instances      Box(P          R      mAP50  mAP50-95)     Mask(P          R      mAP50  mAP50-95): 100%|██████████| 63/63 [01:38<00:00,  1.57s/it]"
     ]
    },
    {
     "name": "stdout",
     "output_type": "stream",
     "text": [
      "                   all        999      10386      0.757      0.793      0.841      0.774      0.757      0.793      0.841      0.755\n"
     ]
    },
    {
     "name": "stderr",
     "output_type": "stream",
     "text": [
      "\n"
     ]
    },
    {
     "name": "stdout",
     "output_type": "stream",
     "text": [
      "\n",
      "      Epoch    GPU_mem   box_loss   seg_loss   cls_loss   dfl_loss  Instances       Size\n"
     ]
    },
    {
     "name": "stderr",
     "output_type": "stream",
     "text": [
      "     21/100      5.36G     0.4152     0.5395     0.7211     0.8901        119        640: 100%|██████████| 842/842 [13:22<00:00,  1.05it/s]\n",
      "                 Class     Images  Instances      Box(P          R      mAP50  mAP50-95)     Mask(P          R      mAP50  mAP50-95): 100%|██████████| 63/63 [01:37<00:00,  1.54s/it]"
     ]
    },
    {
     "name": "stdout",
     "output_type": "stream",
     "text": [
      "                   all        999      10386      0.784      0.777      0.842      0.777      0.782      0.779      0.842      0.759\n"
     ]
    },
    {
     "name": "stderr",
     "output_type": "stream",
     "text": [
      "\n"
     ]
    },
    {
     "name": "stdout",
     "output_type": "stream",
     "text": [
      "\n",
      "      Epoch    GPU_mem   box_loss   seg_loss   cls_loss   dfl_loss  Instances       Size\n"
     ]
    },
    {
     "name": "stderr",
     "output_type": "stream",
     "text": [
      "     22/100       5.4G     0.4112     0.5344     0.7168     0.8896        110        640: 100%|██████████| 842/842 [13:12<00:00,  1.06it/s]\n",
      "                 Class     Images  Instances      Box(P          R      mAP50  mAP50-95)     Mask(P          R      mAP50  mAP50-95): 100%|██████████| 63/63 [01:29<00:00,  1.41s/it]"
     ]
    },
    {
     "name": "stdout",
     "output_type": "stream",
     "text": [
      "                   all        999      10386      0.782      0.784      0.837      0.773      0.779      0.787      0.838      0.755\n"
     ]
    },
    {
     "name": "stderr",
     "output_type": "stream",
     "text": [
      "\n"
     ]
    },
    {
     "name": "stdout",
     "output_type": "stream",
     "text": [
      "\n",
      "      Epoch    GPU_mem   box_loss   seg_loss   cls_loss   dfl_loss  Instances       Size\n"
     ]
    },
    {
     "name": "stderr",
     "output_type": "stream",
     "text": [
      "     23/100      5.44G     0.4088     0.5258     0.7131     0.8884        122        640: 100%|██████████| 842/842 [13:26<00:00,  1.04it/s]\n",
      "                 Class     Images  Instances      Box(P          R      mAP50  mAP50-95)     Mask(P          R      mAP50  mAP50-95): 100%|██████████| 63/63 [01:42<00:00,  1.63s/it]"
     ]
    },
    {
     "name": "stdout",
     "output_type": "stream",
     "text": [
      "                   all        999      10386      0.777      0.794      0.846      0.778      0.778      0.795      0.846      0.758\n"
     ]
    },
    {
     "name": "stderr",
     "output_type": "stream",
     "text": [
      "\n"
     ]
    },
    {
     "name": "stdout",
     "output_type": "stream",
     "text": [
      "\n",
      "      Epoch    GPU_mem   box_loss   seg_loss   cls_loss   dfl_loss  Instances       Size\n"
     ]
    },
    {
     "name": "stderr",
     "output_type": "stream",
     "text": [
      "     24/100      5.49G     0.4085     0.5312     0.7048     0.8871        120        640: 100%|██████████| 842/842 [13:23<00:00,  1.05it/s]\n",
      "                 Class     Images  Instances      Box(P          R      mAP50  mAP50-95)     Mask(P          R      mAP50  mAP50-95): 100%|██████████| 63/63 [01:31<00:00,  1.45s/it]"
     ]
    },
    {
     "name": "stdout",
     "output_type": "stream",
     "text": [
      "                   all        999      10386      0.781      0.794       0.85      0.784      0.781      0.795       0.85      0.766\n"
     ]
    },
    {
     "name": "stderr",
     "output_type": "stream",
     "text": [
      "\n"
     ]
    },
    {
     "name": "stdout",
     "output_type": "stream",
     "text": [
      "\n",
      "      Epoch    GPU_mem   box_loss   seg_loss   cls_loss   dfl_loss  Instances       Size\n"
     ]
    },
    {
     "name": "stderr",
     "output_type": "stream",
     "text": [
      "     25/100      5.53G      0.406     0.5221     0.7021     0.8858        140        640: 100%|██████████| 842/842 [13:27<00:00,  1.04it/s]\n",
      "                 Class     Images  Instances      Box(P          R      mAP50  mAP50-95)     Mask(P          R      mAP50  mAP50-95): 100%|██████████| 63/63 [01:31<00:00,  1.45s/it]"
     ]
    },
    {
     "name": "stdout",
     "output_type": "stream",
     "text": [
      "                   all        999      10386      0.784      0.782      0.845      0.779      0.788      0.778      0.845      0.759\n"
     ]
    },
    {
     "name": "stderr",
     "output_type": "stream",
     "text": [
      "\n"
     ]
    },
    {
     "name": "stdout",
     "output_type": "stream",
     "text": [
      "\n",
      "      Epoch    GPU_mem   box_loss   seg_loss   cls_loss   dfl_loss  Instances       Size\n"
     ]
    },
    {
     "name": "stderr",
     "output_type": "stream",
     "text": [
      "     26/100      5.73G     0.4043     0.5184      0.695      0.887        133        640: 100%|██████████| 842/842 [13:15<00:00,  1.06it/s]\n",
      "                 Class     Images  Instances      Box(P          R      mAP50  mAP50-95)     Mask(P          R      mAP50  mAP50-95): 100%|██████████| 63/63 [01:31<00:00,  1.46s/it]"
     ]
    },
    {
     "name": "stdout",
     "output_type": "stream",
     "text": [
      "                   all        999      10386       0.79      0.789      0.851      0.787      0.787      0.793      0.852      0.767\n"
     ]
    },
    {
     "name": "stderr",
     "output_type": "stream",
     "text": [
      "\n"
     ]
    },
    {
     "name": "stdout",
     "output_type": "stream",
     "text": [
      "\n",
      "      Epoch    GPU_mem   box_loss   seg_loss   cls_loss   dfl_loss  Instances       Size\n"
     ]
    },
    {
     "name": "stderr",
     "output_type": "stream",
     "text": [
      "     27/100      5.77G     0.4012     0.5125     0.6935     0.8839         82        640: 100%|██████████| 842/842 [13:20<00:00,  1.05it/s]\n",
      "                 Class     Images  Instances      Box(P          R      mAP50  mAP50-95)     Mask(P          R      mAP50  mAP50-95): 100%|██████████| 63/63 [01:39<00:00,  1.58s/it]"
     ]
    },
    {
     "name": "stdout",
     "output_type": "stream",
     "text": [
      "                   all        999      10386      0.786      0.781      0.847      0.783      0.786      0.782      0.847       0.76\n"
     ]
    },
    {
     "name": "stderr",
     "output_type": "stream",
     "text": [
      "\n"
     ]
    },
    {
     "name": "stdout",
     "output_type": "stream",
     "text": [
      "\n",
      "      Epoch    GPU_mem   box_loss   seg_loss   cls_loss   dfl_loss  Instances       Size\n"
     ]
    },
    {
     "name": "stderr",
     "output_type": "stream",
     "text": [
      "     28/100      5.86G     0.3997     0.5111     0.6844     0.8826        146        640: 100%|██████████| 842/842 [13:19<00:00,  1.05it/s]\n",
      "                 Class     Images  Instances      Box(P          R      mAP50  mAP50-95)     Mask(P          R      mAP50  mAP50-95): 100%|██████████| 63/63 [01:31<00:00,  1.46s/it]"
     ]
    },
    {
     "name": "stdout",
     "output_type": "stream",
     "text": [
      "                   all        999      10386      0.781      0.795      0.851      0.789      0.781      0.796      0.851      0.765\n"
     ]
    },
    {
     "name": "stderr",
     "output_type": "stream",
     "text": [
      "\n"
     ]
    },
    {
     "name": "stdout",
     "output_type": "stream",
     "text": [
      "\n",
      "      Epoch    GPU_mem   box_loss   seg_loss   cls_loss   dfl_loss  Instances       Size\n"
     ]
    },
    {
     "name": "stderr",
     "output_type": "stream",
     "text": [
      "     29/100      6.01G     0.4008     0.5128     0.6872     0.8853        100        640: 100%|██████████| 842/842 [13:14<00:00,  1.06it/s]\n",
      "                 Class     Images  Instances      Box(P          R      mAP50  mAP50-95)     Mask(P          R      mAP50  mAP50-95): 100%|██████████| 63/63 [01:42<00:00,  1.62s/it]"
     ]
    },
    {
     "name": "stdout",
     "output_type": "stream",
     "text": [
      "                   all        999      10386      0.773      0.788      0.839      0.777      0.772       0.79      0.839      0.759\n"
     ]
    },
    {
     "name": "stderr",
     "output_type": "stream",
     "text": [
      "\n"
     ]
    },
    {
     "name": "stdout",
     "output_type": "stream",
     "text": [
      "\n",
      "      Epoch    GPU_mem   box_loss   seg_loss   cls_loss   dfl_loss  Instances       Size\n"
     ]
    },
    {
     "name": "stderr",
     "output_type": "stream",
     "text": [
      "     30/100      4.42G     0.3985      0.516     0.6789     0.8837        129        640: 100%|██████████| 842/842 [13:26<00:00,  1.04it/s]\n",
      "                 Class     Images  Instances      Box(P          R      mAP50  mAP50-95)     Mask(P          R      mAP50  mAP50-95): 100%|██████████| 63/63 [01:31<00:00,  1.45s/it]"
     ]
    },
    {
     "name": "stdout",
     "output_type": "stream",
     "text": [
      "                   all        999      10386      0.771      0.805      0.848      0.784      0.771      0.805      0.848      0.761\n"
     ]
    },
    {
     "name": "stderr",
     "output_type": "stream",
     "text": [
      "\n"
     ]
    },
    {
     "name": "stdout",
     "output_type": "stream",
     "text": [
      "\n",
      "      Epoch    GPU_mem   box_loss   seg_loss   cls_loss   dfl_loss  Instances       Size\n"
     ]
    },
    {
     "name": "stderr",
     "output_type": "stream",
     "text": [
      "     31/100      5.27G     0.3951     0.5078     0.6754      0.881         90        640: 100%|██████████| 842/842 [13:33<00:00,  1.03it/s]\n",
      "                 Class     Images  Instances      Box(P          R      mAP50  mAP50-95)     Mask(P          R      mAP50  mAP50-95): 100%|██████████| 63/63 [01:49<00:00,  1.73s/it]"
     ]
    },
    {
     "name": "stdout",
     "output_type": "stream",
     "text": [
      "                   all        999      10386      0.779      0.789       0.85      0.784      0.778       0.79       0.85      0.764\n"
     ]
    },
    {
     "name": "stderr",
     "output_type": "stream",
     "text": [
      "\n"
     ]
    },
    {
     "name": "stdout",
     "output_type": "stream",
     "text": [
      "\n",
      "      Epoch    GPU_mem   box_loss   seg_loss   cls_loss   dfl_loss  Instances       Size\n"
     ]
    },
    {
     "name": "stderr",
     "output_type": "stream",
     "text": [
      "     32/100      5.27G     0.3932     0.5077     0.6714      0.881        126        640: 100%|██████████| 842/842 [13:16<00:00,  1.06it/s]\n",
      "                 Class     Images  Instances      Box(P          R      mAP50  mAP50-95)     Mask(P          R      mAP50  mAP50-95): 100%|██████████| 63/63 [01:30<00:00,  1.44s/it]"
     ]
    },
    {
     "name": "stdout",
     "output_type": "stream",
     "text": [
      "                   all        999      10386      0.775        0.8      0.851      0.785      0.772      0.802       0.85      0.765\n"
     ]
    },
    {
     "name": "stderr",
     "output_type": "stream",
     "text": [
      "\n"
     ]
    },
    {
     "name": "stdout",
     "output_type": "stream",
     "text": [
      "\n",
      "      Epoch    GPU_mem   box_loss   seg_loss   cls_loss   dfl_loss  Instances       Size\n"
     ]
    },
    {
     "name": "stderr",
     "output_type": "stream",
     "text": [
      "     33/100      5.27G     0.3912     0.5044     0.6648      0.879         98        640: 100%|██████████| 842/842 [13:20<00:00,  1.05it/s]\n",
      "                 Class     Images  Instances      Box(P          R      mAP50  mAP50-95)     Mask(P          R      mAP50  mAP50-95): 100%|██████████| 63/63 [01:31<00:00,  1.46s/it]"
     ]
    },
    {
     "name": "stdout",
     "output_type": "stream",
     "text": [
      "                   all        999      10386      0.785        0.8      0.851      0.788      0.786      0.798      0.851       0.77\n"
     ]
    },
    {
     "name": "stderr",
     "output_type": "stream",
     "text": [
      "\n"
     ]
    },
    {
     "name": "stdout",
     "output_type": "stream",
     "text": [
      "\n",
      "      Epoch    GPU_mem   box_loss   seg_loss   cls_loss   dfl_loss  Instances       Size\n"
     ]
    },
    {
     "name": "stderr",
     "output_type": "stream",
     "text": [
      "     34/100      5.27G     0.3893     0.4979     0.6632     0.8788        118        640: 100%|██████████| 842/842 [13:24<00:00,  1.05it/s]\n",
      "                 Class     Images  Instances      Box(P          R      mAP50  mAP50-95)     Mask(P          R      mAP50  mAP50-95): 100%|██████████| 63/63 [01:31<00:00,  1.45s/it]"
     ]
    },
    {
     "name": "stdout",
     "output_type": "stream",
     "text": [
      "                   all        999      10386      0.783      0.796      0.847      0.783      0.779      0.799      0.847      0.767\n"
     ]
    },
    {
     "name": "stderr",
     "output_type": "stream",
     "text": [
      "\n"
     ]
    },
    {
     "name": "stdout",
     "output_type": "stream",
     "text": [
      "\n",
      "      Epoch    GPU_mem   box_loss   seg_loss   cls_loss   dfl_loss  Instances       Size\n"
     ]
    },
    {
     "name": "stderr",
     "output_type": "stream",
     "text": [
      "     35/100      5.27G     0.3902     0.5048     0.6562     0.8762        155        640: 100%|██████████| 842/842 [13:41<00:00,  1.02it/s]\n",
      "                 Class     Images  Instances      Box(P          R      mAP50  mAP50-95)     Mask(P          R      mAP50  mAP50-95): 100%|██████████| 63/63 [01:31<00:00,  1.46s/it]"
     ]
    },
    {
     "name": "stdout",
     "output_type": "stream",
     "text": [
      "                   all        999      10386      0.783      0.797      0.854      0.789      0.784      0.796      0.853      0.768\n"
     ]
    },
    {
     "name": "stderr",
     "output_type": "stream",
     "text": [
      "\n"
     ]
    },
    {
     "name": "stdout",
     "output_type": "stream",
     "text": [
      "\n",
      "      Epoch    GPU_mem   box_loss   seg_loss   cls_loss   dfl_loss  Instances       Size\n"
     ]
    },
    {
     "name": "stderr",
     "output_type": "stream",
     "text": [
      "     36/100      5.27G      0.387     0.4925     0.6519     0.8778        154        640: 100%|██████████| 842/842 [13:20<00:00,  1.05it/s]\n",
      "                 Class     Images  Instances      Box(P          R      mAP50  mAP50-95)     Mask(P          R      mAP50  mAP50-95): 100%|██████████| 63/63 [01:30<00:00,  1.43s/it]"
     ]
    },
    {
     "name": "stdout",
     "output_type": "stream",
     "text": [
      "                   all        999      10386      0.779      0.787      0.845      0.783      0.778       0.79      0.845      0.764\n"
     ]
    },
    {
     "name": "stderr",
     "output_type": "stream",
     "text": [
      "\n"
     ]
    },
    {
     "name": "stdout",
     "output_type": "stream",
     "text": [
      "\n",
      "      Epoch    GPU_mem   box_loss   seg_loss   cls_loss   dfl_loss  Instances       Size\n"
     ]
    },
    {
     "name": "stderr",
     "output_type": "stream",
     "text": [
      "     37/100      5.27G     0.3846     0.4921     0.6519     0.8769        135        640: 100%|██████████| 842/842 [13:20<00:00,  1.05it/s]\n",
      "                 Class     Images  Instances      Box(P          R      mAP50  mAP50-95)     Mask(P          R      mAP50  mAP50-95): 100%|██████████| 63/63 [01:34<00:00,  1.50s/it]"
     ]
    },
    {
     "name": "stdout",
     "output_type": "stream",
     "text": [
      "                   all        999      10386       0.79      0.796      0.854      0.792      0.789      0.796      0.854      0.771\n"
     ]
    },
    {
     "name": "stderr",
     "output_type": "stream",
     "text": [
      "\n"
     ]
    },
    {
     "name": "stdout",
     "output_type": "stream",
     "text": [
      "\n",
      "      Epoch    GPU_mem   box_loss   seg_loss   cls_loss   dfl_loss  Instances       Size\n"
     ]
    },
    {
     "name": "stderr",
     "output_type": "stream",
     "text": [
      "     38/100      5.27G     0.3833      0.492     0.6472     0.8756        144        640: 100%|██████████| 842/842 [13:32<00:00,  1.04it/s]\n",
      "                 Class     Images  Instances      Box(P          R      mAP50  mAP50-95)     Mask(P          R      mAP50  mAP50-95): 100%|██████████| 63/63 [01:38<00:00,  1.56s/it]"
     ]
    },
    {
     "name": "stdout",
     "output_type": "stream",
     "text": [
      "                   all        999      10386      0.789      0.794      0.854      0.792      0.788      0.794      0.854      0.773\n"
     ]
    },
    {
     "name": "stderr",
     "output_type": "stream",
     "text": [
      "\n"
     ]
    },
    {
     "name": "stdout",
     "output_type": "stream",
     "text": [
      "\n",
      "      Epoch    GPU_mem   box_loss   seg_loss   cls_loss   dfl_loss  Instances       Size\n"
     ]
    },
    {
     "name": "stderr",
     "output_type": "stream",
     "text": [
      "     39/100      5.27G     0.3819     0.4875     0.6494     0.8738        146        640: 100%|██████████| 842/842 [13:16<00:00,  1.06it/s]\n",
      "                 Class     Images  Instances      Box(P          R      mAP50  mAP50-95)     Mask(P          R      mAP50  mAP50-95): 100%|██████████| 63/63 [01:31<00:00,  1.46s/it]"
     ]
    },
    {
     "name": "stdout",
     "output_type": "stream",
     "text": [
      "                   all        999      10386      0.774      0.805      0.853      0.791      0.772      0.805      0.853      0.768\n"
     ]
    },
    {
     "name": "stderr",
     "output_type": "stream",
     "text": [
      "\n"
     ]
    },
    {
     "name": "stdout",
     "output_type": "stream",
     "text": [
      "\n",
      "      Epoch    GPU_mem   box_loss   seg_loss   cls_loss   dfl_loss  Instances       Size\n"
     ]
    },
    {
     "name": "stderr",
     "output_type": "stream",
     "text": [
      "     40/100      5.27G     0.3841     0.4939     0.6462     0.8757        128        640: 100%|██████████| 842/842 [13:23<00:00,  1.05it/s]\n",
      "                 Class     Images  Instances      Box(P          R      mAP50  mAP50-95)     Mask(P          R      mAP50  mAP50-95): 100%|██████████| 63/63 [01:34<00:00,  1.49s/it]"
     ]
    },
    {
     "name": "stdout",
     "output_type": "stream",
     "text": [
      "                   all        999      10386      0.779      0.805      0.851      0.788      0.777      0.804       0.85       0.77\n"
     ]
    },
    {
     "name": "stderr",
     "output_type": "stream",
     "text": [
      "\n"
     ]
    },
    {
     "name": "stdout",
     "output_type": "stream",
     "text": [
      "\n",
      "      Epoch    GPU_mem   box_loss   seg_loss   cls_loss   dfl_loss  Instances       Size\n"
     ]
    },
    {
     "name": "stderr",
     "output_type": "stream",
     "text": [
      "     41/100      5.27G     0.3791     0.4878     0.6353     0.8748        155        640: 100%|██████████| 842/842 [15:23<00:00,  1.10s/it]\n",
      "                 Class     Images  Instances      Box(P          R      mAP50  mAP50-95)     Mask(P          R      mAP50  mAP50-95): 100%|██████████| 63/63 [02:32<00:00,  2.42s/it]"
     ]
    },
    {
     "name": "stdout",
     "output_type": "stream",
     "text": [
      "                   all        999      10386      0.779        0.8      0.849      0.786       0.78      0.801      0.849      0.765\n"
     ]
    },
    {
     "name": "stderr",
     "output_type": "stream",
     "text": [
      "\n"
     ]
    },
    {
     "name": "stdout",
     "output_type": "stream",
     "text": [
      "\n",
      "      Epoch    GPU_mem   box_loss   seg_loss   cls_loss   dfl_loss  Instances       Size\n"
     ]
    },
    {
     "name": "stderr",
     "output_type": "stream",
     "text": [
      "     42/100      5.27G       0.38     0.4917     0.6329     0.8722        132        640: 100%|██████████| 842/842 [13:57<00:00,  1.01it/s]\n",
      "                 Class     Images  Instances      Box(P          R      mAP50  mAP50-95)     Mask(P          R      mAP50  mAP50-95): 100%|██████████| 63/63 [01:40<00:00,  1.59s/it]"
     ]
    },
    {
     "name": "stdout",
     "output_type": "stream",
     "text": [
      "                   all        999      10386      0.782      0.803      0.852      0.789      0.783      0.804      0.853       0.77\n"
     ]
    },
    {
     "name": "stderr",
     "output_type": "stream",
     "text": [
      "\n"
     ]
    },
    {
     "name": "stdout",
     "output_type": "stream",
     "text": [
      "\n",
      "      Epoch    GPU_mem   box_loss   seg_loss   cls_loss   dfl_loss  Instances       Size\n"
     ]
    },
    {
     "name": "stderr",
     "output_type": "stream",
     "text": [
      "     43/100      5.27G     0.3766     0.4837     0.6317     0.8743        112        640: 100%|██████████| 842/842 [13:17<00:00,  1.06it/s]\n",
      "                 Class     Images  Instances      Box(P          R      mAP50  mAP50-95)     Mask(P          R      mAP50  mAP50-95): 100%|██████████| 63/63 [01:39<00:00,  1.59s/it]"
     ]
    },
    {
     "name": "stdout",
     "output_type": "stream",
     "text": [
      "                   all        999      10386       0.78      0.795      0.852       0.79      0.782      0.797      0.852      0.771\n"
     ]
    },
    {
     "name": "stderr",
     "output_type": "stream",
     "text": [
      "\n"
     ]
    },
    {
     "name": "stdout",
     "output_type": "stream",
     "text": [
      "\n",
      "      Epoch    GPU_mem   box_loss   seg_loss   cls_loss   dfl_loss  Instances       Size\n"
     ]
    },
    {
     "name": "stderr",
     "output_type": "stream",
     "text": [
      "     44/100      5.27G     0.3772      0.486     0.6266     0.8729        104        640: 100%|██████████| 842/842 [13:11<00:00,  1.06it/s]\n",
      "                 Class     Images  Instances      Box(P          R      mAP50  mAP50-95)     Mask(P          R      mAP50  mAP50-95): 100%|██████████| 63/63 [01:34<00:00,  1.49s/it]"
     ]
    },
    {
     "name": "stdout",
     "output_type": "stream",
     "text": [
      "                   all        999      10386      0.784      0.802      0.855      0.793      0.785      0.802      0.855      0.772\n"
     ]
    },
    {
     "name": "stderr",
     "output_type": "stream",
     "text": [
      "\n"
     ]
    },
    {
     "name": "stdout",
     "output_type": "stream",
     "text": [
      "\n",
      "      Epoch    GPU_mem   box_loss   seg_loss   cls_loss   dfl_loss  Instances       Size\n"
     ]
    },
    {
     "name": "stderr",
     "output_type": "stream",
     "text": [
      "     45/100      5.27G     0.3771     0.4846     0.6343      0.873         97        640: 100%|██████████| 842/842 [13:22<00:00,  1.05it/s]\n",
      "                 Class     Images  Instances      Box(P          R      mAP50  mAP50-95)     Mask(P          R      mAP50  mAP50-95): 100%|██████████| 63/63 [01:39<00:00,  1.57s/it]"
     ]
    },
    {
     "name": "stdout",
     "output_type": "stream",
     "text": [
      "                   all        999      10386      0.773      0.813      0.858      0.796      0.772      0.814      0.858      0.775\n"
     ]
    },
    {
     "name": "stderr",
     "output_type": "stream",
     "text": [
      "\n"
     ]
    },
    {
     "name": "stdout",
     "output_type": "stream",
     "text": [
      "\n",
      "      Epoch    GPU_mem   box_loss   seg_loss   cls_loss   dfl_loss  Instances       Size\n"
     ]
    },
    {
     "name": "stderr",
     "output_type": "stream",
     "text": [
      "     46/100      5.31G     0.3745     0.4812     0.6196     0.8716        135        640: 100%|██████████| 842/842 [13:34<00:00,  1.03it/s]\n",
      "                 Class     Images  Instances      Box(P          R      mAP50  mAP50-95)     Mask(P          R      mAP50  mAP50-95): 100%|██████████| 63/63 [01:35<00:00,  1.51s/it]"
     ]
    },
    {
     "name": "stdout",
     "output_type": "stream",
     "text": [
      "                   all        999      10386      0.789      0.795      0.855      0.795      0.787      0.797      0.855      0.775\n"
     ]
    },
    {
     "name": "stderr",
     "output_type": "stream",
     "text": [
      "\n"
     ]
    },
    {
     "name": "stdout",
     "output_type": "stream",
     "text": [
      "\n",
      "      Epoch    GPU_mem   box_loss   seg_loss   cls_loss   dfl_loss  Instances       Size\n"
     ]
    },
    {
     "name": "stderr",
     "output_type": "stream",
     "text": [
      "     47/100      5.36G     0.3728     0.4814     0.6173      0.872        161        640: 100%|██████████| 842/842 [13:48<00:00,  1.02it/s]\n",
      "                 Class     Images  Instances      Box(P          R      mAP50  mAP50-95)     Mask(P          R      mAP50  mAP50-95): 100%|██████████| 63/63 [01:46<00:00,  1.69s/it]"
     ]
    },
    {
     "name": "stdout",
     "output_type": "stream",
     "text": [
      "                   all        999      10386      0.785      0.798      0.858      0.796      0.789      0.792      0.857      0.776\n"
     ]
    },
    {
     "name": "stderr",
     "output_type": "stream",
     "text": [
      "\n"
     ]
    },
    {
     "name": "stdout",
     "output_type": "stream",
     "text": [
      "\n",
      "      Epoch    GPU_mem   box_loss   seg_loss   cls_loss   dfl_loss  Instances       Size\n"
     ]
    },
    {
     "name": "stderr",
     "output_type": "stream",
     "text": [
      "     48/100       5.4G     0.3733     0.4831     0.6129     0.8704        137        640: 100%|██████████| 842/842 [14:01<00:00,  1.00it/s]\n",
      "                 Class     Images  Instances      Box(P          R      mAP50  mAP50-95)     Mask(P          R      mAP50  mAP50-95): 100%|██████████| 63/63 [01:53<00:00,  1.80s/it]"
     ]
    },
    {
     "name": "stdout",
     "output_type": "stream",
     "text": [
      "                   all        999      10386      0.794      0.791      0.853      0.792      0.794      0.792      0.853      0.772\n"
     ]
    },
    {
     "name": "stderr",
     "output_type": "stream",
     "text": [
      "\n"
     ]
    },
    {
     "name": "stdout",
     "output_type": "stream",
     "text": [
      "\n",
      "      Epoch    GPU_mem   box_loss   seg_loss   cls_loss   dfl_loss  Instances       Size\n"
     ]
    },
    {
     "name": "stderr",
     "output_type": "stream",
     "text": [
      "     49/100      5.44G     0.3717     0.4788     0.6106     0.8687        117        640: 100%|██████████| 842/842 [13:03<00:00,  1.07it/s]\n",
      "                 Class     Images  Instances      Box(P          R      mAP50  mAP50-95)     Mask(P          R      mAP50  mAP50-95): 100%|██████████| 63/63 [01:45<00:00,  1.68s/it]"
     ]
    },
    {
     "name": "stdout",
     "output_type": "stream",
     "text": [
      "                   all        999      10386      0.782      0.806      0.855      0.794      0.782      0.806      0.854      0.773\n"
     ]
    },
    {
     "name": "stderr",
     "output_type": "stream",
     "text": [
      "\n"
     ]
    },
    {
     "name": "stdout",
     "output_type": "stream",
     "text": [
      "\n",
      "      Epoch    GPU_mem   box_loss   seg_loss   cls_loss   dfl_loss  Instances       Size\n"
     ]
    },
    {
     "name": "stderr",
     "output_type": "stream",
     "text": [
      "     50/100      5.57G     0.3687     0.4717     0.6081     0.8688        139        640: 100%|██████████| 842/842 [13:02<00:00,  1.08it/s]\n",
      "                 Class     Images  Instances      Box(P          R      mAP50  mAP50-95)     Mask(P          R      mAP50  mAP50-95): 100%|██████████| 63/63 [01:28<00:00,  1.41s/it]"
     ]
    },
    {
     "name": "stdout",
     "output_type": "stream",
     "text": [
      "                   all        999      10386      0.783      0.803      0.854      0.793      0.784      0.804      0.854      0.774\n"
     ]
    },
    {
     "name": "stderr",
     "output_type": "stream",
     "text": [
      "\n"
     ]
    },
    {
     "name": "stdout",
     "output_type": "stream",
     "text": [
      "\n",
      "      Epoch    GPU_mem   box_loss   seg_loss   cls_loss   dfl_loss  Instances       Size\n"
     ]
    },
    {
     "name": "stderr",
     "output_type": "stream",
     "text": [
      "     51/100      5.61G     0.3711     0.4768     0.6077     0.8708        145        640: 100%|██████████| 842/842 [13:12<00:00,  1.06it/s]\n",
      "                 Class     Images  Instances      Box(P          R      mAP50  mAP50-95)     Mask(P          R      mAP50  mAP50-95): 100%|██████████| 63/63 [01:29<00:00,  1.42s/it]"
     ]
    },
    {
     "name": "stdout",
     "output_type": "stream",
     "text": [
      "                   all        999      10386      0.788      0.799      0.854      0.793      0.788        0.8      0.854      0.775\n"
     ]
    },
    {
     "name": "stderr",
     "output_type": "stream",
     "text": [
      "\n"
     ]
    },
    {
     "name": "stdout",
     "output_type": "stream",
     "text": [
      "\n",
      "      Epoch    GPU_mem   box_loss   seg_loss   cls_loss   dfl_loss  Instances       Size\n"
     ]
    },
    {
     "name": "stderr",
     "output_type": "stream",
     "text": [
      "     52/100      5.65G     0.3678     0.4705     0.5992     0.8664        139        640: 100%|██████████| 842/842 [13:14<00:00,  1.06it/s]\n",
      "                 Class     Images  Instances      Box(P          R      mAP50  mAP50-95)     Mask(P          R      mAP50  mAP50-95): 100%|██████████| 63/63 [01:34<00:00,  1.50s/it]"
     ]
    },
    {
     "name": "stdout",
     "output_type": "stream",
     "text": [
      "                   all        999      10386       0.79      0.795      0.855      0.794      0.789      0.795      0.854      0.775\n"
     ]
    },
    {
     "name": "stderr",
     "output_type": "stream",
     "text": [
      "\n"
     ]
    },
    {
     "name": "stdout",
     "output_type": "stream",
     "text": [
      "\n",
      "      Epoch    GPU_mem   box_loss   seg_loss   cls_loss   dfl_loss  Instances       Size\n"
     ]
    },
    {
     "name": "stderr",
     "output_type": "stream",
     "text": [
      "     53/100      4.15G     0.3662     0.4723     0.5963      0.869        126        640: 100%|██████████| 842/842 [13:42<00:00,  1.02it/s]\n",
      "                 Class     Images  Instances      Box(P          R      mAP50  mAP50-95)     Mask(P          R      mAP50  mAP50-95): 100%|██████████| 63/63 [01:35<00:00,  1.52s/it]"
     ]
    },
    {
     "name": "stdout",
     "output_type": "stream",
     "text": [
      "                   all        999      10386      0.783      0.808      0.857      0.797      0.784      0.806      0.857      0.775\n"
     ]
    },
    {
     "name": "stderr",
     "output_type": "stream",
     "text": [
      "\n"
     ]
    },
    {
     "name": "stdout",
     "output_type": "stream",
     "text": [
      "\n",
      "      Epoch    GPU_mem   box_loss   seg_loss   cls_loss   dfl_loss  Instances       Size\n"
     ]
    },
    {
     "name": "stderr",
     "output_type": "stream",
     "text": [
      "     54/100      4.99G     0.3659     0.4724       0.59     0.8679         78        640: 100%|██████████| 842/842 [14:04<00:00,  1.00s/it]\n",
      "                 Class     Images  Instances      Box(P          R      mAP50  mAP50-95)     Mask(P          R      mAP50  mAP50-95): 100%|██████████| 63/63 [02:38<00:00,  2.52s/it]"
     ]
    },
    {
     "name": "stdout",
     "output_type": "stream",
     "text": [
      "                   all        999      10386      0.791      0.791      0.852      0.791      0.786      0.799      0.852      0.772\n"
     ]
    },
    {
     "name": "stderr",
     "output_type": "stream",
     "text": [
      "\n"
     ]
    },
    {
     "name": "stdout",
     "output_type": "stream",
     "text": [
      "\n",
      "      Epoch    GPU_mem   box_loss   seg_loss   cls_loss   dfl_loss  Instances       Size\n"
     ]
    },
    {
     "name": "stderr",
     "output_type": "stream",
     "text": [
      "     55/100      4.99G     0.3645     0.4699     0.5939     0.8671        131        640: 100%|██████████| 842/842 [15:18<00:00,  1.09s/it]\n",
      "                 Class     Images  Instances      Box(P          R      mAP50  mAP50-95)     Mask(P          R      mAP50  mAP50-95): 100%|██████████| 63/63 [01:54<00:00,  1.81s/it]"
     ]
    },
    {
     "name": "stdout",
     "output_type": "stream",
     "text": [
      "                   all        999      10386      0.777      0.801      0.852      0.793      0.777      0.802      0.852      0.773\n"
     ]
    },
    {
     "name": "stderr",
     "output_type": "stream",
     "text": [
      "\n"
     ]
    },
    {
     "name": "stdout",
     "output_type": "stream",
     "text": [
      "\n",
      "      Epoch    GPU_mem   box_loss   seg_loss   cls_loss   dfl_loss  Instances       Size\n"
     ]
    },
    {
     "name": "stderr",
     "output_type": "stream",
     "text": [
      "     56/100      4.99G     0.3652     0.4566     0.5769     0.8695        198        640:   2%|▏         | 20/842 [00:23<15:50,  1.16s/it]\n"
     ]
    },
    {
     "ename": "KeyboardInterrupt",
     "evalue": "",
     "output_type": "error",
     "traceback": [
      "\u001B[0;31m---------------------------------------------------------------------------\u001B[0m",
      "\u001B[0;31mKeyboardInterrupt\u001B[0m                         Traceback (most recent call last)",
      "\u001B[0;32m<ipython-input-9-68bf161298f8>\u001B[0m in \u001B[0;36m<cell line: 3>\u001B[0;34m()\u001B[0m\n\u001B[1;32m      1\u001B[0m \u001B[0mmodel\u001B[0m \u001B[0;34m=\u001B[0m \u001B[0mYOLO\u001B[0m\u001B[0;34m(\u001B[0m\u001B[0;34m'yolov9c-seg.pt'\u001B[0m\u001B[0;34m)\u001B[0m\u001B[0;34m\u001B[0m\u001B[0;34m\u001B[0m\u001B[0m\n\u001B[1;32m      2\u001B[0m \u001B[0;34m\u001B[0m\u001B[0m\n\u001B[0;32m----> 3\u001B[0;31m \u001B[0mresults\u001B[0m \u001B[0;34m=\u001B[0m \u001B[0mmodel\u001B[0m\u001B[0;34m.\u001B[0m\u001B[0mtrain\u001B[0m\u001B[0;34m(\u001B[0m\u001B[0mdata\u001B[0m\u001B[0;34m=\u001B[0m\u001B[0;34m'/media/abawi/e38fddf9-a92e-4c73-b905-995771f8fc3a/datasets/segmentation/yolo_style_fourclass/data.yaml'\u001B[0m\u001B[0;34m,\u001B[0m \u001B[0mepochs\u001B[0m\u001B[0;34m=\u001B[0m\u001B[0;36m100\u001B[0m\u001B[0;34m,\u001B[0m \u001B[0mimgsz\u001B[0m\u001B[0;34m=\u001B[0m\u001B[0;36m640\u001B[0m\u001B[0;34m,\u001B[0m \u001B[0mbatch\u001B[0m\u001B[0;34m=\u001B[0m\u001B[0;36m8\u001B[0m\u001B[0;34m,\u001B[0m \u001B[0mfreeze\u001B[0m\u001B[0;34m=\u001B[0m\u001B[0;36m10\u001B[0m\u001B[0;34m,\u001B[0m \u001B[0mlr0\u001B[0m\u001B[0;34m=\u001B[0m\u001B[0;36m0.001\u001B[0m\u001B[0;34m,\u001B[0m \u001B[0mworkers\u001B[0m\u001B[0;34m=\u001B[0m\u001B[0;36m0\u001B[0m\u001B[0;34m)\u001B[0m\u001B[0;34m\u001B[0m\u001B[0;34m\u001B[0m\u001B[0m\n\u001B[0m",
      "\u001B[0;32m/mnt/7A80B36880B32991/swap/micromamba/envs/lerobot/lib/python3.10/site-packages/ultralytics/engine/model.py\u001B[0m in \u001B[0;36mtrain\u001B[0;34m(self, trainer, **kwargs)\u001B[0m\n\u001B[1;32m    788\u001B[0m \u001B[0;34m\u001B[0m\u001B[0m\n\u001B[1;32m    789\u001B[0m         \u001B[0mself\u001B[0m\u001B[0;34m.\u001B[0m\u001B[0mtrainer\u001B[0m\u001B[0;34m.\u001B[0m\u001B[0mhub_session\u001B[0m \u001B[0;34m=\u001B[0m \u001B[0mself\u001B[0m\u001B[0;34m.\u001B[0m\u001B[0msession\u001B[0m  \u001B[0;31m# attach optional HUB session\u001B[0m\u001B[0;34m\u001B[0m\u001B[0;34m\u001B[0m\u001B[0m\n\u001B[0;32m--> 790\u001B[0;31m         \u001B[0mself\u001B[0m\u001B[0;34m.\u001B[0m\u001B[0mtrainer\u001B[0m\u001B[0;34m.\u001B[0m\u001B[0mtrain\u001B[0m\u001B[0;34m(\u001B[0m\u001B[0;34m)\u001B[0m\u001B[0;34m\u001B[0m\u001B[0;34m\u001B[0m\u001B[0m\n\u001B[0m\u001B[1;32m    791\u001B[0m         \u001B[0;31m# Update model and cfg after training\u001B[0m\u001B[0;34m\u001B[0m\u001B[0;34m\u001B[0m\u001B[0m\n\u001B[1;32m    792\u001B[0m         \u001B[0;32mif\u001B[0m \u001B[0mRANK\u001B[0m \u001B[0;32min\u001B[0m \u001B[0;34m{\u001B[0m\u001B[0;34m-\u001B[0m\u001B[0;36m1\u001B[0m\u001B[0;34m,\u001B[0m \u001B[0;36m0\u001B[0m\u001B[0;34m}\u001B[0m\u001B[0;34m:\u001B[0m\u001B[0;34m\u001B[0m\u001B[0;34m\u001B[0m\u001B[0m\n",
      "\u001B[0;32m/mnt/7A80B36880B32991/swap/micromamba/envs/lerobot/lib/python3.10/site-packages/ultralytics/engine/trainer.py\u001B[0m in \u001B[0;36mtrain\u001B[0;34m(self)\u001B[0m\n\u001B[1;32m    208\u001B[0m \u001B[0;34m\u001B[0m\u001B[0m\n\u001B[1;32m    209\u001B[0m         \u001B[0;32melse\u001B[0m\u001B[0;34m:\u001B[0m\u001B[0;34m\u001B[0m\u001B[0;34m\u001B[0m\u001B[0m\n\u001B[0;32m--> 210\u001B[0;31m             \u001B[0mself\u001B[0m\u001B[0;34m.\u001B[0m\u001B[0m_do_train\u001B[0m\u001B[0;34m(\u001B[0m\u001B[0mworld_size\u001B[0m\u001B[0;34m)\u001B[0m\u001B[0;34m\u001B[0m\u001B[0;34m\u001B[0m\u001B[0m\n\u001B[0m\u001B[1;32m    211\u001B[0m \u001B[0;34m\u001B[0m\u001B[0m\n\u001B[1;32m    212\u001B[0m     \u001B[0;32mdef\u001B[0m \u001B[0m_setup_scheduler\u001B[0m\u001B[0;34m(\u001B[0m\u001B[0mself\u001B[0m\u001B[0;34m)\u001B[0m\u001B[0;34m:\u001B[0m\u001B[0;34m\u001B[0m\u001B[0;34m\u001B[0m\u001B[0m\n",
      "\u001B[0;32m/mnt/7A80B36880B32991/swap/micromamba/envs/lerobot/lib/python3.10/site-packages/ultralytics/engine/trainer.py\u001B[0m in \u001B[0;36m_do_train\u001B[0;34m(self, world_size)\u001B[0m\n\u001B[1;32m    364\u001B[0m                 \u001B[0mpbar\u001B[0m \u001B[0;34m=\u001B[0m \u001B[0mTQDM\u001B[0m\u001B[0;34m(\u001B[0m\u001B[0menumerate\u001B[0m\u001B[0;34m(\u001B[0m\u001B[0mself\u001B[0m\u001B[0;34m.\u001B[0m\u001B[0mtrain_loader\u001B[0m\u001B[0;34m)\u001B[0m\u001B[0;34m,\u001B[0m \u001B[0mtotal\u001B[0m\u001B[0;34m=\u001B[0m\u001B[0mnb\u001B[0m\u001B[0;34m)\u001B[0m\u001B[0;34m\u001B[0m\u001B[0;34m\u001B[0m\u001B[0m\n\u001B[1;32m    365\u001B[0m             \u001B[0mself\u001B[0m\u001B[0;34m.\u001B[0m\u001B[0mtloss\u001B[0m \u001B[0;34m=\u001B[0m \u001B[0;32mNone\u001B[0m\u001B[0;34m\u001B[0m\u001B[0;34m\u001B[0m\u001B[0m\n\u001B[0;32m--> 366\u001B[0;31m             \u001B[0;32mfor\u001B[0m \u001B[0mi\u001B[0m\u001B[0;34m,\u001B[0m \u001B[0mbatch\u001B[0m \u001B[0;32min\u001B[0m \u001B[0mpbar\u001B[0m\u001B[0;34m:\u001B[0m\u001B[0;34m\u001B[0m\u001B[0;34m\u001B[0m\u001B[0m\n\u001B[0m\u001B[1;32m    367\u001B[0m                 \u001B[0mself\u001B[0m\u001B[0;34m.\u001B[0m\u001B[0mrun_callbacks\u001B[0m\u001B[0;34m(\u001B[0m\u001B[0;34m\"on_train_batch_start\"\u001B[0m\u001B[0;34m)\u001B[0m\u001B[0;34m\u001B[0m\u001B[0;34m\u001B[0m\u001B[0m\n\u001B[1;32m    368\u001B[0m                 \u001B[0;31m# Warmup\u001B[0m\u001B[0;34m\u001B[0m\u001B[0;34m\u001B[0m\u001B[0m\n",
      "\u001B[0;32m/mnt/7A80B36880B32991/swap/micromamba/envs/lerobot/lib/python3.10/site-packages/tqdm/std.py\u001B[0m in \u001B[0;36m__iter__\u001B[0;34m(self)\u001B[0m\n\u001B[1;32m   1179\u001B[0m \u001B[0;34m\u001B[0m\u001B[0m\n\u001B[1;32m   1180\u001B[0m         \u001B[0;32mtry\u001B[0m\u001B[0;34m:\u001B[0m\u001B[0;34m\u001B[0m\u001B[0;34m\u001B[0m\u001B[0m\n\u001B[0;32m-> 1181\u001B[0;31m             \u001B[0;32mfor\u001B[0m \u001B[0mobj\u001B[0m \u001B[0;32min\u001B[0m \u001B[0miterable\u001B[0m\u001B[0;34m:\u001B[0m\u001B[0;34m\u001B[0m\u001B[0;34m\u001B[0m\u001B[0m\n\u001B[0m\u001B[1;32m   1182\u001B[0m                 \u001B[0;32myield\u001B[0m \u001B[0mobj\u001B[0m\u001B[0;34m\u001B[0m\u001B[0;34m\u001B[0m\u001B[0m\n\u001B[1;32m   1183\u001B[0m                 \u001B[0;31m# Update and possibly print the progressbar.\u001B[0m\u001B[0;34m\u001B[0m\u001B[0;34m\u001B[0m\u001B[0m\n",
      "\u001B[0;32m/mnt/7A80B36880B32991/swap/micromamba/envs/lerobot/lib/python3.10/site-packages/ultralytics/data/build.py\u001B[0m in \u001B[0;36m__iter__\u001B[0;34m(self)\u001B[0m\n\u001B[1;32m     57\u001B[0m         \u001B[0;34m\"\"\"Create an iterator that yields indefinitely from the underlying iterator.\"\"\"\u001B[0m\u001B[0;34m\u001B[0m\u001B[0;34m\u001B[0m\u001B[0m\n\u001B[1;32m     58\u001B[0m         \u001B[0;32mfor\u001B[0m \u001B[0m_\u001B[0m \u001B[0;32min\u001B[0m \u001B[0mrange\u001B[0m\u001B[0;34m(\u001B[0m\u001B[0mlen\u001B[0m\u001B[0;34m(\u001B[0m\u001B[0mself\u001B[0m\u001B[0;34m)\u001B[0m\u001B[0;34m)\u001B[0m\u001B[0;34m:\u001B[0m\u001B[0;34m\u001B[0m\u001B[0;34m\u001B[0m\u001B[0m\n\u001B[0;32m---> 59\u001B[0;31m             \u001B[0;32myield\u001B[0m \u001B[0mnext\u001B[0m\u001B[0;34m(\u001B[0m\u001B[0mself\u001B[0m\u001B[0;34m.\u001B[0m\u001B[0miterator\u001B[0m\u001B[0;34m)\u001B[0m\u001B[0;34m\u001B[0m\u001B[0;34m\u001B[0m\u001B[0m\n\u001B[0m\u001B[1;32m     60\u001B[0m \u001B[0;34m\u001B[0m\u001B[0m\n\u001B[1;32m     61\u001B[0m     \u001B[0;32mdef\u001B[0m \u001B[0m__del__\u001B[0m\u001B[0;34m(\u001B[0m\u001B[0mself\u001B[0m\u001B[0;34m)\u001B[0m\u001B[0;34m:\u001B[0m\u001B[0;34m\u001B[0m\u001B[0;34m\u001B[0m\u001B[0m\n",
      "\u001B[0;32m/mnt/7A80B36880B32991/swap/micromamba/envs/lerobot/lib/python3.10/site-packages/torch/utils/data/dataloader.py\u001B[0m in \u001B[0;36m__next__\u001B[0;34m(self)\u001B[0m\n\u001B[1;32m    706\u001B[0m                 \u001B[0;31m# TODO(https://github.com/pytorch/pytorch/issues/76750)\u001B[0m\u001B[0;34m\u001B[0m\u001B[0;34m\u001B[0m\u001B[0m\n\u001B[1;32m    707\u001B[0m                 \u001B[0mself\u001B[0m\u001B[0;34m.\u001B[0m\u001B[0m_reset\u001B[0m\u001B[0;34m(\u001B[0m\u001B[0;34m)\u001B[0m  \u001B[0;31m# type: ignore[call-arg]\u001B[0m\u001B[0;34m\u001B[0m\u001B[0;34m\u001B[0m\u001B[0m\n\u001B[0;32m--> 708\u001B[0;31m             \u001B[0mdata\u001B[0m \u001B[0;34m=\u001B[0m \u001B[0mself\u001B[0m\u001B[0;34m.\u001B[0m\u001B[0m_next_data\u001B[0m\u001B[0;34m(\u001B[0m\u001B[0;34m)\u001B[0m\u001B[0;34m\u001B[0m\u001B[0;34m\u001B[0m\u001B[0m\n\u001B[0m\u001B[1;32m    709\u001B[0m             \u001B[0mself\u001B[0m\u001B[0;34m.\u001B[0m\u001B[0m_num_yielded\u001B[0m \u001B[0;34m+=\u001B[0m \u001B[0;36m1\u001B[0m\u001B[0;34m\u001B[0m\u001B[0;34m\u001B[0m\u001B[0m\n\u001B[1;32m    710\u001B[0m             if (\n",
      "\u001B[0;32m/mnt/7A80B36880B32991/swap/micromamba/envs/lerobot/lib/python3.10/site-packages/torch/utils/data/dataloader.py\u001B[0m in \u001B[0;36m_next_data\u001B[0;34m(self)\u001B[0m\n\u001B[1;32m    762\u001B[0m     \u001B[0;32mdef\u001B[0m \u001B[0m_next_data\u001B[0m\u001B[0;34m(\u001B[0m\u001B[0mself\u001B[0m\u001B[0;34m)\u001B[0m\u001B[0;34m:\u001B[0m\u001B[0;34m\u001B[0m\u001B[0;34m\u001B[0m\u001B[0m\n\u001B[1;32m    763\u001B[0m         \u001B[0mindex\u001B[0m \u001B[0;34m=\u001B[0m \u001B[0mself\u001B[0m\u001B[0;34m.\u001B[0m\u001B[0m_next_index\u001B[0m\u001B[0;34m(\u001B[0m\u001B[0;34m)\u001B[0m  \u001B[0;31m# may raise StopIteration\u001B[0m\u001B[0;34m\u001B[0m\u001B[0;34m\u001B[0m\u001B[0m\n\u001B[0;32m--> 764\u001B[0;31m         \u001B[0mdata\u001B[0m \u001B[0;34m=\u001B[0m \u001B[0mself\u001B[0m\u001B[0;34m.\u001B[0m\u001B[0m_dataset_fetcher\u001B[0m\u001B[0;34m.\u001B[0m\u001B[0mfetch\u001B[0m\u001B[0;34m(\u001B[0m\u001B[0mindex\u001B[0m\u001B[0;34m)\u001B[0m  \u001B[0;31m# may raise StopIteration\u001B[0m\u001B[0;34m\u001B[0m\u001B[0;34m\u001B[0m\u001B[0m\n\u001B[0m\u001B[1;32m    765\u001B[0m         \u001B[0;32mif\u001B[0m \u001B[0mself\u001B[0m\u001B[0;34m.\u001B[0m\u001B[0m_pin_memory\u001B[0m\u001B[0;34m:\u001B[0m\u001B[0;34m\u001B[0m\u001B[0;34m\u001B[0m\u001B[0m\n\u001B[1;32m    766\u001B[0m             \u001B[0mdata\u001B[0m \u001B[0;34m=\u001B[0m \u001B[0m_utils\u001B[0m\u001B[0;34m.\u001B[0m\u001B[0mpin_memory\u001B[0m\u001B[0;34m.\u001B[0m\u001B[0mpin_memory\u001B[0m\u001B[0;34m(\u001B[0m\u001B[0mdata\u001B[0m\u001B[0;34m,\u001B[0m \u001B[0mself\u001B[0m\u001B[0;34m.\u001B[0m\u001B[0m_pin_memory_device\u001B[0m\u001B[0;34m)\u001B[0m\u001B[0;34m\u001B[0m\u001B[0;34m\u001B[0m\u001B[0m\n",
      "\u001B[0;32m/mnt/7A80B36880B32991/swap/micromamba/envs/lerobot/lib/python3.10/site-packages/torch/utils/data/_utils/fetch.py\u001B[0m in \u001B[0;36mfetch\u001B[0;34m(self, possibly_batched_index)\u001B[0m\n\u001B[1;32m     50\u001B[0m                 \u001B[0mdata\u001B[0m \u001B[0;34m=\u001B[0m \u001B[0mself\u001B[0m\u001B[0;34m.\u001B[0m\u001B[0mdataset\u001B[0m\u001B[0;34m.\u001B[0m\u001B[0m__getitems__\u001B[0m\u001B[0;34m(\u001B[0m\u001B[0mpossibly_batched_index\u001B[0m\u001B[0;34m)\u001B[0m\u001B[0;34m\u001B[0m\u001B[0;34m\u001B[0m\u001B[0m\n\u001B[1;32m     51\u001B[0m             \u001B[0;32melse\u001B[0m\u001B[0;34m:\u001B[0m\u001B[0;34m\u001B[0m\u001B[0;34m\u001B[0m\u001B[0m\n\u001B[0;32m---> 52\u001B[0;31m                 \u001B[0mdata\u001B[0m \u001B[0;34m=\u001B[0m \u001B[0;34m[\u001B[0m\u001B[0mself\u001B[0m\u001B[0;34m.\u001B[0m\u001B[0mdataset\u001B[0m\u001B[0;34m[\u001B[0m\u001B[0midx\u001B[0m\u001B[0;34m]\u001B[0m \u001B[0;32mfor\u001B[0m \u001B[0midx\u001B[0m \u001B[0;32min\u001B[0m \u001B[0mpossibly_batched_index\u001B[0m\u001B[0;34m]\u001B[0m\u001B[0;34m\u001B[0m\u001B[0;34m\u001B[0m\u001B[0m\n\u001B[0m\u001B[1;32m     53\u001B[0m         \u001B[0;32melse\u001B[0m\u001B[0;34m:\u001B[0m\u001B[0;34m\u001B[0m\u001B[0;34m\u001B[0m\u001B[0m\n\u001B[1;32m     54\u001B[0m             \u001B[0mdata\u001B[0m \u001B[0;34m=\u001B[0m \u001B[0mself\u001B[0m\u001B[0;34m.\u001B[0m\u001B[0mdataset\u001B[0m\u001B[0;34m[\u001B[0m\u001B[0mpossibly_batched_index\u001B[0m\u001B[0;34m]\u001B[0m\u001B[0;34m\u001B[0m\u001B[0;34m\u001B[0m\u001B[0m\n",
      "\u001B[0;32m/mnt/7A80B36880B32991/swap/micromamba/envs/lerobot/lib/python3.10/site-packages/torch/utils/data/_utils/fetch.py\u001B[0m in \u001B[0;36m<listcomp>\u001B[0;34m(.0)\u001B[0m\n\u001B[1;32m     50\u001B[0m                 \u001B[0mdata\u001B[0m \u001B[0;34m=\u001B[0m \u001B[0mself\u001B[0m\u001B[0;34m.\u001B[0m\u001B[0mdataset\u001B[0m\u001B[0;34m.\u001B[0m\u001B[0m__getitems__\u001B[0m\u001B[0;34m(\u001B[0m\u001B[0mpossibly_batched_index\u001B[0m\u001B[0;34m)\u001B[0m\u001B[0;34m\u001B[0m\u001B[0;34m\u001B[0m\u001B[0m\n\u001B[1;32m     51\u001B[0m             \u001B[0;32melse\u001B[0m\u001B[0;34m:\u001B[0m\u001B[0;34m\u001B[0m\u001B[0;34m\u001B[0m\u001B[0m\n\u001B[0;32m---> 52\u001B[0;31m                 \u001B[0mdata\u001B[0m \u001B[0;34m=\u001B[0m \u001B[0;34m[\u001B[0m\u001B[0mself\u001B[0m\u001B[0;34m.\u001B[0m\u001B[0mdataset\u001B[0m\u001B[0;34m[\u001B[0m\u001B[0midx\u001B[0m\u001B[0;34m]\u001B[0m \u001B[0;32mfor\u001B[0m \u001B[0midx\u001B[0m \u001B[0;32min\u001B[0m \u001B[0mpossibly_batched_index\u001B[0m\u001B[0;34m]\u001B[0m\u001B[0;34m\u001B[0m\u001B[0;34m\u001B[0m\u001B[0m\n\u001B[0m\u001B[1;32m     53\u001B[0m         \u001B[0;32melse\u001B[0m\u001B[0;34m:\u001B[0m\u001B[0;34m\u001B[0m\u001B[0;34m\u001B[0m\u001B[0m\n\u001B[1;32m     54\u001B[0m             \u001B[0mdata\u001B[0m \u001B[0;34m=\u001B[0m \u001B[0mself\u001B[0m\u001B[0;34m.\u001B[0m\u001B[0mdataset\u001B[0m\u001B[0;34m[\u001B[0m\u001B[0mpossibly_batched_index\u001B[0m\u001B[0;34m]\u001B[0m\u001B[0;34m\u001B[0m\u001B[0;34m\u001B[0m\u001B[0m\n",
      "\u001B[0;32m/mnt/7A80B36880B32991/swap/micromamba/envs/lerobot/lib/python3.10/site-packages/ultralytics/data/base.py\u001B[0m in \u001B[0;36m__getitem__\u001B[0;34m(self, index)\u001B[0m\n\u001B[1;32m    375\u001B[0m     \u001B[0;32mdef\u001B[0m \u001B[0m__getitem__\u001B[0m\u001B[0;34m(\u001B[0m\u001B[0mself\u001B[0m\u001B[0;34m,\u001B[0m \u001B[0mindex\u001B[0m\u001B[0;34m)\u001B[0m\u001B[0;34m:\u001B[0m\u001B[0;34m\u001B[0m\u001B[0;34m\u001B[0m\u001B[0m\n\u001B[1;32m    376\u001B[0m         \u001B[0;34m\"\"\"Return transformed label information for given index.\"\"\"\u001B[0m\u001B[0;34m\u001B[0m\u001B[0;34m\u001B[0m\u001B[0m\n\u001B[0;32m--> 377\u001B[0;31m         \u001B[0;32mreturn\u001B[0m \u001B[0mself\u001B[0m\u001B[0;34m.\u001B[0m\u001B[0mtransforms\u001B[0m\u001B[0;34m(\u001B[0m\u001B[0mself\u001B[0m\u001B[0;34m.\u001B[0m\u001B[0mget_image_and_label\u001B[0m\u001B[0;34m(\u001B[0m\u001B[0mindex\u001B[0m\u001B[0;34m)\u001B[0m\u001B[0;34m)\u001B[0m\u001B[0;34m\u001B[0m\u001B[0;34m\u001B[0m\u001B[0m\n\u001B[0m\u001B[1;32m    378\u001B[0m \u001B[0;34m\u001B[0m\u001B[0m\n\u001B[1;32m    379\u001B[0m     \u001B[0;32mdef\u001B[0m \u001B[0mget_image_and_label\u001B[0m\u001B[0;34m(\u001B[0m\u001B[0mself\u001B[0m\u001B[0;34m,\u001B[0m \u001B[0mindex\u001B[0m\u001B[0;34m)\u001B[0m\u001B[0;34m:\u001B[0m\u001B[0;34m\u001B[0m\u001B[0;34m\u001B[0m\u001B[0m\n",
      "\u001B[0;32m/mnt/7A80B36880B32991/swap/micromamba/envs/lerobot/lib/python3.10/site-packages/ultralytics/data/base.py\u001B[0m in \u001B[0;36mget_image_and_label\u001B[0;34m(self, index)\u001B[0m\n\u001B[1;32m    389\u001B[0m         \u001B[0mlabel\u001B[0m \u001B[0;34m=\u001B[0m \u001B[0mdeepcopy\u001B[0m\u001B[0;34m(\u001B[0m\u001B[0mself\u001B[0m\u001B[0;34m.\u001B[0m\u001B[0mlabels\u001B[0m\u001B[0;34m[\u001B[0m\u001B[0mindex\u001B[0m\u001B[0;34m]\u001B[0m\u001B[0;34m)\u001B[0m  \u001B[0;31m# requires deepcopy() https://github.com/ultralytics/ultralytics/pull/1948\u001B[0m\u001B[0;34m\u001B[0m\u001B[0;34m\u001B[0m\u001B[0m\n\u001B[1;32m    390\u001B[0m         \u001B[0mlabel\u001B[0m\u001B[0;34m.\u001B[0m\u001B[0mpop\u001B[0m\u001B[0;34m(\u001B[0m\u001B[0;34m\"shape\"\u001B[0m\u001B[0;34m,\u001B[0m \u001B[0;32mNone\u001B[0m\u001B[0;34m)\u001B[0m  \u001B[0;31m# shape is for rect, remove it\u001B[0m\u001B[0;34m\u001B[0m\u001B[0;34m\u001B[0m\u001B[0m\n\u001B[0;32m--> 391\u001B[0;31m         \u001B[0mlabel\u001B[0m\u001B[0;34m[\u001B[0m\u001B[0;34m\"img\"\u001B[0m\u001B[0;34m]\u001B[0m\u001B[0;34m,\u001B[0m \u001B[0mlabel\u001B[0m\u001B[0;34m[\u001B[0m\u001B[0;34m\"ori_shape\"\u001B[0m\u001B[0;34m]\u001B[0m\u001B[0;34m,\u001B[0m \u001B[0mlabel\u001B[0m\u001B[0;34m[\u001B[0m\u001B[0;34m\"resized_shape\"\u001B[0m\u001B[0;34m]\u001B[0m \u001B[0;34m=\u001B[0m \u001B[0mself\u001B[0m\u001B[0;34m.\u001B[0m\u001B[0mload_image\u001B[0m\u001B[0;34m(\u001B[0m\u001B[0mindex\u001B[0m\u001B[0;34m)\u001B[0m\u001B[0;34m\u001B[0m\u001B[0;34m\u001B[0m\u001B[0m\n\u001B[0m\u001B[1;32m    392\u001B[0m         label[\"ratio_pad\"] = (\n\u001B[1;32m    393\u001B[0m             \u001B[0mlabel\u001B[0m\u001B[0;34m[\u001B[0m\u001B[0;34m\"resized_shape\"\u001B[0m\u001B[0;34m]\u001B[0m\u001B[0;34m[\u001B[0m\u001B[0;36m0\u001B[0m\u001B[0;34m]\u001B[0m \u001B[0;34m/\u001B[0m \u001B[0mlabel\u001B[0m\u001B[0;34m[\u001B[0m\u001B[0;34m\"ori_shape\"\u001B[0m\u001B[0;34m]\u001B[0m\u001B[0;34m[\u001B[0m\u001B[0;36m0\u001B[0m\u001B[0;34m]\u001B[0m\u001B[0;34m,\u001B[0m\u001B[0;34m\u001B[0m\u001B[0;34m\u001B[0m\u001B[0m\n",
      "\u001B[0;32m/mnt/7A80B36880B32991/swap/micromamba/envs/lerobot/lib/python3.10/site-packages/ultralytics/data/base.py\u001B[0m in \u001B[0;36mload_image\u001B[0;34m(self, i, rect_mode)\u001B[0m\n\u001B[1;32m    232\u001B[0m                     \u001B[0mim\u001B[0m \u001B[0;34m=\u001B[0m \u001B[0mimread\u001B[0m\u001B[0;34m(\u001B[0m\u001B[0mf\u001B[0m\u001B[0;34m,\u001B[0m \u001B[0mflags\u001B[0m\u001B[0;34m=\u001B[0m\u001B[0mself\u001B[0m\u001B[0;34m.\u001B[0m\u001B[0mcv2_flag\u001B[0m\u001B[0;34m)\u001B[0m  \u001B[0;31m# BGR\u001B[0m\u001B[0;34m\u001B[0m\u001B[0;34m\u001B[0m\u001B[0m\n\u001B[1;32m    233\u001B[0m             \u001B[0;32melse\u001B[0m\u001B[0;34m:\u001B[0m  \u001B[0;31m# read image\u001B[0m\u001B[0;34m\u001B[0m\u001B[0;34m\u001B[0m\u001B[0m\n\u001B[0;32m--> 234\u001B[0;31m                 \u001B[0mim\u001B[0m \u001B[0;34m=\u001B[0m \u001B[0mimread\u001B[0m\u001B[0;34m(\u001B[0m\u001B[0mf\u001B[0m\u001B[0;34m,\u001B[0m \u001B[0mflags\u001B[0m\u001B[0;34m=\u001B[0m\u001B[0mself\u001B[0m\u001B[0;34m.\u001B[0m\u001B[0mcv2_flag\u001B[0m\u001B[0;34m)\u001B[0m  \u001B[0;31m# BGR\u001B[0m\u001B[0;34m\u001B[0m\u001B[0;34m\u001B[0m\u001B[0m\n\u001B[0m\u001B[1;32m    235\u001B[0m             \u001B[0;32mif\u001B[0m \u001B[0mim\u001B[0m \u001B[0;32mis\u001B[0m \u001B[0;32mNone\u001B[0m\u001B[0;34m:\u001B[0m\u001B[0;34m\u001B[0m\u001B[0;34m\u001B[0m\u001B[0m\n\u001B[1;32m    236\u001B[0m                 \u001B[0;32mraise\u001B[0m \u001B[0mFileNotFoundError\u001B[0m\u001B[0;34m(\u001B[0m\u001B[0;34mf\"Image Not Found {f}\"\u001B[0m\u001B[0;34m)\u001B[0m\u001B[0;34m\u001B[0m\u001B[0;34m\u001B[0m\u001B[0m\n",
      "\u001B[0;32m/mnt/7A80B36880B32991/swap/micromamba/envs/lerobot/lib/python3.10/site-packages/ultralytics/utils/patches.py\u001B[0m in \u001B[0;36mimread\u001B[0;34m(filename, flags)\u001B[0m\n\u001B[1;32m     36\u001B[0m         \u001B[0;32mreturn\u001B[0m \u001B[0;32mNone\u001B[0m\u001B[0;34m\u001B[0m\u001B[0;34m\u001B[0m\u001B[0m\n\u001B[1;32m     37\u001B[0m     \u001B[0;32melse\u001B[0m\u001B[0;34m:\u001B[0m\u001B[0;34m\u001B[0m\u001B[0;34m\u001B[0m\u001B[0m\n\u001B[0;32m---> 38\u001B[0;31m         \u001B[0;32mreturn\u001B[0m \u001B[0mcv2\u001B[0m\u001B[0;34m.\u001B[0m\u001B[0mimdecode\u001B[0m\u001B[0;34m(\u001B[0m\u001B[0mfile_bytes\u001B[0m\u001B[0;34m,\u001B[0m \u001B[0mflags\u001B[0m\u001B[0;34m)\u001B[0m\u001B[0;34m\u001B[0m\u001B[0;34m\u001B[0m\u001B[0m\n\u001B[0m\u001B[1;32m     39\u001B[0m \u001B[0;34m\u001B[0m\u001B[0m\n\u001B[1;32m     40\u001B[0m \u001B[0;34m\u001B[0m\u001B[0m\n",
      "\u001B[0;31mKeyboardInterrupt\u001B[0m: "
     ]
    }
   ],
   "source": [
    "model = YOLO('yolov9c-seg.pt')\n",
    "\n",
    "results = model.train(data=os.path.join(DS_LOCATION, 'yolo_style_fourclass', 'data.yaml'),\n",
    "                      epochs=100, imgsz=640, batch=8, freeze=10, lr0=0.001, workers=0)\n"
   ]
  },
  {
   "cell_type": "code",
   "execution_count": null,
   "id": "7da7ee17",
   "metadata": {},
   "outputs": [],
   "source": []
  }
 ],
 "metadata": {
  "kernelspec": {
   "display_name": "Python 3",
   "language": "python",
   "name": "python3"
  },
  "language_info": {
   "codemirror_mode": {
    "name": "ipython",
    "version": 3
   },
   "file_extension": ".py",
   "mimetype": "text/x-python",
   "name": "python",
   "nbconvert_exporter": "python",
   "pygments_lexer": "ipython3",
   "version": "3.10.14"
  }
 },
 "nbformat": 4,
 "nbformat_minor": 5
}
