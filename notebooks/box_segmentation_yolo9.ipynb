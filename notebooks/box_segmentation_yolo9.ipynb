{
 "cells": [
  {
   "cell_type": "markdown",
   "id": "4ae0a220",
   "metadata": {
    "jupyter": {
     "is_executing": true
    }
   },
   "source": [
    "# BoXYZ - Ultralytics Segment YOLO Box"
   ]
  },
  {
   "cell_type": "code",
   "execution_count": 1,
   "id": "60aecd0d57822702",
   "metadata": {},
   "outputs": [
    {
     "name": "stdout",
     "output_type": "stream",
     "text": [
      "Collecting ultralytics\n",
      "  Downloading ultralytics-8.3.123-py3-none-any.whl.metadata (37 kB)\n",
      "Requirement already satisfied: numpy>=1.23.0 in /mnt/7A80B36880B32991/swap/micromamba/envs/lerobot/lib/python3.10/site-packages (from ultralytics) (2.2.5)\n",
      "Requirement already satisfied: matplotlib>=3.3.0 in /mnt/7A80B36880B32991/swap/micromamba/envs/lerobot/lib/python3.10/site-packages (from ultralytics) (3.8.4)\n",
      "Requirement already satisfied: opencv-python>=4.6.0 in /mnt/7A80B36880B32991/swap/micromamba/envs/lerobot/lib/python3.10/site-packages (from ultralytics) (4.9.0.80)\n",
      "Requirement already satisfied: pillow>=7.1.2 in /mnt/7A80B36880B32991/swap/micromamba/envs/lerobot/lib/python3.10/site-packages (from ultralytics) (10.3.0)\n",
      "Requirement already satisfied: pyyaml>=5.3.1 in /mnt/7A80B36880B32991/swap/micromamba/envs/lerobot/lib/python3.10/site-packages (from ultralytics) (6.0.2)\n",
      "Requirement already satisfied: requests>=2.23.0 in /home/abawi/.local/lib/python3.10/site-packages (from ultralytics) (2.31.0)\n",
      "Requirement already satisfied: scipy>=1.4.1 in /mnt/7A80B36880B32991/swap/micromamba/envs/lerobot/lib/python3.10/site-packages (from ultralytics) (1.13.0)\n",
      "Requirement already satisfied: torch>=1.8.0 in /mnt/7A80B36880B32991/swap/micromamba/envs/lerobot/lib/python3.10/site-packages (from ultralytics) (2.6.0)\n",
      "Requirement already satisfied: torchvision>=0.9.0 in /mnt/7A80B36880B32991/swap/micromamba/envs/lerobot/lib/python3.10/site-packages (from ultralytics) (0.21.0)\n",
      "Requirement already satisfied: tqdm>=4.64.0 in /mnt/7A80B36880B32991/swap/micromamba/envs/lerobot/lib/python3.10/site-packages (from ultralytics) (4.66.4)\n",
      "Requirement already satisfied: psutil in /mnt/7A80B36880B32991/swap/micromamba/envs/lerobot/lib/python3.10/site-packages (from ultralytics) (5.9.8)\n",
      "Collecting py-cpuinfo (from ultralytics)\n",
      "  Downloading py_cpuinfo-9.0.0-py3-none-any.whl.metadata (794 bytes)\n",
      "Requirement already satisfied: pandas>=1.1.4 in /mnt/7A80B36880B32991/swap/micromamba/envs/lerobot/lib/python3.10/site-packages (from ultralytics) (2.2.3)\n",
      "Collecting seaborn>=0.11.0 (from ultralytics)\n",
      "  Downloading seaborn-0.13.2-py3-none-any.whl.metadata (5.4 kB)\n",
      "Collecting ultralytics-thop>=2.0.0 (from ultralytics)\n",
      "  Downloading ultralytics_thop-2.0.14-py3-none-any.whl.metadata (9.4 kB)\n",
      "Requirement already satisfied: contourpy>=1.0.1 in /mnt/7A80B36880B32991/swap/micromamba/envs/lerobot/lib/python3.10/site-packages (from matplotlib>=3.3.0->ultralytics) (1.2.1)\n",
      "Requirement already satisfied: cycler>=0.10 in /mnt/7A80B36880B32991/swap/micromamba/envs/lerobot/lib/python3.10/site-packages (from matplotlib>=3.3.0->ultralytics) (0.12.1)\n",
      "Requirement already satisfied: fonttools>=4.22.0 in /mnt/7A80B36880B32991/swap/micromamba/envs/lerobot/lib/python3.10/site-packages (from matplotlib>=3.3.0->ultralytics) (4.51.0)\n",
      "Requirement already satisfied: kiwisolver>=1.3.1 in /mnt/7A80B36880B32991/swap/micromamba/envs/lerobot/lib/python3.10/site-packages (from matplotlib>=3.3.0->ultralytics) (1.4.5)\n",
      "Requirement already satisfied: packaging>=20.0 in /mnt/7A80B36880B32991/swap/micromamba/envs/lerobot/lib/python3.10/site-packages (from matplotlib>=3.3.0->ultralytics) (24.1)\n",
      "Requirement already satisfied: pyparsing>=2.3.1 in /mnt/7A80B36880B32991/swap/micromamba/envs/lerobot/lib/python3.10/site-packages (from matplotlib>=3.3.0->ultralytics) (3.1.2)\n",
      "Requirement already satisfied: python-dateutil>=2.7 in /mnt/7A80B36880B32991/swap/micromamba/envs/lerobot/lib/python3.10/site-packages (from matplotlib>=3.3.0->ultralytics) (2.9.0.post0)\n",
      "Requirement already satisfied: pytz>=2020.1 in /mnt/7A80B36880B32991/swap/micromamba/envs/lerobot/lib/python3.10/site-packages (from pandas>=1.1.4->ultralytics) (2024.1)\n",
      "Requirement already satisfied: tzdata>=2022.7 in /mnt/7A80B36880B32991/swap/micromamba/envs/lerobot/lib/python3.10/site-packages (from pandas>=1.1.4->ultralytics) (2024.1)\n",
      "Requirement already satisfied: charset-normalizer<4,>=2 in /mnt/7A80B36880B32991/swap/micromamba/envs/lerobot/lib/python3.10/site-packages (from requests>=2.23.0->ultralytics) (2.1.1)\n",
      "Requirement already satisfied: idna<4,>=2.5 in /mnt/7A80B36880B32991/swap/micromamba/envs/lerobot/lib/python3.10/site-packages (from requests>=2.23.0->ultralytics) (3.3)\n",
      "Requirement already satisfied: urllib3<3,>=1.21.1 in /mnt/7A80B36880B32991/swap/micromamba/envs/lerobot/lib/python3.10/site-packages (from requests>=2.23.0->ultralytics) (1.26.13)\n",
      "Requirement already satisfied: certifi>=2017.4.17 in /mnt/7A80B36880B32991/swap/micromamba/envs/lerobot/lib/python3.10/site-packages (from requests>=2.23.0->ultralytics) (2022.12.7)\n",
      "Requirement already satisfied: filelock in /mnt/7A80B36880B32991/swap/micromamba/envs/lerobot/lib/python3.10/site-packages (from torch>=1.8.0->ultralytics) (3.13.1)\n",
      "Requirement already satisfied: typing-extensions>=4.10.0 in /mnt/7A80B36880B32991/swap/micromamba/envs/lerobot/lib/python3.10/site-packages (from torch>=1.8.0->ultralytics) (4.12.2)\n",
      "Requirement already satisfied: networkx in /mnt/7A80B36880B32991/swap/micromamba/envs/lerobot/lib/python3.10/site-packages (from torch>=1.8.0->ultralytics) (3.2.1)\n",
      "Requirement already satisfied: jinja2 in /mnt/7A80B36880B32991/swap/micromamba/envs/lerobot/lib/python3.10/site-packages (from torch>=1.8.0->ultralytics) (3.1.5)\n",
      "Requirement already satisfied: fsspec in /mnt/7A80B36880B32991/swap/micromamba/envs/lerobot/lib/python3.10/site-packages (from torch>=1.8.0->ultralytics) (2024.3.1)\n",
      "Requirement already satisfied: nvidia-cuda-nvrtc-cu12==12.4.127 in /mnt/7A80B36880B32991/swap/micromamba/envs/lerobot/lib/python3.10/site-packages (from torch>=1.8.0->ultralytics) (12.4.127)\n",
      "Requirement already satisfied: nvidia-cuda-runtime-cu12==12.4.127 in /mnt/7A80B36880B32991/swap/micromamba/envs/lerobot/lib/python3.10/site-packages (from torch>=1.8.0->ultralytics) (12.4.127)\n",
      "Requirement already satisfied: nvidia-cuda-cupti-cu12==12.4.127 in /mnt/7A80B36880B32991/swap/micromamba/envs/lerobot/lib/python3.10/site-packages (from torch>=1.8.0->ultralytics) (12.4.127)\n",
      "Requirement already satisfied: nvidia-cudnn-cu12==9.1.0.70 in /mnt/7A80B36880B32991/swap/micromamba/envs/lerobot/lib/python3.10/site-packages (from torch>=1.8.0->ultralytics) (9.1.0.70)\n",
      "Requirement already satisfied: nvidia-cublas-cu12==12.4.5.8 in /mnt/7A80B36880B32991/swap/micromamba/envs/lerobot/lib/python3.10/site-packages (from torch>=1.8.0->ultralytics) (12.4.5.8)\n",
      "Requirement already satisfied: nvidia-cufft-cu12==11.2.1.3 in /mnt/7A80B36880B32991/swap/micromamba/envs/lerobot/lib/python3.10/site-packages (from torch>=1.8.0->ultralytics) (11.2.1.3)\n",
      "Requirement already satisfied: nvidia-curand-cu12==10.3.5.147 in /mnt/7A80B36880B32991/swap/micromamba/envs/lerobot/lib/python3.10/site-packages (from torch>=1.8.0->ultralytics) (10.3.5.147)\n",
      "Requirement already satisfied: nvidia-cusolver-cu12==11.6.1.9 in /mnt/7A80B36880B32991/swap/micromamba/envs/lerobot/lib/python3.10/site-packages (from torch>=1.8.0->ultralytics) (11.6.1.9)\n",
      "Requirement already satisfied: nvidia-cusparse-cu12==12.3.1.170 in /mnt/7A80B36880B32991/swap/micromamba/envs/lerobot/lib/python3.10/site-packages (from torch>=1.8.0->ultralytics) (12.3.1.170)\n",
      "Requirement already satisfied: nvidia-cusparselt-cu12==0.6.2 in /mnt/7A80B36880B32991/swap/micromamba/envs/lerobot/lib/python3.10/site-packages (from torch>=1.8.0->ultralytics) (0.6.2)\n",
      "Requirement already satisfied: nvidia-nccl-cu12==2.21.5 in /mnt/7A80B36880B32991/swap/micromamba/envs/lerobot/lib/python3.10/site-packages (from torch>=1.8.0->ultralytics) (2.21.5)\n",
      "Requirement already satisfied: nvidia-nvtx-cu12==12.4.127 in /mnt/7A80B36880B32991/swap/micromamba/envs/lerobot/lib/python3.10/site-packages (from torch>=1.8.0->ultralytics) (12.4.127)\n",
      "Requirement already satisfied: nvidia-nvjitlink-cu12==12.4.127 in /mnt/7A80B36880B32991/swap/micromamba/envs/lerobot/lib/python3.10/site-packages (from torch>=1.8.0->ultralytics) (12.4.127)\n",
      "Requirement already satisfied: triton==3.2.0 in /mnt/7A80B36880B32991/swap/micromamba/envs/lerobot/lib/python3.10/site-packages (from torch>=1.8.0->ultralytics) (3.2.0)\n",
      "Requirement already satisfied: sympy==1.13.1 in /mnt/7A80B36880B32991/swap/micromamba/envs/lerobot/lib/python3.10/site-packages (from torch>=1.8.0->ultralytics) (1.13.1)\n",
      "Requirement already satisfied: mpmath<1.4,>=1.1.0 in /mnt/7A80B36880B32991/swap/micromamba/envs/lerobot/lib/python3.10/site-packages (from sympy==1.13.1->torch>=1.8.0->ultralytics) (1.3.0)\n"
     ]
    },
    {
     "name": "stdout",
     "output_type": "stream",
     "text": [
      "Requirement already satisfied: six>=1.5 in /mnt/7A80B36880B32991/swap/micromamba/envs/lerobot/lib/python3.10/site-packages (from python-dateutil>=2.7->matplotlib>=3.3.0->ultralytics) (1.16.0)\n",
      "Requirement already satisfied: MarkupSafe>=2.0 in /mnt/7A80B36880B32991/swap/micromamba/envs/lerobot/lib/python3.10/site-packages (from jinja2->torch>=1.8.0->ultralytics) (3.0.2)\n",
      "Downloading ultralytics-8.3.123-py3-none-any.whl (1.0 MB)\n",
      "\u001b[2K   \u001b[38;2;114;156;31m━━━━━━━━━━━━━━━━━━━━━━━━━━━━━━━━━━━━━━━━\u001b[0m \u001b[32m1.0/1.0 MB\u001b[0m \u001b[31m1.7 MB/s\u001b[0m eta \u001b[36m0:00:00\u001b[0m MB/s\u001b[0m eta \u001b[36m0:00:01\u001b[0m\n",
      "\u001b[?25hDownloading seaborn-0.13.2-py3-none-any.whl (294 kB)\n",
      "Downloading ultralytics_thop-2.0.14-py3-none-any.whl (26 kB)\n",
      "Downloading py_cpuinfo-9.0.0-py3-none-any.whl (22 kB)\n",
      "Installing collected packages: py-cpuinfo, seaborn, ultralytics-thop, ultralytics\n",
      "Successfully installed py-cpuinfo-9.0.0 seaborn-0.13.2 ultralytics-8.3.123 ultralytics-thop-2.0.14\n",
      "\n",
      "\u001b[1m[\u001b[0m\u001b[34;49mnotice\u001b[0m\u001b[1;39;49m]\u001b[0m\u001b[39;49m A new release of pip is available: \u001b[0m\u001b[31;49m24.3.1\u001b[0m\u001b[39;49m -> \u001b[0m\u001b[32;49m25.1\u001b[0m\n",
      "\u001b[1m[\u001b[0m\u001b[34;49mnotice\u001b[0m\u001b[1;39;49m]\u001b[0m\u001b[39;49m To update, run: \u001b[0m\u001b[32;49mpip install --upgrade pip\u001b[0m\n"
     ]
    }
   ],
   "source": [
    "!pip install ultralytics"
   ]
  },
  {
   "cell_type": "code",
   "execution_count": 2,
   "id": "028e552b",
   "metadata": {},
   "outputs": [
    {
     "name": "stdout",
     "output_type": "stream",
     "text": [
      "Creating new Ultralytics Settings v0.0.6 file ✅ \n",
      "View Ultralytics Settings with 'yolo settings' or at '/home/abawi/.config/Ultralytics/settings.json'\n",
      "Update Settings with 'yolo settings key=value', i.e. 'yolo settings runs_dir=path/to/dir'. For help see https://docs.ultralytics.com/quickstart/#ultralytics-settings.\n"
     ]
    }
   ],
   "source": [
    "from ultralytics import YOLO"
   ]
  },
  {
   "cell_type": "code",
   "execution_count": null,
   "id": "2dec886a",
   "metadata": {},
   "outputs": [
    {
     "name": "stdout",
     "output_type": "stream",
     "text": [
      "Ultralytics 8.3.123 🚀 Python-3.10.14 torch-2.6.0+cu124 CUDA:0 (NVIDIA GeForce RTX 3080 Ti, 12030MiB)\n",
      "\u001b[34m\u001b[1mengine/trainer: \u001b[0mtask=segment, mode=train, model=yolov9c-seg.pt, data=crack-seg.yaml, epochs=100, time=None, patience=100, batch=8, imgsz=640, save=True, save_period=-1, cache=False, device=None, workers=0, project=None, name=train, exist_ok=False, pretrained=True, optimizer=auto, verbose=True, seed=0, deterministic=True, single_cls=False, rect=False, cos_lr=False, close_mosaic=10, resume=False, amp=True, fraction=1.0, profile=False, freeze=10, multi_scale=False, overlap_mask=True, mask_ratio=4, dropout=0.0, val=True, split=val, save_json=False, conf=None, iou=0.7, max_det=300, half=False, dnn=False, plots=True, source=None, vid_stride=1, stream_buffer=False, visualize=False, augment=False, agnostic_nms=False, classes=None, retina_masks=False, embed=None, show=False, save_frames=False, save_txt=False, save_conf=False, save_crop=False, show_labels=True, show_conf=True, show_boxes=True, line_width=None, format=torchscript, keras=False, optimize=False, int8=False, dynamic=False, simplify=True, opset=None, workspace=None, nms=False, lr0=0.001, lrf=0.01, momentum=0.937, weight_decay=0.0005, warmup_epochs=3.0, warmup_momentum=0.8, warmup_bias_lr=0.1, box=7.5, cls=0.5, dfl=1.5, pose=12.0, kobj=1.0, nbs=64, hsv_h=0.015, hsv_s=0.7, hsv_v=0.4, degrees=0.0, translate=0.1, scale=0.5, shear=0.0, perspective=0.0, flipud=0.0, fliplr=0.5, bgr=0.0, mosaic=1.0, mixup=0.0, cutmix=0.0, copy_paste=0.0, copy_paste_mode=flip, auto_augment=randaugment, erasing=0.4, cfg=None, tracker=botsort.yaml, save_dir=runs/segment/train\n",
      "\n",
      "WARNING ⚠️ Dataset 'crack-seg.yaml' images not found, missing path '/media/abawi/Playground/PycharmProjects/clients/boxyz/notebooks/datasets/crack-seg/valid/images'\n",
      "Downloading https://ultralytics.com/assets/crack-seg.zip to '/media/abawi/Playground/PycharmProjects/clients/boxyz/notebooks/datasets/crack-seg.zip'...\n"
     ]
    },
    {
     "name": "stderr",
     "output_type": "stream",
     "text": [
      "100%|██████████| 91.1M/91.1M [00:22<00:00, 4.20MB/s]\n",
      "Unzipping /media/abawi/Playground/PycharmProjects/clients/boxyz/notebooks/datasets/crack-seg.zip to /media/abawi/Playground/PycharmProjects/clients/boxyz/notebooks/datasets/crack-seg...: 100%|██████████| 8061/8061 [00:01<00:00, 5427.54file/s]"
     ]
    },
    {
     "name": "stdout",
     "output_type": "stream",
     "text": [
      "Dataset download success ✅ (25.4s), saved to \u001b[1m/media/abawi/Playground/PycharmProjects/clients/boxyz/notebooks/datasets\u001b[0m\n",
      "\n"
     ]
    },
    {
     "name": "stderr",
     "output_type": "stream",
     "text": [
      "\n"
     ]
    },
    {
     "name": "stdout",
     "output_type": "stream",
     "text": [
      "Overriding model.yaml nc=80 with nc=1\n",
      "\n",
      "                   from  n    params  module                                       arguments                     \n",
      "  0                  -1  1      1856  ultralytics.nn.modules.conv.Conv             [3, 64, 3, 2]                 \n",
      "  1                  -1  1     73984  ultralytics.nn.modules.conv.Conv             [64, 128, 3, 2]               \n",
      "  2                  -1  1    212864  ultralytics.nn.modules.block.RepNCSPELAN4    [128, 256, 128, 64, 1]        \n",
      "  3                  -1  1    164352  ultralytics.nn.modules.block.ADown           [256, 256]                    \n",
      "  4                  -1  1    847616  ultralytics.nn.modules.block.RepNCSPELAN4    [256, 512, 256, 128, 1]       \n",
      "  5                  -1  1    656384  ultralytics.nn.modules.block.ADown           [512, 512]                    \n",
      "  6                  -1  1   2857472  ultralytics.nn.modules.block.RepNCSPELAN4    [512, 512, 512, 256, 1]       \n",
      "  7                  -1  1    656384  ultralytics.nn.modules.block.ADown           [512, 512]                    \n",
      "  8                  -1  1   2857472  ultralytics.nn.modules.block.RepNCSPELAN4    [512, 512, 512, 256, 1]       \n",
      "  9                  -1  1    656896  ultralytics.nn.modules.block.SPPELAN         [512, 512, 256]               \n",
      " 10                  -1  1         0  torch.nn.modules.upsampling.Upsample         [None, 2, 'nearest']          \n",
      " 11             [-1, 6]  1         0  ultralytics.nn.modules.conv.Concat           [1]                           \n",
      " 12                  -1  1   3119616  ultralytics.nn.modules.block.RepNCSPELAN4    [1024, 512, 512, 256, 1]      \n",
      " 13                  -1  1         0  torch.nn.modules.upsampling.Upsample         [None, 2, 'nearest']          \n",
      " 14             [-1, 4]  1         0  ultralytics.nn.modules.conv.Concat           [1]                           \n",
      " 15                  -1  1    912640  ultralytics.nn.modules.block.RepNCSPELAN4    [1024, 256, 256, 128, 1]      \n",
      " 16                  -1  1    164352  ultralytics.nn.modules.block.ADown           [256, 256]                    \n",
      " 17            [-1, 12]  1         0  ultralytics.nn.modules.conv.Concat           [1]                           \n",
      " 18                  -1  1   2988544  ultralytics.nn.modules.block.RepNCSPELAN4    [768, 512, 512, 256, 1]       \n",
      " 19                  -1  1    656384  ultralytics.nn.modules.block.ADown           [512, 512]                    \n",
      " 20             [-1, 9]  1         0  ultralytics.nn.modules.conv.Concat           [1]                           \n",
      " 21                  -1  1   3119616  ultralytics.nn.modules.block.RepNCSPELAN4    [1024, 512, 512, 256, 1]      \n",
      " 22        [15, 18, 21]  1   7889779  ultralytics.nn.modules.head.Segment          [1, 32, 256, [256, 512, 512]] \n",
      "YOLOv9c-seg summary: 380 layers, 27,836,211 parameters, 27,836,195 gradients, 159.1 GFLOPs\n",
      "\n",
      "Transferred 993/999 items from pretrained weights\n",
      "Freezing layer 'model.0.conv.weight'\n",
      "Freezing layer 'model.0.bn.weight'\n",
      "Freezing layer 'model.0.bn.bias'\n",
      "Freezing layer 'model.1.conv.weight'\n",
      "Freezing layer 'model.1.bn.weight'\n",
      "Freezing layer 'model.1.bn.bias'\n",
      "Freezing layer 'model.2.cv1.conv.weight'\n",
      "Freezing layer 'model.2.cv1.bn.weight'\n",
      "Freezing layer 'model.2.cv1.bn.bias'\n",
      "Freezing layer 'model.2.cv2.0.cv1.conv.weight'\n",
      "Freezing layer 'model.2.cv2.0.cv1.bn.weight'\n",
      "Freezing layer 'model.2.cv2.0.cv1.bn.bias'\n",
      "Freezing layer 'model.2.cv2.0.cv2.conv.weight'\n",
      "Freezing layer 'model.2.cv2.0.cv2.bn.weight'\n",
      "Freezing layer 'model.2.cv2.0.cv2.bn.bias'\n",
      "Freezing layer 'model.2.cv2.0.cv3.conv.weight'\n",
      "Freezing layer 'model.2.cv2.0.cv3.bn.weight'\n",
      "Freezing layer 'model.2.cv2.0.cv3.bn.bias'\n",
      "Freezing layer 'model.2.cv2.0.m.0.cv1.conv1.conv.weight'\n",
      "Freezing layer 'model.2.cv2.0.m.0.cv1.conv1.bn.weight'\n",
      "Freezing layer 'model.2.cv2.0.m.0.cv1.conv1.bn.bias'\n",
      "Freezing layer 'model.2.cv2.0.m.0.cv1.conv2.conv.weight'\n",
      "Freezing layer 'model.2.cv2.0.m.0.cv1.conv2.bn.weight'\n",
      "Freezing layer 'model.2.cv2.0.m.0.cv1.conv2.bn.bias'\n",
      "Freezing layer 'model.2.cv2.0.m.0.cv2.conv.weight'\n",
      "Freezing layer 'model.2.cv2.0.m.0.cv2.bn.weight'\n",
      "Freezing layer 'model.2.cv2.0.m.0.cv2.bn.bias'\n",
      "Freezing layer 'model.2.cv2.1.conv.weight'\n",
      "Freezing layer 'model.2.cv2.1.bn.weight'\n",
      "Freezing layer 'model.2.cv2.1.bn.bias'\n",
      "Freezing layer 'model.2.cv3.0.cv1.conv.weight'\n",
      "Freezing layer 'model.2.cv3.0.cv1.bn.weight'\n",
      "Freezing layer 'model.2.cv3.0.cv1.bn.bias'\n",
      "Freezing layer 'model.2.cv3.0.cv2.conv.weight'\n",
      "Freezing layer 'model.2.cv3.0.cv2.bn.weight'\n",
      "Freezing layer 'model.2.cv3.0.cv2.bn.bias'\n",
      "Freezing layer 'model.2.cv3.0.cv3.conv.weight'\n",
      "Freezing layer 'model.2.cv3.0.cv3.bn.weight'\n",
      "Freezing layer 'model.2.cv3.0.cv3.bn.bias'\n",
      "Freezing layer 'model.2.cv3.0.m.0.cv1.conv1.conv.weight'\n",
      "Freezing layer 'model.2.cv3.0.m.0.cv1.conv1.bn.weight'\n",
      "Freezing layer 'model.2.cv3.0.m.0.cv1.conv1.bn.bias'\n",
      "Freezing layer 'model.2.cv3.0.m.0.cv1.conv2.conv.weight'\n",
      "Freezing layer 'model.2.cv3.0.m.0.cv1.conv2.bn.weight'\n",
      "Freezing layer 'model.2.cv3.0.m.0.cv1.conv2.bn.bias'\n",
      "Freezing layer 'model.2.cv3.0.m.0.cv2.conv.weight'\n",
      "Freezing layer 'model.2.cv3.0.m.0.cv2.bn.weight'\n",
      "Freezing layer 'model.2.cv3.0.m.0.cv2.bn.bias'\n",
      "Freezing layer 'model.2.cv3.1.conv.weight'\n",
      "Freezing layer 'model.2.cv3.1.bn.weight'\n",
      "Freezing layer 'model.2.cv3.1.bn.bias'\n",
      "Freezing layer 'model.2.cv4.conv.weight'\n",
      "Freezing layer 'model.2.cv4.bn.weight'\n",
      "Freezing layer 'model.2.cv4.bn.bias'\n",
      "Freezing layer 'model.3.cv1.conv.weight'\n",
      "Freezing layer 'model.3.cv1.bn.weight'\n",
      "Freezing layer 'model.3.cv1.bn.bias'\n",
      "Freezing layer 'model.3.cv2.conv.weight'\n",
      "Freezing layer 'model.3.cv2.bn.weight'\n",
      "Freezing layer 'model.3.cv2.bn.bias'\n",
      "Freezing layer 'model.4.cv1.conv.weight'\n",
      "Freezing layer 'model.4.cv1.bn.weight'\n",
      "Freezing layer 'model.4.cv1.bn.bias'\n",
      "Freezing layer 'model.4.cv2.0.cv1.conv.weight'\n",
      "Freezing layer 'model.4.cv2.0.cv1.bn.weight'\n",
      "Freezing layer 'model.4.cv2.0.cv1.bn.bias'\n",
      "Freezing layer 'model.4.cv2.0.cv2.conv.weight'\n",
      "Freezing layer 'model.4.cv2.0.cv2.bn.weight'\n",
      "Freezing layer 'model.4.cv2.0.cv2.bn.bias'\n",
      "Freezing layer 'model.4.cv2.0.cv3.conv.weight'\n",
      "Freezing layer 'model.4.cv2.0.cv3.bn.weight'\n",
      "Freezing layer 'model.4.cv2.0.cv3.bn.bias'\n",
      "Freezing layer 'model.4.cv2.0.m.0.cv1.conv1.conv.weight'\n",
      "Freezing layer 'model.4.cv2.0.m.0.cv1.conv1.bn.weight'\n",
      "Freezing layer 'model.4.cv2.0.m.0.cv1.conv1.bn.bias'\n",
      "Freezing layer 'model.4.cv2.0.m.0.cv1.conv2.conv.weight'\n",
      "Freezing layer 'model.4.cv2.0.m.0.cv1.conv2.bn.weight'\n",
      "Freezing layer 'model.4.cv2.0.m.0.cv1.conv2.bn.bias'\n",
      "Freezing layer 'model.4.cv2.0.m.0.cv2.conv.weight'\n",
      "Freezing layer 'model.4.cv2.0.m.0.cv2.bn.weight'\n",
      "Freezing layer 'model.4.cv2.0.m.0.cv2.bn.bias'\n",
      "Freezing layer 'model.4.cv2.1.conv.weight'\n",
      "Freezing layer 'model.4.cv2.1.bn.weight'\n",
      "Freezing layer 'model.4.cv2.1.bn.bias'\n",
      "Freezing layer 'model.4.cv3.0.cv1.conv.weight'\n",
      "Freezing layer 'model.4.cv3.0.cv1.bn.weight'\n",
      "Freezing layer 'model.4.cv3.0.cv1.bn.bias'\n",
      "Freezing layer 'model.4.cv3.0.cv2.conv.weight'\n",
      "Freezing layer 'model.4.cv3.0.cv2.bn.weight'\n",
      "Freezing layer 'model.4.cv3.0.cv2.bn.bias'\n",
      "Freezing layer 'model.4.cv3.0.cv3.conv.weight'\n",
      "Freezing layer 'model.4.cv3.0.cv3.bn.weight'\n",
      "Freezing layer 'model.4.cv3.0.cv3.bn.bias'\n",
      "Freezing layer 'model.4.cv3.0.m.0.cv1.conv1.conv.weight'\n",
      "Freezing layer 'model.4.cv3.0.m.0.cv1.conv1.bn.weight'\n",
      "Freezing layer 'model.4.cv3.0.m.0.cv1.conv1.bn.bias'\n",
      "Freezing layer 'model.4.cv3.0.m.0.cv1.conv2.conv.weight'\n",
      "Freezing layer 'model.4.cv3.0.m.0.cv1.conv2.bn.weight'\n",
      "Freezing layer 'model.4.cv3.0.m.0.cv1.conv2.bn.bias'\n",
      "Freezing layer 'model.4.cv3.0.m.0.cv2.conv.weight'\n",
      "Freezing layer 'model.4.cv3.0.m.0.cv2.bn.weight'\n",
      "Freezing layer 'model.4.cv3.0.m.0.cv2.bn.bias'\n",
      "Freezing layer 'model.4.cv3.1.conv.weight'\n",
      "Freezing layer 'model.4.cv3.1.bn.weight'\n",
      "Freezing layer 'model.4.cv3.1.bn.bias'\n",
      "Freezing layer 'model.4.cv4.conv.weight'\n",
      "Freezing layer 'model.4.cv4.bn.weight'\n",
      "Freezing layer 'model.4.cv4.bn.bias'\n",
      "Freezing layer 'model.5.cv1.conv.weight'\n",
      "Freezing layer 'model.5.cv1.bn.weight'\n",
      "Freezing layer 'model.5.cv1.bn.bias'\n",
      "Freezing layer 'model.5.cv2.conv.weight'\n",
      "Freezing layer 'model.5.cv2.bn.weight'\n",
      "Freezing layer 'model.5.cv2.bn.bias'\n",
      "Freezing layer 'model.6.cv1.conv.weight'\n",
      "Freezing layer 'model.6.cv1.bn.weight'\n",
      "Freezing layer 'model.6.cv1.bn.bias'\n"
     ]
    },
    {
     "name": "stdout",
     "output_type": "stream",
     "text": [
      "Freezing layer 'model.6.cv2.0.cv1.conv.weight'\n",
      "Freezing layer 'model.6.cv2.0.cv1.bn.weight'\n",
      "Freezing layer 'model.6.cv2.0.cv1.bn.bias'\n",
      "Freezing layer 'model.6.cv2.0.cv2.conv.weight'\n",
      "Freezing layer 'model.6.cv2.0.cv2.bn.weight'\n",
      "Freezing layer 'model.6.cv2.0.cv2.bn.bias'\n",
      "Freezing layer 'model.6.cv2.0.cv3.conv.weight'\n",
      "Freezing layer 'model.6.cv2.0.cv3.bn.weight'\n",
      "Freezing layer 'model.6.cv2.0.cv3.bn.bias'\n",
      "Freezing layer 'model.6.cv2.0.m.0.cv1.conv1.conv.weight'\n",
      "Freezing layer 'model.6.cv2.0.m.0.cv1.conv1.bn.weight'\n",
      "Freezing layer 'model.6.cv2.0.m.0.cv1.conv1.bn.bias'\n",
      "Freezing layer 'model.6.cv2.0.m.0.cv1.conv2.conv.weight'\n",
      "Freezing layer 'model.6.cv2.0.m.0.cv1.conv2.bn.weight'\n",
      "Freezing layer 'model.6.cv2.0.m.0.cv1.conv2.bn.bias'\n",
      "Freezing layer 'model.6.cv2.0.m.0.cv2.conv.weight'\n",
      "Freezing layer 'model.6.cv2.0.m.0.cv2.bn.weight'\n",
      "Freezing layer 'model.6.cv2.0.m.0.cv2.bn.bias'\n",
      "Freezing layer 'model.6.cv2.1.conv.weight'\n",
      "Freezing layer 'model.6.cv2.1.bn.weight'\n",
      "Freezing layer 'model.6.cv2.1.bn.bias'\n",
      "Freezing layer 'model.6.cv3.0.cv1.conv.weight'\n",
      "Freezing layer 'model.6.cv3.0.cv1.bn.weight'\n",
      "Freezing layer 'model.6.cv3.0.cv1.bn.bias'\n",
      "Freezing layer 'model.6.cv3.0.cv2.conv.weight'\n",
      "Freezing layer 'model.6.cv3.0.cv2.bn.weight'\n",
      "Freezing layer 'model.6.cv3.0.cv2.bn.bias'\n",
      "Freezing layer 'model.6.cv3.0.cv3.conv.weight'\n",
      "Freezing layer 'model.6.cv3.0.cv3.bn.weight'\n",
      "Freezing layer 'model.6.cv3.0.cv3.bn.bias'\n",
      "Freezing layer 'model.6.cv3.0.m.0.cv1.conv1.conv.weight'\n",
      "Freezing layer 'model.6.cv3.0.m.0.cv1.conv1.bn.weight'\n",
      "Freezing layer 'model.6.cv3.0.m.0.cv1.conv1.bn.bias'\n",
      "Freezing layer 'model.6.cv3.0.m.0.cv1.conv2.conv.weight'\n",
      "Freezing layer 'model.6.cv3.0.m.0.cv1.conv2.bn.weight'\n",
      "Freezing layer 'model.6.cv3.0.m.0.cv1.conv2.bn.bias'\n",
      "Freezing layer 'model.6.cv3.0.m.0.cv2.conv.weight'\n",
      "Freezing layer 'model.6.cv3.0.m.0.cv2.bn.weight'\n",
      "Freezing layer 'model.6.cv3.0.m.0.cv2.bn.bias'\n",
      "Freezing layer 'model.6.cv3.1.conv.weight'\n",
      "Freezing layer 'model.6.cv3.1.bn.weight'\n",
      "Freezing layer 'model.6.cv3.1.bn.bias'\n",
      "Freezing layer 'model.6.cv4.conv.weight'\n",
      "Freezing layer 'model.6.cv4.bn.weight'\n",
      "Freezing layer 'model.6.cv4.bn.bias'\n",
      "Freezing layer 'model.7.cv1.conv.weight'\n",
      "Freezing layer 'model.7.cv1.bn.weight'\n",
      "Freezing layer 'model.7.cv1.bn.bias'\n",
      "Freezing layer 'model.7.cv2.conv.weight'\n",
      "Freezing layer 'model.7.cv2.bn.weight'\n",
      "Freezing layer 'model.7.cv2.bn.bias'\n",
      "Freezing layer 'model.8.cv1.conv.weight'\n",
      "Freezing layer 'model.8.cv1.bn.weight'\n",
      "Freezing layer 'model.8.cv1.bn.bias'\n",
      "Freezing layer 'model.8.cv2.0.cv1.conv.weight'\n",
      "Freezing layer 'model.8.cv2.0.cv1.bn.weight'\n",
      "Freezing layer 'model.8.cv2.0.cv1.bn.bias'\n",
      "Freezing layer 'model.8.cv2.0.cv2.conv.weight'\n",
      "Freezing layer 'model.8.cv2.0.cv2.bn.weight'\n",
      "Freezing layer 'model.8.cv2.0.cv2.bn.bias'\n",
      "Freezing layer 'model.8.cv2.0.cv3.conv.weight'\n",
      "Freezing layer 'model.8.cv2.0.cv3.bn.weight'\n",
      "Freezing layer 'model.8.cv2.0.cv3.bn.bias'\n",
      "Freezing layer 'model.8.cv2.0.m.0.cv1.conv1.conv.weight'\n",
      "Freezing layer 'model.8.cv2.0.m.0.cv1.conv1.bn.weight'\n",
      "Freezing layer 'model.8.cv2.0.m.0.cv1.conv1.bn.bias'\n",
      "Freezing layer 'model.8.cv2.0.m.0.cv1.conv2.conv.weight'\n",
      "Freezing layer 'model.8.cv2.0.m.0.cv1.conv2.bn.weight'\n",
      "Freezing layer 'model.8.cv2.0.m.0.cv1.conv2.bn.bias'\n",
      "Freezing layer 'model.8.cv2.0.m.0.cv2.conv.weight'\n",
      "Freezing layer 'model.8.cv2.0.m.0.cv2.bn.weight'\n",
      "Freezing layer 'model.8.cv2.0.m.0.cv2.bn.bias'\n",
      "Freezing layer 'model.8.cv2.1.conv.weight'\n",
      "Freezing layer 'model.8.cv2.1.bn.weight'\n",
      "Freezing layer 'model.8.cv2.1.bn.bias'\n",
      "Freezing layer 'model.8.cv3.0.cv1.conv.weight'\n",
      "Freezing layer 'model.8.cv3.0.cv1.bn.weight'\n",
      "Freezing layer 'model.8.cv3.0.cv1.bn.bias'\n",
      "Freezing layer 'model.8.cv3.0.cv2.conv.weight'\n",
      "Freezing layer 'model.8.cv3.0.cv2.bn.weight'\n",
      "Freezing layer 'model.8.cv3.0.cv2.bn.bias'\n",
      "Freezing layer 'model.8.cv3.0.cv3.conv.weight'\n",
      "Freezing layer 'model.8.cv3.0.cv3.bn.weight'\n",
      "Freezing layer 'model.8.cv3.0.cv3.bn.bias'\n",
      "Freezing layer 'model.8.cv3.0.m.0.cv1.conv1.conv.weight'\n",
      "Freezing layer 'model.8.cv3.0.m.0.cv1.conv1.bn.weight'\n",
      "Freezing layer 'model.8.cv3.0.m.0.cv1.conv1.bn.bias'\n",
      "Freezing layer 'model.8.cv3.0.m.0.cv1.conv2.conv.weight'\n",
      "Freezing layer 'model.8.cv3.0.m.0.cv1.conv2.bn.weight'\n",
      "Freezing layer 'model.8.cv3.0.m.0.cv1.conv2.bn.bias'\n",
      "Freezing layer 'model.8.cv3.0.m.0.cv2.conv.weight'\n",
      "Freezing layer 'model.8.cv3.0.m.0.cv2.bn.weight'\n",
      "Freezing layer 'model.8.cv3.0.m.0.cv2.bn.bias'\n",
      "Freezing layer 'model.8.cv3.1.conv.weight'\n",
      "Freezing layer 'model.8.cv3.1.bn.weight'\n",
      "Freezing layer 'model.8.cv3.1.bn.bias'\n",
      "Freezing layer 'model.8.cv4.conv.weight'\n",
      "Freezing layer 'model.8.cv4.bn.weight'\n",
      "Freezing layer 'model.8.cv4.bn.bias'\n",
      "Freezing layer 'model.9.cv1.conv.weight'\n",
      "Freezing layer 'model.9.cv1.bn.weight'\n",
      "Freezing layer 'model.9.cv1.bn.bias'\n",
      "Freezing layer 'model.9.cv5.conv.weight'\n",
      "Freezing layer 'model.9.cv5.bn.weight'\n",
      "Freezing layer 'model.9.cv5.bn.bias'\n",
      "Freezing layer 'model.22.dfl.conv.weight'\n",
      "\u001b[34m\u001b[1mAMP: \u001b[0mrunning Automatic Mixed Precision (AMP) checks...\n",
      "Downloading https://github.com/ultralytics/assets/releases/download/v8.3.0/yolo11n.pt to 'yolo11n.pt'...\n"
     ]
    },
    {
     "name": "stderr",
     "output_type": "stream",
     "text": [
      "100%|██████████| 5.35M/5.35M [00:01<00:00, 4.24MB/s]\n"
     ]
    },
    {
     "name": "stdout",
     "output_type": "stream",
     "text": [
      "\u001b[34m\u001b[1mAMP: \u001b[0mchecks passed ✅\n",
      "\u001b[34m\u001b[1mtrain: \u001b[0mFast image access ✅ (ping: 0.0±0.0 ms, read: 1369.1±674.0 MB/s, size: 20.3 KB)\n"
     ]
    },
    {
     "name": "stderr",
     "output_type": "stream",
     "text": [
      "\u001b[34m\u001b[1mtrain: \u001b[0mScanning /media/abawi/Playground/PycharmProjects/clients/boxyz/notebooks/datasets/crack-seg/train/labels... 3717 images, 0 backgrounds, 0 corrupt: 100%|██████████| 3717/3717 [00:01<00:00, 2203.02it/s]"
     ]
    },
    {
     "name": "stdout",
     "output_type": "stream",
     "text": [
      "\u001b[34m\u001b[1mtrain: \u001b[0mNew cache created: /media/abawi/Playground/PycharmProjects/clients/boxyz/notebooks/datasets/crack-seg/train/labels.cache\n"
     ]
    },
    {
     "name": "stderr",
     "output_type": "stream",
     "text": [
      "\n"
     ]
    },
    {
     "name": "stdout",
     "output_type": "stream",
     "text": [
      "\u001b[34m\u001b[1malbumentations: \u001b[0mBlur(p=0.01, blur_limit=(3, 7)), MedianBlur(p=0.01, blur_limit=(3, 7)), ToGray(p=0.01, num_output_channels=3, method='weighted_average'), CLAHE(p=0.01, clip_limit=(1.0, 4.0), tile_grid_size=(8, 8))\n",
      "\u001b[34m\u001b[1mval: \u001b[0mFast image access ✅ (ping: 0.0±0.0 ms, read: 1267.5±619.0 MB/s, size: 15.1 KB)\n"
     ]
    },
    {
     "name": "stderr",
     "output_type": "stream",
     "text": [
      "\u001b[34m\u001b[1mval: \u001b[0mScanning /media/abawi/Playground/PycharmProjects/clients/boxyz/notebooks/datasets/crack-seg/valid/labels... 200 images, 1 backgrounds, 0 corrupt: 100%|██████████| 200/200 [00:00<00:00, 2199.71it/s]"
     ]
    },
    {
     "name": "stdout",
     "output_type": "stream",
     "text": [
      "\u001b[34m\u001b[1mval: \u001b[0mNew cache created: /media/abawi/Playground/PycharmProjects/clients/boxyz/notebooks/datasets/crack-seg/valid/labels.cache\n"
     ]
    },
    {
     "name": "stderr",
     "output_type": "stream",
     "text": [
      "\n"
     ]
    },
    {
     "name": "stdout",
     "output_type": "stream",
     "text": [
      "Plotting labels to runs/segment/train/labels.jpg... \n",
      "\u001b[34m\u001b[1moptimizer:\u001b[0m 'optimizer=auto' found, ignoring 'lr0=0.001' and 'momentum=0.937' and determining best 'optimizer', 'lr0' and 'momentum' automatically... \n",
      "\u001b[34m\u001b[1moptimizer:\u001b[0m AdamW(lr=0.002, momentum=0.9) with parameter groups 163 weight(decay=0.0), 174 weight(decay=0.0005), 173 bias(decay=0.0)\n",
      "Image sizes 640 train, 640 val\n",
      "Using 0 dataloader workers\n",
      "Logging results to \u001b[1mruns/segment/train\u001b[0m\n",
      "Starting training for 100 epochs...\n",
      "\n",
      "      Epoch    GPU_mem   box_loss   seg_loss   cls_loss   dfl_loss  Instances       Size\n"
     ]
    },
    {
     "name": "stderr",
     "output_type": "stream",
     "text": [
      "      1/100      3.15G      1.716      1.866      1.861      1.605         13        640: 100%|██████████| 465/465 [02:23<00:00,  3.24it/s]\n",
      "                 Class     Images  Instances      Box(P          R      mAP50  mAP50-95)     Mask(P          R      mAP50  mAP50-95): 100%|██████████| 13/13 [00:03<00:00,  3.66it/s]"
     ]
    },
    {
     "name": "stdout",
     "output_type": "stream",
     "text": [
      "                   all        200        249      0.147      0.382        0.1     0.0304     0.0846      0.289     0.0408    0.00914\n"
     ]
    },
    {
     "name": "stderr",
     "output_type": "stream",
     "text": [
      "\n"
     ]
    },
    {
     "name": "stdout",
     "output_type": "stream",
     "text": [
      "\n",
      "      Epoch    GPU_mem   box_loss   seg_loss   cls_loss   dfl_loss  Instances       Size\n"
     ]
    },
    {
     "name": "stderr",
     "output_type": "stream",
     "text": [
      "      2/100      4.41G      1.635      1.719      1.607      1.522         14        640: 100%|██████████| 465/465 [02:09<00:00,  3.59it/s]\n",
      "                 Class     Images  Instances      Box(P          R      mAP50  mAP50-95)     Mask(P          R      mAP50  mAP50-95): 100%|██████████| 13/13 [00:03<00:00,  3.63it/s]"
     ]
    },
    {
     "name": "stdout",
     "output_type": "stream",
     "text": [
      "                   all        200        249       0.33      0.614      0.283      0.113      0.261      0.546      0.187     0.0453\n"
     ]
    },
    {
     "name": "stderr",
     "output_type": "stream",
     "text": [
      "\n"
     ]
    },
    {
     "name": "stdout",
     "output_type": "stream",
     "text": [
      "\n",
      "      Epoch    GPU_mem   box_loss   seg_loss   cls_loss   dfl_loss  Instances       Size\n"
     ]
    },
    {
     "name": "stderr",
     "output_type": "stream",
     "text": [
      "      3/100      4.47G      1.461      1.659      1.437      1.422         13        640: 100%|██████████| 465/465 [02:09<00:00,  3.59it/s]\n",
      "                 Class     Images  Instances      Box(P          R      mAP50  mAP50-95)     Mask(P          R      mAP50  mAP50-95): 100%|██████████| 13/13 [00:03<00:00,  3.64it/s]"
     ]
    },
    {
     "name": "stdout",
     "output_type": "stream",
     "text": [
      "                   all        200        249      0.406      0.562      0.345      0.135      0.354      0.495      0.234     0.0681\n"
     ]
    },
    {
     "name": "stderr",
     "output_type": "stream",
     "text": [
      "\n"
     ]
    },
    {
     "name": "stdout",
     "output_type": "stream",
     "text": [
      "\n",
      "      Epoch    GPU_mem   box_loss   seg_loss   cls_loss   dfl_loss  Instances       Size\n"
     ]
    },
    {
     "name": "stderr",
     "output_type": "stream",
     "text": [
      "      4/100      4.53G      1.346      1.642      1.297      1.338         15        640: 100%|██████████| 465/465 [02:16<00:00,  3.40it/s]\n",
      "                 Class     Images  Instances      Box(P          R      mAP50  mAP50-95)     Mask(P          R      mAP50  mAP50-95): 100%|██████████| 13/13 [00:04<00:00,  3.21it/s]"
     ]
    },
    {
     "name": "stdout",
     "output_type": "stream",
     "text": [
      "                   all        200        249      0.609      0.627      0.548      0.264      0.516      0.492      0.376      0.105\n"
     ]
    },
    {
     "name": "stderr",
     "output_type": "stream",
     "text": [
      "\n"
     ]
    },
    {
     "name": "stdout",
     "output_type": "stream",
     "text": [
      "\n",
      "      Epoch    GPU_mem   box_loss   seg_loss   cls_loss   dfl_loss  Instances       Size\n"
     ]
    },
    {
     "name": "stderr",
     "output_type": "stream",
     "text": [
      "      5/100      4.59G      1.275      1.593      1.241       1.31         11        640: 100%|██████████| 465/465 [02:18<00:00,  3.35it/s]\n",
      "                 Class     Images  Instances      Box(P          R      mAP50  mAP50-95)     Mask(P          R      mAP50  mAP50-95): 100%|██████████| 13/13 [00:03<00:00,  3.59it/s]"
     ]
    },
    {
     "name": "stdout",
     "output_type": "stream",
     "text": [
      "                   all        200        249       0.64      0.643      0.607      0.332      0.553      0.538       0.44      0.134\n"
     ]
    },
    {
     "name": "stderr",
     "output_type": "stream",
     "text": [
      "\n"
     ]
    },
    {
     "name": "stdout",
     "output_type": "stream",
     "text": [
      "\n",
      "      Epoch    GPU_mem   box_loss   seg_loss   cls_loss   dfl_loss  Instances       Size\n"
     ]
    },
    {
     "name": "stderr",
     "output_type": "stream",
     "text": [
      "      6/100      4.65G      1.209      1.583      1.168      1.267         14        640: 100%|██████████| 465/465 [02:20<00:00,  3.30it/s]\n",
      "                 Class     Images  Instances      Box(P          R      mAP50  mAP50-95)     Mask(P          R      mAP50  mAP50-95): 100%|██████████| 13/13 [00:03<00:00,  3.35it/s]"
     ]
    },
    {
     "name": "stdout",
     "output_type": "stream",
     "text": [
      "                   all        200        249       0.71      0.691      0.665      0.401      0.587      0.582      0.499      0.151\n"
     ]
    },
    {
     "name": "stderr",
     "output_type": "stream",
     "text": [
      "\n"
     ]
    },
    {
     "name": "stdout",
     "output_type": "stream",
     "text": [
      "\n",
      "      Epoch    GPU_mem   box_loss   seg_loss   cls_loss   dfl_loss  Instances       Size\n"
     ]
    },
    {
     "name": "stderr",
     "output_type": "stream",
     "text": [
      "      7/100      4.71G      1.158       1.56      1.109      1.238         11        640: 100%|██████████| 465/465 [02:17<00:00,  3.38it/s]\n",
      "                 Class     Images  Instances      Box(P          R      mAP50  mAP50-95)     Mask(P          R      mAP50  mAP50-95): 100%|██████████| 13/13 [00:03<00:00,  3.39it/s]"
     ]
    },
    {
     "name": "stdout",
     "output_type": "stream",
     "text": [
      "                   all        200        249      0.539      0.703      0.556      0.313       0.45      0.606      0.395      0.127\n"
     ]
    },
    {
     "name": "stderr",
     "output_type": "stream",
     "text": [
      "\n"
     ]
    },
    {
     "name": "stdout",
     "output_type": "stream",
     "text": [
      "\n",
      "      Epoch    GPU_mem   box_loss   seg_loss   cls_loss   dfl_loss  Instances       Size\n"
     ]
    },
    {
     "name": "stderr",
     "output_type": "stream",
     "text": [
      "      8/100      4.77G      1.119      1.537      1.067      1.225         14        640: 100%|██████████| 465/465 [02:18<00:00,  3.35it/s]\n",
      "                 Class     Images  Instances      Box(P          R      mAP50  mAP50-95)     Mask(P          R      mAP50  mAP50-95): 100%|██████████| 13/13 [00:03<00:00,  3.29it/s]"
     ]
    },
    {
     "name": "stdout",
     "output_type": "stream",
     "text": [
      "                   all        200        249      0.613      0.667      0.552      0.319      0.521      0.566      0.412      0.126\n"
     ]
    },
    {
     "name": "stderr",
     "output_type": "stream",
     "text": [
      "\n"
     ]
    },
    {
     "name": "stdout",
     "output_type": "stream",
     "text": [
      "\n",
      "      Epoch    GPU_mem   box_loss   seg_loss   cls_loss   dfl_loss  Instances       Size\n"
     ]
    },
    {
     "name": "stderr",
     "output_type": "stream",
     "text": [
      "      9/100      4.81G      1.091      1.509      1.033      1.208          8        640: 100%|██████████| 465/465 [02:11<00:00,  3.52it/s]\n",
      "                 Class     Images  Instances      Box(P          R      mAP50  mAP50-95)     Mask(P          R      mAP50  mAP50-95): 100%|██████████| 13/13 [00:03<00:00,  3.56it/s]"
     ]
    },
    {
     "name": "stdout",
     "output_type": "stream",
     "text": [
      "                   all        200        249      0.709      0.699      0.647       0.38      0.642      0.632      0.529      0.168\n"
     ]
    },
    {
     "name": "stderr",
     "output_type": "stream",
     "text": [
      "\n"
     ]
    },
    {
     "name": "stdout",
     "output_type": "stream",
     "text": [
      "\n",
      "      Epoch    GPU_mem   box_loss   seg_loss   cls_loss   dfl_loss  Instances       Size\n"
     ]
    },
    {
     "name": "stderr",
     "output_type": "stream",
     "text": [
      "     10/100      4.88G      1.072      1.515      1.022      1.203         18        640: 100%|██████████| 465/465 [02:18<00:00,  3.36it/s]\n",
      "                 Class     Images  Instances      Box(P          R      mAP50  mAP50-95)     Mask(P          R      mAP50  mAP50-95): 100%|██████████| 13/13 [00:03<00:00,  3.55it/s]"
     ]
    },
    {
     "name": "stdout",
     "output_type": "stream",
     "text": [
      "                   all        200        249      0.755      0.693      0.695      0.459      0.654      0.599      0.543       0.18\n"
     ]
    },
    {
     "name": "stderr",
     "output_type": "stream",
     "text": [
      "\n"
     ]
    },
    {
     "name": "stdout",
     "output_type": "stream",
     "text": [
      "\n",
      "      Epoch    GPU_mem   box_loss   seg_loss   cls_loss   dfl_loss  Instances       Size\n"
     ]
    },
    {
     "name": "stderr",
     "output_type": "stream",
     "text": [
      "     11/100      4.95G      1.052      1.521     0.9651      1.187         16        640: 100%|██████████| 465/465 [02:19<00:00,  3.33it/s]\n",
      "                 Class     Images  Instances      Box(P          R      mAP50  mAP50-95)     Mask(P          R      mAP50  mAP50-95): 100%|██████████| 13/13 [00:03<00:00,  3.39it/s]\n"
     ]
    },
    {
     "name": "stdout",
     "output_type": "stream",
     "text": [
      "                   all        200        249      0.767      0.636      0.678      0.447      0.671      0.556      0.538      0.171\n",
      "\n",
      "      Epoch    GPU_mem   box_loss   seg_loss   cls_loss   dfl_loss  Instances       Size\n"
     ]
    },
    {
     "name": "stderr",
     "output_type": "stream",
     "text": [
      "     12/100      5.01G      1.018      1.496     0.9739      1.171          7        640: 100%|██████████| 465/465 [02:16<00:00,  3.41it/s]\n",
      "                 Class     Images  Instances      Box(P          R      mAP50  mAP50-95)     Mask(P          R      mAP50  mAP50-95): 100%|██████████| 13/13 [00:03<00:00,  3.29it/s]"
     ]
    },
    {
     "name": "stdout",
     "output_type": "stream",
     "text": [
      "                   all        200        249      0.708      0.723      0.676      0.459      0.597      0.627      0.536      0.177\n"
     ]
    },
    {
     "name": "stderr",
     "output_type": "stream",
     "text": [
      "\n"
     ]
    },
    {
     "name": "stdout",
     "output_type": "stream",
     "text": [
      "\n",
      "      Epoch    GPU_mem   box_loss   seg_loss   cls_loss   dfl_loss  Instances       Size\n"
     ]
    },
    {
     "name": "stderr",
     "output_type": "stream",
     "text": [
      "     13/100      5.06G      1.027       1.49     0.9344      1.174         15        640: 100%|██████████| 465/465 [02:14<00:00,  3.46it/s]\n",
      "                 Class     Images  Instances      Box(P          R      mAP50  mAP50-95)     Mask(P          R      mAP50  mAP50-95): 100%|██████████| 13/13 [00:03<00:00,  3.61it/s]"
     ]
    },
    {
     "name": "stdout",
     "output_type": "stream",
     "text": [
      "                   all        200        249      0.739      0.671       0.68      0.451      0.627      0.602      0.539      0.171\n"
     ]
    },
    {
     "name": "stderr",
     "output_type": "stream",
     "text": [
      "\n"
     ]
    },
    {
     "name": "stdout",
     "output_type": "stream",
     "text": [
      "\n",
      "      Epoch    GPU_mem   box_loss   seg_loss   cls_loss   dfl_loss  Instances       Size\n"
     ]
    },
    {
     "name": "stderr",
     "output_type": "stream",
     "text": [
      "     14/100      5.56G     0.9937      1.488     0.9148      1.154         12        640: 100%|██████████| 465/465 [02:14<00:00,  3.45it/s]\n",
      "                 Class     Images  Instances      Box(P          R      mAP50  mAP50-95)     Mask(P          R      mAP50  mAP50-95): 100%|██████████| 13/13 [00:04<00:00,  3.14it/s]"
     ]
    },
    {
     "name": "stdout",
     "output_type": "stream",
     "text": [
      "                   all        200        249      0.759      0.711      0.704       0.44      0.643      0.578      0.512      0.167\n"
     ]
    },
    {
     "name": "stderr",
     "output_type": "stream",
     "text": [
      "\n"
     ]
    },
    {
     "name": "stdout",
     "output_type": "stream",
     "text": [
      "\n",
      "      Epoch    GPU_mem   box_loss   seg_loss   cls_loss   dfl_loss  Instances       Size\n"
     ]
    },
    {
     "name": "stderr",
     "output_type": "stream",
     "text": [
      "     15/100      5.62G     0.9979       1.48     0.9217      1.159         11        640: 100%|██████████| 465/465 [02:12<00:00,  3.51it/s]\n",
      "                 Class     Images  Instances      Box(P          R      mAP50  mAP50-95)     Mask(P          R      mAP50  mAP50-95): 100%|██████████| 13/13 [00:03<00:00,  3.42it/s]"
     ]
    },
    {
     "name": "stdout",
     "output_type": "stream",
     "text": [
      "                   all        200        249      0.723      0.727      0.719      0.476       0.64      0.602      0.557      0.177\n"
     ]
    },
    {
     "name": "stderr",
     "output_type": "stream",
     "text": [
      "\n"
     ]
    },
    {
     "name": "stdout",
     "output_type": "stream",
     "text": [
      "\n",
      "      Epoch    GPU_mem   box_loss   seg_loss   cls_loss   dfl_loss  Instances       Size\n"
     ]
    },
    {
     "name": "stderr",
     "output_type": "stream",
     "text": [
      "     16/100      5.69G     0.9779      1.464      0.902       1.15          5        640: 100%|██████████| 465/465 [02:11<00:00,  3.55it/s]\n",
      "                 Class     Images  Instances      Box(P          R      mAP50  mAP50-95)     Mask(P          R      mAP50  mAP50-95): 100%|██████████| 13/13 [00:03<00:00,  3.44it/s]"
     ]
    },
    {
     "name": "stdout",
     "output_type": "stream",
     "text": [
      "                   all        200        249      0.811      0.691      0.727      0.482      0.708      0.606      0.565      0.184\n"
     ]
    },
    {
     "name": "stderr",
     "output_type": "stream",
     "text": [
      "\n"
     ]
    },
    {
     "name": "stdout",
     "output_type": "stream",
     "text": [
      "\n",
      "      Epoch    GPU_mem   box_loss   seg_loss   cls_loss   dfl_loss  Instances       Size\n"
     ]
    },
    {
     "name": "stderr",
     "output_type": "stream",
     "text": [
      "     17/100      5.72G     0.9784      1.479     0.8887      1.155         13        640: 100%|██████████| 465/465 [02:12<00:00,  3.51it/s]\n",
      "                 Class     Images  Instances      Box(P          R      mAP50  mAP50-95)     Mask(P          R      mAP50  mAP50-95): 100%|██████████| 13/13 [00:03<00:00,  3.41it/s]\n"
     ]
    },
    {
     "name": "stdout",
     "output_type": "stream",
     "text": [
      "                   all        200        249       0.75      0.686        0.7      0.486      0.675      0.606      0.566      0.188\n",
      "\n",
      "      Epoch    GPU_mem   box_loss   seg_loss   cls_loss   dfl_loss  Instances       Size\n"
     ]
    },
    {
     "name": "stderr",
     "output_type": "stream",
     "text": [
      "     18/100       5.8G     0.9836      1.474      0.881      1.143         24        640: 100%|██████████| 465/465 [02:11<00:00,  3.55it/s]\n",
      "                 Class     Images  Instances      Box(P          R      mAP50  mAP50-95)     Mask(P          R      mAP50  mAP50-95): 100%|██████████| 13/13 [00:04<00:00,  3.17it/s]"
     ]
    },
    {
     "name": "stdout",
     "output_type": "stream",
     "text": [
      "                   all        200        249      0.778      0.719      0.721      0.503      0.725      0.618      0.619      0.198\n"
     ]
    },
    {
     "name": "stderr",
     "output_type": "stream",
     "text": [
      "\n"
     ]
    },
    {
     "name": "stdout",
     "output_type": "stream",
     "text": [
      "\n",
      "      Epoch    GPU_mem   box_loss   seg_loss   cls_loss   dfl_loss  Instances       Size\n"
     ]
    },
    {
     "name": "stderr",
     "output_type": "stream",
     "text": [
      "     19/100      5.86G     0.9647      1.461     0.8784      1.142         18        640: 100%|██████████| 465/465 [02:12<00:00,  3.51it/s]\n",
      "                 Class     Images  Instances      Box(P          R      mAP50  mAP50-95)     Mask(P          R      mAP50  mAP50-95): 100%|██████████| 13/13 [00:03<00:00,  3.40it/s]"
     ]
    },
    {
     "name": "stdout",
     "output_type": "stream",
     "text": [
      "                   all        200        249       0.73      0.663      0.671      0.458      0.648      0.562      0.516       0.16\n"
     ]
    },
    {
     "name": "stderr",
     "output_type": "stream",
     "text": [
      "\n"
     ]
    },
    {
     "name": "stdout",
     "output_type": "stream",
     "text": [
      "\n",
      "      Epoch    GPU_mem   box_loss   seg_loss   cls_loss   dfl_loss  Instances       Size\n"
     ]
    },
    {
     "name": "stderr",
     "output_type": "stream",
     "text": [
      "     20/100      5.92G     0.9506      1.443     0.8536      1.143         17        640: 100%|██████████| 465/465 [02:11<00:00,  3.54it/s]\n",
      "                 Class     Images  Instances      Box(P          R      mAP50  mAP50-95)     Mask(P          R      mAP50  mAP50-95): 100%|██████████| 13/13 [00:03<00:00,  3.43it/s]"
     ]
    },
    {
     "name": "stdout",
     "output_type": "stream",
     "text": [
      "                   all        200        249      0.753      0.685        0.7      0.478      0.651      0.584      0.541      0.177\n"
     ]
    },
    {
     "name": "stderr",
     "output_type": "stream",
     "text": [
      "\n"
     ]
    },
    {
     "name": "stdout",
     "output_type": "stream",
     "text": [
      "\n",
      "      Epoch    GPU_mem   box_loss   seg_loss   cls_loss   dfl_loss  Instances       Size\n"
     ]
    },
    {
     "name": "stderr",
     "output_type": "stream",
     "text": [
      "     21/100      3.36G     0.9503      1.466      0.821      1.136         13        640: 100%|██████████| 465/465 [02:21<00:00,  3.29it/s]\n",
      "                 Class     Images  Instances      Box(P          R      mAP50  mAP50-95)     Mask(P          R      mAP50  mAP50-95): 100%|██████████| 13/13 [00:03<00:00,  3.58it/s]\n"
     ]
    },
    {
     "name": "stdout",
     "output_type": "stream",
     "text": [
      "                   all        200        249       0.69      0.678      0.667      0.461      0.632       0.57       0.51      0.179\n",
      "\n",
      "      Epoch    GPU_mem   box_loss   seg_loss   cls_loss   dfl_loss  Instances       Size\n"
     ]
    },
    {
     "name": "stderr",
     "output_type": "stream",
     "text": [
      "     22/100      3.68G     0.9283      1.436      0.819      1.122         17        640: 100%|██████████| 465/465 [02:20<00:00,  3.31it/s]\n",
      "                 Class     Images  Instances      Box(P          R      mAP50  mAP50-95)     Mask(P          R      mAP50  mAP50-95): 100%|██████████| 13/13 [00:03<00:00,  3.56it/s]"
     ]
    },
    {
     "name": "stdout",
     "output_type": "stream",
     "text": [
      "                   all        200        249      0.661      0.735      0.663      0.455      0.558      0.602      0.494      0.169\n"
     ]
    },
    {
     "name": "stderr",
     "output_type": "stream",
     "text": [
      "\n"
     ]
    },
    {
     "name": "stdout",
     "output_type": "stream",
     "text": [
      "\n",
      "      Epoch    GPU_mem   box_loss   seg_loss   cls_loss   dfl_loss  Instances       Size\n"
     ]
    },
    {
     "name": "stderr",
     "output_type": "stream",
     "text": [
      "     23/100      4.44G     0.9222      1.429     0.7945      1.116         16        640: 100%|██████████| 465/465 [02:18<00:00,  3.37it/s]\n",
      "                 Class     Images  Instances      Box(P          R      mAP50  mAP50-95)     Mask(P          R      mAP50  mAP50-95): 100%|██████████| 13/13 [00:03<00:00,  3.49it/s]"
     ]
    },
    {
     "name": "stdout",
     "output_type": "stream",
     "text": [
      "                   all        200        249      0.802      0.668      0.722      0.515      0.696       0.58      0.536      0.169\n"
     ]
    },
    {
     "name": "stderr",
     "output_type": "stream",
     "text": [
      "\n"
     ]
    },
    {
     "name": "stdout",
     "output_type": "stream",
     "text": [
      "\n",
      "      Epoch    GPU_mem   box_loss   seg_loss   cls_loss   dfl_loss  Instances       Size\n"
     ]
    },
    {
     "name": "stderr",
     "output_type": "stream",
     "text": [
      "     24/100      4.44G     0.9387      1.442      0.828      1.127         15        640: 100%|██████████| 465/465 [02:24<00:00,  3.21it/s]\n",
      "                 Class     Images  Instances      Box(P          R      mAP50  mAP50-95)     Mask(P          R      mAP50  mAP50-95): 100%|██████████| 13/13 [00:03<00:00,  3.77it/s]"
     ]
    },
    {
     "name": "stdout",
     "output_type": "stream",
     "text": [
      "                   all        200        249      0.819      0.703       0.75      0.523      0.747      0.629      0.616      0.197\n"
     ]
    },
    {
     "name": "stderr",
     "output_type": "stream",
     "text": [
      "\n"
     ]
    },
    {
     "name": "stdout",
     "output_type": "stream",
     "text": [
      "\n",
      "      Epoch    GPU_mem   box_loss   seg_loss   cls_loss   dfl_loss  Instances       Size\n"
     ]
    },
    {
     "name": "stderr",
     "output_type": "stream",
     "text": [
      "     25/100      4.44G     0.9113      1.444     0.7768      1.111         14        640: 100%|██████████| 465/465 [02:22<00:00,  3.27it/s]\n",
      "                 Class     Images  Instances      Box(P          R      mAP50  mAP50-95)     Mask(P          R      mAP50  mAP50-95): 100%|██████████| 13/13 [00:03<00:00,  3.92it/s]"
     ]
    },
    {
     "name": "stdout",
     "output_type": "stream",
     "text": [
      "                   all        200        249      0.779      0.735      0.721       0.53      0.698      0.631      0.575      0.198\n"
     ]
    },
    {
     "name": "stderr",
     "output_type": "stream",
     "text": [
      "\n"
     ]
    },
    {
     "name": "stdout",
     "output_type": "stream",
     "text": [
      "\n",
      "      Epoch    GPU_mem   box_loss   seg_loss   cls_loss   dfl_loss  Instances       Size\n"
     ]
    },
    {
     "name": "stderr",
     "output_type": "stream",
     "text": [
      "     26/100      4.44G     0.9068      1.421     0.7895       1.11         13        640: 100%|██████████| 465/465 [02:20<00:00,  3.30it/s]\n",
      "                 Class     Images  Instances      Box(P          R      mAP50  mAP50-95)     Mask(P          R      mAP50  mAP50-95): 100%|██████████| 13/13 [00:03<00:00,  3.60it/s]"
     ]
    },
    {
     "name": "stdout",
     "output_type": "stream",
     "text": [
      "                   all        200        249      0.807      0.689      0.731      0.512      0.713       0.61      0.585      0.189\n"
     ]
    },
    {
     "name": "stderr",
     "output_type": "stream",
     "text": [
      "\n"
     ]
    },
    {
     "name": "stdout",
     "output_type": "stream",
     "text": [
      "\n",
      "      Epoch    GPU_mem   box_loss   seg_loss   cls_loss   dfl_loss  Instances       Size\n"
     ]
    },
    {
     "name": "stderr",
     "output_type": "stream",
     "text": [
      "     27/100      4.47G     0.9075      1.419     0.7863      1.114         10        640: 100%|██████████| 465/465 [02:22<00:00,  3.26it/s]\n",
      "                 Class     Images  Instances      Box(P          R      mAP50  mAP50-95)     Mask(P          R      mAP50  mAP50-95): 100%|██████████| 13/13 [00:03<00:00,  3.41it/s]"
     ]
    },
    {
     "name": "stdout",
     "output_type": "stream",
     "text": [
      "                   all        200        249      0.769      0.707      0.731      0.512      0.715      0.622      0.565      0.192\n"
     ]
    },
    {
     "name": "stderr",
     "output_type": "stream",
     "text": [
      "\n"
     ]
    },
    {
     "name": "stdout",
     "output_type": "stream",
     "text": [
      "\n",
      "      Epoch    GPU_mem   box_loss   seg_loss   cls_loss   dfl_loss  Instances       Size\n"
     ]
    },
    {
     "name": "stderr",
     "output_type": "stream",
     "text": [
      "     28/100      4.54G     0.8814        1.4     0.7541      1.093          8        640: 100%|██████████| 465/465 [02:22<00:00,  3.27it/s]\n",
      "                 Class     Images  Instances      Box(P          R      mAP50  mAP50-95)     Mask(P          R      mAP50  mAP50-95): 100%|██████████| 13/13 [00:03<00:00,  3.34it/s]"
     ]
    },
    {
     "name": "stdout",
     "output_type": "stream",
     "text": [
      "                   all        200        249      0.798      0.723      0.734      0.521      0.718      0.645      0.597      0.196\n"
     ]
    },
    {
     "name": "stderr",
     "output_type": "stream",
     "text": [
      "\n"
     ]
    },
    {
     "name": "stdout",
     "output_type": "stream",
     "text": [
      "\n",
      "      Epoch    GPU_mem   box_loss   seg_loss   cls_loss   dfl_loss  Instances       Size\n"
     ]
    },
    {
     "name": "stderr",
     "output_type": "stream",
     "text": [
      "     29/100      4.59G     0.9151      1.441     0.7736      1.107         16        640: 100%|██████████| 465/465 [02:24<00:00,  3.21it/s]\n",
      "                 Class     Images  Instances      Box(P          R      mAP50  mAP50-95)     Mask(P          R      mAP50  mAP50-95): 100%|██████████| 13/13 [00:03<00:00,  3.49it/s]"
     ]
    },
    {
     "name": "stdout",
     "output_type": "stream",
     "text": [
      "                   all        200        249      0.821      0.699      0.725      0.511      0.722      0.616      0.561      0.184\n"
     ]
    },
    {
     "name": "stderr",
     "output_type": "stream",
     "text": [
      "\n"
     ]
    },
    {
     "name": "stdout",
     "output_type": "stream",
     "text": [
      "\n",
      "      Epoch    GPU_mem   box_loss   seg_loss   cls_loss   dfl_loss  Instances       Size\n"
     ]
    },
    {
     "name": "stderr",
     "output_type": "stream",
     "text": [
      "     30/100      4.66G     0.8867      1.418     0.7518      1.102          8        640: 100%|██████████| 465/465 [02:22<00:00,  3.25it/s]\n",
      "                 Class     Images  Instances      Box(P          R      mAP50  mAP50-95)     Mask(P          R      mAP50  mAP50-95): 100%|██████████| 13/13 [00:03<00:00,  3.71it/s]"
     ]
    },
    {
     "name": "stdout",
     "output_type": "stream",
     "text": [
      "                   all        200        249      0.779      0.693      0.733       0.53      0.717        0.6       0.59        0.2\n"
     ]
    },
    {
     "name": "stderr",
     "output_type": "stream",
     "text": [
      "\n"
     ]
    },
    {
     "name": "stdout",
     "output_type": "stream",
     "text": [
      "\n",
      "      Epoch    GPU_mem   box_loss   seg_loss   cls_loss   dfl_loss  Instances       Size\n"
     ]
    },
    {
     "name": "stderr",
     "output_type": "stream",
     "text": [
      "     31/100      4.71G      0.892      1.423     0.7671      1.108         11        640: 100%|██████████| 465/465 [02:23<00:00,  3.24it/s]\n",
      "                 Class     Images  Instances      Box(P          R      mAP50  mAP50-95)     Mask(P          R      mAP50  mAP50-95): 100%|██████████| 13/13 [00:03<00:00,  3.26it/s]"
     ]
    },
    {
     "name": "stdout",
     "output_type": "stream",
     "text": [
      "                   all        200        249      0.803      0.715      0.738      0.524      0.693      0.627       0.57      0.193\n"
     ]
    },
    {
     "name": "stderr",
     "output_type": "stream",
     "text": [
      "\n"
     ]
    },
    {
     "name": "stdout",
     "output_type": "stream",
     "text": [
      "\n",
      "      Epoch    GPU_mem   box_loss   seg_loss   cls_loss   dfl_loss  Instances       Size\n"
     ]
    },
    {
     "name": "stderr",
     "output_type": "stream",
     "text": [
      "     32/100      4.78G     0.8755      1.391     0.7529      1.099         14        640: 100%|██████████| 465/465 [02:21<00:00,  3.29it/s]\n",
      "                 Class     Images  Instances      Box(P          R      mAP50  mAP50-95)     Mask(P          R      mAP50  mAP50-95): 100%|██████████| 13/13 [00:03<00:00,  3.48it/s]"
     ]
    },
    {
     "name": "stdout",
     "output_type": "stream",
     "text": [
      "                   all        200        249      0.823      0.743      0.749      0.537      0.701      0.659      0.595      0.201\n"
     ]
    },
    {
     "name": "stderr",
     "output_type": "stream",
     "text": [
      "\n"
     ]
    },
    {
     "name": "stdout",
     "output_type": "stream",
     "text": [
      "\n",
      "      Epoch    GPU_mem   box_loss   seg_loss   cls_loss   dfl_loss  Instances       Size\n"
     ]
    },
    {
     "name": "stderr",
     "output_type": "stream",
     "text": [
      "     33/100      4.82G     0.8656      1.393     0.7333      1.088         10        640: 100%|██████████| 465/465 [02:14<00:00,  3.45it/s]\n",
      "                 Class     Images  Instances      Box(P          R      mAP50  mAP50-95)     Mask(P          R      mAP50  mAP50-95): 100%|██████████| 13/13 [00:03<00:00,  3.44it/s]"
     ]
    },
    {
     "name": "stdout",
     "output_type": "stream",
     "text": [
      "                   all        200        249      0.799      0.727      0.728      0.525      0.692      0.627      0.576      0.193\n"
     ]
    },
    {
     "name": "stderr",
     "output_type": "stream",
     "text": [
      "\n"
     ]
    },
    {
     "name": "stdout",
     "output_type": "stream",
     "text": [
      "\n",
      "      Epoch    GPU_mem   box_loss   seg_loss   cls_loss   dfl_loss  Instances       Size\n"
     ]
    },
    {
     "name": "stderr",
     "output_type": "stream",
     "text": [
      "     34/100      4.89G     0.8658      1.387     0.7376      1.092         11        640: 100%|██████████| 465/465 [02:13<00:00,  3.48it/s]\n",
      "                 Class     Images  Instances      Box(P          R      mAP50  mAP50-95)     Mask(P          R      mAP50  mAP50-95): 100%|██████████| 13/13 [00:03<00:00,  3.87it/s]"
     ]
    },
    {
     "name": "stdout",
     "output_type": "stream",
     "text": [
      "                   all        200        249      0.814      0.691      0.732      0.527      0.719       0.61      0.586      0.199\n"
     ]
    },
    {
     "name": "stderr",
     "output_type": "stream",
     "text": [
      "\n"
     ]
    },
    {
     "name": "stdout",
     "output_type": "stream",
     "text": [
      "\n",
      "      Epoch    GPU_mem   box_loss   seg_loss   cls_loss   dfl_loss  Instances       Size\n"
     ]
    },
    {
     "name": "stderr",
     "output_type": "stream",
     "text": [
      "     35/100      5.28G     0.8495      1.372     0.7179      1.086          7        640: 100%|██████████| 465/465 [02:14<00:00,  3.45it/s]\n",
      "                 Class     Images  Instances      Box(P          R      mAP50  mAP50-95)     Mask(P          R      mAP50  mAP50-95): 100%|██████████| 13/13 [00:03<00:00,  4.04it/s]"
     ]
    },
    {
     "name": "stdout",
     "output_type": "stream",
     "text": [
      "                   all        200        249      0.825      0.691      0.733      0.513      0.734      0.609       0.58      0.195\n"
     ]
    },
    {
     "name": "stderr",
     "output_type": "stream",
     "text": [
      "\n"
     ]
    },
    {
     "name": "stdout",
     "output_type": "stream",
     "text": [
      "\n",
      "      Epoch    GPU_mem   box_loss   seg_loss   cls_loss   dfl_loss  Instances       Size\n"
     ]
    },
    {
     "name": "stderr",
     "output_type": "stream",
     "text": [
      "     36/100      5.34G     0.8535       1.39     0.7257      1.087         19        640: 100%|██████████| 465/465 [02:12<00:00,  3.51it/s]\n",
      "                 Class     Images  Instances      Box(P          R      mAP50  mAP50-95)     Mask(P          R      mAP50  mAP50-95): 100%|██████████| 13/13 [00:03<00:00,  4.18it/s]"
     ]
    },
    {
     "name": "stdout",
     "output_type": "stream",
     "text": [
      "                   all        200        249      0.785      0.739      0.754      0.544      0.703      0.651      0.603      0.199\n"
     ]
    },
    {
     "name": "stderr",
     "output_type": "stream",
     "text": [
      "\n"
     ]
    },
    {
     "name": "stdout",
     "output_type": "stream",
     "text": [
      "\n",
      "      Epoch    GPU_mem   box_loss   seg_loss   cls_loss   dfl_loss  Instances       Size\n"
     ]
    },
    {
     "name": "stderr",
     "output_type": "stream",
     "text": [
      "     37/100       5.4G     0.8565      1.393      0.719      1.087         15        640: 100%|██████████| 465/465 [02:14<00:00,  3.45it/s]\n",
      "                 Class     Images  Instances      Box(P          R      mAP50  mAP50-95)     Mask(P          R      mAP50  mAP50-95): 100%|██████████| 13/13 [00:03<00:00,  3.50it/s]"
     ]
    },
    {
     "name": "stdout",
     "output_type": "stream",
     "text": [
      "                   all        200        249      0.831      0.691      0.751      0.543      0.723      0.602      0.558      0.183\n"
     ]
    },
    {
     "name": "stderr",
     "output_type": "stream",
     "text": [
      "\n"
     ]
    },
    {
     "name": "stdout",
     "output_type": "stream",
     "text": [
      "\n",
      "      Epoch    GPU_mem   box_loss   seg_loss   cls_loss   dfl_loss  Instances       Size\n"
     ]
    },
    {
     "name": "stderr",
     "output_type": "stream",
     "text": [
      "     38/100      5.46G     0.8497      1.384     0.7089      1.078         14        640: 100%|██████████| 465/465 [02:15<00:00,  3.43it/s]\n",
      "                 Class     Images  Instances      Box(P          R      mAP50  mAP50-95)     Mask(P          R      mAP50  mAP50-95): 100%|██████████| 13/13 [00:03<00:00,  3.56it/s]"
     ]
    },
    {
     "name": "stdout",
     "output_type": "stream",
     "text": [
      "                   all        200        249      0.804      0.725      0.756      0.539      0.696      0.627      0.581      0.192\n"
     ]
    },
    {
     "name": "stderr",
     "output_type": "stream",
     "text": [
      "\n"
     ]
    },
    {
     "name": "stdout",
     "output_type": "stream",
     "text": [
      "\n",
      "      Epoch    GPU_mem   box_loss   seg_loss   cls_loss   dfl_loss  Instances       Size\n"
     ]
    },
    {
     "name": "stderr",
     "output_type": "stream",
     "text": [
      "     39/100      5.52G     0.8335       1.38     0.7005      1.069         15        640: 100%|██████████| 465/465 [02:15<00:00,  3.44it/s]\n",
      "                 Class     Images  Instances      Box(P          R      mAP50  mAP50-95)     Mask(P          R      mAP50  mAP50-95): 100%|██████████| 13/13 [00:03<00:00,  3.33it/s]"
     ]
    },
    {
     "name": "stdout",
     "output_type": "stream",
     "text": [
      "                   all        200        249      0.776      0.727      0.746      0.548      0.738      0.611      0.613      0.205\n"
     ]
    },
    {
     "name": "stderr",
     "output_type": "stream",
     "text": [
      "\n"
     ]
    },
    {
     "name": "stdout",
     "output_type": "stream",
     "text": [
      "\n",
      "      Epoch    GPU_mem   box_loss   seg_loss   cls_loss   dfl_loss  Instances       Size\n"
     ]
    },
    {
     "name": "stderr",
     "output_type": "stream",
     "text": [
      "     40/100      5.58G     0.8226      1.366     0.6685      1.065         12        640: 100%|██████████| 465/465 [02:18<00:00,  3.37it/s]\n",
      "                 Class     Images  Instances      Box(P          R      mAP50  mAP50-95)     Mask(P          R      mAP50  mAP50-95): 100%|██████████| 13/13 [00:03<00:00,  3.99it/s]"
     ]
    },
    {
     "name": "stdout",
     "output_type": "stream",
     "text": [
      "                   all        200        249      0.797      0.727      0.756      0.544        0.7      0.639      0.613       0.21\n"
     ]
    },
    {
     "name": "stderr",
     "output_type": "stream",
     "text": [
      "\n"
     ]
    },
    {
     "name": "stdout",
     "output_type": "stream",
     "text": [
      "\n",
      "      Epoch    GPU_mem   box_loss   seg_loss   cls_loss   dfl_loss  Instances       Size\n"
     ]
    },
    {
     "name": "stderr",
     "output_type": "stream",
     "text": [
      "     41/100      5.62G     0.8349      1.374     0.6784      1.076         15        640: 100%|██████████| 465/465 [02:21<00:00,  3.28it/s]\n",
      "                 Class     Images  Instances      Box(P          R      mAP50  mAP50-95)     Mask(P          R      mAP50  mAP50-95): 100%|██████████| 13/13 [00:03<00:00,  3.55it/s]"
     ]
    },
    {
     "name": "stdout",
     "output_type": "stream",
     "text": [
      "                   all        200        249      0.842      0.747       0.76      0.554      0.762      0.647      0.619      0.204\n"
     ]
    },
    {
     "name": "stderr",
     "output_type": "stream",
     "text": [
      "\n"
     ]
    },
    {
     "name": "stdout",
     "output_type": "stream",
     "text": [
      "\n",
      "      Epoch    GPU_mem   box_loss   seg_loss   cls_loss   dfl_loss  Instances       Size\n"
     ]
    },
    {
     "name": "stderr",
     "output_type": "stream",
     "text": [
      "     42/100       5.7G     0.8223      1.358     0.6715      1.068         12        640: 100%|██████████| 465/465 [02:22<00:00,  3.26it/s]\n",
      "                 Class     Images  Instances      Box(P          R      mAP50  mAP50-95)     Mask(P          R      mAP50  mAP50-95): 100%|██████████| 13/13 [00:03<00:00,  3.93it/s]"
     ]
    },
    {
     "name": "stdout",
     "output_type": "stream",
     "text": [
      "                   all        200        249       0.78      0.724      0.747      0.537      0.701      0.651      0.607      0.192\n"
     ]
    },
    {
     "name": "stderr",
     "output_type": "stream",
     "text": [
      "\n"
     ]
    },
    {
     "name": "stdout",
     "output_type": "stream",
     "text": [
      "\n",
      "      Epoch    GPU_mem   box_loss   seg_loss   cls_loss   dfl_loss  Instances       Size\n"
     ]
    },
    {
     "name": "stderr",
     "output_type": "stream",
     "text": [
      "     43/100      4.55G     0.8082      1.346     0.6644      1.059         11        640: 100%|██████████| 465/465 [02:19<00:00,  3.33it/s]\n",
      "                 Class     Images  Instances      Box(P          R      mAP50  mAP50-95)     Mask(P          R      mAP50  mAP50-95): 100%|██████████| 13/13 [00:03<00:00,  3.69it/s]"
     ]
    },
    {
     "name": "stdout",
     "output_type": "stream",
     "text": [
      "                   all        200        249      0.801      0.719      0.747      0.547      0.728      0.618      0.609      0.193\n"
     ]
    },
    {
     "name": "stderr",
     "output_type": "stream",
     "text": [
      "\n"
     ]
    },
    {
     "name": "stdout",
     "output_type": "stream",
     "text": [
      "\n",
      "      Epoch    GPU_mem   box_loss   seg_loss   cls_loss   dfl_loss  Instances       Size\n"
     ]
    },
    {
     "name": "stderr",
     "output_type": "stream",
     "text": [
      "     44/100      4.55G     0.8159      1.352      0.665      1.055         15        640: 100%|██████████| 465/465 [02:23<00:00,  3.24it/s]\n",
      "                 Class     Images  Instances      Box(P          R      mAP50  mAP50-95)     Mask(P          R      mAP50  mAP50-95): 100%|██████████| 13/13 [00:03<00:00,  3.48it/s]"
     ]
    },
    {
     "name": "stdout",
     "output_type": "stream",
     "text": [
      "                   all        200        249      0.792      0.735      0.745      0.565      0.731      0.656      0.608      0.193\n"
     ]
    },
    {
     "name": "stderr",
     "output_type": "stream",
     "text": [
      "\n"
     ]
    },
    {
     "name": "stdout",
     "output_type": "stream",
     "text": [
      "\n",
      "      Epoch    GPU_mem   box_loss   seg_loss   cls_loss   dfl_loss  Instances       Size\n"
     ]
    },
    {
     "name": "stderr",
     "output_type": "stream",
     "text": [
      "     45/100      4.55G     0.8054      1.357     0.6624       1.06          9        640: 100%|██████████| 465/465 [02:17<00:00,  3.39it/s]\n",
      "                 Class     Images  Instances      Box(P          R      mAP50  mAP50-95)     Mask(P          R      mAP50  mAP50-95): 100%|██████████| 13/13 [00:03<00:00,  3.79it/s]"
     ]
    },
    {
     "name": "stdout",
     "output_type": "stream",
     "text": [
      "                   all        200        249      0.776      0.738      0.724      0.521      0.695      0.663      0.591      0.187\n"
     ]
    },
    {
     "name": "stderr",
     "output_type": "stream",
     "text": [
      "\n"
     ]
    },
    {
     "name": "stdout",
     "output_type": "stream",
     "text": [
      "\n",
      "      Epoch    GPU_mem   box_loss   seg_loss   cls_loss   dfl_loss  Instances       Size\n"
     ]
    },
    {
     "name": "stderr",
     "output_type": "stream",
     "text": [
      "     46/100      4.55G     0.8034      1.356     0.6574      1.056         16        640: 100%|██████████| 465/465 [02:19<00:00,  3.32it/s]\n",
      "                 Class     Images  Instances      Box(P          R      mAP50  mAP50-95)     Mask(P          R      mAP50  mAP50-95): 100%|██████████| 13/13 [00:03<00:00,  3.37it/s]"
     ]
    },
    {
     "name": "stdout",
     "output_type": "stream",
     "text": [
      "                   all        200        249      0.799      0.701       0.74      0.538      0.732      0.594       0.58      0.192\n"
     ]
    },
    {
     "name": "stderr",
     "output_type": "stream",
     "text": [
      "\n"
     ]
    },
    {
     "name": "stdout",
     "output_type": "stream",
     "text": [
      "\n",
      "      Epoch    GPU_mem   box_loss   seg_loss   cls_loss   dfl_loss  Instances       Size\n"
     ]
    },
    {
     "name": "stderr",
     "output_type": "stream",
     "text": [
      "     47/100      4.55G      0.802      1.336      0.637      1.053         13        640: 100%|██████████| 465/465 [02:19<00:00,  3.33it/s]\n",
      "                 Class     Images  Instances      Box(P          R      mAP50  mAP50-95)     Mask(P          R      mAP50  mAP50-95): 100%|██████████| 13/13 [00:03<00:00,  3.83it/s]"
     ]
    },
    {
     "name": "stdout",
     "output_type": "stream",
     "text": [
      "                   all        200        249      0.811      0.722      0.746      0.549      0.724      0.635      0.593      0.201\n"
     ]
    },
    {
     "name": "stderr",
     "output_type": "stream",
     "text": [
      "\n"
     ]
    },
    {
     "name": "stdout",
     "output_type": "stream",
     "text": [
      "\n",
      "      Epoch    GPU_mem   box_loss   seg_loss   cls_loss   dfl_loss  Instances       Size\n"
     ]
    },
    {
     "name": "stderr",
     "output_type": "stream",
     "text": [
      "     48/100      4.55G     0.7957       1.33      0.647      1.051         10        640: 100%|██████████| 465/465 [02:17<00:00,  3.38it/s]\n",
      "                 Class     Images  Instances      Box(P          R      mAP50  mAP50-95)     Mask(P          R      mAP50  mAP50-95): 100%|██████████| 13/13 [00:03<00:00,  3.47it/s]"
     ]
    },
    {
     "name": "stdout",
     "output_type": "stream",
     "text": [
      "                   all        200        249      0.766      0.734      0.726      0.524      0.669      0.647      0.558       0.18\n"
     ]
    },
    {
     "name": "stderr",
     "output_type": "stream",
     "text": [
      "\n"
     ]
    },
    {
     "name": "stdout",
     "output_type": "stream",
     "text": [
      "\n",
      "      Epoch    GPU_mem   box_loss   seg_loss   cls_loss   dfl_loss  Instances       Size\n"
     ]
    },
    {
     "name": "stderr",
     "output_type": "stream",
     "text": [
      "     49/100      4.55G     0.7926      1.341     0.6543      1.047         18        640: 100%|██████████| 465/465 [02:19<00:00,  3.34it/s]\n",
      "                 Class     Images  Instances      Box(P          R      mAP50  mAP50-95)     Mask(P          R      mAP50  mAP50-95): 100%|██████████| 13/13 [00:03<00:00,  3.53it/s]"
     ]
    },
    {
     "name": "stdout",
     "output_type": "stream",
     "text": [
      "                   all        200        249       0.86      0.711      0.751      0.533      0.751      0.618      0.581      0.193\n"
     ]
    },
    {
     "name": "stderr",
     "output_type": "stream",
     "text": [
      "\n"
     ]
    },
    {
     "name": "stdout",
     "output_type": "stream",
     "text": [
      "\n",
      "      Epoch    GPU_mem   box_loss   seg_loss   cls_loss   dfl_loss  Instances       Size\n"
     ]
    },
    {
     "name": "stderr",
     "output_type": "stream",
     "text": [
      "     50/100      4.55G     0.7843       1.33     0.6307      1.054         10        640: 100%|██████████| 465/465 [02:17<00:00,  3.39it/s]\n",
      "                 Class     Images  Instances      Box(P          R      mAP50  mAP50-95)     Mask(P          R      mAP50  mAP50-95): 100%|██████████| 13/13 [00:03<00:00,  3.56it/s]"
     ]
    },
    {
     "name": "stdout",
     "output_type": "stream",
     "text": [
      "                   all        200        249      0.815      0.741       0.76      0.554      0.713      0.647      0.601      0.202\n"
     ]
    },
    {
     "name": "stderr",
     "output_type": "stream",
     "text": [
      "\n"
     ]
    },
    {
     "name": "stdout",
     "output_type": "stream",
     "text": [
      "\n",
      "      Epoch    GPU_mem   box_loss   seg_loss   cls_loss   dfl_loss  Instances       Size\n"
     ]
    },
    {
     "name": "stderr",
     "output_type": "stream",
     "text": [
      "     51/100       4.6G      0.773      1.339     0.6313      1.039         12        640: 100%|██████████| 465/465 [02:16<00:00,  3.42it/s]\n",
      "                 Class     Images  Instances      Box(P          R      mAP50  mAP50-95)     Mask(P          R      mAP50  mAP50-95): 100%|██████████| 13/13 [00:03<00:00,  3.41it/s]"
     ]
    },
    {
     "name": "stdout",
     "output_type": "stream",
     "text": [
      "                   all        200        249       0.82      0.712       0.73      0.534       0.73       0.61      0.574      0.199\n"
     ]
    },
    {
     "name": "stderr",
     "output_type": "stream",
     "text": [
      "\n"
     ]
    },
    {
     "name": "stdout",
     "output_type": "stream",
     "text": [
      "\n",
      "      Epoch    GPU_mem   box_loss   seg_loss   cls_loss   dfl_loss  Instances       Size\n"
     ]
    },
    {
     "name": "stderr",
     "output_type": "stream",
     "text": [
      "     52/100      4.66G     0.7713      1.319     0.6157      1.043         11        640: 100%|██████████| 465/465 [02:17<00:00,  3.37it/s]\n",
      "                 Class     Images  Instances      Box(P          R      mAP50  mAP50-95)     Mask(P          R      mAP50  mAP50-95): 100%|██████████| 13/13 [00:03<00:00,  3.31it/s]"
     ]
    },
    {
     "name": "stdout",
     "output_type": "stream",
     "text": [
      "                   all        200        249      0.827      0.719      0.757      0.554      0.731      0.627      0.581      0.198\n"
     ]
    },
    {
     "name": "stderr",
     "output_type": "stream",
     "text": [
      "\n"
     ]
    },
    {
     "name": "stdout",
     "output_type": "stream",
     "text": [
      "\n",
      "      Epoch    GPU_mem   box_loss   seg_loss   cls_loss   dfl_loss  Instances       Size\n"
     ]
    },
    {
     "name": "stderr",
     "output_type": "stream",
     "text": [
      "     53/100      4.72G      0.771      1.313     0.6134      1.042         11        640: 100%|██████████| 465/465 [02:16<00:00,  3.40it/s]\n",
      "                 Class     Images  Instances      Box(P          R      mAP50  mAP50-95)     Mask(P          R      mAP50  mAP50-95): 100%|██████████| 13/13 [00:04<00:00,  2.88it/s]"
     ]
    },
    {
     "name": "stdout",
     "output_type": "stream",
     "text": [
      "                   all        200        249       0.83      0.689      0.752      0.551      0.751      0.622      0.624      0.207\n"
     ]
    },
    {
     "name": "stderr",
     "output_type": "stream",
     "text": [
      "\n"
     ]
    },
    {
     "name": "stdout",
     "output_type": "stream",
     "text": [
      "\n",
      "      Epoch    GPU_mem   box_loss   seg_loss   cls_loss   dfl_loss  Instances       Size\n"
     ]
    },
    {
     "name": "stderr",
     "output_type": "stream",
     "text": [
      "     54/100      4.78G     0.7608      1.301     0.6105      1.034         13        640: 100%|██████████| 465/465 [02:19<00:00,  3.33it/s]\n",
      "                 Class     Images  Instances      Box(P          R      mAP50  mAP50-95)     Mask(P          R      mAP50  mAP50-95): 100%|██████████| 13/13 [00:03<00:00,  3.83it/s]"
     ]
    },
    {
     "name": "stdout",
     "output_type": "stream",
     "text": [
      "                   all        200        249      0.843      0.731      0.759      0.555      0.762      0.618      0.605      0.199\n"
     ]
    },
    {
     "name": "stderr",
     "output_type": "stream",
     "text": [
      "\n"
     ]
    },
    {
     "name": "stdout",
     "output_type": "stream",
     "text": [
      "\n",
      "      Epoch    GPU_mem   box_loss   seg_loss   cls_loss   dfl_loss  Instances       Size\n"
     ]
    },
    {
     "name": "stderr",
     "output_type": "stream",
     "text": [
      "     55/100      4.84G     0.7462      1.303     0.6052      1.031          9        640: 100%|██████████| 465/465 [02:16<00:00,  3.40it/s]\n",
      "                 Class     Images  Instances      Box(P          R      mAP50  mAP50-95)     Mask(P          R      mAP50  mAP50-95): 100%|██████████| 13/13 [00:03<00:00,  3.38it/s]"
     ]
    },
    {
     "name": "stdout",
     "output_type": "stream",
     "text": [
      "                   all        200        249       0.81      0.727      0.736      0.545      0.731      0.645      0.612      0.202\n"
     ]
    },
    {
     "name": "stderr",
     "output_type": "stream",
     "text": [
      "\n"
     ]
    },
    {
     "name": "stdout",
     "output_type": "stream",
     "text": [
      "\n",
      "      Epoch    GPU_mem   box_loss   seg_loss   cls_loss   dfl_loss  Instances       Size\n"
     ]
    },
    {
     "name": "stderr",
     "output_type": "stream",
     "text": [
      "     56/100       4.9G      0.748      1.305     0.5952      1.031         19        640: 100%|██████████| 465/465 [02:17<00:00,  3.39it/s]\n",
      "                 Class     Images  Instances      Box(P          R      mAP50  mAP50-95)     Mask(P          R      mAP50  mAP50-95): 100%|██████████| 13/13 [00:03<00:00,  3.50it/s]"
     ]
    },
    {
     "name": "stdout",
     "output_type": "stream",
     "text": [
      "                   all        200        249      0.809      0.734      0.757      0.563      0.711      0.655      0.592        0.2\n"
     ]
    },
    {
     "name": "stderr",
     "output_type": "stream",
     "text": [
      "\n"
     ]
    },
    {
     "name": "stdout",
     "output_type": "stream",
     "text": [
      "\n",
      "      Epoch    GPU_mem   box_loss   seg_loss   cls_loss   dfl_loss  Instances       Size\n"
     ]
    },
    {
     "name": "stderr",
     "output_type": "stream",
     "text": [
      "     57/100      4.94G     0.7559      1.317     0.6007      1.033         13        640: 100%|██████████| 465/465 [02:15<00:00,  3.44it/s]\n",
      "                 Class     Images  Instances      Box(P          R      mAP50  mAP50-95)     Mask(P          R      mAP50  mAP50-95): 100%|██████████| 13/13 [00:03<00:00,  3.68it/s]"
     ]
    },
    {
     "name": "stdout",
     "output_type": "stream",
     "text": [
      "                   all        200        249      0.772      0.719      0.719       0.54      0.708      0.623       0.59      0.203\n"
     ]
    },
    {
     "name": "stderr",
     "output_type": "stream",
     "text": [
      "\n"
     ]
    },
    {
     "name": "stdout",
     "output_type": "stream",
     "text": [
      "\n",
      "      Epoch    GPU_mem   box_loss   seg_loss   cls_loss   dfl_loss  Instances       Size\n"
     ]
    },
    {
     "name": "stderr",
     "output_type": "stream",
     "text": [
      "     58/100      5.02G     0.7561      1.319     0.5907      1.031         12        640: 100%|██████████| 465/465 [02:11<00:00,  3.53it/s]\n",
      "                 Class     Images  Instances      Box(P          R      mAP50  mAP50-95)     Mask(P          R      mAP50  mAP50-95): 100%|██████████| 13/13 [00:03<00:00,  4.09it/s]"
     ]
    },
    {
     "name": "stdout",
     "output_type": "stream",
     "text": [
      "                   all        200        249      0.806      0.749      0.762      0.569      0.719      0.655      0.604       0.21\n"
     ]
    },
    {
     "name": "stderr",
     "output_type": "stream",
     "text": [
      "\n"
     ]
    },
    {
     "name": "stdout",
     "output_type": "stream",
     "text": [
      "\n",
      "      Epoch    GPU_mem   box_loss   seg_loss   cls_loss   dfl_loss  Instances       Size\n"
     ]
    },
    {
     "name": "stderr",
     "output_type": "stream",
     "text": [
      "     59/100      5.08G     0.7447       1.29     0.5838      1.029          9        640: 100%|██████████| 465/465 [02:11<00:00,  3.53it/s]\n",
      "                 Class     Images  Instances      Box(P          R      mAP50  mAP50-95)     Mask(P          R      mAP50  mAP50-95): 100%|██████████| 13/13 [00:03<00:00,  3.76it/s]\n"
     ]
    },
    {
     "name": "stdout",
     "output_type": "stream",
     "text": [
      "                   all        200        249      0.822      0.722      0.749      0.569      0.744      0.654      0.621      0.204\n",
      "\n",
      "      Epoch    GPU_mem   box_loss   seg_loss   cls_loss   dfl_loss  Instances       Size\n"
     ]
    },
    {
     "name": "stderr",
     "output_type": "stream",
     "text": [
      "     60/100      5.57G     0.7426      1.305     0.5849      1.029         14        640: 100%|██████████| 465/465 [02:14<00:00,  3.45it/s]\n",
      "                 Class     Images  Instances      Box(P          R      mAP50  mAP50-95)     Mask(P          R      mAP50  mAP50-95): 100%|██████████| 13/13 [00:03<00:00,  3.65it/s]"
     ]
    },
    {
     "name": "stdout",
     "output_type": "stream",
     "text": [
      "                   all        200        249      0.836      0.715      0.763      0.577      0.731      0.647       0.62      0.212\n"
     ]
    },
    {
     "name": "stderr",
     "output_type": "stream",
     "text": [
      "\n"
     ]
    },
    {
     "name": "stdout",
     "output_type": "stream",
     "text": [
      "\n",
      "      Epoch    GPU_mem   box_loss   seg_loss   cls_loss   dfl_loss  Instances       Size\n"
     ]
    },
    {
     "name": "stderr",
     "output_type": "stream",
     "text": [
      "     61/100      5.63G     0.7435      1.301     0.5805      1.025         10        640: 100%|██████████| 465/465 [02:14<00:00,  3.45it/s]\n",
      "                 Class     Images  Instances      Box(P          R      mAP50  mAP50-95)     Mask(P          R      mAP50  mAP50-95): 100%|██████████| 13/13 [00:03<00:00,  3.57it/s]\n"
     ]
    },
    {
     "name": "stdout",
     "output_type": "stream",
     "text": [
      "                   all        200        249      0.787      0.739      0.739      0.558      0.714      0.647      0.599      0.204\n",
      "\n",
      "      Epoch    GPU_mem   box_loss   seg_loss   cls_loss   dfl_loss  Instances       Size\n"
     ]
    },
    {
     "name": "stderr",
     "output_type": "stream",
     "text": [
      "     62/100      5.69G     0.7492      1.296     0.5798      1.026         11        640: 100%|██████████| 465/465 [02:17<00:00,  3.39it/s]\n",
      "                 Class     Images  Instances      Box(P          R      mAP50  mAP50-95)     Mask(P          R      mAP50  mAP50-95): 100%|██████████| 13/13 [00:03<00:00,  3.65it/s]"
     ]
    },
    {
     "name": "stdout",
     "output_type": "stream",
     "text": [
      "                   all        200        249      0.793      0.771      0.762      0.569      0.718      0.694      0.631      0.209\n"
     ]
    },
    {
     "name": "stderr",
     "output_type": "stream",
     "text": [
      "\n"
     ]
    },
    {
     "name": "stdout",
     "output_type": "stream",
     "text": [
      "\n",
      "      Epoch    GPU_mem   box_loss   seg_loss   cls_loss   dfl_loss  Instances       Size\n"
     ]
    },
    {
     "name": "stderr",
     "output_type": "stream",
     "text": [
      "     63/100      5.75G     0.7432      1.303     0.5697      1.024         15        640: 100%|██████████| 465/465 [02:16<00:00,  3.40it/s]\n",
      "                 Class     Images  Instances      Box(P          R      mAP50  mAP50-95)     Mask(P          R      mAP50  mAP50-95): 100%|██████████| 13/13 [00:04<00:00,  3.21it/s]"
     ]
    },
    {
     "name": "stdout",
     "output_type": "stream",
     "text": [
      "                   all        200        249      0.834      0.731      0.759      0.578      0.742      0.648      0.611      0.215\n"
     ]
    },
    {
     "name": "stderr",
     "output_type": "stream",
     "text": [
      "\n"
     ]
    },
    {
     "name": "stdout",
     "output_type": "stream",
     "text": [
      "\n",
      "      Epoch    GPU_mem   box_loss   seg_loss   cls_loss   dfl_loss  Instances       Size\n"
     ]
    },
    {
     "name": "stderr",
     "output_type": "stream",
     "text": [
      "     64/100      5.81G     0.7484      1.296     0.5745      1.026          9        640: 100%|██████████| 465/465 [02:13<00:00,  3.48it/s]\n",
      "                 Class     Images  Instances      Box(P          R      mAP50  mAP50-95)     Mask(P          R      mAP50  mAP50-95): 100%|██████████| 13/13 [00:03<00:00,  3.52it/s]"
     ]
    },
    {
     "name": "stdout",
     "output_type": "stream",
     "text": [
      "                   all        200        249      0.836      0.715      0.762      0.572      0.744      0.647      0.603      0.213\n"
     ]
    },
    {
     "name": "stderr",
     "output_type": "stream",
     "text": [
      "\n"
     ]
    },
    {
     "name": "stdout",
     "output_type": "stream",
     "text": [
      "\n",
      "      Epoch    GPU_mem   box_loss   seg_loss   cls_loss   dfl_loss  Instances       Size\n"
     ]
    },
    {
     "name": "stderr",
     "output_type": "stream",
     "text": [
      "     65/100      5.85G     0.7347      1.296     0.5668      1.019          6        640: 100%|██████████| 465/465 [02:15<00:00,  3.44it/s]\n",
      "                 Class     Images  Instances      Box(P          R      mAP50  mAP50-95)     Mask(P          R      mAP50  mAP50-95): 100%|██████████| 13/13 [00:03<00:00,  4.06it/s]"
     ]
    },
    {
     "name": "stdout",
     "output_type": "stream",
     "text": [
      "                   all        200        249      0.828      0.759      0.776      0.573      0.733      0.618      0.583      0.204\n"
     ]
    },
    {
     "name": "stderr",
     "output_type": "stream",
     "text": [
      "\n"
     ]
    },
    {
     "name": "stdout",
     "output_type": "stream",
     "text": [
      "\n",
      "      Epoch    GPU_mem   box_loss   seg_loss   cls_loss   dfl_loss  Instances       Size\n"
     ]
    },
    {
     "name": "stderr",
     "output_type": "stream",
     "text": [
      "     66/100      5.93G      0.728      1.283     0.5664      1.016         15        640: 100%|██████████| 465/465 [02:16<00:00,  3.40it/s]\n",
      "                 Class     Images  Instances      Box(P          R      mAP50  mAP50-95)     Mask(P          R      mAP50  mAP50-95): 100%|██████████| 13/13 [00:03<00:00,  3.48it/s]"
     ]
    },
    {
     "name": "stdout",
     "output_type": "stream",
     "text": [
      "                   all        200        249      0.822      0.727      0.745      0.562      0.761      0.618      0.609        0.2\n"
     ]
    },
    {
     "name": "stderr",
     "output_type": "stream",
     "text": [
      "\n"
     ]
    },
    {
     "name": "stdout",
     "output_type": "stream",
     "text": [
      "\n",
      "      Epoch    GPU_mem   box_loss   seg_loss   cls_loss   dfl_loss  Instances       Size\n"
     ]
    },
    {
     "name": "stderr",
     "output_type": "stream",
     "text": [
      "     67/100      4.01G     0.7189      1.277     0.5624      1.011         20        640: 100%|██████████| 465/465 [02:16<00:00,  3.41it/s]\n",
      "                 Class     Images  Instances      Box(P          R      mAP50  mAP50-95)     Mask(P          R      mAP50  mAP50-95): 100%|██████████| 13/13 [00:03<00:00,  3.84it/s]"
     ]
    },
    {
     "name": "stdout",
     "output_type": "stream",
     "text": [
      "                   all        200        249      0.825      0.735      0.763      0.585      0.751      0.643      0.612       0.21\n"
     ]
    },
    {
     "name": "stderr",
     "output_type": "stream",
     "text": [
      "\n"
     ]
    },
    {
     "name": "stdout",
     "output_type": "stream",
     "text": [
      "\n",
      "      Epoch    GPU_mem   box_loss   seg_loss   cls_loss   dfl_loss  Instances       Size\n"
     ]
    },
    {
     "name": "stderr",
     "output_type": "stream",
     "text": [
      "     68/100      4.01G     0.7181      1.277     0.5497      1.011         16        640: 100%|██████████| 465/465 [02:14<00:00,  3.45it/s]\n",
      "                 Class     Images  Instances      Box(P          R      mAP50  mAP50-95)     Mask(P          R      mAP50  mAP50-95): 100%|██████████| 13/13 [00:03<00:00,  3.72it/s]"
     ]
    },
    {
     "name": "stdout",
     "output_type": "stream",
     "text": [
      "                   all        200        249      0.812      0.739      0.748      0.561      0.753      0.638      0.604      0.201\n"
     ]
    },
    {
     "name": "stderr",
     "output_type": "stream",
     "text": [
      "\n"
     ]
    },
    {
     "name": "stdout",
     "output_type": "stream",
     "text": [
      "\n",
      "      Epoch    GPU_mem   box_loss   seg_loss   cls_loss   dfl_loss  Instances       Size\n"
     ]
    },
    {
     "name": "stderr",
     "output_type": "stream",
     "text": [
      "     69/100      4.01G     0.7141      1.268     0.5485      1.009         13        640: 100%|██████████| 465/465 [02:13<00:00,  3.49it/s]\n",
      "                 Class     Images  Instances      Box(P          R      mAP50  mAP50-95)     Mask(P          R      mAP50  mAP50-95): 100%|██████████| 13/13 [00:03<00:00,  3.93it/s]"
     ]
    },
    {
     "name": "stdout",
     "output_type": "stream",
     "text": [
      "                   all        200        249      0.835      0.759      0.769      0.573      0.738      0.663      0.614      0.202\n"
     ]
    },
    {
     "name": "stderr",
     "output_type": "stream",
     "text": [
      "\n"
     ]
    },
    {
     "name": "stdout",
     "output_type": "stream",
     "text": [
      "\n",
      "      Epoch    GPU_mem   box_loss   seg_loss   cls_loss   dfl_loss  Instances       Size\n"
     ]
    },
    {
     "name": "stderr",
     "output_type": "stream",
     "text": [
      "     70/100      4.01G     0.7133      1.261     0.5485      1.011          8        640: 100%|██████████| 465/465 [02:15<00:00,  3.42it/s]\n",
      "                 Class     Images  Instances      Box(P          R      mAP50  mAP50-95)     Mask(P          R      mAP50  mAP50-95): 100%|██████████| 13/13 [00:03<00:00,  3.85it/s]"
     ]
    },
    {
     "name": "stdout",
     "output_type": "stream",
     "text": [
      "                   all        200        249      0.832      0.739      0.764      0.576      0.727      0.639      0.606      0.209\n"
     ]
    },
    {
     "name": "stderr",
     "output_type": "stream",
     "text": [
      "\n"
     ]
    },
    {
     "name": "stdout",
     "output_type": "stream",
     "text": [
      "\n",
      "      Epoch    GPU_mem   box_loss   seg_loss   cls_loss   dfl_loss  Instances       Size\n"
     ]
    },
    {
     "name": "stderr",
     "output_type": "stream",
     "text": [
      "     71/100      4.01G     0.7092      1.276     0.5431       1.01         11        640: 100%|██████████| 465/465 [02:11<00:00,  3.54it/s]\n",
      "                 Class     Images  Instances      Box(P          R      mAP50  mAP50-95)     Mask(P          R      mAP50  mAP50-95): 100%|██████████| 13/13 [00:03<00:00,  3.74it/s]"
     ]
    },
    {
     "name": "stdout",
     "output_type": "stream",
     "text": [
      "                   all        200        249       0.84      0.703       0.76       0.56      0.752      0.611      0.587      0.203\n"
     ]
    },
    {
     "name": "stderr",
     "output_type": "stream",
     "text": [
      "\n"
     ]
    },
    {
     "name": "stdout",
     "output_type": "stream",
     "text": [
      "\n",
      "      Epoch    GPU_mem   box_loss   seg_loss   cls_loss   dfl_loss  Instances       Size\n"
     ]
    },
    {
     "name": "stderr",
     "output_type": "stream",
     "text": [
      "     72/100      4.01G     0.7059      1.262     0.5366      1.011         15        640: 100%|██████████| 465/465 [02:14<00:00,  3.46it/s]\n",
      "                 Class     Images  Instances      Box(P          R      mAP50  mAP50-95)     Mask(P          R      mAP50  mAP50-95): 100%|██████████| 13/13 [00:03<00:00,  4.07it/s]"
     ]
    },
    {
     "name": "stdout",
     "output_type": "stream",
     "text": [
      "                   all        200        249      0.867      0.703      0.771      0.564      0.753        0.6      0.585      0.203\n"
     ]
    },
    {
     "name": "stderr",
     "output_type": "stream",
     "text": [
      "\n"
     ]
    },
    {
     "name": "stdout",
     "output_type": "stream",
     "text": [
      "\n",
      "      Epoch    GPU_mem   box_loss   seg_loss   cls_loss   dfl_loss  Instances       Size\n"
     ]
    },
    {
     "name": "stderr",
     "output_type": "stream",
     "text": [
      "     73/100      4.01G     0.6978       1.26     0.5364      1.002         22        640:  38%|███▊      | 178/465 [00:52<01:25,  3.37it/s]"
     ]
    }
   ],
   "source": [
    "model = YOLO('yolov9c-seg.pt')\n",
    "\n",
    "results = model.train(data='crack-seg.yaml', epochs=100, imgsz=640, batch=8, freeze=10, lr0=0.001, workers=0)\n"
   ]
  },
  {
   "cell_type": "code",
   "execution_count": null,
   "id": "7da7ee17",
   "metadata": {},
   "outputs": [],
   "source": []
  }
 ],
 "metadata": {
  "kernelspec": {
   "display_name": "Python 3",
   "language": "python",
   "name": "python3"
  },
  "language_info": {
   "codemirror_mode": {
    "name": "ipython",
    "version": 3
   },
   "file_extension": ".py",
   "mimetype": "text/x-python",
   "name": "python",
   "nbconvert_exporter": "python",
   "pygments_lexer": "ipython3",
   "version": "3.10.14"
  }
 },
 "nbformat": 4,
 "nbformat_minor": 5
}
