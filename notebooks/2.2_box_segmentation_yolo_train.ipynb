{
 "cells": [
  {
   "cell_type": "markdown",
   "id": "4ae0a220",
   "metadata": {
    "jupyter": {
     "is_executing": true
    }
   },
   "source": [
    "# BoXYZ - Train YOLO Carton Box Segmentation \n",
    "\n",
    "⚠️⚠️⚠️ WARNING ⚠️⚠️⚠️ **MAKE SURE YOU DOWNLOADED AND PROCESSED THE SCD CARTON DATASET BY [RUNNING NOTEBOOK 2.1](./2.1_download_preprocess_datasets.ipynb)**\n",
    "\n",
    "Here I train the SCD carton dataset on the instance segmentation task using YOLOv9 (compact) and YOLOv11 (small and medium)"
   ]
  },
  {
   "cell_type": "code",
   "execution_count": null,
   "id": "60aecd0d57822702",
   "metadata": {},
   "outputs": [],
   "source": [
    "!pip install ultralytics"
   ]
  },
  {
   "cell_type": "code",
   "execution_count": null,
   "id": "028e552b",
   "metadata": {},
   "outputs": [],
   "source": [
    "import os\n",
    "\n",
    "from ultralytics import YOLO\n",
    "\n",
    "DS_LOCATION = os.environ.get('DS_LOCATION', 'datasets/segment')"
   ]
  },
  {
   "cell_type": "markdown",
   "id": "da65db8e",
   "metadata": {},
   "source": [
    "---\n",
    "---\n",
    "\n",
    "## OSCD Pretraining + OSCD (4 Labels) Fine-Tuning\n",
    "\n",
    "Pretrain on the OSCD for 17 epochs followed by fine-tuning on the LSCD (4 labels) for 60 epochs"
   ]
  },
  {
   "cell_type": "markdown",
   "id": "6318ef74",
   "metadata": {},
   "source": [
    "### YOLOv9c Segmentation\n"
   ]
  },
  {
   "cell_type": "markdown",
   "id": "ff0438e9",
   "metadata": {},
   "source": [
    "#### Pretrain on OSCD"
   ]
  },
  {
   "cell_type": "code",
   "execution_count": null,
   "id": "2dec886a",
   "metadata": {},
   "outputs": [],
   "source": [
    "training_output_name = \"train_2.2B_1_pt_oscd_yolo9c_epoch17\"\n",
    "model_pt = YOLO('yolov9c-seg.pt')\n",
    "pt_results = model_pt.train(data=os.path.join(DS_LOCATION, 'ultralytics_carton_oscd', 'data.yaml'),\n",
    "                                  name=training_output_name,\n",
    "                                  epochs=17, imgsz=[600,1000], batch=8, nbs=64, freeze=0, lr0=0.001, workers=0)"
   ]
  },
  {
   "cell_type": "markdown",
   "id": "a8a475a1",
   "metadata": {},
   "source": [
    "#### Fine-tune on LSCD (4 labels)"
   ]
  },
  {
   "cell_type": "markdown",
   "id": "527edbfe",
   "metadata": {},
   "source": [
    "Fine-tune on the LSCD after training on the OSCD (fine-tuned YOLOv9).\n",
    "\n",
    "⚠️⚠️⚠️ WARNING ⚠️⚠️⚠️ **ONLY FINE-TUNE AFTER PRETRAINING**\n",
    "\n",
    "**NOTE**: change `training_name` to the name of your training instance `'./runs/segment/{training_name}'`"
   ]
  },
  {
   "cell_type": "code",
   "execution_count": null,
   "id": "28b14c27",
   "metadata": {},
   "outputs": [],
   "source": [
    "training_name = \"train_2.2B_1_pt_oscd_yolo9c_epoch17\"\n",
    "training_output_name = \"train_2.2B_2_ft_lscd_yolo9c_epoch50\"\n",
    "model_ft = YOLO(os.path.join('runs', 'segment', training_name, 'weights', 'best.pt'))\n",
    "ft_results = model_ft.train(data=os.path.join(DS_LOCATION, 'ultralytics_carton_lscd', 'data.yaml'),\n",
    "                            name=training_output_name,\n",
    "                            epochs=60, imgsz=[800, 1033], batch=4, nbs=64, freeze=10, lr0=0.001, workers=0, \n",
    "                            cos_lr=True, lrf=0.00001,\n",
    "                            resume=False)\n"
   ]
  },
  {
   "cell_type": "markdown",
   "id": "b3e2a3ed",
   "metadata": {},
   "source": [
    "### YOLOv11s Segmentation\n"
   ]
  },
  {
   "cell_type": "markdown",
   "id": "ffbcbbe3",
   "metadata": {},
   "source": [
    "#### Pretrain on OSCD"
   ]
  },
  {
   "cell_type": "code",
   "execution_count": null,
   "id": "f6aa5acc",
   "metadata": {},
   "outputs": [],
   "source": [
    "training_output_name = \"train_2.2C_1_pt_oscd_yolo11s_epoch17\"\n",
    "model_pt = YOLO('yolo11s-seg.pt')\n",
    "pt_results = model_pt.train(data=os.path.join(DS_LOCATION, 'ultralytics_carton_oscd', 'data.yaml'),\n",
    "                                  name=training_output_name,\n",
    "                                  epochs=17, imgsz=[600,1000], batch=4, nbs=64, freeze=0, lr0=0.001, workers=0)"
   ]
  },
  {
   "cell_type": "markdown",
   "id": "e728d5ec",
   "metadata": {},
   "source": [
    "#### Fine-tune on LSCD (4 labels)"
   ]
  },
  {
   "cell_type": "markdown",
   "id": "5f388f09",
   "metadata": {},
   "source": [
    "Fine-tune on the LSCD after training on the OSCD (fine-tuned YOLOv11)\n",
    "\n",
    "⚠️⚠️⚠️ WARNING ⚠️⚠️⚠️ **ONLY FINE-TUNE AFTER PRETRAINING**\n",
    "\n",
    "**NOTE**: change `training_name` to the name of your training instance `'./runs/segment/{training_name}'`"
   ]
  },
  {
   "cell_type": "code",
   "execution_count": null,
   "id": "11115674",
   "metadata": {},
   "outputs": [],
   "source": [
    "training_name = \"train_2.2C_1_pt_oscd_yolo11s_epoch17\"\n",
    "training_output_name = \"train_2.2C_2_ft_lscd_yolo11s_epoch60\"\n",
    "model_ft = YOLO(os.path.join('runs', 'segment', training_name, 'weights', 'best.pt'))\n",
    "ft_results = model_ft.train(data=os.path.join(DS_LOCATION, 'ultralytics_carton_lscd', 'data.yaml'),\n",
    "                            name=training_output_name,\n",
    "                            epochs=60, imgsz=[800, 1033], batch=4, nbs=64, freeze=10, lr0=0.001, workers=0, \n",
    "                            cos_lr=True, lrf=0.00001,\n",
    "                            resume=False)\n"
   ]
  },
  {
   "cell_type": "markdown",
   "id": "2165e60b",
   "metadata": {},
   "source": [
    "---\n",
    "\n",
    "### YOLOv11m Segmentation"
   ]
  },
  {
   "cell_type": "markdown",
   "id": "28f05dcf",
   "metadata": {},
   "source": [
    "#### Pretrain on OSCD"
   ]
  },
  {
   "cell_type": "code",
   "execution_count": null,
   "id": "6631faca",
   "metadata": {},
   "outputs": [],
   "source": [
    "training_output_name = \"train_2.2D_1_pt_oscd_yolo11m_epoch17\"\n",
    "model_pt = YOLO('yolo11m-seg.pt')\n",
    "pt_results = model_pt.train(data=os.path.join(DS_LOCATION, 'ultralytics_carton_oscd', 'data.yaml'),\n",
    "                                  name=training_output_name,\n",
    "                                  epochs=17, imgsz=[600,1000], batch=4, nbs=64, freeze=0, lr0=0.001, workers=0)"
   ]
  },
  {
   "cell_type": "markdown",
   "id": "dc1d265a",
   "metadata": {},
   "source": [
    "#### Fine-tune on LSCD (4 labels)"
   ]
  },
  {
   "cell_type": "markdown",
   "id": "973a5920",
   "metadata": {},
   "source": [
    "Fine-tune on the LSCD after training on the OSCD (fine-tuned YOLOv11)\n",
    "\n",
    "⚠️⚠️⚠️ WARNING ⚠️⚠️⚠️ **ONLY FINE-TUNE AFTER PRETRAINING**\n",
    "\n",
    "**NOTE**: change `training_name` to the name of your training instance `'./runs/segment/{training_name}'`"
   ]
  },
  {
   "cell_type": "code",
   "execution_count": null,
   "id": "fd317a76",
   "metadata": {},
   "outputs": [],
   "source": [
    "training_name = \"train_2.2D_1_pt_oscd_yolo11m_epoch17\"\n",
    "training_output_name = \"train_2.2D_2_ft_lscd_yolo11m_epoch60\"\n",
    "model_ft = YOLO(os.path.join('runs', 'segment', training_name, 'weights', 'best.pt'))\n",
    "ft_results = model_ft.train(data=os.path.join(DS_LOCATION, 'ultralytics_carton_lscd', 'data.yaml'),\n",
    "                            name=training_output_name,\n",
    "                            epochs=60, imgsz=[800, 1033], batch=4, nbs=64, freeze=10, lr0=0.001, workers=0, \n",
    "                            cos_lr=True, lrf=0.00001,\n",
    "                            resume=False)\n"
   ]
  },
  {
   "cell_type": "markdown",
   "id": "bd991128",
   "metadata": {},
   "source": [
    "---\n",
    "---\n",
    "\n",
    "\n",
    "## MSCD (OSCD + LSCD 1 Label) Fine-Tuning\n",
    "\n",
    "Fine-tune on the MSCD (1 label) which is a combination of OSCD and LSCD one-class for 12 epochs. This is what I assume the authors of the [SCD paper](https://www.mdpi.com/1424-8220/22/10/3617) trained and evaluated on for the instance segmentation task."
   ]
  },
  {
   "cell_type": "markdown",
   "id": "8e079568",
   "metadata": {},
   "source": [
    "### YOLOv9c Segmentation - Fine-Tune on MSCD\n"
   ]
  },
  {
   "cell_type": "code",
   "execution_count": null,
   "id": "d891b244",
   "metadata": {
    "scrolled": false
   },
   "outputs": [],
   "source": [
    "training_output_name = \"train_2.2E_ft_mscd_yolo9c_epoch12\"\n",
    "model_ft = YOLO('yolov9c-seg.pt')\n",
    "ft_results = model_ft.train(data=os.path.join(DS_LOCATION, 'ultralytics_carton_mscd', 'data.yaml'),\n",
    "                            name=training_output_name,\n",
    "                            epochs=12, imgsz=[800, 1033], batch=4, nbs=64, freeze=10, lr0=0.001, workers=0, \n",
    "                            cos_lr=True, lrf=0.00001,\n",
    "                            resume=False)"
   ]
  },
  {
   "cell_type": "markdown",
   "id": "95e6e2ce",
   "metadata": {},
   "source": [
    "### YOLOv11s Segmentation - Fine-Tune on MSCD\n"
   ]
  },
  {
   "cell_type": "code",
   "execution_count": null,
   "id": "b7cc3c18",
   "metadata": {},
   "outputs": [],
   "source": [
    "training_output_name = \"train_2.2F_ft_mscd_yolo11s_epoch12\"\n",
    "model_ft = YOLO('yolo11s-seg.pt')\n",
    "ft_results = model_ft.train(data=os.path.join(DS_LOCATION, 'ultralytics_carton_mscd', 'data.yaml'),\n",
    "                            name=training_output_name,\n",
    "                            epochs=12, imgsz=[800, 1033], batch=4, nbs=64, freeze=10, lr0=0.001, workers=0, \n",
    "                            cos_lr=True, lrf=0.00001,\n",
    "                            resume=False)"
   ]
  },
  {
   "cell_type": "markdown",
   "id": "728289c0",
   "metadata": {},
   "source": [
    "### YOLOv11m Segmentation - Fine-Tune on MSCD\n"
   ]
  },
  {
   "cell_type": "code",
   "execution_count": null,
   "id": "b5a0a5cd",
   "metadata": {},
   "outputs": [],
   "source": [
    "training_output_name = \"train_2.2G_ft_mscd_yolo11m_epoch12\"\n",
    "model_ft = YOLO('yolo11m-seg.pt')\n",
    "ft_results = model_ft.train(data=os.path.join(DS_LOCATION, 'ultralytics_carton_mscd', 'data.yaml'),\n",
    "                            name=training_output_name,\n",
    "                            epochs=12, imgsz=[800, 1033], batch=4, nbs=64, freeze=10, lr0=0.001, workers=0, \n",
    "                            cos_lr=True, lrf=0.00001,\n",
    "                            resume=False)"
   ]
  }
 ],
 "metadata": {
  "kernelspec": {
   "display_name": "Python 3",
   "language": "python",
   "name": "python3"
  },
  "language_info": {
   "codemirror_mode": {
    "name": "ipython",
    "version": 3
   },
   "file_extension": ".py",
   "mimetype": "text/x-python",
   "name": "python",
   "nbconvert_exporter": "python",
   "pygments_lexer": "ipython3",
   "version": "3.10.14"
  }
 },
 "nbformat": 4,
 "nbformat_minor": 5
}
